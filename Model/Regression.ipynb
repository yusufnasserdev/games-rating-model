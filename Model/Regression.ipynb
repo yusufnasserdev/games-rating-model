{
  "cells": [
    {
      "attachments": {},
      "cell_type": "markdown",
      "metadata": {
        "collapsed": false,
        "id": "er0QnrBCHvsa"
      },
      "source": [
        "# Regression"
      ]
    },
    {
      "attachments": {},
      "cell_type": "markdown",
      "metadata": {
        "id": "dYhdkduKHvsb"
      },
      "source": [
        "## Importing the libraries"
      ]
    },
    {
      "cell_type": "code",
      "execution_count": 2,
      "metadata": {
        "ExecuteTime": {
          "end_time": "2023-04-14T14:19:38.839351Z",
          "start_time": "2023-04-14T14:19:38.815268Z"
        },
        "colab": {
          "base_uri": "https://localhost:8080/"
        },
        "id": "aSZ7Y2KYHvsc",
        "outputId": "78b702ab-bc18-45d2-a027-ba47fd38d7bb"
      },
      "outputs": [],
      "source": [
        "import pandas as pd\n",
        "import numpy as np\n",
        "import pickle\n",
        "\n",
        "import matplotlib.pyplot as plt\n",
        "from matplotlib import cm\n",
        "import plotly.graph_objs as go\n",
        "import seaborn as sns\n",
        "\n",
        "\n",
        "import cv2\n",
        "import csv\n",
        "from bs4 import BeautifulSoup\n",
        "\n",
        "\n",
        "from sklearn.impute import SimpleImputer, MissingIndicator, KNNImputer\n",
        "from sklearn.feature_extraction.text import CountVectorizer\n",
        "from sklearn.model_selection import train_test_split\n",
        "from sklearn.preprocessing import MultiLabelBinarizer, StandardScaler, MinMaxScaler\n",
        "from sklearn.decomposition import PCA\n",
        "from sklearn.feature_selection import SelectKBest, f_regression, mutual_info_regression\n",
        "from sklearn.linear_model import LinearRegression, Ridge, Lasso, ElasticNet\n",
        "from sklearn.preprocessing import PolynomialFeatures\n",
        "from sklearn.metrics import mean_squared_error, r2_score\n",
        "from skimage.feature import local_binary_pattern\n",
        "\n",
        "from lazypredict.Supervised import LazyRegressor, LazyClassifier\n",
        "from category_encoders import TargetEncoder,  CountEncoder\n",
        "\n",
        "import nltk\n",
        "from nltk.sentiment import SentimentIntensityAnalyzer\n",
        "from nltk.corpus import stopwords\n",
        "from textblob import TextBlob\n",
        "import re\n",
        "\n",
        "from datetime import datetime\n",
        "from tqdm import tqdm\n",
        "from scipy import stats\n",
        "\n",
        "import requests\n",
        "import os\n",
        "import shutil\n",
        "\n",
        "import nltk\n",
        "from nltk.sentiment import SentimentIntensityAnalyzer\n",
        "from nltk.corpus import stopwords\n",
        "from textblob import TextBlob\n",
        "import re\n",
        "\n",
        "from datetime import datetime\n",
        "from tqdm import tqdm\n",
        "from scipy import stats\n",
        "\n",
        "import requests\n",
        "import os\n",
        "import shutil\n",
        "\n",
        "import warnings\n",
        "\n",
        "# Download nltk packages if not already downloaded\n",
        "# nltk.download()\n",
        "\n",
        "# nltk.download('stopwords')\n",
        "# nltk.download('wordnet')\n",
        "# nltk.download('omw-1.4')\n",
        "# nltk.download('stopwords')\n",
        "# nltk.download('punkt')\n",
        "# nltk.download('wordnet')\n",
        "# nltk.download('vader_lexicon')\n",
        "\n",
        "stop_words = set(stopwords.words('english'))\n",
        "\n",
        "warnings.filterwarnings('ignore')"
      ]
    },
    {
      "attachments": {},
      "cell_type": "markdown",
      "metadata": {
        "collapsed": false,
        "id": "hv1Te7_-Hvsg"
      },
      "source": [
        "## Load the dataset"
      ]
    },
    {
      "cell_type": "code",
      "execution_count": 3,
      "metadata": {
        "ExecuteTime": {
          "end_time": "2023-04-14T10:33:46.390000Z",
          "start_time": "2023-04-14T10:33:46.279076Z"
        },
        "id": "GaIZuBBIHvsh"
      },
      "outputs": [],
      "source": [
        "df_origin = pd.read_csv('datasets/train/games-regression-dataset.csv')"
      ]
    },
    {
      "attachments": {},
      "cell_type": "markdown",
      "metadata": {
        "id": "eMfXwc88Hvsh"
      },
      "source": [
        "## Data Gathering"
      ]
    },
    {
      "attachments": {},
      "cell_type": "markdown",
      "metadata": {
        "collapsed": false,
        "id": "k8YwULxZHvsh"
      },
      "source": [
        "### Download the icons"
      ]
    },
    {
      "cell_type": "code",
      "execution_count": 4,
      "metadata": {},
      "outputs": [],
      "source": [
        "# Download the images\n",
        "def download_image(url, filename):\n",
        "    r = requests.get(url, stream=True)\n",
        "    if r.status_code == 200:\n",
        "        with open(filename, 'wb') as f:\n",
        "            r.raw.decode_content = True\n",
        "            shutil.copyfileobj(r.raw, f)\n",
        "\n",
        "\n",
        "def download_icons(_df):\n",
        "    # Convert to string\n",
        "    _df['Icon URL'] = _df['Icon URL'].astype(str)\n",
        "\n",
        "    # Create a folder to store the images\n",
        "    if not os.path.exists('icons/train'):\n",
        "        os.makedirs('icons/train')\n",
        "\n",
        "    # Download the images if they don't exist\n",
        "    for i, row in tqdm(_df.iterrows(), total=_df.shape[0]):\n",
        "        if not os.path.exists('icons/train/' + str(i) + '.png'):\n",
        "            download_image(row['Icon URL'], 'icons/train/' + str(i) + '.png')\n",
        "\n",
        "    # Replace the URL with the icon filename which is the index of the row\n",
        "    _df['Icon URL'] = _df.apply(lambda row : f'icons/train/{row.name}.png', axis=1)\n",
        "    \n",
        "    return _df\n"
      ]
    },
    {
      "attachments": {},
      "cell_type": "markdown",
      "metadata": {
        "id": "vakpxzSJHvsk"
      },
      "source": [
        "### Download the reviews"
      ]
    },
    {
      "cell_type": "code",
      "execution_count": 5,
      "metadata": {
        "id": "bYthqi66Hvsk"
      },
      "outputs": [],
      "source": [
        "def web_scrapping(_df):\n",
        "    data = pd.DataFrame(columns=[\"ID\", \"Reviews\"])\n",
        "    \n",
        "    for url, id_value in zip(_df['URL'], _df['ID']):\n",
        "        # Redirect to the reviews page\n",
        "        url += \"?see-all=reviews\"\n",
        "        response = requests.get(url)\n",
        "        \n",
        "        # Check if request was successful\n",
        "        if response.status_code == 200:  \n",
        "            soup = BeautifulSoup(response.text, 'html.parser')\n",
        "            blocks = soup.findAll(\"blockquote\")\n",
        "            review_list = []\n",
        "            for blockquote in blocks:\n",
        "                review = blockquote.find('p').text\n",
        "                review_list.append(review)\n",
        "                \n",
        "            if len(review_list) != 0:\n",
        "                new_row = {'ID': id_value, \"Reviews\": review_list}\n",
        "                data = data.append(new_row, ignore_index=True)\n",
        "    \n",
        "    data.to_csv('datasets/train/reviews.csv', index=False)"
      ]
    },
    {
      "cell_type": "code",
      "execution_count": 6,
      "metadata": {
        "id": "8b_eA5aWHvsl"
      },
      "outputs": [],
      "source": [
        "def reviews_splitting(data):\n",
        "\n",
        "    for i in range (len(data)):\n",
        "        data.at[i, 'Reviews'] = data.at[i, \"Reviews\"].split(\"',\")\n",
        "        data.at[i,\"ID\"] =data.at[i,\"ID\"]\n",
        "        \n",
        "    data = data.explode('Reviews')\n",
        "    return data"
      ]
    },
    {
      "cell_type": "code",
      "execution_count": 7,
      "metadata": {
        "id": "O9WGY_OLHvsl"
      },
      "outputs": [],
      "source": [
        "def reviews_cleaning(data):\n",
        "  # Convert text to lowercase\n",
        "  data['Reviews'] = data['Reviews'].apply(lambda x: str(x).lower())\n",
        "\n",
        "  # Replace newline characters with an empty string\n",
        "  data['Reviews'] = data['Reviews'].apply(lambda x: re.sub(r'\\\\n', ' ', x))\n",
        "\n",
        "  # Remove black squares\n",
        "  data['Reviews'] = data['Reviews'].apply(lambda x: re.sub(r'\\\\u25a0', '', x))\n",
        "\n",
        "  # Remove special characters and punctuations\n",
        "  data['Reviews'] = data['Reviews'].apply(lambda x: re.sub(r'[^\\w\\s]+', '', x))\n",
        "\n",
        "  # Remove numbers\n",
        "  data['Reviews'] = data['Reviews'].apply(lambda x: \" \".join([word for word in x.split() if not any(char.isdigit() for char in word)]))\n",
        "\n",
        "  # Remove extra whitespaces\n",
        "  data['Reviews'] = data['Reviews'].apply(lambda x: re.sub(r'\\s+', ' ', x))\n",
        "\n",
        "  # Remove stop words\n",
        "  data['Reviews'] = data['Reviews'].apply(lambda x: \" \".join([word for word in x.lower().split() if word not in stop_words]))\n",
        "\n",
        "  # Remove empty strings\n",
        "  data = data[data['Reviews'].apply(lambda x: len(x)>0)]\n",
        "  \n",
        "  # Group by ID\n",
        "  data = data.groupby('ID')['Reviews'].apply(list).reset_index()\n",
        "  \n",
        "  return data"
      ]
    },
    {
      "cell_type": "code",
      "execution_count": 8,
      "metadata": {
        "id": "ILz0DEpUHvsm"
      },
      "outputs": [],
      "source": [
        "def download_reviews(_df):\n",
        "\n",
        "    # Web scrapping to get the html of the reviews, Only run once\n",
        "    # web_scrapping(_df)\n",
        "\n",
        "    df_reviews = pd.read_csv('datasets/train/reviews.csv')\n",
        "\n",
        "    df_reviews = reviews_splitting(df_reviews)\n",
        "\n",
        "    df_reviews = reviews_cleaning(df_reviews)\n",
        "\n",
        "    # Merge The Sentiment with the original dataset\n",
        "    _df = _df.merge(df_reviews, on='ID', how='left')\n",
        "\n",
        "    return _df"
      ]
    },
    {
      "attachments": {},
      "cell_type": "markdown",
      "metadata": {
        "collapsed": false,
        "id": "6LHKjpiyHvsn"
      },
      "source": [
        "## Data Exploration"
      ]
    },
    {
      "attachments": {},
      "cell_type": "markdown",
      "metadata": {
        "id": "PIk-60WFHvso"
      },
      "source": [
        "### General information"
      ]
    },
    {
      "cell_type": "code",
      "execution_count": 9,
      "metadata": {
        "ExecuteTime": {
          "end_time": "2023-04-13T16:07:00.183708Z",
          "start_time": "2023-04-13T16:07:00.127616Z"
        },
        "id": "udUwpb-hHvso"
      },
      "outputs": [],
      "source": [
        "# df.head()"
      ]
    },
    {
      "cell_type": "code",
      "execution_count": 10,
      "metadata": {
        "ExecuteTime": {
          "end_time": "2023-04-13T14:33:05.138536Z",
          "start_time": "2023-04-13T14:33:05.138536Z"
        },
        "id": "_hCjHrwzHvso"
      },
      "outputs": [],
      "source": [
        "# df.info()"
      ]
    },
    {
      "cell_type": "code",
      "execution_count": 11,
      "metadata": {
        "ExecuteTime": {
          "end_time": "2023-04-13T14:33:07.893814Z",
          "start_time": "2023-04-13T14:33:07.893814Z"
        },
        "id": "J_hY99liHvsp"
      },
      "outputs": [],
      "source": [
        "# df.isnull().sum()"
      ]
    },
    {
      "attachments": {},
      "cell_type": "markdown",
      "metadata": {
        "id": "oX0TOxVhHvsp"
      },
      "source": [
        "### Genres"
      ]
    },
    {
      "cell_type": "code",
      "execution_count": 12,
      "metadata": {
        "ExecuteTime": {
          "end_time": "2023-04-13T14:33:21.139604Z",
          "start_time": "2023-04-13T14:33:21.139604Z"
        },
        "id": "_0D6Q5nyHvsp"
      },
      "outputs": [],
      "source": [
        "def genres_analysis(_df):\n",
        "    _df['Genres'] = _df['Genres'].astype(str)\n",
        "    _df['Genres'] = _df['Genres'].str.strip('[]').str.replace(\"'\", \"\").str.split(\", \")\n",
        "\n",
        "    genre_counts = _df.explode('Genres').groupby('Genres').size().sort_values(ascending=False)\n",
        "    print(genre_counts)\n"
      ]
    },
    {
      "attachments": {},
      "cell_type": "markdown",
      "metadata": {
        "id": "bnQiH-nyHvsp"
      },
      "source": [
        "### Developer"
      ]
    },
    {
      "cell_type": "code",
      "execution_count": 13,
      "metadata": {
        "ExecuteTime": {
          "end_time": "2023-04-13T14:33:43.637371Z",
          "start_time": "2023-04-13T14:33:43.637371Z"
        },
        "id": "A-iyxVnWHvsq"
      },
      "outputs": [],
      "source": [
        "def dev_analysis(_df):\n",
        "\n",
        "    print(_df['Developer'].value_counts())\n",
        "    \n",
        "    # print the number developers with more than 1 game\n",
        "    print(len(_df['Developer'].value_counts()[_df['Developer'].value_counts() > 1]))\n",
        "\n",
        "    print(_df['Developer'].unique().size)"
      ]
    },
    {
      "attachments": {},
      "cell_type": "markdown",
      "metadata": {
        "id": "pLpXI91_Hvsq"
      },
      "source": [
        "### Dates"
      ]
    },
    {
      "cell_type": "code",
      "execution_count": 14,
      "metadata": {
        "id": "gwLFQHQSHvsq"
      },
      "outputs": [],
      "source": [
        "def date_analysis(_df):\n",
        "    # Plot the distribution of the date columns\n",
        "\n",
        "    fig, ax = plt.subplots(5, 2, figsize=(20, 20))\n",
        "\n",
        "    # df = date_preprocessing(df)\n",
        "\n",
        "    # game_age distribution\n",
        "    sns.histplot(_df['game_age'], ax=ax[0, 0])\n",
        "    sns.boxplot(_df['game_age'], ax=ax[0, 1], orient='h')\n",
        "\n",
        "    # last_update distribution\n",
        "    sns.histplot(_df['last_update'], ax=ax[1, 0])\n",
        "    sns.boxplot(_df['last_update'], ax=ax[1, 1], orient='h')\n",
        "\n",
        "    # Original Release Date distribution\n",
        "    sns.histplot(_df['Original Release Date'], ax=ax[2, 0])\n",
        "    sns.boxplot(_df['Original Release Date'], ax=ax[2, 1], orient='h')\n",
        "\n",
        "    # Current Version Release Date distribution\n",
        "    sns.histplot(_df['Current Version Release Date'], ax=ax[3, 0])\n",
        "    sns.boxplot(_df['Current Version Release Date'], ax=ax[3, 1], orient='h')\n",
        "\n",
        "    # maintaning_period distribution\n",
        "    sns.histplot(_df['maintaning_period'], ax=ax[4, 0])\n",
        "    sns.boxplot(_df['maintaning_period'], ax=ax[4, 1], orient='h')\n",
        "\n",
        "    plt.show()\n",
        "\n",
        "# Date outliers are legitimate data points that are worth keeping, they are not errors nor anomalies"
      ]
    },
    {
      "attachments": {},
      "cell_type": "markdown",
      "metadata": {
        "id": "jJxiCYoXHvsr"
      },
      "source": [
        "### Languages"
      ]
    },
    {
      "cell_type": "code",
      "execution_count": 15,
      "metadata": {
        "ExecuteTime": {
          "end_time": "2023-04-13T14:33:49.943309Z",
          "start_time": "2023-04-13T14:33:49.943309Z"
        },
        "id": "XULWiDzHHvsr"
      },
      "outputs": [],
      "source": [
        "def lang_analysis(_df):\n",
        "    _df['Languages'] = _df['Languages'].astype(str)\n",
        "    _df['Languages'] = _df['Languages'].str.strip('[]').str.replace(\"'\", \"\").str.split(\", \")\n",
        "\n",
        "    langs_counts = _df.explode('Languages').groupby('Languages').size().sort_values(ascending=False)\n",
        "    print(langs_counts[1:30])\n"
      ]
    },
    {
      "cell_type": "code",
      "execution_count": 16,
      "metadata": {
        "id": "h-cVy1UEHvss"
      },
      "outputs": [],
      "source": [
        "# df.hist(figsize=(15, 15))"
      ]
    },
    {
      "attachments": {},
      "cell_type": "markdown",
      "metadata": {
        "collapsed": false,
        "id": "ov19V8buHvss"
      },
      "source": [
        "## Dates preprocessing"
      ]
    },
    {
      "cell_type": "code",
      "execution_count": 17,
      "metadata": {
        "ExecuteTime": {
          "end_time": "2023-04-14T10:36:05.737187Z",
          "start_time": "2023-04-14T10:36:05.699973Z"
        },
        "id": "OiCX3NwvHvss"
      },
      "outputs": [],
      "source": [
        "def date_preprocess(_df, test=False):\n",
        "        # Use dateparse to parse the dates\n",
        "    _df['Original Release Date'] = pd.to_datetime(\n",
        "        _df['Original Release Date'], format='%d/%m/%Y', errors='coerce')\n",
        "    _df['Current Version Release Date'] = pd.to_datetime(\n",
        "        _df['Current Version Release Date'], format='%d/%m/%Y', errors='coerce')\n",
        "\n",
        "    # Convert the datetime to ordinal\n",
        "    _df['Original Release Date'] = _df['Original Release Date'].apply(\n",
        "        lambda x: x.toordinal() if pd.notnull(x) else np.nan)\n",
        "    _df['Current Version Release Date'] = _df['Current Version Release Date'].apply(\n",
        "        lambda x: x.toordinal() if pd.notnull(x) else np.nan)\n",
        "    \n",
        "    # Impute missing values using simple imputer with median strategy\n",
        "    if test:\n",
        "        simple_imputer = pickle.load(open('imputers/regression/date_simple.pkl', 'rb'))\n",
        "    else:\n",
        "        simple_imputer = SimpleImputer(strategy='median').fit(_df[['Original Release Date', 'Current Version Release Date']])\n",
        "        pickle.dump(simple_imputer, open('imputers/regression/date_simple.pkl', 'wb'))\n",
        "    \n",
        "    _df[['Original Release Date', 'Current Version Release Date']] = simple_imputer.transform(_df[['Original Release Date', 'Current Version Release Date']])\n",
        "    \n",
        "    # Create a new column with the age of the game\n",
        "    _df['game_age'] = datetime.now().toordinal() - _df['Original Release Date']\n",
        "\n",
        "    # Create a new column with the time since the last update\n",
        "    _df['last_update'] = datetime.now().toordinal() - _df['Current Version Release Date']\n",
        "    \n",
        "    # Create a new column with the maintaning period\n",
        "    _df['maintaning_period'] = _df['game_age'] - _df['last_update']\n",
        "\n",
        "    return _df"
      ]
    },
    {
      "attachments": {},
      "cell_type": "markdown",
      "metadata": {
        "collapsed": false,
        "id": "p6ocFra6Hvst"
      },
      "source": [
        "## Developer preprocessing"
      ]
    },
    {
      "attachments": {},
      "cell_type": "markdown",
      "metadata": {
        "id": "IJvJX4g3Hvst"
      },
      "source": [
        "### Target encoding approach"
      ]
    },
    {
      "cell_type": "code",
      "execution_count": 18,
      "metadata": {
        "id": "fQhoy2JOHvst"
      },
      "outputs": [],
      "source": [
        "def dev_preprocess_target_enc(_df, test=False):\n",
        "    \"\"\"Preprocesses and encodes the 'Developer' column using target encoding.\n",
        "\n",
        "    Args:\n",
        "        df (DataFrame): DataFrame (either train or test, depending on the value of test)\n",
        "        test (bool, optional): Boolean flag indicating whether the data is for testing (True) or training (False). Defaults to False.\n",
        "\n",
        "    Returns:\n",
        "        DataFrame: the preprocessed DataFrame with the new 'dev_avg' column\n",
        "    \"\"\"\n",
        "\n",
        "    # Convert Developer column to string\n",
        "    _df['Developer'] = _df['Developer'].astype(str)\n",
        "    _df['Developer'] = _df['Developer'].str.replace(\"'\", \"\").str.strip('[]')  \n",
        "      \n",
        "    # Replace Developers with less than 2 games with 'Other'\n",
        "    if not test:\n",
        "        dev_counts = _df['Developer'].value_counts()\n",
        "        other = dev_counts[dev_counts < 2].index\n",
        "        _df['Developer'] = _df['Developer'].replace(other, np.nan)\n",
        "\n",
        "    # Perform target encoding on Developer column\n",
        "    if test:\n",
        "        te = pickle.load(open('encoders/regression/dev_te.pkl', 'rb'))\n",
        "    else:\n",
        "        te = TargetEncoder(cols=['Developer'], smoothing=20, handle_missing='return_nan').fit(_df[['Developer']], _df['Average User Rating'])\n",
        "        pickle.dump(te, open('encoders/regression/dev_te.pkl', 'wb'))\n",
        "\n",
        "    _df['dev_avg'] = te.transform(_df[['Developer']])\n",
        "    \n",
        "    # Impute missing values using KNN\n",
        "    if test:\n",
        "        knn = pickle.load(open('imputers/regression/dev_knn.pkl', 'rb'))\n",
        "    else:\n",
        "        knn = KNNImputer(n_neighbors=5).fit(_df[['dev_avg']])\n",
        "        pickle.dump(knn, open('imputers/regression/dev_knn.pkl', 'wb'))\n",
        "    \n",
        "    _df['dev_avg'] = knn.transform(_df[['dev_avg']])\n",
        "    _df['dev_avg'] = _df['dev_avg'].astype(float)\n",
        "    \n",
        "    return _df\n"
      ]
    },
    {
      "attachments": {},
      "cell_type": "markdown",
      "metadata": {
        "id": "3eV4TBH1Hvsu"
      },
      "source": [
        "### Frequency encoding approach"
      ]
    },
    {
      "cell_type": "code",
      "execution_count": 19,
      "metadata": {
        "id": "qRZuQNQCHvsu"
      },
      "outputs": [],
      "source": [
        "def dev_preprocess_freq_enc(_df, test):\n",
        "    # Convert to string\n",
        "    _df['Developer'] = _df['Developer'].astype(str)\n",
        "    _df['Developer'] = _df['Developer'].str.replace(\"'\", \"\").str.strip('[]')\n",
        "    \n",
        "    if not test:\n",
        "        ce = CountEncoder(cols=['Developer']).fit(_df[['Developer']])\n",
        "        pickle.dump(ce, open('encoders/regression/dev_ce.pkl', 'wb'))\n",
        "    else:\n",
        "        ce = pickle.load(open('encoders/regression/dev_ce.pkl', 'rb'))\n",
        "    \n",
        "    _df['dev_freq'] = ce.transform(_df[['Developer']])['Developer']\n",
        "        \n",
        "    return _df\n"
      ]
    },
    {
      "attachments": {},
      "cell_type": "markdown",
      "metadata": {
        "collapsed": false,
        "id": "EkJCyNcFHvsu"
      },
      "source": [
        "## Genres preprocessing"
      ]
    },
    {
      "cell_type": "code",
      "execution_count": 20,
      "metadata": {
        "id": "ca_dTu-8Hvs0"
      },
      "outputs": [],
      "source": [
        "def genres_preprocess_dummies(_df, test=False):\n",
        "    # Convert the genres column to a list of strings\n",
        "    _df['Genres'] = _df['Genres'].astype(str)\n",
        "    _df['Genres'] = _df['Genres'].str.strip('[]').str.replace(\"'\", \"\").str.split(\", \")\n",
        "    \n",
        "    # drop Games, Strategy, Entertainment from the Genres column\n",
        "    _df['Genres'] = _df['Genres'].apply(lambda x: [genre for genre in x if genre not in ['Games', 'Strategy', 'Entertainment']])\n",
        "    \n",
        "    if not test:\n",
        "        \n",
        "        # Replace genres with counts less than 100 with 'infrequent' as it would represent a very small percentage of the data (less than 2%)\n",
        "        threshold = _df.shape[0] * 0.02\n",
        "        \n",
        "        other = _df['Genres'].explode().value_counts()[_df['Genres'].explode().value_counts() < threshold].index\n",
        "        _df['Genres'] = _df['Genres'].apply(lambda x: [genre if genre not in other else 'infrequent' for genre in x])\n",
        "        \n",
        "        # Get dummy variables for the genres\n",
        "        genres = pd.get_dummies(_df['Genres'].apply(pd.Series).stack(), prefix=\"genre\", dummy_na=False).sum(level=0)\n",
        "        \n",
        "        # Save the genres dummies to be used on the test set\n",
        "        genres.to_csv('encoders/regression/genres.csv', index=False)\n",
        "    \n",
        "    else:\n",
        "        # Load saved genres dummy variables\n",
        "        saved_dummies = pd.read_csv('encoders/regression/genres.csv')\n",
        "\n",
        "        # Get the genres that are not in the saved dummy variables\n",
        "        other = [genre for genre in _df['Genres'].explode().unique() if genre not in saved_dummies.columns]\n",
        "\n",
        "        # Replace the genres that are not in the saved dummy variables with 'infrequent'\n",
        "        _df['Genres'] = _df['Genres'].apply(lambda x: ['infrequent' if genre in other else genre for genre in x])\n",
        "\n",
        "        # Preprocess test data using the saved dummy variables\n",
        "        genres = pd.get_dummies(_df['Genres'].apply(pd.Series).stack(), prefix=\"genre\", dummy_na=False).sum(level=0)\n",
        "        genres = genres.reindex(columns=saved_dummies.columns, fill_value=0)\n",
        "        \n",
        "        # Fill the dummy columns with 0 if nan\n",
        "        genres = genres.fillna(0)\n",
        "\n",
        "    \n",
        "    # Add the dummy variables to the original dataframe\n",
        "    _df = pd.concat([_df, genres], axis=1)\n",
        "    \n",
        "    # Fill the NaN values with 0\n",
        "    genre_cols = [col for col in _df.columns if col.startswith('genre')] # get all columns with prefix 'genre'\n",
        "    _df[genre_cols] = _df[genre_cols].fillna(0) # fill the NaN values with 0\n",
        "    \n",
        "    return _df\n"
      ]
    },
    {
      "attachments": {},
      "cell_type": "markdown",
      "metadata": {
        "collapsed": false,
        "id": "HXRGNv6yHvs2"
      },
      "source": [
        "## Languages preprocessing"
      ]
    },
    {
      "cell_type": "code",
      "execution_count": 21,
      "metadata": {
        "id": "bH0iEpHMHvs2"
      },
      "outputs": [],
      "source": [
        "def langs_preprocess_dummies(_df, test = False):\n",
        "    # Convert the langs column to a list of strings\n",
        "    _df['Languages'] = _df['Languages'].astype(str)\n",
        "    _df['Languages'] = _df['Languages'].str.strip('[]').str.replace(\"'\", \"\").str.split(\", \")\n",
        "    \n",
        "    # Create a column with the number of languages supported\n",
        "    _df['langs_count'] = _df['Languages'].apply(lambda x: len(x)) \n",
        "    \n",
        "    # drop English from the Languages column\n",
        "    _df['Languages'] = _df['Languages'].apply(lambda x: [lang for lang in x if lang not in ['EN']])\n",
        "    \n",
        "    if not test:\n",
        "        # Replace languages with counts less than 100 with 'infrequent' as it would represent a very small percentage of the data (less than 10%)\n",
        "        threshold = _df.shape[0] * 0.1\n",
        "        \n",
        "        # Replace langs with counts less than 500 with 'infrequent_langs' as it would represent a very small percentage of the data (less than 10%)\n",
        "        other = _df['Languages'].explode().value_counts()[_df['Languages'].explode().value_counts() < threshold].index\n",
        "        _df['Languages'] = _df['Languages'].apply(lambda x: [lang if lang not in other else 'infrequent' for lang in x])\n",
        "\n",
        "        # Get dummy variables for the langs\n",
        "        langs = pd.get_dummies(_df['Languages'].apply(pd.Series).stack(), prefix='lang', dummy_na=False).sum(level=0)\n",
        "\n",
        "        langs.to_csv('encoders/regression/langs.csv', index=False)\n",
        "    else:\n",
        "        saved_dummies = pd.read_csv('encoders/regression/langs.csv')\n",
        "\n",
        "        # Get the languages that are not in the saved dummy variables\n",
        "        other = [lang for lang in _df['Languages'].explode().unique() if lang not in saved_dummies.columns]\n",
        "\n",
        "        # Replace the languages that are not in the saved dummy variables with 'infrequent'\n",
        "        _df['Languages'] = _df['Languages'].apply(lambda x: ['infrequent' if lang in other else lang for lang in x])\n",
        "\n",
        "        # Preprocess test data using the saved dummy variables\n",
        "        langs = pd.get_dummies(_df['Languages'].apply(pd.Series).stack(), prefix=\"lang\", dummy_na=False).sum(level=0)\n",
        "        langs = langs.reindex(columns=saved_dummies.columns, fill_value=0)\n",
        "\n",
        "        # Fill the dummy columns with 0 if nan\n",
        "        langs = langs.fillna(0)\n",
        "\n",
        "    # Add the dummy variables to the original dataframe\n",
        "    _df = pd.concat([_df, langs], axis=1)\n",
        "\n",
        "    # Fill NaN with 0\n",
        "    lang_cols = [col for col in _df.columns if col.startswith('lang')] # get all columns with prefix 'lang'\n",
        "    _df[lang_cols] = _df[lang_cols].fillna(0) # fill NaN with 0 for selected columns\n",
        "    \n",
        "    return _df\n",
        "    \n",
        "    "
      ]
    },
    {
      "attachments": {},
      "cell_type": "markdown",
      "metadata": {
        "collapsed": false,
        "id": "Hl78fXBJHvs3"
      },
      "source": [
        "## In-app Purchases preprocessing"
      ]
    },
    {
      "cell_type": "code",
      "execution_count": 22,
      "metadata": {
        "ExecuteTime": {
          "end_time": "2023-04-14T10:35:52.935497Z",
          "start_time": "2023-04-14T10:35:52.881403Z"
        },
        "id": "FqdX_pJLHvs4"
      },
      "outputs": [],
      "source": [
        "\n",
        "def purchases_preprocess(_df):\n",
        "    # Convert the In-app Purchases column to a list of floats\n",
        "    _df['In-app Purchases'] = _df['In-app Purchases'].astype(str)\n",
        "    _df['In-app Purchases'] = _df['In-app Purchases'].str.strip('[]').str.replace(\"'\", \"\").str.split(\", \")\n",
        "\n",
        "    # Convert to float  \n",
        "    _df['In-app Purchases'] = _df['In-app Purchases'].apply(lambda x: [float(i) for i in x])\n",
        "\n",
        "    # Get the number of in-app purchases\n",
        "    _df['purchases_count'] = _df['In-app Purchases'].apply(lambda x: len(x))\n",
        "\n",
        "    # Get the lowest, highest and average purchase\n",
        "    _df['lowest_purchase'] = _df['In-app Purchases'].apply(lambda x: min(x) if len(x) > 0 else 0)\n",
        "    _df['highest_purchase'] = _df['In-app Purchases'].apply(lambda x: max(x) if len(x) > 0 else 0)\n",
        "    _df['average_purchase'] = _df['In-app Purchases'].apply(lambda x: np.mean(x) if len(x) > 0 else 0)\n",
        "\n",
        "    _df['lowest_purchase'] = _df['lowest_purchase'].fillna(0)\n",
        "    _df['highest_purchase'] = _df['highest_purchase'].fillna(0)\n",
        "    _df['average_purchase'] = _df['average_purchase'].fillna(0)\n",
        "    \n",
        "    return _df"
      ]
    },
    {
      "attachments": {},
      "cell_type": "markdown",
      "metadata": {
        "collapsed": false,
        "id": "NusCKkJqHvs4"
      },
      "source": [
        "## Age Rating & Price preprocessing"
      ]
    },
    {
      "cell_type": "code",
      "execution_count": 23,
      "metadata": {
        "ExecuteTime": {
          "end_time": "2023-04-14T10:36:03.614263Z",
          "start_time": "2023-04-14T10:36:03.579637Z"
        },
        "id": "lQ5mruB9Hvs4"
      },
      "outputs": [],
      "source": [
        "def age_preprocess(_df, test=False):\n",
        "    # Convert to string\n",
        "    _df['Age Rating'] = _df['Age Rating'].astype(str)\n",
        "\n",
        "    # Remove the + sign\n",
        "    _df['Age Rating'] = _df['Age Rating'].str.replace('+', '')\n",
        "\n",
        "    # Convert to int\n",
        "    _df['Age Rating'] = _df['Age Rating'].astype(float)\n",
        "    \n",
        "    # Impute missing values using simple imputer with median strategy\n",
        "    if test:\n",
        "        simple_imputer = pickle.load(open('imputers/regression/age_simple.pkl', 'rb'))\n",
        "    else:\n",
        "        simple_imputer = SimpleImputer(strategy='median').fit(_df[['Age Rating']])\n",
        "        pickle.dump(simple_imputer, open('imputers/regression/age_simple.pkl', 'wb'))\n",
        "    \n",
        "    _df['Age Rating'] = simple_imputer.transform(_df[['Age Rating']])    \n",
        "    return _df"
      ]
    },
    {
      "cell_type": "code",
      "execution_count": 24,
      "metadata": {
        "id": "DAMLBK5SHvs5"
      },
      "outputs": [],
      "source": [
        "def price_preprocess(_df):\n",
        "    # Convert to float\n",
        "    _df['Price'] = _df['Price'].astype(float)\n",
        "\n",
        "    # fill the missing values with 0 (free)\n",
        "    _df['Price'] = _df['Price'].fillna(0)\n",
        "    \n",
        "    return _df"
      ]
    },
    {
      "attachments": {},
      "cell_type": "markdown",
      "metadata": {
        "id": "-_c08Rk-Hvs5"
      },
      "source": [
        "## Description, Name & Subtitle preprocessing"
      ]
    },
    {
      "cell_type": "code",
      "execution_count": 25,
      "metadata": {
        "id": "T8uecIVbHvs6"
      },
      "outputs": [],
      "source": [
        "def compute_excitement_score(text, _sia):\n",
        "    \n",
        "    # compute the polarity scores for the given text\n",
        "    scores = _sia.polarity_scores(text)\n",
        "    \n",
        "    # compute the excitement score as the sum of the positive and negative polarity scores\n",
        "    excitement_score = scores['pos'] + abs(scores['neg'])\n",
        "    \n",
        "    return excitement_score\n",
        "\n",
        "# define a function to compute an attractive score from a given text\n",
        "def compute_attractive_score(text, tokenizer):\n",
        "    # define a list of keywords that might make a game attractive to users\n",
        "    attractive_keywords = ['graphics', 'gameplay', 'storyline', 'characters']\n",
        "    \n",
        "    # tokenize the text into words and count how many attractive keywords appear\n",
        "    words = tokenizer(text.lower())\n",
        "    \n",
        "    num_attractive_keywords = len([word for word in words if word in attractive_keywords])\n",
        "    \n",
        "    # compute the attractive score as the ratio of attractive keywords to total words\n",
        "    attractive_score = num_attractive_keywords / len(words) if len(words) > 0 else 0\n",
        "    \n",
        "    return attractive_score\n",
        "\n",
        "def desc_preprocess(_df, test=False):\n",
        "    _df['Description'] = _df['Description'].astype(str)\n",
        "    \n",
        "    # Create column for number of words in description\n",
        "    _df['desc_word_count'] = _df['Description'].apply(lambda x: len(x.split()))\n",
        "    \n",
        "    if not test:        \n",
        "        # load the Sentiment Intensity Analyzer model from NLTK\n",
        "        sia_desc = SentimentIntensityAnalyzer()\n",
        "        pickle.dump(sia_desc, open('encoders/regression/sia_desc.pkl', 'wb'))\n",
        "\n",
        "        tokenizer = nltk.word_tokenize\n",
        "        pickle.dump(nltk.word_tokenize, open('encoders/regression/desc_tokenizer.pkl', 'wb'))\n",
        "        \n",
        "    else:\n",
        "        sia_desc = pickle.load(open('encoders/regression/sia_desc.pkl', 'rb'))\n",
        "        tokenizer = pickle.load(open('encoders/regression/desc_tokenizer.pkl', 'rb'))\n",
        "    \n",
        "    _df['excitement_score'] = _df['Description'].apply(lambda x : compute_excitement_score(x, sia_desc))\n",
        "    _df['attractive_score'] = _df['Description'].apply(lambda x: compute_attractive_score(x, tokenizer))\n",
        "    \n",
        "    return _df\n",
        "\n",
        "def name_preprocess(_df, test=False):\n",
        "    _df['Name'] = _df['Name'].astype(str)\n",
        "    \n",
        "    # Create column for number of words in subtitle\n",
        "    _df['name_word_count'] = _df['Name'].apply(lambda x: len(str(x).split(\" \")))\n",
        "    \n",
        "    if not test:\n",
        "        sia_name = SentimentIntensityAnalyzer()\n",
        "        pickle.dump(sia_name, open('encoders/regression/sia_name.pkl', 'wb'))\n",
        "    else:\n",
        "        sia_name = pickle.load(open('encoders/regression/sia_name.pkl', 'rb'))\n",
        "    \n",
        "    _df['name_sia'] = _df['Name'].apply(lambda x : compute_excitement_score(x, sia_name))\n",
        "    \n",
        "    return _df\n",
        "\n",
        "def sub_preprocess(_df, test=False):\n",
        "    _df['Subtitle'] = _df['Subtitle'].astype(str)\n",
        "    \n",
        "    # Create column for number of words in subtitle\n",
        "    _df['sub_word_count'] = _df['Subtitle'].apply(lambda x: len(str(x).split(\" \")))\n",
        "    \n",
        "    if not test:\n",
        "        sia_sub = SentimentIntensityAnalyzer()\n",
        "        pickle.dump(sia_sub, open('encoders/regression/sia_sub.pkl', 'wb'))\n",
        "    else:\n",
        "        sia_sub = pickle.load(open('encoders/regression/sia_sub.pkl', 'rb'))\n",
        "    \n",
        "    _df['sub_sia'] = _df['Subtitle'].apply(lambda x : compute_excitement_score(x, sia_sub))\n",
        "    \n",
        "    return _df"
      ]
    },
    {
      "attachments": {},
      "cell_type": "markdown",
      "metadata": {
        "collapsed": false,
        "id": "O_sh2eoIHvs6"
      },
      "source": [
        "## Icon preprocessing"
      ]
    },
    {
      "cell_type": "code",
      "execution_count": 26,
      "metadata": {},
      "outputs": [],
      "source": [
        "def detect_objects(image_path):\n",
        "    \"\"\"\n",
        "    Detect objects in an image and return the number of objects detected.\n",
        "    \n",
        "    https://medium.com/analytics-vidhya/opencv-findcontours-detailed-guide-692ee19eeb18\n",
        "    \n",
        "    Parameters:\n",
        "        image_path (str): The file path of the image to be analyzed.\n",
        "\n",
        "    Returns:\n",
        "        int: The number of objects detected in the image.\n",
        "    \"\"\"\n",
        "    # Load the image\n",
        "    img = cv2.imread(image_path)\n",
        "\n",
        "    # Convert the image to grayscale\n",
        "    gray = cv2.cvtColor(img, cv2.COLOR_BGR2GRAY)\n",
        "\n",
        "    # Apply edge detection to highlight the edges of objects in the image\n",
        "    edges = cv2.Canny(gray, 100, 200)\n",
        "\n",
        "    # Apply a threshold to convert the edge map to a binary image\n",
        "    _, thresh = cv2.threshold(edges, 0, 255, cv2.THRESH_BINARY_INV)\n",
        "\n",
        "    # Find contours in the binary image\n",
        "    contours, _ = cv2.findContours(thresh, cv2.RETR_TREE, cv2.CHAIN_APPROX_SIMPLE)\n",
        "\n",
        "    # Return the number of objects detected\n",
        "    return len(contours)"
      ]
    },
    {
      "cell_type": "code",
      "execution_count": 27,
      "metadata": {
        "ExecuteTime": {
          "end_time": "2023-04-14T10:52:48.299695Z",
          "start_time": "2023-04-14T10:52:13.578629Z"
        },
        "id": "sHunkTDXHvs6"
      },
      "outputs": [],
      "source": [
        "def preprocess_icon(img_path):\n",
        "    \n",
        "    # Load the game icon image\n",
        "    img = cv2.imread(img_path)\n",
        "    img = cv2.resize(img, (32, 32))\n",
        "\n",
        "    # Extract color features using color histograms\n",
        "    img_lab = cv2.cvtColor(img, cv2.COLOR_BGR2LAB)\n",
        "    color_features = []\n",
        "    for i in range(3):\n",
        "        hist = cv2.calcHist([img_lab], [i], None, [256], [0, 256])\n",
        "        color_features.append(hist.ravel())\n",
        "    color_features = np.concatenate(color_features)\n",
        "\n",
        "    # Extract shape features using local binary patterns\n",
        "    gray = cv2.cvtColor(img, cv2.COLOR_BGR2GRAY)\n",
        "    lbp = local_binary_pattern(gray, 8, 1, method='uniform')\n",
        "    hist_lbp, _ = np.histogram(lbp.ravel(), bins=np.arange(0, 10), range=(0, 9))\n",
        "    edge_features = hist_lbp.astype(float)\n",
        "\n",
        "    # Combine the color and shape features into a single feature vector\n",
        "    feature_vector = np.concatenate((color_features, edge_features))\n",
        "\n",
        "    # Normalize the feature vector to have unit length\n",
        "    normalized_feature_vector = feature_vector / np.linalg.norm(feature_vector)\n",
        "    \n",
        "    return normalized_feature_vector\n"
      ]
    },
    {
      "cell_type": "code",
      "execution_count": 28,
      "metadata": {
        "id": "WO7-CjobHvs7"
      },
      "outputs": [],
      "source": [
        "def icons_preprocess(_df, test=False):\n",
        "\n",
        "    # Create a list to store the feature vectors\n",
        "    icon_features = []\n",
        "\n",
        "    _df['Icon URL'] = _df['Icon URL'].astype(str)\n",
        "    _df['icon_objects'] = np.nan\n",
        "\n",
        "    # Iterate over the images and extract the features\n",
        "    for i, row in tqdm(_df.iterrows(), total=_df.shape[0]):\n",
        "        _df.loc[i, 'icon_objects'] = detect_objects(row['Icon URL'])\n",
        "        feature_vec = preprocess_icon(row['Icon URL'])\n",
        "        icon_features.append((row['Icon URL'], feature_vec))\n",
        "        \n",
        "    if not test:\n",
        "        # Apply PCA to reduce the number of features\n",
        "        pca = PCA(n_components=8)\n",
        "        pca.fit([f[1] for f in icon_features])\n",
        "\n",
        "        # Save the pca instance for later use\n",
        "        pickle.dump(pca, open('encoders/regression/icon_pca.pkl', 'wb'))\n",
        "    \n",
        "    else:\n",
        "        pca = pickle.load(open('encoders/regression/icon_pca.pkl', 'rb'))\n",
        "    \n",
        "    reduced_features = pca.transform([f[1] for f in icon_features])\n",
        "\n",
        "    # Convert the reduced features to a dataframe\n",
        "    icon_features_df = pd.DataFrame({'Icon URL': [f[0] for f in icon_features],\n",
        "                                        'Icon1': reduced_features[:,0],\n",
        "                                        'Icon2': reduced_features[:,1],\n",
        "                                        'Icon3': reduced_features[:,2],\n",
        "                                        'Icon4': reduced_features[:,3],\n",
        "                                        'Icon5': reduced_features[:,4],\n",
        "                                        'Icon6': reduced_features[:,5],\n",
        "                                        'Icon7': reduced_features[:,6],\n",
        "                                        'Icon8': reduced_features[:,7],})\n",
        "\n",
        "    \n",
        "    # Merge the icon features with the original dataframe on the icon URL\n",
        "    _df = _df.merge(icon_features_df, on='Icon URL', how='left')\n",
        "    \n",
        "    return _df"
      ]
    },
    {
      "attachments": {},
      "cell_type": "markdown",
      "metadata": {},
      "source": [
        "## Reviews preprocessing"
      ]
    },
    {
      "cell_type": "code",
      "execution_count": 29,
      "metadata": {},
      "outputs": [],
      "source": [
        "def reviews_preprocess(data, test=False):\n",
        "  \n",
        "  # Apply sentiment_analysis\n",
        "  \n",
        "  if test == False:\n",
        "    sia_reviews = SentimentIntensityAnalyzer()\n",
        "    pickle.dump(sia_reviews, open('encoders/regression/sia_reviews.pkl', 'wb'))\n",
        "  else:\n",
        "    sia_reviews = pickle.load(open('encoders/regression/sia_reviews.pkl', 'rb'))\n",
        "  \n",
        "  # Only preprocess the reviews that are not null\n",
        "  data['Reviews'] = data['Reviews'].apply(lambda x: [sia_reviews.polarity_scores(review)['compound'] for review in x] if isinstance(x, list) and len(x)>0 else [])\n",
        "\n",
        "  # Get the lowest, highest and average Reviews\n",
        "  data['lowest_review'] = data['Reviews'].apply(lambda x: min(x) if len(x) > 0 else None)\n",
        "  data['highest_review'] = data['Reviews'].apply(lambda x: max(x) if len(x) > 0 else None)\n",
        "  \n",
        "  # Calculate the average review without the outliers via z-score\n",
        "  data['average_review'] = data['Reviews'].apply(lambda x: np.mean(x) if len(x) > 0 else None)\n",
        "  \n",
        "  # Impute missing values using KNN\n",
        "  if test:\n",
        "    knn_low = pickle.load(open('imputers/regression/review_low_knn.pkl', 'rb'))\n",
        "    knn_high = pickle.load(open('imputers/regression/review_high_knn.pkl', 'rb'))\n",
        "    knn_avg = pickle.load(open('imputers/regression/review_avg_knn.pkl', 'rb'))\n",
        "  else:\n",
        "    knn_low = KNNImputer(n_neighbors=5).fit(data[['lowest_review']])\n",
        "    knn_high = KNNImputer(n_neighbors=5).fit(data[['highest_review']])\n",
        "    knn_avg = KNNImputer(n_neighbors=5).fit(data[['average_review']])\n",
        "\n",
        "    pickle.dump(knn_low, open('imputers/regression/review_low_knn.pkl', 'wb'))\n",
        "    pickle.dump(knn_high, open('imputers/regression/review_high_knn.pkl', 'wb'))\n",
        "    pickle.dump(knn_avg, open('imputers/regression/review_avg_knn.pkl', 'wb'))\n",
        "\n",
        "  data['lowest_review'] = knn_low.transform(data[['lowest_review']])\n",
        "  data['highest_review'] = knn_high.transform(data[['highest_review']])\n",
        "  data['average_review'] = knn_avg.transform(data[['average_review']])\n",
        "  \n",
        "  return data"
      ]
    },
    {
      "attachments": {},
      "cell_type": "markdown",
      "metadata": {},
      "source": [
        "## Size & User Rating Count preprocessing"
      ]
    },
    {
      "cell_type": "code",
      "execution_count": 30,
      "metadata": {},
      "outputs": [],
      "source": [
        "def size_preprocess(_df, test=False):\n",
        "    # Convert to float\n",
        "    _df['Size'] = _df['Size'].astype(float)\n",
        "    \n",
        "      # Impute missing values using KNN\n",
        "    if test:\n",
        "        knn = pickle.load(open('imputers/regression/size_knn.pkl', 'rb'))\n",
        "    else:\n",
        "        knn = KNNImputer(n_neighbors=5).fit(_df[['Size']])\n",
        "        pickle.dump(knn, open('imputers/regression/size_knn.pkl', 'wb'))\n",
        "\n",
        "    _df['Size'] = knn.transform(_df[['Size']])\n",
        "    return _df\n",
        "\n",
        "def user_count_preprocess(_df, test=False):\n",
        "    # Convert to float\n",
        "    _df['User Rating Count'] = _df['User Rating Count'].astype(float)\n",
        "    \n",
        "      # Impute missing values using KNN\n",
        "    if test:\n",
        "        knn = pickle.load(open('imputers/regression/user_count_knn.pkl', 'rb'))\n",
        "    else:\n",
        "        knn = KNNImputer(n_neighbors=5).fit(_df[['User Rating Count']])\n",
        "        pickle.dump(knn, open('imputers/regression/user_count_knn.pkl', 'wb'))\n",
        "\n",
        "    _df['User Rating Count'] = knn.transform(_df[['User Rating Count']])\n",
        "    \n",
        "    return _df"
      ]
    },
    {
      "attachments": {},
      "cell_type": "markdown",
      "metadata": {
        "id": "KFf6bh1WHvs7"
      },
      "source": [
        "## Pipeline"
      ]
    },
    {
      "cell_type": "code",
      "execution_count": 31,
      "metadata": {},
      "outputs": [
        {
          "name": "stderr",
          "output_type": "stream",
          "text": [
            "100%|██████████| 5214/5214 [00:01<00:00, 3146.87it/s]\n"
          ]
        }
      ],
      "source": [
        "df_origin = download_icons(df_origin)\n",
        "df_origin = download_reviews(df_origin)"
      ]
    },
    {
      "cell_type": "code",
      "execution_count": 32,
      "metadata": {
        "id": "zKXKoW2eHvs7"
      },
      "outputs": [],
      "source": [
        "def preprocess_pipeline(_df, test=False):\n",
        "    _df = _df.drop(['Primary Genre', 'ID', 'URL'], axis=1)\n",
        "    \n",
        "    _df = date_preprocess(_df, test)\n",
        "    _df = purchases_preprocess(_df)\n",
        "\n",
        "    _df = age_preprocess(_df, test)\n",
        "    _df = price_preprocess(_df)\n",
        "    \n",
        "    _df = name_preprocess(_df, test)\n",
        "    _df = sub_preprocess(_df, test)\n",
        "    _df = desc_preprocess(_df, test)\n",
        "    # _df = icons_preprocess(_df, test)\n",
        "    \n",
        "    _df = _df.drop(['Name',\n",
        "                    'Subtitle',\n",
        "                    'Description',\n",
        "                    'Icon URL',\n",
        "                    'Languages',\n",
        "                    'Genres',\n",
        "                    'In-app Purchases',\n",
        "                    'Original Release Date',\n",
        "                    'Current Version Release Date'], axis=1)\n",
        "    \n",
        "    # Dropping all the columns that are already preprocessed as they are not needed anymore \n",
        "    # But more importantly for KNN imputation to work\n",
        "    \n",
        "    _df = size_preprocess(_df, test)\n",
        "    _df = user_count_preprocess(_df, test)\n",
        "    \n",
        "    _df = dev_preprocess_freq_enc(_df, test)\n",
        "    _df = dev_preprocess_target_enc(_df, test)\n",
        "    \n",
        "    _df = _df.drop(['Developer'], axis=1)\n",
        "    \n",
        "    _df = reviews_preprocess(_df, test)\n",
        "    _df = _df.drop(['Reviews'], axis=1)\n",
        "    \n",
        "    if not test:\n",
        "        saved_copy = _df.copy()\n",
        "        saved_copy = saved_copy.drop(['Average User Rating'], axis=1)\n",
        "        saved_copy.to_csv('datasets/train/data_ref_regression.csv', index=False)\n",
        "    \n",
        "    return _df"
      ]
    },
    {
      "attachments": {},
      "cell_type": "markdown",
      "metadata": {
        "id": "OPW7EDf-Hvs8"
      },
      "source": [
        "## Scores Plotting"
      ]
    },
    {
      "cell_type": "code",
      "execution_count": 33,
      "metadata": {
        "id": "scChLmTBHvs8"
      },
      "outputs": [],
      "source": [
        "def plot_scores(mse_train, r2_train, mse_test, r2_test):\n",
        "    # Calculate the differences between the training and testing scores\n",
        "    mse_diff =  abs(mse_train - mse_test)\n",
        "    r2_diff = abs(r2_train - r2_test)\n",
        "\n",
        "    # Determine whether each score is better or worse than the other\n",
        "    mse_color = 'green' if mse_diff < 0.1 else 'red'\n",
        "    r2_color = 'green' if r2_diff < 0.1 else 'red'\n",
        "    \n",
        "    # Create a bar plot of the scores with colors based on the value\n",
        "    fig = go.Figure(data=[\n",
        "        go.Bar(name='MSE Train', x=['MSE'], y=[mse_train], marker_color='navy'),\n",
        "        go.Bar(name='MSE Test', x=['MSE'], y=[mse_test], marker_color='blue'),\n",
        "        go.Bar(name='MSE Difference', x=['MSE'], y=[mse_diff], marker_color=mse_color),\n",
        "        go.Bar(name='R2 Train', x=['R2'], y=[r2_train], marker_color='purple'),\n",
        "        go.Bar(name='R2 Test', x=['R2'], y=[r2_test], marker_color='pink'),\n",
        "        go.Bar(name='R2 Difference', x=['R2'], y=[r2_diff], marker_color=r2_color)\n",
        "    ])\n",
        "\n",
        "    # Add labels and title\n",
        "    fig.update_layout(title='Model Performance', xaxis_title='Score Type', yaxis_title='Score')\n",
        "\n",
        "    # Show the plot\n",
        "    fig.show()"
      ]
    },
    {
      "attachments": {},
      "cell_type": "markdown",
      "metadata": {
        "id": "YW1zAhY8Hvs9"
      },
      "source": [
        "## Feature Scaling and Selection"
      ]
    },
    {
      "cell_type": "code",
      "execution_count": 34,
      "metadata": {
        "id": "IPuIVP0lHvs9"
      },
      "outputs": [],
      "source": [
        "# Scale the features\n",
        "\n",
        "def scale_data_std(_df, test=False):\n",
        "    cols = _df.columns\n",
        "    \n",
        "    if not test:\n",
        "        scaler = StandardScaler()\n",
        "        _df = scaler.fit_transform(_df)\n",
        "        \n",
        "        # Save the scaler\n",
        "        pickle.dump(scaler, open('scalers/regression/std_scaler.pkl', 'wb'))\n",
        "    else:\n",
        "        scaler = pickle.load(open('scalers/regression/std_scaler.pkl', 'rb'))\n",
        "        _df = scaler.transform(_df)\n",
        "    \n",
        "    _df = pd.DataFrame(_df, columns=cols)\n",
        "    return _df\n",
        "\n",
        "def scale_data_minmax(_df, test=False):\n",
        "    cols = _df.columns\n",
        "    \n",
        "    if not test:\n",
        "        scaler = MinMaxScaler()\n",
        "        _df = scaler.fit_transform(_df)\n",
        "        \n",
        "        # Save the scaler\n",
        "        pickle.dump(scaler, open('scalers/regression/minmax_scaler.pkl', 'wb'))\n",
        "    \n",
        "    else:\n",
        "        scaler = pickle.load(open('scalers/regression/minmax_scaler.pkl', 'rb'))\n",
        "        _df = scaler.transform(_df)\n",
        "    \n",
        "    _df = pd.DataFrame(_df, columns=cols)\n",
        "    return _df\n"
      ]
    },
    {
      "cell_type": "code",
      "execution_count": 35,
      "metadata": {
        "id": "uG4yGb0YHvs-"
      },
      "outputs": [],
      "source": [
        "def select_features(_df_x, _df_y, num_features=8, test=False):\n",
        "    if not test:\n",
        "        selector = SelectKBest(f_regression, k=num_features)\n",
        "        selector.fit(_df_x, _df_y)\n",
        "        \n",
        "        # Save the selector\n",
        "        pickle.dump(selector, open('encoders/regression/selector.pkl', 'wb'))\n",
        "        \n",
        "    else:\n",
        "        selector = pickle.load(open('encoders/regression/selector.pkl', 'rb'))\n",
        "        \n",
        "    _df_x = selector.transform(_df_x)\n",
        "    \n",
        "    return _df_x"
      ]
    },
    {
      "attachments": {},
      "cell_type": "markdown",
      "metadata": {},
      "source": [
        "## Cross Validation"
      ]
    },
    {
      "cell_type": "code",
      "execution_count": 57,
      "metadata": {},
      "outputs": [
        {
          "name": "stderr",
          "output_type": "stream",
          "text": [
            " 20%|██        | 1/5 [00:33<02:12, 33.13s/it]"
          ]
        },
        {
          "name": "stdout",
          "output_type": "stream",
          "text": [
            "----------------\n",
            "Train MSE: 0.17693283738223153\n",
            "Test MSE: 0.3231078765815775\n",
            "Train R2: 0.5863018440598029\n",
            "Test R2: 0.2842072361335073\n",
            "0.3231078765815775\n",
            "----------------\n"
          ]
        },
        {
          "name": "stderr",
          "output_type": "stream",
          "text": [
            " 40%|████      | 2/5 [01:06<01:39, 33.17s/it]"
          ]
        },
        {
          "name": "stdout",
          "output_type": "stream",
          "text": [
            "----------------\n",
            "Train MSE: 0.17554441561526615\n",
            "Test MSE: 0.33559967036322896\n",
            "Train R2: 0.5954841165184481\n",
            "Test R2: 0.2121010266658807\n",
            "0.33559967036322896\n",
            "----------------\n"
          ]
        },
        {
          "name": "stderr",
          "output_type": "stream",
          "text": [
            " 60%|██████    | 3/5 [01:39<01:06, 33.28s/it]"
          ]
        },
        {
          "name": "stdout",
          "output_type": "stream",
          "text": [
            "----------------\n",
            "Train MSE: 0.1802598755913076\n",
            "Test MSE: 0.32116305574817067\n",
            "Train R2: 0.5762659259646526\n",
            "Test R2: 0.300846389056425\n",
            "0.32116305574817067\n",
            "----------------\n"
          ]
        },
        {
          "name": "stderr",
          "output_type": "stream",
          "text": [
            " 80%|████████  | 4/5 [02:13<00:33, 33.36s/it]"
          ]
        },
        {
          "name": "stdout",
          "output_type": "stream",
          "text": [
            "----------------\n",
            "Train MSE: 0.18165704838295063\n",
            "Test MSE: 0.27614421546162293\n",
            "Train R2: 0.5960943505862532\n",
            "Test R2: 0.23181512384480707\n",
            "0.27614421546162293\n",
            "----------------\n"
          ]
        },
        {
          "name": "stderr",
          "output_type": "stream",
          "text": [
            "100%|██████████| 5/5 [02:46<00:00, 33.34s/it]"
          ]
        },
        {
          "name": "stdout",
          "output_type": "stream",
          "text": [
            "----------------\n",
            "Train MSE: 0.1747044722145527\n",
            "Test MSE: 0.3383530735349801\n",
            "Train R2: 0.5889085799269405\n",
            "Test R2: 0.2646037443716567\n",
            "0.3383530735349801\n",
            "----------------\n",
            "0.318873578337916\n"
          ]
        },
        {
          "name": "stderr",
          "output_type": "stream",
          "text": [
            "\n"
          ]
        },
        {
          "data": {
            "text/plain": [
              "[0.3231078765815775,\n",
              " 0.33559967036322896,\n",
              " 0.32116305574817067,\n",
              " 0.27614421546162293,\n",
              " 0.3383530735349801]"
            ]
          },
          "execution_count": 57,
          "metadata": {},
          "output_type": "execute_result"
        }
      ],
      "source": [
        "from sklearn.svm import SVR\n",
        "from sklearn.model_selection import KFold\n",
        "from sklearn.metrics import confusion_matrix\n",
        "from catboost import CatBoostRegressor\n",
        "from sklearn.ensemble import RandomForestRegressor\n",
        "from sklearn.ensemble import GradientBoostingRegressor\n",
        "import xgboost as xgb\n",
        "\n",
        "# Define the number of folds for cross-validation\n",
        "n_folds = 5\n",
        "\n",
        "# Load your data and target variables into X and y arrays\n",
        "df_cv = df_origin.dropna(subset=['Reviews'])\n",
        "X, y = df_cv.drop('Average User Rating', axis=1), df_cv['Average User Rating']\n",
        "\n",
        "# Instantiate the model object\n",
        "model = GradientBoostingRegressor(\n",
        "          learning_rate=0.01, \n",
        "          max_depth=5, \n",
        "          max_features='sqrt', \n",
        "          min_samples_leaf=1, \n",
        "          min_samples_split=2, \n",
        "          n_estimators=500, \n",
        "          subsample=0.8\n",
        "        )\n",
        "\n",
        "\n",
        "# Create a K-fold cross-validator object\n",
        "kf = KFold(n_splits=n_folds, shuffle=True, random_state=42)\n",
        "\n",
        "# Use a loop to train and test the model on each fold of the data\n",
        "fold_scores = []\n",
        "for train_index, test_index in tqdm(kf.split(X, y), total=n_folds):\n",
        "    # Get the training and testing sets for this fold\n",
        "    _X_train, _X_test = X.iloc[train_index], X.iloc[test_index]\n",
        "    y_train, y_test = y.iloc[train_index], y.iloc[test_index]\n",
        "    \n",
        "    X_train, X_test = _X_train.copy(), _X_test.copy()\n",
        "    \n",
        "    # Join the training data together\n",
        "    X_train = pd.concat([X_train, y_train], axis=1)\n",
        "    X_train = preprocess_pipeline(X_train)\n",
        "    X_train = X_train.drop('Average User Rating', axis=1)\n",
        "    X_train = scale_data_std(X_train)\n",
        "    X_train = select_features(X_train, y_train)\n",
        "    \n",
        "    # Join the testing data together\n",
        "    X_test = pd.concat([X_test, y_test], axis=1)\n",
        "    X_test = preprocess_pipeline(X_test, test=True)\n",
        "    X_test = X_test.drop('Average User Rating', axis=1)\n",
        "    X_test = scale_data_std(X_test, test=True)\n",
        "    X_test = select_features(X_test, y_test, test=True)    \n",
        "    \n",
        "    # Fit the model to the training data\n",
        "    model.fit(X_train, y_train)\n",
        "    \n",
        "    # Print train, test MSE and R2\n",
        "    print('----------------')\n",
        "    print('Train MSE:', mean_squared_error(y_train, model.predict(X_train)))\n",
        "    print('Test MSE:', mean_squared_error(y_test, model.predict(X_test)))\n",
        "    print('Train R2:', r2_score(y_train, model.predict(X_train)))\n",
        "    print('Test R2:', r2_score(y_test, model.predict(X_test)))\n",
        "    \n",
        "    # Calculate the mse for this fold \n",
        "    fold_score = mean_squared_error(y_test, model.predict(X_test))\n",
        "    print(fold_score)\n",
        "    \n",
        "    print('----------------')\n",
        "    fold_scores.append(fold_score)\n",
        "\n",
        "pickle.dump(model, open('models/regression/gb_cv.pkl', 'wb'))\n",
        "# Calculate the average score across all folds\n",
        "print(np.mean(fold_scores))\n",
        "fold_scores\n"
      ]
    },
    {
      "attachments": {},
      "cell_type": "markdown",
      "metadata": {
        "id": "XoNTBxJ1HvtH"
      },
      "source": [
        "## Lazy Predict & Advanced Models"
      ]
    },
    {
      "cell_type": "code",
      "execution_count": 38,
      "metadata": {},
      "outputs": [],
      "source": [
        "# drop the rows with no reviews\n",
        "df_wo_reviews = df_origin.dropna(subset=['Reviews'])\n",
        "\n",
        "df, df_test = train_test_split(df_wo_reviews, test_size=0.2, random_state=42)\n",
        "\n",
        "df = preprocess_pipeline(df)\n",
        "df_test = preprocess_pipeline(df_test, test=True)\n",
        "\n",
        "df_x, df_y = df.drop('Average User Rating', axis=1), df['Average User Rating']\n",
        "df_test_x, df_test_y = df_test.drop('Average User Rating', axis=1), df_test['Average User Rating']"
      ]
    },
    {
      "cell_type": "code",
      "execution_count": 39,
      "metadata": {},
      "outputs": [
        {
          "data": {
            "image/png": "[encoded data removed]",
            "text/plain": [
              "<Figure size 1000x1000 with 1 Axes>"
            ]
          },
          "metadata": {},
          "output_type": "display_data"
        }
      ],
      "source": [
        "# plot correlation matrix between features and target\n",
        "\n",
        "corr = df_x.corrwith(df_y)\n",
        "corr = corr.sort_values(ascending=False)\n",
        "\n",
        "corr = corr[abs(corr) > 0.05]\n",
        "\n",
        "plt.figure(figsize=(10, 10))\n",
        "sns.barplot(x=corr.values, y=corr.index)\n",
        "plt.show()"
      ]
    },
    {
      "cell_type": "code",
      "execution_count": 40,
      "metadata": {},
      "outputs": [],
      "source": [
        "# Scale the features\n",
        "df_x_scaled = scale_data_std(df_x)\n",
        "df_test_x_scaled = scale_data_std(df_test_x, test=True)\n",
        "\n",
        "# Select the features\n",
        "df_x_select = select_features(df_x_scaled, df_y)\n",
        "df_test_x_select = select_features(df_test_x_scaled, df_test_y, test=True)"
      ]
    },
    {
      "cell_type": "code",
      "execution_count": 41,
      "metadata": {},
      "outputs": [
        {
          "name": "stdout",
          "output_type": "stream",
          "text": [
            "game_age\n",
            "last_update\n",
            "purchases_count\n",
            "sub_word_count\n",
            "dev_avg\n",
            "lowest_review\n",
            "highest_review\n",
            "average_review\n"
          ]
        }
      ],
      "source": [
        "# Print the selected features\n",
        "\n",
        "selector = pickle.load(open('encoders/regression/selector.pkl', 'rb'))\n",
        "for i in range(len(selector.get_support())): \n",
        "    if selector.get_support()[i]:\n",
        "        print(df_x.columns[i])"
      ]
    },
    {
      "cell_type": "code",
      "execution_count": 42,
      "metadata": {
        "colab": {
          "base_uri": "https://localhost:8080/"
        },
        "id": "x14Faa_f856r",
        "outputId": "a722617a-49ca-4b5c-832d-f04293e1c56e"
      },
      "outputs": [
        {
          "name": "stderr",
          "output_type": "stream",
          "text": [
            "100%|██████████| 42/42 [01:11<00:00,  1.71s/it]\n"
          ]
        },
        {
          "data": {
            "text/html": [
              "<div>\n",
              "<style scoped>\n",
              "    .dataframe tbody tr th:only-of-type {\n",
              "        vertical-align: middle;\n",
              "    }\n",
              "\n",
              "    .dataframe tbody tr th {\n",
              "        vertical-align: top;\n",
              "    }\n",
              "\n",
              "    .dataframe thead th {\n",
              "        text-align: right;\n",
              "    }\n",
              "</style>\n",
              "<table border=\"1\" class=\"dataframe\">\n",
              "  <thead>\n",
              "    <tr style=\"text-align: right;\">\n",
              "      <th></th>\n",
              "      <th>Adjusted R-Squared</th>\n",
              "      <th>R-Squared</th>\n",
              "      <th>RMSE</th>\n",
              "      <th>Time Taken</th>\n",
              "    </tr>\n",
              "    <tr>\n",
              "      <th>Model</th>\n",
              "      <th></th>\n",
              "      <th></th>\n",
              "      <th></th>\n",
              "      <th></th>\n",
              "    </tr>\n",
              "  </thead>\n",
              "  <tbody>\n",
              "    <tr>\n",
              "      <th>SVR</th>\n",
              "      <td>0.27</td>\n",
              "      <td>0.29</td>\n",
              "      <td>0.57</td>\n",
              "      <td>0.40</td>\n",
              "    </tr>\n",
              "    <tr>\n",
              "      <th>NuSVR</th>\n",
              "      <td>0.27</td>\n",
              "      <td>0.28</td>\n",
              "      <td>0.57</td>\n",
              "      <td>0.33</td>\n",
              "    </tr>\n",
              "    <tr>\n",
              "      <th>GradientBoostingRegressor</th>\n",
              "      <td>0.26</td>\n",
              "      <td>0.27</td>\n",
              "      <td>0.57</td>\n",
              "      <td>0.51</td>\n",
              "    </tr>\n",
              "    <tr>\n",
              "      <th>RandomForestRegressor</th>\n",
              "      <td>0.25</td>\n",
              "      <td>0.27</td>\n",
              "      <td>0.58</td>\n",
              "      <td>1.50</td>\n",
              "    </tr>\n",
              "    <tr>\n",
              "      <th>MLPRegressor</th>\n",
              "      <td>0.25</td>\n",
              "      <td>0.26</td>\n",
              "      <td>0.58</td>\n",
              "      <td>1.65</td>\n",
              "    </tr>\n",
              "    <tr>\n",
              "      <th>ExtraTreesRegressor</th>\n",
              "      <td>0.24</td>\n",
              "      <td>0.25</td>\n",
              "      <td>0.58</td>\n",
              "      <td>0.52</td>\n",
              "    </tr>\n",
              "    <tr>\n",
              "      <th>SGDRegressor</th>\n",
              "      <td>0.23</td>\n",
              "      <td>0.24</td>\n",
              "      <td>0.59</td>\n",
              "      <td>0.01</td>\n",
              "    </tr>\n",
              "    <tr>\n",
              "      <th>LinearRegression</th>\n",
              "      <td>0.23</td>\n",
              "      <td>0.24</td>\n",
              "      <td>0.59</td>\n",
              "      <td>0.01</td>\n",
              "    </tr>\n",
              "    <tr>\n",
              "      <th>Lars</th>\n",
              "      <td>0.23</td>\n",
              "      <td>0.24</td>\n",
              "      <td>0.59</td>\n",
              "      <td>0.02</td>\n",
              "    </tr>\n",
              "    <tr>\n",
              "      <th>TransformedTargetRegressor</th>\n",
              "      <td>0.23</td>\n",
              "      <td>0.24</td>\n",
              "      <td>0.59</td>\n",
              "      <td>0.01</td>\n",
              "    </tr>\n",
              "    <tr>\n",
              "      <th>Ridge</th>\n",
              "      <td>0.23</td>\n",
              "      <td>0.24</td>\n",
              "      <td>0.59</td>\n",
              "      <td>0.01</td>\n",
              "    </tr>\n",
              "    <tr>\n",
              "      <th>RidgeCV</th>\n",
              "      <td>0.23</td>\n",
              "      <td>0.24</td>\n",
              "      <td>0.59</td>\n",
              "      <td>0.01</td>\n",
              "    </tr>\n",
              "    <tr>\n",
              "      <th>BayesianRidge</th>\n",
              "      <td>0.23</td>\n",
              "      <td>0.24</td>\n",
              "      <td>0.59</td>\n",
              "      <td>0.11</td>\n",
              "    </tr>\n",
              "    <tr>\n",
              "      <th>LassoLarsIC</th>\n",
              "      <td>0.23</td>\n",
              "      <td>0.24</td>\n",
              "      <td>0.59</td>\n",
              "      <td>0.02</td>\n",
              "    </tr>\n",
              "    <tr>\n",
              "      <th>ElasticNetCV</th>\n",
              "      <td>0.23</td>\n",
              "      <td>0.24</td>\n",
              "      <td>0.59</td>\n",
              "      <td>0.09</td>\n",
              "    </tr>\n",
              "    <tr>\n",
              "      <th>LassoCV</th>\n",
              "      <td>0.23</td>\n",
              "      <td>0.24</td>\n",
              "      <td>0.59</td>\n",
              "      <td>0.09</td>\n",
              "    </tr>\n",
              "    <tr>\n",
              "      <th>LarsCV</th>\n",
              "      <td>0.23</td>\n",
              "      <td>0.24</td>\n",
              "      <td>0.59</td>\n",
              "      <td>0.02</td>\n",
              "    </tr>\n",
              "    <tr>\n",
              "      <th>LassoLarsCV</th>\n",
              "      <td>0.23</td>\n",
              "      <td>0.24</td>\n",
              "      <td>0.59</td>\n",
              "      <td>0.03</td>\n",
              "    </tr>\n",
              "    <tr>\n",
              "      <th>OrthogonalMatchingPursuitCV</th>\n",
              "      <td>0.22</td>\n",
              "      <td>0.24</td>\n",
              "      <td>0.59</td>\n",
              "      <td>0.02</td>\n",
              "    </tr>\n",
              "    <tr>\n",
              "      <th>PoissonRegressor</th>\n",
              "      <td>0.22</td>\n",
              "      <td>0.23</td>\n",
              "      <td>0.59</td>\n",
              "      <td>0.01</td>\n",
              "    </tr>\n",
              "    <tr>\n",
              "      <th>HuberRegressor</th>\n",
              "      <td>0.22</td>\n",
              "      <td>0.23</td>\n",
              "      <td>0.59</td>\n",
              "      <td>0.03</td>\n",
              "    </tr>\n",
              "    <tr>\n",
              "      <th>BaggingRegressor</th>\n",
              "      <td>0.22</td>\n",
              "      <td>0.23</td>\n",
              "      <td>0.59</td>\n",
              "      <td>0.16</td>\n",
              "    </tr>\n",
              "    <tr>\n",
              "      <th>LinearSVR</th>\n",
              "      <td>0.21</td>\n",
              "      <td>0.23</td>\n",
              "      <td>0.59</td>\n",
              "      <td>0.03</td>\n",
              "    </tr>\n",
              "    <tr>\n",
              "      <th>LGBMRegressor</th>\n",
              "      <td>0.21</td>\n",
              "      <td>0.22</td>\n",
              "      <td>0.59</td>\n",
              "      <td>0.13</td>\n",
              "    </tr>\n",
              "    <tr>\n",
              "      <th>HistGradientBoostingRegressor</th>\n",
              "      <td>0.21</td>\n",
              "      <td>0.22</td>\n",
              "      <td>0.59</td>\n",
              "      <td>0.59</td>\n",
              "    </tr>\n",
              "    <tr>\n",
              "      <th>GammaRegressor</th>\n",
              "      <td>0.20</td>\n",
              "      <td>0.21</td>\n",
              "      <td>0.60</td>\n",
              "      <td>0.02</td>\n",
              "    </tr>\n",
              "    <tr>\n",
              "      <th>TweedieRegressor</th>\n",
              "      <td>0.20</td>\n",
              "      <td>0.21</td>\n",
              "      <td>0.60</td>\n",
              "      <td>0.01</td>\n",
              "    </tr>\n",
              "    <tr>\n",
              "      <th>XGBRegressor</th>\n",
              "      <td>0.19</td>\n",
              "      <td>0.20</td>\n",
              "      <td>0.60</td>\n",
              "      <td>0.20</td>\n",
              "    </tr>\n",
              "    <tr>\n",
              "      <th>KNeighborsRegressor</th>\n",
              "      <td>0.17</td>\n",
              "      <td>0.18</td>\n",
              "      <td>0.61</td>\n",
              "      <td>0.04</td>\n",
              "    </tr>\n",
              "    <tr>\n",
              "      <th>OrthogonalMatchingPursuit</th>\n",
              "      <td>0.09</td>\n",
              "      <td>0.10</td>\n",
              "      <td>0.64</td>\n",
              "      <td>0.01</td>\n",
              "    </tr>\n",
              "    <tr>\n",
              "      <th>RANSACRegressor</th>\n",
              "      <td>0.07</td>\n",
              "      <td>0.08</td>\n",
              "      <td>0.64</td>\n",
              "      <td>0.16</td>\n",
              "    </tr>\n",
              "    <tr>\n",
              "      <th>AdaBoostRegressor</th>\n",
              "      <td>0.00</td>\n",
              "      <td>0.02</td>\n",
              "      <td>0.67</td>\n",
              "      <td>0.12</td>\n",
              "    </tr>\n",
              "    <tr>\n",
              "      <th>DummyRegressor</th>\n",
              "      <td>-0.01</td>\n",
              "      <td>-0.00</td>\n",
              "      <td>0.67</td>\n",
              "      <td>0.01</td>\n",
              "    </tr>\n",
              "    <tr>\n",
              "      <th>ElasticNet</th>\n",
              "      <td>-0.01</td>\n",
              "      <td>-0.00</td>\n",
              "      <td>0.67</td>\n",
              "      <td>0.02</td>\n",
              "    </tr>\n",
              "    <tr>\n",
              "      <th>LassoLars</th>\n",
              "      <td>-0.01</td>\n",
              "      <td>-0.00</td>\n",
              "      <td>0.67</td>\n",
              "      <td>0.01</td>\n",
              "    </tr>\n",
              "    <tr>\n",
              "      <th>Lasso</th>\n",
              "      <td>-0.01</td>\n",
              "      <td>-0.00</td>\n",
              "      <td>0.67</td>\n",
              "      <td>0.01</td>\n",
              "    </tr>\n",
              "    <tr>\n",
              "      <th>PassiveAggressiveRegressor</th>\n",
              "      <td>-0.26</td>\n",
              "      <td>-0.24</td>\n",
              "      <td>0.75</td>\n",
              "      <td>0.01</td>\n",
              "    </tr>\n",
              "    <tr>\n",
              "      <th>ExtraTreeRegressor</th>\n",
              "      <td>-0.32</td>\n",
              "      <td>-0.30</td>\n",
              "      <td>0.77</td>\n",
              "      <td>0.02</td>\n",
              "    </tr>\n",
              "    <tr>\n",
              "      <th>QuantileRegressor</th>\n",
              "      <td>-0.32</td>\n",
              "      <td>-0.30</td>\n",
              "      <td>0.77</td>\n",
              "      <td>64.07</td>\n",
              "    </tr>\n",
              "    <tr>\n",
              "      <th>DecisionTreeRegressor</th>\n",
              "      <td>-0.41</td>\n",
              "      <td>-0.39</td>\n",
              "      <td>0.79</td>\n",
              "      <td>0.03</td>\n",
              "    </tr>\n",
              "    <tr>\n",
              "      <th>GaussianProcessRegressor</th>\n",
              "      <td>-22.96</td>\n",
              "      <td>-22.61</td>\n",
              "      <td>3.26</td>\n",
              "      <td>0.46</td>\n",
              "    </tr>\n",
              "    <tr>\n",
              "      <th>KernelRidge</th>\n",
              "      <td>-38.66</td>\n",
              "      <td>-38.08</td>\n",
              "      <td>4.20</td>\n",
              "      <td>0.17</td>\n",
              "    </tr>\n",
              "  </tbody>\n",
              "</table>\n",
              "</div>"
            ],
            "text/plain": [
              "                               Adjusted R-Squared  R-Squared  RMSE  Time Taken\n",
              "Model                                                                         \n",
              "SVR                                          0.27       0.29  0.57        0.40\n",
              "NuSVR                                        0.27       0.28  0.57        0.33\n",
              "GradientBoostingRegressor                    0.26       0.27  0.57        0.51\n",
              "RandomForestRegressor                        0.25       0.27  0.58        1.50\n",
              "MLPRegressor                                 0.25       0.26  0.58        1.65\n",
              "ExtraTreesRegressor                          0.24       0.25  0.58        0.52\n",
              "SGDRegressor                                 0.23       0.24  0.59        0.01\n",
              "LinearRegression                             0.23       0.24  0.59        0.01\n",
              "Lars                                         0.23       0.24  0.59        0.02\n",
              "TransformedTargetRegressor                   0.23       0.24  0.59        0.01\n",
              "Ridge                                        0.23       0.24  0.59        0.01\n",
              "RidgeCV                                      0.23       0.24  0.59        0.01\n",
              "BayesianRidge                                0.23       0.24  0.59        0.11\n",
              "LassoLarsIC                                  0.23       0.24  0.59        0.02\n",
              "ElasticNetCV                                 0.23       0.24  0.59        0.09\n",
              "LassoCV                                      0.23       0.24  0.59        0.09\n",
              "LarsCV                                       0.23       0.24  0.59        0.02\n",
              "LassoLarsCV                                  0.23       0.24  0.59        0.03\n",
              "OrthogonalMatchingPursuitCV                  0.22       0.24  0.59        0.02\n",
              "PoissonRegressor                             0.22       0.23  0.59        0.01\n",
              "HuberRegressor                               0.22       0.23  0.59        0.03\n",
              "BaggingRegressor                             0.22       0.23  0.59        0.16\n",
              "LinearSVR                                    0.21       0.23  0.59        0.03\n",
              "LGBMRegressor                                0.21       0.22  0.59        0.13\n",
              "HistGradientBoostingRegressor                0.21       0.22  0.59        0.59\n",
              "GammaRegressor                               0.20       0.21  0.60        0.02\n",
              "TweedieRegressor                             0.20       0.21  0.60        0.01\n",
              "XGBRegressor                                 0.19       0.20  0.60        0.20\n",
              "KNeighborsRegressor                          0.17       0.18  0.61        0.04\n",
              "OrthogonalMatchingPursuit                    0.09       0.10  0.64        0.01\n",
              "RANSACRegressor                              0.07       0.08  0.64        0.16\n",
              "AdaBoostRegressor                            0.00       0.02  0.67        0.12\n",
              "DummyRegressor                              -0.01      -0.00  0.67        0.01\n",
              "ElasticNet                                  -0.01      -0.00  0.67        0.02\n",
              "LassoLars                                   -0.01      -0.00  0.67        0.01\n",
              "Lasso                                       -0.01      -0.00  0.67        0.01\n",
              "PassiveAggressiveRegressor                  -0.26      -0.24  0.75        0.01\n",
              "ExtraTreeRegressor                          -0.32      -0.30  0.77        0.02\n",
              "QuantileRegressor                           -0.32      -0.30  0.77       64.07\n",
              "DecisionTreeRegressor                       -0.41      -0.39  0.79        0.03\n",
              "GaussianProcessRegressor                   -22.96     -22.61  3.26        0.46\n",
              "KernelRidge                                -38.66     -38.08  4.20        0.17"
            ]
          },
          "execution_count": 42,
          "metadata": {},
          "output_type": "execute_result"
        }
      ],
      "source": [
        "# Run the LazyRegressor to get a list of models and their RMSE scores\n",
        "reg = LazyRegressor(ignore_warnings=True, custom_metric=None)\n",
        "models, predictions = reg.fit(df_x_select, df_test_x_select, df_y, df_test_y)\n",
        "\n",
        "models = models.sort_values(by='RMSE', ascending=True)\n",
        "models"
      ]
    },
    {
      "cell_type": "code",
      "execution_count": 43,
      "metadata": {},
      "outputs": [
        {
          "name": "stdout",
          "output_type": "stream",
          "text": [
            "Training MSE:  0.2805073563174874\n",
            "Training R2:  0.34412753588804323\n",
            "Testing MSE:  0.34282260588765484\n",
            "Testing R2:  0.24053247113497\n"
          ]
        },
        {
          "data": {
            "application/vnd.plotly.v1+json": {
              "config": {
                "plotlyServerURL": "https://plot.ly"
              },
              "data": [
                {
                  "marker": {
                    "color": "navy"
                  },
                  "name": "MSE Train",
                  "type": "bar",
                  "x": [
                    "MSE"
                  ],
                  "y": [
                    0.2805073563174874
                  ]
                },
                {
                  "marker": {
                    "color": "blue"
                  },
                  "name": "MSE Test",
                  "type": "bar",
                  "x": [
                    "MSE"
                  ],
                  "y": [
                    0.34282260588765484
                  ]
                },
                {
                  "marker": {
                    "color": "green"
                  },
                  "name": "MSE Difference",
                  "type": "bar",
                  "x": [
                    "MSE"
                  ],
                  "y": [
                    0.06231524957016743
                  ]
                },
                {
                  "marker": {
                    "color": "purple"
                  },
                  "name": "R2 Train",
                  "type": "bar",
                  "x": [
                    "R2"
                  ],
                  "y": [
                    0.34412753588804323
                  ]
                },
                {
                  "marker": {
                    "color": "pink"
                  },
                  "name": "R2 Test",
                  "type": "bar",
                  "x": [
                    "R2"
                  ],
                  "y": [
                    0.24053247113497
                  ]
                },
                {
                  "marker": {
                    "color": "red"
                  },
                  "name": "R2 Difference",
                  "type": "bar",
                  "x": [
                    "R2"
                  ],
                  "y": [
                    0.10359506475307323
                  ]
                }
              ],
              "layout": {
                "template": {
                  "data": {
                    "bar": [
                      {
                        "error_x": {
                          "color": "#2a3f5f"
                        },
                        "error_y": {
                          "color": "#2a3f5f"
                        },
                        "marker": {
                          "line": {
                            "color": "#E5ECF6",
                            "width": 0.5
                          },
                          "pattern": {
                            "fillmode": "overlay",
                            "size": 10,
                            "solidity": 0.2
                          }
                        },
                        "type": "bar"
                      }
                    ],
                    "barpolar": [
                      {
                        "marker": {
                          "line": {
                            "color": "#E5ECF6",
                            "width": 0.5
                          },
                          "pattern": {
                            "fillmode": "overlay",
                            "size": 10,
                            "solidity": 0.2
                          }
                        },
                        "type": "barpolar"
                      }
                    ],
                    "carpet": [
                      {
                        "aaxis": {
                          "endlinecolor": "#2a3f5f",
                          "gridcolor": "white",
                          "linecolor": "white",
                          "minorgridcolor": "white",
                          "startlinecolor": "#2a3f5f"
                        },
                        "baxis": {
                          "endlinecolor": "#2a3f5f",
                          "gridcolor": "white",
                          "linecolor": "white",
                          "minorgridcolor": "white",
                          "startlinecolor": "#2a3f5f"
                        },
                        "type": "carpet"
                      }
                    ],
                    "choropleth": [
                      {
                        "colorbar": {
                          "outlinewidth": 0,
                          "ticks": ""
                        },
                        "type": "choropleth"
                      }
                    ],
                    "contour": [
                      {
                        "colorbar": {
                          "outlinewidth": 0,
                          "ticks": ""
                        },
                        "colorscale": [
                          [
                            0,
                            "#0d0887"
                          ],
                          [
                            0.1111111111111111,
                            "#46039f"
                          ],
                          [
                            0.2222222222222222,
                            "#7201a8"
                          ],
                          [
                            0.3333333333333333,
                            "#9c179e"
                          ],
                          [
                            0.4444444444444444,
                            "#bd3786"
                          ],
                          [
                            0.5555555555555556,
                            "#d8576b"
                          ],
                          [
                            0.6666666666666666,
                            "#ed7953"
                          ],
                          [
                            0.7777777777777778,
                            "#fb9f3a"
                          ],
                          [
                            0.8888888888888888,
                            "#fdca26"
                          ],
                          [
                            1,
                            "#f0f921"
                          ]
                        ],
                        "type": "contour"
                      }
                    ],
                    "contourcarpet": [
                      {
                        "colorbar": {
                          "outlinewidth": 0,
                          "ticks": ""
                        },
                        "type": "contourcarpet"
                      }
                    ],
                    "heatmap": [
                      {
                        "colorbar": {
                          "outlinewidth": 0,
                          "ticks": ""
                        },
                        "colorscale": [
                          [
                            0,
                            "#0d0887"
                          ],
                          [
                            0.1111111111111111,
                            "#46039f"
                          ],
                          [
                            0.2222222222222222,
                            "#7201a8"
                          ],
                          [
                            0.3333333333333333,
                            "#9c179e"
                          ],
                          [
                            0.4444444444444444,
                            "#bd3786"
                          ],
                          [
                            0.5555555555555556,
                            "#d8576b"
                          ],
                          [
                            0.6666666666666666,
                            "#ed7953"
                          ],
                          [
                            0.7777777777777778,
                            "#fb9f3a"
                          ],
                          [
                            0.8888888888888888,
                            "#fdca26"
                          ],
                          [
                            1,
                            "#f0f921"
                          ]
                        ],
                        "type": "heatmap"
                      }
                    ],
                    "heatmapgl": [
                      {
                        "colorbar": {
                          "outlinewidth": 0,
                          "ticks": ""
                        },
                        "colorscale": [
                          [
                            0,
                            "#0d0887"
                          ],
                          [
                            0.1111111111111111,
                            "#46039f"
                          ],
                          [
                            0.2222222222222222,
                            "#7201a8"
                          ],
                          [
                            0.3333333333333333,
                            "#9c179e"
                          ],
                          [
                            0.4444444444444444,
                            "#bd3786"
                          ],
                          [
                            0.5555555555555556,
                            "#d8576b"
                          ],
                          [
                            0.6666666666666666,
                            "#ed7953"
                          ],
                          [
                            0.7777777777777778,
                            "#fb9f3a"
                          ],
                          [
                            0.8888888888888888,
                            "#fdca26"
                          ],
                          [
                            1,
                            "#f0f921"
                          ]
                        ],
                        "type": "heatmapgl"
                      }
                    ],
                    "histogram": [
                      {
                        "marker": {
                          "pattern": {
                            "fillmode": "overlay",
                            "size": 10,
                            "solidity": 0.2
                          }
                        },
                        "type": "histogram"
                      }
                    ],
                    "histogram2d": [
                      {
                        "colorbar": {
                          "outlinewidth": 0,
                          "ticks": ""
                        },
                        "colorscale": [
                          [
                            0,
                            "#0d0887"
                          ],
                          [
                            0.1111111111111111,
                            "#46039f"
                          ],
                          [
                            0.2222222222222222,
                            "#7201a8"
                          ],
                          [
                            0.3333333333333333,
                            "#9c179e"
                          ],
                          [
                            0.4444444444444444,
                            "#bd3786"
                          ],
                          [
                            0.5555555555555556,
                            "#d8576b"
                          ],
                          [
                            0.6666666666666666,
                            "#ed7953"
                          ],
                          [
                            0.7777777777777778,
                            "#fb9f3a"
                          ],
                          [
                            0.8888888888888888,
                            "#fdca26"
                          ],
                          [
                            1,
                            "#f0f921"
                          ]
                        ],
                        "type": "histogram2d"
                      }
                    ],
                    "histogram2dcontour": [
                      {
                        "colorbar": {
                          "outlinewidth": 0,
                          "ticks": ""
                        },
                        "colorscale": [
                          [
                            0,
                            "#0d0887"
                          ],
                          [
                            0.1111111111111111,
                            "#46039f"
                          ],
                          [
                            0.2222222222222222,
                            "#7201a8"
                          ],
                          [
                            0.3333333333333333,
                            "#9c179e"
                          ],
                          [
                            0.4444444444444444,
                            "#bd3786"
                          ],
                          [
                            0.5555555555555556,
                            "#d8576b"
                          ],
                          [
                            0.6666666666666666,
                            "#ed7953"
                          ],
                          [
                            0.7777777777777778,
                            "#fb9f3a"
                          ],
                          [
                            0.8888888888888888,
                            "#fdca26"
                          ],
                          [
                            1,
                            "#f0f921"
                          ]
                        ],
                        "type": "histogram2dcontour"
                      }
                    ],
                    "mesh3d": [
                      {
                        "colorbar": {
                          "outlinewidth": 0,
                          "ticks": ""
                        },
                        "type": "mesh3d"
                      }
                    ],
                    "parcoords": [
                      {
                        "line": {
                          "colorbar": {
                            "outlinewidth": 0,
                            "ticks": ""
                          }
                        },
                        "type": "parcoords"
                      }
                    ],
                    "pie": [
                      {
                        "automargin": true,
                        "type": "pie"
                      }
                    ],
                    "scatter": [
                      {
                        "fillpattern": {
                          "fillmode": "overlay",
                          "size": 10,
                          "solidity": 0.2
                        },
                        "type": "scatter"
                      }
                    ],
                    "scatter3d": [
                      {
                        "line": {
                          "colorbar": {
                            "outlinewidth": 0,
                            "ticks": ""
                          }
                        },
                        "marker": {
                          "colorbar": {
                            "outlinewidth": 0,
                            "ticks": ""
                          }
                        },
                        "type": "scatter3d"
                      }
                    ],
                    "scattercarpet": [
                      {
                        "marker": {
                          "colorbar": {
                            "outlinewidth": 0,
                            "ticks": ""
                          }
                        },
                        "type": "scattercarpet"
                      }
                    ],
                    "scattergeo": [
                      {
                        "marker": {
                          "colorbar": {
                            "outlinewidth": 0,
                            "ticks": ""
                          }
                        },
                        "type": "scattergeo"
                      }
                    ],
                    "scattergl": [
                      {
                        "marker": {
                          "colorbar": {
                            "outlinewidth": 0,
                            "ticks": ""
                          }
                        },
                        "type": "scattergl"
                      }
                    ],
                    "scattermapbox": [
                      {
                        "marker": {
                          "colorbar": {
                            "outlinewidth": 0,
                            "ticks": ""
                          }
                        },
                        "type": "scattermapbox"
                      }
                    ],
                    "scatterpolar": [
                      {
                        "marker": {
                          "colorbar": {
                            "outlinewidth": 0,
                            "ticks": ""
                          }
                        },
                        "type": "scatterpolar"
                      }
                    ],
                    "scatterpolargl": [
                      {
                        "marker": {
                          "colorbar": {
                            "outlinewidth": 0,
                            "ticks": ""
                          }
                        },
                        "type": "scatterpolargl"
                      }
                    ],
                    "scatterternary": [
                      {
                        "marker": {
                          "colorbar": {
                            "outlinewidth": 0,
                            "ticks": ""
                          }
                        },
                        "type": "scatterternary"
                      }
                    ],
                    "surface": [
                      {
                        "colorbar": {
                          "outlinewidth": 0,
                          "ticks": ""
                        },
                        "colorscale": [
                          [
                            0,
                            "#0d0887"
                          ],
                          [
                            0.1111111111111111,
                            "#46039f"
                          ],
                          [
                            0.2222222222222222,
                            "#7201a8"
                          ],
                          [
                            0.3333333333333333,
                            "#9c179e"
                          ],
                          [
                            0.4444444444444444,
                            "#bd3786"
                          ],
                          [
                            0.5555555555555556,
                            "#d8576b"
                          ],
                          [
                            0.6666666666666666,
                            "#ed7953"
                          ],
                          [
                            0.7777777777777778,
                            "#fb9f3a"
                          ],
                          [
                            0.8888888888888888,
                            "#fdca26"
                          ],
                          [
                            1,
                            "#f0f921"
                          ]
                        ],
                        "type": "surface"
                      }
                    ],
                    "table": [
                      {
                        "cells": {
                          "fill": {
                            "color": "#EBF0F8"
                          },
                          "line": {
                            "color": "white"
                          }
                        },
                        "header": {
                          "fill": {
                            "color": "#C8D4E3"
                          },
                          "line": {
                            "color": "white"
                          }
                        },
                        "type": "table"
                      }
                    ]
                  },
                  "layout": {
                    "annotationdefaults": {
                      "arrowcolor": "#2a3f5f",
                      "arrowhead": 0,
                      "arrowwidth": 1
                    },
                    "autotypenumbers": "strict",
                    "coloraxis": {
                      "colorbar": {
                        "outlinewidth": 0,
                        "ticks": ""
                      }
                    },
                    "colorscale": {
                      "diverging": [
                        [
                          0,
                          "#8e0152"
                        ],
                        [
                          0.1,
                          "#c51b7d"
                        ],
                        [
                          0.2,
                          "#de77ae"
                        ],
                        [
                          0.3,
                          "#f1b6da"
                        ],
                        [
                          0.4,
                          "#fde0ef"
                        ],
                        [
                          0.5,
                          "#f7f7f7"
                        ],
                        [
                          0.6,
                          "#e6f5d0"
                        ],
                        [
                          0.7,
                          "#b8e186"
                        ],
                        [
                          0.8,
                          "#7fbc41"
                        ],
                        [
                          0.9,
                          "#4d9221"
                        ],
                        [
                          1,
                          "#276419"
                        ]
                      ],
                      "sequential": [
                        [
                          0,
                          "#0d0887"
                        ],
                        [
                          0.1111111111111111,
                          "#46039f"
                        ],
                        [
                          0.2222222222222222,
                          "#7201a8"
                        ],
                        [
                          0.3333333333333333,
                          "#9c179e"
                        ],
                        [
                          0.4444444444444444,
                          "#bd3786"
                        ],
                        [
                          0.5555555555555556,
                          "#d8576b"
                        ],
                        [
                          0.6666666666666666,
                          "#ed7953"
                        ],
                        [
                          0.7777777777777778,
                          "#fb9f3a"
                        ],
                        [
                          0.8888888888888888,
                          "#fdca26"
                        ],
                        [
                          1,
                          "#f0f921"
                        ]
                      ],
                      "sequentialminus": [
                        [
                          0,
                          "#0d0887"
                        ],
                        [
                          0.1111111111111111,
                          "#46039f"
                        ],
                        [
                          0.2222222222222222,
                          "#7201a8"
                        ],
                        [
                          0.3333333333333333,
                          "#9c179e"
                        ],
                        [
                          0.4444444444444444,
                          "#bd3786"
                        ],
                        [
                          0.5555555555555556,
                          "#d8576b"
                        ],
                        [
                          0.6666666666666666,
                          "#ed7953"
                        ],
                        [
                          0.7777777777777778,
                          "#fb9f3a"
                        ],
                        [
                          0.8888888888888888,
                          "#fdca26"
                        ],
                        [
                          1,
                          "#f0f921"
                        ]
                      ]
                    },
                    "colorway": [
                      "#636efa",
                      "#EF553B",
                      "#00cc96",
                      "#ab63fa",
                      "#FFA15A",
                      "#19d3f3",
                      "#FF6692",
                      "#B6E880",
                      "#FF97FF",
                      "#FECB52"
                    ],
                    "font": {
                      "color": "#2a3f5f"
                    },
                    "geo": {
                      "bgcolor": "white",
                      "lakecolor": "white",
                      "landcolor": "#E5ECF6",
                      "showlakes": true,
                      "showland": true,
                      "subunitcolor": "white"
                    },
                    "hoverlabel": {
                      "align": "left"
                    },
                    "hovermode": "closest",
                    "mapbox": {
                      "style": "light"
                    },
                    "paper_bgcolor": "white",
                    "plot_bgcolor": "#E5ECF6",
                    "polar": {
                      "angularaxis": {
                        "gridcolor": "white",
                        "linecolor": "white",
                        "ticks": ""
                      },
                      "bgcolor": "#E5ECF6",
                      "radialaxis": {
                        "gridcolor": "white",
                        "linecolor": "white",
                        "ticks": ""
                      }
                    },
                    "scene": {
                      "xaxis": {
                        "backgroundcolor": "#E5ECF6",
                        "gridcolor": "white",
                        "gridwidth": 2,
                        "linecolor": "white",
                        "showbackground": true,
                        "ticks": "",
                        "zerolinecolor": "white"
                      },
                      "yaxis": {
                        "backgroundcolor": "#E5ECF6",
                        "gridcolor": "white",
                        "gridwidth": 2,
                        "linecolor": "white",
                        "showbackground": true,
                        "ticks": "",
                        "zerolinecolor": "white"
                      },
                      "zaxis": {
                        "backgroundcolor": "#E5ECF6",
                        "gridcolor": "white",
                        "gridwidth": 2,
                        "linecolor": "white",
                        "showbackground": true,
                        "ticks": "",
                        "zerolinecolor": "white"
                      }
                    },
                    "shapedefaults": {
                      "line": {
                        "color": "#2a3f5f"
                      }
                    },
                    "ternary": {
                      "aaxis": {
                        "gridcolor": "white",
                        "linecolor": "white",
                        "ticks": ""
                      },
                      "baxis": {
                        "gridcolor": "white",
                        "linecolor": "white",
                        "ticks": ""
                      },
                      "bgcolor": "#E5ECF6",
                      "caxis": {
                        "gridcolor": "white",
                        "linecolor": "white",
                        "ticks": ""
                      }
                    },
                    "title": {
                      "x": 0.05
                    },
                    "xaxis": {
                      "automargin": true,
                      "gridcolor": "white",
                      "linecolor": "white",
                      "ticks": "",
                      "title": {
                        "standoff": 15
                      },
                      "zerolinecolor": "white",
                      "zerolinewidth": 2
                    },
                    "yaxis": {
                      "automargin": true,
                      "gridcolor": "white",
                      "linecolor": "white",
                      "ticks": "",
                      "title": {
                        "standoff": 15
                      },
                      "zerolinecolor": "white",
                      "zerolinewidth": 2
                    }
                  }
                },
                "title": {
                  "text": "Model Performance"
                },
                "xaxis": {
                  "title": {
                    "text": "Score Type"
                  }
                },
                "yaxis": {
                  "title": {
                    "text": "Score"
                  }
                }
              }
            }
          },
          "metadata": {},
          "output_type": "display_data"
        }
      ],
      "source": [
        "# Create a linear regression model\n",
        "model = LinearRegression()\n",
        "\n",
        "# Train the model\n",
        "model.fit(df_x_select, df_y)\n",
        "\n",
        "# Get the training MSE, R2 score, Testing MSE, and R2 score\n",
        "mse_train = mean_squared_error(df_y, model.predict(df_x_select))\n",
        "r2_train = r2_score(df_y, model.predict(df_x_select))\n",
        "mse_test = mean_squared_error(df_test_y, model.predict(df_test_x_select))\n",
        "r2_test = r2_score(df_test_y, model.predict(df_test_x_select))\n",
        "\n",
        "# Print the training MSE and R2 score\n",
        "print('Training MSE: ', mse_train)\n",
        "print('Training R2: ', r2_train)\n",
        "\n",
        "# Print the testing MSE and R2 score\n",
        "print('Testing MSE: ', mse_test)\n",
        "print('Testing R2: ', r2_test)\n",
        "\n",
        "# Display the scores\n",
        "plot_scores(mse_train, r2_train, mse_test, r2_test)\n",
        "\n",
        "# Save the model\n",
        "pickle.dump(model, open('models/regression/lr.pkl', 'wb'))"
      ]
    },
    {
      "cell_type": "code",
      "execution_count": 44,
      "metadata": {},
      "outputs": [
        {
          "name": "stdout",
          "output_type": "stream",
          "text": [
            "Training MSE:  0.28051475458473135\n",
            "Training R2:  0.3441102375190054\n",
            "Testing MSE:  0.34293499915046166\n",
            "Testing R2:  0.24028348220571327\n"
          ]
        },
        {
          "data": {
            "application/vnd.plotly.v1+json": {
              "config": {
                "plotlyServerURL": "https://plot.ly"
              },
              "data": [
                {
                  "marker": {
                    "color": "navy"
                  },
                  "name": "MSE Train",
                  "type": "bar",
                  "x": [
                    "MSE"
                  ],
                  "y": [
                    0.28051475458473135
                  ]
                },
                {
                  "marker": {
                    "color": "blue"
                  },
                  "name": "MSE Test",
                  "type": "bar",
                  "x": [
                    "MSE"
                  ],
                  "y": [
                    0.34293499915046166
                  ]
                },
                {
                  "marker": {
                    "color": "green"
                  },
                  "name": "MSE Difference",
                  "type": "bar",
                  "x": [
                    "MSE"
                  ],
                  "y": [
                    0.06242024456573031
                  ]
                },
                {
                  "marker": {
                    "color": "purple"
                  },
                  "name": "R2 Train",
                  "type": "bar",
                  "x": [
                    "R2"
                  ],
                  "y": [
                    0.3441102375190054
                  ]
                },
                {
                  "marker": {
                    "color": "pink"
                  },
                  "name": "R2 Test",
                  "type": "bar",
                  "x": [
                    "R2"
                  ],
                  "y": [
                    0.24028348220571327
                  ]
                },
                {
                  "marker": {
                    "color": "red"
                  },
                  "name": "R2 Difference",
                  "type": "bar",
                  "x": [
                    "R2"
                  ],
                  "y": [
                    0.10382675531329211
                  ]
                }
              ],
              "layout": {
                "template": {
                  "data": {
                    "bar": [
                      {
                        "error_x": {
                          "color": "#2a3f5f"
                        },
                        "error_y": {
                          "color": "#2a3f5f"
                        },
                        "marker": {
                          "line": {
                            "color": "#E5ECF6",
                            "width": 0.5
                          },
                          "pattern": {
                            "fillmode": "overlay",
                            "size": 10,
                            "solidity": 0.2
                          }
                        },
                        "type": "bar"
                      }
                    ],
                    "barpolar": [
                      {
                        "marker": {
                          "line": {
                            "color": "#E5ECF6",
                            "width": 0.5
                          },
                          "pattern": {
                            "fillmode": "overlay",
                            "size": 10,
                            "solidity": 0.2
                          }
                        },
                        "type": "barpolar"
                      }
                    ],
                    "carpet": [
                      {
                        "aaxis": {
                          "endlinecolor": "#2a3f5f",
                          "gridcolor": "white",
                          "linecolor": "white",
                          "minorgridcolor": "white",
                          "startlinecolor": "#2a3f5f"
                        },
                        "baxis": {
                          "endlinecolor": "#2a3f5f",
                          "gridcolor": "white",
                          "linecolor": "white",
                          "minorgridcolor": "white",
                          "startlinecolor": "#2a3f5f"
                        },
                        "type": "carpet"
                      }
                    ],
                    "choropleth": [
                      {
                        "colorbar": {
                          "outlinewidth": 0,
                          "ticks": ""
                        },
                        "type": "choropleth"
                      }
                    ],
                    "contour": [
                      {
                        "colorbar": {
                          "outlinewidth": 0,
                          "ticks": ""
                        },
                        "colorscale": [
                          [
                            0,
                            "#0d0887"
                          ],
                          [
                            0.1111111111111111,
                            "#46039f"
                          ],
                          [
                            0.2222222222222222,
                            "#7201a8"
                          ],
                          [
                            0.3333333333333333,
                            "#9c179e"
                          ],
                          [
                            0.4444444444444444,
                            "#bd3786"
                          ],
                          [
                            0.5555555555555556,
                            "#d8576b"
                          ],
                          [
                            0.6666666666666666,
                            "#ed7953"
                          ],
                          [
                            0.7777777777777778,
                            "#fb9f3a"
                          ],
                          [
                            0.8888888888888888,
                            "#fdca26"
                          ],
                          [
                            1,
                            "#f0f921"
                          ]
                        ],
                        "type": "contour"
                      }
                    ],
                    "contourcarpet": [
                      {
                        "colorbar": {
                          "outlinewidth": 0,
                          "ticks": ""
                        },
                        "type": "contourcarpet"
                      }
                    ],
                    "heatmap": [
                      {
                        "colorbar": {
                          "outlinewidth": 0,
                          "ticks": ""
                        },
                        "colorscale": [
                          [
                            0,
                            "#0d0887"
                          ],
                          [
                            0.1111111111111111,
                            "#46039f"
                          ],
                          [
                            0.2222222222222222,
                            "#7201a8"
                          ],
                          [
                            0.3333333333333333,
                            "#9c179e"
                          ],
                          [
                            0.4444444444444444,
                            "#bd3786"
                          ],
                          [
                            0.5555555555555556,
                            "#d8576b"
                          ],
                          [
                            0.6666666666666666,
                            "#ed7953"
                          ],
                          [
                            0.7777777777777778,
                            "#fb9f3a"
                          ],
                          [
                            0.8888888888888888,
                            "#fdca26"
                          ],
                          [
                            1,
                            "#f0f921"
                          ]
                        ],
                        "type": "heatmap"
                      }
                    ],
                    "heatmapgl": [
                      {
                        "colorbar": {
                          "outlinewidth": 0,
                          "ticks": ""
                        },
                        "colorscale": [
                          [
                            0,
                            "#0d0887"
                          ],
                          [
                            0.1111111111111111,
                            "#46039f"
                          ],
                          [
                            0.2222222222222222,
                            "#7201a8"
                          ],
                          [
                            0.3333333333333333,
                            "#9c179e"
                          ],
                          [
                            0.4444444444444444,
                            "#bd3786"
                          ],
                          [
                            0.5555555555555556,
                            "#d8576b"
                          ],
                          [
                            0.6666666666666666,
                            "#ed7953"
                          ],
                          [
                            0.7777777777777778,
                            "#fb9f3a"
                          ],
                          [
                            0.8888888888888888,
                            "#fdca26"
                          ],
                          [
                            1,
                            "#f0f921"
                          ]
                        ],
                        "type": "heatmapgl"
                      }
                    ],
                    "histogram": [
                      {
                        "marker": {
                          "pattern": {
                            "fillmode": "overlay",
                            "size": 10,
                            "solidity": 0.2
                          }
                        },
                        "type": "histogram"
                      }
                    ],
                    "histogram2d": [
                      {
                        "colorbar": {
                          "outlinewidth": 0,
                          "ticks": ""
                        },
                        "colorscale": [
                          [
                            0,
                            "#0d0887"
                          ],
                          [
                            0.1111111111111111,
                            "#46039f"
                          ],
                          [
                            0.2222222222222222,
                            "#7201a8"
                          ],
                          [
                            0.3333333333333333,
                            "#9c179e"
                          ],
                          [
                            0.4444444444444444,
                            "#bd3786"
                          ],
                          [
                            0.5555555555555556,
                            "#d8576b"
                          ],
                          [
                            0.6666666666666666,
                            "#ed7953"
                          ],
                          [
                            0.7777777777777778,
                            "#fb9f3a"
                          ],
                          [
                            0.8888888888888888,
                            "#fdca26"
                          ],
                          [
                            1,
                            "#f0f921"
                          ]
                        ],
                        "type": "histogram2d"
                      }
                    ],
                    "histogram2dcontour": [
                      {
                        "colorbar": {
                          "outlinewidth": 0,
                          "ticks": ""
                        },
                        "colorscale": [
                          [
                            0,
                            "#0d0887"
                          ],
                          [
                            0.1111111111111111,
                            "#46039f"
                          ],
                          [
                            0.2222222222222222,
                            "#7201a8"
                          ],
                          [
                            0.3333333333333333,
                            "#9c179e"
                          ],
                          [
                            0.4444444444444444,
                            "#bd3786"
                          ],
                          [
                            0.5555555555555556,
                            "#d8576b"
                          ],
                          [
                            0.6666666666666666,
                            "#ed7953"
                          ],
                          [
                            0.7777777777777778,
                            "#fb9f3a"
                          ],
                          [
                            0.8888888888888888,
                            "#fdca26"
                          ],
                          [
                            1,
                            "#f0f921"
                          ]
                        ],
                        "type": "histogram2dcontour"
                      }
                    ],
                    "mesh3d": [
                      {
                        "colorbar": {
                          "outlinewidth": 0,
                          "ticks": ""
                        },
                        "type": "mesh3d"
                      }
                    ],
                    "parcoords": [
                      {
                        "line": {
                          "colorbar": {
                            "outlinewidth": 0,
                            "ticks": ""
                          }
                        },
                        "type": "parcoords"
                      }
                    ],
                    "pie": [
                      {
                        "automargin": true,
                        "type": "pie"
                      }
                    ],
                    "scatter": [
                      {
                        "fillpattern": {
                          "fillmode": "overlay",
                          "size": 10,
                          "solidity": 0.2
                        },
                        "type": "scatter"
                      }
                    ],
                    "scatter3d": [
                      {
                        "line": {
                          "colorbar": {
                            "outlinewidth": 0,
                            "ticks": ""
                          }
                        },
                        "marker": {
                          "colorbar": {
                            "outlinewidth": 0,
                            "ticks": ""
                          }
                        },
                        "type": "scatter3d"
                      }
                    ],
                    "scattercarpet": [
                      {
                        "marker": {
                          "colorbar": {
                            "outlinewidth": 0,
                            "ticks": ""
                          }
                        },
                        "type": "scattercarpet"
                      }
                    ],
                    "scattergeo": [
                      {
                        "marker": {
                          "colorbar": {
                            "outlinewidth": 0,
                            "ticks": ""
                          }
                        },
                        "type": "scattergeo"
                      }
                    ],
                    "scattergl": [
                      {
                        "marker": {
                          "colorbar": {
                            "outlinewidth": 0,
                            "ticks": ""
                          }
                        },
                        "type": "scattergl"
                      }
                    ],
                    "scattermapbox": [
                      {
                        "marker": {
                          "colorbar": {
                            "outlinewidth": 0,
                            "ticks": ""
                          }
                        },
                        "type": "scattermapbox"
                      }
                    ],
                    "scatterpolar": [
                      {
                        "marker": {
                          "colorbar": {
                            "outlinewidth": 0,
                            "ticks": ""
                          }
                        },
                        "type": "scatterpolar"
                      }
                    ],
                    "scatterpolargl": [
                      {
                        "marker": {
                          "colorbar": {
                            "outlinewidth": 0,
                            "ticks": ""
                          }
                        },
                        "type": "scatterpolargl"
                      }
                    ],
                    "scatterternary": [
                      {
                        "marker": {
                          "colorbar": {
                            "outlinewidth": 0,
                            "ticks": ""
                          }
                        },
                        "type": "scatterternary"
                      }
                    ],
                    "surface": [
                      {
                        "colorbar": {
                          "outlinewidth": 0,
                          "ticks": ""
                        },
                        "colorscale": [
                          [
                            0,
                            "#0d0887"
                          ],
                          [
                            0.1111111111111111,
                            "#46039f"
                          ],
                          [
                            0.2222222222222222,
                            "#7201a8"
                          ],
                          [
                            0.3333333333333333,
                            "#9c179e"
                          ],
                          [
                            0.4444444444444444,
                            "#bd3786"
                          ],
                          [
                            0.5555555555555556,
                            "#d8576b"
                          ],
                          [
                            0.6666666666666666,
                            "#ed7953"
                          ],
                          [
                            0.7777777777777778,
                            "#fb9f3a"
                          ],
                          [
                            0.8888888888888888,
                            "#fdca26"
                          ],
                          [
                            1,
                            "#f0f921"
                          ]
                        ],
                        "type": "surface"
                      }
                    ],
                    "table": [
                      {
                        "cells": {
                          "fill": {
                            "color": "#EBF0F8"
                          },
                          "line": {
                            "color": "white"
                          }
                        },
                        "header": {
                          "fill": {
                            "color": "#C8D4E3"
                          },
                          "line": {
                            "color": "white"
                          }
                        },
                        "type": "table"
                      }
                    ]
                  },
                  "layout": {
                    "annotationdefaults": {
                      "arrowcolor": "#2a3f5f",
                      "arrowhead": 0,
                      "arrowwidth": 1
                    },
                    "autotypenumbers": "strict",
                    "coloraxis": {
                      "colorbar": {
                        "outlinewidth": 0,
                        "ticks": ""
                      }
                    },
                    "colorscale": {
                      "diverging": [
                        [
                          0,
                          "#8e0152"
                        ],
                        [
                          0.1,
                          "#c51b7d"
                        ],
                        [
                          0.2,
                          "#de77ae"
                        ],
                        [
                          0.3,
                          "#f1b6da"
                        ],
                        [
                          0.4,
                          "#fde0ef"
                        ],
                        [
                          0.5,
                          "#f7f7f7"
                        ],
                        [
                          0.6,
                          "#e6f5d0"
                        ],
                        [
                          0.7,
                          "#b8e186"
                        ],
                        [
                          0.8,
                          "#7fbc41"
                        ],
                        [
                          0.9,
                          "#4d9221"
                        ],
                        [
                          1,
                          "#276419"
                        ]
                      ],
                      "sequential": [
                        [
                          0,
                          "#0d0887"
                        ],
                        [
                          0.1111111111111111,
                          "#46039f"
                        ],
                        [
                          0.2222222222222222,
                          "#7201a8"
                        ],
                        [
                          0.3333333333333333,
                          "#9c179e"
                        ],
                        [
                          0.4444444444444444,
                          "#bd3786"
                        ],
                        [
                          0.5555555555555556,
                          "#d8576b"
                        ],
                        [
                          0.6666666666666666,
                          "#ed7953"
                        ],
                        [
                          0.7777777777777778,
                          "#fb9f3a"
                        ],
                        [
                          0.8888888888888888,
                          "#fdca26"
                        ],
                        [
                          1,
                          "#f0f921"
                        ]
                      ],
                      "sequentialminus": [
                        [
                          0,
                          "#0d0887"
                        ],
                        [
                          0.1111111111111111,
                          "#46039f"
                        ],
                        [
                          0.2222222222222222,
                          "#7201a8"
                        ],
                        [
                          0.3333333333333333,
                          "#9c179e"
                        ],
                        [
                          0.4444444444444444,
                          "#bd3786"
                        ],
                        [
                          0.5555555555555556,
                          "#d8576b"
                        ],
                        [
                          0.6666666666666666,
                          "#ed7953"
                        ],
                        [
                          0.7777777777777778,
                          "#fb9f3a"
                        ],
                        [
                          0.8888888888888888,
                          "#fdca26"
                        ],
                        [
                          1,
                          "#f0f921"
                        ]
                      ]
                    },
                    "colorway": [
                      "#636efa",
                      "#EF553B",
                      "#00cc96",
                      "#ab63fa",
                      "#FFA15A",
                      "#19d3f3",
                      "#FF6692",
                      "#B6E880",
                      "#FF97FF",
                      "#FECB52"
                    ],
                    "font": {
                      "color": "#2a3f5f"
                    },
                    "geo": {
                      "bgcolor": "white",
                      "lakecolor": "white",
                      "landcolor": "#E5ECF6",
                      "showlakes": true,
                      "showland": true,
                      "subunitcolor": "white"
                    },
                    "hoverlabel": {
                      "align": "left"
                    },
                    "hovermode": "closest",
                    "mapbox": {
                      "style": "light"
                    },
                    "paper_bgcolor": "white",
                    "plot_bgcolor": "#E5ECF6",
                    "polar": {
                      "angularaxis": {
                        "gridcolor": "white",
                        "linecolor": "white",
                        "ticks": ""
                      },
                      "bgcolor": "#E5ECF6",
                      "radialaxis": {
                        "gridcolor": "white",
                        "linecolor": "white",
                        "ticks": ""
                      }
                    },
                    "scene": {
                      "xaxis": {
                        "backgroundcolor": "#E5ECF6",
                        "gridcolor": "white",
                        "gridwidth": 2,
                        "linecolor": "white",
                        "showbackground": true,
                        "ticks": "",
                        "zerolinecolor": "white"
                      },
                      "yaxis": {
                        "backgroundcolor": "#E5ECF6",
                        "gridcolor": "white",
                        "gridwidth": 2,
                        "linecolor": "white",
                        "showbackground": true,
                        "ticks": "",
                        "zerolinecolor": "white"
                      },
                      "zaxis": {
                        "backgroundcolor": "#E5ECF6",
                        "gridcolor": "white",
                        "gridwidth": 2,
                        "linecolor": "white",
                        "showbackground": true,
                        "ticks": "",
                        "zerolinecolor": "white"
                      }
                    },
                    "shapedefaults": {
                      "line": {
                        "color": "#2a3f5f"
                      }
                    },
                    "ternary": {
                      "aaxis": {
                        "gridcolor": "white",
                        "linecolor": "white",
                        "ticks": ""
                      },
                      "baxis": {
                        "gridcolor": "white",
                        "linecolor": "white",
                        "ticks": ""
                      },
                      "bgcolor": "#E5ECF6",
                      "caxis": {
                        "gridcolor": "white",
                        "linecolor": "white",
                        "ticks": ""
                      }
                    },
                    "title": {
                      "x": 0.05
                    },
                    "xaxis": {
                      "automargin": true,
                      "gridcolor": "white",
                      "linecolor": "white",
                      "ticks": "",
                      "title": {
                        "standoff": 15
                      },
                      "zerolinecolor": "white",
                      "zerolinewidth": 2
                    },
                    "yaxis": {
                      "automargin": true,
                      "gridcolor": "white",
                      "linecolor": "white",
                      "ticks": "",
                      "title": {
                        "standoff": 15
                      },
                      "zerolinecolor": "white",
                      "zerolinewidth": 2
                    }
                  }
                },
                "title": {
                  "text": "Model Performance"
                },
                "xaxis": {
                  "title": {
                    "text": "Score Type"
                  }
                },
                "yaxis": {
                  "title": {
                    "text": "Score"
                  }
                }
              }
            }
          },
          "metadata": {},
          "output_type": "display_data"
        }
      ],
      "source": [
        "# Create an elastic net regression model\n",
        "model = ElasticNet(alpha=0.001)\n",
        "\n",
        "# Train the model\n",
        "model.fit(df_x_select, df_y)\n",
        "\n",
        "# Get the training MSE, R2 score, Testing MSE, and R2 score\n",
        "mse_train = mean_squared_error(df_y, model.predict(df_x_select))\n",
        "r2_train = r2_score(df_y, model.predict(df_x_select))\n",
        "mse_test = mean_squared_error(df_test_y, model.predict(df_test_x_select))\n",
        "r2_test = r2_score(df_test_y, model.predict(df_test_x_select))\n",
        "\n",
        "# Print the training MSE and R2 score\n",
        "print('Training MSE: ', mse_train)\n",
        "print('Training R2: ', r2_train)\n",
        "\n",
        "# Print the testing MSE and R2 score\n",
        "print('Testing MSE: ', mse_test)\n",
        "print('Testing R2: ', r2_test)\n",
        "\n",
        "# Display the scores\n",
        "plot_scores(mse_train, r2_train, mse_test, r2_test)\n",
        "\n",
        "# Save the model\n",
        "pickle.dump(model, open('models/regression/elastic_net.pkl', 'wb'))\n"
      ]
    },
    {
      "cell_type": "code",
      "execution_count": 45,
      "metadata": {},
      "outputs": [
        {
          "name": "stdout",
          "output_type": "stream",
          "text": [
            "Training MSE:  0.2630354357115818\n",
            "Training R2:  0.38497976796852285\n",
            "Testing MSE:  0.32453291614287727\n",
            "Testing R2:  0.2810502935761374\n"
          ]
        },
        {
          "data": {
            "application/vnd.plotly.v1+json": {
              "config": {
                "plotlyServerURL": "https://plot.ly"
              },
              "data": [
                {
                  "marker": {
                    "color": "navy"
                  },
                  "name": "MSE Train",
                  "type": "bar",
                  "x": [
                    "MSE"
                  ],
                  "y": [
                    0.2630354357115818
                  ]
                },
                {
                  "marker": {
                    "color": "blue"
                  },
                  "name": "MSE Test",
                  "type": "bar",
                  "x": [
                    "MSE"
                  ],
                  "y": [
                    0.32453291614287727
                  ]
                },
                {
                  "marker": {
                    "color": "green"
                  },
                  "name": "MSE Difference",
                  "type": "bar",
                  "x": [
                    "MSE"
                  ],
                  "y": [
                    0.06149748043129549
                  ]
                },
                {
                  "marker": {
                    "color": "purple"
                  },
                  "name": "R2 Train",
                  "type": "bar",
                  "x": [
                    "R2"
                  ],
                  "y": [
                    0.38497976796852285
                  ]
                },
                {
                  "marker": {
                    "color": "pink"
                  },
                  "name": "R2 Test",
                  "type": "bar",
                  "x": [
                    "R2"
                  ],
                  "y": [
                    0.2810502935761374
                  ]
                },
                {
                  "marker": {
                    "color": "red"
                  },
                  "name": "R2 Difference",
                  "type": "bar",
                  "x": [
                    "R2"
                  ],
                  "y": [
                    0.10392947439238542
                  ]
                }
              ],
              "layout": {
                "template": {
                  "data": {
                    "bar": [
                      {
                        "error_x": {
                          "color": "#2a3f5f"
                        },
                        "error_y": {
                          "color": "#2a3f5f"
                        },
                        "marker": {
                          "line": {
                            "color": "#E5ECF6",
                            "width": 0.5
                          },
                          "pattern": {
                            "fillmode": "overlay",
                            "size": 10,
                            "solidity": 0.2
                          }
                        },
                        "type": "bar"
                      }
                    ],
                    "barpolar": [
                      {
                        "marker": {
                          "line": {
                            "color": "#E5ECF6",
                            "width": 0.5
                          },
                          "pattern": {
                            "fillmode": "overlay",
                            "size": 10,
                            "solidity": 0.2
                          }
                        },
                        "type": "barpolar"
                      }
                    ],
                    "carpet": [
                      {
                        "aaxis": {
                          "endlinecolor": "#2a3f5f",
                          "gridcolor": "white",
                          "linecolor": "white",
                          "minorgridcolor": "white",
                          "startlinecolor": "#2a3f5f"
                        },
                        "baxis": {
                          "endlinecolor": "#2a3f5f",
                          "gridcolor": "white",
                          "linecolor": "white",
                          "minorgridcolor": "white",
                          "startlinecolor": "#2a3f5f"
                        },
                        "type": "carpet"
                      }
                    ],
                    "choropleth": [
                      {
                        "colorbar": {
                          "outlinewidth": 0,
                          "ticks": ""
                        },
                        "type": "choropleth"
                      }
                    ],
                    "contour": [
                      {
                        "colorbar": {
                          "outlinewidth": 0,
                          "ticks": ""
                        },
                        "colorscale": [
                          [
                            0,
                            "#0d0887"
                          ],
                          [
                            0.1111111111111111,
                            "#46039f"
                          ],
                          [
                            0.2222222222222222,
                            "#7201a8"
                          ],
                          [
                            0.3333333333333333,
                            "#9c179e"
                          ],
                          [
                            0.4444444444444444,
                            "#bd3786"
                          ],
                          [
                            0.5555555555555556,
                            "#d8576b"
                          ],
                          [
                            0.6666666666666666,
                            "#ed7953"
                          ],
                          [
                            0.7777777777777778,
                            "#fb9f3a"
                          ],
                          [
                            0.8888888888888888,
                            "#fdca26"
                          ],
                          [
                            1,
                            "#f0f921"
                          ]
                        ],
                        "type": "contour"
                      }
                    ],
                    "contourcarpet": [
                      {
                        "colorbar": {
                          "outlinewidth": 0,
                          "ticks": ""
                        },
                        "type": "contourcarpet"
                      }
                    ],
                    "heatmap": [
                      {
                        "colorbar": {
                          "outlinewidth": 0,
                          "ticks": ""
                        },
                        "colorscale": [
                          [
                            0,
                            "#0d0887"
                          ],
                          [
                            0.1111111111111111,
                            "#46039f"
                          ],
                          [
                            0.2222222222222222,
                            "#7201a8"
                          ],
                          [
                            0.3333333333333333,
                            "#9c179e"
                          ],
                          [
                            0.4444444444444444,
                            "#bd3786"
                          ],
                          [
                            0.5555555555555556,
                            "#d8576b"
                          ],
                          [
                            0.6666666666666666,
                            "#ed7953"
                          ],
                          [
                            0.7777777777777778,
                            "#fb9f3a"
                          ],
                          [
                            0.8888888888888888,
                            "#fdca26"
                          ],
                          [
                            1,
                            "#f0f921"
                          ]
                        ],
                        "type": "heatmap"
                      }
                    ],
                    "heatmapgl": [
                      {
                        "colorbar": {
                          "outlinewidth": 0,
                          "ticks": ""
                        },
                        "colorscale": [
                          [
                            0,
                            "#0d0887"
                          ],
                          [
                            0.1111111111111111,
                            "#46039f"
                          ],
                          [
                            0.2222222222222222,
                            "#7201a8"
                          ],
                          [
                            0.3333333333333333,
                            "#9c179e"
                          ],
                          [
                            0.4444444444444444,
                            "#bd3786"
                          ],
                          [
                            0.5555555555555556,
                            "#d8576b"
                          ],
                          [
                            0.6666666666666666,
                            "#ed7953"
                          ],
                          [
                            0.7777777777777778,
                            "#fb9f3a"
                          ],
                          [
                            0.8888888888888888,
                            "#fdca26"
                          ],
                          [
                            1,
                            "#f0f921"
                          ]
                        ],
                        "type": "heatmapgl"
                      }
                    ],
                    "histogram": [
                      {
                        "marker": {
                          "pattern": {
                            "fillmode": "overlay",
                            "size": 10,
                            "solidity": 0.2
                          }
                        },
                        "type": "histogram"
                      }
                    ],
                    "histogram2d": [
                      {
                        "colorbar": {
                          "outlinewidth": 0,
                          "ticks": ""
                        },
                        "colorscale": [
                          [
                            0,
                            "#0d0887"
                          ],
                          [
                            0.1111111111111111,
                            "#46039f"
                          ],
                          [
                            0.2222222222222222,
                            "#7201a8"
                          ],
                          [
                            0.3333333333333333,
                            "#9c179e"
                          ],
                          [
                            0.4444444444444444,
                            "#bd3786"
                          ],
                          [
                            0.5555555555555556,
                            "#d8576b"
                          ],
                          [
                            0.6666666666666666,
                            "#ed7953"
                          ],
                          [
                            0.7777777777777778,
                            "#fb9f3a"
                          ],
                          [
                            0.8888888888888888,
                            "#fdca26"
                          ],
                          [
                            1,
                            "#f0f921"
                          ]
                        ],
                        "type": "histogram2d"
                      }
                    ],
                    "histogram2dcontour": [
                      {
                        "colorbar": {
                          "outlinewidth": 0,
                          "ticks": ""
                        },
                        "colorscale": [
                          [
                            0,
                            "#0d0887"
                          ],
                          [
                            0.1111111111111111,
                            "#46039f"
                          ],
                          [
                            0.2222222222222222,
                            "#7201a8"
                          ],
                          [
                            0.3333333333333333,
                            "#9c179e"
                          ],
                          [
                            0.4444444444444444,
                            "#bd3786"
                          ],
                          [
                            0.5555555555555556,
                            "#d8576b"
                          ],
                          [
                            0.6666666666666666,
                            "#ed7953"
                          ],
                          [
                            0.7777777777777778,
                            "#fb9f3a"
                          ],
                          [
                            0.8888888888888888,
                            "#fdca26"
                          ],
                          [
                            1,
                            "#f0f921"
                          ]
                        ],
                        "type": "histogram2dcontour"
                      }
                    ],
                    "mesh3d": [
                      {
                        "colorbar": {
                          "outlinewidth": 0,
                          "ticks": ""
                        },
                        "type": "mesh3d"
                      }
                    ],
                    "parcoords": [
                      {
                        "line": {
                          "colorbar": {
                            "outlinewidth": 0,
                            "ticks": ""
                          }
                        },
                        "type": "parcoords"
                      }
                    ],
                    "pie": [
                      {
                        "automargin": true,
                        "type": "pie"
                      }
                    ],
                    "scatter": [
                      {
                        "fillpattern": {
                          "fillmode": "overlay",
                          "size": 10,
                          "solidity": 0.2
                        },
                        "type": "scatter"
                      }
                    ],
                    "scatter3d": [
                      {
                        "line": {
                          "colorbar": {
                            "outlinewidth": 0,
                            "ticks": ""
                          }
                        },
                        "marker": {
                          "colorbar": {
                            "outlinewidth": 0,
                            "ticks": ""
                          }
                        },
                        "type": "scatter3d"
                      }
                    ],
                    "scattercarpet": [
                      {
                        "marker": {
                          "colorbar": {
                            "outlinewidth": 0,
                            "ticks": ""
                          }
                        },
                        "type": "scattercarpet"
                      }
                    ],
                    "scattergeo": [
                      {
                        "marker": {
                          "colorbar": {
                            "outlinewidth": 0,
                            "ticks": ""
                          }
                        },
                        "type": "scattergeo"
                      }
                    ],
                    "scattergl": [
                      {
                        "marker": {
                          "colorbar": {
                            "outlinewidth": 0,
                            "ticks": ""
                          }
                        },
                        "type": "scattergl"
                      }
                    ],
                    "scattermapbox": [
                      {
                        "marker": {
                          "colorbar": {
                            "outlinewidth": 0,
                            "ticks": ""
                          }
                        },
                        "type": "scattermapbox"
                      }
                    ],
                    "scatterpolar": [
                      {
                        "marker": {
                          "colorbar": {
                            "outlinewidth": 0,
                            "ticks": ""
                          }
                        },
                        "type": "scatterpolar"
                      }
                    ],
                    "scatterpolargl": [
                      {
                        "marker": {
                          "colorbar": {
                            "outlinewidth": 0,
                            "ticks": ""
                          }
                        },
                        "type": "scatterpolargl"
                      }
                    ],
                    "scatterternary": [
                      {
                        "marker": {
                          "colorbar": {
                            "outlinewidth": 0,
                            "ticks": ""
                          }
                        },
                        "type": "scatterternary"
                      }
                    ],
                    "surface": [
                      {
                        "colorbar": {
                          "outlinewidth": 0,
                          "ticks": ""
                        },
                        "colorscale": [
                          [
                            0,
                            "#0d0887"
                          ],
                          [
                            0.1111111111111111,
                            "#46039f"
                          ],
                          [
                            0.2222222222222222,
                            "#7201a8"
                          ],
                          [
                            0.3333333333333333,
                            "#9c179e"
                          ],
                          [
                            0.4444444444444444,
                            "#bd3786"
                          ],
                          [
                            0.5555555555555556,
                            "#d8576b"
                          ],
                          [
                            0.6666666666666666,
                            "#ed7953"
                          ],
                          [
                            0.7777777777777778,
                            "#fb9f3a"
                          ],
                          [
                            0.8888888888888888,
                            "#fdca26"
                          ],
                          [
                            1,
                            "#f0f921"
                          ]
                        ],
                        "type": "surface"
                      }
                    ],
                    "table": [
                      {
                        "cells": {
                          "fill": {
                            "color": "#EBF0F8"
                          },
                          "line": {
                            "color": "white"
                          }
                        },
                        "header": {
                          "fill": {
                            "color": "#C8D4E3"
                          },
                          "line": {
                            "color": "white"
                          }
                        },
                        "type": "table"
                      }
                    ]
                  },
                  "layout": {
                    "annotationdefaults": {
                      "arrowcolor": "#2a3f5f",
                      "arrowhead": 0,
                      "arrowwidth": 1
                    },
                    "autotypenumbers": "strict",
                    "coloraxis": {
                      "colorbar": {
                        "outlinewidth": 0,
                        "ticks": ""
                      }
                    },
                    "colorscale": {
                      "diverging": [
                        [
                          0,
                          "#8e0152"
                        ],
                        [
                          0.1,
                          "#c51b7d"
                        ],
                        [
                          0.2,
                          "#de77ae"
                        ],
                        [
                          0.3,
                          "#f1b6da"
                        ],
                        [
                          0.4,
                          "#fde0ef"
                        ],
                        [
                          0.5,
                          "#f7f7f7"
                        ],
                        [
                          0.6,
                          "#e6f5d0"
                        ],
                        [
                          0.7,
                          "#b8e186"
                        ],
                        [
                          0.8,
                          "#7fbc41"
                        ],
                        [
                          0.9,
                          "#4d9221"
                        ],
                        [
                          1,
                          "#276419"
                        ]
                      ],
                      "sequential": [
                        [
                          0,
                          "#0d0887"
                        ],
                        [
                          0.1111111111111111,
                          "#46039f"
                        ],
                        [
                          0.2222222222222222,
                          "#7201a8"
                        ],
                        [
                          0.3333333333333333,
                          "#9c179e"
                        ],
                        [
                          0.4444444444444444,
                          "#bd3786"
                        ],
                        [
                          0.5555555555555556,
                          "#d8576b"
                        ],
                        [
                          0.6666666666666666,
                          "#ed7953"
                        ],
                        [
                          0.7777777777777778,
                          "#fb9f3a"
                        ],
                        [
                          0.8888888888888888,
                          "#fdca26"
                        ],
                        [
                          1,
                          "#f0f921"
                        ]
                      ],
                      "sequentialminus": [
                        [
                          0,
                          "#0d0887"
                        ],
                        [
                          0.1111111111111111,
                          "#46039f"
                        ],
                        [
                          0.2222222222222222,
                          "#7201a8"
                        ],
                        [
                          0.3333333333333333,
                          "#9c179e"
                        ],
                        [
                          0.4444444444444444,
                          "#bd3786"
                        ],
                        [
                          0.5555555555555556,
                          "#d8576b"
                        ],
                        [
                          0.6666666666666666,
                          "#ed7953"
                        ],
                        [
                          0.7777777777777778,
                          "#fb9f3a"
                        ],
                        [
                          0.8888888888888888,
                          "#fdca26"
                        ],
                        [
                          1,
                          "#f0f921"
                        ]
                      ]
                    },
                    "colorway": [
                      "#636efa",
                      "#EF553B",
                      "#00cc96",
                      "#ab63fa",
                      "#FFA15A",
                      "#19d3f3",
                      "#FF6692",
                      "#B6E880",
                      "#FF97FF",
                      "#FECB52"
                    ],
                    "font": {
                      "color": "#2a3f5f"
                    },
                    "geo": {
                      "bgcolor": "white",
                      "lakecolor": "white",
                      "landcolor": "#E5ECF6",
                      "showlakes": true,
                      "showland": true,
                      "subunitcolor": "white"
                    },
                    "hoverlabel": {
                      "align": "left"
                    },
                    "hovermode": "closest",
                    "mapbox": {
                      "style": "light"
                    },
                    "paper_bgcolor": "white",
                    "plot_bgcolor": "#E5ECF6",
                    "polar": {
                      "angularaxis": {
                        "gridcolor": "white",
                        "linecolor": "white",
                        "ticks": ""
                      },
                      "bgcolor": "#E5ECF6",
                      "radialaxis": {
                        "gridcolor": "white",
                        "linecolor": "white",
                        "ticks": ""
                      }
                    },
                    "scene": {
                      "xaxis": {
                        "backgroundcolor": "#E5ECF6",
                        "gridcolor": "white",
                        "gridwidth": 2,
                        "linecolor": "white",
                        "showbackground": true,
                        "ticks": "",
                        "zerolinecolor": "white"
                      },
                      "yaxis": {
                        "backgroundcolor": "#E5ECF6",
                        "gridcolor": "white",
                        "gridwidth": 2,
                        "linecolor": "white",
                        "showbackground": true,
                        "ticks": "",
                        "zerolinecolor": "white"
                      },
                      "zaxis": {
                        "backgroundcolor": "#E5ECF6",
                        "gridcolor": "white",
                        "gridwidth": 2,
                        "linecolor": "white",
                        "showbackground": true,
                        "ticks": "",
                        "zerolinecolor": "white"
                      }
                    },
                    "shapedefaults": {
                      "line": {
                        "color": "#2a3f5f"
                      }
                    },
                    "ternary": {
                      "aaxis": {
                        "gridcolor": "white",
                        "linecolor": "white",
                        "ticks": ""
                      },
                      "baxis": {
                        "gridcolor": "white",
                        "linecolor": "white",
                        "ticks": ""
                      },
                      "bgcolor": "#E5ECF6",
                      "caxis": {
                        "gridcolor": "white",
                        "linecolor": "white",
                        "ticks": ""
                      }
                    },
                    "title": {
                      "x": 0.05
                    },
                    "xaxis": {
                      "automargin": true,
                      "gridcolor": "white",
                      "linecolor": "white",
                      "ticks": "",
                      "title": {
                        "standoff": 15
                      },
                      "zerolinecolor": "white",
                      "zerolinewidth": 2
                    },
                    "yaxis": {
                      "automargin": true,
                      "gridcolor": "white",
                      "linecolor": "white",
                      "ticks": "",
                      "title": {
                        "standoff": 15
                      },
                      "zerolinecolor": "white",
                      "zerolinewidth": 2
                    }
                  }
                },
                "title": {
                  "text": "Model Performance"
                },
                "xaxis": {
                  "title": {
                    "text": "Score Type"
                  }
                },
                "yaxis": {
                  "title": {
                    "text": "Score"
                  }
                }
              }
            }
          },
          "metadata": {},
          "output_type": "display_data"
        }
      ],
      "source": [
        "# Create a polynomial regression model\n",
        "model = LinearRegression()\n",
        "\n",
        "# Generate the polynomial features\n",
        "poly = PolynomialFeatures(degree=2)\n",
        "df_x_poly = poly.fit_transform(df_x_select)\n",
        "df_test_x_poly = poly.transform(df_test_x_select)\n",
        "\n",
        "# Save the polynomial features\n",
        "pickle.dump(poly, open('encoders/regression/poly.pkl', 'wb'))\n",
        "\n",
        "# Train the model\n",
        "model.fit(df_x_poly, df_y)\n",
        "\n",
        "# Get the training MSE, R2 score, Testing MSE, and R2 score\n",
        "mse_train = mean_squared_error(df_y, model.predict(df_x_poly))\n",
        "r2_train = r2_score(df_y, model.predict(df_x_poly))\n",
        "mse_test = mean_squared_error(df_test_y, model.predict(df_test_x_poly))\n",
        "r2_test = r2_score(df_test_y, model.predict(df_test_x_poly))\n",
        "\n",
        "# Print the training MSE and R2 score\n",
        "print('Training MSE: ', mse_train)\n",
        "print('Training R2: ', r2_train)\n",
        "\n",
        "# Print the testing MSE and R2 score\n",
        "print('Testing MSE: ', mse_test)\n",
        "print('Testing R2: ', r2_test)\n",
        "\n",
        "# Display the scores\n",
        "plot_scores(mse_train, r2_train, mse_test, r2_test)\n",
        "# Save the model\n",
        "pickle.dump(model, open('models/regression/poly_reg.pkl', 'wb'))\n"
      ]
    },
    {
      "cell_type": "code",
      "execution_count": 46,
      "metadata": {},
      "outputs": [
        {
          "name": "stdout",
          "output_type": "stream",
          "text": [
            "Training MSE:  0.1964099938867784\n",
            "Training R2:  0.5407610397178564\n",
            "Testing MSE:  0.3246160551643299\n",
            "Testing R2:  0.2808661126438112\n"
          ]
        },
        {
          "data": {
            "application/vnd.plotly.v1+json": {
              "config": {
                "plotlyServerURL": "https://plot.ly"
              },
              "data": [
                {
                  "marker": {
                    "color": "navy"
                  },
                  "name": "MSE Train",
                  "type": "bar",
                  "x": [
                    "MSE"
                  ],
                  "y": [
                    0.1964099938867784
                  ]
                },
                {
                  "marker": {
                    "color": "blue"
                  },
                  "name": "MSE Test",
                  "type": "bar",
                  "x": [
                    "MSE"
                  ],
                  "y": [
                    0.3246160551643299
                  ]
                },
                {
                  "marker": {
                    "color": "red"
                  },
                  "name": "MSE Difference",
                  "type": "bar",
                  "x": [
                    "MSE"
                  ],
                  "y": [
                    0.1282060612775515
                  ]
                },
                {
                  "marker": {
                    "color": "purple"
                  },
                  "name": "R2 Train",
                  "type": "bar",
                  "x": [
                    "R2"
                  ],
                  "y": [
                    0.5407610397178564
                  ]
                },
                {
                  "marker": {
                    "color": "pink"
                  },
                  "name": "R2 Test",
                  "type": "bar",
                  "x": [
                    "R2"
                  ],
                  "y": [
                    0.2808661126438112
                  ]
                },
                {
                  "marker": {
                    "color": "red"
                  },
                  "name": "R2 Difference",
                  "type": "bar",
                  "x": [
                    "R2"
                  ],
                  "y": [
                    0.25989492707404516
                  ]
                }
              ],
              "layout": {
                "template": {
                  "data": {
                    "bar": [
                      {
                        "error_x": {
                          "color": "#2a3f5f"
                        },
                        "error_y": {
                          "color": "#2a3f5f"
                        },
                        "marker": {
                          "line": {
                            "color": "#E5ECF6",
                            "width": 0.5
                          },
                          "pattern": {
                            "fillmode": "overlay",
                            "size": 10,
                            "solidity": 0.2
                          }
                        },
                        "type": "bar"
                      }
                    ],
                    "barpolar": [
                      {
                        "marker": {
                          "line": {
                            "color": "#E5ECF6",
                            "width": 0.5
                          },
                          "pattern": {
                            "fillmode": "overlay",
                            "size": 10,
                            "solidity": 0.2
                          }
                        },
                        "type": "barpolar"
                      }
                    ],
                    "carpet": [
                      {
                        "aaxis": {
                          "endlinecolor": "#2a3f5f",
                          "gridcolor": "white",
                          "linecolor": "white",
                          "minorgridcolor": "white",
                          "startlinecolor": "#2a3f5f"
                        },
                        "baxis": {
                          "endlinecolor": "#2a3f5f",
                          "gridcolor": "white",
                          "linecolor": "white",
                          "minorgridcolor": "white",
                          "startlinecolor": "#2a3f5f"
                        },
                        "type": "carpet"
                      }
                    ],
                    "choropleth": [
                      {
                        "colorbar": {
                          "outlinewidth": 0,
                          "ticks": ""
                        },
                        "type": "choropleth"
                      }
                    ],
                    "contour": [
                      {
                        "colorbar": {
                          "outlinewidth": 0,
                          "ticks": ""
                        },
                        "colorscale": [
                          [
                            0,
                            "#0d0887"
                          ],
                          [
                            0.1111111111111111,
                            "#46039f"
                          ],
                          [
                            0.2222222222222222,
                            "#7201a8"
                          ],
                          [
                            0.3333333333333333,
                            "#9c179e"
                          ],
                          [
                            0.4444444444444444,
                            "#bd3786"
                          ],
                          [
                            0.5555555555555556,
                            "#d8576b"
                          ],
                          [
                            0.6666666666666666,
                            "#ed7953"
                          ],
                          [
                            0.7777777777777778,
                            "#fb9f3a"
                          ],
                          [
                            0.8888888888888888,
                            "#fdca26"
                          ],
                          [
                            1,
                            "#f0f921"
                          ]
                        ],
                        "type": "contour"
                      }
                    ],
                    "contourcarpet": [
                      {
                        "colorbar": {
                          "outlinewidth": 0,
                          "ticks": ""
                        },
                        "type": "contourcarpet"
                      }
                    ],
                    "heatmap": [
                      {
                        "colorbar": {
                          "outlinewidth": 0,
                          "ticks": ""
                        },
                        "colorscale": [
                          [
                            0,
                            "#0d0887"
                          ],
                          [
                            0.1111111111111111,
                            "#46039f"
                          ],
                          [
                            0.2222222222222222,
                            "#7201a8"
                          ],
                          [
                            0.3333333333333333,
                            "#9c179e"
                          ],
                          [
                            0.4444444444444444,
                            "#bd3786"
                          ],
                          [
                            0.5555555555555556,
                            "#d8576b"
                          ],
                          [
                            0.6666666666666666,
                            "#ed7953"
                          ],
                          [
                            0.7777777777777778,
                            "#fb9f3a"
                          ],
                          [
                            0.8888888888888888,
                            "#fdca26"
                          ],
                          [
                            1,
                            "#f0f921"
                          ]
                        ],
                        "type": "heatmap"
                      }
                    ],
                    "heatmapgl": [
                      {
                        "colorbar": {
                          "outlinewidth": 0,
                          "ticks": ""
                        },
                        "colorscale": [
                          [
                            0,
                            "#0d0887"
                          ],
                          [
                            0.1111111111111111,
                            "#46039f"
                          ],
                          [
                            0.2222222222222222,
                            "#7201a8"
                          ],
                          [
                            0.3333333333333333,
                            "#9c179e"
                          ],
                          [
                            0.4444444444444444,
                            "#bd3786"
                          ],
                          [
                            0.5555555555555556,
                            "#d8576b"
                          ],
                          [
                            0.6666666666666666,
                            "#ed7953"
                          ],
                          [
                            0.7777777777777778,
                            "#fb9f3a"
                          ],
                          [
                            0.8888888888888888,
                            "#fdca26"
                          ],
                          [
                            1,
                            "#f0f921"
                          ]
                        ],
                        "type": "heatmapgl"
                      }
                    ],
                    "histogram": [
                      {
                        "marker": {
                          "pattern": {
                            "fillmode": "overlay",
                            "size": 10,
                            "solidity": 0.2
                          }
                        },
                        "type": "histogram"
                      }
                    ],
                    "histogram2d": [
                      {
                        "colorbar": {
                          "outlinewidth": 0,
                          "ticks": ""
                        },
                        "colorscale": [
                          [
                            0,
                            "#0d0887"
                          ],
                          [
                            0.1111111111111111,
                            "#46039f"
                          ],
                          [
                            0.2222222222222222,
                            "#7201a8"
                          ],
                          [
                            0.3333333333333333,
                            "#9c179e"
                          ],
                          [
                            0.4444444444444444,
                            "#bd3786"
                          ],
                          [
                            0.5555555555555556,
                            "#d8576b"
                          ],
                          [
                            0.6666666666666666,
                            "#ed7953"
                          ],
                          [
                            0.7777777777777778,
                            "#fb9f3a"
                          ],
                          [
                            0.8888888888888888,
                            "#fdca26"
                          ],
                          [
                            1,
                            "#f0f921"
                          ]
                        ],
                        "type": "histogram2d"
                      }
                    ],
                    "histogram2dcontour": [
                      {
                        "colorbar": {
                          "outlinewidth": 0,
                          "ticks": ""
                        },
                        "colorscale": [
                          [
                            0,
                            "#0d0887"
                          ],
                          [
                            0.1111111111111111,
                            "#46039f"
                          ],
                          [
                            0.2222222222222222,
                            "#7201a8"
                          ],
                          [
                            0.3333333333333333,
                            "#9c179e"
                          ],
                          [
                            0.4444444444444444,
                            "#bd3786"
                          ],
                          [
                            0.5555555555555556,
                            "#d8576b"
                          ],
                          [
                            0.6666666666666666,
                            "#ed7953"
                          ],
                          [
                            0.7777777777777778,
                            "#fb9f3a"
                          ],
                          [
                            0.8888888888888888,
                            "#fdca26"
                          ],
                          [
                            1,
                            "#f0f921"
                          ]
                        ],
                        "type": "histogram2dcontour"
                      }
                    ],
                    "mesh3d": [
                      {
                        "colorbar": {
                          "outlinewidth": 0,
                          "ticks": ""
                        },
                        "type": "mesh3d"
                      }
                    ],
                    "parcoords": [
                      {
                        "line": {
                          "colorbar": {
                            "outlinewidth": 0,
                            "ticks": ""
                          }
                        },
                        "type": "parcoords"
                      }
                    ],
                    "pie": [
                      {
                        "automargin": true,
                        "type": "pie"
                      }
                    ],
                    "scatter": [
                      {
                        "fillpattern": {
                          "fillmode": "overlay",
                          "size": 10,
                          "solidity": 0.2
                        },
                        "type": "scatter"
                      }
                    ],
                    "scatter3d": [
                      {
                        "line": {
                          "colorbar": {
                            "outlinewidth": 0,
                            "ticks": ""
                          }
                        },
                        "marker": {
                          "colorbar": {
                            "outlinewidth": 0,
                            "ticks": ""
                          }
                        },
                        "type": "scatter3d"
                      }
                    ],
                    "scattercarpet": [
                      {
                        "marker": {
                          "colorbar": {
                            "outlinewidth": 0,
                            "ticks": ""
                          }
                        },
                        "type": "scattercarpet"
                      }
                    ],
                    "scattergeo": [
                      {
                        "marker": {
                          "colorbar": {
                            "outlinewidth": 0,
                            "ticks": ""
                          }
                        },
                        "type": "scattergeo"
                      }
                    ],
                    "scattergl": [
                      {
                        "marker": {
                          "colorbar": {
                            "outlinewidth": 0,
                            "ticks": ""
                          }
                        },
                        "type": "scattergl"
                      }
                    ],
                    "scattermapbox": [
                      {
                        "marker": {
                          "colorbar": {
                            "outlinewidth": 0,
                            "ticks": ""
                          }
                        },
                        "type": "scattermapbox"
                      }
                    ],
                    "scatterpolar": [
                      {
                        "marker": {
                          "colorbar": {
                            "outlinewidth": 0,
                            "ticks": ""
                          }
                        },
                        "type": "scatterpolar"
                      }
                    ],
                    "scatterpolargl": [
                      {
                        "marker": {
                          "colorbar": {
                            "outlinewidth": 0,
                            "ticks": ""
                          }
                        },
                        "type": "scatterpolargl"
                      }
                    ],
                    "scatterternary": [
                      {
                        "marker": {
                          "colorbar": {
                            "outlinewidth": 0,
                            "ticks": ""
                          }
                        },
                        "type": "scatterternary"
                      }
                    ],
                    "surface": [
                      {
                        "colorbar": {
                          "outlinewidth": 0,
                          "ticks": ""
                        },
                        "colorscale": [
                          [
                            0,
                            "#0d0887"
                          ],
                          [
                            0.1111111111111111,
                            "#46039f"
                          ],
                          [
                            0.2222222222222222,
                            "#7201a8"
                          ],
                          [
                            0.3333333333333333,
                            "#9c179e"
                          ],
                          [
                            0.4444444444444444,
                            "#bd3786"
                          ],
                          [
                            0.5555555555555556,
                            "#d8576b"
                          ],
                          [
                            0.6666666666666666,
                            "#ed7953"
                          ],
                          [
                            0.7777777777777778,
                            "#fb9f3a"
                          ],
                          [
                            0.8888888888888888,
                            "#fdca26"
                          ],
                          [
                            1,
                            "#f0f921"
                          ]
                        ],
                        "type": "surface"
                      }
                    ],
                    "table": [
                      {
                        "cells": {
                          "fill": {
                            "color": "#EBF0F8"
                          },
                          "line": {
                            "color": "white"
                          }
                        },
                        "header": {
                          "fill": {
                            "color": "#C8D4E3"
                          },
                          "line": {
                            "color": "white"
                          }
                        },
                        "type": "table"
                      }
                    ]
                  },
                  "layout": {
                    "annotationdefaults": {
                      "arrowcolor": "#2a3f5f",
                      "arrowhead": 0,
                      "arrowwidth": 1
                    },
                    "autotypenumbers": "strict",
                    "coloraxis": {
                      "colorbar": {
                        "outlinewidth": 0,
                        "ticks": ""
                      }
                    },
                    "colorscale": {
                      "diverging": [
                        [
                          0,
                          "#8e0152"
                        ],
                        [
                          0.1,
                          "#c51b7d"
                        ],
                        [
                          0.2,
                          "#de77ae"
                        ],
                        [
                          0.3,
                          "#f1b6da"
                        ],
                        [
                          0.4,
                          "#fde0ef"
                        ],
                        [
                          0.5,
                          "#f7f7f7"
                        ],
                        [
                          0.6,
                          "#e6f5d0"
                        ],
                        [
                          0.7,
                          "#b8e186"
                        ],
                        [
                          0.8,
                          "#7fbc41"
                        ],
                        [
                          0.9,
                          "#4d9221"
                        ],
                        [
                          1,
                          "#276419"
                        ]
                      ],
                      "sequential": [
                        [
                          0,
                          "#0d0887"
                        ],
                        [
                          0.1111111111111111,
                          "#46039f"
                        ],
                        [
                          0.2222222222222222,
                          "#7201a8"
                        ],
                        [
                          0.3333333333333333,
                          "#9c179e"
                        ],
                        [
                          0.4444444444444444,
                          "#bd3786"
                        ],
                        [
                          0.5555555555555556,
                          "#d8576b"
                        ],
                        [
                          0.6666666666666666,
                          "#ed7953"
                        ],
                        [
                          0.7777777777777778,
                          "#fb9f3a"
                        ],
                        [
                          0.8888888888888888,
                          "#fdca26"
                        ],
                        [
                          1,
                          "#f0f921"
                        ]
                      ],
                      "sequentialminus": [
                        [
                          0,
                          "#0d0887"
                        ],
                        [
                          0.1111111111111111,
                          "#46039f"
                        ],
                        [
                          0.2222222222222222,
                          "#7201a8"
                        ],
                        [
                          0.3333333333333333,
                          "#9c179e"
                        ],
                        [
                          0.4444444444444444,
                          "#bd3786"
                        ],
                        [
                          0.5555555555555556,
                          "#d8576b"
                        ],
                        [
                          0.6666666666666666,
                          "#ed7953"
                        ],
                        [
                          0.7777777777777778,
                          "#fb9f3a"
                        ],
                        [
                          0.8888888888888888,
                          "#fdca26"
                        ],
                        [
                          1,
                          "#f0f921"
                        ]
                      ]
                    },
                    "colorway": [
                      "#636efa",
                      "#EF553B",
                      "#00cc96",
                      "#ab63fa",
                      "#FFA15A",
                      "#19d3f3",
                      "#FF6692",
                      "#B6E880",
                      "#FF97FF",
                      "#FECB52"
                    ],
                    "font": {
                      "color": "#2a3f5f"
                    },
                    "geo": {
                      "bgcolor": "white",
                      "lakecolor": "white",
                      "landcolor": "#E5ECF6",
                      "showlakes": true,
                      "showland": true,
                      "subunitcolor": "white"
                    },
                    "hoverlabel": {
                      "align": "left"
                    },
                    "hovermode": "closest",
                    "mapbox": {
                      "style": "light"
                    },
                    "paper_bgcolor": "white",
                    "plot_bgcolor": "#E5ECF6",
                    "polar": {
                      "angularaxis": {
                        "gridcolor": "white",
                        "linecolor": "white",
                        "ticks": ""
                      },
                      "bgcolor": "#E5ECF6",
                      "radialaxis": {
                        "gridcolor": "white",
                        "linecolor": "white",
                        "ticks": ""
                      }
                    },
                    "scene": {
                      "xaxis": {
                        "backgroundcolor": "#E5ECF6",
                        "gridcolor": "white",
                        "gridwidth": 2,
                        "linecolor": "white",
                        "showbackground": true,
                        "ticks": "",
                        "zerolinecolor": "white"
                      },
                      "yaxis": {
                        "backgroundcolor": "#E5ECF6",
                        "gridcolor": "white",
                        "gridwidth": 2,
                        "linecolor": "white",
                        "showbackground": true,
                        "ticks": "",
                        "zerolinecolor": "white"
                      },
                      "zaxis": {
                        "backgroundcolor": "#E5ECF6",
                        "gridcolor": "white",
                        "gridwidth": 2,
                        "linecolor": "white",
                        "showbackground": true,
                        "ticks": "",
                        "zerolinecolor": "white"
                      }
                    },
                    "shapedefaults": {
                      "line": {
                        "color": "#2a3f5f"
                      }
                    },
                    "ternary": {
                      "aaxis": {
                        "gridcolor": "white",
                        "linecolor": "white",
                        "ticks": ""
                      },
                      "baxis": {
                        "gridcolor": "white",
                        "linecolor": "white",
                        "ticks": ""
                      },
                      "bgcolor": "#E5ECF6",
                      "caxis": {
                        "gridcolor": "white",
                        "linecolor": "white",
                        "ticks": ""
                      }
                    },
                    "title": {
                      "x": 0.05
                    },
                    "xaxis": {
                      "automargin": true,
                      "gridcolor": "white",
                      "linecolor": "white",
                      "ticks": "",
                      "title": {
                        "standoff": 15
                      },
                      "zerolinecolor": "white",
                      "zerolinewidth": 2
                    },
                    "yaxis": {
                      "automargin": true,
                      "gridcolor": "white",
                      "linecolor": "white",
                      "ticks": "",
                      "title": {
                        "standoff": 15
                      },
                      "zerolinecolor": "white",
                      "zerolinewidth": 2
                    }
                  }
                },
                "title": {
                  "text": "Model Performance"
                },
                "xaxis": {
                  "title": {
                    "text": "Score Type"
                  }
                },
                "yaxis": {
                  "title": {
                    "text": "Score"
                  }
                }
              }
            }
          },
          "metadata": {},
          "output_type": "display_data"
        }
      ],
      "source": [
        "# Create an XGBoost model\n",
        "\n",
        "import xgboost as xgb\n",
        "\n",
        "model = xgb.XGBRegressor(subsample= 0.8,\n",
        "                         reg_lambda= 0.1,\n",
        "                         reg_alpha= 0.1,\n",
        "                         n_estimators=500,\n",
        "                         min_child_weight=1,\n",
        "                         max_depth= 4,\n",
        "                         learning_rate= 0.01,\n",
        "                         gamma =0.1,\n",
        "                         colsample_bytree= 0.8)\n",
        "\n",
        "# Train the model\n",
        "model.fit(df_x_select, df_y)\n",
        "\n",
        "# Get the training MSE, R2 score, Testing MSE, and R2 score\n",
        "mse_train = mean_squared_error(df_y, model.predict(df_x_select))\n",
        "r2_train = r2_score(df_y, model.predict(df_x_select))\n",
        "mse_test = mean_squared_error(df_test_y, model.predict(df_test_x_select))\n",
        "r2_test = r2_score(df_test_y, model.predict(df_test_x_select))\n",
        "\n",
        "# Print the training MSE and R2 score\n",
        "print('Training MSE: ', mse_train)\n",
        "print('Training R2: ', r2_train)\n",
        "\n",
        "# Print the testing MSE and R2 score\n",
        "print('Testing MSE: ', mse_test)\n",
        "print('Testing R2: ', r2_test)\n",
        "\n",
        "# Display the scores\n",
        "plot_scores(mse_train, r2_train, mse_test, r2_test)\n",
        "\n",
        "# Save the model\n",
        "pickle.dump(model, open('models/regression/xgb.pkl', 'wb'))"
      ]
    },
    {
      "cell_type": "code",
      "execution_count": 47,
      "metadata": {},
      "outputs": [
        {
          "name": "stdout",
          "output_type": "stream",
          "text": [
            "Training MSE:  0.1766556175460622\n",
            "Training R2:  0.5869500297595865\n",
            "Testing MSE:  0.324210371102899\n",
            "Testing R2:  0.28176483946737374\n"
          ]
        },
        {
          "data": {
            "application/vnd.plotly.v1+json": {
              "config": {
                "plotlyServerURL": "https://plot.ly"
              },
              "data": [
                {
                  "marker": {
                    "color": "navy"
                  },
                  "name": "MSE Train",
                  "type": "bar",
                  "x": [
                    "MSE"
                  ],
                  "y": [
                    0.1766556175460622
                  ]
                },
                {
                  "marker": {
                    "color": "blue"
                  },
                  "name": "MSE Test",
                  "type": "bar",
                  "x": [
                    "MSE"
                  ],
                  "y": [
                    0.324210371102899
                  ]
                },
                {
                  "marker": {
                    "color": "red"
                  },
                  "name": "MSE Difference",
                  "type": "bar",
                  "x": [
                    "MSE"
                  ],
                  "y": [
                    0.1475547535568368
                  ]
                },
                {
                  "marker": {
                    "color": "purple"
                  },
                  "name": "R2 Train",
                  "type": "bar",
                  "x": [
                    "R2"
                  ],
                  "y": [
                    0.5869500297595865
                  ]
                },
                {
                  "marker": {
                    "color": "pink"
                  },
                  "name": "R2 Test",
                  "type": "bar",
                  "x": [
                    "R2"
                  ],
                  "y": [
                    0.28176483946737374
                  ]
                },
                {
                  "marker": {
                    "color": "red"
                  },
                  "name": "R2 Difference",
                  "type": "bar",
                  "x": [
                    "R2"
                  ],
                  "y": [
                    0.3051851902922128
                  ]
                }
              ],
              "layout": {
                "template": {
                  "data": {
                    "bar": [
                      {
                        "error_x": {
                          "color": "#2a3f5f"
                        },
                        "error_y": {
                          "color": "#2a3f5f"
                        },
                        "marker": {
                          "line": {
                            "color": "#E5ECF6",
                            "width": 0.5
                          },
                          "pattern": {
                            "fillmode": "overlay",
                            "size": 10,
                            "solidity": 0.2
                          }
                        },
                        "type": "bar"
                      }
                    ],
                    "barpolar": [
                      {
                        "marker": {
                          "line": {
                            "color": "#E5ECF6",
                            "width": 0.5
                          },
                          "pattern": {
                            "fillmode": "overlay",
                            "size": 10,
                            "solidity": 0.2
                          }
                        },
                        "type": "barpolar"
                      }
                    ],
                    "carpet": [
                      {
                        "aaxis": {
                          "endlinecolor": "#2a3f5f",
                          "gridcolor": "white",
                          "linecolor": "white",
                          "minorgridcolor": "white",
                          "startlinecolor": "#2a3f5f"
                        },
                        "baxis": {
                          "endlinecolor": "#2a3f5f",
                          "gridcolor": "white",
                          "linecolor": "white",
                          "minorgridcolor": "white",
                          "startlinecolor": "#2a3f5f"
                        },
                        "type": "carpet"
                      }
                    ],
                    "choropleth": [
                      {
                        "colorbar": {
                          "outlinewidth": 0,
                          "ticks": ""
                        },
                        "type": "choropleth"
                      }
                    ],
                    "contour": [
                      {
                        "colorbar": {
                          "outlinewidth": 0,
                          "ticks": ""
                        },
                        "colorscale": [
                          [
                            0,
                            "#0d0887"
                          ],
                          [
                            0.1111111111111111,
                            "#46039f"
                          ],
                          [
                            0.2222222222222222,
                            "#7201a8"
                          ],
                          [
                            0.3333333333333333,
                            "#9c179e"
                          ],
                          [
                            0.4444444444444444,
                            "#bd3786"
                          ],
                          [
                            0.5555555555555556,
                            "#d8576b"
                          ],
                          [
                            0.6666666666666666,
                            "#ed7953"
                          ],
                          [
                            0.7777777777777778,
                            "#fb9f3a"
                          ],
                          [
                            0.8888888888888888,
                            "#fdca26"
                          ],
                          [
                            1,
                            "#f0f921"
                          ]
                        ],
                        "type": "contour"
                      }
                    ],
                    "contourcarpet": [
                      {
                        "colorbar": {
                          "outlinewidth": 0,
                          "ticks": ""
                        },
                        "type": "contourcarpet"
                      }
                    ],
                    "heatmap": [
                      {
                        "colorbar": {
                          "outlinewidth": 0,
                          "ticks": ""
                        },
                        "colorscale": [
                          [
                            0,
                            "#0d0887"
                          ],
                          [
                            0.1111111111111111,
                            "#46039f"
                          ],
                          [
                            0.2222222222222222,
                            "#7201a8"
                          ],
                          [
                            0.3333333333333333,
                            "#9c179e"
                          ],
                          [
                            0.4444444444444444,
                            "#bd3786"
                          ],
                          [
                            0.5555555555555556,
                            "#d8576b"
                          ],
                          [
                            0.6666666666666666,
                            "#ed7953"
                          ],
                          [
                            0.7777777777777778,
                            "#fb9f3a"
                          ],
                          [
                            0.8888888888888888,
                            "#fdca26"
                          ],
                          [
                            1,
                            "#f0f921"
                          ]
                        ],
                        "type": "heatmap"
                      }
                    ],
                    "heatmapgl": [
                      {
                        "colorbar": {
                          "outlinewidth": 0,
                          "ticks": ""
                        },
                        "colorscale": [
                          [
                            0,
                            "#0d0887"
                          ],
                          [
                            0.1111111111111111,
                            "#46039f"
                          ],
                          [
                            0.2222222222222222,
                            "#7201a8"
                          ],
                          [
                            0.3333333333333333,
                            "#9c179e"
                          ],
                          [
                            0.4444444444444444,
                            "#bd3786"
                          ],
                          [
                            0.5555555555555556,
                            "#d8576b"
                          ],
                          [
                            0.6666666666666666,
                            "#ed7953"
                          ],
                          [
                            0.7777777777777778,
                            "#fb9f3a"
                          ],
                          [
                            0.8888888888888888,
                            "#fdca26"
                          ],
                          [
                            1,
                            "#f0f921"
                          ]
                        ],
                        "type": "heatmapgl"
                      }
                    ],
                    "histogram": [
                      {
                        "marker": {
                          "pattern": {
                            "fillmode": "overlay",
                            "size": 10,
                            "solidity": 0.2
                          }
                        },
                        "type": "histogram"
                      }
                    ],
                    "histogram2d": [
                      {
                        "colorbar": {
                          "outlinewidth": 0,
                          "ticks": ""
                        },
                        "colorscale": [
                          [
                            0,
                            "#0d0887"
                          ],
                          [
                            0.1111111111111111,
                            "#46039f"
                          ],
                          [
                            0.2222222222222222,
                            "#7201a8"
                          ],
                          [
                            0.3333333333333333,
                            "#9c179e"
                          ],
                          [
                            0.4444444444444444,
                            "#bd3786"
                          ],
                          [
                            0.5555555555555556,
                            "#d8576b"
                          ],
                          [
                            0.6666666666666666,
                            "#ed7953"
                          ],
                          [
                            0.7777777777777778,
                            "#fb9f3a"
                          ],
                          [
                            0.8888888888888888,
                            "#fdca26"
                          ],
                          [
                            1,
                            "#f0f921"
                          ]
                        ],
                        "type": "histogram2d"
                      }
                    ],
                    "histogram2dcontour": [
                      {
                        "colorbar": {
                          "outlinewidth": 0,
                          "ticks": ""
                        },
                        "colorscale": [
                          [
                            0,
                            "#0d0887"
                          ],
                          [
                            0.1111111111111111,
                            "#46039f"
                          ],
                          [
                            0.2222222222222222,
                            "#7201a8"
                          ],
                          [
                            0.3333333333333333,
                            "#9c179e"
                          ],
                          [
                            0.4444444444444444,
                            "#bd3786"
                          ],
                          [
                            0.5555555555555556,
                            "#d8576b"
                          ],
                          [
                            0.6666666666666666,
                            "#ed7953"
                          ],
                          [
                            0.7777777777777778,
                            "#fb9f3a"
                          ],
                          [
                            0.8888888888888888,
                            "#fdca26"
                          ],
                          [
                            1,
                            "#f0f921"
                          ]
                        ],
                        "type": "histogram2dcontour"
                      }
                    ],
                    "mesh3d": [
                      {
                        "colorbar": {
                          "outlinewidth": 0,
                          "ticks": ""
                        },
                        "type": "mesh3d"
                      }
                    ],
                    "parcoords": [
                      {
                        "line": {
                          "colorbar": {
                            "outlinewidth": 0,
                            "ticks": ""
                          }
                        },
                        "type": "parcoords"
                      }
                    ],
                    "pie": [
                      {
                        "automargin": true,
                        "type": "pie"
                      }
                    ],
                    "scatter": [
                      {
                        "fillpattern": {
                          "fillmode": "overlay",
                          "size": 10,
                          "solidity": 0.2
                        },
                        "type": "scatter"
                      }
                    ],
                    "scatter3d": [
                      {
                        "line": {
                          "colorbar": {
                            "outlinewidth": 0,
                            "ticks": ""
                          }
                        },
                        "marker": {
                          "colorbar": {
                            "outlinewidth": 0,
                            "ticks": ""
                          }
                        },
                        "type": "scatter3d"
                      }
                    ],
                    "scattercarpet": [
                      {
                        "marker": {
                          "colorbar": {
                            "outlinewidth": 0,
                            "ticks": ""
                          }
                        },
                        "type": "scattercarpet"
                      }
                    ],
                    "scattergeo": [
                      {
                        "marker": {
                          "colorbar": {
                            "outlinewidth": 0,
                            "ticks": ""
                          }
                        },
                        "type": "scattergeo"
                      }
                    ],
                    "scattergl": [
                      {
                        "marker": {
                          "colorbar": {
                            "outlinewidth": 0,
                            "ticks": ""
                          }
                        },
                        "type": "scattergl"
                      }
                    ],
                    "scattermapbox": [
                      {
                        "marker": {
                          "colorbar": {
                            "outlinewidth": 0,
                            "ticks": ""
                          }
                        },
                        "type": "scattermapbox"
                      }
                    ],
                    "scatterpolar": [
                      {
                        "marker": {
                          "colorbar": {
                            "outlinewidth": 0,
                            "ticks": ""
                          }
                        },
                        "type": "scatterpolar"
                      }
                    ],
                    "scatterpolargl": [
                      {
                        "marker": {
                          "colorbar": {
                            "outlinewidth": 0,
                            "ticks": ""
                          }
                        },
                        "type": "scatterpolargl"
                      }
                    ],
                    "scatterternary": [
                      {
                        "marker": {
                          "colorbar": {
                            "outlinewidth": 0,
                            "ticks": ""
                          }
                        },
                        "type": "scatterternary"
                      }
                    ],
                    "surface": [
                      {
                        "colorbar": {
                          "outlinewidth": 0,
                          "ticks": ""
                        },
                        "colorscale": [
                          [
                            0,
                            "#0d0887"
                          ],
                          [
                            0.1111111111111111,
                            "#46039f"
                          ],
                          [
                            0.2222222222222222,
                            "#7201a8"
                          ],
                          [
                            0.3333333333333333,
                            "#9c179e"
                          ],
                          [
                            0.4444444444444444,
                            "#bd3786"
                          ],
                          [
                            0.5555555555555556,
                            "#d8576b"
                          ],
                          [
                            0.6666666666666666,
                            "#ed7953"
                          ],
                          [
                            0.7777777777777778,
                            "#fb9f3a"
                          ],
                          [
                            0.8888888888888888,
                            "#fdca26"
                          ],
                          [
                            1,
                            "#f0f921"
                          ]
                        ],
                        "type": "surface"
                      }
                    ],
                    "table": [
                      {
                        "cells": {
                          "fill": {
                            "color": "#EBF0F8"
                          },
                          "line": {
                            "color": "white"
                          }
                        },
                        "header": {
                          "fill": {
                            "color": "#C8D4E3"
                          },
                          "line": {
                            "color": "white"
                          }
                        },
                        "type": "table"
                      }
                    ]
                  },
                  "layout": {
                    "annotationdefaults": {
                      "arrowcolor": "#2a3f5f",
                      "arrowhead": 0,
                      "arrowwidth": 1
                    },
                    "autotypenumbers": "strict",
                    "coloraxis": {
                      "colorbar": {
                        "outlinewidth": 0,
                        "ticks": ""
                      }
                    },
                    "colorscale": {
                      "diverging": [
                        [
                          0,
                          "#8e0152"
                        ],
                        [
                          0.1,
                          "#c51b7d"
                        ],
                        [
                          0.2,
                          "#de77ae"
                        ],
                        [
                          0.3,
                          "#f1b6da"
                        ],
                        [
                          0.4,
                          "#fde0ef"
                        ],
                        [
                          0.5,
                          "#f7f7f7"
                        ],
                        [
                          0.6,
                          "#e6f5d0"
                        ],
                        [
                          0.7,
                          "#b8e186"
                        ],
                        [
                          0.8,
                          "#7fbc41"
                        ],
                        [
                          0.9,
                          "#4d9221"
                        ],
                        [
                          1,
                          "#276419"
                        ]
                      ],
                      "sequential": [
                        [
                          0,
                          "#0d0887"
                        ],
                        [
                          0.1111111111111111,
                          "#46039f"
                        ],
                        [
                          0.2222222222222222,
                          "#7201a8"
                        ],
                        [
                          0.3333333333333333,
                          "#9c179e"
                        ],
                        [
                          0.4444444444444444,
                          "#bd3786"
                        ],
                        [
                          0.5555555555555556,
                          "#d8576b"
                        ],
                        [
                          0.6666666666666666,
                          "#ed7953"
                        ],
                        [
                          0.7777777777777778,
                          "#fb9f3a"
                        ],
                        [
                          0.8888888888888888,
                          "#fdca26"
                        ],
                        [
                          1,
                          "#f0f921"
                        ]
                      ],
                      "sequentialminus": [
                        [
                          0,
                          "#0d0887"
                        ],
                        [
                          0.1111111111111111,
                          "#46039f"
                        ],
                        [
                          0.2222222222222222,
                          "#7201a8"
                        ],
                        [
                          0.3333333333333333,
                          "#9c179e"
                        ],
                        [
                          0.4444444444444444,
                          "#bd3786"
                        ],
                        [
                          0.5555555555555556,
                          "#d8576b"
                        ],
                        [
                          0.6666666666666666,
                          "#ed7953"
                        ],
                        [
                          0.7777777777777778,
                          "#fb9f3a"
                        ],
                        [
                          0.8888888888888888,
                          "#fdca26"
                        ],
                        [
                          1,
                          "#f0f921"
                        ]
                      ]
                    },
                    "colorway": [
                      "#636efa",
                      "#EF553B",
                      "#00cc96",
                      "#ab63fa",
                      "#FFA15A",
                      "#19d3f3",
                      "#FF6692",
                      "#B6E880",
                      "#FF97FF",
                      "#FECB52"
                    ],
                    "font": {
                      "color": "#2a3f5f"
                    },
                    "geo": {
                      "bgcolor": "white",
                      "lakecolor": "white",
                      "landcolor": "#E5ECF6",
                      "showlakes": true,
                      "showland": true,
                      "subunitcolor": "white"
                    },
                    "hoverlabel": {
                      "align": "left"
                    },
                    "hovermode": "closest",
                    "mapbox": {
                      "style": "light"
                    },
                    "paper_bgcolor": "white",
                    "plot_bgcolor": "#E5ECF6",
                    "polar": {
                      "angularaxis": {
                        "gridcolor": "white",
                        "linecolor": "white",
                        "ticks": ""
                      },
                      "bgcolor": "#E5ECF6",
                      "radialaxis": {
                        "gridcolor": "white",
                        "linecolor": "white",
                        "ticks": ""
                      }
                    },
                    "scene": {
                      "xaxis": {
                        "backgroundcolor": "#E5ECF6",
                        "gridcolor": "white",
                        "gridwidth": 2,
                        "linecolor": "white",
                        "showbackground": true,
                        "ticks": "",
                        "zerolinecolor": "white"
                      },
                      "yaxis": {
                        "backgroundcolor": "#E5ECF6",
                        "gridcolor": "white",
                        "gridwidth": 2,
                        "linecolor": "white",
                        "showbackground": true,
                        "ticks": "",
                        "zerolinecolor": "white"
                      },
                      "zaxis": {
                        "backgroundcolor": "#E5ECF6",
                        "gridcolor": "white",
                        "gridwidth": 2,
                        "linecolor": "white",
                        "showbackground": true,
                        "ticks": "",
                        "zerolinecolor": "white"
                      }
                    },
                    "shapedefaults": {
                      "line": {
                        "color": "#2a3f5f"
                      }
                    },
                    "ternary": {
                      "aaxis": {
                        "gridcolor": "white",
                        "linecolor": "white",
                        "ticks": ""
                      },
                      "baxis": {
                        "gridcolor": "white",
                        "linecolor": "white",
                        "ticks": ""
                      },
                      "bgcolor": "#E5ECF6",
                      "caxis": {
                        "gridcolor": "white",
                        "linecolor": "white",
                        "ticks": ""
                      }
                    },
                    "title": {
                      "x": 0.05
                    },
                    "xaxis": {
                      "automargin": true,
                      "gridcolor": "white",
                      "linecolor": "white",
                      "ticks": "",
                      "title": {
                        "standoff": 15
                      },
                      "zerolinecolor": "white",
                      "zerolinewidth": 2
                    },
                    "yaxis": {
                      "automargin": true,
                      "gridcolor": "white",
                      "linecolor": "white",
                      "ticks": "",
                      "title": {
                        "standoff": 15
                      },
                      "zerolinecolor": "white",
                      "zerolinewidth": 2
                    }
                  }
                },
                "title": {
                  "text": "Model Performance"
                },
                "xaxis": {
                  "title": {
                    "text": "Score Type"
                  }
                },
                "yaxis": {
                  "title": {
                    "text": "Score"
                  }
                }
              }
            }
          },
          "metadata": {},
          "output_type": "display_data"
        }
      ],
      "source": [
        "# Create a Gradient Boosting model\n",
        "\n",
        "from sklearn.ensemble import GradientBoostingRegressor\n",
        "\n",
        "model = GradientBoostingRegressor(learning_rate=0.01, \n",
        "                                  max_depth=5, \n",
        "                                  max_features='sqrt', \n",
        "                                  min_samples_leaf=1, \n",
        "                                  min_samples_split=2, \n",
        "                                  n_estimators=500, \n",
        "                                  subsample=0.8)\n",
        "\n",
        "# Train the model\n",
        "model.fit(df_x_select, df_y)\n",
        "\n",
        "# Get the training MSE, R2 score, Testing MSE, and R2 score\n",
        "mse_train = mean_squared_error(df_y, model.predict(df_x_select))\n",
        "r2_train = r2_score(df_y, model.predict(df_x_select))\n",
        "mse_test = mean_squared_error(df_test_y, model.predict(df_test_x_select))\n",
        "r2_test = r2_score(df_test_y, model.predict(df_test_x_select))\n",
        "\n",
        "# Print the training MSE and R2 score\n",
        "print('Training MSE: ', mse_train)\n",
        "print('Training R2: ', r2_train)\n",
        "\n",
        "# Print the testing MSE and R2 score\n",
        "print('Testing MSE: ', mse_test)\n",
        "print('Testing R2: ', r2_test)\n",
        "\n",
        "# Display the scores\n",
        "plot_scores(mse_train, r2_train, mse_test, r2_test)\n",
        "\n",
        "# Save the model\n",
        "pickle.dump(model, open('models/regression/gb.pkl', 'wb'))"
      ]
    },
    {
      "cell_type": "code",
      "execution_count": 48,
      "metadata": {},
      "outputs": [
        {
          "name": "stdout",
          "output_type": "stream",
          "text": [
            "Training MSE:  0.23430426370395607\n",
            "Training R2:  0.4521579868532275\n",
            "Testing MSE:  0.33547722701137256\n",
            "Testing R2:  0.25680495914463064\n"
          ]
        },
        {
          "data": {
            "application/vnd.plotly.v1+json": {
              "config": {
                "plotlyServerURL": "https://plot.ly"
              },
              "data": [
                {
                  "marker": {
                    "color": "navy"
                  },
                  "name": "MSE Train",
                  "type": "bar",
                  "x": [
                    "MSE"
                  ],
                  "y": [
                    0.23430426370395607
                  ]
                },
                {
                  "marker": {
                    "color": "blue"
                  },
                  "name": "MSE Test",
                  "type": "bar",
                  "x": [
                    "MSE"
                  ],
                  "y": [
                    0.33547722701137256
                  ]
                },
                {
                  "marker": {
                    "color": "red"
                  },
                  "name": "MSE Difference",
                  "type": "bar",
                  "x": [
                    "MSE"
                  ],
                  "y": [
                    0.10117296330741649
                  ]
                },
                {
                  "marker": {
                    "color": "purple"
                  },
                  "name": "R2 Train",
                  "type": "bar",
                  "x": [
                    "R2"
                  ],
                  "y": [
                    0.4521579868532275
                  ]
                },
                {
                  "marker": {
                    "color": "pink"
                  },
                  "name": "R2 Test",
                  "type": "bar",
                  "x": [
                    "R2"
                  ],
                  "y": [
                    0.25680495914463064
                  ]
                },
                {
                  "marker": {
                    "color": "red"
                  },
                  "name": "R2 Difference",
                  "type": "bar",
                  "x": [
                    "R2"
                  ],
                  "y": [
                    0.19535302770859686
                  ]
                }
              ],
              "layout": {
                "template": {
                  "data": {
                    "bar": [
                      {
                        "error_x": {
                          "color": "#2a3f5f"
                        },
                        "error_y": {
                          "color": "#2a3f5f"
                        },
                        "marker": {
                          "line": {
                            "color": "#E5ECF6",
                            "width": 0.5
                          },
                          "pattern": {
                            "fillmode": "overlay",
                            "size": 10,
                            "solidity": 0.2
                          }
                        },
                        "type": "bar"
                      }
                    ],
                    "barpolar": [
                      {
                        "marker": {
                          "line": {
                            "color": "#E5ECF6",
                            "width": 0.5
                          },
                          "pattern": {
                            "fillmode": "overlay",
                            "size": 10,
                            "solidity": 0.2
                          }
                        },
                        "type": "barpolar"
                      }
                    ],
                    "carpet": [
                      {
                        "aaxis": {
                          "endlinecolor": "#2a3f5f",
                          "gridcolor": "white",
                          "linecolor": "white",
                          "minorgridcolor": "white",
                          "startlinecolor": "#2a3f5f"
                        },
                        "baxis": {
                          "endlinecolor": "#2a3f5f",
                          "gridcolor": "white",
                          "linecolor": "white",
                          "minorgridcolor": "white",
                          "startlinecolor": "#2a3f5f"
                        },
                        "type": "carpet"
                      }
                    ],
                    "choropleth": [
                      {
                        "colorbar": {
                          "outlinewidth": 0,
                          "ticks": ""
                        },
                        "type": "choropleth"
                      }
                    ],
                    "contour": [
                      {
                        "colorbar": {
                          "outlinewidth": 0,
                          "ticks": ""
                        },
                        "colorscale": [
                          [
                            0,
                            "#0d0887"
                          ],
                          [
                            0.1111111111111111,
                            "#46039f"
                          ],
                          [
                            0.2222222222222222,
                            "#7201a8"
                          ],
                          [
                            0.3333333333333333,
                            "#9c179e"
                          ],
                          [
                            0.4444444444444444,
                            "#bd3786"
                          ],
                          [
                            0.5555555555555556,
                            "#d8576b"
                          ],
                          [
                            0.6666666666666666,
                            "#ed7953"
                          ],
                          [
                            0.7777777777777778,
                            "#fb9f3a"
                          ],
                          [
                            0.8888888888888888,
                            "#fdca26"
                          ],
                          [
                            1,
                            "#f0f921"
                          ]
                        ],
                        "type": "contour"
                      }
                    ],
                    "contourcarpet": [
                      {
                        "colorbar": {
                          "outlinewidth": 0,
                          "ticks": ""
                        },
                        "type": "contourcarpet"
                      }
                    ],
                    "heatmap": [
                      {
                        "colorbar": {
                          "outlinewidth": 0,
                          "ticks": ""
                        },
                        "colorscale": [
                          [
                            0,
                            "#0d0887"
                          ],
                          [
                            0.1111111111111111,
                            "#46039f"
                          ],
                          [
                            0.2222222222222222,
                            "#7201a8"
                          ],
                          [
                            0.3333333333333333,
                            "#9c179e"
                          ],
                          [
                            0.4444444444444444,
                            "#bd3786"
                          ],
                          [
                            0.5555555555555556,
                            "#d8576b"
                          ],
                          [
                            0.6666666666666666,
                            "#ed7953"
                          ],
                          [
                            0.7777777777777778,
                            "#fb9f3a"
                          ],
                          [
                            0.8888888888888888,
                            "#fdca26"
                          ],
                          [
                            1,
                            "#f0f921"
                          ]
                        ],
                        "type": "heatmap"
                      }
                    ],
                    "heatmapgl": [
                      {
                        "colorbar": {
                          "outlinewidth": 0,
                          "ticks": ""
                        },
                        "colorscale": [
                          [
                            0,
                            "#0d0887"
                          ],
                          [
                            0.1111111111111111,
                            "#46039f"
                          ],
                          [
                            0.2222222222222222,
                            "#7201a8"
                          ],
                          [
                            0.3333333333333333,
                            "#9c179e"
                          ],
                          [
                            0.4444444444444444,
                            "#bd3786"
                          ],
                          [
                            0.5555555555555556,
                            "#d8576b"
                          ],
                          [
                            0.6666666666666666,
                            "#ed7953"
                          ],
                          [
                            0.7777777777777778,
                            "#fb9f3a"
                          ],
                          [
                            0.8888888888888888,
                            "#fdca26"
                          ],
                          [
                            1,
                            "#f0f921"
                          ]
                        ],
                        "type": "heatmapgl"
                      }
                    ],
                    "histogram": [
                      {
                        "marker": {
                          "pattern": {
                            "fillmode": "overlay",
                            "size": 10,
                            "solidity": 0.2
                          }
                        },
                        "type": "histogram"
                      }
                    ],
                    "histogram2d": [
                      {
                        "colorbar": {
                          "outlinewidth": 0,
                          "ticks": ""
                        },
                        "colorscale": [
                          [
                            0,
                            "#0d0887"
                          ],
                          [
                            0.1111111111111111,
                            "#46039f"
                          ],
                          [
                            0.2222222222222222,
                            "#7201a8"
                          ],
                          [
                            0.3333333333333333,
                            "#9c179e"
                          ],
                          [
                            0.4444444444444444,
                            "#bd3786"
                          ],
                          [
                            0.5555555555555556,
                            "#d8576b"
                          ],
                          [
                            0.6666666666666666,
                            "#ed7953"
                          ],
                          [
                            0.7777777777777778,
                            "#fb9f3a"
                          ],
                          [
                            0.8888888888888888,
                            "#fdca26"
                          ],
                          [
                            1,
                            "#f0f921"
                          ]
                        ],
                        "type": "histogram2d"
                      }
                    ],
                    "histogram2dcontour": [
                      {
                        "colorbar": {
                          "outlinewidth": 0,
                          "ticks": ""
                        },
                        "colorscale": [
                          [
                            0,
                            "#0d0887"
                          ],
                          [
                            0.1111111111111111,
                            "#46039f"
                          ],
                          [
                            0.2222222222222222,
                            "#7201a8"
                          ],
                          [
                            0.3333333333333333,
                            "#9c179e"
                          ],
                          [
                            0.4444444444444444,
                            "#bd3786"
                          ],
                          [
                            0.5555555555555556,
                            "#d8576b"
                          ],
                          [
                            0.6666666666666666,
                            "#ed7953"
                          ],
                          [
                            0.7777777777777778,
                            "#fb9f3a"
                          ],
                          [
                            0.8888888888888888,
                            "#fdca26"
                          ],
                          [
                            1,
                            "#f0f921"
                          ]
                        ],
                        "type": "histogram2dcontour"
                      }
                    ],
                    "mesh3d": [
                      {
                        "colorbar": {
                          "outlinewidth": 0,
                          "ticks": ""
                        },
                        "type": "mesh3d"
                      }
                    ],
                    "parcoords": [
                      {
                        "line": {
                          "colorbar": {
                            "outlinewidth": 0,
                            "ticks": ""
                          }
                        },
                        "type": "parcoords"
                      }
                    ],
                    "pie": [
                      {
                        "automargin": true,
                        "type": "pie"
                      }
                    ],
                    "scatter": [
                      {
                        "fillpattern": {
                          "fillmode": "overlay",
                          "size": 10,
                          "solidity": 0.2
                        },
                        "type": "scatter"
                      }
                    ],
                    "scatter3d": [
                      {
                        "line": {
                          "colorbar": {
                            "outlinewidth": 0,
                            "ticks": ""
                          }
                        },
                        "marker": {
                          "colorbar": {
                            "outlinewidth": 0,
                            "ticks": ""
                          }
                        },
                        "type": "scatter3d"
                      }
                    ],
                    "scattercarpet": [
                      {
                        "marker": {
                          "colorbar": {
                            "outlinewidth": 0,
                            "ticks": ""
                          }
                        },
                        "type": "scattercarpet"
                      }
                    ],
                    "scattergeo": [
                      {
                        "marker": {
                          "colorbar": {
                            "outlinewidth": 0,
                            "ticks": ""
                          }
                        },
                        "type": "scattergeo"
                      }
                    ],
                    "scattergl": [
                      {
                        "marker": {
                          "colorbar": {
                            "outlinewidth": 0,
                            "ticks": ""
                          }
                        },
                        "type": "scattergl"
                      }
                    ],
                    "scattermapbox": [
                      {
                        "marker": {
                          "colorbar": {
                            "outlinewidth": 0,
                            "ticks": ""
                          }
                        },
                        "type": "scattermapbox"
                      }
                    ],
                    "scatterpolar": [
                      {
                        "marker": {
                          "colorbar": {
                            "outlinewidth": 0,
                            "ticks": ""
                          }
                        },
                        "type": "scatterpolar"
                      }
                    ],
                    "scatterpolargl": [
                      {
                        "marker": {
                          "colorbar": {
                            "outlinewidth": 0,
                            "ticks": ""
                          }
                        },
                        "type": "scatterpolargl"
                      }
                    ],
                    "scatterternary": [
                      {
                        "marker": {
                          "colorbar": {
                            "outlinewidth": 0,
                            "ticks": ""
                          }
                        },
                        "type": "scatterternary"
                      }
                    ],
                    "surface": [
                      {
                        "colorbar": {
                          "outlinewidth": 0,
                          "ticks": ""
                        },
                        "colorscale": [
                          [
                            0,
                            "#0d0887"
                          ],
                          [
                            0.1111111111111111,
                            "#46039f"
                          ],
                          [
                            0.2222222222222222,
                            "#7201a8"
                          ],
                          [
                            0.3333333333333333,
                            "#9c179e"
                          ],
                          [
                            0.4444444444444444,
                            "#bd3786"
                          ],
                          [
                            0.5555555555555556,
                            "#d8576b"
                          ],
                          [
                            0.6666666666666666,
                            "#ed7953"
                          ],
                          [
                            0.7777777777777778,
                            "#fb9f3a"
                          ],
                          [
                            0.8888888888888888,
                            "#fdca26"
                          ],
                          [
                            1,
                            "#f0f921"
                          ]
                        ],
                        "type": "surface"
                      }
                    ],
                    "table": [
                      {
                        "cells": {
                          "fill": {
                            "color": "#EBF0F8"
                          },
                          "line": {
                            "color": "white"
                          }
                        },
                        "header": {
                          "fill": {
                            "color": "#C8D4E3"
                          },
                          "line": {
                            "color": "white"
                          }
                        },
                        "type": "table"
                      }
                    ]
                  },
                  "layout": {
                    "annotationdefaults": {
                      "arrowcolor": "#2a3f5f",
                      "arrowhead": 0,
                      "arrowwidth": 1
                    },
                    "autotypenumbers": "strict",
                    "coloraxis": {
                      "colorbar": {
                        "outlinewidth": 0,
                        "ticks": ""
                      }
                    },
                    "colorscale": {
                      "diverging": [
                        [
                          0,
                          "#8e0152"
                        ],
                        [
                          0.1,
                          "#c51b7d"
                        ],
                        [
                          0.2,
                          "#de77ae"
                        ],
                        [
                          0.3,
                          "#f1b6da"
                        ],
                        [
                          0.4,
                          "#fde0ef"
                        ],
                        [
                          0.5,
                          "#f7f7f7"
                        ],
                        [
                          0.6,
                          "#e6f5d0"
                        ],
                        [
                          0.7,
                          "#b8e186"
                        ],
                        [
                          0.8,
                          "#7fbc41"
                        ],
                        [
                          0.9,
                          "#4d9221"
                        ],
                        [
                          1,
                          "#276419"
                        ]
                      ],
                      "sequential": [
                        [
                          0,
                          "#0d0887"
                        ],
                        [
                          0.1111111111111111,
                          "#46039f"
                        ],
                        [
                          0.2222222222222222,
                          "#7201a8"
                        ],
                        [
                          0.3333333333333333,
                          "#9c179e"
                        ],
                        [
                          0.4444444444444444,
                          "#bd3786"
                        ],
                        [
                          0.5555555555555556,
                          "#d8576b"
                        ],
                        [
                          0.6666666666666666,
                          "#ed7953"
                        ],
                        [
                          0.7777777777777778,
                          "#fb9f3a"
                        ],
                        [
                          0.8888888888888888,
                          "#fdca26"
                        ],
                        [
                          1,
                          "#f0f921"
                        ]
                      ],
                      "sequentialminus": [
                        [
                          0,
                          "#0d0887"
                        ],
                        [
                          0.1111111111111111,
                          "#46039f"
                        ],
                        [
                          0.2222222222222222,
                          "#7201a8"
                        ],
                        [
                          0.3333333333333333,
                          "#9c179e"
                        ],
                        [
                          0.4444444444444444,
                          "#bd3786"
                        ],
                        [
                          0.5555555555555556,
                          "#d8576b"
                        ],
                        [
                          0.6666666666666666,
                          "#ed7953"
                        ],
                        [
                          0.7777777777777778,
                          "#fb9f3a"
                        ],
                        [
                          0.8888888888888888,
                          "#fdca26"
                        ],
                        [
                          1,
                          "#f0f921"
                        ]
                      ]
                    },
                    "colorway": [
                      "#636efa",
                      "#EF553B",
                      "#00cc96",
                      "#ab63fa",
                      "#FFA15A",
                      "#19d3f3",
                      "#FF6692",
                      "#B6E880",
                      "#FF97FF",
                      "#FECB52"
                    ],
                    "font": {
                      "color": "#2a3f5f"
                    },
                    "geo": {
                      "bgcolor": "white",
                      "lakecolor": "white",
                      "landcolor": "#E5ECF6",
                      "showlakes": true,
                      "showland": true,
                      "subunitcolor": "white"
                    },
                    "hoverlabel": {
                      "align": "left"
                    },
                    "hovermode": "closest",
                    "mapbox": {
                      "style": "light"
                    },
                    "paper_bgcolor": "white",
                    "plot_bgcolor": "#E5ECF6",
                    "polar": {
                      "angularaxis": {
                        "gridcolor": "white",
                        "linecolor": "white",
                        "ticks": ""
                      },
                      "bgcolor": "#E5ECF6",
                      "radialaxis": {
                        "gridcolor": "white",
                        "linecolor": "white",
                        "ticks": ""
                      }
                    },
                    "scene": {
                      "xaxis": {
                        "backgroundcolor": "#E5ECF6",
                        "gridcolor": "white",
                        "gridwidth": 2,
                        "linecolor": "white",
                        "showbackground": true,
                        "ticks": "",
                        "zerolinecolor": "white"
                      },
                      "yaxis": {
                        "backgroundcolor": "#E5ECF6",
                        "gridcolor": "white",
                        "gridwidth": 2,
                        "linecolor": "white",
                        "showbackground": true,
                        "ticks": "",
                        "zerolinecolor": "white"
                      },
                      "zaxis": {
                        "backgroundcolor": "#E5ECF6",
                        "gridcolor": "white",
                        "gridwidth": 2,
                        "linecolor": "white",
                        "showbackground": true,
                        "ticks": "",
                        "zerolinecolor": "white"
                      }
                    },
                    "shapedefaults": {
                      "line": {
                        "color": "#2a3f5f"
                      }
                    },
                    "ternary": {
                      "aaxis": {
                        "gridcolor": "white",
                        "linecolor": "white",
                        "ticks": ""
                      },
                      "baxis": {
                        "gridcolor": "white",
                        "linecolor": "white",
                        "ticks": ""
                      },
                      "bgcolor": "#E5ECF6",
                      "caxis": {
                        "gridcolor": "white",
                        "linecolor": "white",
                        "ticks": ""
                      }
                    },
                    "title": {
                      "x": 0.05
                    },
                    "xaxis": {
                      "automargin": true,
                      "gridcolor": "white",
                      "linecolor": "white",
                      "ticks": "",
                      "title": {
                        "standoff": 15
                      },
                      "zerolinecolor": "white",
                      "zerolinewidth": 2
                    },
                    "yaxis": {
                      "automargin": true,
                      "gridcolor": "white",
                      "linecolor": "white",
                      "ticks": "",
                      "title": {
                        "standoff": 15
                      },
                      "zerolinecolor": "white",
                      "zerolinewidth": 2
                    }
                  }
                },
                "title": {
                  "text": "Model Performance"
                },
                "xaxis": {
                  "title": {
                    "text": "Score Type"
                  }
                },
                "yaxis": {
                  "title": {
                    "text": "Score"
                  }
                }
              }
            }
          },
          "metadata": {},
          "output_type": "display_data"
        }
      ],
      "source": [
        "# Create a Random Forest Regressor model\n",
        "\n",
        "from sklearn.ensemble import RandomForestRegressor\n",
        "\n",
        "model = RandomForestRegressor(max_depth=5, \n",
        "                              n_estimators=500, \n",
        "                              n_jobs=-1)\n",
        "\n",
        "# Train the model\n",
        "model.fit(df_x_select, df_y)\n",
        "\n",
        "# Get the training MSE, R2 score, Testing MSE, and R2 score\n",
        "mse_train = mean_squared_error(df_y, model.predict(df_x_select))\n",
        "r2_train = r2_score(df_y, model.predict(df_x_select))\n",
        "mse_test = mean_squared_error(df_test_y, model.predict(df_test_x_select))\n",
        "r2_test = r2_score(df_test_y, model.predict(df_test_x_select))\n",
        "\n",
        "# Print the training MSE and R2 score\n",
        "print('Training MSE: ', mse_train)\n",
        "print('Training R2: ', r2_train)\n",
        "\n",
        "# Print the testing MSE and R2 score\n",
        "print('Testing MSE: ', mse_test)\n",
        "print('Testing R2: ', r2_test)\n",
        "\n",
        "# Display the scores\n",
        "plot_scores(mse_train, r2_train, mse_test, r2_test)\n",
        "# Save the model\n",
        "pickle.dump(model, open('models/regression/rf.pkl', 'wb'))"
      ]
    },
    {
      "cell_type": "code",
      "execution_count": 49,
      "metadata": {},
      "outputs": [
        {
          "name": "stdout",
          "output_type": "stream",
          "text": [
            "0:\tlearn: 0.6465641\ttotal: 631us\tremaining: 631ms\n",
            "50:\tlearn: 0.5259616\ttotal: 27.4ms\tremaining: 509ms\n",
            "100:\tlearn: 0.5073582\ttotal: 53.5ms\tremaining: 477ms\n",
            "150:\tlearn: 0.4999149\ttotal: 79.4ms\tremaining: 447ms\n",
            "200:\tlearn: 0.4936061\ttotal: 107ms\tremaining: 424ms\n",
            "250:\tlearn: 0.4872944\ttotal: 135ms\tremaining: 402ms\n",
            "300:\tlearn: 0.4816339\ttotal: 162ms\tremaining: 376ms\n",
            "350:\tlearn: 0.4764304\ttotal: 190ms\tremaining: 350ms\n",
            "400:\tlearn: 0.4719537\ttotal: 218ms\tremaining: 325ms\n",
            "450:\tlearn: 0.4677928\ttotal: 245ms\tremaining: 299ms\n",
            "500:\tlearn: 0.4640482\ttotal: 273ms\tremaining: 272ms\n",
            "550:\tlearn: 0.4605026\ttotal: 299ms\tremaining: 244ms\n",
            "600:\tlearn: 0.4569553\ttotal: 326ms\tremaining: 216ms\n",
            "650:\tlearn: 0.4534967\ttotal: 353ms\tremaining: 189ms\n",
            "700:\tlearn: 0.4505623\ttotal: 382ms\tremaining: 163ms\n",
            "750:\tlearn: 0.4474345\ttotal: 410ms\tremaining: 136ms\n",
            "800:\tlearn: 0.4442320\ttotal: 445ms\tremaining: 111ms\n",
            "850:\tlearn: 0.4414621\ttotal: 470ms\tremaining: 82.3ms\n",
            "900:\tlearn: 0.4386547\ttotal: 497ms\tremaining: 54.7ms\n",
            "950:\tlearn: 0.4355063\ttotal: 524ms\tremaining: 27ms\n",
            "999:\tlearn: 0.4328108\ttotal: 589ms\tremaining: 0us\n",
            "Training MSE:  0.18732514695060096\n",
            "Training R2:  0.562002910249646\n",
            "Testing MSE:  0.32011206105550877\n",
            "Testing R2:  0.29084397646347426\n",
            "  Feature Id  Importances\n",
            "0          4        31.01\n",
            "1          7        18.63\n",
            "2          0        17.36\n",
            "3          6        10.11\n",
            "4          5         8.16\n",
            "5          1         7.26\n",
            "6          2         4.71\n",
            "7          3         2.76\n"
          ]
        },
        {
          "data": {
            "application/vnd.plotly.v1+json": {
              "config": {
                "plotlyServerURL": "https://plot.ly"
              },
              "data": [
                {
                  "marker": {
                    "color": "navy"
                  },
                  "name": "MSE Train",
                  "type": "bar",
                  "x": [
                    "MSE"
                  ],
                  "y": [
                    0.18732514695060096
                  ]
                },
                {
                  "marker": {
                    "color": "blue"
                  },
                  "name": "MSE Test",
                  "type": "bar",
                  "x": [
                    "MSE"
                  ],
                  "y": [
                    0.32011206105550877
                  ]
                },
                {
                  "marker": {
                    "color": "red"
                  },
                  "name": "MSE Difference",
                  "type": "bar",
                  "x": [
                    "MSE"
                  ],
                  "y": [
                    0.1327869141049078
                  ]
                },
                {
                  "marker": {
                    "color": "purple"
                  },
                  "name": "R2 Train",
                  "type": "bar",
                  "x": [
                    "R2"
                  ],
                  "y": [
                    0.562002910249646
                  ]
                },
                {
                  "marker": {
                    "color": "pink"
                  },
                  "name": "R2 Test",
                  "type": "bar",
                  "x": [
                    "R2"
                  ],
                  "y": [
                    0.29084397646347426
                  ]
                },
                {
                  "marker": {
                    "color": "red"
                  },
                  "name": "R2 Difference",
                  "type": "bar",
                  "x": [
                    "R2"
                  ],
                  "y": [
                    0.27115893378617173
                  ]
                }
              ],
              "layout": {
                "template": {
                  "data": {
                    "bar": [
                      {
                        "error_x": {
                          "color": "#2a3f5f"
                        },
                        "error_y": {
                          "color": "#2a3f5f"
                        },
                        "marker": {
                          "line": {
                            "color": "#E5ECF6",
                            "width": 0.5
                          },
                          "pattern": {
                            "fillmode": "overlay",
                            "size": 10,
                            "solidity": 0.2
                          }
                        },
                        "type": "bar"
                      }
                    ],
                    "barpolar": [
                      {
                        "marker": {
                          "line": {
                            "color": "#E5ECF6",
                            "width": 0.5
                          },
                          "pattern": {
                            "fillmode": "overlay",
                            "size": 10,
                            "solidity": 0.2
                          }
                        },
                        "type": "barpolar"
                      }
                    ],
                    "carpet": [
                      {
                        "aaxis": {
                          "endlinecolor": "#2a3f5f",
                          "gridcolor": "white",
                          "linecolor": "white",
                          "minorgridcolor": "white",
                          "startlinecolor": "#2a3f5f"
                        },
                        "baxis": {
                          "endlinecolor": "#2a3f5f",
                          "gridcolor": "white",
                          "linecolor": "white",
                          "minorgridcolor": "white",
                          "startlinecolor": "#2a3f5f"
                        },
                        "type": "carpet"
                      }
                    ],
                    "choropleth": [
                      {
                        "colorbar": {
                          "outlinewidth": 0,
                          "ticks": ""
                        },
                        "type": "choropleth"
                      }
                    ],
                    "contour": [
                      {
                        "colorbar": {
                          "outlinewidth": 0,
                          "ticks": ""
                        },
                        "colorscale": [
                          [
                            0,
                            "#0d0887"
                          ],
                          [
                            0.1111111111111111,
                            "#46039f"
                          ],
                          [
                            0.2222222222222222,
                            "#7201a8"
                          ],
                          [
                            0.3333333333333333,
                            "#9c179e"
                          ],
                          [
                            0.4444444444444444,
                            "#bd3786"
                          ],
                          [
                            0.5555555555555556,
                            "#d8576b"
                          ],
                          [
                            0.6666666666666666,
                            "#ed7953"
                          ],
                          [
                            0.7777777777777778,
                            "#fb9f3a"
                          ],
                          [
                            0.8888888888888888,
                            "#fdca26"
                          ],
                          [
                            1,
                            "#f0f921"
                          ]
                        ],
                        "type": "contour"
                      }
                    ],
                    "contourcarpet": [
                      {
                        "colorbar": {
                          "outlinewidth": 0,
                          "ticks": ""
                        },
                        "type": "contourcarpet"
                      }
                    ],
                    "heatmap": [
                      {
                        "colorbar": {
                          "outlinewidth": 0,
                          "ticks": ""
                        },
                        "colorscale": [
                          [
                            0,
                            "#0d0887"
                          ],
                          [
                            0.1111111111111111,
                            "#46039f"
                          ],
                          [
                            0.2222222222222222,
                            "#7201a8"
                          ],
                          [
                            0.3333333333333333,
                            "#9c179e"
                          ],
                          [
                            0.4444444444444444,
                            "#bd3786"
                          ],
                          [
                            0.5555555555555556,
                            "#d8576b"
                          ],
                          [
                            0.6666666666666666,
                            "#ed7953"
                          ],
                          [
                            0.7777777777777778,
                            "#fb9f3a"
                          ],
                          [
                            0.8888888888888888,
                            "#fdca26"
                          ],
                          [
                            1,
                            "#f0f921"
                          ]
                        ],
                        "type": "heatmap"
                      }
                    ],
                    "heatmapgl": [
                      {
                        "colorbar": {
                          "outlinewidth": 0,
                          "ticks": ""
                        },
                        "colorscale": [
                          [
                            0,
                            "#0d0887"
                          ],
                          [
                            0.1111111111111111,
                            "#46039f"
                          ],
                          [
                            0.2222222222222222,
                            "#7201a8"
                          ],
                          [
                            0.3333333333333333,
                            "#9c179e"
                          ],
                          [
                            0.4444444444444444,
                            "#bd3786"
                          ],
                          [
                            0.5555555555555556,
                            "#d8576b"
                          ],
                          [
                            0.6666666666666666,
                            "#ed7953"
                          ],
                          [
                            0.7777777777777778,
                            "#fb9f3a"
                          ],
                          [
                            0.8888888888888888,
                            "#fdca26"
                          ],
                          [
                            1,
                            "#f0f921"
                          ]
                        ],
                        "type": "heatmapgl"
                      }
                    ],
                    "histogram": [
                      {
                        "marker": {
                          "pattern": {
                            "fillmode": "overlay",
                            "size": 10,
                            "solidity": 0.2
                          }
                        },
                        "type": "histogram"
                      }
                    ],
                    "histogram2d": [
                      {
                        "colorbar": {
                          "outlinewidth": 0,
                          "ticks": ""
                        },
                        "colorscale": [
                          [
                            0,
                            "#0d0887"
                          ],
                          [
                            0.1111111111111111,
                            "#46039f"
                          ],
                          [
                            0.2222222222222222,
                            "#7201a8"
                          ],
                          [
                            0.3333333333333333,
                            "#9c179e"
                          ],
                          [
                            0.4444444444444444,
                            "#bd3786"
                          ],
                          [
                            0.5555555555555556,
                            "#d8576b"
                          ],
                          [
                            0.6666666666666666,
                            "#ed7953"
                          ],
                          [
                            0.7777777777777778,
                            "#fb9f3a"
                          ],
                          [
                            0.8888888888888888,
                            "#fdca26"
                          ],
                          [
                            1,
                            "#f0f921"
                          ]
                        ],
                        "type": "histogram2d"
                      }
                    ],
                    "histogram2dcontour": [
                      {
                        "colorbar": {
                          "outlinewidth": 0,
                          "ticks": ""
                        },
                        "colorscale": [
                          [
                            0,
                            "#0d0887"
                          ],
                          [
                            0.1111111111111111,
                            "#46039f"
                          ],
                          [
                            0.2222222222222222,
                            "#7201a8"
                          ],
                          [
                            0.3333333333333333,
                            "#9c179e"
                          ],
                          [
                            0.4444444444444444,
                            "#bd3786"
                          ],
                          [
                            0.5555555555555556,
                            "#d8576b"
                          ],
                          [
                            0.6666666666666666,
                            "#ed7953"
                          ],
                          [
                            0.7777777777777778,
                            "#fb9f3a"
                          ],
                          [
                            0.8888888888888888,
                            "#fdca26"
                          ],
                          [
                            1,
                            "#f0f921"
                          ]
                        ],
                        "type": "histogram2dcontour"
                      }
                    ],
                    "mesh3d": [
                      {
                        "colorbar": {
                          "outlinewidth": 0,
                          "ticks": ""
                        },
                        "type": "mesh3d"
                      }
                    ],
                    "parcoords": [
                      {
                        "line": {
                          "colorbar": {
                            "outlinewidth": 0,
                            "ticks": ""
                          }
                        },
                        "type": "parcoords"
                      }
                    ],
                    "pie": [
                      {
                        "automargin": true,
                        "type": "pie"
                      }
                    ],
                    "scatter": [
                      {
                        "fillpattern": {
                          "fillmode": "overlay",
                          "size": 10,
                          "solidity": 0.2
                        },
                        "type": "scatter"
                      }
                    ],
                    "scatter3d": [
                      {
                        "line": {
                          "colorbar": {
                            "outlinewidth": 0,
                            "ticks": ""
                          }
                        },
                        "marker": {
                          "colorbar": {
                            "outlinewidth": 0,
                            "ticks": ""
                          }
                        },
                        "type": "scatter3d"
                      }
                    ],
                    "scattercarpet": [
                      {
                        "marker": {
                          "colorbar": {
                            "outlinewidth": 0,
                            "ticks": ""
                          }
                        },
                        "type": "scattercarpet"
                      }
                    ],
                    "scattergeo": [
                      {
                        "marker": {
                          "colorbar": {
                            "outlinewidth": 0,
                            "ticks": ""
                          }
                        },
                        "type": "scattergeo"
                      }
                    ],
                    "scattergl": [
                      {
                        "marker": {
                          "colorbar": {
                            "outlinewidth": 0,
                            "ticks": ""
                          }
                        },
                        "type": "scattergl"
                      }
                    ],
                    "scattermapbox": [
                      {
                        "marker": {
                          "colorbar": {
                            "outlinewidth": 0,
                            "ticks": ""
                          }
                        },
                        "type": "scattermapbox"
                      }
                    ],
                    "scatterpolar": [
                      {
                        "marker": {
                          "colorbar": {
                            "outlinewidth": 0,
                            "ticks": ""
                          }
                        },
                        "type": "scatterpolar"
                      }
                    ],
                    "scatterpolargl": [
                      {
                        "marker": {
                          "colorbar": {
                            "outlinewidth": 0,
                            "ticks": ""
                          }
                        },
                        "type": "scatterpolargl"
                      }
                    ],
                    "scatterternary": [
                      {
                        "marker": {
                          "colorbar": {
                            "outlinewidth": 0,
                            "ticks": ""
                          }
                        },
                        "type": "scatterternary"
                      }
                    ],
                    "surface": [
                      {
                        "colorbar": {
                          "outlinewidth": 0,
                          "ticks": ""
                        },
                        "colorscale": [
                          [
                            0,
                            "#0d0887"
                          ],
                          [
                            0.1111111111111111,
                            "#46039f"
                          ],
                          [
                            0.2222222222222222,
                            "#7201a8"
                          ],
                          [
                            0.3333333333333333,
                            "#9c179e"
                          ],
                          [
                            0.4444444444444444,
                            "#bd3786"
                          ],
                          [
                            0.5555555555555556,
                            "#d8576b"
                          ],
                          [
                            0.6666666666666666,
                            "#ed7953"
                          ],
                          [
                            0.7777777777777778,
                            "#fb9f3a"
                          ],
                          [
                            0.8888888888888888,
                            "#fdca26"
                          ],
                          [
                            1,
                            "#f0f921"
                          ]
                        ],
                        "type": "surface"
                      }
                    ],
                    "table": [
                      {
                        "cells": {
                          "fill": {
                            "color": "#EBF0F8"
                          },
                          "line": {
                            "color": "white"
                          }
                        },
                        "header": {
                          "fill": {
                            "color": "#C8D4E3"
                          },
                          "line": {
                            "color": "white"
                          }
                        },
                        "type": "table"
                      }
                    ]
                  },
                  "layout": {
                    "annotationdefaults": {
                      "arrowcolor": "#2a3f5f",
                      "arrowhead": 0,
                      "arrowwidth": 1
                    },
                    "autotypenumbers": "strict",
                    "coloraxis": {
                      "colorbar": {
                        "outlinewidth": 0,
                        "ticks": ""
                      }
                    },
                    "colorscale": {
                      "diverging": [
                        [
                          0,
                          "#8e0152"
                        ],
                        [
                          0.1,
                          "#c51b7d"
                        ],
                        [
                          0.2,
                          "#de77ae"
                        ],
                        [
                          0.3,
                          "#f1b6da"
                        ],
                        [
                          0.4,
                          "#fde0ef"
                        ],
                        [
                          0.5,
                          "#f7f7f7"
                        ],
                        [
                          0.6,
                          "#e6f5d0"
                        ],
                        [
                          0.7,
                          "#b8e186"
                        ],
                        [
                          0.8,
                          "#7fbc41"
                        ],
                        [
                          0.9,
                          "#4d9221"
                        ],
                        [
                          1,
                          "#276419"
                        ]
                      ],
                      "sequential": [
                        [
                          0,
                          "#0d0887"
                        ],
                        [
                          0.1111111111111111,
                          "#46039f"
                        ],
                        [
                          0.2222222222222222,
                          "#7201a8"
                        ],
                        [
                          0.3333333333333333,
                          "#9c179e"
                        ],
                        [
                          0.4444444444444444,
                          "#bd3786"
                        ],
                        [
                          0.5555555555555556,
                          "#d8576b"
                        ],
                        [
                          0.6666666666666666,
                          "#ed7953"
                        ],
                        [
                          0.7777777777777778,
                          "#fb9f3a"
                        ],
                        [
                          0.8888888888888888,
                          "#fdca26"
                        ],
                        [
                          1,
                          "#f0f921"
                        ]
                      ],
                      "sequentialminus": [
                        [
                          0,
                          "#0d0887"
                        ],
                        [
                          0.1111111111111111,
                          "#46039f"
                        ],
                        [
                          0.2222222222222222,
                          "#7201a8"
                        ],
                        [
                          0.3333333333333333,
                          "#9c179e"
                        ],
                        [
                          0.4444444444444444,
                          "#bd3786"
                        ],
                        [
                          0.5555555555555556,
                          "#d8576b"
                        ],
                        [
                          0.6666666666666666,
                          "#ed7953"
                        ],
                        [
                          0.7777777777777778,
                          "#fb9f3a"
                        ],
                        [
                          0.8888888888888888,
                          "#fdca26"
                        ],
                        [
                          1,
                          "#f0f921"
                        ]
                      ]
                    },
                    "colorway": [
                      "#636efa",
                      "#EF553B",
                      "#00cc96",
                      "#ab63fa",
                      "#FFA15A",
                      "#19d3f3",
                      "#FF6692",
                      "#B6E880",
                      "#FF97FF",
                      "#FECB52"
                    ],
                    "font": {
                      "color": "#2a3f5f"
                    },
                    "geo": {
                      "bgcolor": "white",
                      "lakecolor": "white",
                      "landcolor": "#E5ECF6",
                      "showlakes": true,
                      "showland": true,
                      "subunitcolor": "white"
                    },
                    "hoverlabel": {
                      "align": "left"
                    },
                    "hovermode": "closest",
                    "mapbox": {
                      "style": "light"
                    },
                    "paper_bgcolor": "white",
                    "plot_bgcolor": "#E5ECF6",
                    "polar": {
                      "angularaxis": {
                        "gridcolor": "white",
                        "linecolor": "white",
                        "ticks": ""
                      },
                      "bgcolor": "#E5ECF6",
                      "radialaxis": {
                        "gridcolor": "white",
                        "linecolor": "white",
                        "ticks": ""
                      }
                    },
                    "scene": {
                      "xaxis": {
                        "backgroundcolor": "#E5ECF6",
                        "gridcolor": "white",
                        "gridwidth": 2,
                        "linecolor": "white",
                        "showbackground": true,
                        "ticks": "",
                        "zerolinecolor": "white"
                      },
                      "yaxis": {
                        "backgroundcolor": "#E5ECF6",
                        "gridcolor": "white",
                        "gridwidth": 2,
                        "linecolor": "white",
                        "showbackground": true,
                        "ticks": "",
                        "zerolinecolor": "white"
                      },
                      "zaxis": {
                        "backgroundcolor": "#E5ECF6",
                        "gridcolor": "white",
                        "gridwidth": 2,
                        "linecolor": "white",
                        "showbackground": true,
                        "ticks": "",
                        "zerolinecolor": "white"
                      }
                    },
                    "shapedefaults": {
                      "line": {
                        "color": "#2a3f5f"
                      }
                    },
                    "ternary": {
                      "aaxis": {
                        "gridcolor": "white",
                        "linecolor": "white",
                        "ticks": ""
                      },
                      "baxis": {
                        "gridcolor": "white",
                        "linecolor": "white",
                        "ticks": ""
                      },
                      "bgcolor": "#E5ECF6",
                      "caxis": {
                        "gridcolor": "white",
                        "linecolor": "white",
                        "ticks": ""
                      }
                    },
                    "title": {
                      "x": 0.05
                    },
                    "xaxis": {
                      "automargin": true,
                      "gridcolor": "white",
                      "linecolor": "white",
                      "ticks": "",
                      "title": {
                        "standoff": 15
                      },
                      "zerolinecolor": "white",
                      "zerolinewidth": 2
                    },
                    "yaxis": {
                      "automargin": true,
                      "gridcolor": "white",
                      "linecolor": "white",
                      "ticks": "",
                      "title": {
                        "standoff": 15
                      },
                      "zerolinecolor": "white",
                      "zerolinewidth": 2
                    }
                  }
                },
                "title": {
                  "text": "Model Performance"
                },
                "xaxis": {
                  "title": {
                    "text": "Score Type"
                  }
                },
                "yaxis": {
                  "title": {
                    "text": "Score"
                  }
                }
              }
            }
          },
          "metadata": {},
          "output_type": "display_data"
        }
      ],
      "source": [
        "# Create a CatBoost Regressor model\n",
        "\n",
        "from catboost import CatBoostRegressor\n",
        "\n",
        "model = CatBoostRegressor(iterations=1000,\n",
        "                            learning_rate=0.05,\n",
        "                            depth=3,\n",
        "                            l2_leaf_reg=1,\n",
        "                            border_count=32,\n",
        "                            bagging_temperature=1,\n",
        "                            fold_permutation_block=1,\n",
        "                            boosting_type='Plain',\n",
        "                            random_seed=42,\n",
        "                            subsample=1.0,\n",
        "                            colsample_bylevel=0.5,\n",
        "                            early_stopping_rounds=5,\n",
        "                            loss_function='RMSE', eval_metric='RMSE',\n",
        "                          verbose=50)\n",
        "\n",
        "# Train the model\n",
        "model.fit(df_x_select, df_y)\n",
        "\n",
        "# Get the training MSE, R2 score, Testing MSE, and R2 score\n",
        "mse_train = mean_squared_error(df_y, model.predict(df_x_select))\n",
        "r2_train = r2_score(df_y, model.predict(df_x_select))\n",
        "mse_test = mean_squared_error(df_test_y, model.predict(df_test_x_select))\n",
        "r2_test = r2_score(df_test_y, model.predict(df_test_x_select))\n",
        "\n",
        "# Print the training MSE and R2 score\n",
        "print('Training MSE: ', mse_train)\n",
        "print('Training R2: ', r2_train)\n",
        "\n",
        "# Print the testing MSE and R2 score\n",
        "print('Testing MSE: ', mse_test)\n",
        "print('Testing R2: ', r2_test)\n",
        "\n",
        "# print catboost weights with the feature names and biases\n",
        "print(model.get_feature_importance(prettified=True)) \n",
        "\n",
        "# Display the scores\n",
        "plot_scores(mse_train, r2_train, mse_test, r2_test)\n",
        "\n",
        "# Save the model\n",
        "pickle.dump(model, open('models/regression/cb.pkl', 'wb'))"
      ]
    },
    {
      "attachments": {},
      "cell_type": "markdown",
      "metadata": {},
      "source": [
        "## Hyperparameter Tuning"
      ]
    },
    {
      "cell_type": "code",
      "execution_count": 50,
      "metadata": {},
      "outputs": [
        {
          "name": "stdout",
          "output_type": "stream",
          "text": [
            "Fitting 5 folds for each of 36 candidates, totalling 180 fits\n",
            "Best SVM hyperparameters:  {'C': 0.8, 'epsilon': 0.1, 'gamma': 'scale', 'kernel': 'rbf'}\n",
            "Training MSE:  0.24096308662223825\n",
            "Training R2:  0.4365885606077502\n",
            "Testing MSE:  0.3227500910538903\n",
            "Testing R2:  0.2849998515734161\n"
          ]
        },
        {
          "data": {
            "application/vnd.plotly.v1+json": {
              "config": {
                "plotlyServerURL": "https://plot.ly"
              },
              "data": [
                {
                  "marker": {
                    "color": "navy"
                  },
                  "name": "MSE Train",
                  "type": "bar",
                  "x": [
                    "MSE"
                  ],
                  "y": [
                    0.24096308662223825
                  ]
                },
                {
                  "marker": {
                    "color": "blue"
                  },
                  "name": "MSE Test",
                  "type": "bar",
                  "x": [
                    "MSE"
                  ],
                  "y": [
                    0.3227500910538903
                  ]
                },
                {
                  "marker": {
                    "color": "green"
                  },
                  "name": "MSE Difference",
                  "type": "bar",
                  "x": [
                    "MSE"
                  ],
                  "y": [
                    0.08178700443165204
                  ]
                },
                {
                  "marker": {
                    "color": "purple"
                  },
                  "name": "R2 Train",
                  "type": "bar",
                  "x": [
                    "R2"
                  ],
                  "y": [
                    0.4365885606077502
                  ]
                },
                {
                  "marker": {
                    "color": "pink"
                  },
                  "name": "R2 Test",
                  "type": "bar",
                  "x": [
                    "R2"
                  ],
                  "y": [
                    0.2849998515734161
                  ]
                },
                {
                  "marker": {
                    "color": "red"
                  },
                  "name": "R2 Difference",
                  "type": "bar",
                  "x": [
                    "R2"
                  ],
                  "y": [
                    0.15158870903433408
                  ]
                }
              ],
              "layout": {
                "template": {
                  "data": {
                    "bar": [
                      {
                        "error_x": {
                          "color": "#2a3f5f"
                        },
                        "error_y": {
                          "color": "#2a3f5f"
                        },
                        "marker": {
                          "line": {
                            "color": "#E5ECF6",
                            "width": 0.5
                          },
                          "pattern": {
                            "fillmode": "overlay",
                            "size": 10,
                            "solidity": 0.2
                          }
                        },
                        "type": "bar"
                      }
                    ],
                    "barpolar": [
                      {
                        "marker": {
                          "line": {
                            "color": "#E5ECF6",
                            "width": 0.5
                          },
                          "pattern": {
                            "fillmode": "overlay",
                            "size": 10,
                            "solidity": 0.2
                          }
                        },
                        "type": "barpolar"
                      }
                    ],
                    "carpet": [
                      {
                        "aaxis": {
                          "endlinecolor": "#2a3f5f",
                          "gridcolor": "white",
                          "linecolor": "white",
                          "minorgridcolor": "white",
                          "startlinecolor": "#2a3f5f"
                        },
                        "baxis": {
                          "endlinecolor": "#2a3f5f",
                          "gridcolor": "white",
                          "linecolor": "white",
                          "minorgridcolor": "white",
                          "startlinecolor": "#2a3f5f"
                        },
                        "type": "carpet"
                      }
                    ],
                    "choropleth": [
                      {
                        "colorbar": {
                          "outlinewidth": 0,
                          "ticks": ""
                        },
                        "type": "choropleth"
                      }
                    ],
                    "contour": [
                      {
                        "colorbar": {
                          "outlinewidth": 0,
                          "ticks": ""
                        },
                        "colorscale": [
                          [
                            0,
                            "#0d0887"
                          ],
                          [
                            0.1111111111111111,
                            "#46039f"
                          ],
                          [
                            0.2222222222222222,
                            "#7201a8"
                          ],
                          [
                            0.3333333333333333,
                            "#9c179e"
                          ],
                          [
                            0.4444444444444444,
                            "#bd3786"
                          ],
                          [
                            0.5555555555555556,
                            "#d8576b"
                          ],
                          [
                            0.6666666666666666,
                            "#ed7953"
                          ],
                          [
                            0.7777777777777778,
                            "#fb9f3a"
                          ],
                          [
                            0.8888888888888888,
                            "#fdca26"
                          ],
                          [
                            1,
                            "#f0f921"
                          ]
                        ],
                        "type": "contour"
                      }
                    ],
                    "contourcarpet": [
                      {
                        "colorbar": {
                          "outlinewidth": 0,
                          "ticks": ""
                        },
                        "type": "contourcarpet"
                      }
                    ],
                    "heatmap": [
                      {
                        "colorbar": {
                          "outlinewidth": 0,
                          "ticks": ""
                        },
                        "colorscale": [
                          [
                            0,
                            "#0d0887"
                          ],
                          [
                            0.1111111111111111,
                            "#46039f"
                          ],
                          [
                            0.2222222222222222,
                            "#7201a8"
                          ],
                          [
                            0.3333333333333333,
                            "#9c179e"
                          ],
                          [
                            0.4444444444444444,
                            "#bd3786"
                          ],
                          [
                            0.5555555555555556,
                            "#d8576b"
                          ],
                          [
                            0.6666666666666666,
                            "#ed7953"
                          ],
                          [
                            0.7777777777777778,
                            "#fb9f3a"
                          ],
                          [
                            0.8888888888888888,
                            "#fdca26"
                          ],
                          [
                            1,
                            "#f0f921"
                          ]
                        ],
                        "type": "heatmap"
                      }
                    ],
                    "heatmapgl": [
                      {
                        "colorbar": {
                          "outlinewidth": 0,
                          "ticks": ""
                        },
                        "colorscale": [
                          [
                            0,
                            "#0d0887"
                          ],
                          [
                            0.1111111111111111,
                            "#46039f"
                          ],
                          [
                            0.2222222222222222,
                            "#7201a8"
                          ],
                          [
                            0.3333333333333333,
                            "#9c179e"
                          ],
                          [
                            0.4444444444444444,
                            "#bd3786"
                          ],
                          [
                            0.5555555555555556,
                            "#d8576b"
                          ],
                          [
                            0.6666666666666666,
                            "#ed7953"
                          ],
                          [
                            0.7777777777777778,
                            "#fb9f3a"
                          ],
                          [
                            0.8888888888888888,
                            "#fdca26"
                          ],
                          [
                            1,
                            "#f0f921"
                          ]
                        ],
                        "type": "heatmapgl"
                      }
                    ],
                    "histogram": [
                      {
                        "marker": {
                          "pattern": {
                            "fillmode": "overlay",
                            "size": 10,
                            "solidity": 0.2
                          }
                        },
                        "type": "histogram"
                      }
                    ],
                    "histogram2d": [
                      {
                        "colorbar": {
                          "outlinewidth": 0,
                          "ticks": ""
                        },
                        "colorscale": [
                          [
                            0,
                            "#0d0887"
                          ],
                          [
                            0.1111111111111111,
                            "#46039f"
                          ],
                          [
                            0.2222222222222222,
                            "#7201a8"
                          ],
                          [
                            0.3333333333333333,
                            "#9c179e"
                          ],
                          [
                            0.4444444444444444,
                            "#bd3786"
                          ],
                          [
                            0.5555555555555556,
                            "#d8576b"
                          ],
                          [
                            0.6666666666666666,
                            "#ed7953"
                          ],
                          [
                            0.7777777777777778,
                            "#fb9f3a"
                          ],
                          [
                            0.8888888888888888,
                            "#fdca26"
                          ],
                          [
                            1,
                            "#f0f921"
                          ]
                        ],
                        "type": "histogram2d"
                      }
                    ],
                    "histogram2dcontour": [
                      {
                        "colorbar": {
                          "outlinewidth": 0,
                          "ticks": ""
                        },
                        "colorscale": [
                          [
                            0,
                            "#0d0887"
                          ],
                          [
                            0.1111111111111111,
                            "#46039f"
                          ],
                          [
                            0.2222222222222222,
                            "#7201a8"
                          ],
                          [
                            0.3333333333333333,
                            "#9c179e"
                          ],
                          [
                            0.4444444444444444,
                            "#bd3786"
                          ],
                          [
                            0.5555555555555556,
                            "#d8576b"
                          ],
                          [
                            0.6666666666666666,
                            "#ed7953"
                          ],
                          [
                            0.7777777777777778,
                            "#fb9f3a"
                          ],
                          [
                            0.8888888888888888,
                            "#fdca26"
                          ],
                          [
                            1,
                            "#f0f921"
                          ]
                        ],
                        "type": "histogram2dcontour"
                      }
                    ],
                    "mesh3d": [
                      {
                        "colorbar": {
                          "outlinewidth": 0,
                          "ticks": ""
                        },
                        "type": "mesh3d"
                      }
                    ],
                    "parcoords": [
                      {
                        "line": {
                          "colorbar": {
                            "outlinewidth": 0,
                            "ticks": ""
                          }
                        },
                        "type": "parcoords"
                      }
                    ],
                    "pie": [
                      {
                        "automargin": true,
                        "type": "pie"
                      }
                    ],
                    "scatter": [
                      {
                        "fillpattern": {
                          "fillmode": "overlay",
                          "size": 10,
                          "solidity": 0.2
                        },
                        "type": "scatter"
                      }
                    ],
                    "scatter3d": [
                      {
                        "line": {
                          "colorbar": {
                            "outlinewidth": 0,
                            "ticks": ""
                          }
                        },
                        "marker": {
                          "colorbar": {
                            "outlinewidth": 0,
                            "ticks": ""
                          }
                        },
                        "type": "scatter3d"
                      }
                    ],
                    "scattercarpet": [
                      {
                        "marker": {
                          "colorbar": {
                            "outlinewidth": 0,
                            "ticks": ""
                          }
                        },
                        "type": "scattercarpet"
                      }
                    ],
                    "scattergeo": [
                      {
                        "marker": {
                          "colorbar": {
                            "outlinewidth": 0,
                            "ticks": ""
                          }
                        },
                        "type": "scattergeo"
                      }
                    ],
                    "scattergl": [
                      {
                        "marker": {
                          "colorbar": {
                            "outlinewidth": 0,
                            "ticks": ""
                          }
                        },
                        "type": "scattergl"
                      }
                    ],
                    "scattermapbox": [
                      {
                        "marker": {
                          "colorbar": {
                            "outlinewidth": 0,
                            "ticks": ""
                          }
                        },
                        "type": "scattermapbox"
                      }
                    ],
                    "scatterpolar": [
                      {
                        "marker": {
                          "colorbar": {
                            "outlinewidth": 0,
                            "ticks": ""
                          }
                        },
                        "type": "scatterpolar"
                      }
                    ],
                    "scatterpolargl": [
                      {
                        "marker": {
                          "colorbar": {
                            "outlinewidth": 0,
                            "ticks": ""
                          }
                        },
                        "type": "scatterpolargl"
                      }
                    ],
                    "scatterternary": [
                      {
                        "marker": {
                          "colorbar": {
                            "outlinewidth": 0,
                            "ticks": ""
                          }
                        },
                        "type": "scatterternary"
                      }
                    ],
                    "surface": [
                      {
                        "colorbar": {
                          "outlinewidth": 0,
                          "ticks": ""
                        },
                        "colorscale": [
                          [
                            0,
                            "#0d0887"
                          ],
                          [
                            0.1111111111111111,
                            "#46039f"
                          ],
                          [
                            0.2222222222222222,
                            "#7201a8"
                          ],
                          [
                            0.3333333333333333,
                            "#9c179e"
                          ],
                          [
                            0.4444444444444444,
                            "#bd3786"
                          ],
                          [
                            0.5555555555555556,
                            "#d8576b"
                          ],
                          [
                            0.6666666666666666,
                            "#ed7953"
                          ],
                          [
                            0.7777777777777778,
                            "#fb9f3a"
                          ],
                          [
                            0.8888888888888888,
                            "#fdca26"
                          ],
                          [
                            1,
                            "#f0f921"
                          ]
                        ],
                        "type": "surface"
                      }
                    ],
                    "table": [
                      {
                        "cells": {
                          "fill": {
                            "color": "#EBF0F8"
                          },
                          "line": {
                            "color": "white"
                          }
                        },
                        "header": {
                          "fill": {
                            "color": "#C8D4E3"
                          },
                          "line": {
                            "color": "white"
                          }
                        },
                        "type": "table"
                      }
                    ]
                  },
                  "layout": {
                    "annotationdefaults": {
                      "arrowcolor": "#2a3f5f",
                      "arrowhead": 0,
                      "arrowwidth": 1
                    },
                    "autotypenumbers": "strict",
                    "coloraxis": {
                      "colorbar": {
                        "outlinewidth": 0,
                        "ticks": ""
                      }
                    },
                    "colorscale": {
                      "diverging": [
                        [
                          0,
                          "#8e0152"
                        ],
                        [
                          0.1,
                          "#c51b7d"
                        ],
                        [
                          0.2,
                          "#de77ae"
                        ],
                        [
                          0.3,
                          "#f1b6da"
                        ],
                        [
                          0.4,
                          "#fde0ef"
                        ],
                        [
                          0.5,
                          "#f7f7f7"
                        ],
                        [
                          0.6,
                          "#e6f5d0"
                        ],
                        [
                          0.7,
                          "#b8e186"
                        ],
                        [
                          0.8,
                          "#7fbc41"
                        ],
                        [
                          0.9,
                          "#4d9221"
                        ],
                        [
                          1,
                          "#276419"
                        ]
                      ],
                      "sequential": [
                        [
                          0,
                          "#0d0887"
                        ],
                        [
                          0.1111111111111111,
                          "#46039f"
                        ],
                        [
                          0.2222222222222222,
                          "#7201a8"
                        ],
                        [
                          0.3333333333333333,
                          "#9c179e"
                        ],
                        [
                          0.4444444444444444,
                          "#bd3786"
                        ],
                        [
                          0.5555555555555556,
                          "#d8576b"
                        ],
                        [
                          0.6666666666666666,
                          "#ed7953"
                        ],
                        [
                          0.7777777777777778,
                          "#fb9f3a"
                        ],
                        [
                          0.8888888888888888,
                          "#fdca26"
                        ],
                        [
                          1,
                          "#f0f921"
                        ]
                      ],
                      "sequentialminus": [
                        [
                          0,
                          "#0d0887"
                        ],
                        [
                          0.1111111111111111,
                          "#46039f"
                        ],
                        [
                          0.2222222222222222,
                          "#7201a8"
                        ],
                        [
                          0.3333333333333333,
                          "#9c179e"
                        ],
                        [
                          0.4444444444444444,
                          "#bd3786"
                        ],
                        [
                          0.5555555555555556,
                          "#d8576b"
                        ],
                        [
                          0.6666666666666666,
                          "#ed7953"
                        ],
                        [
                          0.7777777777777778,
                          "#fb9f3a"
                        ],
                        [
                          0.8888888888888888,
                          "#fdca26"
                        ],
                        [
                          1,
                          "#f0f921"
                        ]
                      ]
                    },
                    "colorway": [
                      "#636efa",
                      "#EF553B",
                      "#00cc96",
                      "#ab63fa",
                      "#FFA15A",
                      "#19d3f3",
                      "#FF6692",
                      "#B6E880",
                      "#FF97FF",
                      "#FECB52"
                    ],
                    "font": {
                      "color": "#2a3f5f"
                    },
                    "geo": {
                      "bgcolor": "white",
                      "lakecolor": "white",
                      "landcolor": "#E5ECF6",
                      "showlakes": true,
                      "showland": true,
                      "subunitcolor": "white"
                    },
                    "hoverlabel": {
                      "align": "left"
                    },
                    "hovermode": "closest",
                    "mapbox": {
                      "style": "light"
                    },
                    "paper_bgcolor": "white",
                    "plot_bgcolor": "#E5ECF6",
                    "polar": {
                      "angularaxis": {
                        "gridcolor": "white",
                        "linecolor": "white",
                        "ticks": ""
                      },
                      "bgcolor": "#E5ECF6",
                      "radialaxis": {
                        "gridcolor": "white",
                        "linecolor": "white",
                        "ticks": ""
                      }
                    },
                    "scene": {
                      "xaxis": {
                        "backgroundcolor": "#E5ECF6",
                        "gridcolor": "white",
                        "gridwidth": 2,
                        "linecolor": "white",
                        "showbackground": true,
                        "ticks": "",
                        "zerolinecolor": "white"
                      },
                      "yaxis": {
                        "backgroundcolor": "#E5ECF6",
                        "gridcolor": "white",
                        "gridwidth": 2,
                        "linecolor": "white",
                        "showbackground": true,
                        "ticks": "",
                        "zerolinecolor": "white"
                      },
                      "zaxis": {
                        "backgroundcolor": "#E5ECF6",
                        "gridcolor": "white",
                        "gridwidth": 2,
                        "linecolor": "white",
                        "showbackground": true,
                        "ticks": "",
                        "zerolinecolor": "white"
                      }
                    },
                    "shapedefaults": {
                      "line": {
                        "color": "#2a3f5f"
                      }
                    },
                    "ternary": {
                      "aaxis": {
                        "gridcolor": "white",
                        "linecolor": "white",
                        "ticks": ""
                      },
                      "baxis": {
                        "gridcolor": "white",
                        "linecolor": "white",
                        "ticks": ""
                      },
                      "bgcolor": "#E5ECF6",
                      "caxis": {
                        "gridcolor": "white",
                        "linecolor": "white",
                        "ticks": ""
                      }
                    },
                    "title": {
                      "x": 0.05
                    },
                    "xaxis": {
                      "automargin": true,
                      "gridcolor": "white",
                      "linecolor": "white",
                      "ticks": "",
                      "title": {
                        "standoff": 15
                      },
                      "zerolinecolor": "white",
                      "zerolinewidth": 2
                    },
                    "yaxis": {
                      "automargin": true,
                      "gridcolor": "white",
                      "linecolor": "white",
                      "ticks": "",
                      "title": {
                        "standoff": 15
                      },
                      "zerolinecolor": "white",
                      "zerolinewidth": 2
                    }
                  }
                },
                "title": {
                  "text": "Model Performance"
                },
                "xaxis": {
                  "title": {
                    "text": "Score Type"
                  }
                },
                "yaxis": {
                  "title": {
                    "text": "Score"
                  }
                }
              }
            }
          },
          "metadata": {},
          "output_type": "display_data"
        },
        {
          "data": {
            "text/plain": [
              "\" \\nBest SVM hyperparameters:  {'C': 0.1, 'coef0': 2, 'degree': 4, 'epsilon': 0.08, 'gamma': 'scale', 'kernel': 'poly'}\\n\""
            ]
          },
          "execution_count": 50,
          "metadata": {},
          "output_type": "execute_result"
        }
      ],
      "source": [
        "# Create a SVM Regressor model with Grid Search\n",
        "\n",
        "from sklearn.svm import SVR\n",
        "from sklearn.model_selection import GridSearchCV\n",
        "\n",
        "# SVM hyperparameters\n",
        "svm_params = {\n",
        "    'C': [0.01, 0.1, 0.8],\n",
        "    'epsilon': [0.01, 0.1, 1],\n",
        "    'kernel': ['poly', 'rbf'],\n",
        "    'gamma': ['scale', 'auto'] ,\n",
        "}\n",
        "\n",
        "# Define the SVM model\n",
        "svm_model = SVR()\n",
        "\n",
        "# Set up grid search with cross-validation\n",
        "grid_search = GridSearchCV(svm_model, svm_params, cv=5, n_jobs=-1, verbose=3)\n",
        "\n",
        "# Fit the grid search to the data\n",
        "grid_search.fit(df_x_select, df_y)\n",
        "\n",
        "# Print the best hyperparameters found by the grid search\n",
        "print(\"Best SVM hyperparameters: \", grid_search.best_params_)\n",
        "\n",
        "# Use the best hyperparameters to train the final model\n",
        "final_svr_model = SVR(**grid_search.best_params_)\n",
        "final_svr_model.fit(df_x_select, df_y)\n",
        "\n",
        "# Get the training MSE, R2 score, Testing MSE, and R2 score\n",
        "mse_train = mean_squared_error(df_y, final_svr_model.predict(df_x_select))\n",
        "r2_train = r2_score(df_y, final_svr_model.predict(df_x_select))\n",
        "mse_test = mean_squared_error(df_test_y, final_svr_model.predict(df_test_x_select))\n",
        "r2_test = r2_score(df_test_y, final_svr_model.predict(df_test_x_select))\n",
        "\n",
        "# Print the training MSE and R2 score\n",
        "print('Training MSE: ', mse_train)\n",
        "print('Training R2: ', r2_train)\n",
        "\n",
        "# Print the testing MSE and R2 score\n",
        "print('Testing MSE: ', mse_test)\n",
        "print('Testing R2: ', r2_test)\n",
        "\n",
        "# Save the model\n",
        "pickle.dump(final_svr_model, open('models/regression/svr.pkl', 'wb'))\n",
        "\n",
        "# Display the scores\n",
        "plot_scores(mse_train, r2_train, mse_test, r2_test)\n",
        "\n",
        "\n",
        "\"\"\" \n",
        "Best SVM hyperparameters:  {'C': 0.1, 'coef0': 2, 'degree': 4, 'epsilon': 0.08, 'gamma': 'scale', 'kernel': 'poly'}\n",
        "\"\"\""
      ]
    },
    {
      "cell_type": "code",
      "execution_count": 52,
      "metadata": {},
      "outputs": [
        {
          "name": "stdout",
          "output_type": "stream",
          "text": [
            "{'bootstrap': True, 'criterion': 'squared_error', 'max_depth': 5, 'max_features': 'auto', 'min_samples_leaf': 2, 'min_samples_split': 2, 'n_estimators': 1000, 'oob_score': True, 'random_state': 42, 'warm_start': True}\n",
            "Training MSE:  0.23514041365990931\n",
            "Training R2:  0.4502029303471248\n",
            "Testing MSE:  0.3345838109646666\n",
            "Testing R2:  0.2587841765754161\n"
          ]
        },
        {
          "data": {
            "application/vnd.plotly.v1+json": {
              "config": {
                "plotlyServerURL": "https://plot.ly"
              },
              "data": [
                {
                  "marker": {
                    "color": "navy"
                  },
                  "name": "MSE Train",
                  "type": "bar",
                  "x": [
                    "MSE"
                  ],
                  "y": [
                    0.23514041365990931
                  ]
                },
                {
                  "marker": {
                    "color": "blue"
                  },
                  "name": "MSE Test",
                  "type": "bar",
                  "x": [
                    "MSE"
                  ],
                  "y": [
                    0.3345838109646666
                  ]
                },
                {
                  "marker": {
                    "color": "green"
                  },
                  "name": "MSE Difference",
                  "type": "bar",
                  "x": [
                    "MSE"
                  ],
                  "y": [
                    0.09944339730475729
                  ]
                },
                {
                  "marker": {
                    "color": "purple"
                  },
                  "name": "R2 Train",
                  "type": "bar",
                  "x": [
                    "R2"
                  ],
                  "y": [
                    0.4502029303471248
                  ]
                },
                {
                  "marker": {
                    "color": "pink"
                  },
                  "name": "R2 Test",
                  "type": "bar",
                  "x": [
                    "R2"
                  ],
                  "y": [
                    0.2587841765754161
                  ]
                },
                {
                  "marker": {
                    "color": "red"
                  },
                  "name": "R2 Difference",
                  "type": "bar",
                  "x": [
                    "R2"
                  ],
                  "y": [
                    0.1914187537717087
                  ]
                }
              ],
              "layout": {
                "template": {
                  "data": {
                    "bar": [
                      {
                        "error_x": {
                          "color": "#2a3f5f"
                        },
                        "error_y": {
                          "color": "#2a3f5f"
                        },
                        "marker": {
                          "line": {
                            "color": "#E5ECF6",
                            "width": 0.5
                          },
                          "pattern": {
                            "fillmode": "overlay",
                            "size": 10,
                            "solidity": 0.2
                          }
                        },
                        "type": "bar"
                      }
                    ],
                    "barpolar": [
                      {
                        "marker": {
                          "line": {
                            "color": "#E5ECF6",
                            "width": 0.5
                          },
                          "pattern": {
                            "fillmode": "overlay",
                            "size": 10,
                            "solidity": 0.2
                          }
                        },
                        "type": "barpolar"
                      }
                    ],
                    "carpet": [
                      {
                        "aaxis": {
                          "endlinecolor": "#2a3f5f",
                          "gridcolor": "white",
                          "linecolor": "white",
                          "minorgridcolor": "white",
                          "startlinecolor": "#2a3f5f"
                        },
                        "baxis": {
                          "endlinecolor": "#2a3f5f",
                          "gridcolor": "white",
                          "linecolor": "white",
                          "minorgridcolor": "white",
                          "startlinecolor": "#2a3f5f"
                        },
                        "type": "carpet"
                      }
                    ],
                    "choropleth": [
                      {
                        "colorbar": {
                          "outlinewidth": 0,
                          "ticks": ""
                        },
                        "type": "choropleth"
                      }
                    ],
                    "contour": [
                      {
                        "colorbar": {
                          "outlinewidth": 0,
                          "ticks": ""
                        },
                        "colorscale": [
                          [
                            0,
                            "#0d0887"
                          ],
                          [
                            0.1111111111111111,
                            "#46039f"
                          ],
                          [
                            0.2222222222222222,
                            "#7201a8"
                          ],
                          [
                            0.3333333333333333,
                            "#9c179e"
                          ],
                          [
                            0.4444444444444444,
                            "#bd3786"
                          ],
                          [
                            0.5555555555555556,
                            "#d8576b"
                          ],
                          [
                            0.6666666666666666,
                            "#ed7953"
                          ],
                          [
                            0.7777777777777778,
                            "#fb9f3a"
                          ],
                          [
                            0.8888888888888888,
                            "#fdca26"
                          ],
                          [
                            1,
                            "#f0f921"
                          ]
                        ],
                        "type": "contour"
                      }
                    ],
                    "contourcarpet": [
                      {
                        "colorbar": {
                          "outlinewidth": 0,
                          "ticks": ""
                        },
                        "type": "contourcarpet"
                      }
                    ],
                    "heatmap": [
                      {
                        "colorbar": {
                          "outlinewidth": 0,
                          "ticks": ""
                        },
                        "colorscale": [
                          [
                            0,
                            "#0d0887"
                          ],
                          [
                            0.1111111111111111,
                            "#46039f"
                          ],
                          [
                            0.2222222222222222,
                            "#7201a8"
                          ],
                          [
                            0.3333333333333333,
                            "#9c179e"
                          ],
                          [
                            0.4444444444444444,
                            "#bd3786"
                          ],
                          [
                            0.5555555555555556,
                            "#d8576b"
                          ],
                          [
                            0.6666666666666666,
                            "#ed7953"
                          ],
                          [
                            0.7777777777777778,
                            "#fb9f3a"
                          ],
                          [
                            0.8888888888888888,
                            "#fdca26"
                          ],
                          [
                            1,
                            "#f0f921"
                          ]
                        ],
                        "type": "heatmap"
                      }
                    ],
                    "heatmapgl": [
                      {
                        "colorbar": {
                          "outlinewidth": 0,
                          "ticks": ""
                        },
                        "colorscale": [
                          [
                            0,
                            "#0d0887"
                          ],
                          [
                            0.1111111111111111,
                            "#46039f"
                          ],
                          [
                            0.2222222222222222,
                            "#7201a8"
                          ],
                          [
                            0.3333333333333333,
                            "#9c179e"
                          ],
                          [
                            0.4444444444444444,
                            "#bd3786"
                          ],
                          [
                            0.5555555555555556,
                            "#d8576b"
                          ],
                          [
                            0.6666666666666666,
                            "#ed7953"
                          ],
                          [
                            0.7777777777777778,
                            "#fb9f3a"
                          ],
                          [
                            0.8888888888888888,
                            "#fdca26"
                          ],
                          [
                            1,
                            "#f0f921"
                          ]
                        ],
                        "type": "heatmapgl"
                      }
                    ],
                    "histogram": [
                      {
                        "marker": {
                          "pattern": {
                            "fillmode": "overlay",
                            "size": 10,
                            "solidity": 0.2
                          }
                        },
                        "type": "histogram"
                      }
                    ],
                    "histogram2d": [
                      {
                        "colorbar": {
                          "outlinewidth": 0,
                          "ticks": ""
                        },
                        "colorscale": [
                          [
                            0,
                            "#0d0887"
                          ],
                          [
                            0.1111111111111111,
                            "#46039f"
                          ],
                          [
                            0.2222222222222222,
                            "#7201a8"
                          ],
                          [
                            0.3333333333333333,
                            "#9c179e"
                          ],
                          [
                            0.4444444444444444,
                            "#bd3786"
                          ],
                          [
                            0.5555555555555556,
                            "#d8576b"
                          ],
                          [
                            0.6666666666666666,
                            "#ed7953"
                          ],
                          [
                            0.7777777777777778,
                            "#fb9f3a"
                          ],
                          [
                            0.8888888888888888,
                            "#fdca26"
                          ],
                          [
                            1,
                            "#f0f921"
                          ]
                        ],
                        "type": "histogram2d"
                      }
                    ],
                    "histogram2dcontour": [
                      {
                        "colorbar": {
                          "outlinewidth": 0,
                          "ticks": ""
                        },
                        "colorscale": [
                          [
                            0,
                            "#0d0887"
                          ],
                          [
                            0.1111111111111111,
                            "#46039f"
                          ],
                          [
                            0.2222222222222222,
                            "#7201a8"
                          ],
                          [
                            0.3333333333333333,
                            "#9c179e"
                          ],
                          [
                            0.4444444444444444,
                            "#bd3786"
                          ],
                          [
                            0.5555555555555556,
                            "#d8576b"
                          ],
                          [
                            0.6666666666666666,
                            "#ed7953"
                          ],
                          [
                            0.7777777777777778,
                            "#fb9f3a"
                          ],
                          [
                            0.8888888888888888,
                            "#fdca26"
                          ],
                          [
                            1,
                            "#f0f921"
                          ]
                        ],
                        "type": "histogram2dcontour"
                      }
                    ],
                    "mesh3d": [
                      {
                        "colorbar": {
                          "outlinewidth": 0,
                          "ticks": ""
                        },
                        "type": "mesh3d"
                      }
                    ],
                    "parcoords": [
                      {
                        "line": {
                          "colorbar": {
                            "outlinewidth": 0,
                            "ticks": ""
                          }
                        },
                        "type": "parcoords"
                      }
                    ],
                    "pie": [
                      {
                        "automargin": true,
                        "type": "pie"
                      }
                    ],
                    "scatter": [
                      {
                        "fillpattern": {
                          "fillmode": "overlay",
                          "size": 10,
                          "solidity": 0.2
                        },
                        "type": "scatter"
                      }
                    ],
                    "scatter3d": [
                      {
                        "line": {
                          "colorbar": {
                            "outlinewidth": 0,
                            "ticks": ""
                          }
                        },
                        "marker": {
                          "colorbar": {
                            "outlinewidth": 0,
                            "ticks": ""
                          }
                        },
                        "type": "scatter3d"
                      }
                    ],
                    "scattercarpet": [
                      {
                        "marker": {
                          "colorbar": {
                            "outlinewidth": 0,
                            "ticks": ""
                          }
                        },
                        "type": "scattercarpet"
                      }
                    ],
                    "scattergeo": [
                      {
                        "marker": {
                          "colorbar": {
                            "outlinewidth": 0,
                            "ticks": ""
                          }
                        },
                        "type": "scattergeo"
                      }
                    ],
                    "scattergl": [
                      {
                        "marker": {
                          "colorbar": {
                            "outlinewidth": 0,
                            "ticks": ""
                          }
                        },
                        "type": "scattergl"
                      }
                    ],
                    "scattermapbox": [
                      {
                        "marker": {
                          "colorbar": {
                            "outlinewidth": 0,
                            "ticks": ""
                          }
                        },
                        "type": "scattermapbox"
                      }
                    ],
                    "scatterpolar": [
                      {
                        "marker": {
                          "colorbar": {
                            "outlinewidth": 0,
                            "ticks": ""
                          }
                        },
                        "type": "scatterpolar"
                      }
                    ],
                    "scatterpolargl": [
                      {
                        "marker": {
                          "colorbar": {
                            "outlinewidth": 0,
                            "ticks": ""
                          }
                        },
                        "type": "scatterpolargl"
                      }
                    ],
                    "scatterternary": [
                      {
                        "marker": {
                          "colorbar": {
                            "outlinewidth": 0,
                            "ticks": ""
                          }
                        },
                        "type": "scatterternary"
                      }
                    ],
                    "surface": [
                      {
                        "colorbar": {
                          "outlinewidth": 0,
                          "ticks": ""
                        },
                        "colorscale": [
                          [
                            0,
                            "#0d0887"
                          ],
                          [
                            0.1111111111111111,
                            "#46039f"
                          ],
                          [
                            0.2222222222222222,
                            "#7201a8"
                          ],
                          [
                            0.3333333333333333,
                            "#9c179e"
                          ],
                          [
                            0.4444444444444444,
                            "#bd3786"
                          ],
                          [
                            0.5555555555555556,
                            "#d8576b"
                          ],
                          [
                            0.6666666666666666,
                            "#ed7953"
                          ],
                          [
                            0.7777777777777778,
                            "#fb9f3a"
                          ],
                          [
                            0.8888888888888888,
                            "#fdca26"
                          ],
                          [
                            1,
                            "#f0f921"
                          ]
                        ],
                        "type": "surface"
                      }
                    ],
                    "table": [
                      {
                        "cells": {
                          "fill": {
                            "color": "#EBF0F8"
                          },
                          "line": {
                            "color": "white"
                          }
                        },
                        "header": {
                          "fill": {
                            "color": "#C8D4E3"
                          },
                          "line": {
                            "color": "white"
                          }
                        },
                        "type": "table"
                      }
                    ]
                  },
                  "layout": {
                    "annotationdefaults": {
                      "arrowcolor": "#2a3f5f",
                      "arrowhead": 0,
                      "arrowwidth": 1
                    },
                    "autotypenumbers": "strict",
                    "coloraxis": {
                      "colorbar": {
                        "outlinewidth": 0,
                        "ticks": ""
                      }
                    },
                    "colorscale": {
                      "diverging": [
                        [
                          0,
                          "#8e0152"
                        ],
                        [
                          0.1,
                          "#c51b7d"
                        ],
                        [
                          0.2,
                          "#de77ae"
                        ],
                        [
                          0.3,
                          "#f1b6da"
                        ],
                        [
                          0.4,
                          "#fde0ef"
                        ],
                        [
                          0.5,
                          "#f7f7f7"
                        ],
                        [
                          0.6,
                          "#e6f5d0"
                        ],
                        [
                          0.7,
                          "#b8e186"
                        ],
                        [
                          0.8,
                          "#7fbc41"
                        ],
                        [
                          0.9,
                          "#4d9221"
                        ],
                        [
                          1,
                          "#276419"
                        ]
                      ],
                      "sequential": [
                        [
                          0,
                          "#0d0887"
                        ],
                        [
                          0.1111111111111111,
                          "#46039f"
                        ],
                        [
                          0.2222222222222222,
                          "#7201a8"
                        ],
                        [
                          0.3333333333333333,
                          "#9c179e"
                        ],
                        [
                          0.4444444444444444,
                          "#bd3786"
                        ],
                        [
                          0.5555555555555556,
                          "#d8576b"
                        ],
                        [
                          0.6666666666666666,
                          "#ed7953"
                        ],
                        [
                          0.7777777777777778,
                          "#fb9f3a"
                        ],
                        [
                          0.8888888888888888,
                          "#fdca26"
                        ],
                        [
                          1,
                          "#f0f921"
                        ]
                      ],
                      "sequentialminus": [
                        [
                          0,
                          "#0d0887"
                        ],
                        [
                          0.1111111111111111,
                          "#46039f"
                        ],
                        [
                          0.2222222222222222,
                          "#7201a8"
                        ],
                        [
                          0.3333333333333333,
                          "#9c179e"
                        ],
                        [
                          0.4444444444444444,
                          "#bd3786"
                        ],
                        [
                          0.5555555555555556,
                          "#d8576b"
                        ],
                        [
                          0.6666666666666666,
                          "#ed7953"
                        ],
                        [
                          0.7777777777777778,
                          "#fb9f3a"
                        ],
                        [
                          0.8888888888888888,
                          "#fdca26"
                        ],
                        [
                          1,
                          "#f0f921"
                        ]
                      ]
                    },
                    "colorway": [
                      "#636efa",
                      "#EF553B",
                      "#00cc96",
                      "#ab63fa",
                      "#FFA15A",
                      "#19d3f3",
                      "#FF6692",
                      "#B6E880",
                      "#FF97FF",
                      "#FECB52"
                    ],
                    "font": {
                      "color": "#2a3f5f"
                    },
                    "geo": {
                      "bgcolor": "white",
                      "lakecolor": "white",
                      "landcolor": "#E5ECF6",
                      "showlakes": true,
                      "showland": true,
                      "subunitcolor": "white"
                    },
                    "hoverlabel": {
                      "align": "left"
                    },
                    "hovermode": "closest",
                    "mapbox": {
                      "style": "light"
                    },
                    "paper_bgcolor": "white",
                    "plot_bgcolor": "#E5ECF6",
                    "polar": {
                      "angularaxis": {
                        "gridcolor": "white",
                        "linecolor": "white",
                        "ticks": ""
                      },
                      "bgcolor": "#E5ECF6",
                      "radialaxis": {
                        "gridcolor": "white",
                        "linecolor": "white",
                        "ticks": ""
                      }
                    },
                    "scene": {
                      "xaxis": {
                        "backgroundcolor": "#E5ECF6",
                        "gridcolor": "white",
                        "gridwidth": 2,
                        "linecolor": "white",
                        "showbackground": true,
                        "ticks": "",
                        "zerolinecolor": "white"
                      },
                      "yaxis": {
                        "backgroundcolor": "#E5ECF6",
                        "gridcolor": "white",
                        "gridwidth": 2,
                        "linecolor": "white",
                        "showbackground": true,
                        "ticks": "",
                        "zerolinecolor": "white"
                      },
                      "zaxis": {
                        "backgroundcolor": "#E5ECF6",
                        "gridcolor": "white",
                        "gridwidth": 2,
                        "linecolor": "white",
                        "showbackground": true,
                        "ticks": "",
                        "zerolinecolor": "white"
                      }
                    },
                    "shapedefaults": {
                      "line": {
                        "color": "#2a3f5f"
                      }
                    },
                    "ternary": {
                      "aaxis": {
                        "gridcolor": "white",
                        "linecolor": "white",
                        "ticks": ""
                      },
                      "baxis": {
                        "gridcolor": "white",
                        "linecolor": "white",
                        "ticks": ""
                      },
                      "bgcolor": "#E5ECF6",
                      "caxis": {
                        "gridcolor": "white",
                        "linecolor": "white",
                        "ticks": ""
                      }
                    },
                    "title": {
                      "x": 0.05
                    },
                    "xaxis": {
                      "automargin": true,
                      "gridcolor": "white",
                      "linecolor": "white",
                      "ticks": "",
                      "title": {
                        "standoff": 15
                      },
                      "zerolinecolor": "white",
                      "zerolinewidth": 2
                    },
                    "yaxis": {
                      "automargin": true,
                      "gridcolor": "white",
                      "linecolor": "white",
                      "ticks": "",
                      "title": {
                        "standoff": 15
                      },
                      "zerolinecolor": "white",
                      "zerolinewidth": 2
                    }
                  }
                },
                "title": {
                  "text": "Model Performance"
                },
                "xaxis": {
                  "title": {
                    "text": "Score Type"
                  }
                },
                "yaxis": {
                  "title": {
                    "text": "Score"
                  }
                }
              }
            }
          },
          "metadata": {},
          "output_type": "display_data"
        }
      ],
      "source": [
        "# Create a Random Forest Regressor with GridSearchCV\n",
        "from sklearn.ensemble import RandomForestRegressor\n",
        "\n",
        "from sklearn.model_selection import GridSearchCV\n",
        "\n",
        "# Define the Random Forest regressor\n",
        "rf_model = RandomForestRegressor()\n",
        "\n",
        "# Define the hyperparameter grid for GridSearchCV\n",
        "params = {\n",
        "    'max_depth': [4, 5],\n",
        "    'n_estimators': [500, 1000],\n",
        "    'max_features': ['auto', 'sqrt', 'log2'],\n",
        "    'random_state': [42],\n",
        "    'warm_start': [True],\n",
        "    'bootstrap': [True],\n",
        "    'min_samples_leaf': [1, 2],\n",
        "    'min_samples_split': [2, 3],\n",
        "    'criterion': ['squared_error'],\n",
        "    'oob_score': [True]\n",
        "}\n",
        "\n",
        "# Define the GridSearchCV object\n",
        "gs_cv = GridSearchCV(\n",
        "    estimator=rf_model,\n",
        "    param_grid=params,\n",
        "    cv=5,\n",
        "    n_jobs=-1,\n",
        "    scoring='neg_mean_squared_error',\n",
        "    return_train_score=True,\n",
        "    refit=True,\n",
        ")\n",
        "\n",
        "# Fit the GridSearchCV object to the data\n",
        "gs_cv.fit(df_x_select, df_y)\n",
        "\n",
        "# Print the best hyperparameters\n",
        "print(gs_cv.best_params_)\n",
        "\n",
        "# Use the best hyperparameters to train the final model\n",
        "final_rf_model = RandomForestRegressor(**gs_cv.best_params_)\n",
        "\n",
        "final_rf_model.fit(df_x_select, df_y)\n",
        "\n",
        "# Get the training MSE, R2 score, Testing MSE, and R2 score\n",
        "mse_train = mean_squared_error(df_y, final_rf_model.predict(df_x_select))\n",
        "r2_train = r2_score(df_y, final_rf_model.predict(df_x_select))\n",
        "mse_test = mean_squared_error(df_test_y, final_rf_model.predict(df_test_x_select))\n",
        "r2_test = r2_score(df_test_y, final_rf_model.predict(df_test_x_select))\n",
        "\n",
        "# Save the model\n",
        "pickle.dump(final_rf_model, open('models/regression/rf_hyper.pkl', 'wb'))\n",
        "\n",
        "# Print the training MSE and R2 score\n",
        "print('Training MSE: ', mse_train)\n",
        "print('Training R2: ', r2_train)\n",
        "\n",
        "# Print the testing MSE and R2 score\n",
        "print('Testing MSE: ', mse_test)\n",
        "print('Testing R2: ', r2_test)\n",
        "\n",
        "# Display the scores\n",
        "plot_scores(mse_train, r2_train, mse_test, r2_test)"
      ]
    }
  ],
  "metadata": {
    "colab": {
      "provenance": []
    },
    "gpuClass": "standard",
    "kernelspec": {
      "display_name": "base",
      "language": "python",
      "name": "python3"
    },
    "language_info": {
      "codemirror_mode": {
        "name": "ipython",
        "version": 3
      },
      "file_extension": ".py",
      "mimetype": "text/x-python",
      "name": "python",
      "nbconvert_exporter": "python",
      "pygments_lexer": "ipython3",
      "version": "3.10.9"
    },
    "vscode": {
      "interpreter": {
        "hash": "57bc2b6ce032b5f0e93daa91901b7ea38a856826ef43aa9e95b6d3999f5310df"
      }
    }
  },
  "nbformat": 4,
  "nbformat_minor": 0
}
