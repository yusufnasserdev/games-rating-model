{
 "cells": [
  {
   "cell_type": "markdown",
   "metadata": {
    "collapsed": false
   },
   "source": [
    "# Data Preprocessing"
   ]
  },
  {
   "attachments": {},
   "cell_type": "markdown",
   "metadata": {},
   "source": [
    "## Importing the libraries"
   ]
  },
  {
   "cell_type": "code",
   "execution_count": 8,
   "metadata": {
    "ExecuteTime": {
     "end_time": "2023-04-14T14:19:38.839351Z",
     "start_time": "2023-04-14T14:19:38.815268Z"
    },
    "collapsed": false
   },
   "outputs": [],
   "source": [
    "import pandas as pd\n",
    "import numpy as np\n",
    "import pickle\n",
    "from sklearn.feature_extraction.text import CountVectorizer\n",
    "from sklearn.preprocessing import MultiLabelBinarizer\n",
    "from sklearn.decomposition import PCA\n",
    "import nltk\n",
    "from nltk.corpus import stopwords\n",
    "from nltk.tokenize import word_tokenize\n",
    "from nltk.stem import WordNetLemmatizer\n",
    "import re\n",
    "from nltk.corpus import wordnet\n",
    "from nltk.sentiment import SentimentIntensityAnalyzer\n",
    "from tqdm.notebook import tqdm\n",
    "import csv\n",
    "import os\n",
    "import requests\n",
    "from bs4 import BeautifulSoup\n",
    "import warnings\n",
    "\n",
    "warnings.filterwarnings('ignore')"
   ]
  },
  {
   "cell_type": "markdown",
   "metadata": {
    "collapsed": false
   },
   "source": [
    "## Load the dataset"
   ]
  },
  {
   "cell_type": "code",
   "execution_count": 9,
   "metadata": {
    "ExecuteTime": {
     "end_time": "2023-04-14T10:33:46.390000Z",
     "start_time": "2023-04-14T10:33:46.279076Z"
    },
    "collapsed": false
   },
   "outputs": [],
   "source": [
    "from datetime import datetime\n",
    "dateparse = lambda x: datetime.strptime(x, '%d/%m/%Y')\n",
    "\n",
    "df_origin = pd.read_csv('games-regression-dataset.csv', parse_dates=['Original Release Date' , 'Current Version Release Date'], date_parser=dateparse)"
   ]
  },
  {
   "attachments": {},
   "cell_type": "markdown",
   "metadata": {
    "collapsed": false
   },
   "source": [
    "## Download the icons"
   ]
  },
  {
   "cell_type": "code",
   "execution_count": null,
   "metadata": {},
   "outputs": [],
   "source": [
    "# Convert to string\n",
    "df_origin['Icon URL'] = df_origin['Icon URL'].astype(str)\n",
    "\n",
    "import requests\n",
    "import os\n",
    "import shutil\n",
    "\n",
    "\n",
    "def download_image(url, filename):\n",
    "    r = requests.get(url, stream=True)\n",
    "    if r.status_code == 200:\n",
    "        with open(filename, 'wb') as f:\n",
    "            r.raw.decode_content = True\n",
    "            shutil.copyfileobj(r.raw, f)\n",
    "\n",
    "\n",
    "# Create a folder to store the images\n",
    "if not os.path.exists('icons'):\n",
    "    os.makedirs('icons')\n",
    "\n",
    "# Download the images\n",
    "for i, row in df_origin.iterrows():\n",
    "    download_image(row['Icon URL'], f'icons/{i}.png')"
   ]
  },
  {
   "cell_type": "code",
   "execution_count": 10,
   "metadata": {},
   "outputs": [],
   "source": [
    "# Replace the URL with the icon filename which is the index of the row\n",
    "df_origin['Icon URL'] = df_origin.apply(lambda row : f'icons/{row.name}.png', axis=1)"
   ]
  },
  {
   "attachments": {},
   "cell_type": "markdown",
   "metadata": {},
   "source": [
    "## Sentiment Analysis for reviews"
   ]
  },
  {
   "attachments": {},
   "cell_type": "markdown",
   "metadata": {},
   "source": [
    "### web scraping on Reviews URLs"
   ]
  },
  {
   "cell_type": "code",
   "execution_count": null,
   "metadata": {},
   "outputs": [],
   "source": [
    "df = pd.DataFrame(columns = [\"ID\",\"Reviews\"])\n",
    "# Read CSV file\n",
    "# with open('games-regression-dataset.csv', newline='') as csvfile:\n",
    "with open('games-regression-dataset.csv', newline='') as csvfile:\n",
    "    reader = csv.reader(csvfile)\n",
    "    next(reader)  # Skip header row\n",
    "    for row in reader:\n",
    "        url = row[0]  # URL is in first column\n",
    "        filename = 'Reviews/'+os.path.basename(url)  # Extract filename from URL\n",
    "        url +=  \"?see-all=reviews\"\n",
    "        response = requests.get(url)\n",
    "        if response.status_code == 200:  # Check if request was successful\n",
    "            soup = BeautifulSoup(response.text, 'html.parser')\n",
    "            blocks = soup.findAll(\"blockquote\")\n",
    "            review_list = []\n",
    "            for blockquote in blocks:\n",
    "                review = blockquote.find('p').text\n",
    "                review_list.append(review)\n",
    "            if len(review_list)!=0:\n",
    "                filename = re.sub(r'[^\\d]+', '', filename)\n",
    "                new_row = {'ID': filename,\"Reviews\": review_list}\n",
    "                df = df._append(new_row, ignore_index=True)\n",
    "df.to_csv('Reviews.csv', index=False)\n"
   ]
  },
  {
   "cell_type": "code",
   "execution_count": 4,
   "metadata": {},
   "outputs": [
    {
     "name": "stderr",
     "output_type": "stream",
     "text": [
      "[nltk_data] Downloading package stopwords to\n",
      "[nltk_data]     C:\\Users\\Administrator\\AppData\\Roaming\\nltk_data...\n",
      "[nltk_data]   Package stopwords is already up-to-date!\n",
      "[nltk_data] Downloading package punkt to\n",
      "[nltk_data]     C:\\Users\\Administrator\\AppData\\Roaming\\nltk_data...\n",
      "[nltk_data]   Package punkt is already up-to-date!\n",
      "[nltk_data] Downloading package wordnet to\n",
      "[nltk_data]     C:\\Users\\Administrator\\AppData\\Roaming\\nltk_data...\n",
      "[nltk_data]   Package wordnet is already up-to-date!\n",
      "[nltk_data] Downloading package vader_lexicon to\n",
      "[nltk_data]     C:\\Users\\Administrator\\AppData\\Roaming\\nltk_data...\n",
      "[nltk_data]   Package vader_lexicon is already up-to-date!\n"
     ]
    }
   ],
   "source": [
    "nltk.download('stopwords')\n",
    "nltk.download('punkt')\n",
    "nltk.download('wordnet')\n",
    "nltk.download('vader_lexicon')\n",
    "stop_words = set(stopwords.words('english'))"
   ]
  },
  {
   "attachments": {},
   "cell_type": "markdown",
   "metadata": {},
   "source": [
    "### Splitting reviews"
   ]
  },
  {
   "cell_type": "code",
   "execution_count": 5,
   "metadata": {},
   "outputs": [
    {
     "ename": "FileNotFoundError",
     "evalue": "[Errno 2] No such file or directory: 'Reviews.csv'",
     "output_type": "error",
     "traceback": [
      "\u001b[1;31m---------------------------------------------------------------------------\u001b[0m",
      "\u001b[1;31mFileNotFoundError\u001b[0m                         Traceback (most recent call last)",
      "Cell \u001b[1;32mIn[5], line 1\u001b[0m\n\u001b[1;32m----> 1\u001b[0m data \u001b[39m=\u001b[39m pd\u001b[39m.\u001b[39;49mread_csv(\u001b[39m'\u001b[39;49m\u001b[39mReviews.csv\u001b[39;49m\u001b[39m'\u001b[39;49m)\n\u001b[0;32m      2\u001b[0m counter\u001b[39m=\u001b[39m\u001b[39m0\u001b[39m\n\u001b[0;32m      4\u001b[0m \u001b[39mfor\u001b[39;00m i \u001b[39min\u001b[39;00m \u001b[39mrange\u001b[39m (\u001b[39mlen\u001b[39m(data)):\n",
      "File \u001b[1;32mc:\\Users\\Administrator\\anaconda3\\lib\\site-packages\\pandas\\util\\_decorators.py:311\u001b[0m, in \u001b[0;36mdeprecate_nonkeyword_arguments.<locals>.decorate.<locals>.wrapper\u001b[1;34m(*args, **kwargs)\u001b[0m\n\u001b[0;32m    305\u001b[0m \u001b[39mif\u001b[39;00m \u001b[39mlen\u001b[39m(args) \u001b[39m>\u001b[39m num_allow_args:\n\u001b[0;32m    306\u001b[0m     warnings\u001b[39m.\u001b[39mwarn(\n\u001b[0;32m    307\u001b[0m         msg\u001b[39m.\u001b[39mformat(arguments\u001b[39m=\u001b[39marguments),\n\u001b[0;32m    308\u001b[0m         \u001b[39mFutureWarning\u001b[39;00m,\n\u001b[0;32m    309\u001b[0m         stacklevel\u001b[39m=\u001b[39mstacklevel,\n\u001b[0;32m    310\u001b[0m     )\n\u001b[1;32m--> 311\u001b[0m \u001b[39mreturn\u001b[39;00m func(\u001b[39m*\u001b[39margs, \u001b[39m*\u001b[39m\u001b[39m*\u001b[39mkwargs)\n",
      "File \u001b[1;32mc:\\Users\\Administrator\\anaconda3\\lib\\site-packages\\pandas\\io\\parsers\\readers.py:678\u001b[0m, in \u001b[0;36mread_csv\u001b[1;34m(filepath_or_buffer, sep, delimiter, header, names, index_col, usecols, squeeze, prefix, mangle_dupe_cols, dtype, engine, converters, true_values, false_values, skipinitialspace, skiprows, skipfooter, nrows, na_values, keep_default_na, na_filter, verbose, skip_blank_lines, parse_dates, infer_datetime_format, keep_date_col, date_parser, dayfirst, cache_dates, iterator, chunksize, compression, thousands, decimal, lineterminator, quotechar, quoting, doublequote, escapechar, comment, encoding, encoding_errors, dialect, error_bad_lines, warn_bad_lines, on_bad_lines, delim_whitespace, low_memory, memory_map, float_precision, storage_options)\u001b[0m\n\u001b[0;32m    663\u001b[0m kwds_defaults \u001b[39m=\u001b[39m _refine_defaults_read(\n\u001b[0;32m    664\u001b[0m     dialect,\n\u001b[0;32m    665\u001b[0m     delimiter,\n\u001b[1;32m   (...)\u001b[0m\n\u001b[0;32m    674\u001b[0m     defaults\u001b[39m=\u001b[39m{\u001b[39m\"\u001b[39m\u001b[39mdelimiter\u001b[39m\u001b[39m\"\u001b[39m: \u001b[39m\"\u001b[39m\u001b[39m,\u001b[39m\u001b[39m\"\u001b[39m},\n\u001b[0;32m    675\u001b[0m )\n\u001b[0;32m    676\u001b[0m kwds\u001b[39m.\u001b[39mupdate(kwds_defaults)\n\u001b[1;32m--> 678\u001b[0m \u001b[39mreturn\u001b[39;00m _read(filepath_or_buffer, kwds)\n",
      "File \u001b[1;32mc:\\Users\\Administrator\\anaconda3\\lib\\site-packages\\pandas\\io\\parsers\\readers.py:575\u001b[0m, in \u001b[0;36m_read\u001b[1;34m(filepath_or_buffer, kwds)\u001b[0m\n\u001b[0;32m    572\u001b[0m _validate_names(kwds\u001b[39m.\u001b[39mget(\u001b[39m\"\u001b[39m\u001b[39mnames\u001b[39m\u001b[39m\"\u001b[39m, \u001b[39mNone\u001b[39;00m))\n\u001b[0;32m    574\u001b[0m \u001b[39m# Create the parser.\u001b[39;00m\n\u001b[1;32m--> 575\u001b[0m parser \u001b[39m=\u001b[39m TextFileReader(filepath_or_buffer, \u001b[39m*\u001b[39m\u001b[39m*\u001b[39mkwds)\n\u001b[0;32m    577\u001b[0m \u001b[39mif\u001b[39;00m chunksize \u001b[39mor\u001b[39;00m iterator:\n\u001b[0;32m    578\u001b[0m     \u001b[39mreturn\u001b[39;00m parser\n",
      "File \u001b[1;32mc:\\Users\\Administrator\\anaconda3\\lib\\site-packages\\pandas\\io\\parsers\\readers.py:932\u001b[0m, in \u001b[0;36mTextFileReader.__init__\u001b[1;34m(self, f, engine, **kwds)\u001b[0m\n\u001b[0;32m    929\u001b[0m     \u001b[39mself\u001b[39m\u001b[39m.\u001b[39moptions[\u001b[39m\"\u001b[39m\u001b[39mhas_index_names\u001b[39m\u001b[39m\"\u001b[39m] \u001b[39m=\u001b[39m kwds[\u001b[39m\"\u001b[39m\u001b[39mhas_index_names\u001b[39m\u001b[39m\"\u001b[39m]\n\u001b[0;32m    931\u001b[0m \u001b[39mself\u001b[39m\u001b[39m.\u001b[39mhandles: IOHandles \u001b[39m|\u001b[39m \u001b[39mNone\u001b[39;00m \u001b[39m=\u001b[39m \u001b[39mNone\u001b[39;00m\n\u001b[1;32m--> 932\u001b[0m \u001b[39mself\u001b[39m\u001b[39m.\u001b[39m_engine \u001b[39m=\u001b[39m \u001b[39mself\u001b[39;49m\u001b[39m.\u001b[39;49m_make_engine(f, \u001b[39mself\u001b[39;49m\u001b[39m.\u001b[39;49mengine)\n",
      "File \u001b[1;32mc:\\Users\\Administrator\\anaconda3\\lib\\site-packages\\pandas\\io\\parsers\\readers.py:1216\u001b[0m, in \u001b[0;36mTextFileReader._make_engine\u001b[1;34m(self, f, engine)\u001b[0m\n\u001b[0;32m   1212\u001b[0m     mode \u001b[39m=\u001b[39m \u001b[39m\"\u001b[39m\u001b[39mrb\u001b[39m\u001b[39m\"\u001b[39m\n\u001b[0;32m   1213\u001b[0m \u001b[39m# error: No overload variant of \"get_handle\" matches argument types\u001b[39;00m\n\u001b[0;32m   1214\u001b[0m \u001b[39m# \"Union[str, PathLike[str], ReadCsvBuffer[bytes], ReadCsvBuffer[str]]\"\u001b[39;00m\n\u001b[0;32m   1215\u001b[0m \u001b[39m# , \"str\", \"bool\", \"Any\", \"Any\", \"Any\", \"Any\", \"Any\"\u001b[39;00m\n\u001b[1;32m-> 1216\u001b[0m \u001b[39mself\u001b[39m\u001b[39m.\u001b[39mhandles \u001b[39m=\u001b[39m get_handle(  \u001b[39m# type: ignore[call-overload]\u001b[39;49;00m\n\u001b[0;32m   1217\u001b[0m     f,\n\u001b[0;32m   1218\u001b[0m     mode,\n\u001b[0;32m   1219\u001b[0m     encoding\u001b[39m=\u001b[39;49m\u001b[39mself\u001b[39;49m\u001b[39m.\u001b[39;49moptions\u001b[39m.\u001b[39;49mget(\u001b[39m\"\u001b[39;49m\u001b[39mencoding\u001b[39;49m\u001b[39m\"\u001b[39;49m, \u001b[39mNone\u001b[39;49;00m),\n\u001b[0;32m   1220\u001b[0m     compression\u001b[39m=\u001b[39;49m\u001b[39mself\u001b[39;49m\u001b[39m.\u001b[39;49moptions\u001b[39m.\u001b[39;49mget(\u001b[39m\"\u001b[39;49m\u001b[39mcompression\u001b[39;49m\u001b[39m\"\u001b[39;49m, \u001b[39mNone\u001b[39;49;00m),\n\u001b[0;32m   1221\u001b[0m     memory_map\u001b[39m=\u001b[39;49m\u001b[39mself\u001b[39;49m\u001b[39m.\u001b[39;49moptions\u001b[39m.\u001b[39;49mget(\u001b[39m\"\u001b[39;49m\u001b[39mmemory_map\u001b[39;49m\u001b[39m\"\u001b[39;49m, \u001b[39mFalse\u001b[39;49;00m),\n\u001b[0;32m   1222\u001b[0m     is_text\u001b[39m=\u001b[39;49mis_text,\n\u001b[0;32m   1223\u001b[0m     errors\u001b[39m=\u001b[39;49m\u001b[39mself\u001b[39;49m\u001b[39m.\u001b[39;49moptions\u001b[39m.\u001b[39;49mget(\u001b[39m\"\u001b[39;49m\u001b[39mencoding_errors\u001b[39;49m\u001b[39m\"\u001b[39;49m, \u001b[39m\"\u001b[39;49m\u001b[39mstrict\u001b[39;49m\u001b[39m\"\u001b[39;49m),\n\u001b[0;32m   1224\u001b[0m     storage_options\u001b[39m=\u001b[39;49m\u001b[39mself\u001b[39;49m\u001b[39m.\u001b[39;49moptions\u001b[39m.\u001b[39;49mget(\u001b[39m\"\u001b[39;49m\u001b[39mstorage_options\u001b[39;49m\u001b[39m\"\u001b[39;49m, \u001b[39mNone\u001b[39;49;00m),\n\u001b[0;32m   1225\u001b[0m )\n\u001b[0;32m   1226\u001b[0m \u001b[39massert\u001b[39;00m \u001b[39mself\u001b[39m\u001b[39m.\u001b[39mhandles \u001b[39mis\u001b[39;00m \u001b[39mnot\u001b[39;00m \u001b[39mNone\u001b[39;00m\n\u001b[0;32m   1227\u001b[0m f \u001b[39m=\u001b[39m \u001b[39mself\u001b[39m\u001b[39m.\u001b[39mhandles\u001b[39m.\u001b[39mhandle\n",
      "File \u001b[1;32mc:\\Users\\Administrator\\anaconda3\\lib\\site-packages\\pandas\\io\\common.py:786\u001b[0m, in \u001b[0;36mget_handle\u001b[1;34m(path_or_buf, mode, encoding, compression, memory_map, is_text, errors, storage_options)\u001b[0m\n\u001b[0;32m    781\u001b[0m \u001b[39melif\u001b[39;00m \u001b[39misinstance\u001b[39m(handle, \u001b[39mstr\u001b[39m):\n\u001b[0;32m    782\u001b[0m     \u001b[39m# Check whether the filename is to be opened in binary mode.\u001b[39;00m\n\u001b[0;32m    783\u001b[0m     \u001b[39m# Binary mode does not support 'encoding' and 'newline'.\u001b[39;00m\n\u001b[0;32m    784\u001b[0m     \u001b[39mif\u001b[39;00m ioargs\u001b[39m.\u001b[39mencoding \u001b[39mand\u001b[39;00m \u001b[39m\"\u001b[39m\u001b[39mb\u001b[39m\u001b[39m\"\u001b[39m \u001b[39mnot\u001b[39;00m \u001b[39min\u001b[39;00m ioargs\u001b[39m.\u001b[39mmode:\n\u001b[0;32m    785\u001b[0m         \u001b[39m# Encoding\u001b[39;00m\n\u001b[1;32m--> 786\u001b[0m         handle \u001b[39m=\u001b[39m \u001b[39mopen\u001b[39;49m(\n\u001b[0;32m    787\u001b[0m             handle,\n\u001b[0;32m    788\u001b[0m             ioargs\u001b[39m.\u001b[39;49mmode,\n\u001b[0;32m    789\u001b[0m             encoding\u001b[39m=\u001b[39;49mioargs\u001b[39m.\u001b[39;49mencoding,\n\u001b[0;32m    790\u001b[0m             errors\u001b[39m=\u001b[39;49merrors,\n\u001b[0;32m    791\u001b[0m             newline\u001b[39m=\u001b[39;49m\u001b[39m\"\u001b[39;49m\u001b[39m\"\u001b[39;49m,\n\u001b[0;32m    792\u001b[0m         )\n\u001b[0;32m    793\u001b[0m     \u001b[39melse\u001b[39;00m:\n\u001b[0;32m    794\u001b[0m         \u001b[39m# Binary mode\u001b[39;00m\n\u001b[0;32m    795\u001b[0m         handle \u001b[39m=\u001b[39m \u001b[39mopen\u001b[39m(handle, ioargs\u001b[39m.\u001b[39mmode)\n",
      "\u001b[1;31mFileNotFoundError\u001b[0m: [Errno 2] No such file or directory: 'Reviews.csv'"
     ]
    }
   ],
   "source": [
    "data = pd.read_csv('Reviews.csv')\n",
    "counter=0\n",
    "\n",
    "for i in range (len(data)):\n",
    "    data.at[i, 'Reviews'] = data.at[i, \"Reviews\"].split(\"',\")\n",
    "    data.at[i,\"ID\"] =data.at[i,\"ID\"]\n",
    "data = data.explode('Reviews')\n",
    "data"
   ]
  },
  {
   "attachments": {},
   "cell_type": "markdown",
   "metadata": {},
   "source": [
    "### Preprocessing reviews\n"
   ]
  },
  {
   "cell_type": "code",
   "execution_count": null,
   "metadata": {},
   "outputs": [],
   "source": [
    "\n",
    "# Convert text to lowercase\n",
    "data['Reviews'] = data['Reviews'].apply(lambda x: str(x).lower())\n",
    "\n",
    "# Replace newline characters with an empty string\n",
    "data['Reviews'] = data['Reviews'].apply(lambda x: re.sub(r'\\\\n', ' ', x))\n",
    "\n",
    "# Remove black squares\n",
    "data['Reviews'] = data['Reviews'].apply(lambda x: re.sub(r'\\\\u25a0', '', x))\n",
    "\n",
    "# Remove special characters and punctuations\n",
    "data['Reviews'] = data['Reviews'].apply(lambda x: re.sub(r'[^\\w\\s]+', '', x))\n",
    "\n",
    "# Remove numbers\n",
    "data['Reviews'] = data['Reviews'].apply(lambda x: \" \".join([word for word in x.split() if not any(char.isdigit() for char in word)]))\n",
    "\n",
    "# Remove extra whitespaces\n",
    "data['Reviews'] = data['Reviews'].apply(lambda x: re.sub(r'\\s+', ' ', x))\n",
    "\n",
    "# Remove stop words\n",
    "data['Reviews'] = data['Reviews'].apply(lambda x: \" \".join([word for word in x.lower().split() if word not in stop_words]))\n",
    "\n",
    "# Remove empty strings\n",
    "data = data[data['Reviews'].apply(lambda x: len(x)>0)]\n",
    "\n",
    "data.at[0,'Reviews']"
   ]
  },
  {
   "attachments": {},
   "cell_type": "markdown",
   "metadata": {},
   "source": [
    "### Vader-model"
   ]
  },
  {
   "cell_type": "code",
   "execution_count": null,
   "metadata": {},
   "outputs": [],
   "source": [
    "sia_reviews = SentimentIntensityAnalyzer()\n",
    "# pickle.dump(sia_reviews, open('encoders/sia_reviews.pkl', 'wb'))\n",
    "data['Reviews'] = data['Reviews'].apply(lambda x: dict(sia_reviews.polarity_scores(x))['compound'])\n"
   ]
  },
  {
   "attachments": {},
   "cell_type": "markdown",
   "metadata": {},
   "source": [
    "### Get compound average & Group by id\n"
   ]
  },
  {
   "cell_type": "code",
   "execution_count": null,
   "metadata": {},
   "outputs": [],
   "source": [
    "data = data.groupby('ID')['Reviews'].apply(list).reset_index()"
   ]
  },
  {
   "cell_type": "code",
   "execution_count": null,
   "metadata": {},
   "outputs": [],
   "source": [
    "# Get the lowest, highest and average Reviews\n",
    "data['lowest_review'] = data['Reviews'].apply(lambda x: min(x) if len(x) > 0 else 0)\n",
    "data['highest_review'] = data['Reviews'].apply(lambda x: max(x) if len(x) > 0 else 0)\n",
    "data['average_review'] = data['Reviews'].apply(lambda x: np.mean(x) if len(x) > 0 else 0)\n",
    "data = data.drop(['Reviews'],axis=1)"
   ]
  },
  {
   "cell_type": "code",
   "execution_count": null,
   "metadata": {},
   "outputs": [],
   "source": [
    "data.to_csv('reviews_results.csv', index=False)"
   ]
  },
  {
   "cell_type": "code",
   "execution_count": 11,
   "metadata": {},
   "outputs": [
    {
     "data": {
      "text/html": [
       "<div>\n",
       "<style scoped>\n",
       "    .dataframe tbody tr th:only-of-type {\n",
       "        vertical-align: middle;\n",
       "    }\n",
       "\n",
       "    .dataframe tbody tr th {\n",
       "        vertical-align: top;\n",
       "    }\n",
       "\n",
       "    .dataframe thead th {\n",
       "        text-align: right;\n",
       "    }\n",
       "</style>\n",
       "<table border=\"1\" class=\"dataframe\">\n",
       "  <thead>\n",
       "    <tr style=\"text-align: right;\">\n",
       "      <th></th>\n",
       "      <th>URL</th>\n",
       "      <th>ID</th>\n",
       "      <th>Name</th>\n",
       "      <th>Subtitle</th>\n",
       "      <th>Icon URL</th>\n",
       "      <th>User Rating Count</th>\n",
       "      <th>Price</th>\n",
       "      <th>In-app Purchases</th>\n",
       "      <th>Description</th>\n",
       "      <th>Developer</th>\n",
       "      <th>...</th>\n",
       "      <th>Languages</th>\n",
       "      <th>Size</th>\n",
       "      <th>Primary Genre</th>\n",
       "      <th>Genres</th>\n",
       "      <th>Original Release Date</th>\n",
       "      <th>Current Version Release Date</th>\n",
       "      <th>Average User Rating</th>\n",
       "      <th>lowest_review</th>\n",
       "      <th>highest_review</th>\n",
       "      <th>average_review</th>\n",
       "    </tr>\n",
       "  </thead>\n",
       "  <tbody>\n",
       "    <tr>\n",
       "      <th>0</th>\n",
       "      <td>https://apps.apple.com/us/app/heir-of-light/id...</td>\n",
       "      <td>1264483706</td>\n",
       "      <td>HEIR OF LIGHT</td>\n",
       "      <td>Dark Fantasy RPG</td>\n",
       "      <td>icons/0.png</td>\n",
       "      <td>982</td>\n",
       "      <td>0.00</td>\n",
       "      <td>29.99, 19.99, 9.99, 29.99, 29.99, 8.99, 4.99, ...</td>\n",
       "      <td>A Dark Fantasy, Collectible RPG\\n\\nDarkness ha...</td>\n",
       "      <td>GAMEVIL Inc.</td>\n",
       "      <td>...</td>\n",
       "      <td>EN, FR, DE, JA, KO, ZH, ES, TH, ZH, VI</td>\n",
       "      <td>894489600</td>\n",
       "      <td>Games</td>\n",
       "      <td>Games, Role Playing, Strategy</td>\n",
       "      <td>2018-03-06</td>\n",
       "      <td>2019-07-31</td>\n",
       "      <td>4.0</td>\n",
       "      <td>-0.7417</td>\n",
       "      <td>0.9953</td>\n",
       "      <td>0.791020</td>\n",
       "    </tr>\n",
       "    <tr>\n",
       "      <th>1</th>\n",
       "      <td>https://apps.apple.com/us/app/endgame-eurasia/...</td>\n",
       "      <td>607705356</td>\n",
       "      <td>Endgame:Eurasia</td>\n",
       "      <td>NaN</td>\n",
       "      <td>icons/1.png</td>\n",
       "      <td>19</td>\n",
       "      <td>0.00</td>\n",
       "      <td>NaN</td>\n",
       "      <td>\"This interactive experience is an exploration...</td>\n",
       "      <td>Auroch Digital Ltd</td>\n",
       "      <td>...</td>\n",
       "      <td>EN</td>\n",
       "      <td>116407296</td>\n",
       "      <td>Games</td>\n",
       "      <td>Games, Simulation, Strategy, News</td>\n",
       "      <td>2013-03-21</td>\n",
       "      <td>2017-06-28</td>\n",
       "      <td>3.5</td>\n",
       "      <td>-0.9246</td>\n",
       "      <td>0.9906</td>\n",
       "      <td>0.475180</td>\n",
       "    </tr>\n",
       "    <tr>\n",
       "      <th>8</th>\n",
       "      <td>https://apps.apple.com/us/app/airport-madness-...</td>\n",
       "      <td>393575110</td>\n",
       "      <td>Airport Madness Challenge</td>\n",
       "      <td>NaN</td>\n",
       "      <td>icons/8.png</td>\n",
       "      <td>1815</td>\n",
       "      <td>0.99</td>\n",
       "      <td>0.99, 2.99, 1.99, 3.99, 4.99, 1.99, 9.99, 9.99...</td>\n",
       "      <td>Earn experience and unlock new, awesome, FREE ...</td>\n",
       "      <td>Fluik</td>\n",
       "      <td>...</td>\n",
       "      <td>EN</td>\n",
       "      <td>63327232</td>\n",
       "      <td>Games</td>\n",
       "      <td>Games, Simulation, Entertainment, Strategy</td>\n",
       "      <td>2010-10-15</td>\n",
       "      <td>2018-04-24</td>\n",
       "      <td>4.0</td>\n",
       "      <td>-0.8402</td>\n",
       "      <td>0.8981</td>\n",
       "      <td>0.341611</td>\n",
       "    </tr>\n",
       "    <tr>\n",
       "      <th>10</th>\n",
       "      <td>https://apps.apple.com/us/app/trumps-small-loa...</td>\n",
       "      <td>1121788355</td>\n",
       "      <td>Trumps Small Loan: Make More Money</td>\n",
       "      <td>NaN</td>\n",
       "      <td>icons/10.png</td>\n",
       "      <td>6</td>\n",
       "      <td>0.00</td>\n",
       "      <td>NaN</td>\n",
       "      <td>Trump gives a small loan of $1.00! \\nKeep swip...</td>\n",
       "      <td>Adam Irvine</td>\n",
       "      <td>...</td>\n",
       "      <td>EN</td>\n",
       "      <td>11390976</td>\n",
       "      <td>Games</td>\n",
       "      <td>Games, Puzzle, Strategy, Entertainment</td>\n",
       "      <td>2016-06-09</td>\n",
       "      <td>2016-06-09</td>\n",
       "      <td>2.5</td>\n",
       "      <td>0.0000</td>\n",
       "      <td>0.6597</td>\n",
       "      <td>0.271500</td>\n",
       "    </tr>\n",
       "    <tr>\n",
       "      <th>11</th>\n",
       "      <td>https://apps.apple.com/us/app/ultimate-battle-...</td>\n",
       "      <td>1229445376</td>\n",
       "      <td>Ultimate Battle Simulator</td>\n",
       "      <td>NaN</td>\n",
       "      <td>icons/11.png</td>\n",
       "      <td>46</td>\n",
       "      <td>0.00</td>\n",
       "      <td>NaN</td>\n",
       "      <td>Ultimate battle simulator  ( UBS ) its physics...</td>\n",
       "      <td>Filip Rudzinski</td>\n",
       "      <td>...</td>\n",
       "      <td>EN</td>\n",
       "      <td>251660288</td>\n",
       "      <td>Games</td>\n",
       "      <td>Games, Action, Strategy</td>\n",
       "      <td>2017-04-24</td>\n",
       "      <td>2017-05-30</td>\n",
       "      <td>3.5</td>\n",
       "      <td>-0.6597</td>\n",
       "      <td>0.9423</td>\n",
       "      <td>0.323970</td>\n",
       "    </tr>\n",
       "  </tbody>\n",
       "</table>\n",
       "<p>5 rows × 21 columns</p>\n",
       "</div>"
      ],
      "text/plain": [
       "                                                  URL          ID  \\\n",
       "0   https://apps.apple.com/us/app/heir-of-light/id...  1264483706   \n",
       "1   https://apps.apple.com/us/app/endgame-eurasia/...   607705356   \n",
       "8   https://apps.apple.com/us/app/airport-madness-...   393575110   \n",
       "10  https://apps.apple.com/us/app/trumps-small-loa...  1121788355   \n",
       "11  https://apps.apple.com/us/app/ultimate-battle-...  1229445376   \n",
       "\n",
       "                                  Name          Subtitle      Icon URL  \\\n",
       "0                        HEIR OF LIGHT  Dark Fantasy RPG   icons/0.png   \n",
       "1                      Endgame:Eurasia               NaN   icons/1.png   \n",
       "8            Airport Madness Challenge               NaN   icons/8.png   \n",
       "10  Trumps Small Loan: Make More Money               NaN  icons/10.png   \n",
       "11           Ultimate Battle Simulator               NaN  icons/11.png   \n",
       "\n",
       "    User Rating Count  Price  \\\n",
       "0                 982   0.00   \n",
       "1                  19   0.00   \n",
       "8                1815   0.99   \n",
       "10                  6   0.00   \n",
       "11                 46   0.00   \n",
       "\n",
       "                                     In-app Purchases  \\\n",
       "0   29.99, 19.99, 9.99, 29.99, 29.99, 8.99, 4.99, ...   \n",
       "1                                                 NaN   \n",
       "8   0.99, 2.99, 1.99, 3.99, 4.99, 1.99, 9.99, 9.99...   \n",
       "10                                                NaN   \n",
       "11                                                NaN   \n",
       "\n",
       "                                          Description           Developer  \\\n",
       "0   A Dark Fantasy, Collectible RPG\\n\\nDarkness ha...        GAMEVIL Inc.   \n",
       "1   \"This interactive experience is an exploration...  Auroch Digital Ltd   \n",
       "8   Earn experience and unlock new, awesome, FREE ...               Fluik   \n",
       "10  Trump gives a small loan of $1.00! \\nKeep swip...         Adam Irvine   \n",
       "11  Ultimate battle simulator  ( UBS ) its physics...     Filip Rudzinski   \n",
       "\n",
       "    ...                               Languages       Size  Primary Genre  \\\n",
       "0   ...  EN, FR, DE, JA, KO, ZH, ES, TH, ZH, VI  894489600          Games   \n",
       "1   ...                                      EN  116407296          Games   \n",
       "8   ...                                      EN   63327232          Games   \n",
       "10  ...                                      EN   11390976          Games   \n",
       "11  ...                                      EN  251660288          Games   \n",
       "\n",
       "                                        Genres Original Release Date  \\\n",
       "0                Games, Role Playing, Strategy            2018-03-06   \n",
       "1            Games, Simulation, Strategy, News            2013-03-21   \n",
       "8   Games, Simulation, Entertainment, Strategy            2010-10-15   \n",
       "10      Games, Puzzle, Strategy, Entertainment            2016-06-09   \n",
       "11                     Games, Action, Strategy            2017-04-24   \n",
       "\n",
       "   Current Version Release Date Average User Rating  lowest_review  \\\n",
       "0                    2019-07-31                 4.0        -0.7417   \n",
       "1                    2017-06-28                 3.5        -0.9246   \n",
       "8                    2018-04-24                 4.0        -0.8402   \n",
       "10                   2016-06-09                 2.5         0.0000   \n",
       "11                   2017-05-30                 3.5        -0.6597   \n",
       "\n",
       "    highest_review  average_review  \n",
       "0           0.9953        0.791020  \n",
       "1           0.9906        0.475180  \n",
       "8           0.8981        0.341611  \n",
       "10          0.6597        0.271500  \n",
       "11          0.9423        0.323970  \n",
       "\n",
       "[5 rows x 21 columns]"
      ]
     },
     "execution_count": 11,
     "metadata": {},
     "output_type": "execute_result"
    }
   ],
   "source": [
    "sentiment = pd.read_csv('reviews_results.csv')\n",
    "## Merge The Sentiment with ba2i el table\n",
    "df_origin = df_origin.merge(sentiment, on='ID', how='left')\n",
    "## Drop nulls of sentiment\n",
    "df_origin = df_origin.dropna(subset=['lowest_review','highest_review','average_review'])\n",
    "df_origin.head()\n"
   ]
  },
  {
   "attachments": {},
   "cell_type": "markdown",
   "metadata": {},
   "source": [
    "## Data Splitting"
   ]
  },
  {
   "cell_type": "code",
   "execution_count": 12,
   "metadata": {},
   "outputs": [],
   "source": [
    "from sklearn.model_selection import train_test_split\n",
    "\n",
    "df, df_test = train_test_split(df_origin, test_size=0.2, random_state=42)\n",
    "df_test.to_csv('df_test.csv', index=False)"
   ]
  },
  {
   "cell_type": "code",
   "execution_count": 13,
   "metadata": {},
   "outputs": [
    {
     "data": {
      "text/plain": [
       "(2195, 21)"
      ]
     },
     "execution_count": 13,
     "metadata": {},
     "output_type": "execute_result"
    }
   ],
   "source": [
    "df.shape"
   ]
  },
  {
   "attachments": {},
   "cell_type": "markdown",
   "metadata": {
    "collapsed": false
   },
   "source": [
    "## Dropping unnecessary columns"
   ]
  },
  {
   "cell_type": "code",
   "execution_count": 14,
   "metadata": {
    "ExecuteTime": {
     "end_time": "2023-04-14T10:35:07.218975Z",
     "start_time": "2023-04-14T10:35:07.199405Z"
    },
    "collapsed": false
   },
   "outputs": [],
   "source": [
    "# drop Primary Genre\n",
    "df.drop(['Primary Genre','ID', 'URL'], axis=1, inplace=True)"
   ]
  },
  {
   "cell_type": "code",
   "execution_count": 15,
   "metadata": {},
   "outputs": [
    {
     "data": {
      "text/html": [
       "<div>\n",
       "<style scoped>\n",
       "    .dataframe tbody tr th:only-of-type {\n",
       "        vertical-align: middle;\n",
       "    }\n",
       "\n",
       "    .dataframe tbody tr th {\n",
       "        vertical-align: top;\n",
       "    }\n",
       "\n",
       "    .dataframe thead th {\n",
       "        text-align: right;\n",
       "    }\n",
       "</style>\n",
       "<table border=\"1\" class=\"dataframe\">\n",
       "  <thead>\n",
       "    <tr style=\"text-align: right;\">\n",
       "      <th></th>\n",
       "      <th>Name</th>\n",
       "      <th>Subtitle</th>\n",
       "      <th>Icon URL</th>\n",
       "      <th>User Rating Count</th>\n",
       "      <th>Price</th>\n",
       "      <th>In-app Purchases</th>\n",
       "      <th>Description</th>\n",
       "      <th>Developer</th>\n",
       "      <th>Age Rating</th>\n",
       "      <th>Languages</th>\n",
       "      <th>Size</th>\n",
       "      <th>Genres</th>\n",
       "      <th>Original Release Date</th>\n",
       "      <th>Current Version Release Date</th>\n",
       "      <th>Average User Rating</th>\n",
       "      <th>lowest_review</th>\n",
       "      <th>highest_review</th>\n",
       "      <th>average_review</th>\n",
       "    </tr>\n",
       "  </thead>\n",
       "  <tbody>\n",
       "    <tr>\n",
       "      <th>4330</th>\n",
       "      <td>Brass</td>\n",
       "      <td>NaN</td>\n",
       "      <td>icons/4330.png</td>\n",
       "      <td>205</td>\n",
       "      <td>5.99</td>\n",
       "      <td>NaN</td>\n",
       "      <td>\"It\\u2019s wonderful\" - 5/5 from Pocket Tactic...</td>\n",
       "      <td>Cublo Sp. z o.o.</td>\n",
       "      <td>4+</td>\n",
       "      <td>EN, DE, PL</td>\n",
       "      <td>298156032</td>\n",
       "      <td>Games, Board, Entertainment, Strategy</td>\n",
       "      <td>2015-11-12</td>\n",
       "      <td>2019-05-31</td>\n",
       "      <td>4.5</td>\n",
       "      <td>0.8655</td>\n",
       "      <td>0.9754</td>\n",
       "      <td>0.913462</td>\n",
       "    </tr>\n",
       "    <tr>\n",
       "      <th>2692</th>\n",
       "      <td>Scythe score</td>\n",
       "      <td>Score counter for Scythe game</td>\n",
       "      <td>icons/2692.png</td>\n",
       "      <td>9</td>\n",
       "      <td>0.00</td>\n",
       "      <td>NaN</td>\n",
       "      <td>This is a companion app for the Scythe boardga...</td>\n",
       "      <td>Jane Idelson</td>\n",
       "      <td>4+</td>\n",
       "      <td>EN</td>\n",
       "      <td>29981696</td>\n",
       "      <td>Games, Entertainment, Strategy</td>\n",
       "      <td>2017-10-18</td>\n",
       "      <td>2018-03-02</td>\n",
       "      <td>3.5</td>\n",
       "      <td>0.0000</td>\n",
       "      <td>0.8456</td>\n",
       "      <td>0.470967</td>\n",
       "    </tr>\n",
       "    <tr>\n",
       "      <th>4248</th>\n",
       "      <td>Montessori Handwriting tutor</td>\n",
       "      <td>Zaner Boser and Dnealian</td>\n",
       "      <td>icons/4248.png</td>\n",
       "      <td>12</td>\n",
       "      <td>1.99</td>\n",
       "      <td>NaN</td>\n",
       "      <td>Montesori Dnealian Handwriting tutor is the pe...</td>\n",
       "      <td>Nathalie Palma</td>\n",
       "      <td>4+</td>\n",
       "      <td>EN</td>\n",
       "      <td>223058944</td>\n",
       "      <td>Education, Strategy, Games, Family</td>\n",
       "      <td>2012-02-11</td>\n",
       "      <td>2018-03-27</td>\n",
       "      <td>4.0</td>\n",
       "      <td>-0.4215</td>\n",
       "      <td>0.9915</td>\n",
       "      <td>0.550650</td>\n",
       "    </tr>\n",
       "    <tr>\n",
       "      <th>3032</th>\n",
       "      <td>Army Defence Free</td>\n",
       "      <td>NaN</td>\n",
       "      <td>icons/3032.png</td>\n",
       "      <td>6</td>\n",
       "      <td>0.00</td>\n",
       "      <td>0.99</td>\n",
       "      <td>\"Army Defence Free a new tower defence game wi...</td>\n",
       "      <td>Amr Labib</td>\n",
       "      <td>4+</td>\n",
       "      <td>EN</td>\n",
       "      <td>49547264</td>\n",
       "      <td>Games, Strategy</td>\n",
       "      <td>2013-12-20</td>\n",
       "      <td>2016-12-02</td>\n",
       "      <td>3.0</td>\n",
       "      <td>0.1779</td>\n",
       "      <td>0.8689</td>\n",
       "      <td>0.511225</td>\n",
       "    </tr>\n",
       "    <tr>\n",
       "      <th>3553</th>\n",
       "      <td>Backgammon King</td>\n",
       "      <td>NaN</td>\n",
       "      <td>icons/3553.png</td>\n",
       "      <td>59</td>\n",
       "      <td>0.00</td>\n",
       "      <td>NaN</td>\n",
       "      <td>Backgammon is the oldest board game played by ...</td>\n",
       "      <td>MOBIRIX</td>\n",
       "      <td>4+</td>\n",
       "      <td>EN, FR, DE, JA, KO, PT, RU, ZH, ES, ZH</td>\n",
       "      <td>24093696</td>\n",
       "      <td>Games, Strategy, Board, Entertainment</td>\n",
       "      <td>2015-03-17</td>\n",
       "      <td>2018-12-17</td>\n",
       "      <td>4.0</td>\n",
       "      <td>-0.4472</td>\n",
       "      <td>0.9875</td>\n",
       "      <td>0.537111</td>\n",
       "    </tr>\n",
       "    <tr>\n",
       "      <th>...</th>\n",
       "      <td>...</td>\n",
       "      <td>...</td>\n",
       "      <td>...</td>\n",
       "      <td>...</td>\n",
       "      <td>...</td>\n",
       "      <td>...</td>\n",
       "      <td>...</td>\n",
       "      <td>...</td>\n",
       "      <td>...</td>\n",
       "      <td>...</td>\n",
       "      <td>...</td>\n",
       "      <td>...</td>\n",
       "      <td>...</td>\n",
       "      <td>...</td>\n",
       "      <td>...</td>\n",
       "      <td>...</td>\n",
       "      <td>...</td>\n",
       "      <td>...</td>\n",
       "    </tr>\n",
       "    <tr>\n",
       "      <th>3077</th>\n",
       "      <td>Battle Islands</td>\n",
       "      <td>Epic Combat Strategy!</td>\n",
       "      <td>icons/3077.png</td>\n",
       "      <td>6906</td>\n",
       "      <td>0.00</td>\n",
       "      <td>4.99, 1.99, 9.99, 24.99, 7.99, 49.99, 99.99, 2...</td>\n",
       "      <td>\"Battle for supremacy in this epic WWII combat...</td>\n",
       "      <td>505 Games (US), Inc.</td>\n",
       "      <td>12+</td>\n",
       "      <td>EN, FR, DE, IT, PT, RU, ES, TR</td>\n",
       "      <td>224664576</td>\n",
       "      <td>Games, Strategy, Entertainment, Simulation</td>\n",
       "      <td>2013-12-12</td>\n",
       "      <td>2018-09-04</td>\n",
       "      <td>4.0</td>\n",
       "      <td>-0.9791</td>\n",
       "      <td>0.9524</td>\n",
       "      <td>0.341878</td>\n",
       "    </tr>\n",
       "    <tr>\n",
       "      <th>2060</th>\n",
       "      <td>Gold Rush! Anniversary HD</td>\n",
       "      <td>NaN</td>\n",
       "      <td>icons/2060.png</td>\n",
       "      <td>8</td>\n",
       "      <td>1.99</td>\n",
       "      <td>NaN</td>\n",
       "      <td>In 1988, Rush appeared with Gold! in one of th...</td>\n",
       "      <td>Sunlight Games GmbH</td>\n",
       "      <td>4+</td>\n",
       "      <td>EN</td>\n",
       "      <td>2796224512</td>\n",
       "      <td>Games, Entertainment, Adventure, Strategy</td>\n",
       "      <td>2015-03-04</td>\n",
       "      <td>2018-04-28</td>\n",
       "      <td>2.5</td>\n",
       "      <td>-0.5240</td>\n",
       "      <td>0.9304</td>\n",
       "      <td>0.609450</td>\n",
       "    </tr>\n",
       "    <tr>\n",
       "      <th>2139</th>\n",
       "      <td>Hunter Weapons Add-On for Minecraft PE: MCPE</td>\n",
       "      <td>NaN</td>\n",
       "      <td>icons/2139.png</td>\n",
       "      <td>52</td>\n",
       "      <td>0.00</td>\n",
       "      <td>0.99</td>\n",
       "      <td>This addon changes the behavior and textures f...</td>\n",
       "      <td>Nadeem Mughal</td>\n",
       "      <td>12+</td>\n",
       "      <td>EN</td>\n",
       "      <td>17515520</td>\n",
       "      <td>Reference, Strategy, Games</td>\n",
       "      <td>2016-12-22</td>\n",
       "      <td>2017-01-10</td>\n",
       "      <td>2.5</td>\n",
       "      <td>-0.6705</td>\n",
       "      <td>0.7284</td>\n",
       "      <td>0.186789</td>\n",
       "    </tr>\n",
       "    <tr>\n",
       "      <th>2436</th>\n",
       "      <td>Defend Your Turf: Arcade Street Fight</td>\n",
       "      <td>NaN</td>\n",
       "      <td>icons/2436.png</td>\n",
       "      <td>47</td>\n",
       "      <td>0.00</td>\n",
       "      <td>2.99</td>\n",
       "      <td>\"In a small town somewhere on earth, a bunch o...</td>\n",
       "      <td>Stephen Folkes</td>\n",
       "      <td>12+</td>\n",
       "      <td>EN</td>\n",
       "      <td>23917568</td>\n",
       "      <td>Games, Action, Strategy</td>\n",
       "      <td>2016-09-04</td>\n",
       "      <td>2017-04-19</td>\n",
       "      <td>5.0</td>\n",
       "      <td>0.6124</td>\n",
       "      <td>0.9909</td>\n",
       "      <td>0.859267</td>\n",
       "    </tr>\n",
       "    <tr>\n",
       "      <th>1624</th>\n",
       "      <td>3KingdomsDG</td>\n",
       "      <td>NaN</td>\n",
       "      <td>icons/1624.png</td>\n",
       "      <td>15</td>\n",
       "      <td>0.00</td>\n",
       "      <td>NaN</td>\n",
       "      <td>!!!Three Kingdoms real time action wave attack...</td>\n",
       "      <td>Smart ZETA</td>\n",
       "      <td>9+</td>\n",
       "      <td>EN</td>\n",
       "      <td>106684416</td>\n",
       "      <td>Games, Entertainment, Strategy, Role Playing</td>\n",
       "      <td>2011-07-06</td>\n",
       "      <td>2016-12-15</td>\n",
       "      <td>2.5</td>\n",
       "      <td>-0.0516</td>\n",
       "      <td>0.4537</td>\n",
       "      <td>0.201050</td>\n",
       "    </tr>\n",
       "  </tbody>\n",
       "</table>\n",
       "<p>2195 rows × 18 columns</p>\n",
       "</div>"
      ],
      "text/plain": [
       "                                              Name  \\\n",
       "4330                                         Brass   \n",
       "2692                                  Scythe score   \n",
       "4248                  Montessori Handwriting tutor   \n",
       "3032                             Army Defence Free   \n",
       "3553                               Backgammon King   \n",
       "...                                            ...   \n",
       "3077                                Battle Islands   \n",
       "2060                     Gold Rush! Anniversary HD   \n",
       "2139  Hunter Weapons Add-On for Minecraft PE: MCPE   \n",
       "2436         Defend Your Turf: Arcade Street Fight   \n",
       "1624                                   3KingdomsDG   \n",
       "\n",
       "                           Subtitle        Icon URL  User Rating Count  Price  \\\n",
       "4330                            NaN  icons/4330.png                205   5.99   \n",
       "2692  Score counter for Scythe game  icons/2692.png                  9   0.00   \n",
       "4248       Zaner Boser and Dnealian  icons/4248.png                 12   1.99   \n",
       "3032                            NaN  icons/3032.png                  6   0.00   \n",
       "3553                            NaN  icons/3553.png                 59   0.00   \n",
       "...                             ...             ...                ...    ...   \n",
       "3077          Epic Combat Strategy!  icons/3077.png               6906   0.00   \n",
       "2060                            NaN  icons/2060.png                  8   1.99   \n",
       "2139                            NaN  icons/2139.png                 52   0.00   \n",
       "2436                            NaN  icons/2436.png                 47   0.00   \n",
       "1624                            NaN  icons/1624.png                 15   0.00   \n",
       "\n",
       "                                       In-app Purchases  \\\n",
       "4330                                                NaN   \n",
       "2692                                                NaN   \n",
       "4248                                                NaN   \n",
       "3032                                               0.99   \n",
       "3553                                                NaN   \n",
       "...                                                 ...   \n",
       "3077  4.99, 1.99, 9.99, 24.99, 7.99, 49.99, 99.99, 2...   \n",
       "2060                                                NaN   \n",
       "2139                                               0.99   \n",
       "2436                                               2.99   \n",
       "1624                                                NaN   \n",
       "\n",
       "                                            Description             Developer  \\\n",
       "4330  \"It\\u2019s wonderful\" - 5/5 from Pocket Tactic...      Cublo Sp. z o.o.   \n",
       "2692  This is a companion app for the Scythe boardga...          Jane Idelson   \n",
       "4248  Montesori Dnealian Handwriting tutor is the pe...        Nathalie Palma   \n",
       "3032  \"Army Defence Free a new tower defence game wi...             Amr Labib   \n",
       "3553  Backgammon is the oldest board game played by ...               MOBIRIX   \n",
       "...                                                 ...                   ...   \n",
       "3077  \"Battle for supremacy in this epic WWII combat...  505 Games (US), Inc.   \n",
       "2060  In 1988, Rush appeared with Gold! in one of th...   Sunlight Games GmbH   \n",
       "2139  This addon changes the behavior and textures f...         Nadeem Mughal   \n",
       "2436  \"In a small town somewhere on earth, a bunch o...        Stephen Folkes   \n",
       "1624  !!!Three Kingdoms real time action wave attack...            Smart ZETA   \n",
       "\n",
       "     Age Rating                               Languages        Size  \\\n",
       "4330         4+                              EN, DE, PL   298156032   \n",
       "2692         4+                                      EN    29981696   \n",
       "4248         4+                                      EN   223058944   \n",
       "3032         4+                                      EN    49547264   \n",
       "3553         4+  EN, FR, DE, JA, KO, PT, RU, ZH, ES, ZH    24093696   \n",
       "...         ...                                     ...         ...   \n",
       "3077        12+          EN, FR, DE, IT, PT, RU, ES, TR   224664576   \n",
       "2060         4+                                      EN  2796224512   \n",
       "2139        12+                                      EN    17515520   \n",
       "2436        12+                                      EN    23917568   \n",
       "1624         9+                                      EN   106684416   \n",
       "\n",
       "                                            Genres Original Release Date  \\\n",
       "4330         Games, Board, Entertainment, Strategy            2015-11-12   \n",
       "2692                Games, Entertainment, Strategy            2017-10-18   \n",
       "4248            Education, Strategy, Games, Family            2012-02-11   \n",
       "3032                               Games, Strategy            2013-12-20   \n",
       "3553         Games, Strategy, Board, Entertainment            2015-03-17   \n",
       "...                                            ...                   ...   \n",
       "3077    Games, Strategy, Entertainment, Simulation            2013-12-12   \n",
       "2060     Games, Entertainment, Adventure, Strategy            2015-03-04   \n",
       "2139                    Reference, Strategy, Games            2016-12-22   \n",
       "2436                       Games, Action, Strategy            2016-09-04   \n",
       "1624  Games, Entertainment, Strategy, Role Playing            2011-07-06   \n",
       "\n",
       "     Current Version Release Date  Average User Rating  lowest_review  \\\n",
       "4330                   2019-05-31                  4.5         0.8655   \n",
       "2692                   2018-03-02                  3.5         0.0000   \n",
       "4248                   2018-03-27                  4.0        -0.4215   \n",
       "3032                   2016-12-02                  3.0         0.1779   \n",
       "3553                   2018-12-17                  4.0        -0.4472   \n",
       "...                           ...                  ...            ...   \n",
       "3077                   2018-09-04                  4.0        -0.9791   \n",
       "2060                   2018-04-28                  2.5        -0.5240   \n",
       "2139                   2017-01-10                  2.5        -0.6705   \n",
       "2436                   2017-04-19                  5.0         0.6124   \n",
       "1624                   2016-12-15                  2.5        -0.0516   \n",
       "\n",
       "      highest_review  average_review  \n",
       "4330          0.9754        0.913462  \n",
       "2692          0.8456        0.470967  \n",
       "4248          0.9915        0.550650  \n",
       "3032          0.8689        0.511225  \n",
       "3553          0.9875        0.537111  \n",
       "...              ...             ...  \n",
       "3077          0.9524        0.341878  \n",
       "2060          0.9304        0.609450  \n",
       "2139          0.7284        0.186789  \n",
       "2436          0.9909        0.859267  \n",
       "1624          0.4537        0.201050  \n",
       "\n",
       "[2195 rows x 18 columns]"
      ]
     },
     "execution_count": 15,
     "metadata": {},
     "output_type": "execute_result"
    }
   ],
   "source": [
    "df"
   ]
  },
  {
   "cell_type": "markdown",
   "metadata": {
    "collapsed": false
   },
   "source": [
    "## Dates preprocessing"
   ]
  },
  {
   "cell_type": "code",
   "execution_count": 16,
   "metadata": {
    "ExecuteTime": {
     "end_time": "2023-04-14T10:36:05.737187Z",
     "start_time": "2023-04-14T10:36:05.699973Z"
    },
    "collapsed": false
   },
   "outputs": [
    {
     "data": {
      "text/html": [
       "<div>\n",
       "<style scoped>\n",
       "    .dataframe tbody tr th:only-of-type {\n",
       "        vertical-align: middle;\n",
       "    }\n",
       "\n",
       "    .dataframe tbody tr th {\n",
       "        vertical-align: top;\n",
       "    }\n",
       "\n",
       "    .dataframe thead th {\n",
       "        text-align: right;\n",
       "    }\n",
       "</style>\n",
       "<table border=\"1\" class=\"dataframe\">\n",
       "  <thead>\n",
       "    <tr style=\"text-align: right;\">\n",
       "      <th></th>\n",
       "      <th>Original Release Date</th>\n",
       "      <th>Current Version Release Date</th>\n",
       "    </tr>\n",
       "  </thead>\n",
       "  <tbody>\n",
       "    <tr>\n",
       "      <th>4330</th>\n",
       "      <td>735914</td>\n",
       "      <td>737210</td>\n",
       "    </tr>\n",
       "    <tr>\n",
       "      <th>2692</th>\n",
       "      <td>736620</td>\n",
       "      <td>736755</td>\n",
       "    </tr>\n",
       "    <tr>\n",
       "      <th>4248</th>\n",
       "      <td>734544</td>\n",
       "      <td>736780</td>\n",
       "    </tr>\n",
       "    <tr>\n",
       "      <th>3032</th>\n",
       "      <td>735222</td>\n",
       "      <td>736300</td>\n",
       "    </tr>\n",
       "    <tr>\n",
       "      <th>3553</th>\n",
       "      <td>735674</td>\n",
       "      <td>737045</td>\n",
       "    </tr>\n",
       "  </tbody>\n",
       "</table>\n",
       "</div>"
      ],
      "text/plain": [
       "      Original Release Date  Current Version Release Date\n",
       "4330                 735914                        737210\n",
       "2692                 736620                        736755\n",
       "4248                 734544                        736780\n",
       "3032                 735222                        736300\n",
       "3553                 735674                        737045"
      ]
     },
     "execution_count": 16,
     "metadata": {},
     "output_type": "execute_result"
    }
   ],
   "source": [
    "# Convert the datetime to ordinal\n",
    "\n",
    "df['Original Release Date'] = df['Original Release Date'].apply(lambda x: x.toordinal())\n",
    "df['Current Version Release Date'] = df['Current Version Release Date'].apply(lambda x: x.toordinal())\n",
    "df[['Original Release Date', 'Current Version Release Date']].head()"
   ]
  },
  {
   "cell_type": "code",
   "execution_count": 17,
   "metadata": {},
   "outputs": [
    {
     "data": {
      "text/html": [
       "<div>\n",
       "<style scoped>\n",
       "    .dataframe tbody tr th:only-of-type {\n",
       "        vertical-align: middle;\n",
       "    }\n",
       "\n",
       "    .dataframe tbody tr th {\n",
       "        vertical-align: top;\n",
       "    }\n",
       "\n",
       "    .dataframe thead th {\n",
       "        text-align: right;\n",
       "    }\n",
       "</style>\n",
       "<table border=\"1\" class=\"dataframe\">\n",
       "  <thead>\n",
       "    <tr style=\"text-align: right;\">\n",
       "      <th></th>\n",
       "      <th>game_age</th>\n",
       "      <th>last_update</th>\n",
       "    </tr>\n",
       "  </thead>\n",
       "  <tbody>\n",
       "    <tr>\n",
       "      <th>4330</th>\n",
       "      <td>1296</td>\n",
       "      <td>1425</td>\n",
       "    </tr>\n",
       "    <tr>\n",
       "      <th>2692</th>\n",
       "      <td>135</td>\n",
       "      <td>1880</td>\n",
       "    </tr>\n",
       "    <tr>\n",
       "      <th>4248</th>\n",
       "      <td>2236</td>\n",
       "      <td>1855</td>\n",
       "    </tr>\n",
       "    <tr>\n",
       "      <th>3032</th>\n",
       "      <td>1078</td>\n",
       "      <td>2335</td>\n",
       "    </tr>\n",
       "    <tr>\n",
       "      <th>3553</th>\n",
       "      <td>1371</td>\n",
       "      <td>1590</td>\n",
       "    </tr>\n",
       "  </tbody>\n",
       "</table>\n",
       "</div>"
      ],
      "text/plain": [
       "      game_age  last_update\n",
       "4330      1296         1425\n",
       "2692       135         1880\n",
       "4248      2236         1855\n",
       "3032      1078         2335\n",
       "3553      1371         1590"
      ]
     },
     "execution_count": 17,
     "metadata": {},
     "output_type": "execute_result"
    }
   ],
   "source": [
    "# Create a new column with the age of the game\n",
    "df['game_age'] = df['Current Version Release Date'] - df['Original Release Date']\n",
    "\n",
    "# Create a new column with the time since the last update\n",
    "df['last_update'] = datetime.now().toordinal() - df['Current Version Release Date'] \n",
    "\n",
    "df[['game_age', 'last_update']].head()"
   ]
  },
  {
   "cell_type": "markdown",
   "metadata": {
    "collapsed": false
   },
   "source": [
    "## Data Exploration"
   ]
  },
  {
   "attachments": {},
   "cell_type": "markdown",
   "metadata": {},
   "source": [
    "### General information"
   ]
  },
  {
   "cell_type": "code",
   "execution_count": null,
   "metadata": {
    "ExecuteTime": {
     "end_time": "2023-04-13T16:07:00.183708Z",
     "start_time": "2023-04-13T16:07:00.127616Z"
    },
    "collapsed": false
   },
   "outputs": [],
   "source": [
    "df.head()"
   ]
  },
  {
   "cell_type": "code",
   "execution_count": null,
   "metadata": {
    "ExecuteTime": {
     "end_time": "2023-04-13T14:33:05.138536Z",
     "start_time": "2023-04-13T14:33:05.138536Z"
    },
    "collapsed": false
   },
   "outputs": [],
   "source": [
    "df.info()"
   ]
  },
  {
   "cell_type": "code",
   "execution_count": null,
   "metadata": {
    "ExecuteTime": {
     "end_time": "2023-04-13T14:33:07.893814Z",
     "start_time": "2023-04-13T14:33:07.893814Z"
    },
    "collapsed": false
   },
   "outputs": [],
   "source": [
    "df.isnull().sum()"
   ]
  },
  {
   "attachments": {},
   "cell_type": "markdown",
   "metadata": {},
   "source": [
    "### Genres"
   ]
  },
  {
   "cell_type": "code",
   "execution_count": null,
   "metadata": {
    "ExecuteTime": {
     "end_time": "2023-04-13T14:33:21.139604Z",
     "start_time": "2023-04-13T14:33:21.139604Z"
    },
    "collapsed": false
   },
   "outputs": [],
   "source": [
    "df['Genres'] = df['Genres'].astype(str)\n",
    "df['Genres'] = df['Genres'].str.strip('[]').str.replace(\"'\", \"\").str.split(\", \")\n",
    "\n",
    "genre_counts = df.explode('Genres').groupby('Genres').size().sort_values(ascending=False)\n",
    "genre_counts\n"
   ]
  },
  {
   "attachments": {},
   "cell_type": "markdown",
   "metadata": {},
   "source": [
    "### Developer"
   ]
  },
  {
   "cell_type": "code",
   "execution_count": null,
   "metadata": {
    "ExecuteTime": {
     "end_time": "2023-04-13T14:33:43.637371Z",
     "start_time": "2023-04-13T14:33:43.637371Z"
    },
    "collapsed": false
   },
   "outputs": [],
   "source": [
    "df['Developer'].value_counts()"
   ]
  },
  {
   "cell_type": "code",
   "execution_count": null,
   "metadata": {
    "ExecuteTime": {
     "end_time": "2023-04-13T14:33:47.598084Z",
     "start_time": "2023-04-13T14:33:47.598084Z"
    },
    "collapsed": false
   },
   "outputs": [],
   "source": [
    "df['Developer'].unique().size"
   ]
  },
  {
   "attachments": {},
   "cell_type": "markdown",
   "metadata": {},
   "source": [
    "### Languages"
   ]
  },
  {
   "cell_type": "code",
   "execution_count": null,
   "metadata": {
    "ExecuteTime": {
     "end_time": "2023-04-13T14:33:49.943309Z",
     "start_time": "2023-04-13T14:33:49.943309Z"
    },
    "collapsed": false
   },
   "outputs": [],
   "source": [
    "df['Languages'] = df['Languages'].astype(str)\n",
    "\n",
    "df['Languages'] = df['Languages'].str.strip('[]').str.replace(\"'\", \"\").str.split(\", \")\n",
    "\n",
    "langs_counts = df.explode('Languages').groupby('Languages').size().sort_values(ascending=False)\n",
    "print(langs_counts[1:30])"
   ]
  },
  {
   "cell_type": "code",
   "execution_count": null,
   "metadata": {},
   "outputs": [],
   "source": [
    "df.hist(figsize=(15, 15))"
   ]
  },
  {
   "cell_type": "markdown",
   "metadata": {
    "collapsed": false
   },
   "source": [
    "## Developer preprocessing"
   ]
  },
  {
   "cell_type": "code",
   "execution_count": 18,
   "metadata": {
    "ExecuteTime": {
     "end_time": "2023-04-14T10:35:14.110217Z",
     "start_time": "2023-04-14T10:35:13.123201Z"
    },
    "collapsed": false
   },
   "outputs": [],
   "source": [
    "# Convert to string\n",
    "df['Developer'] = df['Developer'].astype(str)\n",
    "df['Developer'] = df['Developer'].str.replace(\"'\", \"\").str.strip('[]')\n",
    "\n",
    "# Replace the developer names with less than 3 games with 'Other'\n",
    "dev_counts = df['Developer'].value_counts()\n",
    "other = dev_counts[dev_counts < 3].index\n",
    "df['Developer'] = df['Developer'].replace(other, 'Other')\n",
    "\n",
    "dev_df = df[['Developer', 'Average User Rating']].groupby('Developer').mean()\n",
    "\n",
    "# Save dev_df to be used on the test set\n",
    "dev_df.to_csv('encoders/dev_df.csv')\n",
    "\n",
    "# Replace the developer names with the average user rating from dev_df\n",
    "df['Developer'] = df['Developer'].replace(dev_df.index, dev_df['Average User Rating'])"
   ]
  },
  {
   "cell_type": "markdown",
   "metadata": {
    "collapsed": false
   },
   "source": [
    "## Genres preprocessing"
   ]
  },
  {
   "attachments": {},
   "cell_type": "markdown",
   "metadata": {},
   "source": [
    "### 1. NLP approach"
   ]
  },
  {
   "cell_type": "code",
   "execution_count": null,
   "metadata": {
    "ExecuteTime": {
     "end_time": "2023-04-14T10:35:21.245168Z",
     "start_time": "2023-04-14T10:35:20.885068Z"
    },
    "collapsed": false
   },
   "outputs": [],
   "source": [
    "# Convert the genres column to a list of strings\n",
    "df['Genres'] = df['Genres'].astype(str)\n",
    "df['Genres'] = df['Genres'].str.strip('[]').str.replace(\"'\", \"\").str.split(\", \")\n",
    "\n",
    "# drop Games, Strategy, Entertainment from the Genres column\n",
    "df['Genres'] = df['Genres'].apply(lambda x: [genre for genre in x if genre not in ['Games', 'Strategy', 'Entertainment']])\n",
    "\n",
    "# Join the list of genres into a single string\n",
    "genres = df['Genres'].apply(lambda x: ' '.join(x))\n",
    "\n",
    "# Create a count Vectorizer and fit it to the genres\n",
    "count_vec = CountVectorizer()\n",
    "bow_genres = count_vec.fit_transform(genres)\n",
    "\n",
    "# Apply principal component analysis to reduce the dimensionality\n",
    "pca = PCA(n_components=10)\n",
    "pca_genres = pca.fit_transform(bow_genres.toarray())\n",
    "\n",
    "# Add the PCA-transformed genres to the original dataframe\n",
    "for i in range(len(pca_genres[0])):\n",
    "    df[f'Genre_PCA_{i}'] = pca_genres[:, i]\n",
    "\n",
    "# Drop the original column\n",
    "df = df.drop(['Genres'], axis=1)"
   ]
  },
  {
   "attachments": {},
   "cell_type": "markdown",
   "metadata": {},
   "source": [
    "### 2. Dummy variables approach"
   ]
  },
  {
   "cell_type": "code",
   "execution_count": 19,
   "metadata": {},
   "outputs": [],
   "source": [
    "# Convert the genres column to a list of strings\n",
    "df['Genres'] = df['Genres'].astype(str)\n",
    "df['Genres'] = df['Genres'].str.strip('[]').str.replace(\"'\", \"\").str.split(\", \")\n",
    "\n",
    "# drop Games, Strategy, Entertainment from the Genres column\n",
    "df['Genres'] = df['Genres'].apply(lambda x: [genre for genre in x if genre not in ['Games', 'Strategy', 'Entertainment']])\n",
    "\n",
    "# Replace genres with counts less than 100 with 'infrequent' as it would represent a very small percentage of the data (less than 2%)\n",
    "other = df['Genres'].explode().value_counts()[df['Genres'].explode().value_counts() < 100].index\n",
    "df['Genres'] = df['Genres'].apply(lambda x: [genre if genre not in other else 'infrequent' for genre in x])\n",
    "\n",
    "# Get dummy variables for the genres\n",
    "genres = pd.get_dummies(df['Genres'].apply(pd.Series).stack(), prefix=\"genre\", dummy_na=False).sum(level=0)\n",
    "\n",
    "# Save the genres dummies to be used on the test set\n",
    "genres.to_csv('encoders/genres.csv', index=False)\n",
    "\n",
    "# Add the dummy variables to the original dataframe\n",
    "df = pd.concat([df, genres], axis=1)\n",
    "\n",
    "# Drop the original column\n",
    "df = df.drop(['Genres'], axis=1)\n",
    "\n",
    "# Fill NaN with 0\n",
    "genre_cols = [col for col in df.columns if col.startswith('genre')] # get all columns with prefix 'genre'\n",
    "df[genre_cols] = df[genre_cols].fillna(0) # fill NaN with 0 for selected columns"
   ]
  },
  {
   "attachments": {},
   "cell_type": "markdown",
   "metadata": {},
   "source": [
    "### 3. Multi-label binarizer"
   ]
  },
  {
   "cell_type": "code",
   "execution_count": null,
   "metadata": {},
   "outputs": [],
   "source": [
    "# Convert the genres column to a list of strings\n",
    "df['Genres'] = df['Genres'].astype(str)\n",
    "df['Genres'] = df['Genres'].str.strip('[]').str.replace(\"'\", \"\").str.split(\", \")\n",
    "\n",
    "# drop Games, Strategy, Entertainment from the Genres column\n",
    "df['Genres'] = df['Genres'].apply(lambda x: [genre for genre in x if genre not in ['Games', 'Strategy', 'Entertainment']])\n",
    "\n",
    "# Replace genres with counts less than 100 with 'infrequent' as it would represent a very small percentage of the data (less than 2%)\n",
    "other = df['Genres'].explode().value_counts()[df['Genres'].explode().value_counts() < 100].index\n",
    "df['Genres'] = df['Genres'].apply(lambda x: [genre if genre not in other else 'infrequent_genre' for genre in x])\n",
    "\n",
    "# Instantiate the MultiLabelBinarizer\n",
    "mlb = MultiLabelBinarizer()\n",
    "\n",
    "# Fit the MultiLabelBinarizer to the genres\n",
    "mlb.fit(df['Genres'])\n",
    "\n",
    "# Drop nan from the classes\n",
    "mlb.classes_ = np.delete(mlb.classes_, np.where(mlb.classes_ == 'nan'))\n",
    "\n",
    "# Save the mlb for later use with the test data\n",
    "pickle.dump(mlb, open('encoders/mlb_genres.pkl', 'wb'))\n",
    "\n",
    "# Transform the genres into a one-hot encoded array\n",
    "genres_mlb = mlb.transform(df['Genres'])\n",
    "\n",
    "# Create a dataframe from the one-hot encoded array\n",
    "genres_mlb_df = pd.DataFrame(genres_mlb, columns=mlb.classes_)\n",
    "\n",
    "# Add the one-hot encoded genres to the original dataframe\n",
    "df = pd.concat([df, genres_mlb_df], axis=1)\n",
    "\n",
    "# Drop the original column\n",
    "df = df.drop(['Genres'], axis=1)"
   ]
  },
  {
   "cell_type": "markdown",
   "metadata": {
    "collapsed": false
   },
   "source": [
    "## Languages preprocessing"
   ]
  },
  {
   "attachments": {},
   "cell_type": "markdown",
   "metadata": {},
   "source": [
    "### 1. NLP approach"
   ]
  },
  {
   "cell_type": "code",
   "execution_count": null,
   "metadata": {
    "ExecuteTime": {
     "end_time": "2023-04-14T10:35:38.695352Z",
     "start_time": "2023-04-14T10:35:38.599717Z"
    },
    "collapsed": false
   },
   "outputs": [],
   "source": [
    "# Convert the langs column to a list of strings\n",
    "df['Languages'] = df['Languages'].astype(str)\n",
    "df['Languages'] = df['Languages'].str.strip('[]').str.replace(\"'\", \"\").str.split(\", \")\n",
    "\n",
    "# Drop the English language from the Languages column\n",
    "df['Languages'] = df['Languages'].apply(lambda x: [lang for lang in x if lang not in ['EN']])\n",
    "\n",
    "# Join the list of langs into a single string\n",
    "languages = df['Languages'].apply(lambda x: ' '.join(x))\n",
    "\n",
    "# Create a count Vectorizer and fit it to the langs\n",
    "count_vec = CountVectorizer()\n",
    "bow_languages = count_vec.fit_transform(languages)\n",
    "\n",
    "# Apply principal component analysis to reduce the dimensionality\n",
    "pca = PCA(n_components=10)\n",
    "pca_languages = pca.fit_transform(bow_languages.toarray())\n",
    "\n",
    "# Add the PCA-transformed langs to the original dataframe\n",
    "for i in range(len(pca_languages[0])):\n",
    "    df[f'Languages_PCA_{i}'] = pca_languages[:, i]\n",
    "\n",
    "# Drop the original column\n",
    "df = df.drop(['Languages'], axis=1)\n",
    "\n",
    "print(df.shape)\n",
    "\n",
    "df.iloc[:, 15:].head()"
   ]
  },
  {
   "attachments": {},
   "cell_type": "markdown",
   "metadata": {},
   "source": [
    "### 2. Dummy variables approach"
   ]
  },
  {
   "cell_type": "code",
   "execution_count": 20,
   "metadata": {},
   "outputs": [],
   "source": [
    "# Convert the langs column to a list of strings\n",
    "df['Languages'] = df['Languages'].astype(str)\n",
    "df['Languages'] = df['Languages'].str.strip('[]').str.replace(\"'\", \"\").str.split(\", \")\n",
    "\n",
    "# Create a column with the number of languages supported\n",
    "df['langs_count'] = df['Languages'].apply(lambda x: len(x))\n",
    "\n",
    "# Drop the English language from the Languages column (it is the most common language and would dominate the model)\n",
    "df['Languages'] = df['Languages'].apply(lambda x: [lang for lang in x if lang not in ['EN']])\n",
    "\n",
    "# Replace langs with counts less than 500 with 'infrequent_langs' as it would represent a very small percentage of the data (less than 10%)\n",
    "other = df['Languages'].explode().value_counts()[df['Languages'].explode().value_counts() < 500].index\n",
    "df['Languages'] = df['Languages'].apply(lambda x: [lang if lang not in other else 'infrequent' for lang in x])\n",
    "\n",
    "# Get dummy variables for the langs\n",
    "langs = pd.get_dummies(df['Languages'].apply(pd.Series).stack(), prefix='lang', dummy_na=False).sum(level=0)\n",
    "\n",
    "langs.to_csv('encoders/langs.csv', index=False)\n",
    "\n",
    "# Add the dummy variables to the original dataframe\n",
    "df = pd.concat([df, langs], axis=1)\n",
    "\n",
    "# Drop the original column\n",
    "df = df.drop(['Languages'], axis=1)\n",
    "\n",
    "# Fill NaN with 0\n",
    "lang_cols = [col for col in df.columns if col.startswith('lang')] # get all columns with prefix 'lang'\n",
    "df[lang_cols] = df[lang_cols].fillna(0) # fill NaN with 0 for selected columns"
   ]
  },
  {
   "attachments": {},
   "cell_type": "markdown",
   "metadata": {},
   "source": [
    "### 3. Multi-label binarizer"
   ]
  },
  {
   "cell_type": "code",
   "execution_count": null,
   "metadata": {},
   "outputs": [],
   "source": [
    "from sklearn.preprocessing import MultiLabelBinarizer\n",
    "\n",
    "# Convert the langs column to a list of strings\n",
    "df['Languages'] = df['Languages'].astype(str)\n",
    "df['Languages'] = df['Languages'].str.strip('[]').str.replace(\"'\", \"\").str.split(\", \")\n",
    "\n",
    "# Create a column with the number of languages supported\n",
    "df['langs_count'] = df['Languages'].apply(lambda x: len(x))\n",
    "\n",
    "# Drop the English language from the Languages column (it is the most common language and would dominate the model)\n",
    "df['Languages'] = df['Languages'].apply(lambda x: [lang for lang in x if lang not in ['EN']])\n",
    "\n",
    "# Replace langs with counts less than 500 with 'infrequent_langs' as it would represent a very small percentage of the data (less than 10%)\n",
    "other = df['Languages'].explode().value_counts()[df['Languages'].explode().value_counts() < 400].index\n",
    "df['Languages'] = df['Languages'].apply(lambda x: [lang if lang not in other else 'infrequent_lang' for lang in x])\n",
    "\n",
    "# Instantiate the MultiLabelBinarizer\n",
    "mlb = MultiLabelBinarizer()\n",
    "\n",
    "# Fit the MultiLabelBinarizer to the langs\n",
    "mlb.fit(df['Languages'])\n",
    "\n",
    "# Drop nan from the classes\n",
    "mlb.classes_ = np.delete(mlb.classes_, np.where(mlb.classes_ == 'nan'))\n",
    "\n",
    "# Save the mlb for later use with the test data\n",
    "pickle.dump(mlb, open('encoders/mlb_langs.pkl', 'wb'))\n",
    "\n",
    "# Transform the langs into a one-hot encoded array\n",
    "langs_mlb = mlb.transform(df['Languages'])\n",
    "\n",
    "# Create a dataframe from the one-hot encoded array\n",
    "langs_mlb_df = pd.DataFrame(langs_mlb, columns=mlb.classes_)\n",
    "\n",
    "# Add the encoded langs to the original dataframe\n",
    "df = pd.concat([df, langs_mlb_df], axis=1)\n",
    "\n",
    "# Drop the original column\n",
    "df = df.drop(['Languages'], axis=1)"
   ]
  },
  {
   "cell_type": "code",
   "execution_count": null,
   "metadata": {},
   "outputs": [],
   "source": [
    "df.head()"
   ]
  },
  {
   "cell_type": "markdown",
   "metadata": {
    "collapsed": false
   },
   "source": [
    "## In-app Purchases preprocessing"
   ]
  },
  {
   "cell_type": "code",
   "execution_count": 21,
   "metadata": {
    "ExecuteTime": {
     "end_time": "2023-04-14T10:35:52.935497Z",
     "start_time": "2023-04-14T10:35:52.881403Z"
    },
    "collapsed": false
   },
   "outputs": [],
   "source": [
    "# Free apps might skew the in-app purchases column,\n",
    "# so we might split the dataset into free and paid apps\n",
    "\n",
    "df['In-app Purchases'] = df['In-app Purchases'].astype(str)\n",
    "df['In-app Purchases'] = df['In-app Purchases'].str.strip('[]').str.replace(\"'\", \"\").str.split(\", \")"
   ]
  },
  {
   "cell_type": "code",
   "execution_count": 22,
   "metadata": {
    "ExecuteTime": {
     "end_time": "2023-04-14T10:35:54.565885Z",
     "start_time": "2023-04-14T10:35:54.456681Z"
    },
    "collapsed": false
   },
   "outputs": [],
   "source": [
    "# Convert to float\n",
    "df['In-app Purchases'] = df['In-app Purchases'].apply(lambda x: [float(i) for i in x])\n",
    "\n",
    "# Get the number of in-app purchases\n",
    "df['purchases_count'] = df['In-app Purchases'].apply(lambda x: len(x))\n",
    "\n",
    "# Get the lowest, highest and average purchase\n",
    "df['lowest_purchase'] = df['In-app Purchases'].apply(lambda x: min(x) if len(x) > 0 else 0)\n",
    "df['highest_purchase'] = df['In-app Purchases'].apply(lambda x: max(x) if len(x) > 0 else 0)\n",
    "df['average_purchase'] = df['In-app Purchases'].apply(lambda x: np.mean(x) if len(x) > 0 else 0)\n"
   ]
  },
  {
   "cell_type": "code",
   "execution_count": 23,
   "metadata": {
    "ExecuteTime": {
     "end_time": "2023-04-14T10:36:00.624093Z",
     "start_time": "2023-04-14T10:36:00.576764Z"
    },
    "collapsed": false
   },
   "outputs": [],
   "source": [
    "# Drop the original column\n",
    "df = df.drop(['In-app Purchases'], axis=1)\n",
    "\n",
    "df['lowest_purchase'] = df['lowest_purchase'].fillna(0)\n",
    "df['highest_purchase'] = df['highest_purchase'].fillna(0)\n",
    "df['average_purchase'] = df['average_purchase'].fillna(0)"
   ]
  },
  {
   "cell_type": "markdown",
   "metadata": {
    "collapsed": false
   },
   "source": [
    "## Age Rating preprocessing"
   ]
  },
  {
   "cell_type": "code",
   "execution_count": 24,
   "metadata": {
    "ExecuteTime": {
     "end_time": "2023-04-14T10:36:03.614263Z",
     "start_time": "2023-04-14T10:36:03.579637Z"
    },
    "collapsed": false
   },
   "outputs": [],
   "source": [
    "# Convert to string\n",
    "df['Age Rating'] = df['Age Rating'].astype(str)\n",
    "\n",
    "# Remove the + sign\n",
    "df['Age Rating'] = df['Age Rating'].str.replace('+', '')\n",
    "\n",
    "# Convert to int\n",
    "df['Age Rating'] = df['Age Rating'].astype(float)"
   ]
  },
  {
   "cell_type": "markdown",
   "metadata": {
    "collapsed": false
   },
   "source": [
    "## NLP preprocessing"
   ]
  },
  {
   "cell_type": "code",
   "execution_count": 25,
   "metadata": {
    "ExecuteTime": {
     "end_time": "2023-04-14T10:43:13.386866Z",
     "start_time": "2023-04-14T10:43:13.386866Z"
    },
    "collapsed": false
   },
   "outputs": [
    {
     "name": "stderr",
     "output_type": "stream",
     "text": [
      "[nltk_data] Downloading package stopwords to\n",
      "[nltk_data]     C:\\Users\\Administrator\\AppData\\Roaming\\nltk_data...\n",
      "[nltk_data]   Package stopwords is already up-to-date!\n",
      "[nltk_data] Downloading package wordnet to\n",
      "[nltk_data]     C:\\Users\\Administrator\\AppData\\Roaming\\nltk_data...\n",
      "[nltk_data]   Package wordnet is already up-to-date!\n",
      "[nltk_data] Downloading package omw-1.4 to\n",
      "[nltk_data]     C:\\Users\\Administrator\\AppData\\Roaming\\nltk_data...\n",
      "[nltk_data]   Package omw-1.4 is already up-to-date!\n"
     ]
    }
   ],
   "source": [
    "import nltk\n",
    "nltk.download('stopwords')\n",
    "nltk.download('wordnet')\n",
    "nltk.download('omw-1.4')\n",
    "from nltk.corpus import stopwords\n",
    "from textblob import TextBlob\n",
    "import re\n",
    "\n",
    "def preprocess_nlp(col):\n",
    "    df[col] = df[col].astype(str)\n",
    "\n",
    "    # Remove URLs and email addresses\n",
    "    df[col] = df[col].apply(lambda x: re.sub(r'http\\S+|www.\\S+|\\S+@\\S+', '', x))\n",
    "\n",
    "    # Remove the punctuation, numbers, and convert to lowercase\n",
    "    df[col] = df[col].apply(lambda x: \" \".join(re.findall(r'\\w+', x.lower())))\n",
    "\n",
    "    # Remove the stopwords\n",
    "    stop = stopwords.words('english')\n",
    "    df[col] = df[col].apply(lambda x: \" \".join(x for x in x.split() if x not in stop))\n",
    "\n",
    "    # Stemming\n",
    "    st = nltk.PorterStemmer()\n",
    "    df[col] = df[col].apply(lambda x: \" \".join([st.stem(word) for word in x.split()]))\n",
    "\n",
    "    # Lemmatization\n",
    "    lem = nltk.WordNetLemmatizer()\n",
    "    df[col] = df[col].apply(lambda x: \" \".join([lem.lemmatize(word) for word in x.split()]))\n",
    "\n",
    "    # Remove the frequent and rare words\n",
    "    freq = pd.Series(' '.join(df[col]).split()).value_counts()\n",
    "    common_freq = list(freq[:10].index)\n",
    "    rare_freq = list(freq[-10:].index)\n",
    "    df[col] = df[col].apply(lambda x: \" \".join(x for x in x.split() if x not in common_freq+rare_freq))\n",
    "\n",
    "    # Remove the whitespaces\n",
    "    df[col] = df[col].apply(lambda x: \" \".join(x.strip() for x in x.split()))\n",
    "\n",
    "    # Replace NaN values with empty string\n",
    "    df[col] = df[col].fillna('')\n",
    "\n",
    "    # Convert text data to bag-of-words representation\n",
    "    vectorizer = CountVectorizer()\n",
    "    BoW = vectorizer.fit_transform(df[col])\n",
    "\n",
    "    # Apply principal component analysis to reduce the dimensionality\n",
    "    pca_ = PCA(n_components=2)\n",
    "    pca_col = pca_.fit_transform(BoW.toarray())\n",
    "    \n",
    "    # Save the vectorizer and pca for later use with the test data\n",
    "    pickle.dump(vectorizer, open(f'encoders/vectorizer_{col}.pkl', 'wb'))\n",
    "    pickle.dump(pca_, open(f'encoders/pca_{col}.pkl', 'wb'))\n",
    "\n",
    "    # Add the PCA-transformed col to the original dataframe\n",
    "    for feat in range(len(pca_col[0])):\n",
    "        df[f'{col}_PCA_{feat}'] = pca_col[:, feat]\n",
    "\n"
   ]
  },
  {
   "cell_type": "code",
   "execution_count": 26,
   "metadata": {
    "ExecuteTime": {
     "end_time": "2023-04-14T10:43:49.505557Z",
     "start_time": "2023-04-14T10:43:49.505557Z"
    },
    "collapsed": false
   },
   "outputs": [
    {
     "data": {
      "text/html": [
       "<div>\n",
       "<style scoped>\n",
       "    .dataframe tbody tr th:only-of-type {\n",
       "        vertical-align: middle;\n",
       "    }\n",
       "\n",
       "    .dataframe tbody tr th {\n",
       "        vertical-align: top;\n",
       "    }\n",
       "\n",
       "    .dataframe thead th {\n",
       "        text-align: right;\n",
       "    }\n",
       "</style>\n",
       "<table border=\"1\" class=\"dataframe\">\n",
       "  <thead>\n",
       "    <tr style=\"text-align: right;\">\n",
       "      <th></th>\n",
       "      <th>Icon URL</th>\n",
       "      <th>User Rating Count</th>\n",
       "      <th>Price</th>\n",
       "      <th>Developer</th>\n",
       "      <th>Age Rating</th>\n",
       "      <th>Size</th>\n",
       "      <th>Original Release Date</th>\n",
       "      <th>Current Version Release Date</th>\n",
       "      <th>Average User Rating</th>\n",
       "      <th>lowest_review</th>\n",
       "      <th>...</th>\n",
       "      <th>purchases_count</th>\n",
       "      <th>lowest_purchase</th>\n",
       "      <th>highest_purchase</th>\n",
       "      <th>average_purchase</th>\n",
       "      <th>Description_PCA_0</th>\n",
       "      <th>Description_PCA_1</th>\n",
       "      <th>Subtitle_PCA_0</th>\n",
       "      <th>Subtitle_PCA_1</th>\n",
       "      <th>Name_PCA_0</th>\n",
       "      <th>Name_PCA_1</th>\n",
       "    </tr>\n",
       "  </thead>\n",
       "  <tbody>\n",
       "    <tr>\n",
       "      <th>4330</th>\n",
       "      <td>icons/4330.png</td>\n",
       "      <td>205</td>\n",
       "      <td>5.99</td>\n",
       "      <td>4.091966</td>\n",
       "      <td>4.0</td>\n",
       "      <td>298156032</td>\n",
       "      <td>735914</td>\n",
       "      <td>737210</td>\n",
       "      <td>4.5</td>\n",
       "      <td>0.8655</td>\n",
       "      <td>...</td>\n",
       "      <td>1</td>\n",
       "      <td>0.00</td>\n",
       "      <td>0.00</td>\n",
       "      <td>0.00</td>\n",
       "      <td>-0.241275</td>\n",
       "      <td>-0.201023</td>\n",
       "      <td>-0.017766</td>\n",
       "      <td>-0.027881</td>\n",
       "      <td>-0.020819</td>\n",
       "      <td>-0.038719</td>\n",
       "    </tr>\n",
       "    <tr>\n",
       "      <th>2692</th>\n",
       "      <td>icons/2692.png</td>\n",
       "      <td>9</td>\n",
       "      <td>0.00</td>\n",
       "      <td>4.091966</td>\n",
       "      <td>4.0</td>\n",
       "      <td>29981696</td>\n",
       "      <td>736620</td>\n",
       "      <td>736755</td>\n",
       "      <td>3.5</td>\n",
       "      <td>0.0000</td>\n",
       "      <td>...</td>\n",
       "      <td>1</td>\n",
       "      <td>0.00</td>\n",
       "      <td>0.00</td>\n",
       "      <td>0.00</td>\n",
       "      <td>-0.190127</td>\n",
       "      <td>-0.132699</td>\n",
       "      <td>-0.023780</td>\n",
       "      <td>-0.036970</td>\n",
       "      <td>-0.019038</td>\n",
       "      <td>-0.040468</td>\n",
       "    </tr>\n",
       "    <tr>\n",
       "      <th>4248</th>\n",
       "      <td>icons/4248.png</td>\n",
       "      <td>12</td>\n",
       "      <td>1.99</td>\n",
       "      <td>4.091966</td>\n",
       "      <td>4.0</td>\n",
       "      <td>223058944</td>\n",
       "      <td>734544</td>\n",
       "      <td>736780</td>\n",
       "      <td>4.0</td>\n",
       "      <td>-0.4215</td>\n",
       "      <td>...</td>\n",
       "      <td>1</td>\n",
       "      <td>0.00</td>\n",
       "      <td>0.00</td>\n",
       "      <td>0.00</td>\n",
       "      <td>-0.170538</td>\n",
       "      <td>-0.136491</td>\n",
       "      <td>-0.019071</td>\n",
       "      <td>-0.030480</td>\n",
       "      <td>-0.021372</td>\n",
       "      <td>-0.039848</td>\n",
       "    </tr>\n",
       "    <tr>\n",
       "      <th>3032</th>\n",
       "      <td>icons/3032.png</td>\n",
       "      <td>6</td>\n",
       "      <td>0.00</td>\n",
       "      <td>4.091966</td>\n",
       "      <td>4.0</td>\n",
       "      <td>49547264</td>\n",
       "      <td>735222</td>\n",
       "      <td>736300</td>\n",
       "      <td>3.0</td>\n",
       "      <td>0.1779</td>\n",
       "      <td>...</td>\n",
       "      <td>1</td>\n",
       "      <td>0.99</td>\n",
       "      <td>0.99</td>\n",
       "      <td>0.99</td>\n",
       "      <td>-0.196912</td>\n",
       "      <td>-0.168327</td>\n",
       "      <td>-0.017766</td>\n",
       "      <td>-0.027881</td>\n",
       "      <td>-0.019180</td>\n",
       "      <td>-0.048002</td>\n",
       "    </tr>\n",
       "    <tr>\n",
       "      <th>3553</th>\n",
       "      <td>icons/3553.png</td>\n",
       "      <td>59</td>\n",
       "      <td>0.00</td>\n",
       "      <td>4.300000</td>\n",
       "      <td>4.0</td>\n",
       "      <td>24093696</td>\n",
       "      <td>735674</td>\n",
       "      <td>737045</td>\n",
       "      <td>4.0</td>\n",
       "      <td>-0.4472</td>\n",
       "      <td>...</td>\n",
       "      <td>1</td>\n",
       "      <td>0.00</td>\n",
       "      <td>0.00</td>\n",
       "      <td>0.00</td>\n",
       "      <td>-0.184604</td>\n",
       "      <td>-0.154422</td>\n",
       "      <td>-0.017766</td>\n",
       "      <td>-0.027881</td>\n",
       "      <td>0.081046</td>\n",
       "      <td>0.004961</td>\n",
       "    </tr>\n",
       "  </tbody>\n",
       "</table>\n",
       "<p>5 rows × 41 columns</p>\n",
       "</div>"
      ],
      "text/plain": [
       "            Icon URL  User Rating Count  Price  Developer  Age Rating  \\\n",
       "4330  icons/4330.png                205   5.99   4.091966         4.0   \n",
       "2692  icons/2692.png                  9   0.00   4.091966         4.0   \n",
       "4248  icons/4248.png                 12   1.99   4.091966         4.0   \n",
       "3032  icons/3032.png                  6   0.00   4.091966         4.0   \n",
       "3553  icons/3553.png                 59   0.00   4.300000         4.0   \n",
       "\n",
       "           Size  Original Release Date  Current Version Release Date  \\\n",
       "4330  298156032                 735914                        737210   \n",
       "2692   29981696                 736620                        736755   \n",
       "4248  223058944                 734544                        736780   \n",
       "3032   49547264                 735222                        736300   \n",
       "3553   24093696                 735674                        737045   \n",
       "\n",
       "      Average User Rating  lowest_review  ...  purchases_count  \\\n",
       "4330                  4.5         0.8655  ...                1   \n",
       "2692                  3.5         0.0000  ...                1   \n",
       "4248                  4.0        -0.4215  ...                1   \n",
       "3032                  3.0         0.1779  ...                1   \n",
       "3553                  4.0        -0.4472  ...                1   \n",
       "\n",
       "      lowest_purchase  highest_purchase  average_purchase  Description_PCA_0  \\\n",
       "4330             0.00              0.00              0.00          -0.241275   \n",
       "2692             0.00              0.00              0.00          -0.190127   \n",
       "4248             0.00              0.00              0.00          -0.170538   \n",
       "3032             0.99              0.99              0.99          -0.196912   \n",
       "3553             0.00              0.00              0.00          -0.184604   \n",
       "\n",
       "      Description_PCA_1  Subtitle_PCA_0  Subtitle_PCA_1  Name_PCA_0  \\\n",
       "4330          -0.201023       -0.017766       -0.027881   -0.020819   \n",
       "2692          -0.132699       -0.023780       -0.036970   -0.019038   \n",
       "4248          -0.136491       -0.019071       -0.030480   -0.021372   \n",
       "3032          -0.168327       -0.017766       -0.027881   -0.019180   \n",
       "3553          -0.154422       -0.017766       -0.027881    0.081046   \n",
       "\n",
       "      Name_PCA_1  \n",
       "4330   -0.038719  \n",
       "2692   -0.040468  \n",
       "4248   -0.039848  \n",
       "3032   -0.048002  \n",
       "3553    0.004961  \n",
       "\n",
       "[5 rows x 41 columns]"
      ]
     },
     "execution_count": 26,
     "metadata": {},
     "output_type": "execute_result"
    }
   ],
   "source": [
    "preprocess_nlp('Description')\n",
    "preprocess_nlp('Subtitle')\n",
    "preprocess_nlp('Name')\n",
    "\n",
    "df = df.drop(['Description', 'Subtitle', 'Name'], axis=1)\n",
    "\n",
    "df.head()"
   ]
  },
  {
   "attachments": {},
   "cell_type": "markdown",
   "metadata": {
    "collapsed": false
   },
   "source": [
    "## Icon preprocessing"
   ]
  },
  {
   "cell_type": "markdown",
   "metadata": {
    "collapsed": false
   },
   "source": [
    "### Extract features from the icons"
   ]
  },
  {
   "cell_type": "code",
   "execution_count": 27,
   "metadata": {
    "ExecuteTime": {
     "end_time": "2023-04-14T10:52:48.299695Z",
     "start_time": "2023-04-14T10:52:13.578629Z"
    },
    "collapsed": false
   },
   "outputs": [],
   "source": [
    "import cv2\n",
    "\n",
    "def preprocess_icon(img_path):\n",
    "    # Load the game icon image\n",
    "    img = cv2.imread(img_path)\n",
    "    img = cv2.resize(img, (100, 100))\n",
    "\n",
    "    # Extract color features using color histograms\n",
    "    colors = ('b', 'g', 'r')\n",
    "    color_features = []\n",
    "    for k, col in enumerate(colors):\n",
    "        hist = cv2.calcHist([img], [k], None, [256], [0, 256])\n",
    "        color_features.append(hist)\n",
    "\n",
    "    # Reshape the color features to have a single dimension\n",
    "    color_features = np.concatenate(color_features).ravel()\n",
    "\n",
    "    # Extract shape features using edge detection\n",
    "    gray = cv2.cvtColor(img, cv2.COLOR_BGR2GRAY)\n",
    "    edges = cv2.Canny(gray, 100, 200)\n",
    "    edge_features = np.array(edges).flatten()\n",
    "\n",
    "    # Combine the color and shape features into a single feature vector\n",
    "    feature_vector = np.concatenate((color_features, edge_features))\n",
    "\n",
    "    # Normalize the feature vector to have unit length\n",
    "    normalized_feature_vector = feature_vector / np.linalg.norm(feature_vector)\n",
    "    \n",
    "    return normalized_feature_vector\n"
   ]
  },
  {
   "cell_type": "code",
   "execution_count": 28,
   "metadata": {},
   "outputs": [
    {
     "name": "stderr",
     "output_type": "stream",
     "text": [
      "100%|██████████| 2195/2195 [00:52<00:00, 41.53it/s]\n"
     ]
    }
   ],
   "source": [
    "from tqdm import tqdm\n",
    "\n",
    "# Create a list to store the feature vectors\n",
    "icon_features = []\n",
    "\n",
    "df['Icon URL'] = df['Icon URL'].astype(str)\n",
    "\n",
    "# Iterate over the images and extract the features\n",
    "for i, row in tqdm(df.iterrows(), total=df.shape[0]):\n",
    "    feature_vec = preprocess_icon(row['Icon URL'])\n",
    "    icon_features.append((row['Icon URL'], feature_vec))\n",
    "    \n",
    "# Apply PCA to reduce the number of features\n",
    "pca = PCA(n_components=4)\n",
    "pca.fit([f[1] for f in icon_features])\n",
    "reduced_features = pca.transform([f[1] for f in icon_features])\n",
    "\n",
    "# Save the pca instance for later use\n",
    "pickle.dump(pca, open('encoders/icon_pca.pkl', 'wb'))\n",
    "\n",
    "# Convert the reduced features to a dataframe\n",
    "icon_features_df = pd.DataFrame({'Icon URL': [f[0] for f in icon_features],\n",
    "                                    'Icon1': reduced_features[:,0],\n",
    "                                    'Icon2': reduced_features[:,1],\n",
    "                                    'Icon3': reduced_features[:,2],\n",
    "                                    'Icon4': reduced_features[:,3]})"
   ]
  },
  {
   "cell_type": "markdown",
   "metadata": {
    "collapsed": false
   },
   "source": [
    "### Add the icon features to the dataset"
   ]
  },
  {
   "cell_type": "code",
   "execution_count": 29,
   "metadata": {
    "ExecuteTime": {
     "end_time": "2023-04-14T10:53:05.530442Z",
     "start_time": "2023-04-14T10:53:04.975260Z"
    },
    "collapsed": false
   },
   "outputs": [],
   "source": [
    "# Merge the icon features with the original dataframe on the icon URL\n",
    "df = df.merge(icon_features_df, on='Icon URL', how='left')\n",
    "\n",
    "# Drop the icon URL column\n",
    "df = df.drop(['Icon URL'], axis=1)"
   ]
  },
  {
   "cell_type": "code",
   "execution_count": 30,
   "metadata": {},
   "outputs": [],
   "source": [
    "# Save the preprocessed data\n",
    "df.to_csv('preprocessed_data.csv', index=False)"
   ]
  },
  {
   "attachments": {},
   "cell_type": "markdown",
   "metadata": {},
   "source": [
    "## Scaling and Model Training"
   ]
  },
  {
   "cell_type": "code",
   "execution_count": 31,
   "metadata": {},
   "outputs": [],
   "source": [
    "import pandas as pd\n",
    "df = pd.read_csv('preprocessed_data.csv')"
   ]
  },
  {
   "cell_type": "code",
   "execution_count": 32,
   "metadata": {},
   "outputs": [],
   "source": [
    "df_x = df.drop(['Average User Rating'], axis=1)\n",
    "df_y = df['Average User Rating']"
   ]
  },
  {
   "cell_type": "code",
   "execution_count": null,
   "metadata": {},
   "outputs": [],
   "source": [
    "df_x.shape"
   ]
  },
  {
   "attachments": {},
   "cell_type": "markdown",
   "metadata": {},
   "source": [
    "### Feature Scaling"
   ]
  },
  {
   "cell_type": "code",
   "execution_count": 33,
   "metadata": {},
   "outputs": [
    {
     "name": "stdout",
     "output_type": "stream",
     "text": [
      "Series([], dtype: int64)\n"
     ]
    }
   ],
   "source": [
    "# print only the columns with nan values and their count\n",
    "print(df_x.isnull().sum()[df_x.isnull().sum() > 0])"
   ]
  },
  {
   "cell_type": "code",
   "execution_count": null,
   "metadata": {},
   "outputs": [],
   "source": [
    "# Scale the features\n",
    "from sklearn.preprocessing import StandardScaler\n",
    "\n",
    "cols = df_x.columns\n",
    "\n",
    "scaler = StandardScaler()\n",
    "df_x = scaler.fit_transform(df_x)\n",
    "\n",
    "df_x = pd.DataFrame(df_x, columns=cols)\n",
    "\n",
    "# Save the scaler\n",
    "pickle.dump(scaler, open('scalers/std_scaler.pkl', 'wb'))"
   ]
  },
  {
   "cell_type": "code",
   "execution_count": 34,
   "metadata": {},
   "outputs": [],
   "source": [
    "from sklearn.preprocessing import MinMaxScaler\n",
    "\n",
    "cols = df_x.columns\n",
    "\n",
    "scaler = MinMaxScaler()\n",
    "df_x = scaler.fit_transform(df_x)\n",
    "\n",
    "df_x = pd.DataFrame(df_x, columns=cols)\n",
    "\n",
    "# Save the scaler\n",
    "pickle.dump(scaler, open('scalers/min_max_scaler.pkl', 'wb'))"
   ]
  },
  {
   "cell_type": "code",
   "execution_count": 35,
   "metadata": {},
   "outputs": [
    {
     "data": {
      "image/png": "[encoded data removed]",
      "text/plain": [
       "<Figure size 1000x1000 with 1 Axes>"
      ]
     },
     "metadata": {},
     "output_type": "display_data"
    }
   ],
   "source": [
    "# plot correlation matrix between features and target\n",
    "import seaborn as sns\n",
    "import matplotlib.pyplot as plt\n",
    "\n",
    "corr = df_x.corrwith(df_y)\n",
    "corr = corr.sort_values(ascending=False)\n",
    "plt.figure(figsize=(10, 10))\n",
    "sns.barplot(x=corr.values, y=corr.index)\n",
    "plt.show()"
   ]
  },
  {
   "attachments": {},
   "cell_type": "markdown",
   "metadata": {},
   "source": [
    "### Feature Selection"
   ]
  },
  {
   "cell_type": "code",
   "execution_count": 36,
   "metadata": {},
   "outputs": [],
   "source": [
    "# Feature selection\n",
    "from sklearn.feature_selection import SelectKBest, f_regression\n",
    "selector = SelectKBest(f_regression, k=10)\n",
    "df_x_select =  selector.fit_transform(df_x, df_y)\n",
    "\n",
    "# Save the selector\n",
    "pickle.dump(selector, open('encoders/selector.pkl', 'wb'))"
   ]
  },
  {
   "cell_type": "code",
   "execution_count": 37,
   "metadata": {},
   "outputs": [
    {
     "name": "stdout",
     "output_type": "stream",
     "text": [
      "Developer\n",
      "Original Release Date\n",
      "Current Version Release Date\n",
      "lowest_review\n",
      "highest_review\n",
      "average_review\n",
      "last_update\n",
      "genre_Board\n",
      "purchases_count\n",
      "highest_purchase\n"
     ]
    }
   ],
   "source": [
    "# Print the selected features\n",
    "for i in range(len(selector.get_support())): \n",
    "    if selector.get_support()[i]:\n",
    "        print(df_x.columns[i])"
   ]
  },
  {
   "attachments": {},
   "cell_type": "markdown",
   "metadata": {},
   "source": [
    "### Linear Regression"
   ]
  },
  {
   "cell_type": "code",
   "execution_count": null,
   "metadata": {},
   "outputs": [],
   "source": [
    "from sklearn.linear_model import LinearRegression, Ridge, Lasso, ElasticNet\n",
    "from sklearn.preprocessing import PolynomialFeatures\n"
   ]
  },
  {
   "cell_type": "code",
   "execution_count": null,
   "metadata": {
    "ExecuteTime": {
     "end_time": "2023-04-14T14:40:09.683179Z",
     "start_time": "2023-04-14T14:40:09.629559Z"
    },
    "collapsed": false
   },
   "outputs": [],
   "source": [
    "# Create a linear regression model\n",
    "model = LinearRegression()\n",
    "\n",
    "# Train the model\n",
    "model.fit(df_x_select, df_y)\n",
    "\n",
    "# Save the model\n",
    "pickle.dump(model, open('models/LR_model.pkl', 'wb'))\n"
   ]
  },
  {
   "attachments": {},
   "cell_type": "markdown",
   "metadata": {},
   "source": [
    "### Ridge Regression"
   ]
  },
  {
   "cell_type": "code",
   "execution_count": null,
   "metadata": {
    "ExecuteTime": {
     "end_time": "2023-04-14T11:00:32.712100Z",
     "start_time": "2023-04-14T11:00:32.642347Z"
    },
    "collapsed": false
   },
   "outputs": [],
   "source": [
    "# Create a ridge regression model\n",
    "model = Ridge(alpha=20)\n",
    "\n",
    "# Train the model\n",
    "model.fit(df_x_select, df_y)\n",
    "\n",
    "# Save the model\n",
    "pickle.dump(model, open('models/Ridge_model.pkl', 'wb'))\n"
   ]
  },
  {
   "attachments": {},
   "cell_type": "markdown",
   "metadata": {},
   "source": [
    "### Lasso Regression"
   ]
  },
  {
   "cell_type": "code",
   "execution_count": null,
   "metadata": {
    "ExecuteTime": {
     "end_time": "2023-04-14T11:00:35.138470Z",
     "start_time": "2023-04-14T11:00:35.102309Z"
    },
    "collapsed": false
   },
   "outputs": [],
   "source": [
    "# Create a lasso regression model\n",
    "model = Lasso(alpha=0.001)\n",
    "\n",
    "# Train the model\n",
    "model.fit(df_x_select, df_y)\n",
    "\n",
    "# Save the model\n",
    "pickle.dump(model, open('models/Lasso_model.pkl', 'wb'))\n"
   ]
  },
  {
   "attachments": {},
   "cell_type": "markdown",
   "metadata": {},
   "source": [
    "### Elastic Net Regression"
   ]
  },
  {
   "cell_type": "code",
   "execution_count": null,
   "metadata": {
    "ExecuteTime": {
     "end_time": "2023-04-14T11:00:37.282470Z",
     "start_time": "2023-04-14T11:00:37.226872Z"
    },
    "collapsed": false
   },
   "outputs": [],
   "source": [
    "# Create an elastic net regression model\n",
    "model = ElasticNet(alpha=0.001)\n",
    "\n",
    "# Train the model\n",
    "model.fit(df_x_select, df_y)\n",
    "\n",
    "# Save the model\n",
    "pickle.dump(model, open('models/ElasticNet_model.pkl', 'wb'))\n"
   ]
  },
  {
   "attachments": {},
   "cell_type": "markdown",
   "metadata": {},
   "source": [
    "### Polynomial Regression"
   ]
  },
  {
   "cell_type": "code",
   "execution_count": null,
   "metadata": {
    "ExecuteTime": {
     "end_time": "2023-04-14T11:02:11.403793Z",
     "start_time": "2023-04-14T11:00:55.155863Z"
    },
    "collapsed": false
   },
   "outputs": [],
   "source": [
    "# Create a polynomial regression model\n",
    "poly = PolynomialFeatures(degree=2)\n",
    "X_train_poly = poly.fit_transform(df_x_select)\n",
    "\n",
    "# Save the polynomial features\n",
    "pickle.dump(poly, open('encoders/poly.pkl', 'wb'))\n",
    "\n",
    "# Train the model\n",
    "model = LinearRegression()\n",
    "model.fit(X_train_poly, df_y)\n",
    "\n",
    "# Save the model\n",
    "pickle.dump(model, open('models/Polynomial_model.pkl', 'wb'))\n"
   ]
  }
 ],
 "metadata": {
  "kernelspec": {
   "display_name": "base",
   "language": "python",
   "name": "python3"
  },
  "language_info": {
   "codemirror_mode": {
    "name": "ipython",
    "version": 3
   },
   "file_extension": ".py",
   "mimetype": "text/x-python",
   "name": "python",
   "nbconvert_exporter": "python",
   "pygments_lexer": "ipython3",
   "version": "3.9.13 (main, Aug 25 2022, 23:51:50) [MSC v.1916 64 bit (AMD64)]"
  },
  "vscode": {
   "interpreter": {
    "hash": "57bc2b6ce032b5f0e93daa91901b7ea38a856826ef43aa9e95b6d3999f5310df"
   }
  }
 },
 "nbformat": 4,
 "nbformat_minor": 0
}
