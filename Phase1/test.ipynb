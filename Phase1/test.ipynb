{
 "cells": [
  {
   "attachments": {},
   "cell_type": "markdown",
   "metadata": {},
   "source": [
    "# Test & Results"
   ]
  },
  {
   "attachments": {},
   "cell_type": "markdown",
   "metadata": {},
   "source": [
    "## Preparing the data"
   ]
  },
  {
   "cell_type": "code",
   "execution_count": null,
   "metadata": {},
   "outputs": [],
   "source": [
    "# Load the data\n",
    "\n",
    "import pandas as pd\n",
    "\n",
    "df = pd.read_csv('df_test.csv')\n",
    "\n",
    "Y = df['Average User Rating']\n",
    "X = df.drop(['Average User Rating'], axis=1)\n",
    "\n",
    "# Scale the data\n",
    "import pickle\n",
    "scaler = pickle.load(open('scalers/std_scaler.pkl', 'rb'))\n",
    "# scaler = pickle.load(open('scalers/min_max_scaler.pkl', 'rb'))\n",
    "\n"
   ]
  },
  {
   "attachments": {},
   "cell_type": "markdown",
   "metadata": {},
   "source": []
  },
  {
   "cell_type": "code",
   "execution_count": null,
   "metadata": {},
   "outputs": [],
   "source": []
  }
 ],
 "metadata": {
  "language_info": {
   "name": "python"
  },
  "orig_nbformat": 4
 },
 "nbformat": 4,
 "nbformat_minor": 2
}
