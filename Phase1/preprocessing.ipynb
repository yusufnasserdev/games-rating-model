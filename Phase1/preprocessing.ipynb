{
 "cells": [
  {
   "cell_type": "markdown",
   "metadata": {
    "collapsed": false
   },
   "source": [
    "# Data Preprocessing"
   ]
  },
  {
   "attachments": {},
   "cell_type": "markdown",
   "metadata": {},
   "source": [
    "## Importing the libraries"
   ]
  },
  {
   "cell_type": "code",
   "execution_count": 1,
   "metadata": {
    "ExecuteTime": {
     "end_time": "2023-04-14T14:19:38.839351Z",
     "start_time": "2023-04-14T14:19:38.815268Z"
    },
    "collapsed": false
   },
   "outputs": [
    {
     "name": "stderr",
     "output_type": "stream",
     "text": [
      "[nltk_data] Downloading package stopwords to\n",
      "[nltk_data]     C:\\Users\\Yusuf\\AppData\\Roaming\\nltk_data...\n",
      "[nltk_data]   Package stopwords is already up-to-date!\n",
      "[nltk_data] Downloading package wordnet to\n",
      "[nltk_data]     C:\\Users\\Yusuf\\AppData\\Roaming\\nltk_data...\n",
      "[nltk_data]   Package wordnet is already up-to-date!\n",
      "[nltk_data] Downloading package omw-1.4 to\n",
      "[nltk_data]     C:\\Users\\Yusuf\\AppData\\Roaming\\nltk_data...\n",
      "[nltk_data]   Package omw-1.4 is already up-to-date!\n",
      "[nltk_data] Downloading package stopwords to\n",
      "[nltk_data]     C:\\Users\\Yusuf\\AppData\\Roaming\\nltk_data...\n",
      "[nltk_data]   Package stopwords is already up-to-date!\n",
      "[nltk_data] Downloading package punkt to\n",
      "[nltk_data]     C:\\Users\\Yusuf\\AppData\\Roaming\\nltk_data...\n",
      "[nltk_data]   Package punkt is already up-to-date!\n",
      "[nltk_data] Downloading package wordnet to\n",
      "[nltk_data]     C:\\Users\\Yusuf\\AppData\\Roaming\\nltk_data...\n",
      "[nltk_data]   Package wordnet is already up-to-date!\n",
      "[nltk_data] Downloading package vader_lexicon to\n",
      "[nltk_data]     C:\\Users\\Yusuf\\AppData\\Roaming\\nltk_data...\n",
      "[nltk_data]   Package vader_lexicon is already up-to-date!\n"
     ]
    }
   ],
   "source": [
    "\n",
    "import pandas as pd\n",
    "import numpy as np\n",
    "import pickle\n",
    "\n",
    "import matplotlib.pyplot as plt\n",
    "import seaborn as sns\n",
    "import cv2\n",
    "import csv\n",
    "from bs4 import BeautifulSoup\n",
    "\n",
    "from sklearn.feature_extraction.text import CountVectorizer\n",
    "from sklearn.preprocessing import MultiLabelBinarizer\n",
    "from sklearn.decomposition import PCA\n",
    "\n",
    "import nltk\n",
    "from nltk.sentiment import SentimentIntensityAnalyzer\n",
    "from nltk.corpus import stopwords\n",
    "from textblob import TextBlob\n",
    "import re\n",
    "\n",
    "nltk.download('stopwords')\n",
    "nltk.download('wordnet')\n",
    "nltk.download('omw-1.4')\n",
    "nltk.download('stopwords')\n",
    "nltk.download('punkt')\n",
    "nltk.download('wordnet')\n",
    "nltk.download('vader_lexicon')\n",
    "stop_words = set(stopwords.words('english'))\n",
    "\n",
    "from datetime import datetime\n",
    "from tqdm import tqdm\n",
    "from scipy import stats\n",
    "\n",
    "import requests\n",
    "import os\n",
    "import shutil\n",
    "\n",
    "import warnings\n",
    "\n",
    "warnings.filterwarnings('ignore')"
   ]
  },
  {
   "cell_type": "markdown",
   "metadata": {
    "collapsed": false
   },
   "source": [
    "## Load the dataset"
   ]
  },
  {
   "cell_type": "code",
   "execution_count": 2,
   "metadata": {
    "ExecuteTime": {
     "end_time": "2023-04-14T10:33:46.390000Z",
     "start_time": "2023-04-14T10:33:46.279076Z"
    },
    "collapsed": false
   },
   "outputs": [],
   "source": [
    "dateparse = lambda x: datetime.strptime(x, '%d/%m/%Y')\n",
    "\n",
    "df_origin = pd.read_csv('games-regression-dataset.csv', \n",
    "                        parse_dates=['Original Release Date' , 'Current Version Release Date'], \n",
    "                        date_parser=dateparse)"
   ]
  },
  {
   "attachments": {},
   "cell_type": "markdown",
   "metadata": {
    "collapsed": false
   },
   "source": [
    "## Download the icons"
   ]
  },
  {
   "cell_type": "code",
   "execution_count": 3,
   "metadata": {},
   "outputs": [
    {
     "name": "stderr",
     "output_type": "stream",
     "text": [
      "100%|██████████| 5214/5214 [00:01<00:00, 4745.96it/s]\n"
     ]
    }
   ],
   "source": [
    "# Convert to string\n",
    "df_origin['Icon URL'] = df_origin['Icon URL'].astype(str)\n",
    "\n",
    "# Download the images\n",
    "def download_image(url, filename):\n",
    "    r = requests.get(url, stream=True)\n",
    "    if r.status_code == 200:\n",
    "        with open(filename, 'wb') as f:\n",
    "            r.raw.decode_content = True\n",
    "            shutil.copyfileobj(r.raw, f)\n",
    "\n",
    "\n",
    "# Create a folder to store the images\n",
    "if not os.path.exists('icons'):\n",
    "    os.makedirs('icons')\n",
    "\n",
    "# Download the images if they don't exist\n",
    "for i, row in tqdm(df_origin.iterrows(), total=df_origin.shape[0]):\n",
    "    if not os.path.exists('icons/' + str(i) + '.png'):\n",
    "        download_image(row['Icon URL'], 'icons/' + str(i) + '.png')\n",
    "        \n",
    "# Replace the URL with the icon filename which is the index of the row\n",
    "df_origin['Icon URL'] = df_origin.apply(lambda row : f'icons/{row.name}.png', axis=1)"
   ]
  },
  {
   "attachments": {},
   "cell_type": "markdown",
   "metadata": {},
   "source": [
    "## Download the reviews"
   ]
  },
  {
   "cell_type": "code",
   "execution_count": null,
   "metadata": {},
   "outputs": [],
   "source": [
    "def web_scrapping():\n",
    "    data = pd.DataFrame(columns = [\"ID\",\"Reviews\"])\n",
    "    # Read CSV file\n",
    "    # with open('games-regression-dataset.csv', newline='') as csvfile:\n",
    "    with open('games-regression-dataset.csv', newline='') as csvfile:\n",
    "        reader = csv.reader(csvfile)\n",
    "        next(reader)  # Skip header row\n",
    "        for row in reader:\n",
    "            url = row[0]  # URL is in first column\n",
    "            filename = 'Reviews/'+os.path.basename(url)  # Extract filename from URL\n",
    "            url +=  \"?see-all=reviews\"\n",
    "            response = requests.get(url)\n",
    "            if response.status_code == 200:  # Check if request was successful\n",
    "                soup = BeautifulSoup(response.text, 'html.parser')\n",
    "                blocks = soup.findAll(\"blockquote\")\n",
    "                review_list = []\n",
    "                for blockquote in blocks:\n",
    "                    review = blockquote.find('p').text\n",
    "                    review_list.append(review)\n",
    "                if len(review_list)!=0:\n",
    "                    filename = re.sub(r'[^\\d]+', '', filename)\n",
    "                    new_row = {'ID': filename,\"Reviews\": review_list}\n",
    "                    data = data._append(new_row, ignore_index=True)\n",
    "                    \n",
    "    data.to_csv('Reviews.csv', index=False)"
   ]
  },
  {
   "cell_type": "code",
   "execution_count": 4,
   "metadata": {},
   "outputs": [],
   "source": [
    "def reviews_splitting(data):\n",
    "\n",
    "    for i in range (len(data)):\n",
    "        data.at[i, 'Reviews'] = data.at[i, \"Reviews\"].split(\"',\")\n",
    "        data.at[i,\"ID\"] =data.at[i,\"ID\"]\n",
    "        \n",
    "    data = data.explode('Reviews')\n",
    "    return data"
   ]
  },
  {
   "cell_type": "code",
   "execution_count": 5,
   "metadata": {},
   "outputs": [],
   "source": [
    "def reviews_cleaning(data):\n",
    "  # Convert text to lowercase\n",
    "  data['Reviews'] = data['Reviews'].apply(lambda x: str(x).lower())\n",
    "\n",
    "  # Replace newline characters with an empty string\n",
    "  data['Reviews'] = data['Reviews'].apply(lambda x: re.sub(r'\\\\n', ' ', x))\n",
    "\n",
    "  # Remove black squares\n",
    "  data['Reviews'] = data['Reviews'].apply(lambda x: re.sub(r'\\\\u25a0', '', x))\n",
    "\n",
    "  # Remove special characters and punctuations\n",
    "  data['Reviews'] = data['Reviews'].apply(lambda x: re.sub(r'[^\\w\\s]+', '', x))\n",
    "\n",
    "  # Remove numbers\n",
    "  data['Reviews'] = data['Reviews'].apply(lambda x: \" \".join([word for word in x.split() if not any(char.isdigit() for char in word)]))\n",
    "\n",
    "  # Remove extra whitespaces\n",
    "  data['Reviews'] = data['Reviews'].apply(lambda x: re.sub(r'\\s+', ' ', x))\n",
    "\n",
    "  # Remove stop words\n",
    "  data['Reviews'] = data['Reviews'].apply(lambda x: \" \".join([word for word in x.lower().split() if word not in stop_words]))\n",
    "\n",
    "  # Remove empty strings\n",
    "  data = data[data['Reviews'].apply(lambda x: len(x)>0)]\n",
    "  \n",
    "  # Group by ID\n",
    "  data = data.groupby('ID')['Reviews'].apply(list).reset_index()\n",
    "  \n",
    "  return data"
   ]
  },
  {
   "cell_type": "code",
   "execution_count": 6,
   "metadata": {},
   "outputs": [],
   "source": [
    "# web_scrapping()\n",
    "\n",
    "df_reviews = pd.read_csv('Reviews.csv')\n",
    "\n",
    "df_reviews = reviews_splitting(df_reviews)\n",
    "\n",
    "df_reviews = reviews_cleaning(df_reviews)\n",
    "\n",
    "## Merge The Sentiment with the original dataset\n",
    "df_origin = df_origin.merge(df_reviews, on='ID', how='left')\n",
    "\n",
    "## drop the rows with no reviews\n",
    "df_origin = df_origin.dropna(subset=['Reviews'])"
   ]
  },
  {
   "cell_type": "code",
   "execution_count": 7,
   "metadata": {},
   "outputs": [
    {
     "data": {
      "text/plain": [
       "(2744, 19)"
      ]
     },
     "execution_count": 7,
     "metadata": {},
     "output_type": "execute_result"
    }
   ],
   "source": [
    "df_origin.shape"
   ]
  },
  {
   "attachments": {},
   "cell_type": "markdown",
   "metadata": {},
   "source": [
    "## Sentiment Analysis for reviews"
   ]
  },
  {
   "attachments": {},
   "cell_type": "markdown",
   "metadata": {},
   "source": [
    "### Sentiment Analysis"
   ]
  },
  {
   "cell_type": "code",
   "execution_count": 8,
   "metadata": {},
   "outputs": [],
   "source": [
    "sia_reviews = SentimentIntensityAnalyzer()\n",
    "pickle.dump(sia_reviews, open('encoders/sia_reviews.pkl', 'wb'))\n",
    "\n",
    "def sentiment_analysis(data):\n",
    "  \n",
    "  # Apply sentiment analysis for each review in the list\n",
    "  data['Reviews'] = data['Reviews'].apply(lambda x: [sia_reviews.polarity_scores(review)['compound'] for review in x])\n",
    "  \n",
    "  return data\n"
   ]
  },
  {
   "attachments": {},
   "cell_type": "markdown",
   "metadata": {},
   "source": [
    "### Get compound average & Group by id\n"
   ]
  },
  {
   "cell_type": "code",
   "execution_count": 23,
   "metadata": {},
   "outputs": [],
   "source": [
    "\n",
    "def reviews_preprocess(data):\n",
    "  \n",
    "  # Apply sentiment_analysis\n",
    "  data = sentiment_analysis(data)\n",
    "  \n",
    "  # Get the lowest, highest and average Reviews\n",
    "  data['lowest_review'] = data['Reviews'].apply(lambda x: min(x) if len(x) > 0 else 0)\n",
    "  data['highest_review'] = data['Reviews'].apply(lambda x: max(x) if len(x) > 0 else 0)\n",
    "  data['average_review'] = data['Reviews'].apply(lambda x: np.mean(x) if len(x) > 0 else 0)\n",
    "  \n",
    "  ## Drop nulls of sentiment\n",
    "  # data = data.dropna(subset=['lowest_review','highest_review','average_review'])\n",
    "  return data"
   ]
  },
  {
   "cell_type": "markdown",
   "metadata": {
    "collapsed": false
   },
   "source": [
    "## Data Exploration"
   ]
  },
  {
   "attachments": {},
   "cell_type": "markdown",
   "metadata": {},
   "source": [
    "### General information"
   ]
  },
  {
   "cell_type": "code",
   "execution_count": null,
   "metadata": {
    "ExecuteTime": {
     "end_time": "2023-04-13T16:07:00.183708Z",
     "start_time": "2023-04-13T16:07:00.127616Z"
    },
    "collapsed": false
   },
   "outputs": [],
   "source": [
    "df.head()"
   ]
  },
  {
   "cell_type": "code",
   "execution_count": null,
   "metadata": {
    "ExecuteTime": {
     "end_time": "2023-04-13T14:33:05.138536Z",
     "start_time": "2023-04-13T14:33:05.138536Z"
    },
    "collapsed": false
   },
   "outputs": [],
   "source": [
    "df.info()"
   ]
  },
  {
   "cell_type": "code",
   "execution_count": null,
   "metadata": {
    "ExecuteTime": {
     "end_time": "2023-04-13T14:33:07.893814Z",
     "start_time": "2023-04-13T14:33:07.893814Z"
    },
    "collapsed": false
   },
   "outputs": [],
   "source": [
    "df.isnull().sum()"
   ]
  },
  {
   "attachments": {},
   "cell_type": "markdown",
   "metadata": {},
   "source": [
    "### Genres"
   ]
  },
  {
   "cell_type": "code",
   "execution_count": null,
   "metadata": {
    "ExecuteTime": {
     "end_time": "2023-04-13T14:33:21.139604Z",
     "start_time": "2023-04-13T14:33:21.139604Z"
    },
    "collapsed": false
   },
   "outputs": [],
   "source": [
    "def genres_analysis(_df):\n",
    "    _df['Genres'] = _df['Genres'].astype(str)\n",
    "    _df['Genres'] = _df['Genres'].str.strip('[]').str.replace(\"'\", \"\").str.split(\", \")\n",
    "\n",
    "    genre_counts = _df.explode('Genres').groupby('Genres').size().sort_values(ascending=False)\n",
    "    print(genre_counts)\n"
   ]
  },
  {
   "attachments": {},
   "cell_type": "markdown",
   "metadata": {},
   "source": [
    "### Developer"
   ]
  },
  {
   "cell_type": "code",
   "execution_count": null,
   "metadata": {
    "ExecuteTime": {
     "end_time": "2023-04-13T14:33:43.637371Z",
     "start_time": "2023-04-13T14:33:43.637371Z"
    },
    "collapsed": false
   },
   "outputs": [],
   "source": [
    "def dev_analysis(_df):\n",
    "\n",
    "    print(_df['Developer'].value_counts())\n",
    "    \n",
    "    # print the number developers with more than 1 game\n",
    "    print(len(_df['Developer'].value_counts()[_df['Developer'].value_counts() > 1]))\n",
    "\n",
    "    print(_df['Developer'].unique().size)"
   ]
  },
  {
   "attachments": {},
   "cell_type": "markdown",
   "metadata": {},
   "source": [
    "### Dates"
   ]
  },
  {
   "cell_type": "code",
   "execution_count": null,
   "metadata": {},
   "outputs": [],
   "source": [
    "def date_analysis(_df):\n",
    "    # Plot the distribution of the date columns\n",
    "\n",
    "    fig, ax = plt.subplots(5, 2, figsize=(20, 20))\n",
    "\n",
    "    # df = date_preprocessing(df)\n",
    "\n",
    "    # game_age distribution\n",
    "    sns.histplot(_df['game_age'], ax=ax[0, 0])\n",
    "    sns.boxplot(_df['game_age'], ax=ax[0, 1], orient='h')\n",
    "\n",
    "    # last_update distribution\n",
    "    sns.histplot(_df['last_update'], ax=ax[1, 0])\n",
    "    sns.boxplot(_df['last_update'], ax=ax[1, 1], orient='h')\n",
    "\n",
    "    # Original Release Date distribution\n",
    "    sns.histplot(_df['Original Release Date'], ax=ax[2, 0])\n",
    "    sns.boxplot(_df['Original Release Date'], ax=ax[2, 1], orient='h')\n",
    "\n",
    "    # Current Version Release Date distribution\n",
    "    sns.histplot(_df['Current Version Release Date'], ax=ax[3, 0])\n",
    "    sns.boxplot(_df['Current Version Release Date'], ax=ax[3, 1], orient='h')\n",
    "\n",
    "    # maintaning_period distribution\n",
    "    sns.histplot(_df['maintaning_period'], ax=ax[4, 0])\n",
    "    sns.boxplot(_df['maintaning_period'], ax=ax[4, 1], orient='h')\n",
    "\n",
    "    plt.show()\n",
    "\n",
    "# Date outliers are legitimate data points that are worth keeping, they are not errors nor anomalies"
   ]
  },
  {
   "attachments": {},
   "cell_type": "markdown",
   "metadata": {},
   "source": [
    "### Languages"
   ]
  },
  {
   "cell_type": "code",
   "execution_count": null,
   "metadata": {
    "ExecuteTime": {
     "end_time": "2023-04-13T14:33:49.943309Z",
     "start_time": "2023-04-13T14:33:49.943309Z"
    },
    "collapsed": false
   },
   "outputs": [],
   "source": [
    "def lang_analysis(_df):\n",
    "    _df['Languages'] = _df['Languages'].astype(str)\n",
    "    _df['Languages'] = _df['Languages'].str.strip('[]').str.replace(\"'\", \"\").str.split(\", \")\n",
    "\n",
    "    langs_counts = _df.explode('Languages').groupby('Languages').size().sort_values(ascending=False)\n",
    "    print(langs_counts[1:30])\n"
   ]
  },
  {
   "cell_type": "code",
   "execution_count": null,
   "metadata": {},
   "outputs": [],
   "source": [
    "df.hist(figsize=(15, 15))"
   ]
  },
  {
   "cell_type": "markdown",
   "metadata": {
    "collapsed": false
   },
   "source": [
    "## Dates preprocessing"
   ]
  },
  {
   "cell_type": "code",
   "execution_count": 10,
   "metadata": {
    "ExecuteTime": {
     "end_time": "2023-04-14T10:36:05.737187Z",
     "start_time": "2023-04-14T10:36:05.699973Z"
    },
    "collapsed": false
   },
   "outputs": [],
   "source": [
    "def date_preprocess(_df):\n",
    "    # Convert the datetime to ordinal\n",
    "    _df['Original Release Date'] = _df['Original Release Date'].apply(lambda x: x.toordinal())\n",
    "    _df['Current Version Release Date'] = _df['Current Version Release Date'].apply(lambda x: x.toordinal())\n",
    "    \n",
    "    # Create a new column with the age of the game\n",
    "    _df['game_age'] = datetime.now().toordinal() - _df['Original Release Date']\n",
    "\n",
    "    # Create a new column with the time since the last update\n",
    "    _df['last_update'] = datetime.now().toordinal() - _df['Current Version Release Date']\n",
    "    \n",
    "    # Create a new column with the maintaning period\n",
    "    _df['maintaning_period'] = _df['last_update'] - _df['game_age']\n",
    "\n",
    "    return _df"
   ]
  },
  {
   "cell_type": "markdown",
   "metadata": {
    "collapsed": false
   },
   "source": [
    "## Developer preprocessing"
   ]
  },
  {
   "attachments": {},
   "cell_type": "markdown",
   "metadata": {},
   "source": [
    "### Target encoding approach"
   ]
  },
  {
   "cell_type": "code",
   "execution_count": 11,
   "metadata": {
    "ExecuteTime": {
     "end_time": "2023-04-14T10:35:14.110217Z",
     "start_time": "2023-04-14T10:35:13.123201Z"
    },
    "collapsed": false
   },
   "outputs": [],
   "source": [
    "def dev_preprocess_target_enc(_df):\n",
    "    # Convert to string\n",
    "    _df['Developer'] = _df['Developer'].astype(str)\n",
    "    _df['Developer'] = _df['Developer'].str.replace(\"'\", \"\").str.strip('[]')\n",
    "\n",
    "    # Replace the developer names with less than 2 games with 'Other'\n",
    "    dev_counts = _df['Developer'].value_counts()\n",
    "    other = dev_counts[dev_counts < 2].index\n",
    "    \n",
    "    # Drop rows with developers in other\n",
    "    # _df = _df[~_df['Developer'].isin(other)]\n",
    "    \n",
    "    _df['Developer'] = _df['Developer'].replace(other, 'Other')\n",
    "\n",
    "    # Get the average user rating for all the developers that have more than 1 game\n",
    "    mean = _df.groupby('Developer').filter(lambda x: len(x) > 1)['Average User Rating'].mean()\n",
    "    \n",
    "    dev_df = _df[['Developer', 'Average User Rating']].groupby('Developer').mean()\n",
    "    \n",
    "    # Replace the value of 'Other' with the mean\n",
    "    dev_df.loc['Other'] = mean\n",
    "\n",
    "    # Save dev_df to be used on the test set\n",
    "    dev_df.to_csv('encoders/dev_avg.csv')\n",
    "\n",
    "    # Replace the developer names with the average user rating from dev_df\n",
    "    _df['dev_avg'] = _df['Developer'].replace(dev_df.index, dev_df['Average User Rating'])\n",
    "    \n",
    "    return _df"
   ]
  },
  {
   "attachments": {},
   "cell_type": "markdown",
   "metadata": {},
   "source": [
    "### Frequency encoding approach"
   ]
  },
  {
   "cell_type": "code",
   "execution_count": 12,
   "metadata": {},
   "outputs": [],
   "source": [
    "# Frequency encoding\n",
    "\n",
    "def dev_preprocess_freq_enc(_df):\n",
    "    # Convert to string\n",
    "    _df['Developer'] = _df['Developer'].astype(str)\n",
    "    _df['Developer'] = _df['Developer'].str.replace(\"'\", \"\").str.strip('[]')\n",
    "    \n",
    "    # Get the frequency of each developer\n",
    "    dev_freqs = pd.value_counts(_df['Developer']).reset_index()\n",
    "    dev_freqs.columns = ['Developer', 'Frequency']\n",
    "    \n",
    "    # Save dev_freqs to be used on the test set\n",
    "    dev_freqs.to_csv('encoders/dev_freq.csv', index=False)\n",
    "    \n",
    "    # Create a dictionary mapping developers to frequencies\n",
    "    dev_freq_dict = dict(zip(dev_freqs['Developer'], dev_freqs['Frequency']))\n",
    "\n",
    "    # Create a new column with the frequency of each developer\n",
    "    _df['dev_freq'] = _df['Developer'].map(dev_freq_dict)\n",
    "        \n",
    "    return _df\n"
   ]
  },
  {
   "cell_type": "markdown",
   "metadata": {
    "collapsed": false
   },
   "source": [
    "## Genres preprocessing"
   ]
  },
  {
   "attachments": {},
   "cell_type": "markdown",
   "metadata": {},
   "source": [
    "### 1. NLP approach (Bag of Words)"
   ]
  },
  {
   "cell_type": "code",
   "execution_count": null,
   "metadata": {
    "ExecuteTime": {
     "end_time": "2023-04-14T10:35:21.245168Z",
     "start_time": "2023-04-14T10:35:20.885068Z"
    },
    "collapsed": false
   },
   "outputs": [],
   "source": [
    "def genres_preprocess_bow(_df):\n",
    "    # Convert the genres column to a list of strings\n",
    "    _df['Genres'] = _df['Genres'].astype(str)\n",
    "    _df['Genres'] = _df['Genres'].str.strip('[]').str.replace(\"'\", \"\").str.split(\", \")\n",
    "\n",
    "    # drop Games, Strategy, Entertainment from the Genres column\n",
    "    _df['Genres'] = _df['Genres'].apply(lambda x: [genre for genre in x if genre not in ['Games', 'Strategy', 'Entertainment']])\n",
    "\n",
    "    # Join the list of genres into a single string\n",
    "    genres = _df['Genres'].apply(lambda x: ' '.join(x))\n",
    "\n",
    "    # Create a count Vectorizer and fit it to the genres\n",
    "    count_vec = CountVectorizer()\n",
    "    bow_genres = count_vec.fit_transform(genres)\n",
    "    \n",
    "    # Save the count vectorizer to be used on the test set\n",
    "    pickle.dump(count_vec, open('encoders/count_vec.pkl', 'wb'))\n",
    "\n",
    "    # Apply principal component analysis to reduce the dimensionality\n",
    "    pca = PCA(n_components=10)\n",
    "    pca_genres = pca.fit_transform(bow_genres.toarray())\n",
    "\n",
    "    # Add the PCA-transformed genres to the original dataframe\n",
    "    for i in range(10):\n",
    "        _df[f'genreN_{i}'] = pca_genres[:, i]\n",
    "\n",
    "    return _df"
   ]
  },
  {
   "attachments": {},
   "cell_type": "markdown",
   "metadata": {},
   "source": [
    "### 2. Dummy variables approach"
   ]
  },
  {
   "cell_type": "code",
   "execution_count": 13,
   "metadata": {},
   "outputs": [],
   "source": [
    "def genres_preprocess_dummies(_df):\n",
    "    # Convert the genres column to a list of strings\n",
    "    _df['Genres'] = _df['Genres'].astype(str)\n",
    "    _df['Genres'] = _df['Genres'].str.strip('[]').str.replace(\"'\", \"\").str.split(\", \")\n",
    "    \n",
    "    # drop Games, Strategy, Entertainment from the Genres column\n",
    "    _df['Genres'] = _df['Genres'].apply(lambda x: [genre for genre in x if genre not in ['Games', 'Strategy', 'Entertainment']])\n",
    "    \n",
    "    # Replace genres with counts less than 100 with 'infrequent' as it would represent a very small percentage of the data (less than 2%)\n",
    "    threshold = _df.shape[0] * 0.02\n",
    "    \n",
    "    other = _df['Genres'].explode().value_counts()[_df['Genres'].explode().value_counts() < threshold].index\n",
    "    _df['Genres'] = _df['Genres'].apply(lambda x: [genre if genre not in other else 'infrequent' for genre in x])\n",
    "    \n",
    "    # Get dummy variables for the genres\n",
    "    genres = pd.get_dummies(_df['Genres'].apply(pd.Series).stack(), prefix=\"genre\", dummy_na=False).sum(level=0)\n",
    "    \n",
    "    # Save the genres dummies to be used on the test set\n",
    "    genres.to_csv('encoders/genres.csv', index=False)\n",
    "    \n",
    "    # Add the dummy variables to the original dataframe\n",
    "    _df = pd.concat([_df, genres], axis=1)\n",
    "    \n",
    "    # Fill the NaN values with 0\n",
    "    genre_cols = [col for col in _df.columns if col.startswith('genre')] # get all columns with prefix 'genre'\n",
    "    _df[genre_cols] = _df[genre_cols].fillna(0) # fill the NaN values with 0\n",
    "    \n",
    "    return _df"
   ]
  },
  {
   "attachments": {},
   "cell_type": "markdown",
   "metadata": {},
   "source": [
    "### 3. Multi-label binarizer"
   ]
  },
  {
   "cell_type": "code",
   "execution_count": null,
   "metadata": {},
   "outputs": [],
   "source": [
    "def genres_preprocessing_mlb(_df):\n",
    "    # Convert the genres column to a list of strings\n",
    "    _df['Genres'] = _df['Genres'].astype(str)\n",
    "    _df['Genres'] = _df['Genres'].str.strip('[]').str.replace(\"'\", \"\").str.split(\", \")\n",
    "\n",
    "    # drop Games, Strategy, Entertainment from the Genres column\n",
    "    _df['Genres'] = _df['Genres'].apply(lambda x: [genre for genre in x if genre not in ['Games', 'Strategy', 'Entertainment']])\n",
    "\n",
    "    # Replace genres with counts less than 100 with 'infrequent' as it would represent a very small percentage of the data (less than 2%)\n",
    "    threshold = _df.shape[0] * 0.02\n",
    "\n",
    "    other = _df['Genres'].explode().value_counts()[_df['Genres'].explode().value_counts() < threshold].index\n",
    "    _df['Genres'] = _df['Genres'].apply(lambda x: [genre if genre not in other else 'infrequent_genre' for genre in x])\n",
    "\n",
    "    # Instantiate the MultiLabelBinarizer\n",
    "    mlb = MultiLabelBinarizer()\n",
    "\n",
    "    # Fit the MultiLabelBinarizer to the genres\n",
    "    mlb.fit(_df['Genres'])\n",
    "\n",
    "    # Drop nan from the classes\n",
    "    mlb.classes_ = np.delete(mlb.classes_, np.where(mlb.classes_ == 'nan'))\n",
    "\n",
    "    # Save the mlb for later use with the test data\n",
    "    pickle.dump(mlb, open('encoders/mlb_genres.pkl', 'wb'))\n",
    "\n",
    "    # Transform the genres into a one-hot encoded array\n",
    "    genres_mlb = mlb.transform(_df['Genres'])\n",
    "\n",
    "    # Create a dataframe from the one-hot encoded array\n",
    "    genres_mlb_df = pd.DataFrame(genres_mlb, columns=mlb.classes_)\n",
    "\n",
    "    # Add the one-hot encoded genres to the original dataframe\n",
    "    _df = pd.concat([_df, genres_mlb_df], axis=1)\n",
    "    \n",
    "    return _df"
   ]
  },
  {
   "cell_type": "markdown",
   "metadata": {
    "collapsed": false
   },
   "source": [
    "## Languages preprocessing"
   ]
  },
  {
   "attachments": {},
   "cell_type": "markdown",
   "metadata": {},
   "source": [
    "### 1. NLP approach"
   ]
  },
  {
   "cell_type": "code",
   "execution_count": null,
   "metadata": {
    "ExecuteTime": {
     "end_time": "2023-04-14T10:35:38.695352Z",
     "start_time": "2023-04-14T10:35:38.599717Z"
    },
    "collapsed": false
   },
   "outputs": [],
   "source": [
    "def lang_preprocessing_bow(_df):\n",
    "    # Convert the langs column to a list of strings\n",
    "    _df['Languages'] = _df['Languages'].astype(str)\n",
    "    _df['Languages'] = _df['Languages'].str.strip('[]').str.replace(\"'\", \"\").str.split(\", \")\n",
    "    \n",
    "    # drop English from the Languages column\n",
    "    _df['Languages'] = _df['Languages'].apply(lambda x: [lang for lang in x if lang not in ['EN']])\n",
    "    \n",
    "    # Join the list of langs into a single string\n",
    "    languages = _df['Languages'].apply(lambda x: ' '.join(x))\n",
    "    \n",
    "    # Create a count Vectorizer and fit it to the langs\n",
    "    count_vec = CountVectorizer()\n",
    "    bow_languages = count_vec.fit_transform(languages)\n",
    "    \n",
    "    # Save the count vectorizer to be used on the test set\n",
    "    pickle.dump(count_vec, open('encoders/count_vec_lang.pkl', 'wb'))\n",
    "    \n",
    "    # Apply principal component analysis to reduce the dimensionality\n",
    "    pca = PCA(n_components=10)\n",
    "    pca_languages = pca.fit_transform(bow_languages.toarray())\n",
    "    \n",
    "    # Save the pca to be used on the test set\n",
    "    pickle.dump(pca, open('encoders/pca_lang.pkl', 'wb'))\n",
    "    \n",
    "    # Add the PCA-transformed langs to the original dataframe\n",
    "    for i in range(len(pca_languages[0])):\n",
    "        _df[f'lang_{i}'] = pca_languages[:, i]\n",
    "        \n",
    "    return _df\n"
   ]
  },
  {
   "attachments": {},
   "cell_type": "markdown",
   "metadata": {},
   "source": [
    "### 2. Dummy variables approach"
   ]
  },
  {
   "cell_type": "code",
   "execution_count": 14,
   "metadata": {},
   "outputs": [],
   "source": [
    "def langs_preprocess_dummies(_df):\n",
    "    # Convert the langs column to a list of strings\n",
    "    _df['Languages'] = _df['Languages'].astype(str)\n",
    "    _df['Languages'] = _df['Languages'].str.strip('[]').str.replace(\"'\", \"\").str.split(\", \")\n",
    "    \n",
    "    # Create a column with the number of languages supported\n",
    "    _df['langs_count'] = _df['Languages'].apply(lambda x: len(x)) \n",
    "    \n",
    "    # drop English from the Languages column\n",
    "    _df['Languages'] = _df['Languages'].apply(lambda x: [lang for lang in x if lang not in ['EN']])\n",
    "    \n",
    "    # Replace languages with counts less than 100 with 'infrequent' as it would represent a very small percentage of the data (less than 10%)\n",
    "    threshold = _df.shape[0] * 0.1\n",
    "    \n",
    "    # Replace langs with counts less than 500 with 'infrequent_langs' as it would represent a very small percentage of the data (less than 10%)\n",
    "    other = _df['Languages'].explode().value_counts()[_df['Languages'].explode().value_counts() < threshold].index\n",
    "    _df['Languages'] = _df['Languages'].apply(lambda x: [lang if lang not in other else 'infrequent' for lang in x])\n",
    "\n",
    "    # Get dummy variables for the langs\n",
    "    langs = pd.get_dummies(_df['Languages'].apply(pd.Series).stack(), prefix='lang', dummy_na=False).sum(level=0)\n",
    "\n",
    "    langs.to_csv('encoders/langs.csv', index=False)\n",
    "\n",
    "    # Add the dummy variables to the original dataframe\n",
    "    _df = pd.concat([_df, langs], axis=1)\n",
    "\n",
    "    # Fill NaN with 0\n",
    "    lang_cols = [col for col in _df.columns if col.startswith('lang')] # get all columns with prefix 'lang'\n",
    "    _df[lang_cols] = _df[lang_cols].fillna(0) # fill NaN with 0 for selected columns\n",
    "    \n",
    "    return _df\n",
    "    \n",
    "    "
   ]
  },
  {
   "attachments": {},
   "cell_type": "markdown",
   "metadata": {},
   "source": [
    "### 3. Multi-label binarizer"
   ]
  },
  {
   "cell_type": "code",
   "execution_count": null,
   "metadata": {},
   "outputs": [],
   "source": [
    "def lang_preprocess_mlb(_df):\n",
    "    # Convert the langs column to a list of strings\n",
    "    _df['Languages'] = _df['Languages'].astype(str)\n",
    "    _df['Languages'] = _df['Languages'].str.strip('[]').str.replace(\"'\", \"\").str.split(\", \")\n",
    "\n",
    "    # Create a column with the number of languages supported\n",
    "    _df['langs_count'] = _df['Languages'].apply(lambda x: len(x))\n",
    "\n",
    "    # Drop the English language from the Languages column (it is the most common language and would dominate the model)\n",
    "    _df['Languages'] = _df['Languages'].apply(lambda x: [lang for lang in x if lang not in ['EN']])\n",
    "\n",
    "    # Replace langs with counts less than 500 with 'infrequent_langs' as it would represent a very small percentage of the data (less than 10%)\n",
    "    other = _df['Languages'].explode().value_counts()[df['Languages'].explode().value_counts() < 400].index\n",
    "    _df['Languages'] = _df['Languages'].apply(lambda x: [lang if lang not in other else 'infrequent_lang' for lang in x])\n",
    "\n",
    "    # Instantiate the MultiLabelBinarizer\n",
    "    mlb = MultiLabelBinarizer()\n",
    "\n",
    "    # Fit the MultiLabelBinarizer to the langs\n",
    "    mlb.fit(_df['Languages'])\n",
    "\n",
    "    # Drop nan from the classes\n",
    "    mlb.classes_ = np.delete(mlb.classes_, np.where(mlb.classes_ == 'nan'))\n",
    "\n",
    "    # Save the mlb for later use with the test data\n",
    "    pickle.dump(mlb, open('encoders/mlb_langs.pkl', 'wb'))\n",
    "\n",
    "    # Transform the langs into a one-hot encoded array\n",
    "    langs_mlb = mlb.transform(_df['Languages'])\n",
    "\n",
    "    # Create a dataframe from the one-hot encoded array\n",
    "    langs_mlb_df = pd.DataFrame(langs_mlb, columns=mlb.classes_)\n",
    "\n",
    "    # Add the encoded langs to the original dataframe\n",
    "    _df = pd.concat([_df, langs_mlb_df], axis=1)\n",
    "    \n",
    "    return _df"
   ]
  },
  {
   "cell_type": "markdown",
   "metadata": {
    "collapsed": false
   },
   "source": [
    "## In-app Purchases preprocessing"
   ]
  },
  {
   "cell_type": "code",
   "execution_count": 15,
   "metadata": {
    "ExecuteTime": {
     "end_time": "2023-04-14T10:35:52.935497Z",
     "start_time": "2023-04-14T10:35:52.881403Z"
    },
    "collapsed": false
   },
   "outputs": [],
   "source": [
    "# Free apps might skew the in-app purchases column,\n",
    "# so we might split the dataset into free and paid apps\n",
    "\n",
    "def purchases_preprocess(_df):\n",
    "    # Convert the In-app Purchases column to a list of floats\n",
    "    _df['In-app Purchases'] = _df['In-app Purchases'].astype(str)\n",
    "    _df['In-app Purchases'] = _df['In-app Purchases'].str.strip('[]').str.replace(\"'\", \"\").str.split(\", \")\n",
    "\n",
    "    # Convert to float\n",
    "    _df['In-app Purchases'] = _df['In-app Purchases'].apply(lambda x: [float(i) for i in x])\n",
    "\n",
    "    # Get the number of in-app purchases\n",
    "    _df['purchases_count'] = _df['In-app Purchases'].apply(lambda x: len(x))\n",
    "\n",
    "    # Get the lowest, highest and average purchase\n",
    "    _df['lowest_purchase'] = _df['In-app Purchases'].apply(lambda x: min(x) if len(x) > 0 else 0)\n",
    "    _df['highest_purchase'] = _df['In-app Purchases'].apply(lambda x: max(x) if len(x) > 0 else 0)\n",
    "    _df['average_purchase'] = _df['In-app Purchases'].apply(lambda x: np.mean(x) if len(x) > 0 else 0)\n",
    "\n",
    "    _df['lowest_purchase'] = _df['lowest_purchase'].fillna(0)\n",
    "    _df['highest_purchase'] = _df['highest_purchase'].fillna(0)\n",
    "    _df['average_purchase'] = _df['average_purchase'].fillna(0)\n",
    "    \n",
    "    return _df"
   ]
  },
  {
   "cell_type": "markdown",
   "metadata": {
    "collapsed": false
   },
   "source": [
    "## Age Rating preprocessing"
   ]
  },
  {
   "cell_type": "code",
   "execution_count": 16,
   "metadata": {
    "ExecuteTime": {
     "end_time": "2023-04-14T10:36:03.614263Z",
     "start_time": "2023-04-14T10:36:03.579637Z"
    },
    "collapsed": false
   },
   "outputs": [],
   "source": [
    "def age_preprocess(_df):\n",
    "    # Convert to string\n",
    "    _df['Age Rating'] = _df['Age Rating'].astype(str)\n",
    "\n",
    "    # Remove the + sign\n",
    "    _df['Age Rating'] = _df['Age Rating'].str.replace('+', '')\n",
    "\n",
    "    # Convert to int\n",
    "    _df['Age Rating'] = _df['Age Rating'].astype(float)\n",
    "    \n",
    "    return _df"
   ]
  },
  {
   "cell_type": "markdown",
   "metadata": {
    "collapsed": false
   },
   "source": [
    "## NLP preprocessing"
   ]
  },
  {
   "cell_type": "code",
   "execution_count": 17,
   "metadata": {
    "ExecuteTime": {
     "end_time": "2023-04-14T10:43:13.386866Z",
     "start_time": "2023-04-14T10:43:13.386866Z"
    },
    "collapsed": false
   },
   "outputs": [],
   "source": [
    "def preprocess_nlp(_df, col):\n",
    "    # Convert to string\n",
    "    _df[col] = _df[col].astype(str)\n",
    "\n",
    "    # Remove URLs and email addresses\n",
    "    _df[col] = _df[col].apply(lambda x: re.sub(r'http\\S+|www.\\S+|\\S+@\\S+', '', x))\n",
    "\n",
    "    # Remove the punctuation, numbers, and convert to lowercase\n",
    "    _df[col] = _df[col].apply(lambda x: \" \".join(re.findall(r'\\w+', x.lower())))\n",
    "\n",
    "    # Remove the stopwords\n",
    "    _df[col] = _df[col].apply(lambda x: \" \".join(x for x in x.split() if x not in stop_words))\n",
    "\n",
    "    # Stemming\n",
    "    st = nltk.PorterStemmer()\n",
    "    _df[col] = _df[col].apply(lambda x: \" \".join([st.stem(word) for word in x.split()]))\n",
    "\n",
    "    # Lemmatization\n",
    "    lem = nltk.WordNetLemmatizer()\n",
    "    _df[col] = _df[col].apply(lambda x: \" \".join([lem.lemmatize(word) for word in x.split()]))\n",
    "\n",
    "    # Remove the frequent and rare words\n",
    "    freq = pd.Series(' '.join(_df[col]).split()).value_counts()\n",
    "    common_freq = list(freq[:10].index)\n",
    "    rare_freq = list(freq[-10:].index)\n",
    "    _df[col] = _df[col].apply(lambda x: \" \".join(x for x in x.split() if x not in common_freq+rare_freq))\n",
    "\n",
    "    # Remove the whitespaces\n",
    "    _df[col] = _df[col].apply(lambda x: \" \".join(x.strip() for x in x.split()))\n",
    "\n",
    "    # Replace NaN values with empty string\n",
    "    _df[col] = _df[col].fillna('')\n",
    "\n",
    "    # Convert text data to bag-of-words representation\n",
    "    vectorizer = CountVectorizer()\n",
    "    BoW = vectorizer.fit_transform(_df[col])\n",
    "\n",
    "    # Apply principal component analysis to reduce the dimensionality\n",
    "    pca_ = PCA(n_components=2)\n",
    "    pca_col = pca_.fit_transform(BoW.toarray())\n",
    "    \n",
    "    # Save the vectorizer and pca for later use with the test data\n",
    "    pickle.dump(vectorizer, open(f'encoders/vectorizer_{col}.pkl', 'wb'))\n",
    "    pickle.dump(pca_, open(f'encoders/pca_{col}.pkl', 'wb'))\n",
    "\n",
    "    # Add the PCA-transformed col to the original dataframe\n",
    "    for feat in range(len(pca_col[0])):\n",
    "        _df[f'{col}_PCA_{feat}'] = pca_col[:, feat]\n",
    "        \n",
    "    return _df\n",
    "\n"
   ]
  },
  {
   "cell_type": "code",
   "execution_count": 18,
   "metadata": {},
   "outputs": [],
   "source": [
    "sia_name = SentimentIntensityAnalyzer()\n",
    "pickle.dump(sia_name, open('encoders/sia_name.pkl', 'wb'))\n",
    "\n",
    "sia_sub = SentimentIntensityAnalyzer()\n",
    "pickle.dump(sia_sub, open('encoders/sia_sub.pkl', 'wb'))\n",
    "\n",
    "# load the Sentiment Intensity Analyzer model from NLTK\n",
    "sia_desc = SentimentIntensityAnalyzer()\n",
    "pickle.dump(sia_desc, open('encoders/sia_desc.pkl', 'wb'))\n",
    "\n",
    "tokenizer = nltk.word_tokenize\n",
    "pickle.dump(nltk.word_tokenize, open('encoders/nltk_word_tokenize.pkl', 'wb'))"
   ]
  },
  {
   "attachments": {},
   "cell_type": "markdown",
   "metadata": {},
   "source": [
    "## Description preprocessing"
   ]
  },
  {
   "cell_type": "code",
   "execution_count": 19,
   "metadata": {},
   "outputs": [],
   "source": [
    "\n",
    "def compute_excitement_score(text, _sia):\n",
    "    \n",
    "    # compute the polarity scores for the given text\n",
    "    scores = _sia.polarity_scores(text)\n",
    "    \n",
    "    # compute the excitement score as the sum of the positive and negative polarity scores\n",
    "    excitement_score = scores['pos'] + abs(scores['neg'])\n",
    "    \n",
    "    return excitement_score\n",
    "\n",
    "# define a function to compute an attractive score from a given text\n",
    "def compute_attractive_score(text):\n",
    "    # define a list of keywords that might make a game attractive to users\n",
    "    attractive_keywords = ['graphics', 'gameplay', 'storyline', 'characters']\n",
    "    \n",
    "    # tokenize the text into words and count how many attractive keywords appear\n",
    "    words = tokenizer(text.lower())\n",
    "    \n",
    "    num_attractive_keywords = len([word for word in words if word in attractive_keywords])\n",
    "    \n",
    "    # compute the attractive score as the ratio of attractive keywords to total words\n",
    "    attractive_score = num_attractive_keywords / len(words) if len(words) > 0 else 0\n",
    "    \n",
    "    return attractive_score\n",
    "\n",
    "def desc_preprocess(_df):\n",
    "    _df['Description'] = _df['Description'].astype(str)\n",
    "    \n",
    "    _df['excitement_score'] = _df['Description'].apply(lambda x : compute_excitement_score(x, sia_desc))\n",
    "    _df['attractive_score'] = _df['Description'].apply(compute_attractive_score)\n",
    "    \n",
    "    return _df\n",
    "\n",
    "def name_preprocess(_df):\n",
    "    _df['Name'] = _df['Name'].astype(str)\n",
    "    _df['name_sia'] = _df['Name'].apply(lambda x : compute_excitement_score(x, sia_name))\n",
    "    \n",
    "    return _df\n",
    "\n",
    "def sub_preprocess(_df):\n",
    "    _df['Subtitle'] = _df['Subtitle'].astype(str)\n",
    "    _df['sub_sia'] = _df['Subtitle'].apply(lambda x : compute_excitement_score(x, sia_sub))\n",
    "    \n",
    "    return _df"
   ]
  },
  {
   "attachments": {},
   "cell_type": "markdown",
   "metadata": {
    "collapsed": false
   },
   "source": [
    "## Icon preprocessing"
   ]
  },
  {
   "cell_type": "code",
   "execution_count": 20,
   "metadata": {
    "ExecuteTime": {
     "end_time": "2023-04-14T10:52:48.299695Z",
     "start_time": "2023-04-14T10:52:13.578629Z"
    },
    "collapsed": false
   },
   "outputs": [],
   "source": [
    "def preprocess_icon(img_path):\n",
    "    # Load the game icon image\n",
    "    img = cv2.imread(img_path)\n",
    "    img = cv2.resize(img, (100, 100))\n",
    "\n",
    "    # Extract color features using color histograms\n",
    "    colors = ('b', 'g', 'r')\n",
    "    color_features = []\n",
    "    for k, col in enumerate(colors):\n",
    "        hist = cv2.calcHist([img], [k], None, [256], [0, 256])\n",
    "        color_features.append(hist)\n",
    "\n",
    "    # Reshape the color features to have a single dimension\n",
    "    color_features = np.concatenate(color_features).ravel()\n",
    "\n",
    "    # Extract shape features using edge detection\n",
    "    gray = cv2.cvtColor(img, cv2.COLOR_BGR2GRAY)\n",
    "    edges = cv2.Canny(gray, 100, 200)\n",
    "    edge_features = np.array(edges).flatten()\n",
    "\n",
    "    # Combine the color and shape features into a single feature vector\n",
    "    feature_vector = np.concatenate((color_features, edge_features))\n",
    "\n",
    "    # Normalize the feature vector to have unit length\n",
    "    normalized_feature_vector = feature_vector / np.linalg.norm(feature_vector)\n",
    "    \n",
    "    return normalized_feature_vector\n"
   ]
  },
  {
   "cell_type": "code",
   "execution_count": 21,
   "metadata": {},
   "outputs": [],
   "source": [
    "def icons_preprocess(_df):\n",
    "\n",
    "    # Create a list to store the feature vectors\n",
    "    icon_features = []\n",
    "\n",
    "    _df['Icon URL'] = _df['Icon URL'].astype(str)\n",
    "\n",
    "    # Iterate over the images and extract the features\n",
    "    for i, row in tqdm(_df.iterrows(), total=_df.shape[0]):\n",
    "        feature_vec = preprocess_icon(row['Icon URL'])\n",
    "        icon_features.append((row['Icon URL'], feature_vec))\n",
    "        \n",
    "    # Apply PCA to reduce the number of features\n",
    "    pca = PCA(n_components=4)\n",
    "    pca.fit([f[1] for f in icon_features])\n",
    "    reduced_features = pca.transform([f[1] for f in icon_features])\n",
    "\n",
    "    # Save the pca instance for later use\n",
    "    pickle.dump(pca, open('encoders/icon_pca.pkl', 'wb'))\n",
    "\n",
    "    # Convert the reduced features to a dataframe\n",
    "    icon_features_df = pd.DataFrame({'Icon URL': [f[0] for f in icon_features],\n",
    "                                        'Icon1': reduced_features[:,0],\n",
    "                                        'Icon2': reduced_features[:,1],\n",
    "                                        'Icon3': reduced_features[:,2],\n",
    "                                        'Icon4': reduced_features[:,3]})\n",
    "    \n",
    "    # Merge the icon features with the original dataframe on the icon URL\n",
    "    _df = _df.merge(icon_features_df, on='Icon URL', how='left')\n",
    "    \n",
    "    return _df"
   ]
  },
  {
   "attachments": {},
   "cell_type": "markdown",
   "metadata": {},
   "source": [
    "## Pipeline"
   ]
  },
  {
   "cell_type": "code",
   "execution_count": 25,
   "metadata": {},
   "outputs": [
    {
     "name": "stderr",
     "output_type": "stream",
     "text": [
      "100%|██████████| 2195/2195 [00:09<00:00, 235.93it/s]\n"
     ]
    }
   ],
   "source": [
    "from sklearn.model_selection import train_test_split\n",
    "\n",
    "df, df_test = train_test_split(df_origin, test_size=0.2, random_state=42)\n",
    "df_test.to_csv('df_test.csv', index=False)\n",
    "\n",
    "# drop Primary Genre\n",
    "df.drop(['Primary Genre', 'ID', 'URL'], axis=1, inplace=True)\n",
    "\n",
    "## Justifications\n",
    "\n",
    "### Primary Genre: it is mostly 'Game' (around 98% of the data has 'Game' as the primary genre). It is not useful for the model.\n",
    "### ID: it is just an ID for the apple store database, not useful for the model.\n",
    "### URL: it is the URL of the app in the apple store, not useful for the model.\n",
    "\n",
    "df = date_preprocess(df)\n",
    "\n",
    "df = dev_preprocess_freq_enc(df)\n",
    "\n",
    "df = dev_preprocess_target_enc(df)\n",
    "\n",
    "df = genres_preprocess_dummies(df)\n",
    "\n",
    "df = langs_preprocess_dummies(df)\n",
    "\n",
    "df = purchases_preprocess(df)\n",
    "\n",
    "df = age_preprocess(df)\n",
    "\n",
    "df = preprocess_nlp(df, 'Description')\n",
    "df = preprocess_nlp(df, 'Subtitle')\n",
    "df = preprocess_nlp(df, 'Name')\n",
    "\n",
    "df = desc_preprocess(df)\n",
    "df = name_preprocess(df)\n",
    "df = sub_preprocess(df)\n",
    "\n",
    "df = reviews_preprocess(df)\n",
    "\n",
    "df = icons_preprocess(df)\n",
    "\n",
    "df = df.drop(['Developer',\n",
    "              'Original Release Date',\n",
    "              'Current Version Release Date',\n",
    "              'Genres',\n",
    "              'Languages',\n",
    "              'Reviews',\n",
    "              'In-app Purchases',\n",
    "              'Description',\n",
    "              'Subtitle',\n",
    "              'Name', \n",
    "              'Icon URL'], axis=1)\n",
    "\n",
    "# Save the preprocessed data\n",
    "df.to_csv('preprocessed_data.csv', index=False)"
   ]
  },
  {
   "cell_type": "code",
   "execution_count": null,
   "metadata": {},
   "outputs": [],
   "source": [
    "nltk.download()"
   ]
  },
  {
   "attachments": {},
   "cell_type": "markdown",
   "metadata": {},
   "source": [
    "## Scaling and Model Training"
   ]
  },
  {
   "cell_type": "code",
   "execution_count": 72,
   "metadata": {},
   "outputs": [],
   "source": [
    "df = pd.read_csv('preprocessed_data.csv')"
   ]
  },
  {
   "cell_type": "code",
   "execution_count": null,
   "metadata": {},
   "outputs": [],
   "source": [
    "def eliminate_outliers(_df):\n",
    "\n",
    "    # Calculate Z-scores for each data point\n",
    "    z_scores = np.abs(stats.zscore(_df))\n",
    "\n",
    "    # Define a threshold to identify an outlier\n",
    "    threshold = 3\n",
    "\n",
    "    # Get a list of row numbers which are outliers\n",
    "    outlier_rows = np.where(z_scores > threshold)[0]\n",
    "\n",
    "    print(f'Number of outliers: {len(outlier_rows)}')\n",
    "\n",
    "    # Replace the outliers with the mean\n",
    "    mean_values = np.mean(_df[~((z_scores > threshold).any(axis=1))], axis=0)\n",
    "    _df[~((z_scores > threshold).any(axis=1))] = _df[~((z_scores > threshold).any(axis=1))].fillna(mean_values)\n",
    "    \n",
    "    return _df"
   ]
  },
  {
   "cell_type": "code",
   "execution_count": 73,
   "metadata": {},
   "outputs": [],
   "source": [
    "df_x = df.drop(['Average User Rating'], axis=1)\n",
    "df_y = df['Average User Rating']"
   ]
  },
  {
   "attachments": {},
   "cell_type": "markdown",
   "metadata": {},
   "source": [
    "### Feature Scaling"
   ]
  },
  {
   "cell_type": "code",
   "execution_count": 74,
   "metadata": {},
   "outputs": [],
   "source": [
    "# Scale the features\n",
    "from sklearn.preprocessing import StandardScaler, MinMaxScaler\n",
    "\n",
    "def scale_data_std(_df):\n",
    "    cols = _df.columns\n",
    "    scaler = StandardScaler()\n",
    "    _df = scaler.fit_transform(_df)\n",
    "    \n",
    "    # Save the scaler\n",
    "    pickle.dump(scaler, open('scalers/std_scaler.pkl', 'wb'))\n",
    "    \n",
    "    _df = pd.DataFrame(_df, columns=cols)\n",
    "    return _df\n",
    "\n",
    "def scale_data_minmax(_df):\n",
    "    cols = _df.columns\n",
    "    scaler = MinMaxScaler()\n",
    "    _df = scaler.fit_transform(_df)\n",
    "    \n",
    "    # Save the scaler\n",
    "    pickle.dump(scaler, open('scalers/minmax_scaler.pkl', 'wb'))\n",
    "    \n",
    "    _df = pd.DataFrame(_df, columns=cols)\n",
    "    return _df\n"
   ]
  },
  {
   "cell_type": "code",
   "execution_count": null,
   "metadata": {},
   "outputs": [],
   "source": [
    "# sns.heatmap(df_x.corr(), annot=True, fmt='.2f', cmap='coolwarm')"
   ]
  },
  {
   "cell_type": "code",
   "execution_count": 75,
   "metadata": {},
   "outputs": [
    {
     "data": {
      "text/plain": [
       "<AxesSubplot: >"
      ]
     },
     "execution_count": 75,
     "metadata": {},
     "output_type": "execute_result"
    },
    {
     "data": {
      "image/png": "[encoded data removed]",
      "text/plain": [
       "<Figure size 1000x1000 with 1 Axes>"
      ]
     },
     "metadata": {},
     "output_type": "display_data"
    }
   ],
   "source": [
    "# plot correlation matrix between features and target\n",
    "import seaborn as sns\n",
    "import matplotlib.pyplot as plt\n",
    "\n",
    "corr = df_x.corrwith(df_y)\n",
    "corr = corr.sort_values(ascending=False)\n",
    "\n",
    "plt.figure(figsize=(10, 10))\n",
    "sns.barplot(x=corr.values, y=corr.index)\n",
    "# plt.show()"
   ]
  },
  {
   "attachments": {},
   "cell_type": "markdown",
   "metadata": {},
   "source": [
    "### Feature Selection"
   ]
  },
  {
   "cell_type": "code",
   "execution_count": 76,
   "metadata": {},
   "outputs": [],
   "source": [
    "df_x = scale_data_std(df_x)\n",
    "\n",
    "# Feature selection\n",
    "from sklearn.feature_selection import SelectKBest, f_regression\n",
    "selector = SelectKBest(f_regression, k=10)\n",
    "df_x_select =  selector.fit_transform(df_x, df_y)\n",
    "\n",
    "# Save the selector\n",
    "pickle.dump(selector, open('encoders/selector.pkl', 'wb'))"
   ]
  },
  {
   "cell_type": "code",
   "execution_count": 77,
   "metadata": {},
   "outputs": [
    {
     "name": "stdout",
     "output_type": "stream",
     "text": [
      "game_age\n",
      "last_update\n",
      "dev_avg\n",
      "genre_Board\n",
      "purchases_count\n",
      "highest_purchase\n",
      "sub_sia\n",
      "lowest_review\n",
      "highest_review\n",
      "average_review\n"
     ]
    }
   ],
   "source": [
    "# Print the selected features\n",
    "for i in range(len(selector.get_support())): \n",
    "    if selector.get_support()[i]:\n",
    "        print(df_x.columns[i])"
   ]
  },
  {
   "attachments": {},
   "cell_type": "markdown",
   "metadata": {},
   "source": [
    "### Linear Regression"
   ]
  },
  {
   "cell_type": "code",
   "execution_count": 78,
   "metadata": {},
   "outputs": [],
   "source": [
    "from sklearn.linear_model import LinearRegression, Ridge, Lasso, ElasticNet\n",
    "from sklearn.preprocessing import PolynomialFeatures\n",
    "from sklearn.metrics import mean_squared_error, r2_score\n"
   ]
  },
  {
   "cell_type": "code",
   "execution_count": 79,
   "metadata": {
    "ExecuteTime": {
     "end_time": "2023-04-14T14:40:09.683179Z",
     "start_time": "2023-04-14T14:40:09.629559Z"
    },
    "collapsed": false
   },
   "outputs": [
    {
     "name": "stdout",
     "output_type": "stream",
     "text": [
      "Training MSE:  0.27267100640017905\n",
      "Training R2:  0.3624502144708158\n"
     ]
    }
   ],
   "source": [
    "# Create a linear regression model\n",
    "model = LinearRegression()\n",
    "\n",
    "# Train the model\n",
    "model.fit(df_x_select, df_y)\n",
    "\n",
    "# Print the training MSE and R2 score\n",
    "print('Training MSE: ', mean_squared_error(df_y, model.predict(df_x_select)))\n",
    "print('Training R2: ', r2_score(df_y, model.predict(df_x_select)))\n",
    "\n",
    "# Save the model\n",
    "pickle.dump(model, open('models/LR_model.pkl', 'wb'))\n",
    "\n"
   ]
  },
  {
   "attachments": {},
   "cell_type": "markdown",
   "metadata": {},
   "source": [
    "### Ridge Regression"
   ]
  },
  {
   "cell_type": "code",
   "execution_count": 80,
   "metadata": {
    "ExecuteTime": {
     "end_time": "2023-04-14T11:00:32.712100Z",
     "start_time": "2023-04-14T11:00:32.642347Z"
    },
    "collapsed": false
   },
   "outputs": [
    {
     "name": "stdout",
     "output_type": "stream",
     "text": [
      "Training MSE:  0.272700254765877\n",
      "Training R2:  0.36238182696778054\n"
     ]
    }
   ],
   "source": [
    "# Create a ridge regression model\n",
    "model = Ridge(alpha=20)\n",
    "\n",
    "# Train the model\n",
    "model.fit(df_x_select, df_y)\n",
    "\n",
    "# Print the training MSE and R2 score\n",
    "print('Training MSE: ', mean_squared_error(df_y, model.predict(df_x_select)))\n",
    "print('Training R2: ', r2_score(df_y, model.predict(df_x_select)))\n",
    "\n",
    "# Save the model\n",
    "pickle.dump(model, open('models/Ridge_model.pkl', 'wb'))\n"
   ]
  },
  {
   "attachments": {},
   "cell_type": "markdown",
   "metadata": {},
   "source": [
    "### Lasso Regression"
   ]
  },
  {
   "cell_type": "code",
   "execution_count": 81,
   "metadata": {
    "ExecuteTime": {
     "end_time": "2023-04-14T11:00:35.138470Z",
     "start_time": "2023-04-14T11:00:35.102309Z"
    },
    "collapsed": false
   },
   "outputs": [
    {
     "name": "stdout",
     "output_type": "stream",
     "text": [
      "Training MSE:  0.2727011480549583\n",
      "Training R2:  0.36237973831057524\n"
     ]
    }
   ],
   "source": [
    "# Create a lasso regression model\n",
    "model = Lasso(alpha=0.001)\n",
    "\n",
    "# Train the model\n",
    "model.fit(df_x_select, df_y)\n",
    "\n",
    "print('Training MSE: ', mean_squared_error(df_y, model.predict(df_x_select)))\n",
    "print('Training R2: ', r2_score(df_y, model.predict(df_x_select)))\n",
    "\n",
    "# Save the model\n",
    "pickle.dump(model, open('models/Lasso_model.pkl', 'wb'))\n"
   ]
  },
  {
   "attachments": {},
   "cell_type": "markdown",
   "metadata": {},
   "source": [
    "### Elastic Net Regression"
   ]
  },
  {
   "cell_type": "code",
   "execution_count": 82,
   "metadata": {
    "ExecuteTime": {
     "end_time": "2023-04-14T11:00:37.282470Z",
     "start_time": "2023-04-14T11:00:37.226872Z"
    },
    "collapsed": false
   },
   "outputs": [
    {
     "name": "stdout",
     "output_type": "stream",
     "text": [
      "Training MSE:  0.2726800994461322\n",
      "Training R2:  0.36242895342963\n"
     ]
    }
   ],
   "source": [
    "# Create an elastic net regression model\n",
    "model = ElasticNet(alpha=0.001)\n",
    "\n",
    "# Train the model\n",
    "model.fit(df_x_select, df_y)\n",
    "\n",
    "print('Training MSE: ', mean_squared_error(df_y, model.predict(df_x_select)))\n",
    "print('Training R2: ', r2_score(df_y, model.predict(df_x_select)))\n",
    "\n",
    "# Save the model\n",
    "pickle.dump(model, open('models/ElasticNet_model.pkl', 'wb'))\n"
   ]
  },
  {
   "attachments": {},
   "cell_type": "markdown",
   "metadata": {},
   "source": [
    "### Polynomial Regression"
   ]
  },
  {
   "cell_type": "code",
   "execution_count": 83,
   "metadata": {
    "ExecuteTime": {
     "end_time": "2023-04-14T11:02:11.403793Z",
     "start_time": "2023-04-14T11:00:55.155863Z"
    },
    "collapsed": false
   },
   "outputs": [
    {
     "name": "stdout",
     "output_type": "stream",
     "text": [
      "Training MSE:  0.25205111505078476\n",
      "Training R2:  0.41066292135519833\n"
     ]
    }
   ],
   "source": [
    "# Create a polynomial regression model\n",
    "poly = PolynomialFeatures(degree=2)\n",
    "X_train_poly = poly.fit_transform(df_x_select)\n",
    "\n",
    "# Save the polynomial features\n",
    "pickle.dump(poly, open('encoders/poly.pkl', 'wb'))\n",
    "\n",
    "# Train the model\n",
    "model = LinearRegression()\n",
    "model.fit(X_train_poly, df_y)\n",
    "\n",
    "print('Training MSE: ', mean_squared_error(df_y, model.predict(X_train_poly)))\n",
    "print('Training R2: ', r2_score(df_y, model.predict(X_train_poly)))\n",
    "\n",
    "# Save the model\n",
    "pickle.dump(model, open('models/Polynomial_model.pkl', 'wb'))\n"
   ]
  },
  {
   "attachments": {},
   "cell_type": "markdown",
   "metadata": {},
   "source": [
    "### XGBoost"
   ]
  },
  {
   "cell_type": "code",
   "execution_count": 84,
   "metadata": {},
   "outputs": [
    {
     "name": "stdout",
     "output_type": "stream",
     "text": [
      "Training MSE:  0.20153257300047184\n",
      "Training R2:  0.5287836048654746\n"
     ]
    }
   ],
   "source": [
    "# Create an XGBoost model\n",
    "\n",
    "import xgboost as xgb\n",
    "\n",
    "model = xgb.XGBRegressor(n_estimators=100, learning_rate=0.1, max_depth=3)\n",
    "model.fit(df_x_select, df_y)\n",
    "\n",
    "print('Training MSE: ', mean_squared_error(df_y, model.predict(df_x_select)))\n",
    "print('Training R2: ', r2_score(df_y, model.predict(df_x_select)))\n",
    "\n",
    "# Save the model\n",
    "pickle.dump(model, open('models/XGBoost_model.pkl', 'wb'))"
   ]
  },
  {
   "attachments": {},
   "cell_type": "markdown",
   "metadata": {},
   "source": [
    "### Gradient Boosting"
   ]
  },
  {
   "cell_type": "code",
   "execution_count": 85,
   "metadata": {},
   "outputs": [
    {
     "name": "stdout",
     "output_type": "stream",
     "text": [
      "Training MSE:  0.195811821821976\n",
      "Training R2:  0.5421596646639375\n"
     ]
    }
   ],
   "source": [
    "# Create a Gradient Boosting model\n",
    "\n",
    "from sklearn.ensemble import GradientBoostingRegressor\n",
    "\n",
    "model = GradientBoostingRegressor(learning_rate=0.1)\n",
    "\n",
    "# Train the model\n",
    "model.fit(df_x_select, df_y)\n",
    "\n",
    "# Print the training MSE and R2 score\n",
    "print('Training MSE: ', mean_squared_error(df_y, model.predict(df_x_select)))\n",
    "print('Training R2: ', r2_score(df_y, model.predict(df_x_select)))\n",
    "\n",
    "# Save the model\n",
    "pickle.dump(model, open('models/GradientBoosting_model.pkl', 'wb'))"
   ]
  },
  {
   "attachments": {},
   "cell_type": "markdown",
   "metadata": {},
   "source": [
    "### Random Forest Regression"
   ]
  },
  {
   "cell_type": "code",
   "execution_count": 86,
   "metadata": {},
   "outputs": [
    {
     "name": "stdout",
     "output_type": "stream",
     "text": [
      "Training MSE:  0.23371267262380313\n",
      "Training R2:  0.4535412243717736\n"
     ]
    }
   ],
   "source": [
    "# Create a Random Forest Regressor model\n",
    "\n",
    "from sklearn.ensemble import RandomForestRegressor\n",
    "\n",
    "model = RandomForestRegressor(max_depth=5)\n",
    "\n",
    "# Train the model\n",
    "model.fit(df_x_select, df_y)\n",
    "\n",
    "# Print the training MSE and R2 score\n",
    "print('Training MSE: ', mean_squared_error(df_y, model.predict(df_x_select)))\n",
    "print('Training R2: ', r2_score(df_y, model.predict(df_x_select)))\n",
    "\n",
    "# Save the model\n",
    "pickle.dump(model, open('models/RandomForest_model.pkl', 'wb'))"
   ]
  },
  {
   "cell_type": "code",
   "execution_count": 87,
   "metadata": {},
   "outputs": [
    {
     "name": "stdout",
     "output_type": "stream",
     "text": [
      "0:\tlearn: 0.6421283\ttotal: 45.4ms\tremaining: 45.3s\n",
      "1:\tlearn: 0.6307317\ttotal: 46.6ms\tremaining: 23.3s\n",
      "2:\tlearn: 0.6212248\ttotal: 47.6ms\tremaining: 15.8s\n",
      "3:\tlearn: 0.6119018\ttotal: 48.8ms\tremaining: 12.2s\n",
      "4:\tlearn: 0.6043669\ttotal: 49.9ms\tremaining: 9.94s\n",
      "5:\tlearn: 0.5953075\ttotal: 51ms\tremaining: 8.45s\n",
      "6:\tlearn: 0.5890790\ttotal: 52.3ms\tremaining: 7.42s\n",
      "7:\tlearn: 0.5826179\ttotal: 53.4ms\tremaining: 6.62s\n",
      "8:\tlearn: 0.5766734\ttotal: 54.4ms\tremaining: 5.99s\n",
      "9:\tlearn: 0.5715921\ttotal: 55.6ms\tremaining: 5.51s\n",
      "10:\tlearn: 0.5661232\ttotal: 56.7ms\tremaining: 5.1s\n",
      "11:\tlearn: 0.5624434\ttotal: 57.7ms\tremaining: 4.75s\n",
      "12:\tlearn: 0.5575662\ttotal: 58.8ms\tremaining: 4.47s\n",
      "13:\tlearn: 0.5534918\ttotal: 60.2ms\tremaining: 4.24s\n",
      "14:\tlearn: 0.5490127\ttotal: 61.4ms\tremaining: 4.03s\n",
      "15:\tlearn: 0.5453201\ttotal: 62.9ms\tremaining: 3.87s\n",
      "16:\tlearn: 0.5421319\ttotal: 64ms\tremaining: 3.7s\n",
      "17:\tlearn: 0.5391185\ttotal: 65ms\tremaining: 3.55s\n",
      "18:\tlearn: 0.5360794\ttotal: 66ms\tremaining: 3.41s\n",
      "19:\tlearn: 0.5340655\ttotal: 67.1ms\tremaining: 3.29s\n",
      "20:\tlearn: 0.5314261\ttotal: 68.1ms\tremaining: 3.18s\n",
      "21:\tlearn: 0.5287750\ttotal: 69.2ms\tremaining: 3.08s\n",
      "22:\tlearn: 0.5265661\ttotal: 70.4ms\tremaining: 2.99s\n",
      "23:\tlearn: 0.5250971\ttotal: 71.5ms\tremaining: 2.91s\n",
      "24:\tlearn: 0.5236073\ttotal: 72.6ms\tremaining: 2.83s\n",
      "25:\tlearn: 0.5219197\ttotal: 73.7ms\tremaining: 2.76s\n",
      "26:\tlearn: 0.5204937\ttotal: 74.8ms\tremaining: 2.7s\n",
      "27:\tlearn: 0.5190107\ttotal: 76.1ms\tremaining: 2.64s\n",
      "28:\tlearn: 0.5175163\ttotal: 77.2ms\tremaining: 2.59s\n",
      "29:\tlearn: 0.5162167\ttotal: 78.3ms\tremaining: 2.53s\n",
      "30:\tlearn: 0.5150505\ttotal: 79.4ms\tremaining: 2.48s\n",
      "31:\tlearn: 0.5135293\ttotal: 80.5ms\tremaining: 2.44s\n",
      "32:\tlearn: 0.5124509\ttotal: 81.6ms\tremaining: 2.39s\n",
      "33:\tlearn: 0.5111079\ttotal: 82.6ms\tremaining: 2.35s\n",
      "34:\tlearn: 0.5099690\ttotal: 83.7ms\tremaining: 2.31s\n",
      "35:\tlearn: 0.5088578\ttotal: 84.8ms\tremaining: 2.27s\n",
      "36:\tlearn: 0.5079379\ttotal: 85.8ms\tremaining: 2.23s\n",
      "37:\tlearn: 0.5069737\ttotal: 86.9ms\tremaining: 2.2s\n",
      "38:\tlearn: 0.5061675\ttotal: 88.3ms\tremaining: 2.17s\n",
      "39:\tlearn: 0.5051298\ttotal: 89.8ms\tremaining: 2.15s\n",
      "40:\tlearn: 0.5044093\ttotal: 91.2ms\tremaining: 2.13s\n",
      "41:\tlearn: 0.5035814\ttotal: 92.5ms\tremaining: 2.11s\n",
      "42:\tlearn: 0.5024436\ttotal: 93.6ms\tremaining: 2.08s\n",
      "43:\tlearn: 0.5019891\ttotal: 94.5ms\tremaining: 2.05s\n",
      "44:\tlearn: 0.5010043\ttotal: 95.6ms\tremaining: 2.03s\n",
      "45:\tlearn: 0.5003534\ttotal: 96.6ms\tremaining: 2s\n",
      "46:\tlearn: 0.4996313\ttotal: 97.7ms\tremaining: 1.98s\n",
      "47:\tlearn: 0.4987861\ttotal: 98.8ms\tremaining: 1.96s\n",
      "48:\tlearn: 0.4983048\ttotal: 99.9ms\tremaining: 1.94s\n",
      "49:\tlearn: 0.4977613\ttotal: 101ms\tremaining: 1.92s\n",
      "50:\tlearn: 0.4971434\ttotal: 102ms\tremaining: 1.9s\n",
      "51:\tlearn: 0.4968702\ttotal: 103ms\tremaining: 1.88s\n",
      "52:\tlearn: 0.4964307\ttotal: 104ms\tremaining: 1.86s\n",
      "53:\tlearn: 0.4959301\ttotal: 105ms\tremaining: 1.85s\n",
      "54:\tlearn: 0.4953818\ttotal: 107ms\tremaining: 1.83s\n",
      "55:\tlearn: 0.4949190\ttotal: 108ms\tremaining: 1.82s\n",
      "56:\tlearn: 0.4945792\ttotal: 109ms\tremaining: 1.81s\n",
      "57:\tlearn: 0.4940815\ttotal: 110ms\tremaining: 1.79s\n",
      "58:\tlearn: 0.4935364\ttotal: 111ms\tremaining: 1.78s\n",
      "59:\tlearn: 0.4926717\ttotal: 113ms\tremaining: 1.76s\n",
      "60:\tlearn: 0.4921048\ttotal: 114ms\tremaining: 1.75s\n",
      "61:\tlearn: 0.4917611\ttotal: 115ms\tremaining: 1.73s\n",
      "62:\tlearn: 0.4912398\ttotal: 116ms\tremaining: 1.72s\n",
      "63:\tlearn: 0.4903743\ttotal: 117ms\tremaining: 1.71s\n",
      "64:\tlearn: 0.4897970\ttotal: 119ms\tremaining: 1.71s\n",
      "65:\tlearn: 0.4892927\ttotal: 120ms\tremaining: 1.7s\n",
      "66:\tlearn: 0.4889019\ttotal: 121ms\tremaining: 1.69s\n",
      "67:\tlearn: 0.4884770\ttotal: 123ms\tremaining: 1.68s\n",
      "68:\tlearn: 0.4880054\ttotal: 124ms\tremaining: 1.67s\n",
      "69:\tlearn: 0.4875057\ttotal: 125ms\tremaining: 1.66s\n",
      "70:\tlearn: 0.4869767\ttotal: 126ms\tremaining: 1.65s\n",
      "71:\tlearn: 0.4865373\ttotal: 127ms\tremaining: 1.64s\n",
      "72:\tlearn: 0.4860874\ttotal: 128ms\tremaining: 1.63s\n",
      "73:\tlearn: 0.4858215\ttotal: 130ms\tremaining: 1.62s\n",
      "74:\tlearn: 0.4852450\ttotal: 131ms\tremaining: 1.61s\n",
      "75:\tlearn: 0.4849627\ttotal: 132ms\tremaining: 1.6s\n",
      "76:\tlearn: 0.4846536\ttotal: 133ms\tremaining: 1.59s\n",
      "77:\tlearn: 0.4842736\ttotal: 134ms\tremaining: 1.59s\n",
      "78:\tlearn: 0.4840551\ttotal: 135ms\tremaining: 1.58s\n",
      "79:\tlearn: 0.4835794\ttotal: 137ms\tremaining: 1.57s\n",
      "80:\tlearn: 0.4830722\ttotal: 138ms\tremaining: 1.57s\n",
      "81:\tlearn: 0.4829345\ttotal: 139ms\tremaining: 1.56s\n",
      "82:\tlearn: 0.4824860\ttotal: 141ms\tremaining: 1.55s\n",
      "83:\tlearn: 0.4819057\ttotal: 142ms\tremaining: 1.54s\n",
      "84:\tlearn: 0.4817504\ttotal: 143ms\tremaining: 1.53s\n",
      "85:\tlearn: 0.4813113\ttotal: 144ms\tremaining: 1.53s\n",
      "86:\tlearn: 0.4807155\ttotal: 145ms\tremaining: 1.52s\n",
      "87:\tlearn: 0.4803913\ttotal: 146ms\tremaining: 1.52s\n",
      "88:\tlearn: 0.4800479\ttotal: 148ms\tremaining: 1.51s\n",
      "89:\tlearn: 0.4796095\ttotal: 149ms\tremaining: 1.5s\n",
      "90:\tlearn: 0.4787669\ttotal: 150ms\tremaining: 1.5s\n",
      "91:\tlearn: 0.4785751\ttotal: 151ms\tremaining: 1.49s\n",
      "92:\tlearn: 0.4783668\ttotal: 152ms\tremaining: 1.48s\n",
      "93:\tlearn: 0.4781498\ttotal: 153ms\tremaining: 1.48s\n",
      "94:\tlearn: 0.4778983\ttotal: 155ms\tremaining: 1.47s\n",
      "95:\tlearn: 0.4774750\ttotal: 156ms\tremaining: 1.47s\n",
      "96:\tlearn: 0.4770036\ttotal: 157ms\tremaining: 1.46s\n",
      "97:\tlearn: 0.4768579\ttotal: 158ms\tremaining: 1.45s\n",
      "98:\tlearn: 0.4767375\ttotal: 159ms\tremaining: 1.45s\n",
      "99:\tlearn: 0.4764285\ttotal: 160ms\tremaining: 1.44s\n",
      "100:\tlearn: 0.4761271\ttotal: 161ms\tremaining: 1.43s\n",
      "101:\tlearn: 0.4758820\ttotal: 162ms\tremaining: 1.43s\n",
      "102:\tlearn: 0.4755778\ttotal: 163ms\tremaining: 1.42s\n",
      "103:\tlearn: 0.4754220\ttotal: 164ms\tremaining: 1.42s\n",
      "104:\tlearn: 0.4750465\ttotal: 166ms\tremaining: 1.41s\n",
      "105:\tlearn: 0.4747386\ttotal: 167ms\tremaining: 1.41s\n",
      "106:\tlearn: 0.4742031\ttotal: 168ms\tremaining: 1.4s\n",
      "107:\tlearn: 0.4740499\ttotal: 169ms\tremaining: 1.4s\n",
      "108:\tlearn: 0.4737840\ttotal: 170ms\tremaining: 1.39s\n",
      "109:\tlearn: 0.4735009\ttotal: 171ms\tremaining: 1.39s\n",
      "110:\tlearn: 0.4732778\ttotal: 172ms\tremaining: 1.38s\n",
      "111:\tlearn: 0.4731467\ttotal: 174ms\tremaining: 1.38s\n",
      "112:\tlearn: 0.4727030\ttotal: 175ms\tremaining: 1.37s\n",
      "113:\tlearn: 0.4723155\ttotal: 176ms\tremaining: 1.37s\n",
      "114:\tlearn: 0.4720195\ttotal: 177ms\tremaining: 1.36s\n",
      "115:\tlearn: 0.4715089\ttotal: 178ms\tremaining: 1.36s\n",
      "116:\tlearn: 0.4711685\ttotal: 179ms\tremaining: 1.35s\n",
      "117:\tlearn: 0.4708006\ttotal: 181ms\tremaining: 1.35s\n",
      "118:\tlearn: 0.4703961\ttotal: 182ms\tremaining: 1.35s\n",
      "119:\tlearn: 0.4701406\ttotal: 183ms\tremaining: 1.34s\n",
      "120:\tlearn: 0.4696295\ttotal: 184ms\tremaining: 1.34s\n",
      "121:\tlearn: 0.4690901\ttotal: 185ms\tremaining: 1.33s\n",
      "122:\tlearn: 0.4687571\ttotal: 187ms\tremaining: 1.33s\n",
      "123:\tlearn: 0.4684725\ttotal: 188ms\tremaining: 1.32s\n",
      "124:\tlearn: 0.4682985\ttotal: 189ms\tremaining: 1.32s\n",
      "125:\tlearn: 0.4680776\ttotal: 190ms\tremaining: 1.32s\n",
      "126:\tlearn: 0.4677790\ttotal: 191ms\tremaining: 1.31s\n",
      "127:\tlearn: 0.4676958\ttotal: 192ms\tremaining: 1.31s\n",
      "128:\tlearn: 0.4673130\ttotal: 194ms\tremaining: 1.31s\n",
      "129:\tlearn: 0.4671269\ttotal: 195ms\tremaining: 1.3s\n",
      "130:\tlearn: 0.4668672\ttotal: 196ms\tremaining: 1.3s\n",
      "131:\tlearn: 0.4665282\ttotal: 197ms\tremaining: 1.3s\n",
      "132:\tlearn: 0.4662536\ttotal: 198ms\tremaining: 1.29s\n",
      "133:\tlearn: 0.4661057\ttotal: 199ms\tremaining: 1.29s\n",
      "134:\tlearn: 0.4658682\ttotal: 201ms\tremaining: 1.28s\n",
      "135:\tlearn: 0.4655376\ttotal: 202ms\tremaining: 1.28s\n",
      "136:\tlearn: 0.4652826\ttotal: 203ms\tremaining: 1.28s\n",
      "137:\tlearn: 0.4649761\ttotal: 204ms\tremaining: 1.27s\n",
      "138:\tlearn: 0.4646808\ttotal: 205ms\tremaining: 1.27s\n",
      "139:\tlearn: 0.4644593\ttotal: 206ms\tremaining: 1.27s\n",
      "140:\tlearn: 0.4640665\ttotal: 208ms\tremaining: 1.26s\n",
      "141:\tlearn: 0.4635716\ttotal: 209ms\tremaining: 1.26s\n",
      "142:\tlearn: 0.4631790\ttotal: 210ms\tremaining: 1.26s\n",
      "143:\tlearn: 0.4629194\ttotal: 211ms\tremaining: 1.25s\n",
      "144:\tlearn: 0.4627780\ttotal: 212ms\tremaining: 1.25s\n",
      "145:\tlearn: 0.4624697\ttotal: 213ms\tremaining: 1.25s\n",
      "146:\tlearn: 0.4623531\ttotal: 214ms\tremaining: 1.24s\n",
      "147:\tlearn: 0.4620413\ttotal: 216ms\tremaining: 1.24s\n",
      "148:\tlearn: 0.4616062\ttotal: 217ms\tremaining: 1.24s\n",
      "149:\tlearn: 0.4609798\ttotal: 218ms\tremaining: 1.24s\n",
      "150:\tlearn: 0.4608427\ttotal: 219ms\tremaining: 1.23s\n",
      "151:\tlearn: 0.4606497\ttotal: 221ms\tremaining: 1.23s\n",
      "152:\tlearn: 0.4604139\ttotal: 222ms\tremaining: 1.23s\n",
      "153:\tlearn: 0.4602606\ttotal: 223ms\tremaining: 1.23s\n",
      "154:\tlearn: 0.4600714\ttotal: 224ms\tremaining: 1.22s\n",
      "155:\tlearn: 0.4596055\ttotal: 226ms\tremaining: 1.22s\n",
      "156:\tlearn: 0.4592617\ttotal: 227ms\tremaining: 1.22s\n",
      "157:\tlearn: 0.4590079\ttotal: 228ms\tremaining: 1.22s\n",
      "158:\tlearn: 0.4587812\ttotal: 230ms\tremaining: 1.21s\n",
      "159:\tlearn: 0.4586150\ttotal: 231ms\tremaining: 1.21s\n",
      "160:\tlearn: 0.4583144\ttotal: 233ms\tremaining: 1.21s\n",
      "161:\tlearn: 0.4582133\ttotal: 234ms\tremaining: 1.21s\n",
      "162:\tlearn: 0.4579644\ttotal: 235ms\tremaining: 1.21s\n",
      "163:\tlearn: 0.4577421\ttotal: 237ms\tremaining: 1.21s\n",
      "164:\tlearn: 0.4573176\ttotal: 238ms\tremaining: 1.2s\n",
      "165:\tlearn: 0.4570585\ttotal: 240ms\tremaining: 1.2s\n",
      "166:\tlearn: 0.4564586\ttotal: 241ms\tremaining: 1.2s\n",
      "167:\tlearn: 0.4563262\ttotal: 242ms\tremaining: 1.2s\n",
      "168:\tlearn: 0.4559253\ttotal: 244ms\tremaining: 1.2s\n",
      "169:\tlearn: 0.4552983\ttotal: 245ms\tremaining: 1.2s\n",
      "170:\tlearn: 0.4547935\ttotal: 247ms\tremaining: 1.2s\n",
      "171:\tlearn: 0.4544473\ttotal: 248ms\tremaining: 1.2s\n",
      "172:\tlearn: 0.4542146\ttotal: 250ms\tremaining: 1.19s\n",
      "173:\tlearn: 0.4539419\ttotal: 251ms\tremaining: 1.19s\n",
      "174:\tlearn: 0.4536101\ttotal: 252ms\tremaining: 1.19s\n",
      "175:\tlearn: 0.4533414\ttotal: 253ms\tremaining: 1.19s\n",
      "176:\tlearn: 0.4530544\ttotal: 254ms\tremaining: 1.18s\n",
      "177:\tlearn: 0.4527382\ttotal: 256ms\tremaining: 1.18s\n",
      "178:\tlearn: 0.4525726\ttotal: 257ms\tremaining: 1.18s\n",
      "179:\tlearn: 0.4523229\ttotal: 258ms\tremaining: 1.18s\n",
      "180:\tlearn: 0.4518990\ttotal: 259ms\tremaining: 1.17s\n",
      "181:\tlearn: 0.4514759\ttotal: 261ms\tremaining: 1.17s\n",
      "182:\tlearn: 0.4512446\ttotal: 262ms\tremaining: 1.17s\n",
      "183:\tlearn: 0.4508969\ttotal: 263ms\tremaining: 1.17s\n",
      "184:\tlearn: 0.4505613\ttotal: 265ms\tremaining: 1.17s\n",
      "185:\tlearn: 0.4503491\ttotal: 266ms\tremaining: 1.17s\n",
      "186:\tlearn: 0.4499161\ttotal: 268ms\tremaining: 1.16s\n",
      "187:\tlearn: 0.4497075\ttotal: 269ms\tremaining: 1.16s\n",
      "188:\tlearn: 0.4495306\ttotal: 270ms\tremaining: 1.16s\n",
      "189:\tlearn: 0.4492443\ttotal: 271ms\tremaining: 1.16s\n",
      "190:\tlearn: 0.4491089\ttotal: 272ms\tremaining: 1.15s\n",
      "191:\tlearn: 0.4488333\ttotal: 274ms\tremaining: 1.15s\n",
      "192:\tlearn: 0.4482526\ttotal: 275ms\tremaining: 1.15s\n",
      "193:\tlearn: 0.4476501\ttotal: 277ms\tremaining: 1.15s\n",
      "194:\tlearn: 0.4474077\ttotal: 279ms\tremaining: 1.15s\n",
      "195:\tlearn: 0.4470664\ttotal: 280ms\tremaining: 1.15s\n",
      "196:\tlearn: 0.4468531\ttotal: 282ms\tremaining: 1.15s\n",
      "197:\tlearn: 0.4463376\ttotal: 284ms\tremaining: 1.15s\n",
      "198:\tlearn: 0.4461054\ttotal: 285ms\tremaining: 1.15s\n",
      "199:\tlearn: 0.4458497\ttotal: 287ms\tremaining: 1.15s\n",
      "200:\tlearn: 0.4454389\ttotal: 288ms\tremaining: 1.14s\n",
      "201:\tlearn: 0.4451931\ttotal: 289ms\tremaining: 1.14s\n",
      "202:\tlearn: 0.4448891\ttotal: 291ms\tremaining: 1.14s\n",
      "203:\tlearn: 0.4440035\ttotal: 292ms\tremaining: 1.14s\n",
      "204:\tlearn: 0.4437491\ttotal: 294ms\tremaining: 1.14s\n",
      "205:\tlearn: 0.4434768\ttotal: 296ms\tremaining: 1.14s\n",
      "206:\tlearn: 0.4431089\ttotal: 297ms\tremaining: 1.14s\n",
      "207:\tlearn: 0.4426572\ttotal: 298ms\tremaining: 1.14s\n",
      "208:\tlearn: 0.4424059\ttotal: 300ms\tremaining: 1.13s\n",
      "209:\tlearn: 0.4423148\ttotal: 301ms\tremaining: 1.13s\n",
      "210:\tlearn: 0.4420831\ttotal: 302ms\tremaining: 1.13s\n",
      "211:\tlearn: 0.4416665\ttotal: 304ms\tremaining: 1.13s\n",
      "212:\tlearn: 0.4414145\ttotal: 305ms\tremaining: 1.13s\n",
      "213:\tlearn: 0.4412644\ttotal: 307ms\tremaining: 1.13s\n",
      "214:\tlearn: 0.4409476\ttotal: 309ms\tremaining: 1.13s\n",
      "215:\tlearn: 0.4407652\ttotal: 310ms\tremaining: 1.13s\n",
      "216:\tlearn: 0.4403191\ttotal: 312ms\tremaining: 1.12s\n",
      "217:\tlearn: 0.4400156\ttotal: 313ms\tremaining: 1.12s\n",
      "218:\tlearn: 0.4394898\ttotal: 314ms\tremaining: 1.12s\n",
      "219:\tlearn: 0.4391573\ttotal: 316ms\tremaining: 1.12s\n",
      "220:\tlearn: 0.4387231\ttotal: 317ms\tremaining: 1.12s\n",
      "221:\tlearn: 0.4384695\ttotal: 319ms\tremaining: 1.12s\n",
      "222:\tlearn: 0.4382904\ttotal: 320ms\tremaining: 1.12s\n",
      "223:\tlearn: 0.4379237\ttotal: 322ms\tremaining: 1.11s\n",
      "224:\tlearn: 0.4374983\ttotal: 324ms\tremaining: 1.11s\n",
      "225:\tlearn: 0.4371955\ttotal: 325ms\tremaining: 1.11s\n",
      "226:\tlearn: 0.4370596\ttotal: 326ms\tremaining: 1.11s\n",
      "227:\tlearn: 0.4368424\ttotal: 328ms\tremaining: 1.11s\n",
      "228:\tlearn: 0.4367293\ttotal: 329ms\tremaining: 1.11s\n",
      "229:\tlearn: 0.4360970\ttotal: 330ms\tremaining: 1.11s\n",
      "230:\tlearn: 0.4358902\ttotal: 332ms\tremaining: 1.1s\n",
      "231:\tlearn: 0.4357137\ttotal: 333ms\tremaining: 1.1s\n",
      "232:\tlearn: 0.4353539\ttotal: 335ms\tremaining: 1.1s\n",
      "233:\tlearn: 0.4350672\ttotal: 336ms\tremaining: 1.1s\n",
      "234:\tlearn: 0.4348923\ttotal: 338ms\tremaining: 1.1s\n",
      "235:\tlearn: 0.4347486\ttotal: 339ms\tremaining: 1.1s\n",
      "236:\tlearn: 0.4344524\ttotal: 340ms\tremaining: 1.1s\n",
      "237:\tlearn: 0.4341417\ttotal: 342ms\tremaining: 1.09s\n",
      "238:\tlearn: 0.4336835\ttotal: 343ms\tremaining: 1.09s\n",
      "239:\tlearn: 0.4334237\ttotal: 344ms\tremaining: 1.09s\n",
      "240:\tlearn: 0.4331816\ttotal: 346ms\tremaining: 1.09s\n",
      "241:\tlearn: 0.4329511\ttotal: 347ms\tremaining: 1.09s\n",
      "242:\tlearn: 0.4324582\ttotal: 348ms\tremaining: 1.08s\n",
      "243:\tlearn: 0.4322152\ttotal: 350ms\tremaining: 1.08s\n",
      "244:\tlearn: 0.4316207\ttotal: 351ms\tremaining: 1.08s\n",
      "245:\tlearn: 0.4313934\ttotal: 352ms\tremaining: 1.08s\n",
      "246:\tlearn: 0.4312047\ttotal: 354ms\tremaining: 1.08s\n",
      "247:\tlearn: 0.4308916\ttotal: 355ms\tremaining: 1.08s\n",
      "248:\tlearn: 0.4302665\ttotal: 357ms\tremaining: 1.07s\n",
      "249:\tlearn: 0.4301811\ttotal: 358ms\tremaining: 1.07s\n",
      "250:\tlearn: 0.4296070\ttotal: 360ms\tremaining: 1.07s\n",
      "251:\tlearn: 0.4293281\ttotal: 361ms\tremaining: 1.07s\n",
      "252:\tlearn: 0.4291061\ttotal: 362ms\tremaining: 1.07s\n",
      "253:\tlearn: 0.4286556\ttotal: 363ms\tremaining: 1.07s\n",
      "254:\tlearn: 0.4284204\ttotal: 365ms\tremaining: 1.07s\n",
      "255:\tlearn: 0.4281301\ttotal: 367ms\tremaining: 1.06s\n",
      "256:\tlearn: 0.4277916\ttotal: 368ms\tremaining: 1.06s\n",
      "257:\tlearn: 0.4274715\ttotal: 370ms\tremaining: 1.06s\n",
      "258:\tlearn: 0.4273186\ttotal: 373ms\tremaining: 1.06s\n",
      "259:\tlearn: 0.4269353\ttotal: 374ms\tremaining: 1.06s\n",
      "260:\tlearn: 0.4268811\ttotal: 375ms\tremaining: 1.06s\n",
      "261:\tlearn: 0.4265648\ttotal: 377ms\tremaining: 1.06s\n",
      "262:\tlearn: 0.4262938\ttotal: 378ms\tremaining: 1.06s\n",
      "263:\tlearn: 0.4258411\ttotal: 379ms\tremaining: 1.06s\n",
      "264:\tlearn: 0.4256281\ttotal: 381ms\tremaining: 1.05s\n",
      "265:\tlearn: 0.4253501\ttotal: 382ms\tremaining: 1.05s\n",
      "266:\tlearn: 0.4250742\ttotal: 383ms\tremaining: 1.05s\n",
      "267:\tlearn: 0.4247914\ttotal: 385ms\tremaining: 1.05s\n",
      "268:\tlearn: 0.4247453\ttotal: 386ms\tremaining: 1.05s\n",
      "269:\tlearn: 0.4243398\ttotal: 388ms\tremaining: 1.05s\n",
      "270:\tlearn: 0.4241344\ttotal: 389ms\tremaining: 1.05s\n",
      "271:\tlearn: 0.4237468\ttotal: 391ms\tremaining: 1.04s\n",
      "272:\tlearn: 0.4235159\ttotal: 392ms\tremaining: 1.04s\n",
      "273:\tlearn: 0.4231999\ttotal: 393ms\tremaining: 1.04s\n",
      "274:\tlearn: 0.4227972\ttotal: 395ms\tremaining: 1.04s\n",
      "275:\tlearn: 0.4224881\ttotal: 396ms\tremaining: 1.04s\n",
      "276:\tlearn: 0.4223237\ttotal: 397ms\tremaining: 1.04s\n",
      "277:\tlearn: 0.4220210\ttotal: 399ms\tremaining: 1.03s\n",
      "278:\tlearn: 0.4217753\ttotal: 400ms\tremaining: 1.03s\n",
      "279:\tlearn: 0.4214018\ttotal: 401ms\tremaining: 1.03s\n",
      "280:\tlearn: 0.4210352\ttotal: 403ms\tremaining: 1.03s\n",
      "281:\tlearn: 0.4207445\ttotal: 404ms\tremaining: 1.03s\n",
      "282:\tlearn: 0.4203876\ttotal: 406ms\tremaining: 1.03s\n",
      "283:\tlearn: 0.4199253\ttotal: 407ms\tremaining: 1.03s\n",
      "284:\tlearn: 0.4195803\ttotal: 409ms\tremaining: 1.02s\n",
      "285:\tlearn: 0.4193864\ttotal: 410ms\tremaining: 1.02s\n",
      "286:\tlearn: 0.4191999\ttotal: 411ms\tremaining: 1.02s\n",
      "287:\tlearn: 0.4188951\ttotal: 412ms\tremaining: 1.02s\n",
      "288:\tlearn: 0.4187192\ttotal: 414ms\tremaining: 1.02s\n",
      "289:\tlearn: 0.4184760\ttotal: 416ms\tremaining: 1.02s\n",
      "290:\tlearn: 0.4183445\ttotal: 417ms\tremaining: 1.01s\n",
      "291:\tlearn: 0.4178440\ttotal: 418ms\tremaining: 1.01s\n",
      "292:\tlearn: 0.4175844\ttotal: 419ms\tremaining: 1.01s\n",
      "293:\tlearn: 0.4172701\ttotal: 420ms\tremaining: 1.01s\n",
      "294:\tlearn: 0.4170004\ttotal: 422ms\tremaining: 1.01s\n",
      "295:\tlearn: 0.4166276\ttotal: 424ms\tremaining: 1.01s\n",
      "296:\tlearn: 0.4163281\ttotal: 425ms\tremaining: 1.01s\n",
      "297:\tlearn: 0.4161239\ttotal: 426ms\tremaining: 1s\n",
      "298:\tlearn: 0.4157791\ttotal: 428ms\tremaining: 1s\n",
      "299:\tlearn: 0.4155060\ttotal: 429ms\tremaining: 1s\n",
      "300:\tlearn: 0.4152820\ttotal: 430ms\tremaining: 999ms\n",
      "301:\tlearn: 0.4151070\ttotal: 431ms\tremaining: 997ms\n",
      "302:\tlearn: 0.4147693\ttotal: 433ms\tremaining: 995ms\n",
      "303:\tlearn: 0.4146338\ttotal: 434ms\tremaining: 993ms\n",
      "304:\tlearn: 0.4142009\ttotal: 435ms\tremaining: 991ms\n",
      "305:\tlearn: 0.4139386\ttotal: 436ms\tremaining: 989ms\n",
      "306:\tlearn: 0.4137804\ttotal: 437ms\tremaining: 987ms\n",
      "307:\tlearn: 0.4135511\ttotal: 439ms\tremaining: 985ms\n",
      "308:\tlearn: 0.4131358\ttotal: 440ms\tremaining: 984ms\n",
      "309:\tlearn: 0.4129613\ttotal: 441ms\tremaining: 982ms\n",
      "310:\tlearn: 0.4128666\ttotal: 442ms\tremaining: 980ms\n",
      "311:\tlearn: 0.4126538\ttotal: 443ms\tremaining: 978ms\n",
      "312:\tlearn: 0.4122729\ttotal: 445ms\tremaining: 977ms\n",
      "313:\tlearn: 0.4121492\ttotal: 446ms\tremaining: 975ms\n",
      "314:\tlearn: 0.4117211\ttotal: 447ms\tremaining: 973ms\n",
      "315:\tlearn: 0.4114495\ttotal: 449ms\tremaining: 971ms\n",
      "316:\tlearn: 0.4112151\ttotal: 450ms\tremaining: 970ms\n",
      "317:\tlearn: 0.4110907\ttotal: 451ms\tremaining: 968ms\n",
      "318:\tlearn: 0.4107610\ttotal: 452ms\tremaining: 966ms\n",
      "319:\tlearn: 0.4103656\ttotal: 454ms\tremaining: 964ms\n",
      "320:\tlearn: 0.4101756\ttotal: 455ms\tremaining: 962ms\n",
      "321:\tlearn: 0.4099201\ttotal: 456ms\tremaining: 960ms\n",
      "322:\tlearn: 0.4098008\ttotal: 457ms\tremaining: 958ms\n",
      "323:\tlearn: 0.4094106\ttotal: 458ms\tremaining: 956ms\n",
      "324:\tlearn: 0.4092369\ttotal: 459ms\tremaining: 954ms\n",
      "325:\tlearn: 0.4088947\ttotal: 461ms\tremaining: 953ms\n",
      "326:\tlearn: 0.4084101\ttotal: 462ms\tremaining: 951ms\n",
      "327:\tlearn: 0.4082508\ttotal: 463ms\tremaining: 949ms\n",
      "328:\tlearn: 0.4079064\ttotal: 465ms\tremaining: 948ms\n",
      "329:\tlearn: 0.4075924\ttotal: 466ms\tremaining: 946ms\n",
      "330:\tlearn: 0.4073572\ttotal: 467ms\tremaining: 945ms\n",
      "331:\tlearn: 0.4071813\ttotal: 469ms\tremaining: 943ms\n",
      "332:\tlearn: 0.4068968\ttotal: 470ms\tremaining: 941ms\n",
      "333:\tlearn: 0.4066247\ttotal: 471ms\tremaining: 939ms\n",
      "334:\tlearn: 0.4063401\ttotal: 472ms\tremaining: 937ms\n",
      "335:\tlearn: 0.4061016\ttotal: 473ms\tremaining: 935ms\n",
      "336:\tlearn: 0.4057394\ttotal: 474ms\tremaining: 933ms\n",
      "337:\tlearn: 0.4055397\ttotal: 476ms\tremaining: 932ms\n",
      "338:\tlearn: 0.4052176\ttotal: 477ms\tremaining: 930ms\n",
      "339:\tlearn: 0.4048496\ttotal: 479ms\tremaining: 930ms\n",
      "340:\tlearn: 0.4043399\ttotal: 480ms\tremaining: 928ms\n",
      "341:\tlearn: 0.4041638\ttotal: 481ms\tremaining: 926ms\n",
      "342:\tlearn: 0.4039431\ttotal: 483ms\tremaining: 924ms\n",
      "343:\tlearn: 0.4036232\ttotal: 484ms\tremaining: 922ms\n",
      "344:\tlearn: 0.4034842\ttotal: 485ms\tremaining: 920ms\n",
      "345:\tlearn: 0.4030810\ttotal: 486ms\tremaining: 918ms\n",
      "346:\tlearn: 0.4027499\ttotal: 487ms\tremaining: 917ms\n",
      "347:\tlearn: 0.4023435\ttotal: 488ms\tremaining: 915ms\n",
      "348:\tlearn: 0.4022304\ttotal: 490ms\tremaining: 913ms\n",
      "349:\tlearn: 0.4017963\ttotal: 491ms\tremaining: 912ms\n",
      "350:\tlearn: 0.4015219\ttotal: 492ms\tremaining: 910ms\n",
      "351:\tlearn: 0.4012759\ttotal: 493ms\tremaining: 908ms\n",
      "352:\tlearn: 0.4011667\ttotal: 495ms\tremaining: 907ms\n",
      "353:\tlearn: 0.4008253\ttotal: 496ms\tremaining: 905ms\n",
      "354:\tlearn: 0.4004529\ttotal: 497ms\tremaining: 904ms\n",
      "355:\tlearn: 0.4002119\ttotal: 499ms\tremaining: 902ms\n",
      "356:\tlearn: 0.4000022\ttotal: 500ms\tremaining: 900ms\n",
      "357:\tlearn: 0.3998320\ttotal: 501ms\tremaining: 898ms\n",
      "358:\tlearn: 0.3994917\ttotal: 502ms\tremaining: 896ms\n",
      "359:\tlearn: 0.3992842\ttotal: 503ms\tremaining: 894ms\n",
      "360:\tlearn: 0.3989768\ttotal: 504ms\tremaining: 892ms\n",
      "361:\tlearn: 0.3985615\ttotal: 505ms\tremaining: 891ms\n",
      "362:\tlearn: 0.3982631\ttotal: 507ms\tremaining: 889ms\n",
      "363:\tlearn: 0.3980871\ttotal: 509ms\tremaining: 889ms\n",
      "364:\tlearn: 0.3975948\ttotal: 510ms\tremaining: 887ms\n",
      "365:\tlearn: 0.3973977\ttotal: 511ms\tremaining: 885ms\n",
      "366:\tlearn: 0.3972491\ttotal: 512ms\tremaining: 883ms\n",
      "367:\tlearn: 0.3970207\ttotal: 513ms\tremaining: 881ms\n",
      "368:\tlearn: 0.3968529\ttotal: 514ms\tremaining: 879ms\n",
      "369:\tlearn: 0.3966891\ttotal: 515ms\tremaining: 877ms\n",
      "370:\tlearn: 0.3964200\ttotal: 516ms\tremaining: 875ms\n",
      "371:\tlearn: 0.3960823\ttotal: 517ms\tremaining: 873ms\n",
      "372:\tlearn: 0.3957343\ttotal: 518ms\tremaining: 871ms\n",
      "373:\tlearn: 0.3956092\ttotal: 519ms\tremaining: 869ms\n",
      "374:\tlearn: 0.3953040\ttotal: 521ms\tremaining: 868ms\n",
      "375:\tlearn: 0.3950701\ttotal: 522ms\tremaining: 867ms\n",
      "376:\tlearn: 0.3949263\ttotal: 524ms\tremaining: 865ms\n",
      "377:\tlearn: 0.3946754\ttotal: 525ms\tremaining: 864ms\n",
      "378:\tlearn: 0.3944170\ttotal: 526ms\tremaining: 862ms\n",
      "379:\tlearn: 0.3943010\ttotal: 527ms\tremaining: 860ms\n",
      "380:\tlearn: 0.3940891\ttotal: 528ms\tremaining: 858ms\n",
      "381:\tlearn: 0.3938624\ttotal: 529ms\tremaining: 856ms\n",
      "382:\tlearn: 0.3937578\ttotal: 530ms\tremaining: 854ms\n",
      "383:\tlearn: 0.3935841\ttotal: 531ms\tremaining: 852ms\n",
      "384:\tlearn: 0.3932912\ttotal: 533ms\tremaining: 851ms\n",
      "385:\tlearn: 0.3931533\ttotal: 534ms\tremaining: 849ms\n",
      "386:\tlearn: 0.3930539\ttotal: 535ms\tremaining: 848ms\n",
      "387:\tlearn: 0.3928216\ttotal: 536ms\tremaining: 846ms\n",
      "388:\tlearn: 0.3927154\ttotal: 538ms\tremaining: 844ms\n",
      "389:\tlearn: 0.3924534\ttotal: 539ms\tremaining: 843ms\n",
      "390:\tlearn: 0.3923020\ttotal: 540ms\tremaining: 841ms\n",
      "391:\tlearn: 0.3921232\ttotal: 541ms\tremaining: 839ms\n",
      "392:\tlearn: 0.3918011\ttotal: 542ms\tremaining: 838ms\n",
      "393:\tlearn: 0.3916671\ttotal: 543ms\tremaining: 836ms\n",
      "394:\tlearn: 0.3914664\ttotal: 544ms\tremaining: 834ms\n",
      "395:\tlearn: 0.3912395\ttotal: 546ms\tremaining: 832ms\n",
      "396:\tlearn: 0.3910191\ttotal: 547ms\tremaining: 830ms\n",
      "397:\tlearn: 0.3909023\ttotal: 548ms\tremaining: 828ms\n",
      "398:\tlearn: 0.3907367\ttotal: 549ms\tremaining: 827ms\n",
      "399:\tlearn: 0.3904245\ttotal: 550ms\tremaining: 825ms\n",
      "400:\tlearn: 0.3901768\ttotal: 551ms\tremaining: 824ms\n",
      "401:\tlearn: 0.3900342\ttotal: 553ms\tremaining: 822ms\n",
      "402:\tlearn: 0.3898334\ttotal: 554ms\tremaining: 821ms\n",
      "403:\tlearn: 0.3896580\ttotal: 555ms\tremaining: 819ms\n",
      "404:\tlearn: 0.3893456\ttotal: 556ms\tremaining: 817ms\n",
      "405:\tlearn: 0.3890622\ttotal: 557ms\tremaining: 816ms\n",
      "406:\tlearn: 0.3888992\ttotal: 559ms\tremaining: 814ms\n",
      "407:\tlearn: 0.3887347\ttotal: 560ms\tremaining: 812ms\n",
      "408:\tlearn: 0.3885074\ttotal: 561ms\tremaining: 810ms\n",
      "409:\tlearn: 0.3883368\ttotal: 562ms\tremaining: 809ms\n",
      "410:\tlearn: 0.3879385\ttotal: 563ms\tremaining: 807ms\n",
      "411:\tlearn: 0.3878121\ttotal: 564ms\tremaining: 805ms\n",
      "412:\tlearn: 0.3873315\ttotal: 565ms\tremaining: 803ms\n",
      "413:\tlearn: 0.3871893\ttotal: 566ms\tremaining: 802ms\n",
      "414:\tlearn: 0.3871277\ttotal: 568ms\tremaining: 801ms\n",
      "415:\tlearn: 0.3868832\ttotal: 569ms\tremaining: 799ms\n",
      "416:\tlearn: 0.3867755\ttotal: 571ms\tremaining: 798ms\n",
      "417:\tlearn: 0.3865328\ttotal: 572ms\tremaining: 796ms\n",
      "418:\tlearn: 0.3864305\ttotal: 573ms\tremaining: 794ms\n",
      "419:\tlearn: 0.3863232\ttotal: 574ms\tremaining: 793ms\n",
      "420:\tlearn: 0.3862001\ttotal: 575ms\tremaining: 791ms\n",
      "421:\tlearn: 0.3860236\ttotal: 576ms\tremaining: 789ms\n",
      "422:\tlearn: 0.3858220\ttotal: 577ms\tremaining: 787ms\n",
      "423:\tlearn: 0.3855024\ttotal: 578ms\tremaining: 786ms\n",
      "424:\tlearn: 0.3852211\ttotal: 580ms\tremaining: 784ms\n",
      "425:\tlearn: 0.3848567\ttotal: 581ms\tremaining: 783ms\n",
      "426:\tlearn: 0.3847624\ttotal: 582ms\tremaining: 782ms\n",
      "427:\tlearn: 0.3846761\ttotal: 584ms\tremaining: 781ms\n",
      "428:\tlearn: 0.3845089\ttotal: 585ms\tremaining: 779ms\n",
      "429:\tlearn: 0.3842859\ttotal: 586ms\tremaining: 777ms\n",
      "430:\tlearn: 0.3838539\ttotal: 588ms\tremaining: 776ms\n",
      "431:\tlearn: 0.3838046\ttotal: 589ms\tremaining: 774ms\n",
      "432:\tlearn: 0.3837333\ttotal: 590ms\tremaining: 772ms\n",
      "433:\tlearn: 0.3834678\ttotal: 591ms\tremaining: 771ms\n",
      "434:\tlearn: 0.3832059\ttotal: 592ms\tremaining: 769ms\n",
      "435:\tlearn: 0.3830917\ttotal: 593ms\tremaining: 767ms\n",
      "436:\tlearn: 0.3829409\ttotal: 594ms\tremaining: 766ms\n",
      "437:\tlearn: 0.3826997\ttotal: 595ms\tremaining: 764ms\n",
      "438:\tlearn: 0.3824473\ttotal: 596ms\tremaining: 762ms\n",
      "439:\tlearn: 0.3822741\ttotal: 598ms\tremaining: 761ms\n",
      "440:\tlearn: 0.3821783\ttotal: 599ms\tremaining: 759ms\n",
      "441:\tlearn: 0.3821235\ttotal: 600ms\tremaining: 758ms\n",
      "442:\tlearn: 0.3820694\ttotal: 602ms\tremaining: 756ms\n",
      "443:\tlearn: 0.3818646\ttotal: 603ms\tremaining: 755ms\n",
      "444:\tlearn: 0.3816645\ttotal: 604ms\tremaining: 753ms\n",
      "445:\tlearn: 0.3814145\ttotal: 605ms\tremaining: 751ms\n",
      "446:\tlearn: 0.3812560\ttotal: 606ms\tremaining: 749ms\n",
      "447:\tlearn: 0.3810709\ttotal: 607ms\tremaining: 748ms\n",
      "448:\tlearn: 0.3808565\ttotal: 608ms\tremaining: 746ms\n",
      "449:\tlearn: 0.3805827\ttotal: 609ms\tremaining: 745ms\n",
      "450:\tlearn: 0.3801537\ttotal: 611ms\tremaining: 744ms\n",
      "451:\tlearn: 0.3800648\ttotal: 613ms\tremaining: 743ms\n",
      "452:\tlearn: 0.3799567\ttotal: 614ms\tremaining: 742ms\n",
      "453:\tlearn: 0.3797877\ttotal: 616ms\tremaining: 740ms\n",
      "454:\tlearn: 0.3795651\ttotal: 617ms\tremaining: 739ms\n",
      "455:\tlearn: 0.3792190\ttotal: 618ms\tremaining: 738ms\n",
      "456:\tlearn: 0.3789277\ttotal: 620ms\tremaining: 736ms\n",
      "457:\tlearn: 0.3787535\ttotal: 621ms\tremaining: 735ms\n",
      "458:\tlearn: 0.3784132\ttotal: 622ms\tremaining: 733ms\n",
      "459:\tlearn: 0.3781364\ttotal: 623ms\tremaining: 731ms\n",
      "460:\tlearn: 0.3778773\ttotal: 624ms\tremaining: 730ms\n",
      "461:\tlearn: 0.3777284\ttotal: 626ms\tremaining: 728ms\n",
      "462:\tlearn: 0.3776902\ttotal: 627ms\tremaining: 727ms\n",
      "463:\tlearn: 0.3776633\ttotal: 628ms\tremaining: 725ms\n",
      "464:\tlearn: 0.3774304\ttotal: 629ms\tremaining: 724ms\n",
      "465:\tlearn: 0.3773014\ttotal: 631ms\tremaining: 723ms\n",
      "466:\tlearn: 0.3770812\ttotal: 632ms\tremaining: 721ms\n",
      "467:\tlearn: 0.3768937\ttotal: 633ms\tremaining: 719ms\n",
      "468:\tlearn: 0.3767802\ttotal: 634ms\tremaining: 718ms\n",
      "469:\tlearn: 0.3765955\ttotal: 635ms\tremaining: 716ms\n",
      "470:\tlearn: 0.3764078\ttotal: 636ms\tremaining: 715ms\n",
      "471:\tlearn: 0.3761380\ttotal: 638ms\tremaining: 713ms\n",
      "472:\tlearn: 0.3758838\ttotal: 639ms\tremaining: 712ms\n",
      "473:\tlearn: 0.3756309\ttotal: 640ms\tremaining: 710ms\n",
      "474:\tlearn: 0.3753338\ttotal: 641ms\tremaining: 708ms\n",
      "475:\tlearn: 0.3752104\ttotal: 642ms\tremaining: 707ms\n",
      "476:\tlearn: 0.3749724\ttotal: 643ms\tremaining: 705ms\n",
      "477:\tlearn: 0.3746515\ttotal: 644ms\tremaining: 704ms\n",
      "478:\tlearn: 0.3744486\ttotal: 646ms\tremaining: 703ms\n",
      "479:\tlearn: 0.3743010\ttotal: 648ms\tremaining: 702ms\n",
      "480:\tlearn: 0.3740684\ttotal: 649ms\tremaining: 700ms\n",
      "481:\tlearn: 0.3738556\ttotal: 650ms\tremaining: 698ms\n",
      "482:\tlearn: 0.3734980\ttotal: 651ms\tremaining: 697ms\n",
      "483:\tlearn: 0.3732440\ttotal: 652ms\tremaining: 695ms\n",
      "484:\tlearn: 0.3729554\ttotal: 653ms\tremaining: 694ms\n",
      "485:\tlearn: 0.3727489\ttotal: 655ms\tremaining: 693ms\n",
      "486:\tlearn: 0.3724650\ttotal: 656ms\tremaining: 691ms\n",
      "487:\tlearn: 0.3722776\ttotal: 657ms\tremaining: 690ms\n",
      "488:\tlearn: 0.3720284\ttotal: 659ms\tremaining: 688ms\n",
      "489:\tlearn: 0.3719626\ttotal: 660ms\tremaining: 687ms\n",
      "490:\tlearn: 0.3717576\ttotal: 661ms\tremaining: 686ms\n",
      "491:\tlearn: 0.3715032\ttotal: 663ms\tremaining: 684ms\n",
      "492:\tlearn: 0.3713281\ttotal: 664ms\tremaining: 683ms\n",
      "493:\tlearn: 0.3711656\ttotal: 666ms\tremaining: 682ms\n",
      "494:\tlearn: 0.3710951\ttotal: 667ms\tremaining: 680ms\n",
      "495:\tlearn: 0.3708689\ttotal: 668ms\tremaining: 679ms\n",
      "496:\tlearn: 0.3706291\ttotal: 669ms\tremaining: 677ms\n",
      "497:\tlearn: 0.3704533\ttotal: 670ms\tremaining: 676ms\n",
      "498:\tlearn: 0.3702337\ttotal: 672ms\tremaining: 674ms\n",
      "499:\tlearn: 0.3699809\ttotal: 674ms\tremaining: 674ms\n",
      "500:\tlearn: 0.3697153\ttotal: 675ms\tremaining: 672ms\n",
      "501:\tlearn: 0.3696060\ttotal: 677ms\tremaining: 671ms\n",
      "502:\tlearn: 0.3693712\ttotal: 678ms\tremaining: 670ms\n",
      "503:\tlearn: 0.3692066\ttotal: 680ms\tremaining: 669ms\n",
      "504:\tlearn: 0.3690527\ttotal: 681ms\tremaining: 667ms\n",
      "505:\tlearn: 0.3688246\ttotal: 682ms\tremaining: 666ms\n",
      "506:\tlearn: 0.3687420\ttotal: 683ms\tremaining: 664ms\n",
      "507:\tlearn: 0.3684394\ttotal: 685ms\tremaining: 663ms\n",
      "508:\tlearn: 0.3683916\ttotal: 686ms\tremaining: 662ms\n",
      "509:\tlearn: 0.3681991\ttotal: 687ms\tremaining: 660ms\n",
      "510:\tlearn: 0.3679486\ttotal: 688ms\tremaining: 659ms\n",
      "511:\tlearn: 0.3676626\ttotal: 690ms\tremaining: 658ms\n",
      "512:\tlearn: 0.3675650\ttotal: 691ms\tremaining: 656ms\n",
      "513:\tlearn: 0.3673597\ttotal: 693ms\tremaining: 655ms\n",
      "514:\tlearn: 0.3671273\ttotal: 694ms\tremaining: 654ms\n",
      "515:\tlearn: 0.3670288\ttotal: 696ms\tremaining: 653ms\n",
      "516:\tlearn: 0.3668062\ttotal: 697ms\tremaining: 651ms\n",
      "517:\tlearn: 0.3664619\ttotal: 698ms\tremaining: 649ms\n",
      "518:\tlearn: 0.3662433\ttotal: 699ms\tremaining: 648ms\n",
      "519:\tlearn: 0.3660707\ttotal: 700ms\tremaining: 647ms\n",
      "520:\tlearn: 0.3657678\ttotal: 702ms\tremaining: 645ms\n",
      "521:\tlearn: 0.3656077\ttotal: 703ms\tremaining: 644ms\n",
      "522:\tlearn: 0.3653507\ttotal: 704ms\tremaining: 642ms\n",
      "523:\tlearn: 0.3651622\ttotal: 705ms\tremaining: 640ms\n",
      "524:\tlearn: 0.3649918\ttotal: 706ms\tremaining: 639ms\n",
      "525:\tlearn: 0.3648385\ttotal: 708ms\tremaining: 638ms\n",
      "526:\tlearn: 0.3646786\ttotal: 709ms\tremaining: 636ms\n",
      "527:\tlearn: 0.3645072\ttotal: 710ms\tremaining: 635ms\n",
      "528:\tlearn: 0.3642041\ttotal: 711ms\tremaining: 633ms\n",
      "529:\tlearn: 0.3640549\ttotal: 713ms\tremaining: 632ms\n",
      "530:\tlearn: 0.3639932\ttotal: 714ms\tremaining: 630ms\n",
      "531:\tlearn: 0.3636753\ttotal: 715ms\tremaining: 629ms\n",
      "532:\tlearn: 0.3634714\ttotal: 716ms\tremaining: 627ms\n",
      "533:\tlearn: 0.3633598\ttotal: 717ms\tremaining: 626ms\n",
      "534:\tlearn: 0.3632507\ttotal: 719ms\tremaining: 625ms\n",
      "535:\tlearn: 0.3629430\ttotal: 721ms\tremaining: 624ms\n",
      "536:\tlearn: 0.3628726\ttotal: 722ms\tremaining: 622ms\n",
      "537:\tlearn: 0.3624978\ttotal: 723ms\tremaining: 621ms\n",
      "538:\tlearn: 0.3622953\ttotal: 725ms\tremaining: 620ms\n",
      "539:\tlearn: 0.3620904\ttotal: 726ms\tremaining: 619ms\n",
      "540:\tlearn: 0.3618745\ttotal: 728ms\tremaining: 617ms\n",
      "541:\tlearn: 0.3616301\ttotal: 729ms\tremaining: 616ms\n",
      "542:\tlearn: 0.3615236\ttotal: 731ms\tremaining: 615ms\n",
      "543:\tlearn: 0.3610981\ttotal: 732ms\tremaining: 613ms\n",
      "544:\tlearn: 0.3608788\ttotal: 733ms\tremaining: 612ms\n",
      "545:\tlearn: 0.3608240\ttotal: 734ms\tremaining: 610ms\n",
      "546:\tlearn: 0.3605539\ttotal: 735ms\tremaining: 609ms\n",
      "547:\tlearn: 0.3604789\ttotal: 737ms\tremaining: 608ms\n",
      "548:\tlearn: 0.3602574\ttotal: 739ms\tremaining: 607ms\n",
      "549:\tlearn: 0.3601227\ttotal: 740ms\tremaining: 606ms\n",
      "550:\tlearn: 0.3598871\ttotal: 742ms\tremaining: 604ms\n",
      "551:\tlearn: 0.3596317\ttotal: 743ms\tremaining: 603ms\n",
      "552:\tlearn: 0.3595653\ttotal: 744ms\tremaining: 602ms\n",
      "553:\tlearn: 0.3593065\ttotal: 746ms\tremaining: 600ms\n",
      "554:\tlearn: 0.3590889\ttotal: 747ms\tremaining: 599ms\n",
      "555:\tlearn: 0.3589253\ttotal: 748ms\tremaining: 598ms\n",
      "556:\tlearn: 0.3586976\ttotal: 750ms\tremaining: 596ms\n",
      "557:\tlearn: 0.3584296\ttotal: 751ms\tremaining: 595ms\n",
      "558:\tlearn: 0.3583439\ttotal: 752ms\tremaining: 593ms\n",
      "559:\tlearn: 0.3580996\ttotal: 753ms\tremaining: 592ms\n",
      "560:\tlearn: 0.3579823\ttotal: 755ms\tremaining: 591ms\n",
      "561:\tlearn: 0.3577769\ttotal: 756ms\tremaining: 589ms\n",
      "562:\tlearn: 0.3574795\ttotal: 758ms\tremaining: 588ms\n",
      "563:\tlearn: 0.3574161\ttotal: 759ms\tremaining: 586ms\n",
      "564:\tlearn: 0.3571839\ttotal: 760ms\tremaining: 585ms\n",
      "565:\tlearn: 0.3570345\ttotal: 761ms\tremaining: 584ms\n",
      "566:\tlearn: 0.3569439\ttotal: 762ms\tremaining: 582ms\n",
      "567:\tlearn: 0.3567765\ttotal: 763ms\tremaining: 581ms\n",
      "568:\tlearn: 0.3565188\ttotal: 765ms\tremaining: 579ms\n",
      "569:\tlearn: 0.3562927\ttotal: 766ms\tremaining: 578ms\n",
      "570:\tlearn: 0.3560462\ttotal: 767ms\tremaining: 576ms\n",
      "571:\tlearn: 0.3559555\ttotal: 768ms\tremaining: 575ms\n",
      "572:\tlearn: 0.3557880\ttotal: 770ms\tremaining: 574ms\n",
      "573:\tlearn: 0.3556003\ttotal: 771ms\tremaining: 572ms\n",
      "574:\tlearn: 0.3552912\ttotal: 773ms\tremaining: 571ms\n",
      "575:\tlearn: 0.3552187\ttotal: 774ms\tremaining: 570ms\n",
      "576:\tlearn: 0.3550224\ttotal: 775ms\tremaining: 568ms\n",
      "577:\tlearn: 0.3547811\ttotal: 777ms\tremaining: 567ms\n",
      "578:\tlearn: 0.3545357\ttotal: 778ms\tremaining: 566ms\n",
      "579:\tlearn: 0.3541751\ttotal: 779ms\tremaining: 564ms\n",
      "580:\tlearn: 0.3539703\ttotal: 781ms\tremaining: 563ms\n",
      "581:\tlearn: 0.3538904\ttotal: 782ms\tremaining: 562ms\n",
      "582:\tlearn: 0.3537871\ttotal: 784ms\tremaining: 560ms\n",
      "583:\tlearn: 0.3536957\ttotal: 785ms\tremaining: 559ms\n",
      "584:\tlearn: 0.3535364\ttotal: 786ms\tremaining: 558ms\n",
      "585:\tlearn: 0.3534060\ttotal: 788ms\tremaining: 557ms\n",
      "586:\tlearn: 0.3532330\ttotal: 789ms\tremaining: 555ms\n",
      "587:\tlearn: 0.3531335\ttotal: 790ms\tremaining: 554ms\n",
      "588:\tlearn: 0.3528620\ttotal: 791ms\tremaining: 552ms\n",
      "589:\tlearn: 0.3527332\ttotal: 793ms\tremaining: 551ms\n",
      "590:\tlearn: 0.3525563\ttotal: 794ms\tremaining: 550ms\n",
      "591:\tlearn: 0.3524767\ttotal: 795ms\tremaining: 548ms\n",
      "592:\tlearn: 0.3523204\ttotal: 797ms\tremaining: 547ms\n",
      "593:\tlearn: 0.3520622\ttotal: 798ms\tremaining: 545ms\n",
      "594:\tlearn: 0.3519651\ttotal: 800ms\tremaining: 545ms\n",
      "595:\tlearn: 0.3519115\ttotal: 801ms\tremaining: 543ms\n",
      "596:\tlearn: 0.3517576\ttotal: 803ms\tremaining: 542ms\n",
      "597:\tlearn: 0.3514557\ttotal: 804ms\tremaining: 541ms\n",
      "598:\tlearn: 0.3512239\ttotal: 805ms\tremaining: 539ms\n",
      "599:\tlearn: 0.3511784\ttotal: 806ms\tremaining: 537ms\n",
      "600:\tlearn: 0.3509572\ttotal: 807ms\tremaining: 536ms\n",
      "601:\tlearn: 0.3506928\ttotal: 808ms\tremaining: 534ms\n",
      "602:\tlearn: 0.3506120\ttotal: 810ms\tremaining: 533ms\n",
      "603:\tlearn: 0.3504882\ttotal: 811ms\tremaining: 532ms\n",
      "604:\tlearn: 0.3503377\ttotal: 812ms\tremaining: 530ms\n",
      "605:\tlearn: 0.3502763\ttotal: 813ms\tremaining: 529ms\n",
      "606:\tlearn: 0.3500925\ttotal: 815ms\tremaining: 528ms\n",
      "607:\tlearn: 0.3499301\ttotal: 816ms\tremaining: 526ms\n",
      "608:\tlearn: 0.3497782\ttotal: 817ms\tremaining: 525ms\n",
      "609:\tlearn: 0.3496388\ttotal: 818ms\tremaining: 523ms\n",
      "610:\tlearn: 0.3493626\ttotal: 819ms\tremaining: 522ms\n",
      "611:\tlearn: 0.3490318\ttotal: 821ms\tremaining: 520ms\n",
      "612:\tlearn: 0.3488240\ttotal: 822ms\tremaining: 519ms\n",
      "613:\tlearn: 0.3487117\ttotal: 823ms\tremaining: 517ms\n",
      "614:\tlearn: 0.3485240\ttotal: 824ms\tremaining: 516ms\n",
      "615:\tlearn: 0.3484082\ttotal: 825ms\tremaining: 514ms\n",
      "616:\tlearn: 0.3482860\ttotal: 826ms\tremaining: 513ms\n",
      "617:\tlearn: 0.3481608\ttotal: 827ms\tremaining: 511ms\n",
      "618:\tlearn: 0.3480754\ttotal: 829ms\tremaining: 510ms\n",
      "619:\tlearn: 0.3479746\ttotal: 830ms\tremaining: 509ms\n",
      "620:\tlearn: 0.3477167\ttotal: 831ms\tremaining: 507ms\n",
      "621:\tlearn: 0.3476080\ttotal: 832ms\tremaining: 506ms\n",
      "622:\tlearn: 0.3474237\ttotal: 834ms\tremaining: 504ms\n",
      "623:\tlearn: 0.3473520\ttotal: 835ms\tremaining: 503ms\n",
      "624:\tlearn: 0.3471705\ttotal: 836ms\tremaining: 501ms\n",
      "625:\tlearn: 0.3468613\ttotal: 837ms\tremaining: 500ms\n",
      "626:\tlearn: 0.3467724\ttotal: 838ms\tremaining: 499ms\n",
      "627:\tlearn: 0.3465934\ttotal: 839ms\tremaining: 497ms\n",
      "628:\tlearn: 0.3463814\ttotal: 841ms\tremaining: 496ms\n",
      "629:\tlearn: 0.3460797\ttotal: 842ms\tremaining: 495ms\n",
      "630:\tlearn: 0.3459511\ttotal: 844ms\tremaining: 493ms\n",
      "631:\tlearn: 0.3457152\ttotal: 845ms\tremaining: 492ms\n",
      "632:\tlearn: 0.3452893\ttotal: 846ms\tremaining: 491ms\n",
      "633:\tlearn: 0.3450799\ttotal: 848ms\tremaining: 489ms\n",
      "634:\tlearn: 0.3450172\ttotal: 849ms\tremaining: 488ms\n",
      "635:\tlearn: 0.3448867\ttotal: 850ms\tremaining: 486ms\n",
      "636:\tlearn: 0.3447293\ttotal: 851ms\tremaining: 485ms\n",
      "637:\tlearn: 0.3445881\ttotal: 852ms\tremaining: 483ms\n",
      "638:\tlearn: 0.3445725\ttotal: 853ms\tremaining: 482ms\n",
      "639:\tlearn: 0.3444223\ttotal: 854ms\tremaining: 480ms\n",
      "640:\tlearn: 0.3442556\ttotal: 855ms\tremaining: 479ms\n",
      "641:\tlearn: 0.3440379\ttotal: 857ms\tremaining: 478ms\n",
      "642:\tlearn: 0.3439460\ttotal: 858ms\tremaining: 476ms\n",
      "643:\tlearn: 0.3438382\ttotal: 859ms\tremaining: 475ms\n",
      "644:\tlearn: 0.3436982\ttotal: 861ms\tremaining: 474ms\n",
      "645:\tlearn: 0.3434446\ttotal: 862ms\tremaining: 473ms\n",
      "646:\tlearn: 0.3432816\ttotal: 863ms\tremaining: 471ms\n",
      "647:\tlearn: 0.3430754\ttotal: 865ms\tremaining: 470ms\n",
      "648:\tlearn: 0.3428535\ttotal: 866ms\tremaining: 468ms\n",
      "649:\tlearn: 0.3427056\ttotal: 867ms\tremaining: 467ms\n",
      "650:\tlearn: 0.3424936\ttotal: 868ms\tremaining: 465ms\n",
      "651:\tlearn: 0.3423422\ttotal: 869ms\tremaining: 464ms\n",
      "652:\tlearn: 0.3422571\ttotal: 870ms\tremaining: 463ms\n",
      "653:\tlearn: 0.3419574\ttotal: 872ms\tremaining: 461ms\n",
      "654:\tlearn: 0.3418113\ttotal: 873ms\tremaining: 460ms\n",
      "655:\tlearn: 0.3415118\ttotal: 874ms\tremaining: 458ms\n",
      "656:\tlearn: 0.3414089\ttotal: 876ms\tremaining: 457ms\n",
      "657:\tlearn: 0.3412890\ttotal: 877ms\tremaining: 456ms\n",
      "658:\tlearn: 0.3412201\ttotal: 878ms\tremaining: 454ms\n",
      "659:\tlearn: 0.3408393\ttotal: 879ms\tremaining: 453ms\n",
      "660:\tlearn: 0.3406802\ttotal: 880ms\tremaining: 451ms\n",
      "661:\tlearn: 0.3404829\ttotal: 881ms\tremaining: 450ms\n",
      "662:\tlearn: 0.3403275\ttotal: 883ms\tremaining: 449ms\n",
      "663:\tlearn: 0.3401946\ttotal: 884ms\tremaining: 447ms\n",
      "664:\tlearn: 0.3399054\ttotal: 885ms\tremaining: 446ms\n",
      "665:\tlearn: 0.3397803\ttotal: 886ms\tremaining: 444ms\n",
      "666:\tlearn: 0.3395797\ttotal: 887ms\tremaining: 443ms\n",
      "667:\tlearn: 0.3394601\ttotal: 888ms\tremaining: 442ms\n",
      "668:\tlearn: 0.3392892\ttotal: 889ms\tremaining: 440ms\n",
      "669:\tlearn: 0.3390617\ttotal: 891ms\tremaining: 439ms\n",
      "670:\tlearn: 0.3388177\ttotal: 892ms\tremaining: 438ms\n",
      "671:\tlearn: 0.3387884\ttotal: 893ms\tremaining: 436ms\n",
      "672:\tlearn: 0.3385937\ttotal: 895ms\tremaining: 435ms\n",
      "673:\tlearn: 0.3384768\ttotal: 896ms\tremaining: 433ms\n",
      "674:\tlearn: 0.3380501\ttotal: 897ms\tremaining: 432ms\n",
      "675:\tlearn: 0.3378180\ttotal: 898ms\tremaining: 430ms\n",
      "676:\tlearn: 0.3374396\ttotal: 899ms\tremaining: 429ms\n",
      "677:\tlearn: 0.3372496\ttotal: 900ms\tremaining: 428ms\n",
      "678:\tlearn: 0.3369941\ttotal: 902ms\tremaining: 426ms\n",
      "679:\tlearn: 0.3368368\ttotal: 903ms\tremaining: 425ms\n",
      "680:\tlearn: 0.3368000\ttotal: 904ms\tremaining: 423ms\n",
      "681:\tlearn: 0.3365572\ttotal: 905ms\tremaining: 422ms\n",
      "682:\tlearn: 0.3364374\ttotal: 906ms\tremaining: 421ms\n",
      "683:\tlearn: 0.3362475\ttotal: 908ms\tremaining: 419ms\n",
      "684:\tlearn: 0.3360814\ttotal: 909ms\tremaining: 418ms\n",
      "685:\tlearn: 0.3359356\ttotal: 910ms\tremaining: 417ms\n",
      "686:\tlearn: 0.3358768\ttotal: 911ms\tremaining: 415ms\n",
      "687:\tlearn: 0.3356394\ttotal: 912ms\tremaining: 414ms\n",
      "688:\tlearn: 0.3355094\ttotal: 913ms\tremaining: 412ms\n",
      "689:\tlearn: 0.3354650\ttotal: 915ms\tremaining: 411ms\n",
      "690:\tlearn: 0.3353014\ttotal: 916ms\tremaining: 409ms\n",
      "691:\tlearn: 0.3351940\ttotal: 917ms\tremaining: 408ms\n",
      "692:\tlearn: 0.3350869\ttotal: 918ms\tremaining: 407ms\n",
      "693:\tlearn: 0.3350258\ttotal: 919ms\tremaining: 405ms\n",
      "694:\tlearn: 0.3348941\ttotal: 920ms\tremaining: 404ms\n",
      "695:\tlearn: 0.3345105\ttotal: 922ms\tremaining: 403ms\n",
      "696:\tlearn: 0.3343370\ttotal: 924ms\tremaining: 402ms\n",
      "697:\tlearn: 0.3342317\ttotal: 925ms\tremaining: 400ms\n",
      "698:\tlearn: 0.3338724\ttotal: 926ms\tremaining: 399ms\n",
      "699:\tlearn: 0.3336519\ttotal: 927ms\tremaining: 397ms\n",
      "700:\tlearn: 0.3335881\ttotal: 928ms\tremaining: 396ms\n",
      "701:\tlearn: 0.3333546\ttotal: 930ms\tremaining: 395ms\n",
      "702:\tlearn: 0.3332059\ttotal: 931ms\tremaining: 393ms\n",
      "703:\tlearn: 0.3330797\ttotal: 932ms\tremaining: 392ms\n",
      "704:\tlearn: 0.3329442\ttotal: 933ms\tremaining: 390ms\n",
      "705:\tlearn: 0.3326919\ttotal: 934ms\tremaining: 389ms\n",
      "706:\tlearn: 0.3325368\ttotal: 935ms\tremaining: 387ms\n",
      "707:\tlearn: 0.3324827\ttotal: 936ms\tremaining: 386ms\n",
      "708:\tlearn: 0.3324004\ttotal: 938ms\tremaining: 385ms\n",
      "709:\tlearn: 0.3320035\ttotal: 939ms\tremaining: 383ms\n",
      "710:\tlearn: 0.3318808\ttotal: 940ms\tremaining: 382ms\n",
      "711:\tlearn: 0.3316584\ttotal: 941ms\tremaining: 381ms\n",
      "712:\tlearn: 0.3315050\ttotal: 942ms\tremaining: 379ms\n",
      "713:\tlearn: 0.3313646\ttotal: 944ms\tremaining: 378ms\n",
      "714:\tlearn: 0.3312620\ttotal: 945ms\tremaining: 377ms\n",
      "715:\tlearn: 0.3311432\ttotal: 946ms\tremaining: 375ms\n",
      "716:\tlearn: 0.3309935\ttotal: 947ms\tremaining: 374ms\n",
      "717:\tlearn: 0.3306561\ttotal: 948ms\tremaining: 372ms\n",
      "718:\tlearn: 0.3304161\ttotal: 949ms\tremaining: 371ms\n",
      "719:\tlearn: 0.3302991\ttotal: 950ms\tremaining: 370ms\n",
      "720:\tlearn: 0.3298987\ttotal: 951ms\tremaining: 368ms\n",
      "721:\tlearn: 0.3296355\ttotal: 953ms\tremaining: 367ms\n",
      "722:\tlearn: 0.3294072\ttotal: 954ms\tremaining: 366ms\n",
      "723:\tlearn: 0.3292990\ttotal: 955ms\tremaining: 364ms\n",
      "724:\tlearn: 0.3291264\ttotal: 956ms\tremaining: 363ms\n",
      "725:\tlearn: 0.3289805\ttotal: 958ms\tremaining: 361ms\n",
      "726:\tlearn: 0.3289180\ttotal: 959ms\tremaining: 360ms\n",
      "727:\tlearn: 0.3288042\ttotal: 960ms\tremaining: 359ms\n",
      "728:\tlearn: 0.3287315\ttotal: 961ms\tremaining: 357ms\n",
      "729:\tlearn: 0.3285684\ttotal: 962ms\tremaining: 356ms\n",
      "730:\tlearn: 0.3283328\ttotal: 963ms\tremaining: 355ms\n",
      "731:\tlearn: 0.3282599\ttotal: 964ms\tremaining: 353ms\n",
      "732:\tlearn: 0.3280488\ttotal: 966ms\tremaining: 352ms\n",
      "733:\tlearn: 0.3279272\ttotal: 967ms\tremaining: 350ms\n",
      "734:\tlearn: 0.3278061\ttotal: 968ms\tremaining: 349ms\n",
      "735:\tlearn: 0.3277419\ttotal: 969ms\tremaining: 348ms\n",
      "736:\tlearn: 0.3275603\ttotal: 971ms\tremaining: 346ms\n",
      "737:\tlearn: 0.3274369\ttotal: 972ms\tremaining: 345ms\n",
      "738:\tlearn: 0.3273920\ttotal: 973ms\tremaining: 344ms\n",
      "739:\tlearn: 0.3271435\ttotal: 974ms\tremaining: 342ms\n",
      "740:\tlearn: 0.3270997\ttotal: 975ms\tremaining: 341ms\n",
      "741:\tlearn: 0.3269823\ttotal: 976ms\tremaining: 340ms\n",
      "742:\tlearn: 0.3267876\ttotal: 978ms\tremaining: 338ms\n",
      "743:\tlearn: 0.3267293\ttotal: 979ms\tremaining: 337ms\n",
      "744:\tlearn: 0.3265497\ttotal: 980ms\tremaining: 335ms\n",
      "745:\tlearn: 0.3263474\ttotal: 981ms\tremaining: 334ms\n",
      "746:\tlearn: 0.3260739\ttotal: 983ms\tremaining: 333ms\n",
      "747:\tlearn: 0.3259087\ttotal: 987ms\tremaining: 333ms\n",
      "748:\tlearn: 0.3257357\ttotal: 989ms\tremaining: 331ms\n",
      "749:\tlearn: 0.3256451\ttotal: 990ms\tremaining: 330ms\n",
      "750:\tlearn: 0.3254561\ttotal: 991ms\tremaining: 329ms\n",
      "751:\tlearn: 0.3253193\ttotal: 992ms\tremaining: 327ms\n",
      "752:\tlearn: 0.3252392\ttotal: 993ms\tremaining: 326ms\n",
      "753:\tlearn: 0.3250312\ttotal: 995ms\tremaining: 324ms\n",
      "754:\tlearn: 0.3249045\ttotal: 996ms\tremaining: 323ms\n",
      "755:\tlearn: 0.3247127\ttotal: 997ms\tremaining: 322ms\n",
      "756:\tlearn: 0.3245301\ttotal: 998ms\tremaining: 320ms\n",
      "757:\tlearn: 0.3242888\ttotal: 999ms\tremaining: 319ms\n",
      "758:\tlearn: 0.3241333\ttotal: 1s\tremaining: 318ms\n",
      "759:\tlearn: 0.3240460\ttotal: 1s\tremaining: 316ms\n",
      "760:\tlearn: 0.3238454\ttotal: 1s\tremaining: 315ms\n",
      "761:\tlearn: 0.3235952\ttotal: 1s\tremaining: 314ms\n",
      "762:\tlearn: 0.3235124\ttotal: 1s\tremaining: 312ms\n",
      "763:\tlearn: 0.3232825\ttotal: 1.01s\tremaining: 311ms\n",
      "764:\tlearn: 0.3231668\ttotal: 1.01s\tremaining: 310ms\n",
      "765:\tlearn: 0.3229635\ttotal: 1.01s\tremaining: 308ms\n",
      "766:\tlearn: 0.3227436\ttotal: 1.01s\tremaining: 307ms\n",
      "767:\tlearn: 0.3225959\ttotal: 1.01s\tremaining: 305ms\n",
      "768:\tlearn: 0.3223718\ttotal: 1.01s\tremaining: 304ms\n",
      "769:\tlearn: 0.3222619\ttotal: 1.01s\tremaining: 303ms\n",
      "770:\tlearn: 0.3221915\ttotal: 1.01s\tremaining: 301ms\n",
      "771:\tlearn: 0.3221558\ttotal: 1.02s\tremaining: 300ms\n",
      "772:\tlearn: 0.3219882\ttotal: 1.02s\tremaining: 299ms\n",
      "773:\tlearn: 0.3219066\ttotal: 1.02s\tremaining: 297ms\n",
      "774:\tlearn: 0.3218079\ttotal: 1.02s\tremaining: 296ms\n",
      "775:\tlearn: 0.3217449\ttotal: 1.02s\tremaining: 295ms\n",
      "776:\tlearn: 0.3216682\ttotal: 1.02s\tremaining: 293ms\n",
      "777:\tlearn: 0.3214917\ttotal: 1.02s\tremaining: 292ms\n",
      "778:\tlearn: 0.3213361\ttotal: 1.02s\tremaining: 290ms\n",
      "779:\tlearn: 0.3211593\ttotal: 1.02s\tremaining: 289ms\n",
      "780:\tlearn: 0.3209968\ttotal: 1.03s\tremaining: 288ms\n",
      "781:\tlearn: 0.3207804\ttotal: 1.03s\tremaining: 286ms\n",
      "782:\tlearn: 0.3206311\ttotal: 1.03s\tremaining: 285ms\n",
      "783:\tlearn: 0.3204314\ttotal: 1.03s\tremaining: 284ms\n",
      "784:\tlearn: 0.3202871\ttotal: 1.03s\tremaining: 282ms\n",
      "785:\tlearn: 0.3200913\ttotal: 1.03s\tremaining: 281ms\n",
      "786:\tlearn: 0.3199840\ttotal: 1.03s\tremaining: 280ms\n",
      "787:\tlearn: 0.3199236\ttotal: 1.03s\tremaining: 278ms\n",
      "788:\tlearn: 0.3197416\ttotal: 1.04s\tremaining: 277ms\n",
      "789:\tlearn: 0.3195694\ttotal: 1.04s\tremaining: 276ms\n",
      "790:\tlearn: 0.3194874\ttotal: 1.04s\tremaining: 274ms\n",
      "791:\tlearn: 0.3192851\ttotal: 1.04s\tremaining: 273ms\n",
      "792:\tlearn: 0.3189292\ttotal: 1.04s\tremaining: 272ms\n",
      "793:\tlearn: 0.3187994\ttotal: 1.04s\tremaining: 270ms\n",
      "794:\tlearn: 0.3186600\ttotal: 1.04s\tremaining: 269ms\n",
      "795:\tlearn: 0.3183763\ttotal: 1.04s\tremaining: 268ms\n",
      "796:\tlearn: 0.3181463\ttotal: 1.04s\tremaining: 266ms\n",
      "797:\tlearn: 0.3180079\ttotal: 1.05s\tremaining: 265ms\n",
      "798:\tlearn: 0.3178067\ttotal: 1.05s\tremaining: 264ms\n",
      "799:\tlearn: 0.3176199\ttotal: 1.05s\tremaining: 262ms\n",
      "800:\tlearn: 0.3172946\ttotal: 1.05s\tremaining: 261ms\n",
      "801:\tlearn: 0.3172387\ttotal: 1.05s\tremaining: 260ms\n",
      "802:\tlearn: 0.3172350\ttotal: 1.05s\tremaining: 258ms\n",
      "803:\tlearn: 0.3169601\ttotal: 1.05s\tremaining: 257ms\n",
      "804:\tlearn: 0.3168668\ttotal: 1.05s\tremaining: 256ms\n",
      "805:\tlearn: 0.3168011\ttotal: 1.06s\tremaining: 254ms\n",
      "806:\tlearn: 0.3166158\ttotal: 1.06s\tremaining: 253ms\n",
      "807:\tlearn: 0.3164817\ttotal: 1.06s\tremaining: 252ms\n",
      "808:\tlearn: 0.3163675\ttotal: 1.06s\tremaining: 250ms\n",
      "809:\tlearn: 0.3160777\ttotal: 1.06s\tremaining: 249ms\n",
      "810:\tlearn: 0.3159218\ttotal: 1.06s\tremaining: 248ms\n",
      "811:\tlearn: 0.3157302\ttotal: 1.06s\tremaining: 246ms\n",
      "812:\tlearn: 0.3156482\ttotal: 1.06s\tremaining: 245ms\n",
      "813:\tlearn: 0.3155537\ttotal: 1.06s\tremaining: 244ms\n",
      "814:\tlearn: 0.3153703\ttotal: 1.07s\tremaining: 242ms\n",
      "815:\tlearn: 0.3153034\ttotal: 1.07s\tremaining: 241ms\n",
      "816:\tlearn: 0.3151726\ttotal: 1.07s\tremaining: 239ms\n",
      "817:\tlearn: 0.3150808\ttotal: 1.07s\tremaining: 238ms\n",
      "818:\tlearn: 0.3149203\ttotal: 1.07s\tremaining: 237ms\n",
      "819:\tlearn: 0.3148552\ttotal: 1.07s\tremaining: 235ms\n",
      "820:\tlearn: 0.3146219\ttotal: 1.07s\tremaining: 234ms\n",
      "821:\tlearn: 0.3144941\ttotal: 1.07s\tremaining: 233ms\n",
      "822:\tlearn: 0.3144095\ttotal: 1.07s\tremaining: 231ms\n",
      "823:\tlearn: 0.3143020\ttotal: 1.08s\tremaining: 230ms\n",
      "824:\tlearn: 0.3139884\ttotal: 1.08s\tremaining: 229ms\n",
      "825:\tlearn: 0.3138270\ttotal: 1.08s\tremaining: 227ms\n",
      "826:\tlearn: 0.3137021\ttotal: 1.08s\tremaining: 226ms\n",
      "827:\tlearn: 0.3135514\ttotal: 1.08s\tremaining: 225ms\n",
      "828:\tlearn: 0.3134209\ttotal: 1.08s\tremaining: 223ms\n",
      "829:\tlearn: 0.3132481\ttotal: 1.08s\tremaining: 222ms\n",
      "830:\tlearn: 0.3130865\ttotal: 1.08s\tremaining: 221ms\n",
      "831:\tlearn: 0.3129989\ttotal: 1.09s\tremaining: 219ms\n",
      "832:\tlearn: 0.3128248\ttotal: 1.09s\tremaining: 218ms\n",
      "833:\tlearn: 0.3126475\ttotal: 1.09s\tremaining: 217ms\n",
      "834:\tlearn: 0.3123538\ttotal: 1.09s\tremaining: 215ms\n",
      "835:\tlearn: 0.3121104\ttotal: 1.09s\tremaining: 214ms\n",
      "836:\tlearn: 0.3118399\ttotal: 1.09s\tremaining: 213ms\n",
      "837:\tlearn: 0.3117087\ttotal: 1.09s\tremaining: 211ms\n",
      "838:\tlearn: 0.3115269\ttotal: 1.09s\tremaining: 210ms\n",
      "839:\tlearn: 0.3114172\ttotal: 1.09s\tremaining: 209ms\n",
      "840:\tlearn: 0.3112136\ttotal: 1.1s\tremaining: 207ms\n",
      "841:\tlearn: 0.3110374\ttotal: 1.1s\tremaining: 206ms\n",
      "842:\tlearn: 0.3109043\ttotal: 1.1s\tremaining: 205ms\n",
      "843:\tlearn: 0.3108246\ttotal: 1.1s\tremaining: 203ms\n",
      "844:\tlearn: 0.3106821\ttotal: 1.1s\tremaining: 202ms\n",
      "845:\tlearn: 0.3105965\ttotal: 1.1s\tremaining: 201ms\n",
      "846:\tlearn: 0.3104846\ttotal: 1.1s\tremaining: 199ms\n",
      "847:\tlearn: 0.3103727\ttotal: 1.1s\tremaining: 198ms\n",
      "848:\tlearn: 0.3101473\ttotal: 1.11s\tremaining: 197ms\n",
      "849:\tlearn: 0.3099539\ttotal: 1.11s\tremaining: 196ms\n",
      "850:\tlearn: 0.3099372\ttotal: 1.11s\tremaining: 194ms\n",
      "851:\tlearn: 0.3098611\ttotal: 1.11s\tremaining: 193ms\n",
      "852:\tlearn: 0.3097832\ttotal: 1.11s\tremaining: 192ms\n",
      "853:\tlearn: 0.3095643\ttotal: 1.11s\tremaining: 190ms\n",
      "854:\tlearn: 0.3092616\ttotal: 1.11s\tremaining: 189ms\n",
      "855:\tlearn: 0.3091836\ttotal: 1.11s\tremaining: 188ms\n",
      "856:\tlearn: 0.3091435\ttotal: 1.12s\tremaining: 186ms\n",
      "857:\tlearn: 0.3089188\ttotal: 1.12s\tremaining: 185ms\n",
      "858:\tlearn: 0.3085480\ttotal: 1.12s\tremaining: 184ms\n",
      "859:\tlearn: 0.3083616\ttotal: 1.12s\tremaining: 182ms\n",
      "860:\tlearn: 0.3081212\ttotal: 1.12s\tremaining: 181ms\n",
      "861:\tlearn: 0.3080023\ttotal: 1.12s\tremaining: 180ms\n",
      "862:\tlearn: 0.3078572\ttotal: 1.12s\tremaining: 179ms\n",
      "863:\tlearn: 0.3076670\ttotal: 1.13s\tremaining: 177ms\n",
      "864:\tlearn: 0.3075049\ttotal: 1.13s\tremaining: 176ms\n",
      "865:\tlearn: 0.3073368\ttotal: 1.13s\tremaining: 175ms\n",
      "866:\tlearn: 0.3071582\ttotal: 1.13s\tremaining: 173ms\n",
      "867:\tlearn: 0.3071535\ttotal: 1.13s\tremaining: 172ms\n",
      "868:\tlearn: 0.3070308\ttotal: 1.13s\tremaining: 171ms\n",
      "869:\tlearn: 0.3069172\ttotal: 1.13s\tremaining: 169ms\n",
      "870:\tlearn: 0.3067577\ttotal: 1.13s\tremaining: 168ms\n",
      "871:\tlearn: 0.3066493\ttotal: 1.14s\tremaining: 167ms\n",
      "872:\tlearn: 0.3065057\ttotal: 1.14s\tremaining: 165ms\n",
      "873:\tlearn: 0.3064302\ttotal: 1.14s\tremaining: 164ms\n",
      "874:\tlearn: 0.3063348\ttotal: 1.14s\tremaining: 163ms\n",
      "875:\tlearn: 0.3061215\ttotal: 1.14s\tremaining: 161ms\n",
      "876:\tlearn: 0.3060295\ttotal: 1.14s\tremaining: 160ms\n",
      "877:\tlearn: 0.3058876\ttotal: 1.14s\tremaining: 159ms\n",
      "878:\tlearn: 0.3057333\ttotal: 1.14s\tremaining: 158ms\n",
      "879:\tlearn: 0.3056816\ttotal: 1.15s\tremaining: 156ms\n",
      "880:\tlearn: 0.3054742\ttotal: 1.15s\tremaining: 155ms\n",
      "881:\tlearn: 0.3052818\ttotal: 1.15s\tremaining: 154ms\n",
      "882:\tlearn: 0.3051074\ttotal: 1.15s\tremaining: 152ms\n",
      "883:\tlearn: 0.3049987\ttotal: 1.15s\tremaining: 151ms\n",
      "884:\tlearn: 0.3049407\ttotal: 1.15s\tremaining: 150ms\n",
      "885:\tlearn: 0.3048387\ttotal: 1.15s\tremaining: 148ms\n",
      "886:\tlearn: 0.3047091\ttotal: 1.16s\tremaining: 147ms\n",
      "887:\tlearn: 0.3046641\ttotal: 1.16s\tremaining: 146ms\n",
      "888:\tlearn: 0.3046601\ttotal: 1.16s\tremaining: 145ms\n",
      "889:\tlearn: 0.3043436\ttotal: 1.16s\tremaining: 143ms\n",
      "890:\tlearn: 0.3042052\ttotal: 1.16s\tremaining: 142ms\n",
      "891:\tlearn: 0.3039869\ttotal: 1.16s\tremaining: 141ms\n",
      "892:\tlearn: 0.3038201\ttotal: 1.16s\tremaining: 139ms\n",
      "893:\tlearn: 0.3038152\ttotal: 1.16s\tremaining: 138ms\n",
      "894:\tlearn: 0.3035952\ttotal: 1.16s\tremaining: 137ms\n",
      "895:\tlearn: 0.3034359\ttotal: 1.17s\tremaining: 135ms\n",
      "896:\tlearn: 0.3033109\ttotal: 1.17s\tremaining: 134ms\n",
      "897:\tlearn: 0.3030011\ttotal: 1.17s\tremaining: 133ms\n",
      "898:\tlearn: 0.3028022\ttotal: 1.17s\tremaining: 131ms\n",
      "899:\tlearn: 0.3027195\ttotal: 1.17s\tremaining: 130ms\n",
      "900:\tlearn: 0.3026249\ttotal: 1.17s\tremaining: 129ms\n",
      "901:\tlearn: 0.3025422\ttotal: 1.17s\tremaining: 128ms\n",
      "902:\tlearn: 0.3023516\ttotal: 1.18s\tremaining: 126ms\n",
      "903:\tlearn: 0.3021479\ttotal: 1.18s\tremaining: 125ms\n",
      "904:\tlearn: 0.3020621\ttotal: 1.18s\tremaining: 124ms\n",
      "905:\tlearn: 0.3018643\ttotal: 1.18s\tremaining: 122ms\n",
      "906:\tlearn: 0.3016964\ttotal: 1.18s\tremaining: 121ms\n",
      "907:\tlearn: 0.3014895\ttotal: 1.18s\tremaining: 120ms\n",
      "908:\tlearn: 0.3012493\ttotal: 1.18s\tremaining: 119ms\n",
      "909:\tlearn: 0.3011909\ttotal: 1.19s\tremaining: 117ms\n",
      "910:\tlearn: 0.3010783\ttotal: 1.19s\tremaining: 116ms\n",
      "911:\tlearn: 0.3010301\ttotal: 1.19s\tremaining: 115ms\n",
      "912:\tlearn: 0.3007739\ttotal: 1.19s\tremaining: 113ms\n",
      "913:\tlearn: 0.3006123\ttotal: 1.19s\tremaining: 112ms\n",
      "914:\tlearn: 0.3004296\ttotal: 1.19s\tremaining: 111ms\n",
      "915:\tlearn: 0.3004049\ttotal: 1.19s\tremaining: 109ms\n",
      "916:\tlearn: 0.3001978\ttotal: 1.19s\tremaining: 108ms\n",
      "917:\tlearn: 0.3000574\ttotal: 1.2s\tremaining: 107ms\n",
      "918:\tlearn: 0.2999905\ttotal: 1.2s\tremaining: 105ms\n",
      "919:\tlearn: 0.2998222\ttotal: 1.2s\tremaining: 104ms\n",
      "920:\tlearn: 0.2996780\ttotal: 1.2s\tremaining: 103ms\n",
      "921:\tlearn: 0.2994569\ttotal: 1.2s\tremaining: 102ms\n",
      "922:\tlearn: 0.2994016\ttotal: 1.2s\tremaining: 100ms\n",
      "923:\tlearn: 0.2992375\ttotal: 1.2s\tremaining: 99ms\n",
      "924:\tlearn: 0.2990692\ttotal: 1.21s\tremaining: 97.7ms\n",
      "925:\tlearn: 0.2988108\ttotal: 1.21s\tremaining: 96.4ms\n",
      "926:\tlearn: 0.2987039\ttotal: 1.21s\tremaining: 95.1ms\n",
      "927:\tlearn: 0.2985837\ttotal: 1.21s\tremaining: 93.8ms\n",
      "928:\tlearn: 0.2984037\ttotal: 1.21s\tremaining: 92.5ms\n",
      "929:\tlearn: 0.2982249\ttotal: 1.21s\tremaining: 91.2ms\n",
      "930:\tlearn: 0.2981046\ttotal: 1.21s\tremaining: 89.9ms\n",
      "931:\tlearn: 0.2979140\ttotal: 1.21s\tremaining: 88.6ms\n",
      "932:\tlearn: 0.2977807\ttotal: 1.22s\tremaining: 87.3ms\n",
      "933:\tlearn: 0.2976353\ttotal: 1.22s\tremaining: 86ms\n",
      "934:\tlearn: 0.2974223\ttotal: 1.22s\tremaining: 84.8ms\n",
      "935:\tlearn: 0.2972866\ttotal: 1.22s\tremaining: 83.5ms\n",
      "936:\tlearn: 0.2972508\ttotal: 1.22s\tremaining: 82.2ms\n",
      "937:\tlearn: 0.2970972\ttotal: 1.22s\tremaining: 80.9ms\n",
      "938:\tlearn: 0.2969968\ttotal: 1.22s\tremaining: 79.5ms\n",
      "939:\tlearn: 0.2968398\ttotal: 1.23s\tremaining: 78.2ms\n",
      "940:\tlearn: 0.2966519\ttotal: 1.23s\tremaining: 76.9ms\n",
      "941:\tlearn: 0.2963986\ttotal: 1.23s\tremaining: 75.7ms\n",
      "942:\tlearn: 0.2962636\ttotal: 1.23s\tremaining: 74.4ms\n",
      "943:\tlearn: 0.2961349\ttotal: 1.23s\tremaining: 73.1ms\n",
      "944:\tlearn: 0.2959906\ttotal: 1.23s\tremaining: 71.8ms\n",
      "945:\tlearn: 0.2958130\ttotal: 1.24s\tremaining: 70.5ms\n",
      "946:\tlearn: 0.2956323\ttotal: 1.24s\tremaining: 69.2ms\n",
      "947:\tlearn: 0.2954743\ttotal: 1.24s\tremaining: 67.9ms\n",
      "948:\tlearn: 0.2953699\ttotal: 1.24s\tremaining: 66.6ms\n",
      "949:\tlearn: 0.2952215\ttotal: 1.24s\tremaining: 65.3ms\n",
      "950:\tlearn: 0.2950172\ttotal: 1.24s\tremaining: 64ms\n",
      "951:\tlearn: 0.2948767\ttotal: 1.24s\tremaining: 62.7ms\n",
      "952:\tlearn: 0.2947274\ttotal: 1.24s\tremaining: 61.4ms\n",
      "953:\tlearn: 0.2946150\ttotal: 1.25s\tremaining: 60.1ms\n",
      "954:\tlearn: 0.2944570\ttotal: 1.25s\tremaining: 58.8ms\n",
      "955:\tlearn: 0.2942817\ttotal: 1.25s\tremaining: 57.5ms\n",
      "956:\tlearn: 0.2940970\ttotal: 1.25s\tremaining: 56.1ms\n",
      "957:\tlearn: 0.2939030\ttotal: 1.25s\tremaining: 54.8ms\n",
      "958:\tlearn: 0.2937041\ttotal: 1.25s\tremaining: 53.5ms\n",
      "959:\tlearn: 0.2936790\ttotal: 1.25s\tremaining: 52.2ms\n",
      "960:\tlearn: 0.2935381\ttotal: 1.25s\tremaining: 50.9ms\n",
      "961:\tlearn: 0.2933642\ttotal: 1.25s\tremaining: 49.6ms\n",
      "962:\tlearn: 0.2932832\ttotal: 1.26s\tremaining: 48.3ms\n",
      "963:\tlearn: 0.2932018\ttotal: 1.26s\tremaining: 47ms\n",
      "964:\tlearn: 0.2931189\ttotal: 1.26s\tremaining: 45.7ms\n",
      "965:\tlearn: 0.2928604\ttotal: 1.26s\tremaining: 44.3ms\n",
      "966:\tlearn: 0.2926946\ttotal: 1.26s\tremaining: 43ms\n",
      "967:\tlearn: 0.2924630\ttotal: 1.26s\tremaining: 41.7ms\n",
      "968:\tlearn: 0.2923121\ttotal: 1.26s\tremaining: 40.4ms\n",
      "969:\tlearn: 0.2921914\ttotal: 1.26s\tremaining: 39.1ms\n",
      "970:\tlearn: 0.2920791\ttotal: 1.27s\tremaining: 37.8ms\n",
      "971:\tlearn: 0.2920075\ttotal: 1.27s\tremaining: 36.5ms\n",
      "972:\tlearn: 0.2918507\ttotal: 1.27s\tremaining: 35.2ms\n",
      "973:\tlearn: 0.2917002\ttotal: 1.27s\tremaining: 33.9ms\n",
      "974:\tlearn: 0.2915795\ttotal: 1.27s\tremaining: 32.6ms\n",
      "975:\tlearn: 0.2914388\ttotal: 1.27s\tremaining: 31.3ms\n",
      "976:\tlearn: 0.2913107\ttotal: 1.27s\tremaining: 30ms\n",
      "977:\tlearn: 0.2912045\ttotal: 1.27s\tremaining: 28.7ms\n",
      "978:\tlearn: 0.2910115\ttotal: 1.27s\tremaining: 27.4ms\n",
      "979:\tlearn: 0.2908746\ttotal: 1.28s\tremaining: 26.1ms\n",
      "980:\tlearn: 0.2907453\ttotal: 1.28s\tremaining: 24.8ms\n",
      "981:\tlearn: 0.2906871\ttotal: 1.28s\tremaining: 23.5ms\n",
      "982:\tlearn: 0.2906823\ttotal: 1.28s\tremaining: 22.1ms\n",
      "983:\tlearn: 0.2905376\ttotal: 1.28s\tremaining: 20.8ms\n",
      "984:\tlearn: 0.2903941\ttotal: 1.28s\tremaining: 19.5ms\n",
      "985:\tlearn: 0.2902926\ttotal: 1.28s\tremaining: 18.2ms\n",
      "986:\tlearn: 0.2901801\ttotal: 1.28s\tremaining: 16.9ms\n",
      "987:\tlearn: 0.2900633\ttotal: 1.29s\tremaining: 15.6ms\n",
      "988:\tlearn: 0.2899263\ttotal: 1.29s\tremaining: 14.3ms\n",
      "989:\tlearn: 0.2898444\ttotal: 1.29s\tremaining: 13ms\n",
      "990:\tlearn: 0.2898393\ttotal: 1.29s\tremaining: 11.7ms\n",
      "991:\tlearn: 0.2898123\ttotal: 1.29s\tremaining: 10.4ms\n",
      "992:\tlearn: 0.2897915\ttotal: 1.29s\tremaining: 9.11ms\n",
      "993:\tlearn: 0.2897879\ttotal: 1.29s\tremaining: 7.81ms\n",
      "994:\tlearn: 0.2896431\ttotal: 1.29s\tremaining: 6.51ms\n",
      "995:\tlearn: 0.2895468\ttotal: 1.3s\tremaining: 5.21ms\n",
      "996:\tlearn: 0.2894034\ttotal: 1.3s\tremaining: 3.9ms\n",
      "997:\tlearn: 0.2892402\ttotal: 1.3s\tremaining: 2.6ms\n",
      "998:\tlearn: 0.2890225\ttotal: 1.3s\tremaining: 1.3ms\n",
      "999:\tlearn: 0.2888715\ttotal: 1.3s\tremaining: 0us\n",
      "Training MSE:  0.08344671977417963\n",
      "Training R2:  0.8048878060138805\n"
     ]
    }
   ],
   "source": [
    "# Create CatBoost Regressor model\n",
    "\n",
    "from catboost import CatBoostRegressor\n",
    "\n",
    "model = CatBoostRegressor(iterations=1000, learning_rate=0.070767, depth=5, early_stopping_rounds=5)\n",
    "\n",
    "# Train the model\n",
    "model.fit(df_x_select, df_y)\n",
    "\n",
    "# Print the training MSE and R2 score\n",
    "print('Training MSE: ', mean_squared_error(df_y, model.predict(df_x_select)))\n",
    "print('Training R2: ', r2_score(df_y, model.predict(df_x_select)))\n",
    "\n",
    "# Save the model\n",
    "pickle.dump(model, open('models/CatBoost_model.pkl', 'wb'))"
   ]
  },
  {
   "cell_type": "code",
   "execution_count": 88,
   "metadata": {},
   "outputs": [
    {
     "name": "stdout",
     "output_type": "stream",
     "text": [
      "  Feature Id  Importances\n",
      "0          9    18.922384\n",
      "1          2    18.253159\n",
      "2          0    17.547409\n",
      "3          8    12.824753\n",
      "4          1    10.645735\n",
      "5          7     9.643254\n",
      "6          4     4.363140\n",
      "7          5     4.355275\n",
      "8          3     2.202524\n",
      "9          6     1.242368\n"
     ]
    }
   ],
   "source": [
    "# print catboost weights with the feature names and biases\n",
    "print(model.get_feature_importance(prettified=True)) "
   ]
  },
  {
   "cell_type": "code",
   "execution_count": 89,
   "metadata": {},
   "outputs": [
    {
     "name": "stdout",
     "output_type": "stream",
     "text": [
      "Training MSE:  0.27535546002609046\n",
      "Training R2:  0.3561735191372787\n"
     ]
    }
   ],
   "source": [
    "# Create AdaBoost Regressor model\n",
    "\n",
    "from sklearn.ensemble import AdaBoostRegressor\n",
    "\n",
    "model = AdaBoostRegressor(n_estimators=100, learning_rate=0.01)\n",
    "\n",
    "# Train the model\n",
    "model.fit(df_x_select, df_y)\n",
    "\n",
    "# Print the training MSE and R2 score\n",
    "print('Training MSE: ', mean_squared_error(df_y, model.predict(df_x_select)))\n",
    "print('Training R2: ', r2_score(df_y, model.predict(df_x_select)))\n",
    "\n",
    "# Save the model\n",
    "pickle.dump(model, open('models/AdaBoost_model.pkl', 'wb'))"
   ]
  },
  {
   "attachments": {},
   "cell_type": "markdown",
   "metadata": {},
   "source": [
    "## Done"
   ]
  }
 ],
 "metadata": {
  "kernelspec": {
   "display_name": "base",
   "language": "python",
   "name": "python3"
  },
  "language_info": {
   "codemirror_mode": {
    "name": "ipython",
    "version": 3
   },
   "file_extension": ".py",
   "mimetype": "text/x-python",
   "name": "python",
   "nbconvert_exporter": "python",
   "pygments_lexer": "ipython3",
   "version": "3.10.9"
  },
  "vscode": {
   "interpreter": {
    "hash": "57bc2b6ce032b5f0e93daa91901b7ea38a856826ef43aa9e95b6d3999f5310df"
   }
  }
 },
 "nbformat": 4,
 "nbformat_minor": 0
}
