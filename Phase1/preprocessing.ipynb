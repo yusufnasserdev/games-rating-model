{
 "cells": [
  {
   "cell_type": "markdown",
   "metadata": {
    "collapsed": false
   },
   "source": [
    "# Data Preprocessing"
   ]
  },
  {
   "attachments": {},
   "cell_type": "markdown",
   "metadata": {},
   "source": [
    "## Importing the libraries"
   ]
  },
  {
   "cell_type": "code",
   "execution_count": 1,
   "metadata": {
    "ExecuteTime": {
     "end_time": "2023-04-14T14:19:38.839351Z",
     "start_time": "2023-04-14T14:19:38.815268Z"
    },
    "collapsed": false
   },
   "outputs": [
    {
     "name": "stderr",
     "output_type": "stream",
     "text": [
      "[nltk_data] Downloading package stopwords to\n",
      "[nltk_data]     C:\\Users\\Yusuf\\AppData\\Roaming\\nltk_data...\n",
      "[nltk_data]   Package stopwords is already up-to-date!\n",
      "[nltk_data] Downloading package wordnet to\n",
      "[nltk_data]     C:\\Users\\Yusuf\\AppData\\Roaming\\nltk_data...\n",
      "[nltk_data]   Package wordnet is already up-to-date!\n",
      "[nltk_data] Downloading package omw-1.4 to\n",
      "[nltk_data]     C:\\Users\\Yusuf\\AppData\\Roaming\\nltk_data...\n",
      "[nltk_data]   Package omw-1.4 is already up-to-date!\n"
     ]
    }
   ],
   "source": [
    "import pandas as pd\n",
    "import numpy as np\n",
    "import pickle\n",
    "\n",
    "import matplotlib.pyplot as plt\n",
    "import seaborn as sns\n",
    "import cv2\n",
    "\n",
    "from sklearn.feature_extraction.text import CountVectorizer\n",
    "from sklearn.preprocessing import MultiLabelBinarizer\n",
    "from sklearn.decomposition import PCA\n",
    "\n",
    "import nltk\n",
    "from nltk.sentiment import SentimentIntensityAnalyzer\n",
    "from nltk.corpus import stopwords\n",
    "from textblob import TextBlob\n",
    "import re\n",
    "\n",
    "nltk.download('stopwords')\n",
    "nltk.download('wordnet')\n",
    "nltk.download('omw-1.4')\n",
    "\n",
    "from datetime import datetime\n",
    "from tqdm import tqdm\n",
    "from scipy import stats\n",
    "\n",
    "import requests\n",
    "import os\n",
    "import shutil\n",
    "\n",
    "import warnings\n",
    "\n",
    "warnings.filterwarnings('ignore')"
   ]
  },
  {
   "cell_type": "markdown",
   "metadata": {
    "collapsed": false
   },
   "source": [
    "## Load the dataset"
   ]
  },
  {
   "cell_type": "code",
   "execution_count": 3,
   "metadata": {
    "ExecuteTime": {
     "end_time": "2023-04-14T10:33:46.390000Z",
     "start_time": "2023-04-14T10:33:46.279076Z"
    },
    "collapsed": false
   },
   "outputs": [],
   "source": [
    "dateparse = lambda x: datetime.strptime(x, '%d/%m/%Y')\n",
    "\n",
    "df_origin = pd.read_csv('games-regression-dataset.csv', \n",
    "                        parse_dates=['Original Release Date' , 'Current Version Release Date'], \n",
    "                        date_parser=dateparse)"
   ]
  },
  {
   "attachments": {},
   "cell_type": "markdown",
   "metadata": {
    "collapsed": false
   },
   "source": [
    "## Download the icons"
   ]
  },
  {
   "cell_type": "code",
   "execution_count": 4,
   "metadata": {},
   "outputs": [
    {
     "name": "stderr",
     "output_type": "stream",
     "text": [
      "100%|██████████| 5214/5214 [00:00<00:00, 8761.36it/s]\n"
     ]
    }
   ],
   "source": [
    "# Convert to string\n",
    "df_origin['Icon URL'] = df_origin['Icon URL'].astype(str)\n",
    "\n",
    "# Download the images\n",
    "def download_image(url, filename):\n",
    "    r = requests.get(url, stream=True)\n",
    "    if r.status_code == 200:\n",
    "        with open(filename, 'wb') as f:\n",
    "            r.raw.decode_content = True\n",
    "            shutil.copyfileobj(r.raw, f)\n",
    "\n",
    "\n",
    "# Create a folder to store the images\n",
    "if not os.path.exists('icons'):\n",
    "    os.makedirs('icons')\n",
    "\n",
    "# Download the images if they don't exist\n",
    "for i, row in tqdm(df_origin.iterrows(), total=df_origin.shape[0]):\n",
    "    if not os.path.exists('icons/' + str(i) + '.png'):\n",
    "        download_image(row['Icon URL'], 'icons/' + str(i) + '.png')\n",
    "        \n",
    "# Replace the URL with the icon filename which is the index of the row\n",
    "df_origin['Icon URL'] = df_origin.apply(lambda row : f'icons/{row.name}.png', axis=1)"
   ]
  },
  {
   "cell_type": "markdown",
   "metadata": {
    "collapsed": false
   },
   "source": [
    "## Data Exploration"
   ]
  },
  {
   "attachments": {},
   "cell_type": "markdown",
   "metadata": {},
   "source": [
    "### General information"
   ]
  },
  {
   "cell_type": "code",
   "execution_count": null,
   "metadata": {
    "ExecuteTime": {
     "end_time": "2023-04-13T16:07:00.183708Z",
     "start_time": "2023-04-13T16:07:00.127616Z"
    },
    "collapsed": false
   },
   "outputs": [],
   "source": [
    "df.head()"
   ]
  },
  {
   "cell_type": "code",
   "execution_count": null,
   "metadata": {
    "ExecuteTime": {
     "end_time": "2023-04-13T14:33:05.138536Z",
     "start_time": "2023-04-13T14:33:05.138536Z"
    },
    "collapsed": false
   },
   "outputs": [],
   "source": [
    "df.info()"
   ]
  },
  {
   "cell_type": "code",
   "execution_count": null,
   "metadata": {
    "ExecuteTime": {
     "end_time": "2023-04-13T14:33:07.893814Z",
     "start_time": "2023-04-13T14:33:07.893814Z"
    },
    "collapsed": false
   },
   "outputs": [],
   "source": [
    "df.isnull().sum()"
   ]
  },
  {
   "attachments": {},
   "cell_type": "markdown",
   "metadata": {},
   "source": [
    "### Genres"
   ]
  },
  {
   "cell_type": "code",
   "execution_count": null,
   "metadata": {
    "ExecuteTime": {
     "end_time": "2023-04-13T14:33:21.139604Z",
     "start_time": "2023-04-13T14:33:21.139604Z"
    },
    "collapsed": false
   },
   "outputs": [],
   "source": [
    "def genres_analysis(_df):\n",
    "    _df['Genres'] = _df['Genres'].astype(str)\n",
    "    _df['Genres'] = _df['Genres'].str.strip('[]').str.replace(\"'\", \"\").str.split(\", \")\n",
    "\n",
    "    genre_counts = _df.explode('Genres').groupby('Genres').size().sort_values(ascending=False)\n",
    "    print(genre_counts)\n"
   ]
  },
  {
   "attachments": {},
   "cell_type": "markdown",
   "metadata": {},
   "source": [
    "### Developer"
   ]
  },
  {
   "cell_type": "code",
   "execution_count": null,
   "metadata": {
    "ExecuteTime": {
     "end_time": "2023-04-13T14:33:43.637371Z",
     "start_time": "2023-04-13T14:33:43.637371Z"
    },
    "collapsed": false
   },
   "outputs": [],
   "source": [
    "def dev_analysis(_df):\n",
    "\n",
    "    print(_df['Developer'].value_counts())\n",
    "    \n",
    "    # print the number developers with more than 1 game\n",
    "    print(len(_df['Developer'].value_counts()[_df['Developer'].value_counts() > 1]))\n",
    "\n",
    "    print(_df['Developer'].unique().size)"
   ]
  },
  {
   "attachments": {},
   "cell_type": "markdown",
   "metadata": {},
   "source": [
    "### Dates"
   ]
  },
  {
   "cell_type": "code",
   "execution_count": null,
   "metadata": {},
   "outputs": [],
   "source": [
    "def date_analysis(_df):\n",
    "    # Plot the distribution of the date columns\n",
    "\n",
    "    fig, ax = plt.subplots(5, 2, figsize=(20, 20))\n",
    "\n",
    "    # df = date_preprocessing(df)\n",
    "\n",
    "    # game_age distribution\n",
    "    sns.histplot(_df['game_age'], ax=ax[0, 0])\n",
    "    sns.boxplot(_df['game_age'], ax=ax[0, 1], orient='h')\n",
    "\n",
    "    # last_update distribution\n",
    "    sns.histplot(_df['last_update'], ax=ax[1, 0])\n",
    "    sns.boxplot(_df['last_update'], ax=ax[1, 1], orient='h')\n",
    "\n",
    "    # Original Release Date distribution\n",
    "    sns.histplot(_df['Original Release Date'], ax=ax[2, 0])\n",
    "    sns.boxplot(_df['Original Release Date'], ax=ax[2, 1], orient='h')\n",
    "\n",
    "    # Current Version Release Date distribution\n",
    "    sns.histplot(_df['Current Version Release Date'], ax=ax[3, 0])\n",
    "    sns.boxplot(_df['Current Version Release Date'], ax=ax[3, 1], orient='h')\n",
    "\n",
    "    # maintaning_period distribution\n",
    "    sns.histplot(_df['maintaning_period'], ax=ax[4, 0])\n",
    "    sns.boxplot(_df['maintaning_period'], ax=ax[4, 1], orient='h')\n",
    "\n",
    "    plt.show()\n",
    "\n",
    "# Date outliers are legitimate data points that are worth keeping, they are not errors nor anomalies"
   ]
  },
  {
   "attachments": {},
   "cell_type": "markdown",
   "metadata": {},
   "source": [
    "### Languages"
   ]
  },
  {
   "cell_type": "code",
   "execution_count": null,
   "metadata": {
    "ExecuteTime": {
     "end_time": "2023-04-13T14:33:49.943309Z",
     "start_time": "2023-04-13T14:33:49.943309Z"
    },
    "collapsed": false
   },
   "outputs": [],
   "source": [
    "def lang_analysis(_df):\n",
    "    _df['Languages'] = _df['Languages'].astype(str)\n",
    "    _df['Languages'] = _df['Languages'].str.strip('[]').str.replace(\"'\", \"\").str.split(\", \")\n",
    "\n",
    "    langs_counts = _df.explode('Languages').groupby('Languages').size().sort_values(ascending=False)\n",
    "    print(langs_counts[1:30])\n"
   ]
  },
  {
   "cell_type": "code",
   "execution_count": null,
   "metadata": {},
   "outputs": [],
   "source": [
    "df.hist(figsize=(15, 15))"
   ]
  },
  {
   "cell_type": "markdown",
   "metadata": {
    "collapsed": false
   },
   "source": [
    "## Dates preprocessing"
   ]
  },
  {
   "cell_type": "code",
   "execution_count": 5,
   "metadata": {
    "ExecuteTime": {
     "end_time": "2023-04-14T10:36:05.737187Z",
     "start_time": "2023-04-14T10:36:05.699973Z"
    },
    "collapsed": false
   },
   "outputs": [],
   "source": [
    "def date_preprocess(_df):\n",
    "    # Convert the datetime to ordinal\n",
    "    _df['Original Release Date'] = _df['Original Release Date'].apply(lambda x: x.toordinal())\n",
    "    _df['Current Version Release Date'] = _df['Current Version Release Date'].apply(lambda x: x.toordinal())\n",
    "    \n",
    "    # Create a new column with the age of the game\n",
    "    _df['game_age'] = datetime.now().toordinal() - _df['Original Release Date']\n",
    "\n",
    "    # Create a new column with the time since the last update\n",
    "    _df['last_update'] = datetime.now().toordinal() - _df['Current Version Release Date']\n",
    "    \n",
    "    # Create a new column with the maintaning period\n",
    "    _df['maintaning_period'] = _df['last_update'] - _df['game_age']\n",
    "\n",
    "    return _df"
   ]
  },
  {
   "cell_type": "markdown",
   "metadata": {
    "collapsed": false
   },
   "source": [
    "## Developer preprocessing"
   ]
  },
  {
   "attachments": {},
   "cell_type": "markdown",
   "metadata": {},
   "source": [
    "### Target encoding approach"
   ]
  },
  {
   "cell_type": "code",
   "execution_count": 6,
   "metadata": {
    "ExecuteTime": {
     "end_time": "2023-04-14T10:35:14.110217Z",
     "start_time": "2023-04-14T10:35:13.123201Z"
    },
    "collapsed": false
   },
   "outputs": [],
   "source": [
    "def dev_preprocess_target_enc(_df):\n",
    "    # Convert to string\n",
    "    _df['Developer'] = _df['Developer'].astype(str)\n",
    "    _df['Developer'] = _df['Developer'].str.replace(\"'\", \"\").str.strip('[]')\n",
    "\n",
    "    # Replace the developer names with less than 2 games with 'Other'\n",
    "    dev_counts = _df['Developer'].value_counts()\n",
    "    other = dev_counts[dev_counts < 2].index\n",
    "    \n",
    "    # Drop rows with developers in other\n",
    "    # _df = _df[~_df['Developer'].isin(other)]\n",
    "    \n",
    "    _df['Developer'] = _df['Developer'].replace(other, 'Other')\n",
    "\n",
    "    # Get the average user rating for all the developers that have more than 1 game\n",
    "    mean = _df.groupby('Developer').filter(lambda x: len(x) > 1)['Average User Rating'].mean()\n",
    "    \n",
    "    dev_df = _df[['Developer', 'Average User Rating']].groupby('Developer').mean()\n",
    "    \n",
    "    # Replace the value of 'Other' with the mean\n",
    "    dev_df.loc['Other'] = mean\n",
    "\n",
    "    # Save dev_df to be used on the test set\n",
    "    dev_df.to_csv('encoders/dev_avg.csv')\n",
    "\n",
    "    # Replace the developer names with the average user rating from dev_df\n",
    "    _df['dev_avg'] = _df['Developer'].replace(dev_df.index, dev_df['Average User Rating'])\n",
    "    \n",
    "    return _df"
   ]
  },
  {
   "attachments": {},
   "cell_type": "markdown",
   "metadata": {},
   "source": [
    "### Frequency encoding approach"
   ]
  },
  {
   "cell_type": "code",
   "execution_count": 7,
   "metadata": {},
   "outputs": [],
   "source": [
    "# Frequency encoding\n",
    "\n",
    "def dev_preprocess_freq_enc(_df):\n",
    "    # Convert to string\n",
    "    _df['Developer'] = _df['Developer'].astype(str)\n",
    "    _df['Developer'] = _df['Developer'].str.replace(\"'\", \"\").str.strip('[]')\n",
    "    \n",
    "    # Get the frequency of each developer\n",
    "    dev_freqs = pd.value_counts(_df['Developer']).reset_index()\n",
    "    dev_freqs.columns = ['Developer', 'Frequency']\n",
    "    \n",
    "    # Save dev_freqs to be used on the test set\n",
    "    dev_freqs.to_csv('encoders/dev_freq.csv', index=False)\n",
    "    \n",
    "    # Create a dictionary mapping developers to frequencies\n",
    "    dev_freq_dict = dict(zip(dev_freqs['Developer'], dev_freqs['Frequency']))\n",
    "\n",
    "    # Create a new column with the frequency of each developer\n",
    "    _df['dev_freq'] = _df['Developer'].map(dev_freq_dict)\n",
    "        \n",
    "    return _df\n"
   ]
  },
  {
   "cell_type": "markdown",
   "metadata": {
    "collapsed": false
   },
   "source": [
    "## Genres preprocessing"
   ]
  },
  {
   "attachments": {},
   "cell_type": "markdown",
   "metadata": {},
   "source": [
    "### 1. NLP approach (Bag of Words)"
   ]
  },
  {
   "cell_type": "code",
   "execution_count": 8,
   "metadata": {
    "ExecuteTime": {
     "end_time": "2023-04-14T10:35:21.245168Z",
     "start_time": "2023-04-14T10:35:20.885068Z"
    },
    "collapsed": false
   },
   "outputs": [],
   "source": [
    "def genres_preprocess_bow(_df):\n",
    "    # Convert the genres column to a list of strings\n",
    "    _df['Genres'] = _df['Genres'].astype(str)\n",
    "    _df['Genres'] = _df['Genres'].str.strip('[]').str.replace(\"'\", \"\").str.split(\", \")\n",
    "\n",
    "    # drop Games, Strategy, Entertainment from the Genres column\n",
    "    _df['Genres'] = _df['Genres'].apply(lambda x: [genre for genre in x if genre not in ['Games', 'Strategy', 'Entertainment']])\n",
    "\n",
    "    # Join the list of genres into a single string\n",
    "    genres = _df['Genres'].apply(lambda x: ' '.join(x))\n",
    "\n",
    "    # Create a count Vectorizer and fit it to the genres\n",
    "    count_vec = CountVectorizer()\n",
    "    bow_genres = count_vec.fit_transform(genres)\n",
    "    \n",
    "    # Save the count vectorizer to be used on the test set\n",
    "    pickle.dump(count_vec, open('encoders/count_vec.pkl', 'wb'))\n",
    "\n",
    "    # Apply principal component analysis to reduce the dimensionality\n",
    "    pca = PCA(n_components=10)\n",
    "    pca_genres = pca.fit_transform(bow_genres.toarray())\n",
    "\n",
    "    # Add the PCA-transformed genres to the original dataframe\n",
    "    for i in range(10):\n",
    "        _df[f'genre_{i}'] = pca_genres[:, i]\n",
    "\n",
    "    return _df"
   ]
  },
  {
   "attachments": {},
   "cell_type": "markdown",
   "metadata": {},
   "source": [
    "### 2. Dummy variables approach"
   ]
  },
  {
   "cell_type": "code",
   "execution_count": 9,
   "metadata": {},
   "outputs": [],
   "source": [
    "def genres_preprocess_dummies(_df):\n",
    "    # Convert the genres column to a list of strings\n",
    "    _df['Genres'] = _df['Genres'].astype(str)\n",
    "    _df['Genres'] = _df['Genres'].str.strip('[]').str.replace(\"'\", \"\").str.split(\", \")\n",
    "    \n",
    "    # drop Games, Strategy, Entertainment from the Genres column\n",
    "    _df['Genres'] = _df['Genres'].apply(lambda x: [genre for genre in x if genre not in ['Games', 'Strategy', 'Entertainment']])\n",
    "    \n",
    "    # Replace genres with counts less than 100 with 'infrequent' as it would represent a very small percentage of the data (less than 2%)\n",
    "    threshold = _df.shape[0] * 0.02\n",
    "    \n",
    "    other = _df['Genres'].explode().value_counts()[_df['Genres'].explode().value_counts() < threshold].index\n",
    "    _df['Genres'] = _df['Genres'].apply(lambda x: [genre if genre not in other else 'infrequent' for genre in x])\n",
    "    \n",
    "    # Get dummy variables for the genres\n",
    "    genres = pd.get_dummies(_df['Genres'].apply(pd.Series).stack(), prefix=\"genre\", dummy_na=False).sum(level=0)\n",
    "    \n",
    "    # Save the genres dummies to be used on the test set\n",
    "    genres.to_csv('encoders/genres.csv', index=False)\n",
    "    \n",
    "    # Add the dummy variables to the original dataframe\n",
    "    _df = pd.concat([_df, genres], axis=1)\n",
    "    \n",
    "    # Fill the NaN values with 0\n",
    "    genre_cols = [col for col in _df.columns if col.startswith('genre')] # get all columns with prefix 'genre'\n",
    "    _df[genre_cols] = _df[genre_cols].fillna(0) # fill the NaN values with 0\n",
    "    \n",
    "    return _df"
   ]
  },
  {
   "attachments": {},
   "cell_type": "markdown",
   "metadata": {},
   "source": [
    "### 3. Multi-label binarizer"
   ]
  },
  {
   "cell_type": "code",
   "execution_count": 10,
   "metadata": {},
   "outputs": [],
   "source": [
    "def genres_preprocessing_mlb(_df):\n",
    "    # Convert the genres column to a list of strings\n",
    "    _df['Genres'] = _df['Genres'].astype(str)\n",
    "    _df['Genres'] = _df['Genres'].str.strip('[]').str.replace(\"'\", \"\").str.split(\", \")\n",
    "\n",
    "    # drop Games, Strategy, Entertainment from the Genres column\n",
    "    _df['Genres'] = _df['Genres'].apply(lambda x: [genre for genre in x if genre not in ['Games', 'Strategy', 'Entertainment']])\n",
    "\n",
    "    # Replace genres with counts less than 100 with 'infrequent' as it would represent a very small percentage of the data (less than 2%)\n",
    "    threshold = _df.shape[0] * 0.02\n",
    "\n",
    "    other = _df['Genres'].explode().value_counts()[_df['Genres'].explode().value_counts() < threshold].index\n",
    "    _df['Genres'] = _df['Genres'].apply(lambda x: [genre if genre not in other else 'infrequent_genre' for genre in x])\n",
    "\n",
    "    # Instantiate the MultiLabelBinarizer\n",
    "    mlb = MultiLabelBinarizer()\n",
    "\n",
    "    # Fit the MultiLabelBinarizer to the genres\n",
    "    mlb.fit(_df['Genres'])\n",
    "\n",
    "    # Drop nan from the classes\n",
    "    mlb.classes_ = np.delete(mlb.classes_, np.where(mlb.classes_ == 'nan'))\n",
    "\n",
    "    # Save the mlb for later use with the test data\n",
    "    pickle.dump(mlb, open('encoders/mlb_genres.pkl', 'wb'))\n",
    "\n",
    "    # Transform the genres into a one-hot encoded array\n",
    "    genres_mlb = mlb.transform(_df['Genres'])\n",
    "\n",
    "    # Create a dataframe from the one-hot encoded array\n",
    "    genres_mlb_df = pd.DataFrame(genres_mlb, columns=mlb.classes_)\n",
    "\n",
    "    # Add the one-hot encoded genres to the original dataframe\n",
    "    _df = pd.concat([_df, genres_mlb_df], axis=1)\n",
    "    \n",
    "    return _df"
   ]
  },
  {
   "cell_type": "markdown",
   "metadata": {
    "collapsed": false
   },
   "source": [
    "## Languages preprocessing"
   ]
  },
  {
   "attachments": {},
   "cell_type": "markdown",
   "metadata": {},
   "source": [
    "### 1. NLP approach"
   ]
  },
  {
   "cell_type": "code",
   "execution_count": 11,
   "metadata": {
    "ExecuteTime": {
     "end_time": "2023-04-14T10:35:38.695352Z",
     "start_time": "2023-04-14T10:35:38.599717Z"
    },
    "collapsed": false
   },
   "outputs": [],
   "source": [
    "def lang_preprocessing_bow(_df):\n",
    "    # Convert the langs column to a list of strings\n",
    "    _df['Languages'] = _df['Languages'].astype(str)\n",
    "    _df['Languages'] = _df['Languages'].str.strip('[]').str.replace(\"'\", \"\").str.split(\", \")\n",
    "    \n",
    "    # drop English from the Languages column\n",
    "    _df['Languages'] = _df['Languages'].apply(lambda x: [lang for lang in x if lang not in ['EN']])\n",
    "    \n",
    "    # Join the list of langs into a single string\n",
    "    languages = _df['Languages'].apply(lambda x: ' '.join(x))\n",
    "    \n",
    "    # Create a count Vectorizer and fit it to the langs\n",
    "    count_vec = CountVectorizer()\n",
    "    bow_languages = count_vec.fit_transform(languages)\n",
    "    \n",
    "    # Save the count vectorizer to be used on the test set\n",
    "    pickle.dump(count_vec, open('encoders/count_vec_lang.pkl', 'wb'))\n",
    "    \n",
    "    # Apply principal component analysis to reduce the dimensionality\n",
    "    pca = PCA(n_components=10)\n",
    "    pca_languages = pca.fit_transform(bow_languages.toarray())\n",
    "    \n",
    "    # Save the pca to be used on the test set\n",
    "    pickle.dump(pca, open('encoders/pca_lang.pkl', 'wb'))\n",
    "    \n",
    "    # Add the PCA-transformed langs to the original dataframe\n",
    "    for i in range(len(pca_languages[0])):\n",
    "        _df[f'lang_{i}'] = pca_languages[:, i]\n",
    "        \n",
    "    return _df\n"
   ]
  },
  {
   "attachments": {},
   "cell_type": "markdown",
   "metadata": {},
   "source": [
    "### 2. Dummy variables approach"
   ]
  },
  {
   "cell_type": "code",
   "execution_count": 12,
   "metadata": {},
   "outputs": [],
   "source": [
    "def langs_preprocess_dummies(_df):\n",
    "    # Convert the langs column to a list of strings\n",
    "    _df['Languages'] = _df['Languages'].astype(str)\n",
    "    _df['Languages'] = _df['Languages'].str.strip('[]').str.replace(\"'\", \"\").str.split(\", \")\n",
    "    \n",
    "    # Create a column with the number of languages supported\n",
    "    _df['langs_count'] = _df['Languages'].apply(lambda x: len(x)) \n",
    "    \n",
    "    # drop English from the Languages column\n",
    "    _df['Languages'] = _df['Languages'].apply(lambda x: [lang for lang in x if lang not in ['EN']])\n",
    "    \n",
    "    # Replace languages with counts less than 100 with 'infrequent' as it would represent a very small percentage of the data (less than 10%)\n",
    "    threshold = _df.shape[0] * 0.1\n",
    "    \n",
    "    # Replace langs with counts less than 500 with 'infrequent_langs' as it would represent a very small percentage of the data (less than 10%)\n",
    "    other = _df['Languages'].explode().value_counts()[_df['Languages'].explode().value_counts() < threshold].index\n",
    "    _df['Languages'] = _df['Languages'].apply(lambda x: [lang if lang not in other else 'infrequent' for lang in x])\n",
    "\n",
    "    # Get dummy variables for the langs\n",
    "    langs = pd.get_dummies(_df['Languages'].apply(pd.Series).stack(), prefix='lang', dummy_na=False).sum(level=0)\n",
    "\n",
    "    langs.to_csv('encoders/langs.csv', index=False)\n",
    "\n",
    "    # Add the dummy variables to the original dataframe\n",
    "    _df = pd.concat([_df, langs], axis=1)\n",
    "\n",
    "    # Fill NaN with 0\n",
    "    lang_cols = [col for col in _df.columns if col.startswith('lang')] # get all columns with prefix 'lang'\n",
    "    _df[lang_cols] = _df[lang_cols].fillna(0) # fill NaN with 0 for selected columns\n",
    "    \n",
    "    return _df\n",
    "    \n",
    "    "
   ]
  },
  {
   "attachments": {},
   "cell_type": "markdown",
   "metadata": {},
   "source": [
    "### 3. Multi-label binarizer"
   ]
  },
  {
   "cell_type": "code",
   "execution_count": 13,
   "metadata": {},
   "outputs": [],
   "source": [
    "def lang_preprocess_mlb(_df):\n",
    "    # Convert the langs column to a list of strings\n",
    "    _df['Languages'] = _df['Languages'].astype(str)\n",
    "    _df['Languages'] = _df['Languages'].str.strip('[]').str.replace(\"'\", \"\").str.split(\", \")\n",
    "\n",
    "    # Create a column with the number of languages supported\n",
    "    _df['langs_count'] = _df['Languages'].apply(lambda x: len(x))\n",
    "\n",
    "    # Drop the English language from the Languages column (it is the most common language and would dominate the model)\n",
    "    _df['Languages'] = _df['Languages'].apply(lambda x: [lang for lang in x if lang not in ['EN']])\n",
    "\n",
    "    # Replace langs with counts less than 500 with 'infrequent_langs' as it would represent a very small percentage of the data (less than 10%)\n",
    "    other = _df['Languages'].explode().value_counts()[df['Languages'].explode().value_counts() < 400].index\n",
    "    _df['Languages'] = _df['Languages'].apply(lambda x: [lang if lang not in other else 'infrequent_lang' for lang in x])\n",
    "\n",
    "    # Instantiate the MultiLabelBinarizer\n",
    "    mlb = MultiLabelBinarizer()\n",
    "\n",
    "    # Fit the MultiLabelBinarizer to the langs\n",
    "    mlb.fit(_df['Languages'])\n",
    "\n",
    "    # Drop nan from the classes\n",
    "    mlb.classes_ = np.delete(mlb.classes_, np.where(mlb.classes_ == 'nan'))\n",
    "\n",
    "    # Save the mlb for later use with the test data\n",
    "    pickle.dump(mlb, open('encoders/mlb_langs.pkl', 'wb'))\n",
    "\n",
    "    # Transform the langs into a one-hot encoded array\n",
    "    langs_mlb = mlb.transform(_df['Languages'])\n",
    "\n",
    "    # Create a dataframe from the one-hot encoded array\n",
    "    langs_mlb_df = pd.DataFrame(langs_mlb, columns=mlb.classes_)\n",
    "\n",
    "    # Add the encoded langs to the original dataframe\n",
    "    _df = pd.concat([_df, langs_mlb_df], axis=1)\n",
    "    \n",
    "    return _df"
   ]
  },
  {
   "cell_type": "markdown",
   "metadata": {
    "collapsed": false
   },
   "source": [
    "## In-app Purchases preprocessing"
   ]
  },
  {
   "cell_type": "code",
   "execution_count": 14,
   "metadata": {
    "ExecuteTime": {
     "end_time": "2023-04-14T10:35:52.935497Z",
     "start_time": "2023-04-14T10:35:52.881403Z"
    },
    "collapsed": false
   },
   "outputs": [],
   "source": [
    "# Free apps might skew the in-app purchases column,\n",
    "# so we might split the dataset into free and paid apps\n",
    "\n",
    "def purchases_preprocess(_df):\n",
    "    # Convert the In-app Purchases column to a list of floats\n",
    "    _df['In-app Purchases'] = _df['In-app Purchases'].astype(str)\n",
    "    _df['In-app Purchases'] = _df['In-app Purchases'].str.strip('[]').str.replace(\"'\", \"\").str.split(\", \")\n",
    "\n",
    "    # Convert to float\n",
    "    _df['In-app Purchases'] = _df['In-app Purchases'].apply(lambda x: [float(i) for i in x])\n",
    "\n",
    "    # Get the number of in-app purchases\n",
    "    _df['purchases_count'] = _df['In-app Purchases'].apply(lambda x: len(x))\n",
    "\n",
    "    # Get the lowest, highest and average purchase\n",
    "    _df['lowest_purchase'] = _df['In-app Purchases'].apply(lambda x: min(x) if len(x) > 0 else 0)\n",
    "    _df['highest_purchase'] = _df['In-app Purchases'].apply(lambda x: max(x) if len(x) > 0 else 0)\n",
    "    _df['average_purchase'] = _df['In-app Purchases'].apply(lambda x: np.mean(x) if len(x) > 0 else 0)\n",
    "\n",
    "    _df['lowest_purchase'] = _df['lowest_purchase'].fillna(0)\n",
    "    _df['highest_purchase'] = _df['highest_purchase'].fillna(0)\n",
    "    _df['average_purchase'] = _df['average_purchase'].fillna(0)\n",
    "    \n",
    "    return _df"
   ]
  },
  {
   "cell_type": "markdown",
   "metadata": {
    "collapsed": false
   },
   "source": [
    "## Age Rating preprocessing"
   ]
  },
  {
   "cell_type": "code",
   "execution_count": 15,
   "metadata": {
    "ExecuteTime": {
     "end_time": "2023-04-14T10:36:03.614263Z",
     "start_time": "2023-04-14T10:36:03.579637Z"
    },
    "collapsed": false
   },
   "outputs": [],
   "source": [
    "def age_preprocess(_df):\n",
    "    # Convert to string\n",
    "    _df['Age Rating'] = _df['Age Rating'].astype(str)\n",
    "\n",
    "    # Remove the + sign\n",
    "    _df['Age Rating'] = _df['Age Rating'].str.replace('+', '')\n",
    "\n",
    "    # Convert to int\n",
    "    _df['Age Rating'] = _df['Age Rating'].astype(float)\n",
    "    \n",
    "    return _df"
   ]
  },
  {
   "cell_type": "markdown",
   "metadata": {
    "collapsed": false
   },
   "source": [
    "## NLP preprocessing"
   ]
  },
  {
   "cell_type": "code",
   "execution_count": 16,
   "metadata": {
    "ExecuteTime": {
     "end_time": "2023-04-14T10:43:13.386866Z",
     "start_time": "2023-04-14T10:43:13.386866Z"
    },
    "collapsed": false
   },
   "outputs": [],
   "source": [
    "def preprocess_nlp(_df, col):\n",
    "    # Convert to string\n",
    "    _df[col] = _df[col].astype(str)\n",
    "\n",
    "    # Remove URLs and email addresses\n",
    "    _df[col] = _df[col].apply(lambda x: re.sub(r'http\\S+|www.\\S+|\\S+@\\S+', '', x))\n",
    "\n",
    "    # Remove the punctuation, numbers, and convert to lowercase\n",
    "    _df[col] = _df[col].apply(lambda x: \" \".join(re.findall(r'\\w+', x.lower())))\n",
    "\n",
    "    # Remove the stopwords\n",
    "    stop = stopwords.words('english')\n",
    "    _df[col] = _df[col].apply(lambda x: \" \".join(x for x in x.split() if x not in stop))\n",
    "\n",
    "    # Stemming\n",
    "    st = nltk.PorterStemmer()\n",
    "    _df[col] = _df[col].apply(lambda x: \" \".join([st.stem(word) for word in x.split()]))\n",
    "\n",
    "    # Lemmatization\n",
    "    lem = nltk.WordNetLemmatizer()\n",
    "    _df[col] = _df[col].apply(lambda x: \" \".join([lem.lemmatize(word) for word in x.split()]))\n",
    "\n",
    "    # Remove the frequent and rare words\n",
    "    freq = pd.Series(' '.join(_df[col]).split()).value_counts()\n",
    "    common_freq = list(freq[:10].index)\n",
    "    rare_freq = list(freq[-10:].index)\n",
    "    _df[col] = _df[col].apply(lambda x: \" \".join(x for x in x.split() if x not in common_freq+rare_freq))\n",
    "\n",
    "    # Remove the whitespaces\n",
    "    _df[col] = _df[col].apply(lambda x: \" \".join(x.strip() for x in x.split()))\n",
    "\n",
    "    # Replace NaN values with empty string\n",
    "    _df[col] = _df[col].fillna('')\n",
    "\n",
    "    # Convert text data to bag-of-words representation\n",
    "    vectorizer = CountVectorizer()\n",
    "    BoW = vectorizer.fit_transform(_df[col])\n",
    "\n",
    "    # Apply principal component analysis to reduce the dimensionality\n",
    "    pca_ = PCA(n_components=2)\n",
    "    pca_col = pca_.fit_transform(BoW.toarray())\n",
    "    \n",
    "    # Save the vectorizer and pca for later use with the test data\n",
    "    pickle.dump(vectorizer, open(f'encoders/vectorizer_{col}.pkl', 'wb'))\n",
    "    pickle.dump(pca_, open(f'encoders/pca_{col}.pkl', 'wb'))\n",
    "\n",
    "    # Add the PCA-transformed col to the original dataframe\n",
    "    for feat in range(len(pca_col[0])):\n",
    "        _df[f'{col}_PCA_{feat}'] = pca_col[:, feat]\n",
    "        \n",
    "    return _df\n",
    "\n"
   ]
  },
  {
   "attachments": {},
   "cell_type": "markdown",
   "metadata": {},
   "source": [
    "## Description preprocessing"
   ]
  },
  {
   "cell_type": "code",
   "execution_count": 52,
   "metadata": {},
   "outputs": [],
   "source": [
    "# load the Sentiment Intensity Analyzer model from NLTK\n",
    "sia = SentimentIntensityAnalyzer()\n",
    "pickle.dump(sia, open('encoders/sia.pkl', 'wb'))\n",
    "\n",
    "tokenizer = nltk.word_tokenize\n",
    "pickle.dump(nltk.word_tokenize, open('encoders/nltk_word_tokenize.pkl', 'wb'))\n",
    "    \n",
    "def compute_excitement_score(text):\n",
    "    \n",
    "    # compute the polarity scores for the given text\n",
    "    scores = sia.polarity_scores(text)\n",
    "    \n",
    "    # compute the excitement score as the sum of the positive and negative polarity scores\n",
    "    excitement_score = scores['pos'] + abs(scores['neg'])\n",
    "    \n",
    "    return excitement_score\n",
    "\n",
    "# define a function to compute an attractive score from a given text\n",
    "def compute_attractive_score(text):\n",
    "    # define a list of keywords that might make a game attractive to users\n",
    "    attractive_keywords = ['graphics', 'gameplay', 'storyline', 'characters']\n",
    "    \n",
    "    # tokenize the text into words and count how many attractive keywords appear\n",
    "    words = tokenizer(text.lower())\n",
    "    \n",
    "    num_attractive_keywords = len([word for word in words if word in attractive_keywords])\n",
    "    \n",
    "    # compute the attractive score as the ratio of attractive keywords to total words\n",
    "    attractive_score = num_attractive_keywords / len(words) if len(words) > 0 else 0\n",
    "    \n",
    "    return attractive_score\n",
    "\n",
    "def desc_preprocess(_df):\n",
    "    _df['Description'] = _df['Description'].astype(str)\n",
    "    \n",
    "    _df['excitement_score'] = _df['Description'].apply(compute_excitement_score)\n",
    "    _df['attractive_score'] = _df['Description'].apply(compute_attractive_score)\n",
    "    \n",
    "    return _df"
   ]
  },
  {
   "attachments": {},
   "cell_type": "markdown",
   "metadata": {
    "collapsed": false
   },
   "source": [
    "## Icon preprocessing"
   ]
  },
  {
   "cell_type": "code",
   "execution_count": 18,
   "metadata": {
    "ExecuteTime": {
     "end_time": "2023-04-14T10:52:48.299695Z",
     "start_time": "2023-04-14T10:52:13.578629Z"
    },
    "collapsed": false
   },
   "outputs": [],
   "source": [
    "def preprocess_icon(img_path):\n",
    "    # Load the game icon image\n",
    "    img = cv2.imread(img_path)\n",
    "    img = cv2.resize(img, (100, 100))\n",
    "\n",
    "    # Extract color features using color histograms\n",
    "    colors = ('b', 'g', 'r')\n",
    "    color_features = []\n",
    "    for k, col in enumerate(colors):\n",
    "        hist = cv2.calcHist([img], [k], None, [256], [0, 256])\n",
    "        color_features.append(hist)\n",
    "\n",
    "    # Reshape the color features to have a single dimension\n",
    "    color_features = np.concatenate(color_features).ravel()\n",
    "\n",
    "    # Extract shape features using edge detection\n",
    "    gray = cv2.cvtColor(img, cv2.COLOR_BGR2GRAY)\n",
    "    edges = cv2.Canny(gray, 100, 200)\n",
    "    edge_features = np.array(edges).flatten()\n",
    "\n",
    "    # Combine the color and shape features into a single feature vector\n",
    "    feature_vector = np.concatenate((color_features, edge_features))\n",
    "\n",
    "    # Normalize the feature vector to have unit length\n",
    "    normalized_feature_vector = feature_vector / np.linalg.norm(feature_vector)\n",
    "    \n",
    "    return normalized_feature_vector\n"
   ]
  },
  {
   "cell_type": "code",
   "execution_count": 19,
   "metadata": {},
   "outputs": [],
   "source": [
    "def icons_preprocess(_df):\n",
    "\n",
    "    # Create a list to store the feature vectors\n",
    "    icon_features = []\n",
    "\n",
    "    _df['Icon URL'] = _df['Icon URL'].astype(str)\n",
    "\n",
    "    # Iterate over the images and extract the features\n",
    "    for i, row in tqdm(_df.iterrows(), total=_df.shape[0]):\n",
    "        feature_vec = preprocess_icon(row['Icon URL'])\n",
    "        icon_features.append((row['Icon URL'], feature_vec))\n",
    "        \n",
    "    # Apply PCA to reduce the number of features\n",
    "    pca = PCA(n_components=4)\n",
    "    pca.fit([f[1] for f in icon_features])\n",
    "    reduced_features = pca.transform([f[1] for f in icon_features])\n",
    "\n",
    "    # Save the pca instance for later use\n",
    "    pickle.dump(pca, open('encoders/icon_pca.pkl', 'wb'))\n",
    "\n",
    "    # Convert the reduced features to a dataframe\n",
    "    icon_features_df = pd.DataFrame({'Icon URL': [f[0] for f in icon_features],\n",
    "                                        'Icon1': reduced_features[:,0],\n",
    "                                        'Icon2': reduced_features[:,1],\n",
    "                                        'Icon3': reduced_features[:,2],\n",
    "                                        'Icon4': reduced_features[:,3]})\n",
    "    \n",
    "    # Merge the icon features with the original dataframe on the icon URL\n",
    "    _df = _df.merge(icon_features_df, on='Icon URL', how='left')\n",
    "    \n",
    "    return _df"
   ]
  },
  {
   "attachments": {},
   "cell_type": "markdown",
   "metadata": {},
   "source": [
    "## Pipeline"
   ]
  },
  {
   "cell_type": "code",
   "execution_count": 53,
   "metadata": {},
   "outputs": [
    {
     "name": "stderr",
     "output_type": "stream",
     "text": [
      "100%|██████████| 4171/4171 [00:18<00:00, 225.97it/s]\n"
     ]
    }
   ],
   "source": [
    "from sklearn.model_selection import train_test_split\n",
    "\n",
    "df, df_test = train_test_split(df_origin, test_size=0.2, random_state=42)\n",
    "df_test.to_csv('df_test.csv', index=False)\n",
    "\n",
    "# drop Primary Genre\n",
    "df.drop(['Primary Genre', 'ID', 'URL'], axis=1, inplace=True)\n",
    "\n",
    "## Justifications\n",
    "\n",
    "### Primary Genre: it is mostly 'Game' (around 98% of the data has 'Game' as the primary genre). It is not useful for the model.\n",
    "### ID: it is just an ID for the apple store database, not useful for the model.\n",
    "### URL: it is the URL of the app in the apple store, not useful for the model.\n",
    "\n",
    "df = date_preprocess(df)\n",
    "\n",
    "df = dev_preprocess_freq_enc(df)\n",
    "\n",
    "df = dev_preprocess_target_enc(df)\n",
    "\n",
    "df = genres_preprocess_dummies(df)\n",
    "\n",
    "df = langs_preprocess_dummies(df)\n",
    "\n",
    "df = purchases_preprocess(df)\n",
    "\n",
    "df = age_preprocess(df)\n",
    "\n",
    "# df = preprocess_nlp(df, 'Description')\n",
    "# df = preprocess_nlp(df, 'Subtitle')\n",
    "# df = preprocess_nlp(df, 'Name')\n",
    "df = icons_preprocess(df)\n",
    "\n",
    "df = desc_preprocess(df)\n",
    "\n",
    "df = df.drop(['Developer',\n",
    "              'Original Release Date',\n",
    "              'Current Version Release Date',\n",
    "              'Genres',\n",
    "              'Languages' ,\n",
    "              'In-app Purchases',\n",
    "              'Description',\n",
    "              'Subtitle',\n",
    "              'Name', \n",
    "              'Icon URL'], axis=1)\n",
    "\n",
    "# Save the preprocessed data\n",
    "df.to_csv('preprocessed_data.csv', index=False)"
   ]
  },
  {
   "cell_type": "code",
   "execution_count": 21,
   "metadata": {},
   "outputs": [
    {
     "name": "stdout",
     "output_type": "stream",
     "text": [
      "showing info https://raw.githubusercontent.com/nltk/nltk_data/gh-pages/index.xml\n"
     ]
    },
    {
     "data": {
      "text/plain": [
       "True"
      ]
     },
     "execution_count": 21,
     "metadata": {},
     "output_type": "execute_result"
    }
   ],
   "source": [
    "nltk.download()"
   ]
  },
  {
   "attachments": {},
   "cell_type": "markdown",
   "metadata": {},
   "source": [
    "## Scaling and Model Training"
   ]
  },
  {
   "cell_type": "code",
   "execution_count": 29,
   "metadata": {},
   "outputs": [],
   "source": [
    "df = pd.read_csv('preprocessed_data.csv')"
   ]
  },
  {
   "cell_type": "code",
   "execution_count": null,
   "metadata": {},
   "outputs": [],
   "source": [
    "def eliminate_outliers(_df):\n",
    "\n",
    "    # Calculate Z-scores for each data point\n",
    "    z_scores = np.abs(stats.zscore(_df))\n",
    "\n",
    "    # Define a threshold to identify an outlier\n",
    "    threshold = 3\n",
    "\n",
    "    # Get a list of row numbers which are outliers\n",
    "    outlier_rows = np.where(z_scores > threshold)[0]\n",
    "\n",
    "    print(f'Number of outliers: {len(outlier_rows)}')\n",
    "\n",
    "    # Replace the outliers with the mean\n",
    "    mean_values = np.mean(_df[~((z_scores > threshold).any(axis=1))], axis=0)\n",
    "    _df[~((z_scores > threshold).any(axis=1))] = _df[~((z_scores > threshold).any(axis=1))].fillna(mean_values)\n",
    "    \n",
    "    return _df"
   ]
  },
  {
   "cell_type": "code",
   "execution_count": 54,
   "metadata": {},
   "outputs": [],
   "source": [
    "df_x = df.drop(['Average User Rating'], axis=1)\n",
    "df_y = df['Average User Rating']"
   ]
  },
  {
   "attachments": {},
   "cell_type": "markdown",
   "metadata": {},
   "source": [
    "### Feature Scaling"
   ]
  },
  {
   "cell_type": "code",
   "execution_count": 55,
   "metadata": {},
   "outputs": [],
   "source": [
    "# Scale the features\n",
    "from sklearn.preprocessing import StandardScaler, MinMaxScaler\n",
    "\n",
    "def scale_data_std(_df):\n",
    "    cols = _df.columns\n",
    "    scaler = StandardScaler()\n",
    "    _df = scaler.fit_transform(_df)\n",
    "    \n",
    "    # Save the scaler\n",
    "    pickle.dump(scaler, open('scalers/std_scaler.pkl', 'wb'))\n",
    "    \n",
    "    _df = pd.DataFrame(_df, columns=cols)\n",
    "    return _df\n",
    "\n",
    "def scale_data_minmax(_df):\n",
    "    cols = _df.columns\n",
    "    scaler = MinMaxScaler()\n",
    "    _df = scaler.fit_transform(_df)\n",
    "    \n",
    "    # Save the scaler\n",
    "    pickle.dump(scaler, open('scalers/minmax_scaler.pkl', 'wb'))\n",
    "    \n",
    "    _df = pd.DataFrame(_df, columns=cols)\n",
    "    return _df\n"
   ]
  },
  {
   "cell_type": "code",
   "execution_count": null,
   "metadata": {},
   "outputs": [],
   "source": [
    "# sns.heatmap(df_x.corr(), annot=True, fmt='.2f', cmap='coolwarm')"
   ]
  },
  {
   "cell_type": "code",
   "execution_count": 56,
   "metadata": {},
   "outputs": [
    {
     "data": {
      "text/plain": [
       "<AxesSubplot: >"
      ]
     },
     "execution_count": 56,
     "metadata": {},
     "output_type": "execute_result"
    },
    {
     "data": {
      "image/png": "[encoded data removed]",
      "text/plain": [
       "<Figure size 1000x1000 with 1 Axes>"
      ]
     },
     "metadata": {},
     "output_type": "display_data"
    }
   ],
   "source": [
    "# plot correlation matrix between features and target\n",
    "import seaborn as sns\n",
    "import matplotlib.pyplot as plt\n",
    "\n",
    "corr = df_x.corrwith(df_y)\n",
    "corr = corr.sort_values(ascending=False)\n",
    "\n",
    "plt.figure(figsize=(10, 10))\n",
    "sns.barplot(x=corr.values, y=corr.index)\n",
    "# plt.show()"
   ]
  },
  {
   "attachments": {},
   "cell_type": "markdown",
   "metadata": {},
   "source": [
    "### Feature Selection"
   ]
  },
  {
   "cell_type": "code",
   "execution_count": 57,
   "metadata": {},
   "outputs": [],
   "source": [
    "df_x = scale_data_std(df_x)\n",
    "\n",
    "# Feature selection\n",
    "from sklearn.feature_selection import SelectKBest, f_regression\n",
    "selector = SelectKBest(f_regression, k=20)\n",
    "df_x_select =  selector.fit_transform(df_x, df_y)\n",
    "\n",
    "# Save the selector\n",
    "pickle.dump(selector, open('encoders/selector.pkl', 'wb'))"
   ]
  },
  {
   "cell_type": "code",
   "execution_count": 58,
   "metadata": {},
   "outputs": [
    {
     "name": "stdout",
     "output_type": "stream",
     "text": [
      "User Rating Count\n",
      "Size\n",
      "game_age\n",
      "last_update\n",
      "dev_freq\n",
      "dev_avg\n",
      "genre_Action\n",
      "genre_Board\n",
      "genre_Casual\n",
      "genre_Puzzle\n",
      "genre_Simulation\n",
      "lang_JA\n",
      "lang_KO\n",
      "lang_ZH\n",
      "purchases_count\n",
      "highest_purchase\n",
      "average_purchase\n",
      "Icon2\n",
      "Icon3\n",
      "excitement_score\n"
     ]
    }
   ],
   "source": [
    "# Print the selected features\n",
    "for i in range(len(selector.get_support())): \n",
    "    if selector.get_support()[i]:\n",
    "        print(df_x.columns[i])"
   ]
  },
  {
   "attachments": {},
   "cell_type": "markdown",
   "metadata": {},
   "source": [
    "### Linear Regression"
   ]
  },
  {
   "cell_type": "code",
   "execution_count": 59,
   "metadata": {},
   "outputs": [],
   "source": [
    "from sklearn.linear_model import LinearRegression, Ridge, Lasso, ElasticNet\n",
    "from sklearn.preprocessing import PolynomialFeatures\n",
    "from sklearn.metrics import mean_squared_error, r2_score\n"
   ]
  },
  {
   "cell_type": "code",
   "execution_count": 60,
   "metadata": {
    "ExecuteTime": {
     "end_time": "2023-04-14T14:40:09.683179Z",
     "start_time": "2023-04-14T14:40:09.629559Z"
    },
    "collapsed": false
   },
   "outputs": [
    {
     "name": "stdout",
     "output_type": "stream",
     "text": [
      "Training MSE:  0.3742143054769466\n",
      "Training R2:  0.335211865730751\n"
     ]
    }
   ],
   "source": [
    "# Create a linear regression model\n",
    "model = LinearRegression()\n",
    "\n",
    "# Train the model\n",
    "model.fit(df_x_select, df_y)\n",
    "\n",
    "# Print the training MSE and R2 score\n",
    "print('Training MSE: ', mean_squared_error(df_y, model.predict(df_x_select)))\n",
    "print('Training R2: ', r2_score(df_y, model.predict(df_x_select)))\n",
    "\n",
    "# Save the model\n",
    "pickle.dump(model, open('models/LR_model.pkl', 'wb'))\n",
    "\n"
   ]
  },
  {
   "attachments": {},
   "cell_type": "markdown",
   "metadata": {},
   "source": [
    "### Ridge Regression"
   ]
  },
  {
   "cell_type": "code",
   "execution_count": 61,
   "metadata": {
    "ExecuteTime": {
     "end_time": "2023-04-14T11:00:32.712100Z",
     "start_time": "2023-04-14T11:00:32.642347Z"
    },
    "collapsed": false
   },
   "outputs": [
    {
     "name": "stdout",
     "output_type": "stream",
     "text": [
      "Training MSE:  0.37421955270117974\n",
      "Training R2:  0.33520254408709127\n"
     ]
    }
   ],
   "source": [
    "# Create a ridge regression model\n",
    "model = Ridge(alpha=20)\n",
    "\n",
    "# Train the model\n",
    "model.fit(df_x_select, df_y)\n",
    "\n",
    "# Print the training MSE and R2 score\n",
    "print('Training MSE: ', mean_squared_error(df_y, model.predict(df_x_select)))\n",
    "print('Training R2: ', r2_score(df_y, model.predict(df_x_select)))\n",
    "\n",
    "# Save the model\n",
    "pickle.dump(model, open('models/Ridge_model.pkl', 'wb'))\n"
   ]
  },
  {
   "attachments": {},
   "cell_type": "markdown",
   "metadata": {},
   "source": [
    "### Lasso Regression"
   ]
  },
  {
   "cell_type": "code",
   "execution_count": 62,
   "metadata": {
    "ExecuteTime": {
     "end_time": "2023-04-14T11:00:35.138470Z",
     "start_time": "2023-04-14T11:00:35.102309Z"
    },
    "collapsed": false
   },
   "outputs": [
    {
     "name": "stdout",
     "output_type": "stream",
     "text": [
      "Training MSE:  0.37428393565768275\n",
      "Training R2:  0.33508816838069533\n"
     ]
    }
   ],
   "source": [
    "# Create a lasso regression model\n",
    "model = Lasso(alpha=0.001)\n",
    "\n",
    "# Train the model\n",
    "model.fit(df_x_select, df_y)\n",
    "\n",
    "print('Training MSE: ', mean_squared_error(df_y, model.predict(df_x_select)))\n",
    "print('Training R2: ', r2_score(df_y, model.predict(df_x_select)))\n",
    "\n",
    "# Save the model\n",
    "pickle.dump(model, open('models/Lasso_model.pkl', 'wb'))\n"
   ]
  },
  {
   "attachments": {},
   "cell_type": "markdown",
   "metadata": {},
   "source": [
    "### Elastic Net Regression"
   ]
  },
  {
   "cell_type": "code",
   "execution_count": 63,
   "metadata": {
    "ExecuteTime": {
     "end_time": "2023-04-14T11:00:37.282470Z",
     "start_time": "2023-04-14T11:00:37.226872Z"
    },
    "collapsed": false
   },
   "outputs": [
    {
     "name": "stdout",
     "output_type": "stream",
     "text": [
      "Training MSE:  0.3742328036312681\n",
      "Training R2:  0.3351790039365362\n"
     ]
    }
   ],
   "source": [
    "# Create an elastic net regression model\n",
    "model = ElasticNet(alpha=0.001)\n",
    "\n",
    "# Train the model\n",
    "model.fit(df_x_select, df_y)\n",
    "\n",
    "print('Training MSE: ', mean_squared_error(df_y, model.predict(df_x_select)))\n",
    "print('Training R2: ', r2_score(df_y, model.predict(df_x_select)))\n",
    "\n",
    "# Save the model\n",
    "pickle.dump(model, open('models/ElasticNet_model.pkl', 'wb'))\n"
   ]
  },
  {
   "attachments": {},
   "cell_type": "markdown",
   "metadata": {},
   "source": [
    "### Polynomial Regression"
   ]
  },
  {
   "cell_type": "code",
   "execution_count": 64,
   "metadata": {
    "ExecuteTime": {
     "end_time": "2023-04-14T11:02:11.403793Z",
     "start_time": "2023-04-14T11:00:55.155863Z"
    },
    "collapsed": false
   },
   "outputs": [
    {
     "name": "stdout",
     "output_type": "stream",
     "text": [
      "Training MSE:  0.3470467122144435\n",
      "Training R2:  0.38347483529987636\n"
     ]
    }
   ],
   "source": [
    "# Create a polynomial regression model\n",
    "poly = PolynomialFeatures(degree=2)\n",
    "X_train_poly = poly.fit_transform(df_x_select)\n",
    "\n",
    "# Save the polynomial features\n",
    "pickle.dump(poly, open('encoders/poly.pkl', 'wb'))\n",
    "\n",
    "# Train the model\n",
    "model = LinearRegression()\n",
    "model.fit(X_train_poly, df_y)\n",
    "\n",
    "print('Training MSE: ', mean_squared_error(df_y, model.predict(X_train_poly)))\n",
    "print('Training R2: ', r2_score(df_y, model.predict(X_train_poly)))\n",
    "\n",
    "# Save the model\n",
    "pickle.dump(model, open('models/Polynomial_model.pkl', 'wb'))\n"
   ]
  },
  {
   "attachments": {},
   "cell_type": "markdown",
   "metadata": {},
   "source": [
    "### XGBoost"
   ]
  },
  {
   "cell_type": "code",
   "execution_count": 65,
   "metadata": {},
   "outputs": [
    {
     "name": "stdout",
     "output_type": "stream",
     "text": [
      "Training MSE:  0.30141896559868225\n",
      "Training R2:  0.46453209072719626\n"
     ]
    }
   ],
   "source": [
    "# Create an XGBoost model\n",
    "\n",
    "import xgboost as xgb\n",
    "\n",
    "model = xgb.XGBRegressor(n_estimators=100, learning_rate=0.1, max_depth=3)\n",
    "model.fit(df_x_select, df_y)\n",
    "\n",
    "print('Training MSE: ', mean_squared_error(df_y, model.predict(df_x_select)))\n",
    "print('Training R2: ', r2_score(df_y, model.predict(df_x_select)))\n",
    "\n",
    "# Save the model\n",
    "pickle.dump(model, open('models/XGBoost_model.pkl', 'wb'))"
   ]
  },
  {
   "attachments": {},
   "cell_type": "markdown",
   "metadata": {},
   "source": [
    "### Gradient Boosting"
   ]
  },
  {
   "cell_type": "code",
   "execution_count": 66,
   "metadata": {},
   "outputs": [
    {
     "name": "stdout",
     "output_type": "stream",
     "text": [
      "Training MSE:  0.29753851592640373\n",
      "Training R2:  0.47142567245297196\n"
     ]
    }
   ],
   "source": [
    "# Create a Gradient Boosting model\n",
    "\n",
    "from sklearn.ensemble import GradientBoostingRegressor\n",
    "\n",
    "model = GradientBoostingRegressor(learning_rate=0.1)\n",
    "\n",
    "# Train the model\n",
    "model.fit(df_x_select, df_y)\n",
    "\n",
    "# Print the training MSE and R2 score\n",
    "print('Training MSE: ', mean_squared_error(df_y, model.predict(df_x_select)))\n",
    "print('Training R2: ', r2_score(df_y, model.predict(df_x_select)))\n",
    "\n",
    "# Save the model\n",
    "pickle.dump(model, open('models/GradientBoosting_model.pkl', 'wb'))"
   ]
  },
  {
   "attachments": {},
   "cell_type": "markdown",
   "metadata": {},
   "source": [
    "### Random Forest Regression"
   ]
  },
  {
   "cell_type": "code",
   "execution_count": 67,
   "metadata": {},
   "outputs": [
    {
     "name": "stdout",
     "output_type": "stream",
     "text": [
      "Training MSE:  0.3361798752257458\n",
      "Training R2:  0.40277966726752934\n"
     ]
    }
   ],
   "source": [
    "# Create a Random Forest Regressor model\n",
    "\n",
    "from sklearn.ensemble import RandomForestRegressor\n",
    "\n",
    "model = RandomForestRegressor(max_depth=5)\n",
    "\n",
    "# Train the model\n",
    "model.fit(df_x_select, df_y)\n",
    "\n",
    "# Print the training MSE and R2 score\n",
    "print('Training MSE: ', mean_squared_error(df_y, model.predict(df_x_select)))\n",
    "print('Training R2: ', r2_score(df_y, model.predict(df_x_select)))\n",
    "\n",
    "# Save the model\n",
    "pickle.dump(model, open('models/RandomForest_model.pkl', 'wb'))"
   ]
  },
  {
   "cell_type": "code",
   "execution_count": 68,
   "metadata": {},
   "outputs": [
    {
     "name": "stdout",
     "output_type": "stream",
     "text": [
      "0:\tlearn: 0.7482809\ttotal: 5.22ms\tremaining: 5.21s\n",
      "1:\tlearn: 0.7462170\ttotal: 8.69ms\tremaining: 4.34s\n",
      "2:\tlearn: 0.7442636\ttotal: 12.5ms\tremaining: 4.14s\n",
      "3:\tlearn: 0.7422405\ttotal: 15.9ms\tremaining: 3.95s\n",
      "4:\tlearn: 0.7401698\ttotal: 19.1ms\tremaining: 3.8s\n",
      "5:\tlearn: 0.7380474\ttotal: 21.9ms\tremaining: 3.63s\n",
      "6:\tlearn: 0.7362852\ttotal: 24.6ms\tremaining: 3.48s\n",
      "7:\tlearn: 0.7342999\ttotal: 27.8ms\tremaining: 3.44s\n",
      "8:\tlearn: 0.7322053\ttotal: 31ms\tremaining: 3.41s\n",
      "9:\tlearn: 0.7303018\ttotal: 33.9ms\tremaining: 3.35s\n",
      "10:\tlearn: 0.7285117\ttotal: 37ms\tremaining: 3.32s\n",
      "11:\tlearn: 0.7268576\ttotal: 39.7ms\tremaining: 3.27s\n",
      "12:\tlearn: 0.7250194\ttotal: 42.6ms\tremaining: 3.24s\n",
      "13:\tlearn: 0.7230777\ttotal: 46.1ms\tremaining: 3.25s\n",
      "14:\tlearn: 0.7212948\ttotal: 49.2ms\tremaining: 3.23s\n",
      "15:\tlearn: 0.7195564\ttotal: 52.4ms\tremaining: 3.22s\n",
      "16:\tlearn: 0.7177852\ttotal: 55.4ms\tremaining: 3.2s\n",
      "17:\tlearn: 0.7162525\ttotal: 58.2ms\tremaining: 3.17s\n",
      "18:\tlearn: 0.7144837\ttotal: 61.5ms\tremaining: 3.17s\n",
      "19:\tlearn: 0.7129380\ttotal: 65.2ms\tremaining: 3.19s\n",
      "20:\tlearn: 0.7112162\ttotal: 68.2ms\tremaining: 3.18s\n",
      "21:\tlearn: 0.7094952\ttotal: 71.2ms\tremaining: 3.17s\n",
      "22:\tlearn: 0.7078987\ttotal: 74.1ms\tremaining: 3.15s\n",
      "23:\tlearn: 0.7065115\ttotal: 77.5ms\tremaining: 3.15s\n",
      "24:\tlearn: 0.7050406\ttotal: 80.8ms\tremaining: 3.15s\n",
      "25:\tlearn: 0.7034742\ttotal: 83.7ms\tremaining: 3.13s\n",
      "26:\tlearn: 0.7018729\ttotal: 86.7ms\tremaining: 3.13s\n",
      "27:\tlearn: 0.7004246\ttotal: 89.5ms\tremaining: 3.11s\n",
      "28:\tlearn: 0.6990494\ttotal: 93ms\tremaining: 3.11s\n",
      "29:\tlearn: 0.6976456\ttotal: 96ms\tremaining: 3.1s\n",
      "30:\tlearn: 0.6961335\ttotal: 98.9ms\tremaining: 3.09s\n",
      "31:\tlearn: 0.6946402\ttotal: 102ms\tremaining: 3.07s\n",
      "32:\tlearn: 0.6932328\ttotal: 105ms\tremaining: 3.06s\n",
      "33:\tlearn: 0.6919409\ttotal: 108ms\tremaining: 3.05s\n",
      "34:\tlearn: 0.6907041\ttotal: 111ms\tremaining: 3.06s\n",
      "35:\tlearn: 0.6892695\ttotal: 114ms\tremaining: 3.06s\n",
      "36:\tlearn: 0.6880097\ttotal: 117ms\tremaining: 3.04s\n",
      "37:\tlearn: 0.6868024\ttotal: 120ms\tremaining: 3.03s\n",
      "38:\tlearn: 0.6854374\ttotal: 123ms\tremaining: 3.02s\n",
      "39:\tlearn: 0.6842599\ttotal: 126ms\tremaining: 3.03s\n",
      "40:\tlearn: 0.6830789\ttotal: 129ms\tremaining: 3.02s\n",
      "41:\tlearn: 0.6819241\ttotal: 132ms\tremaining: 3.02s\n",
      "42:\tlearn: 0.6807648\ttotal: 135ms\tremaining: 3.01s\n",
      "43:\tlearn: 0.6795477\ttotal: 138ms\tremaining: 3.01s\n",
      "44:\tlearn: 0.6784328\ttotal: 142ms\tremaining: 3.02s\n",
      "45:\tlearn: 0.6773852\ttotal: 145ms\tremaining: 3.02s\n",
      "46:\tlearn: 0.6762477\ttotal: 148ms\tremaining: 3.01s\n",
      "47:\tlearn: 0.6750324\ttotal: 151ms\tremaining: 3s\n",
      "48:\tlearn: 0.6739060\ttotal: 154ms\tremaining: 2.99s\n",
      "49:\tlearn: 0.6728633\ttotal: 158ms\tremaining: 3s\n",
      "50:\tlearn: 0.6717099\ttotal: 161ms\tremaining: 2.99s\n",
      "51:\tlearn: 0.6705641\ttotal: 164ms\tremaining: 2.98s\n",
      "52:\tlearn: 0.6694901\ttotal: 166ms\tremaining: 2.97s\n",
      "53:\tlearn: 0.6684586\ttotal: 169ms\tremaining: 2.97s\n",
      "54:\tlearn: 0.6674213\ttotal: 173ms\tremaining: 2.97s\n",
      "55:\tlearn: 0.6663038\ttotal: 176ms\tremaining: 2.96s\n",
      "56:\tlearn: 0.6652908\ttotal: 179ms\tremaining: 2.96s\n",
      "57:\tlearn: 0.6642459\ttotal: 182ms\tremaining: 2.95s\n",
      "58:\tlearn: 0.6633949\ttotal: 185ms\tremaining: 2.94s\n",
      "59:\tlearn: 0.6624331\ttotal: 188ms\tremaining: 2.94s\n",
      "60:\tlearn: 0.6615135\ttotal: 192ms\tremaining: 2.95s\n",
      "61:\tlearn: 0.6604760\ttotal: 195ms\tremaining: 2.94s\n",
      "62:\tlearn: 0.6596683\ttotal: 197ms\tremaining: 2.93s\n",
      "63:\tlearn: 0.6588247\ttotal: 201ms\tremaining: 2.93s\n",
      "64:\tlearn: 0.6579347\ttotal: 204ms\tremaining: 2.94s\n",
      "65:\tlearn: 0.6571126\ttotal: 207ms\tremaining: 2.93s\n",
      "66:\tlearn: 0.6562120\ttotal: 210ms\tremaining: 2.93s\n",
      "67:\tlearn: 0.6553828\ttotal: 213ms\tremaining: 2.92s\n",
      "68:\tlearn: 0.6545547\ttotal: 216ms\tremaining: 2.92s\n",
      "69:\tlearn: 0.6536461\ttotal: 220ms\tremaining: 2.92s\n",
      "70:\tlearn: 0.6527878\ttotal: 223ms\tremaining: 2.92s\n",
      "71:\tlearn: 0.6518870\ttotal: 226ms\tremaining: 2.91s\n",
      "72:\tlearn: 0.6510732\ttotal: 229ms\tremaining: 2.9s\n",
      "73:\tlearn: 0.6503310\ttotal: 232ms\tremaining: 2.9s\n",
      "74:\tlearn: 0.6496495\ttotal: 235ms\tremaining: 2.9s\n",
      "75:\tlearn: 0.6488318\ttotal: 239ms\tremaining: 2.91s\n",
      "76:\tlearn: 0.6481039\ttotal: 242ms\tremaining: 2.9s\n",
      "77:\tlearn: 0.6474765\ttotal: 245ms\tremaining: 2.9s\n",
      "78:\tlearn: 0.6467288\ttotal: 249ms\tremaining: 2.9s\n",
      "79:\tlearn: 0.6459515\ttotal: 253ms\tremaining: 2.9s\n",
      "80:\tlearn: 0.6452420\ttotal: 256ms\tremaining: 2.91s\n",
      "81:\tlearn: 0.6444601\ttotal: 259ms\tremaining: 2.9s\n",
      "82:\tlearn: 0.6436918\ttotal: 263ms\tremaining: 2.91s\n",
      "83:\tlearn: 0.6429986\ttotal: 266ms\tremaining: 2.9s\n",
      "84:\tlearn: 0.6422768\ttotal: 270ms\tremaining: 2.9s\n",
      "85:\tlearn: 0.6416232\ttotal: 273ms\tremaining: 2.9s\n",
      "86:\tlearn: 0.6409989\ttotal: 275ms\tremaining: 2.89s\n",
      "87:\tlearn: 0.6402604\ttotal: 279ms\tremaining: 2.89s\n",
      "88:\tlearn: 0.6396760\ttotal: 281ms\tremaining: 2.88s\n",
      "89:\tlearn: 0.6389827\ttotal: 285ms\tremaining: 2.88s\n",
      "90:\tlearn: 0.6382619\ttotal: 288ms\tremaining: 2.88s\n",
      "91:\tlearn: 0.6376555\ttotal: 291ms\tremaining: 2.88s\n",
      "92:\tlearn: 0.6369699\ttotal: 294ms\tremaining: 2.87s\n",
      "93:\tlearn: 0.6363322\ttotal: 298ms\tremaining: 2.87s\n",
      "94:\tlearn: 0.6356682\ttotal: 302ms\tremaining: 2.87s\n",
      "95:\tlearn: 0.6350791\ttotal: 305ms\tremaining: 2.87s\n",
      "96:\tlearn: 0.6345444\ttotal: 308ms\tremaining: 2.87s\n",
      "97:\tlearn: 0.6338593\ttotal: 311ms\tremaining: 2.86s\n",
      "98:\tlearn: 0.6333423\ttotal: 315ms\tremaining: 2.87s\n",
      "99:\tlearn: 0.6327538\ttotal: 319ms\tremaining: 2.87s\n",
      "100:\tlearn: 0.6321375\ttotal: 322ms\tremaining: 2.87s\n",
      "101:\tlearn: 0.6315233\ttotal: 337ms\tremaining: 2.97s\n",
      "102:\tlearn: 0.6309192\ttotal: 340ms\tremaining: 2.96s\n",
      "103:\tlearn: 0.6303472\ttotal: 343ms\tremaining: 2.96s\n",
      "104:\tlearn: 0.6297500\ttotal: 346ms\tremaining: 2.95s\n",
      "105:\tlearn: 0.6291315\ttotal: 350ms\tremaining: 2.95s\n",
      "106:\tlearn: 0.6286636\ttotal: 353ms\tremaining: 2.95s\n",
      "107:\tlearn: 0.6281473\ttotal: 357ms\tremaining: 2.95s\n",
      "108:\tlearn: 0.6275984\ttotal: 360ms\tremaining: 2.94s\n",
      "109:\tlearn: 0.6271075\ttotal: 364ms\tremaining: 2.94s\n",
      "110:\tlearn: 0.6266384\ttotal: 368ms\tremaining: 2.95s\n",
      "111:\tlearn: 0.6261857\ttotal: 371ms\tremaining: 2.94s\n",
      "112:\tlearn: 0.6256163\ttotal: 375ms\tremaining: 2.94s\n",
      "113:\tlearn: 0.6251469\ttotal: 378ms\tremaining: 2.93s\n",
      "114:\tlearn: 0.6245922\ttotal: 382ms\tremaining: 2.94s\n",
      "115:\tlearn: 0.6241270\ttotal: 385ms\tremaining: 2.94s\n",
      "116:\tlearn: 0.6235859\ttotal: 389ms\tremaining: 2.93s\n",
      "117:\tlearn: 0.6230961\ttotal: 392ms\tremaining: 2.93s\n",
      "118:\tlearn: 0.6225830\ttotal: 395ms\tremaining: 2.92s\n",
      "119:\tlearn: 0.6221324\ttotal: 399ms\tremaining: 2.93s\n",
      "120:\tlearn: 0.6216938\ttotal: 403ms\tremaining: 2.93s\n",
      "121:\tlearn: 0.6212070\ttotal: 406ms\tremaining: 2.92s\n",
      "122:\tlearn: 0.6207254\ttotal: 409ms\tremaining: 2.92s\n",
      "123:\tlearn: 0.6202966\ttotal: 412ms\tremaining: 2.91s\n",
      "124:\tlearn: 0.6198437\ttotal: 416ms\tremaining: 2.91s\n",
      "125:\tlearn: 0.6194238\ttotal: 427ms\tremaining: 2.96s\n",
      "126:\tlearn: 0.6189534\ttotal: 431ms\tremaining: 2.96s\n",
      "127:\tlearn: 0.6184973\ttotal: 434ms\tremaining: 2.96s\n",
      "128:\tlearn: 0.6181043\ttotal: 438ms\tremaining: 2.96s\n",
      "129:\tlearn: 0.6176947\ttotal: 441ms\tremaining: 2.95s\n",
      "130:\tlearn: 0.6173456\ttotal: 445ms\tremaining: 2.95s\n",
      "131:\tlearn: 0.6170146\ttotal: 448ms\tremaining: 2.95s\n",
      "132:\tlearn: 0.6166096\ttotal: 451ms\tremaining: 2.94s\n",
      "133:\tlearn: 0.6162576\ttotal: 454ms\tremaining: 2.93s\n",
      "134:\tlearn: 0.6158195\ttotal: 457ms\tremaining: 2.93s\n",
      "135:\tlearn: 0.6154636\ttotal: 462ms\tremaining: 2.93s\n",
      "136:\tlearn: 0.6150468\ttotal: 465ms\tremaining: 2.93s\n",
      "137:\tlearn: 0.6146923\ttotal: 468ms\tremaining: 2.92s\n",
      "138:\tlearn: 0.6143235\ttotal: 471ms\tremaining: 2.92s\n",
      "139:\tlearn: 0.6139513\ttotal: 475ms\tremaining: 2.92s\n",
      "140:\tlearn: 0.6135786\ttotal: 479ms\tremaining: 2.92s\n",
      "141:\tlearn: 0.6132699\ttotal: 482ms\tremaining: 2.91s\n",
      "142:\tlearn: 0.6129281\ttotal: 485ms\tremaining: 2.91s\n",
      "143:\tlearn: 0.6126132\ttotal: 489ms\tremaining: 2.91s\n",
      "144:\tlearn: 0.6122503\ttotal: 493ms\tremaining: 2.9s\n",
      "145:\tlearn: 0.6119403\ttotal: 496ms\tremaining: 2.9s\n",
      "146:\tlearn: 0.6114821\ttotal: 500ms\tremaining: 2.9s\n",
      "147:\tlearn: 0.6110989\ttotal: 503ms\tremaining: 2.89s\n",
      "148:\tlearn: 0.6106673\ttotal: 506ms\tremaining: 2.89s\n",
      "149:\tlearn: 0.6103615\ttotal: 510ms\tremaining: 2.89s\n",
      "150:\tlearn: 0.6100301\ttotal: 513ms\tremaining: 2.88s\n",
      "151:\tlearn: 0.6096783\ttotal: 516ms\tremaining: 2.88s\n",
      "152:\tlearn: 0.6093452\ttotal: 520ms\tremaining: 2.88s\n",
      "153:\tlearn: 0.6089579\ttotal: 522ms\tremaining: 2.87s\n",
      "154:\tlearn: 0.6086314\ttotal: 527ms\tremaining: 2.87s\n",
      "155:\tlearn: 0.6083430\ttotal: 529ms\tremaining: 2.86s\n",
      "156:\tlearn: 0.6080208\ttotal: 532ms\tremaining: 2.86s\n",
      "157:\tlearn: 0.6077069\ttotal: 535ms\tremaining: 2.85s\n",
      "158:\tlearn: 0.6074305\ttotal: 538ms\tremaining: 2.85s\n",
      "159:\tlearn: 0.6071604\ttotal: 542ms\tremaining: 2.84s\n",
      "160:\tlearn: 0.6069161\ttotal: 545ms\tremaining: 2.84s\n",
      "161:\tlearn: 0.6066080\ttotal: 547ms\tremaining: 2.83s\n",
      "162:\tlearn: 0.6063353\ttotal: 550ms\tremaining: 2.82s\n",
      "163:\tlearn: 0.6060657\ttotal: 553ms\tremaining: 2.82s\n",
      "164:\tlearn: 0.6058642\ttotal: 556ms\tremaining: 2.81s\n",
      "165:\tlearn: 0.6055788\ttotal: 560ms\tremaining: 2.81s\n",
      "166:\tlearn: 0.6053094\ttotal: 563ms\tremaining: 2.81s\n",
      "167:\tlearn: 0.6050296\ttotal: 566ms\tremaining: 2.8s\n",
      "168:\tlearn: 0.6047766\ttotal: 569ms\tremaining: 2.8s\n",
      "169:\tlearn: 0.6045040\ttotal: 572ms\tremaining: 2.79s\n",
      "170:\tlearn: 0.6042911\ttotal: 577ms\tremaining: 2.79s\n",
      "171:\tlearn: 0.6040353\ttotal: 580ms\tremaining: 2.79s\n",
      "172:\tlearn: 0.6037357\ttotal: 582ms\tremaining: 2.78s\n",
      "173:\tlearn: 0.6034887\ttotal: 585ms\tremaining: 2.78s\n",
      "174:\tlearn: 0.6031890\ttotal: 589ms\tremaining: 2.77s\n",
      "175:\tlearn: 0.6029973\ttotal: 592ms\tremaining: 2.77s\n",
      "176:\tlearn: 0.6026803\ttotal: 596ms\tremaining: 2.77s\n",
      "177:\tlearn: 0.6023625\ttotal: 599ms\tremaining: 2.77s\n",
      "178:\tlearn: 0.6021625\ttotal: 602ms\tremaining: 2.76s\n",
      "179:\tlearn: 0.6019124\ttotal: 606ms\tremaining: 2.76s\n",
      "180:\tlearn: 0.6015744\ttotal: 610ms\tremaining: 2.76s\n",
      "181:\tlearn: 0.6013702\ttotal: 613ms\tremaining: 2.75s\n",
      "182:\tlearn: 0.6011168\ttotal: 615ms\tremaining: 2.75s\n",
      "183:\tlearn: 0.6008315\ttotal: 618ms\tremaining: 2.74s\n",
      "184:\tlearn: 0.6006169\ttotal: 622ms\tremaining: 2.74s\n",
      "185:\tlearn: 0.6003781\ttotal: 625ms\tremaining: 2.73s\n",
      "186:\tlearn: 0.6002015\ttotal: 628ms\tremaining: 2.73s\n",
      "187:\tlearn: 0.5999645\ttotal: 630ms\tremaining: 2.72s\n",
      "188:\tlearn: 0.5997090\ttotal: 633ms\tremaining: 2.72s\n",
      "189:\tlearn: 0.5994411\ttotal: 637ms\tremaining: 2.71s\n",
      "190:\tlearn: 0.5992195\ttotal: 640ms\tremaining: 2.71s\n",
      "191:\tlearn: 0.5990578\ttotal: 642ms\tremaining: 2.7s\n",
      "192:\tlearn: 0.5988237\ttotal: 645ms\tremaining: 2.69s\n",
      "193:\tlearn: 0.5985945\ttotal: 648ms\tremaining: 2.69s\n",
      "194:\tlearn: 0.5983242\ttotal: 651ms\tremaining: 2.69s\n",
      "195:\tlearn: 0.5980988\ttotal: 655ms\tremaining: 2.69s\n",
      "196:\tlearn: 0.5978200\ttotal: 658ms\tremaining: 2.68s\n",
      "197:\tlearn: 0.5976132\ttotal: 661ms\tremaining: 2.67s\n",
      "198:\tlearn: 0.5972973\ttotal: 663ms\tremaining: 2.67s\n",
      "199:\tlearn: 0.5970748\ttotal: 666ms\tremaining: 2.66s\n",
      "200:\tlearn: 0.5968553\ttotal: 670ms\tremaining: 2.66s\n",
      "201:\tlearn: 0.5965932\ttotal: 673ms\tremaining: 2.66s\n",
      "202:\tlearn: 0.5963475\ttotal: 676ms\tremaining: 2.65s\n",
      "203:\tlearn: 0.5961180\ttotal: 679ms\tremaining: 2.65s\n",
      "204:\tlearn: 0.5959558\ttotal: 682ms\tremaining: 2.64s\n",
      "205:\tlearn: 0.5957100\ttotal: 686ms\tremaining: 2.64s\n",
      "206:\tlearn: 0.5954428\ttotal: 689ms\tremaining: 2.64s\n",
      "207:\tlearn: 0.5951695\ttotal: 693ms\tremaining: 2.64s\n",
      "208:\tlearn: 0.5949933\ttotal: 696ms\tremaining: 2.63s\n",
      "209:\tlearn: 0.5947425\ttotal: 699ms\tremaining: 2.63s\n",
      "210:\tlearn: 0.5945192\ttotal: 702ms\tremaining: 2.63s\n",
      "211:\tlearn: 0.5942903\ttotal: 705ms\tremaining: 2.62s\n",
      "212:\tlearn: 0.5940833\ttotal: 708ms\tremaining: 2.62s\n",
      "213:\tlearn: 0.5939268\ttotal: 711ms\tremaining: 2.61s\n",
      "214:\tlearn: 0.5937657\ttotal: 715ms\tremaining: 2.61s\n",
      "215:\tlearn: 0.5935563\ttotal: 720ms\tremaining: 2.61s\n",
      "216:\tlearn: 0.5933635\ttotal: 723ms\tremaining: 2.61s\n",
      "217:\tlearn: 0.5931746\ttotal: 726ms\tremaining: 2.6s\n",
      "218:\tlearn: 0.5929742\ttotal: 729ms\tremaining: 2.6s\n",
      "219:\tlearn: 0.5927552\ttotal: 733ms\tremaining: 2.6s\n",
      "220:\tlearn: 0.5926130\ttotal: 736ms\tremaining: 2.59s\n",
      "221:\tlearn: 0.5924635\ttotal: 738ms\tremaining: 2.59s\n",
      "222:\tlearn: 0.5923000\ttotal: 741ms\tremaining: 2.58s\n",
      "223:\tlearn: 0.5921262\ttotal: 744ms\tremaining: 2.58s\n",
      "224:\tlearn: 0.5919509\ttotal: 747ms\tremaining: 2.57s\n",
      "225:\tlearn: 0.5917736\ttotal: 751ms\tremaining: 2.57s\n",
      "226:\tlearn: 0.5915506\ttotal: 753ms\tremaining: 2.56s\n",
      "227:\tlearn: 0.5914456\ttotal: 756ms\tremaining: 2.56s\n",
      "228:\tlearn: 0.5912918\ttotal: 759ms\tremaining: 2.56s\n",
      "229:\tlearn: 0.5910601\ttotal: 762ms\tremaining: 2.55s\n",
      "230:\tlearn: 0.5909115\ttotal: 766ms\tremaining: 2.55s\n",
      "231:\tlearn: 0.5907313\ttotal: 769ms\tremaining: 2.54s\n",
      "232:\tlearn: 0.5905910\ttotal: 772ms\tremaining: 2.54s\n",
      "233:\tlearn: 0.5904160\ttotal: 774ms\tremaining: 2.54s\n",
      "234:\tlearn: 0.5902373\ttotal: 778ms\tremaining: 2.53s\n",
      "235:\tlearn: 0.5900755\ttotal: 781ms\tremaining: 2.53s\n",
      "236:\tlearn: 0.5899162\ttotal: 784ms\tremaining: 2.52s\n",
      "237:\tlearn: 0.5897507\ttotal: 787ms\tremaining: 2.52s\n",
      "238:\tlearn: 0.5895988\ttotal: 790ms\tremaining: 2.52s\n",
      "239:\tlearn: 0.5894294\ttotal: 793ms\tremaining: 2.51s\n",
      "240:\tlearn: 0.5893067\ttotal: 797ms\tremaining: 2.51s\n",
      "241:\tlearn: 0.5890944\ttotal: 800ms\tremaining: 2.5s\n",
      "242:\tlearn: 0.5889258\ttotal: 803ms\tremaining: 2.5s\n",
      "243:\tlearn: 0.5887923\ttotal: 806ms\tremaining: 2.5s\n",
      "244:\tlearn: 0.5886439\ttotal: 809ms\tremaining: 2.49s\n",
      "245:\tlearn: 0.5884898\ttotal: 812ms\tremaining: 2.49s\n",
      "246:\tlearn: 0.5882927\ttotal: 815ms\tremaining: 2.48s\n",
      "247:\tlearn: 0.5881214\ttotal: 818ms\tremaining: 2.48s\n",
      "248:\tlearn: 0.5879056\ttotal: 821ms\tremaining: 2.48s\n",
      "249:\tlearn: 0.5877507\ttotal: 824ms\tremaining: 2.47s\n",
      "250:\tlearn: 0.5876240\ttotal: 827ms\tremaining: 2.47s\n",
      "251:\tlearn: 0.5874228\ttotal: 830ms\tremaining: 2.46s\n",
      "252:\tlearn: 0.5872533\ttotal: 833ms\tremaining: 2.46s\n",
      "253:\tlearn: 0.5871153\ttotal: 837ms\tremaining: 2.46s\n",
      "254:\tlearn: 0.5869902\ttotal: 839ms\tremaining: 2.45s\n",
      "255:\tlearn: 0.5868311\ttotal: 842ms\tremaining: 2.45s\n",
      "256:\tlearn: 0.5866808\ttotal: 845ms\tremaining: 2.44s\n",
      "257:\tlearn: 0.5865499\ttotal: 848ms\tremaining: 2.44s\n",
      "258:\tlearn: 0.5863700\ttotal: 851ms\tremaining: 2.44s\n",
      "259:\tlearn: 0.5861170\ttotal: 854ms\tremaining: 2.43s\n",
      "260:\tlearn: 0.5859947\ttotal: 857ms\tremaining: 2.43s\n",
      "261:\tlearn: 0.5858703\ttotal: 860ms\tremaining: 2.42s\n",
      "262:\tlearn: 0.5857187\ttotal: 864ms\tremaining: 2.42s\n",
      "263:\tlearn: 0.5856144\ttotal: 867ms\tremaining: 2.42s\n",
      "264:\tlearn: 0.5854218\ttotal: 870ms\tremaining: 2.41s\n",
      "265:\tlearn: 0.5852743\ttotal: 873ms\tremaining: 2.41s\n",
      "266:\tlearn: 0.5851216\ttotal: 876ms\tremaining: 2.4s\n",
      "267:\tlearn: 0.5850041\ttotal: 879ms\tremaining: 2.4s\n",
      "268:\tlearn: 0.5848526\ttotal: 883ms\tremaining: 2.4s\n",
      "269:\tlearn: 0.5846185\ttotal: 886ms\tremaining: 2.39s\n",
      "270:\tlearn: 0.5844856\ttotal: 888ms\tremaining: 2.39s\n",
      "271:\tlearn: 0.5843621\ttotal: 891ms\tremaining: 2.38s\n",
      "272:\tlearn: 0.5842339\ttotal: 895ms\tremaining: 2.38s\n",
      "273:\tlearn: 0.5841033\ttotal: 898ms\tremaining: 2.38s\n",
      "274:\tlearn: 0.5839475\ttotal: 901ms\tremaining: 2.37s\n",
      "275:\tlearn: 0.5838185\ttotal: 903ms\tremaining: 2.37s\n",
      "276:\tlearn: 0.5837055\ttotal: 906ms\tremaining: 2.37s\n",
      "277:\tlearn: 0.5835769\ttotal: 910ms\tremaining: 2.36s\n",
      "278:\tlearn: 0.5834374\ttotal: 913ms\tremaining: 2.36s\n",
      "279:\tlearn: 0.5833134\ttotal: 917ms\tremaining: 2.36s\n",
      "280:\tlearn: 0.5831771\ttotal: 920ms\tremaining: 2.35s\n",
      "281:\tlearn: 0.5830138\ttotal: 923ms\tremaining: 2.35s\n",
      "282:\tlearn: 0.5829091\ttotal: 927ms\tremaining: 2.35s\n",
      "283:\tlearn: 0.5827760\ttotal: 930ms\tremaining: 2.34s\n",
      "284:\tlearn: 0.5825848\ttotal: 933ms\tremaining: 2.34s\n",
      "285:\tlearn: 0.5824520\ttotal: 936ms\tremaining: 2.33s\n",
      "286:\tlearn: 0.5823009\ttotal: 938ms\tremaining: 2.33s\n",
      "287:\tlearn: 0.5821897\ttotal: 942ms\tremaining: 2.33s\n",
      "288:\tlearn: 0.5820571\ttotal: 945ms\tremaining: 2.32s\n",
      "289:\tlearn: 0.5818755\ttotal: 948ms\tremaining: 2.32s\n",
      "290:\tlearn: 0.5817349\ttotal: 951ms\tremaining: 2.32s\n",
      "291:\tlearn: 0.5816125\ttotal: 954ms\tremaining: 2.31s\n",
      "292:\tlearn: 0.5814245\ttotal: 957ms\tremaining: 2.31s\n",
      "293:\tlearn: 0.5812249\ttotal: 961ms\tremaining: 2.31s\n",
      "294:\tlearn: 0.5810660\ttotal: 964ms\tremaining: 2.3s\n",
      "295:\tlearn: 0.5809913\ttotal: 967ms\tremaining: 2.3s\n",
      "296:\tlearn: 0.5808354\ttotal: 970ms\tremaining: 2.29s\n",
      "297:\tlearn: 0.5807229\ttotal: 973ms\tremaining: 2.29s\n",
      "298:\tlearn: 0.5804892\ttotal: 976ms\tremaining: 2.29s\n",
      "299:\tlearn: 0.5804230\ttotal: 979ms\tremaining: 2.28s\n",
      "300:\tlearn: 0.5802741\ttotal: 981ms\tremaining: 2.28s\n",
      "301:\tlearn: 0.5801233\ttotal: 984ms\tremaining: 2.27s\n",
      "302:\tlearn: 0.5799770\ttotal: 989ms\tremaining: 2.27s\n",
      "303:\tlearn: 0.5798793\ttotal: 993ms\tremaining: 2.27s\n",
      "304:\tlearn: 0.5797768\ttotal: 996ms\tremaining: 2.27s\n",
      "305:\tlearn: 0.5796630\ttotal: 999ms\tremaining: 2.27s\n",
      "306:\tlearn: 0.5795432\ttotal: 1s\tremaining: 2.26s\n",
      "307:\tlearn: 0.5794597\ttotal: 1s\tremaining: 2.26s\n",
      "308:\tlearn: 0.5793085\ttotal: 1.01s\tremaining: 2.25s\n",
      "309:\tlearn: 0.5791563\ttotal: 1.01s\tremaining: 2.25s\n",
      "310:\tlearn: 0.5790449\ttotal: 1.01s\tremaining: 2.25s\n",
      "311:\tlearn: 0.5789340\ttotal: 1.02s\tremaining: 2.24s\n",
      "312:\tlearn: 0.5787724\ttotal: 1.02s\tremaining: 2.24s\n",
      "313:\tlearn: 0.5786416\ttotal: 1.02s\tremaining: 2.23s\n",
      "314:\tlearn: 0.5784847\ttotal: 1.02s\tremaining: 2.23s\n",
      "315:\tlearn: 0.5783302\ttotal: 1.03s\tremaining: 2.23s\n",
      "316:\tlearn: 0.5782297\ttotal: 1.03s\tremaining: 2.22s\n",
      "317:\tlearn: 0.5781167\ttotal: 1.03s\tremaining: 2.22s\n",
      "318:\tlearn: 0.5779495\ttotal: 1.04s\tremaining: 2.21s\n",
      "319:\tlearn: 0.5777858\ttotal: 1.04s\tremaining: 2.21s\n",
      "320:\tlearn: 0.5776830\ttotal: 1.04s\tremaining: 2.21s\n",
      "321:\tlearn: 0.5775418\ttotal: 1.05s\tremaining: 2.2s\n",
      "322:\tlearn: 0.5773914\ttotal: 1.05s\tremaining: 2.2s\n",
      "323:\tlearn: 0.5772642\ttotal: 1.05s\tremaining: 2.19s\n",
      "324:\tlearn: 0.5771174\ttotal: 1.05s\tremaining: 2.19s\n",
      "325:\tlearn: 0.5769720\ttotal: 1.06s\tremaining: 2.19s\n",
      "326:\tlearn: 0.5768117\ttotal: 1.06s\tremaining: 2.18s\n",
      "327:\tlearn: 0.5767609\ttotal: 1.06s\tremaining: 2.18s\n",
      "328:\tlearn: 0.5766570\ttotal: 1.07s\tremaining: 2.18s\n",
      "329:\tlearn: 0.5765359\ttotal: 1.07s\tremaining: 2.17s\n",
      "330:\tlearn: 0.5764165\ttotal: 1.07s\tremaining: 2.17s\n",
      "331:\tlearn: 0.5763172\ttotal: 1.08s\tremaining: 2.17s\n",
      "332:\tlearn: 0.5761345\ttotal: 1.08s\tremaining: 2.16s\n",
      "333:\tlearn: 0.5760587\ttotal: 1.08s\tremaining: 2.16s\n",
      "334:\tlearn: 0.5759404\ttotal: 1.09s\tremaining: 2.16s\n",
      "335:\tlearn: 0.5757709\ttotal: 1.09s\tremaining: 2.15s\n",
      "336:\tlearn: 0.5756547\ttotal: 1.09s\tremaining: 2.15s\n",
      "337:\tlearn: 0.5755761\ttotal: 1.09s\tremaining: 2.15s\n",
      "338:\tlearn: 0.5754420\ttotal: 1.1s\tremaining: 2.14s\n",
      "339:\tlearn: 0.5753110\ttotal: 1.1s\tremaining: 2.14s\n",
      "340:\tlearn: 0.5752067\ttotal: 1.1s\tremaining: 2.13s\n",
      "341:\tlearn: 0.5750412\ttotal: 1.11s\tremaining: 2.13s\n",
      "342:\tlearn: 0.5748949\ttotal: 1.11s\tremaining: 2.13s\n",
      "343:\tlearn: 0.5748172\ttotal: 1.11s\tremaining: 2.12s\n",
      "344:\tlearn: 0.5747225\ttotal: 1.12s\tremaining: 2.12s\n",
      "345:\tlearn: 0.5746095\ttotal: 1.12s\tremaining: 2.12s\n",
      "346:\tlearn: 0.5744787\ttotal: 1.12s\tremaining: 2.12s\n",
      "347:\tlearn: 0.5743222\ttotal: 1.13s\tremaining: 2.11s\n",
      "348:\tlearn: 0.5742095\ttotal: 1.13s\tremaining: 2.11s\n",
      "349:\tlearn: 0.5741150\ttotal: 1.14s\tremaining: 2.11s\n",
      "350:\tlearn: 0.5739585\ttotal: 1.14s\tremaining: 2.1s\n",
      "351:\tlearn: 0.5738621\ttotal: 1.14s\tremaining: 2.1s\n",
      "352:\tlearn: 0.5737280\ttotal: 1.14s\tremaining: 2.1s\n",
      "353:\tlearn: 0.5736291\ttotal: 1.15s\tremaining: 2.09s\n",
      "354:\tlearn: 0.5734848\ttotal: 1.15s\tremaining: 2.09s\n",
      "355:\tlearn: 0.5734144\ttotal: 1.16s\tremaining: 2.09s\n",
      "356:\tlearn: 0.5732701\ttotal: 1.16s\tremaining: 2.08s\n",
      "357:\tlearn: 0.5731290\ttotal: 1.16s\tremaining: 2.08s\n",
      "358:\tlearn: 0.5730250\ttotal: 1.17s\tremaining: 2.08s\n",
      "359:\tlearn: 0.5729350\ttotal: 1.17s\tremaining: 2.08s\n",
      "360:\tlearn: 0.5728474\ttotal: 1.17s\tremaining: 2.07s\n",
      "361:\tlearn: 0.5727370\ttotal: 1.17s\tremaining: 2.07s\n",
      "362:\tlearn: 0.5725829\ttotal: 1.18s\tremaining: 2.07s\n",
      "363:\tlearn: 0.5724498\ttotal: 1.18s\tremaining: 2.06s\n",
      "364:\tlearn: 0.5723495\ttotal: 1.18s\tremaining: 2.06s\n",
      "365:\tlearn: 0.5722627\ttotal: 1.19s\tremaining: 2.06s\n",
      "366:\tlearn: 0.5721683\ttotal: 1.19s\tremaining: 2.06s\n",
      "367:\tlearn: 0.5720815\ttotal: 1.2s\tremaining: 2.05s\n",
      "368:\tlearn: 0.5720112\ttotal: 1.2s\tremaining: 2.05s\n",
      "369:\tlearn: 0.5719084\ttotal: 1.2s\tremaining: 2.05s\n",
      "370:\tlearn: 0.5718197\ttotal: 1.21s\tremaining: 2.05s\n",
      "371:\tlearn: 0.5717148\ttotal: 1.21s\tremaining: 2.04s\n",
      "372:\tlearn: 0.5716478\ttotal: 1.21s\tremaining: 2.04s\n",
      "373:\tlearn: 0.5714781\ttotal: 1.22s\tremaining: 2.04s\n",
      "374:\tlearn: 0.5713398\ttotal: 1.22s\tremaining: 2.04s\n",
      "375:\tlearn: 0.5712181\ttotal: 1.23s\tremaining: 2.03s\n",
      "376:\tlearn: 0.5711067\ttotal: 1.23s\tremaining: 2.03s\n",
      "377:\tlearn: 0.5710385\ttotal: 1.23s\tremaining: 2.03s\n",
      "378:\tlearn: 0.5709439\ttotal: 1.24s\tremaining: 2.02s\n",
      "379:\tlearn: 0.5708598\ttotal: 1.24s\tremaining: 2.02s\n",
      "380:\tlearn: 0.5707577\ttotal: 1.24s\tremaining: 2.02s\n",
      "381:\tlearn: 0.5706200\ttotal: 1.25s\tremaining: 2.02s\n",
      "382:\tlearn: 0.5705257\ttotal: 1.25s\tremaining: 2.01s\n",
      "383:\tlearn: 0.5703689\ttotal: 1.25s\tremaining: 2.01s\n",
      "384:\tlearn: 0.5702874\ttotal: 1.26s\tremaining: 2.01s\n",
      "385:\tlearn: 0.5701610\ttotal: 1.26s\tremaining: 2s\n",
      "386:\tlearn: 0.5700226\ttotal: 1.26s\tremaining: 2s\n",
      "387:\tlearn: 0.5698781\ttotal: 1.27s\tremaining: 2s\n",
      "388:\tlearn: 0.5697790\ttotal: 1.27s\tremaining: 2s\n",
      "389:\tlearn: 0.5696913\ttotal: 1.28s\tremaining: 2s\n",
      "390:\tlearn: 0.5695851\ttotal: 1.28s\tremaining: 1.99s\n",
      "391:\tlearn: 0.5694731\ttotal: 1.28s\tremaining: 1.99s\n",
      "392:\tlearn: 0.5692784\ttotal: 1.29s\tremaining: 1.99s\n",
      "393:\tlearn: 0.5691893\ttotal: 1.29s\tremaining: 1.99s\n",
      "394:\tlearn: 0.5690896\ttotal: 1.29s\tremaining: 1.98s\n",
      "395:\tlearn: 0.5689629\ttotal: 1.3s\tremaining: 1.98s\n",
      "396:\tlearn: 0.5688082\ttotal: 1.3s\tremaining: 1.98s\n",
      "397:\tlearn: 0.5687396\ttotal: 1.3s\tremaining: 1.97s\n",
      "398:\tlearn: 0.5686742\ttotal: 1.31s\tremaining: 1.97s\n",
      "399:\tlearn: 0.5685765\ttotal: 1.31s\tremaining: 1.97s\n",
      "400:\tlearn: 0.5684831\ttotal: 1.31s\tremaining: 1.96s\n",
      "401:\tlearn: 0.5683872\ttotal: 1.32s\tremaining: 1.96s\n",
      "402:\tlearn: 0.5682397\ttotal: 1.32s\tremaining: 1.95s\n",
      "403:\tlearn: 0.5680874\ttotal: 1.32s\tremaining: 1.95s\n",
      "404:\tlearn: 0.5679983\ttotal: 1.32s\tremaining: 1.95s\n",
      "405:\tlearn: 0.5679503\ttotal: 1.33s\tremaining: 1.94s\n",
      "406:\tlearn: 0.5678736\ttotal: 1.33s\tremaining: 1.94s\n",
      "407:\tlearn: 0.5677034\ttotal: 1.33s\tremaining: 1.94s\n",
      "408:\tlearn: 0.5675658\ttotal: 1.34s\tremaining: 1.93s\n",
      "409:\tlearn: 0.5674436\ttotal: 1.34s\tremaining: 1.93s\n",
      "410:\tlearn: 0.5673180\ttotal: 1.34s\tremaining: 1.93s\n",
      "411:\tlearn: 0.5672191\ttotal: 1.35s\tremaining: 1.92s\n",
      "412:\tlearn: 0.5671577\ttotal: 1.35s\tremaining: 1.92s\n",
      "413:\tlearn: 0.5670280\ttotal: 1.35s\tremaining: 1.92s\n",
      "414:\tlearn: 0.5669806\ttotal: 1.36s\tremaining: 1.91s\n",
      "415:\tlearn: 0.5668928\ttotal: 1.36s\tremaining: 1.91s\n",
      "416:\tlearn: 0.5668310\ttotal: 1.36s\tremaining: 1.9s\n",
      "417:\tlearn: 0.5666908\ttotal: 1.36s\tremaining: 1.9s\n",
      "418:\tlearn: 0.5666283\ttotal: 1.37s\tremaining: 1.9s\n",
      "419:\tlearn: 0.5665274\ttotal: 1.37s\tremaining: 1.89s\n",
      "420:\tlearn: 0.5663849\ttotal: 1.38s\tremaining: 1.89s\n",
      "421:\tlearn: 0.5662898\ttotal: 1.38s\tremaining: 1.89s\n",
      "422:\tlearn: 0.5661768\ttotal: 1.38s\tremaining: 1.88s\n",
      "423:\tlearn: 0.5660855\ttotal: 1.38s\tremaining: 1.88s\n",
      "424:\tlearn: 0.5659526\ttotal: 1.39s\tremaining: 1.88s\n",
      "425:\tlearn: 0.5658227\ttotal: 1.39s\tremaining: 1.88s\n",
      "426:\tlearn: 0.5657202\ttotal: 1.4s\tremaining: 1.87s\n",
      "427:\tlearn: 0.5655959\ttotal: 1.4s\tremaining: 1.87s\n",
      "428:\tlearn: 0.5654944\ttotal: 1.4s\tremaining: 1.86s\n",
      "429:\tlearn: 0.5654380\ttotal: 1.4s\tremaining: 1.86s\n",
      "430:\tlearn: 0.5653688\ttotal: 1.41s\tremaining: 1.86s\n",
      "431:\tlearn: 0.5652669\ttotal: 1.41s\tremaining: 1.85s\n",
      "432:\tlearn: 0.5651445\ttotal: 1.41s\tremaining: 1.85s\n",
      "433:\tlearn: 0.5650371\ttotal: 1.42s\tremaining: 1.85s\n",
      "434:\tlearn: 0.5648903\ttotal: 1.42s\tremaining: 1.84s\n",
      "435:\tlearn: 0.5648053\ttotal: 1.42s\tremaining: 1.84s\n",
      "436:\tlearn: 0.5647511\ttotal: 1.43s\tremaining: 1.84s\n",
      "437:\tlearn: 0.5646291\ttotal: 1.43s\tremaining: 1.83s\n",
      "438:\tlearn: 0.5645388\ttotal: 1.43s\tremaining: 1.83s\n",
      "439:\tlearn: 0.5643895\ttotal: 1.44s\tremaining: 1.83s\n",
      "440:\tlearn: 0.5642562\ttotal: 1.44s\tremaining: 1.82s\n",
      "441:\tlearn: 0.5641873\ttotal: 1.44s\tremaining: 1.82s\n",
      "442:\tlearn: 0.5640651\ttotal: 1.44s\tremaining: 1.82s\n",
      "443:\tlearn: 0.5638963\ttotal: 1.45s\tremaining: 1.81s\n",
      "444:\tlearn: 0.5638381\ttotal: 1.45s\tremaining: 1.81s\n",
      "445:\tlearn: 0.5637034\ttotal: 1.45s\tremaining: 1.81s\n",
      "446:\tlearn: 0.5636395\ttotal: 1.46s\tremaining: 1.8s\n",
      "447:\tlearn: 0.5635201\ttotal: 1.46s\tremaining: 1.8s\n",
      "448:\tlearn: 0.5633677\ttotal: 1.46s\tremaining: 1.8s\n",
      "449:\tlearn: 0.5633026\ttotal: 1.47s\tremaining: 1.79s\n",
      "450:\tlearn: 0.5631731\ttotal: 1.47s\tremaining: 1.79s\n",
      "451:\tlearn: 0.5631181\ttotal: 1.47s\tremaining: 1.79s\n",
      "452:\tlearn: 0.5629130\ttotal: 1.48s\tremaining: 1.78s\n",
      "453:\tlearn: 0.5628354\ttotal: 1.48s\tremaining: 1.78s\n",
      "454:\tlearn: 0.5627445\ttotal: 1.48s\tremaining: 1.78s\n",
      "455:\tlearn: 0.5625663\ttotal: 1.49s\tremaining: 1.77s\n",
      "456:\tlearn: 0.5625293\ttotal: 1.49s\tremaining: 1.77s\n",
      "457:\tlearn: 0.5624595\ttotal: 1.49s\tremaining: 1.77s\n",
      "458:\tlearn: 0.5623869\ttotal: 1.5s\tremaining: 1.76s\n",
      "459:\tlearn: 0.5622876\ttotal: 1.5s\tremaining: 1.76s\n",
      "460:\tlearn: 0.5622055\ttotal: 1.5s\tremaining: 1.76s\n",
      "461:\tlearn: 0.5621046\ttotal: 1.5s\tremaining: 1.75s\n",
      "462:\tlearn: 0.5619802\ttotal: 1.51s\tremaining: 1.75s\n",
      "463:\tlearn: 0.5618505\ttotal: 1.51s\tremaining: 1.75s\n",
      "464:\tlearn: 0.5617839\ttotal: 1.51s\tremaining: 1.74s\n",
      "465:\tlearn: 0.5616930\ttotal: 1.52s\tremaining: 1.74s\n",
      "466:\tlearn: 0.5616337\ttotal: 1.52s\tremaining: 1.74s\n",
      "467:\tlearn: 0.5615594\ttotal: 1.52s\tremaining: 1.73s\n",
      "468:\tlearn: 0.5614544\ttotal: 1.53s\tremaining: 1.73s\n",
      "469:\tlearn: 0.5613405\ttotal: 1.53s\tremaining: 1.72s\n",
      "470:\tlearn: 0.5611986\ttotal: 1.53s\tremaining: 1.72s\n",
      "471:\tlearn: 0.5611403\ttotal: 1.53s\tremaining: 1.72s\n",
      "472:\tlearn: 0.5611089\ttotal: 1.54s\tremaining: 1.71s\n",
      "473:\tlearn: 0.5608980\ttotal: 1.54s\tremaining: 1.71s\n",
      "474:\tlearn: 0.5608104\ttotal: 1.54s\tremaining: 1.71s\n",
      "475:\tlearn: 0.5607394\ttotal: 1.55s\tremaining: 1.7s\n",
      "476:\tlearn: 0.5606823\ttotal: 1.55s\tremaining: 1.7s\n",
      "477:\tlearn: 0.5606736\ttotal: 1.55s\tremaining: 1.69s\n",
      "478:\tlearn: 0.5605981\ttotal: 1.55s\tremaining: 1.69s\n",
      "479:\tlearn: 0.5605541\ttotal: 1.56s\tremaining: 1.69s\n",
      "480:\tlearn: 0.5603598\ttotal: 1.56s\tremaining: 1.68s\n",
      "481:\tlearn: 0.5602783\ttotal: 1.56s\tremaining: 1.68s\n",
      "482:\tlearn: 0.5601877\ttotal: 1.57s\tremaining: 1.68s\n",
      "483:\tlearn: 0.5600643\ttotal: 1.57s\tremaining: 1.67s\n",
      "484:\tlearn: 0.5599856\ttotal: 1.57s\tremaining: 1.67s\n",
      "485:\tlearn: 0.5599136\ttotal: 1.58s\tremaining: 1.67s\n",
      "486:\tlearn: 0.5598252\ttotal: 1.58s\tremaining: 1.66s\n",
      "487:\tlearn: 0.5596622\ttotal: 1.58s\tremaining: 1.66s\n",
      "488:\tlearn: 0.5596113\ttotal: 1.59s\tremaining: 1.66s\n",
      "489:\tlearn: 0.5594813\ttotal: 1.59s\tremaining: 1.65s\n",
      "490:\tlearn: 0.5593792\ttotal: 1.59s\tremaining: 1.65s\n",
      "491:\tlearn: 0.5592159\ttotal: 1.59s\tremaining: 1.65s\n",
      "492:\tlearn: 0.5591049\ttotal: 1.6s\tremaining: 1.64s\n",
      "493:\tlearn: 0.5590339\ttotal: 1.6s\tremaining: 1.64s\n",
      "494:\tlearn: 0.5589561\ttotal: 1.6s\tremaining: 1.64s\n",
      "495:\tlearn: 0.5587644\ttotal: 1.61s\tremaining: 1.63s\n",
      "496:\tlearn: 0.5586739\ttotal: 1.61s\tremaining: 1.63s\n",
      "497:\tlearn: 0.5585916\ttotal: 1.61s\tremaining: 1.63s\n",
      "498:\tlearn: 0.5584472\ttotal: 1.62s\tremaining: 1.62s\n",
      "499:\tlearn: 0.5583201\ttotal: 1.62s\tremaining: 1.62s\n",
      "500:\tlearn: 0.5582833\ttotal: 1.62s\tremaining: 1.61s\n",
      "501:\tlearn: 0.5581996\ttotal: 1.63s\tremaining: 1.61s\n",
      "502:\tlearn: 0.5581478\ttotal: 1.63s\tremaining: 1.61s\n",
      "503:\tlearn: 0.5580589\ttotal: 1.63s\tremaining: 1.6s\n",
      "504:\tlearn: 0.5578857\ttotal: 1.63s\tremaining: 1.6s\n",
      "505:\tlearn: 0.5578016\ttotal: 1.64s\tremaining: 1.6s\n",
      "506:\tlearn: 0.5576981\ttotal: 1.64s\tremaining: 1.59s\n",
      "507:\tlearn: 0.5576166\ttotal: 1.64s\tremaining: 1.59s\n",
      "508:\tlearn: 0.5575576\ttotal: 1.65s\tremaining: 1.59s\n",
      "509:\tlearn: 0.5574769\ttotal: 1.65s\tremaining: 1.58s\n",
      "510:\tlearn: 0.5572782\ttotal: 1.65s\tremaining: 1.58s\n",
      "511:\tlearn: 0.5571496\ttotal: 1.65s\tremaining: 1.58s\n",
      "512:\tlearn: 0.5569798\ttotal: 1.66s\tremaining: 1.57s\n",
      "513:\tlearn: 0.5568783\ttotal: 1.66s\tremaining: 1.57s\n",
      "514:\tlearn: 0.5567529\ttotal: 1.66s\tremaining: 1.57s\n",
      "515:\tlearn: 0.5566856\ttotal: 1.67s\tremaining: 1.56s\n",
      "516:\tlearn: 0.5566086\ttotal: 1.67s\tremaining: 1.56s\n",
      "517:\tlearn: 0.5565718\ttotal: 1.67s\tremaining: 1.56s\n",
      "518:\tlearn: 0.5565018\ttotal: 1.68s\tremaining: 1.55s\n",
      "519:\tlearn: 0.5562966\ttotal: 1.68s\tremaining: 1.55s\n",
      "520:\tlearn: 0.5561784\ttotal: 1.68s\tremaining: 1.55s\n",
      "521:\tlearn: 0.5561097\ttotal: 1.69s\tremaining: 1.54s\n",
      "522:\tlearn: 0.5560373\ttotal: 1.69s\tremaining: 1.54s\n",
      "523:\tlearn: 0.5559664\ttotal: 1.69s\tremaining: 1.54s\n",
      "524:\tlearn: 0.5559096\ttotal: 1.7s\tremaining: 1.53s\n",
      "525:\tlearn: 0.5557252\ttotal: 1.7s\tremaining: 1.53s\n",
      "526:\tlearn: 0.5556180\ttotal: 1.7s\tremaining: 1.53s\n",
      "527:\tlearn: 0.5554406\ttotal: 1.7s\tremaining: 1.52s\n",
      "528:\tlearn: 0.5553360\ttotal: 1.71s\tremaining: 1.52s\n",
      "529:\tlearn: 0.5552784\ttotal: 1.71s\tremaining: 1.52s\n",
      "530:\tlearn: 0.5552258\ttotal: 1.71s\tremaining: 1.51s\n",
      "531:\tlearn: 0.5551738\ttotal: 1.72s\tremaining: 1.51s\n",
      "532:\tlearn: 0.5550505\ttotal: 1.72s\tremaining: 1.51s\n",
      "533:\tlearn: 0.5549918\ttotal: 1.72s\tremaining: 1.5s\n",
      "534:\tlearn: 0.5549035\ttotal: 1.73s\tremaining: 1.5s\n",
      "535:\tlearn: 0.5548169\ttotal: 1.73s\tremaining: 1.5s\n",
      "536:\tlearn: 0.5547693\ttotal: 1.73s\tremaining: 1.49s\n",
      "537:\tlearn: 0.5546777\ttotal: 1.73s\tremaining: 1.49s\n",
      "538:\tlearn: 0.5545764\ttotal: 1.74s\tremaining: 1.49s\n",
      "539:\tlearn: 0.5544665\ttotal: 1.74s\tremaining: 1.48s\n",
      "540:\tlearn: 0.5543767\ttotal: 1.74s\tremaining: 1.48s\n",
      "541:\tlearn: 0.5542497\ttotal: 1.75s\tremaining: 1.48s\n",
      "542:\tlearn: 0.5541872\ttotal: 1.75s\tremaining: 1.47s\n",
      "543:\tlearn: 0.5540456\ttotal: 1.75s\tremaining: 1.47s\n",
      "544:\tlearn: 0.5538744\ttotal: 1.75s\tremaining: 1.47s\n",
      "545:\tlearn: 0.5537715\ttotal: 1.76s\tremaining: 1.46s\n",
      "546:\tlearn: 0.5536976\ttotal: 1.76s\tremaining: 1.46s\n",
      "547:\tlearn: 0.5536394\ttotal: 1.76s\tremaining: 1.46s\n",
      "548:\tlearn: 0.5535355\ttotal: 1.77s\tremaining: 1.45s\n",
      "549:\tlearn: 0.5533153\ttotal: 1.77s\tremaining: 1.45s\n",
      "550:\tlearn: 0.5532604\ttotal: 1.77s\tremaining: 1.45s\n",
      "551:\tlearn: 0.5531002\ttotal: 1.78s\tremaining: 1.44s\n",
      "552:\tlearn: 0.5529644\ttotal: 1.78s\tremaining: 1.44s\n",
      "553:\tlearn: 0.5528591\ttotal: 1.78s\tremaining: 1.44s\n",
      "554:\tlearn: 0.5527614\ttotal: 1.79s\tremaining: 1.43s\n",
      "555:\tlearn: 0.5526961\ttotal: 1.79s\tremaining: 1.43s\n",
      "556:\tlearn: 0.5525710\ttotal: 1.79s\tremaining: 1.43s\n",
      "557:\tlearn: 0.5525037\ttotal: 1.8s\tremaining: 1.42s\n",
      "558:\tlearn: 0.5524729\ttotal: 1.8s\tremaining: 1.42s\n",
      "559:\tlearn: 0.5523989\ttotal: 1.8s\tremaining: 1.42s\n",
      "560:\tlearn: 0.5522714\ttotal: 1.8s\tremaining: 1.41s\n",
      "561:\tlearn: 0.5522040\ttotal: 1.81s\tremaining: 1.41s\n",
      "562:\tlearn: 0.5520833\ttotal: 1.81s\tremaining: 1.41s\n",
      "563:\tlearn: 0.5519934\ttotal: 1.81s\tremaining: 1.4s\n",
      "564:\tlearn: 0.5519349\ttotal: 1.82s\tremaining: 1.4s\n",
      "565:\tlearn: 0.5518400\ttotal: 1.82s\tremaining: 1.4s\n",
      "566:\tlearn: 0.5517862\ttotal: 1.82s\tremaining: 1.39s\n",
      "567:\tlearn: 0.5516922\ttotal: 1.83s\tremaining: 1.39s\n",
      "568:\tlearn: 0.5515162\ttotal: 1.83s\tremaining: 1.39s\n",
      "569:\tlearn: 0.5514107\ttotal: 1.83s\tremaining: 1.38s\n",
      "570:\tlearn: 0.5513478\ttotal: 1.83s\tremaining: 1.38s\n",
      "571:\tlearn: 0.5512573\ttotal: 1.84s\tremaining: 1.38s\n",
      "572:\tlearn: 0.5511184\ttotal: 1.84s\tremaining: 1.37s\n",
      "573:\tlearn: 0.5510709\ttotal: 1.84s\tremaining: 1.37s\n",
      "574:\tlearn: 0.5509965\ttotal: 1.85s\tremaining: 1.36s\n",
      "575:\tlearn: 0.5509220\ttotal: 1.85s\tremaining: 1.36s\n",
      "576:\tlearn: 0.5508513\ttotal: 1.85s\tremaining: 1.36s\n",
      "577:\tlearn: 0.5508013\ttotal: 1.86s\tremaining: 1.36s\n",
      "578:\tlearn: 0.5506981\ttotal: 1.86s\tremaining: 1.35s\n",
      "579:\tlearn: 0.5506173\ttotal: 1.86s\tremaining: 1.35s\n",
      "580:\tlearn: 0.5505544\ttotal: 1.86s\tremaining: 1.34s\n",
      "581:\tlearn: 0.5504819\ttotal: 1.87s\tremaining: 1.34s\n",
      "582:\tlearn: 0.5504078\ttotal: 1.87s\tremaining: 1.34s\n",
      "583:\tlearn: 0.5503307\ttotal: 1.88s\tremaining: 1.34s\n",
      "584:\tlearn: 0.5502446\ttotal: 1.88s\tremaining: 1.33s\n",
      "585:\tlearn: 0.5501898\ttotal: 1.88s\tremaining: 1.33s\n",
      "586:\tlearn: 0.5500513\ttotal: 1.88s\tremaining: 1.33s\n",
      "587:\tlearn: 0.5499762\ttotal: 1.89s\tremaining: 1.32s\n",
      "588:\tlearn: 0.5498870\ttotal: 1.89s\tremaining: 1.32s\n",
      "589:\tlearn: 0.5497958\ttotal: 1.89s\tremaining: 1.32s\n",
      "590:\tlearn: 0.5496330\ttotal: 1.9s\tremaining: 1.31s\n",
      "591:\tlearn: 0.5495846\ttotal: 1.9s\tremaining: 1.31s\n",
      "592:\tlearn: 0.5494657\ttotal: 1.9s\tremaining: 1.31s\n",
      "593:\tlearn: 0.5493750\ttotal: 1.91s\tremaining: 1.3s\n",
      "594:\tlearn: 0.5492641\ttotal: 1.91s\tremaining: 1.3s\n",
      "595:\tlearn: 0.5491881\ttotal: 1.91s\tremaining: 1.3s\n",
      "596:\tlearn: 0.5490954\ttotal: 1.92s\tremaining: 1.29s\n",
      "597:\tlearn: 0.5489834\ttotal: 1.92s\tremaining: 1.29s\n",
      "598:\tlearn: 0.5489321\ttotal: 1.92s\tremaining: 1.29s\n",
      "599:\tlearn: 0.5488257\ttotal: 1.93s\tremaining: 1.28s\n",
      "600:\tlearn: 0.5486887\ttotal: 1.93s\tremaining: 1.28s\n",
      "601:\tlearn: 0.5486018\ttotal: 1.93s\tremaining: 1.28s\n",
      "602:\tlearn: 0.5485529\ttotal: 1.93s\tremaining: 1.27s\n",
      "603:\tlearn: 0.5484855\ttotal: 1.94s\tremaining: 1.27s\n",
      "604:\tlearn: 0.5484171\ttotal: 1.94s\tremaining: 1.27s\n",
      "605:\tlearn: 0.5483402\ttotal: 1.94s\tremaining: 1.26s\n",
      "606:\tlearn: 0.5482781\ttotal: 1.95s\tremaining: 1.26s\n",
      "607:\tlearn: 0.5481648\ttotal: 1.95s\tremaining: 1.26s\n",
      "608:\tlearn: 0.5480306\ttotal: 1.95s\tremaining: 1.25s\n",
      "609:\tlearn: 0.5479647\ttotal: 1.96s\tremaining: 1.25s\n",
      "610:\tlearn: 0.5479246\ttotal: 1.96s\tremaining: 1.25s\n",
      "611:\tlearn: 0.5477904\ttotal: 1.96s\tremaining: 1.24s\n",
      "612:\tlearn: 0.5476778\ttotal: 1.96s\tremaining: 1.24s\n",
      "613:\tlearn: 0.5476209\ttotal: 1.97s\tremaining: 1.24s\n",
      "614:\tlearn: 0.5475268\ttotal: 1.97s\tremaining: 1.23s\n",
      "615:\tlearn: 0.5474383\ttotal: 1.97s\tremaining: 1.23s\n",
      "616:\tlearn: 0.5472803\ttotal: 1.98s\tremaining: 1.23s\n",
      "617:\tlearn: 0.5471662\ttotal: 1.98s\tremaining: 1.22s\n",
      "618:\tlearn: 0.5470540\ttotal: 1.98s\tremaining: 1.22s\n",
      "619:\tlearn: 0.5469811\ttotal: 1.99s\tremaining: 1.22s\n",
      "620:\tlearn: 0.5468542\ttotal: 1.99s\tremaining: 1.21s\n",
      "621:\tlearn: 0.5467754\ttotal: 1.99s\tremaining: 1.21s\n",
      "622:\tlearn: 0.5466522\ttotal: 2s\tremaining: 1.21s\n",
      "623:\tlearn: 0.5465672\ttotal: 2s\tremaining: 1.2s\n",
      "624:\tlearn: 0.5464615\ttotal: 2s\tremaining: 1.2s\n",
      "625:\tlearn: 0.5463990\ttotal: 2s\tremaining: 1.2s\n",
      "626:\tlearn: 0.5462793\ttotal: 2.01s\tremaining: 1.19s\n",
      "627:\tlearn: 0.5461511\ttotal: 2.01s\tremaining: 1.19s\n",
      "628:\tlearn: 0.5460631\ttotal: 2.01s\tremaining: 1.19s\n",
      "629:\tlearn: 0.5459715\ttotal: 2.02s\tremaining: 1.19s\n",
      "630:\tlearn: 0.5458825\ttotal: 2.02s\tremaining: 1.18s\n",
      "631:\tlearn: 0.5457592\ttotal: 2.02s\tremaining: 1.18s\n",
      "632:\tlearn: 0.5457055\ttotal: 2.03s\tremaining: 1.17s\n",
      "633:\tlearn: 0.5456365\ttotal: 2.03s\tremaining: 1.17s\n",
      "634:\tlearn: 0.5455769\ttotal: 2.03s\tremaining: 1.17s\n",
      "635:\tlearn: 0.5454329\ttotal: 2.04s\tremaining: 1.17s\n",
      "636:\tlearn: 0.5453910\ttotal: 2.04s\tremaining: 1.16s\n",
      "637:\tlearn: 0.5453123\ttotal: 2.04s\tremaining: 1.16s\n",
      "638:\tlearn: 0.5452249\ttotal: 2.04s\tremaining: 1.16s\n",
      "639:\tlearn: 0.5451096\ttotal: 2.05s\tremaining: 1.15s\n",
      "640:\tlearn: 0.5450656\ttotal: 2.05s\tremaining: 1.15s\n",
      "641:\tlearn: 0.5449502\ttotal: 2.05s\tremaining: 1.15s\n",
      "642:\tlearn: 0.5448808\ttotal: 2.06s\tremaining: 1.14s\n",
      "643:\tlearn: 0.5448128\ttotal: 2.06s\tremaining: 1.14s\n",
      "644:\tlearn: 0.5447763\ttotal: 2.06s\tremaining: 1.14s\n",
      "645:\tlearn: 0.5446695\ttotal: 2.07s\tremaining: 1.13s\n",
      "646:\tlearn: 0.5445989\ttotal: 2.07s\tremaining: 1.13s\n",
      "647:\tlearn: 0.5445561\ttotal: 2.07s\tremaining: 1.13s\n",
      "648:\tlearn: 0.5444325\ttotal: 2.08s\tremaining: 1.12s\n",
      "649:\tlearn: 0.5443373\ttotal: 2.08s\tremaining: 1.12s\n",
      "650:\tlearn: 0.5442296\ttotal: 2.08s\tremaining: 1.12s\n",
      "651:\tlearn: 0.5441539\ttotal: 2.08s\tremaining: 1.11s\n",
      "652:\tlearn: 0.5440555\ttotal: 2.09s\tremaining: 1.11s\n",
      "653:\tlearn: 0.5440172\ttotal: 2.09s\tremaining: 1.11s\n",
      "654:\tlearn: 0.5439435\ttotal: 2.09s\tremaining: 1.1s\n",
      "655:\tlearn: 0.5438526\ttotal: 2.1s\tremaining: 1.1s\n",
      "656:\tlearn: 0.5437653\ttotal: 2.1s\tremaining: 1.1s\n",
      "657:\tlearn: 0.5436876\ttotal: 2.1s\tremaining: 1.09s\n",
      "658:\tlearn: 0.5436273\ttotal: 2.11s\tremaining: 1.09s\n",
      "659:\tlearn: 0.5435369\ttotal: 2.11s\tremaining: 1.09s\n",
      "660:\tlearn: 0.5434692\ttotal: 2.11s\tremaining: 1.08s\n",
      "661:\tlearn: 0.5432699\ttotal: 2.12s\tremaining: 1.08s\n",
      "662:\tlearn: 0.5431355\ttotal: 2.12s\tremaining: 1.08s\n",
      "663:\tlearn: 0.5430762\ttotal: 2.12s\tremaining: 1.07s\n",
      "664:\tlearn: 0.5429883\ttotal: 2.12s\tremaining: 1.07s\n",
      "665:\tlearn: 0.5429589\ttotal: 2.13s\tremaining: 1.07s\n",
      "666:\tlearn: 0.5428392\ttotal: 2.13s\tremaining: 1.06s\n",
      "667:\tlearn: 0.5427654\ttotal: 2.13s\tremaining: 1.06s\n",
      "668:\tlearn: 0.5427160\ttotal: 2.14s\tremaining: 1.06s\n",
      "669:\tlearn: 0.5425553\ttotal: 2.14s\tremaining: 1.05s\n",
      "670:\tlearn: 0.5424803\ttotal: 2.14s\tremaining: 1.05s\n",
      "671:\tlearn: 0.5424308\ttotal: 2.15s\tremaining: 1.05s\n",
      "672:\tlearn: 0.5423345\ttotal: 2.15s\tremaining: 1.04s\n",
      "673:\tlearn: 0.5422930\ttotal: 2.15s\tremaining: 1.04s\n",
      "674:\tlearn: 0.5422487\ttotal: 2.15s\tremaining: 1.04s\n",
      "675:\tlearn: 0.5421795\ttotal: 2.16s\tremaining: 1.03s\n",
      "676:\tlearn: 0.5420793\ttotal: 2.16s\tremaining: 1.03s\n",
      "677:\tlearn: 0.5420372\ttotal: 2.16s\tremaining: 1.03s\n",
      "678:\tlearn: 0.5419324\ttotal: 2.17s\tremaining: 1.02s\n",
      "679:\tlearn: 0.5418825\ttotal: 2.17s\tremaining: 1.02s\n",
      "680:\tlearn: 0.5417849\ttotal: 2.17s\tremaining: 1.02s\n",
      "681:\tlearn: 0.5416898\ttotal: 2.18s\tremaining: 1.02s\n",
      "682:\tlearn: 0.5415841\ttotal: 2.18s\tremaining: 1.01s\n",
      "683:\tlearn: 0.5414994\ttotal: 2.19s\tremaining: 1.01s\n",
      "684:\tlearn: 0.5413751\ttotal: 2.19s\tremaining: 1.01s\n",
      "685:\tlearn: 0.5412990\ttotal: 2.19s\tremaining: 1s\n",
      "686:\tlearn: 0.5412381\ttotal: 2.2s\tremaining: 1s\n",
      "687:\tlearn: 0.5412025\ttotal: 2.2s\tremaining: 998ms\n",
      "688:\tlearn: 0.5411026\ttotal: 2.2s\tremaining: 994ms\n",
      "689:\tlearn: 0.5410259\ttotal: 2.21s\tremaining: 991ms\n",
      "690:\tlearn: 0.5409321\ttotal: 2.21s\tremaining: 988ms\n",
      "691:\tlearn: 0.5408642\ttotal: 2.21s\tremaining: 985ms\n",
      "692:\tlearn: 0.5407734\ttotal: 2.21s\tremaining: 982ms\n",
      "693:\tlearn: 0.5407138\ttotal: 2.22s\tremaining: 978ms\n",
      "694:\tlearn: 0.5405271\ttotal: 2.22s\tremaining: 975ms\n",
      "695:\tlearn: 0.5404565\ttotal: 2.23s\tremaining: 972ms\n",
      "696:\tlearn: 0.5403965\ttotal: 2.23s\tremaining: 969ms\n",
      "697:\tlearn: 0.5403599\ttotal: 2.23s\tremaining: 966ms\n",
      "698:\tlearn: 0.5402759\ttotal: 2.23s\tremaining: 963ms\n",
      "699:\tlearn: 0.5401937\ttotal: 2.24s\tremaining: 959ms\n",
      "700:\tlearn: 0.5401327\ttotal: 2.24s\tremaining: 956ms\n",
      "701:\tlearn: 0.5401065\ttotal: 2.24s\tremaining: 953ms\n",
      "702:\tlearn: 0.5400449\ttotal: 2.25s\tremaining: 949ms\n",
      "703:\tlearn: 0.5399630\ttotal: 2.25s\tremaining: 946ms\n",
      "704:\tlearn: 0.5398398\ttotal: 2.25s\tremaining: 943ms\n",
      "705:\tlearn: 0.5397743\ttotal: 2.26s\tremaining: 940ms\n",
      "706:\tlearn: 0.5396811\ttotal: 2.26s\tremaining: 937ms\n",
      "707:\tlearn: 0.5396395\ttotal: 2.26s\tremaining: 934ms\n",
      "708:\tlearn: 0.5395488\ttotal: 2.27s\tremaining: 931ms\n",
      "709:\tlearn: 0.5394690\ttotal: 2.27s\tremaining: 927ms\n",
      "710:\tlearn: 0.5393454\ttotal: 2.27s\tremaining: 924ms\n",
      "711:\tlearn: 0.5392366\ttotal: 2.28s\tremaining: 921ms\n",
      "712:\tlearn: 0.5391535\ttotal: 2.28s\tremaining: 918ms\n",
      "713:\tlearn: 0.5390352\ttotal: 2.28s\tremaining: 915ms\n",
      "714:\tlearn: 0.5389586\ttotal: 2.29s\tremaining: 912ms\n",
      "715:\tlearn: 0.5388944\ttotal: 2.29s\tremaining: 909ms\n",
      "716:\tlearn: 0.5388650\ttotal: 2.29s\tremaining: 906ms\n",
      "717:\tlearn: 0.5388402\ttotal: 2.3s\tremaining: 903ms\n",
      "718:\tlearn: 0.5387222\ttotal: 2.3s\tremaining: 900ms\n",
      "719:\tlearn: 0.5386826\ttotal: 2.31s\tremaining: 897ms\n",
      "720:\tlearn: 0.5385762\ttotal: 2.31s\tremaining: 894ms\n",
      "721:\tlearn: 0.5384481\ttotal: 2.31s\tremaining: 890ms\n",
      "722:\tlearn: 0.5383467\ttotal: 2.31s\tremaining: 887ms\n",
      "723:\tlearn: 0.5383159\ttotal: 2.32s\tremaining: 884ms\n",
      "724:\tlearn: 0.5382244\ttotal: 2.32s\tremaining: 881ms\n",
      "725:\tlearn: 0.5381725\ttotal: 2.33s\tremaining: 878ms\n",
      "726:\tlearn: 0.5380431\ttotal: 2.33s\tremaining: 874ms\n",
      "727:\tlearn: 0.5379654\ttotal: 2.33s\tremaining: 871ms\n",
      "728:\tlearn: 0.5378603\ttotal: 2.33s\tremaining: 868ms\n",
      "729:\tlearn: 0.5377773\ttotal: 2.34s\tremaining: 865ms\n",
      "730:\tlearn: 0.5376937\ttotal: 2.34s\tremaining: 862ms\n",
      "731:\tlearn: 0.5376362\ttotal: 2.35s\tremaining: 859ms\n",
      "732:\tlearn: 0.5375388\ttotal: 2.35s\tremaining: 856ms\n",
      "733:\tlearn: 0.5374605\ttotal: 2.35s\tremaining: 853ms\n",
      "734:\tlearn: 0.5373713\ttotal: 2.36s\tremaining: 850ms\n",
      "735:\tlearn: 0.5372544\ttotal: 2.36s\tremaining: 847ms\n",
      "736:\tlearn: 0.5371862\ttotal: 2.36s\tremaining: 844ms\n",
      "737:\tlearn: 0.5370554\ttotal: 2.37s\tremaining: 841ms\n",
      "738:\tlearn: 0.5369895\ttotal: 2.37s\tremaining: 838ms\n",
      "739:\tlearn: 0.5368836\ttotal: 2.38s\tremaining: 835ms\n",
      "740:\tlearn: 0.5368059\ttotal: 2.38s\tremaining: 831ms\n",
      "741:\tlearn: 0.5366785\ttotal: 2.38s\tremaining: 829ms\n",
      "742:\tlearn: 0.5365805\ttotal: 2.39s\tremaining: 826ms\n",
      "743:\tlearn: 0.5364961\ttotal: 2.39s\tremaining: 822ms\n",
      "744:\tlearn: 0.5364043\ttotal: 2.39s\tremaining: 819ms\n",
      "745:\tlearn: 0.5362973\ttotal: 2.4s\tremaining: 817ms\n",
      "746:\tlearn: 0.5362065\ttotal: 2.4s\tremaining: 815ms\n",
      "747:\tlearn: 0.5361056\ttotal: 2.41s\tremaining: 812ms\n",
      "748:\tlearn: 0.5360518\ttotal: 2.42s\tremaining: 810ms\n",
      "749:\tlearn: 0.5359315\ttotal: 2.42s\tremaining: 808ms\n",
      "750:\tlearn: 0.5358744\ttotal: 2.43s\tremaining: 805ms\n",
      "751:\tlearn: 0.5357184\ttotal: 2.43s\tremaining: 803ms\n",
      "752:\tlearn: 0.5356575\ttotal: 2.44s\tremaining: 801ms\n",
      "753:\tlearn: 0.5356027\ttotal: 2.45s\tremaining: 798ms\n",
      "754:\tlearn: 0.5355800\ttotal: 2.45s\tremaining: 795ms\n",
      "755:\tlearn: 0.5354158\ttotal: 2.45s\tremaining: 792ms\n",
      "756:\tlearn: 0.5353094\ttotal: 2.46s\tremaining: 789ms\n",
      "757:\tlearn: 0.5352466\ttotal: 2.46s\tremaining: 785ms\n",
      "758:\tlearn: 0.5351975\ttotal: 2.46s\tremaining: 782ms\n",
      "759:\tlearn: 0.5351250\ttotal: 2.47s\tremaining: 780ms\n",
      "760:\tlearn: 0.5350786\ttotal: 2.47s\tremaining: 777ms\n",
      "761:\tlearn: 0.5350524\ttotal: 2.48s\tremaining: 774ms\n",
      "762:\tlearn: 0.5349404\ttotal: 2.48s\tremaining: 771ms\n",
      "763:\tlearn: 0.5348783\ttotal: 2.48s\tremaining: 768ms\n",
      "764:\tlearn: 0.5347620\ttotal: 2.49s\tremaining: 764ms\n",
      "765:\tlearn: 0.5346428\ttotal: 2.49s\tremaining: 761ms\n",
      "766:\tlearn: 0.5345500\ttotal: 2.5s\tremaining: 758ms\n",
      "767:\tlearn: 0.5344808\ttotal: 2.5s\tremaining: 755ms\n",
      "768:\tlearn: 0.5344162\ttotal: 2.5s\tremaining: 752ms\n",
      "769:\tlearn: 0.5342686\ttotal: 2.5s\tremaining: 748ms\n",
      "770:\tlearn: 0.5342142\ttotal: 2.51s\tremaining: 745ms\n",
      "771:\tlearn: 0.5340522\ttotal: 2.51s\tremaining: 742ms\n",
      "772:\tlearn: 0.5340364\ttotal: 2.52s\tremaining: 739ms\n",
      "773:\tlearn: 0.5339434\ttotal: 2.52s\tremaining: 735ms\n",
      "774:\tlearn: 0.5338499\ttotal: 2.52s\tremaining: 732ms\n",
      "775:\tlearn: 0.5337606\ttotal: 2.52s\tremaining: 729ms\n",
      "776:\tlearn: 0.5337006\ttotal: 2.53s\tremaining: 725ms\n",
      "777:\tlearn: 0.5335572\ttotal: 2.53s\tremaining: 722ms\n",
      "778:\tlearn: 0.5334913\ttotal: 2.53s\tremaining: 719ms\n",
      "779:\tlearn: 0.5334096\ttotal: 2.54s\tremaining: 715ms\n",
      "780:\tlearn: 0.5333259\ttotal: 2.54s\tremaining: 712ms\n",
      "781:\tlearn: 0.5331954\ttotal: 2.54s\tremaining: 709ms\n",
      "782:\tlearn: 0.5331325\ttotal: 2.55s\tremaining: 706ms\n",
      "783:\tlearn: 0.5330440\ttotal: 2.55s\tremaining: 702ms\n",
      "784:\tlearn: 0.5330064\ttotal: 2.55s\tremaining: 699ms\n",
      "785:\tlearn: 0.5329505\ttotal: 2.56s\tremaining: 696ms\n",
      "786:\tlearn: 0.5328880\ttotal: 2.56s\tremaining: 693ms\n",
      "787:\tlearn: 0.5328050\ttotal: 2.56s\tremaining: 689ms\n",
      "788:\tlearn: 0.5327049\ttotal: 2.56s\tremaining: 686ms\n",
      "789:\tlearn: 0.5325920\ttotal: 2.57s\tremaining: 683ms\n",
      "790:\tlearn: 0.5325176\ttotal: 2.57s\tremaining: 679ms\n",
      "791:\tlearn: 0.5324627\ttotal: 2.57s\tremaining: 676ms\n",
      "792:\tlearn: 0.5324143\ttotal: 2.58s\tremaining: 673ms\n",
      "793:\tlearn: 0.5323633\ttotal: 2.58s\tremaining: 669ms\n",
      "794:\tlearn: 0.5322360\ttotal: 2.58s\tremaining: 666ms\n",
      "795:\tlearn: 0.5322118\ttotal: 2.58s\tremaining: 663ms\n",
      "796:\tlearn: 0.5321004\ttotal: 2.59s\tremaining: 659ms\n",
      "797:\tlearn: 0.5320284\ttotal: 2.59s\tremaining: 656ms\n",
      "798:\tlearn: 0.5319673\ttotal: 2.6s\tremaining: 653ms\n",
      "799:\tlearn: 0.5319251\ttotal: 2.6s\tremaining: 650ms\n",
      "800:\tlearn: 0.5318868\ttotal: 2.6s\tremaining: 646ms\n",
      "801:\tlearn: 0.5318366\ttotal: 2.6s\tremaining: 643ms\n",
      "802:\tlearn: 0.5317895\ttotal: 2.61s\tremaining: 640ms\n",
      "803:\tlearn: 0.5317273\ttotal: 2.61s\tremaining: 636ms\n",
      "804:\tlearn: 0.5316631\ttotal: 2.61s\tremaining: 633ms\n",
      "805:\tlearn: 0.5315817\ttotal: 2.62s\tremaining: 630ms\n",
      "806:\tlearn: 0.5315136\ttotal: 2.62s\tremaining: 626ms\n",
      "807:\tlearn: 0.5314030\ttotal: 2.62s\tremaining: 623ms\n",
      "808:\tlearn: 0.5313379\ttotal: 2.63s\tremaining: 620ms\n",
      "809:\tlearn: 0.5312250\ttotal: 2.63s\tremaining: 617ms\n",
      "810:\tlearn: 0.5311326\ttotal: 2.63s\tremaining: 613ms\n",
      "811:\tlearn: 0.5311034\ttotal: 2.63s\tremaining: 610ms\n",
      "812:\tlearn: 0.5310701\ttotal: 2.64s\tremaining: 607ms\n",
      "813:\tlearn: 0.5309724\ttotal: 2.64s\tremaining: 604ms\n",
      "814:\tlearn: 0.5308706\ttotal: 2.64s\tremaining: 600ms\n",
      "815:\tlearn: 0.5308146\ttotal: 2.65s\tremaining: 597ms\n",
      "816:\tlearn: 0.5307192\ttotal: 2.65s\tremaining: 594ms\n",
      "817:\tlearn: 0.5306411\ttotal: 2.65s\tremaining: 591ms\n",
      "818:\tlearn: 0.5306140\ttotal: 2.66s\tremaining: 587ms\n",
      "819:\tlearn: 0.5305793\ttotal: 2.66s\tremaining: 584ms\n",
      "820:\tlearn: 0.5305324\ttotal: 2.66s\tremaining: 581ms\n",
      "821:\tlearn: 0.5304637\ttotal: 2.67s\tremaining: 577ms\n",
      "822:\tlearn: 0.5304123\ttotal: 2.67s\tremaining: 574ms\n",
      "823:\tlearn: 0.5302313\ttotal: 2.67s\tremaining: 571ms\n",
      "824:\tlearn: 0.5301617\ttotal: 2.68s\tremaining: 568ms\n",
      "825:\tlearn: 0.5300938\ttotal: 2.68s\tremaining: 564ms\n",
      "826:\tlearn: 0.5299723\ttotal: 2.68s\tremaining: 561ms\n",
      "827:\tlearn: 0.5298648\ttotal: 2.69s\tremaining: 558ms\n",
      "828:\tlearn: 0.5298099\ttotal: 2.69s\tremaining: 555ms\n",
      "829:\tlearn: 0.5297217\ttotal: 2.69s\tremaining: 552ms\n",
      "830:\tlearn: 0.5296885\ttotal: 2.69s\tremaining: 548ms\n",
      "831:\tlearn: 0.5295600\ttotal: 2.7s\tremaining: 545ms\n",
      "832:\tlearn: 0.5294967\ttotal: 2.7s\tremaining: 542ms\n",
      "833:\tlearn: 0.5294266\ttotal: 2.71s\tremaining: 538ms\n",
      "834:\tlearn: 0.5293440\ttotal: 2.71s\tremaining: 535ms\n",
      "835:\tlearn: 0.5292402\ttotal: 2.71s\tremaining: 532ms\n",
      "836:\tlearn: 0.5291024\ttotal: 2.71s\tremaining: 529ms\n",
      "837:\tlearn: 0.5289242\ttotal: 2.72s\tremaining: 525ms\n",
      "838:\tlearn: 0.5288099\ttotal: 2.72s\tremaining: 522ms\n",
      "839:\tlearn: 0.5286890\ttotal: 2.72s\tremaining: 519ms\n",
      "840:\tlearn: 0.5285059\ttotal: 2.73s\tremaining: 516ms\n",
      "841:\tlearn: 0.5284355\ttotal: 2.73s\tremaining: 512ms\n",
      "842:\tlearn: 0.5282944\ttotal: 2.73s\tremaining: 509ms\n",
      "843:\tlearn: 0.5282072\ttotal: 2.74s\tremaining: 506ms\n",
      "844:\tlearn: 0.5279984\ttotal: 2.74s\tremaining: 503ms\n",
      "845:\tlearn: 0.5278317\ttotal: 2.74s\tremaining: 499ms\n",
      "846:\tlearn: 0.5277334\ttotal: 2.75s\tremaining: 496ms\n",
      "847:\tlearn: 0.5276324\ttotal: 2.75s\tremaining: 493ms\n",
      "848:\tlearn: 0.5275397\ttotal: 2.75s\tremaining: 490ms\n",
      "849:\tlearn: 0.5274505\ttotal: 2.75s\tremaining: 486ms\n",
      "850:\tlearn: 0.5273493\ttotal: 2.76s\tremaining: 483ms\n",
      "851:\tlearn: 0.5272941\ttotal: 2.76s\tremaining: 480ms\n",
      "852:\tlearn: 0.5271968\ttotal: 2.76s\tremaining: 476ms\n",
      "853:\tlearn: 0.5270836\ttotal: 2.77s\tremaining: 473ms\n",
      "854:\tlearn: 0.5269596\ttotal: 2.77s\tremaining: 470ms\n",
      "855:\tlearn: 0.5268963\ttotal: 2.77s\tremaining: 467ms\n",
      "856:\tlearn: 0.5267812\ttotal: 2.78s\tremaining: 463ms\n",
      "857:\tlearn: 0.5266886\ttotal: 2.78s\tremaining: 460ms\n",
      "858:\tlearn: 0.5266394\ttotal: 2.78s\tremaining: 457ms\n",
      "859:\tlearn: 0.5265888\ttotal: 2.79s\tremaining: 454ms\n",
      "860:\tlearn: 0.5264730\ttotal: 2.79s\tremaining: 450ms\n",
      "861:\tlearn: 0.5264151\ttotal: 2.79s\tremaining: 447ms\n",
      "862:\tlearn: 0.5263043\ttotal: 2.8s\tremaining: 444ms\n",
      "863:\tlearn: 0.5261827\ttotal: 2.8s\tremaining: 441ms\n",
      "864:\tlearn: 0.5261176\ttotal: 2.8s\tremaining: 438ms\n",
      "865:\tlearn: 0.5260443\ttotal: 2.81s\tremaining: 434ms\n",
      "866:\tlearn: 0.5259361\ttotal: 2.81s\tremaining: 431ms\n",
      "867:\tlearn: 0.5258274\ttotal: 2.81s\tremaining: 428ms\n",
      "868:\tlearn: 0.5257814\ttotal: 2.81s\tremaining: 424ms\n",
      "869:\tlearn: 0.5257355\ttotal: 2.82s\tremaining: 421ms\n",
      "870:\tlearn: 0.5255793\ttotal: 2.82s\tremaining: 418ms\n",
      "871:\tlearn: 0.5255080\ttotal: 2.82s\tremaining: 415ms\n",
      "872:\tlearn: 0.5254501\ttotal: 2.83s\tremaining: 411ms\n",
      "873:\tlearn: 0.5253313\ttotal: 2.83s\tremaining: 408ms\n",
      "874:\tlearn: 0.5252080\ttotal: 2.83s\tremaining: 405ms\n",
      "875:\tlearn: 0.5251504\ttotal: 2.84s\tremaining: 402ms\n",
      "876:\tlearn: 0.5250765\ttotal: 2.84s\tremaining: 398ms\n",
      "877:\tlearn: 0.5249837\ttotal: 2.84s\tremaining: 395ms\n",
      "878:\tlearn: 0.5248482\ttotal: 2.85s\tremaining: 392ms\n",
      "879:\tlearn: 0.5247484\ttotal: 2.85s\tremaining: 389ms\n",
      "880:\tlearn: 0.5246973\ttotal: 2.85s\tremaining: 385ms\n",
      "881:\tlearn: 0.5246161\ttotal: 2.86s\tremaining: 382ms\n",
      "882:\tlearn: 0.5245518\ttotal: 2.86s\tremaining: 379ms\n",
      "883:\tlearn: 0.5244431\ttotal: 2.86s\tremaining: 376ms\n",
      "884:\tlearn: 0.5243783\ttotal: 2.87s\tremaining: 372ms\n",
      "885:\tlearn: 0.5242901\ttotal: 2.87s\tremaining: 369ms\n",
      "886:\tlearn: 0.5241991\ttotal: 2.87s\tremaining: 366ms\n",
      "887:\tlearn: 0.5241063\ttotal: 2.88s\tremaining: 363ms\n",
      "888:\tlearn: 0.5240296\ttotal: 2.88s\tremaining: 359ms\n",
      "889:\tlearn: 0.5239667\ttotal: 2.88s\tremaining: 356ms\n",
      "890:\tlearn: 0.5238900\ttotal: 2.88s\tremaining: 353ms\n",
      "891:\tlearn: 0.5237586\ttotal: 2.89s\tremaining: 350ms\n",
      "892:\tlearn: 0.5236838\ttotal: 2.89s\tremaining: 346ms\n",
      "893:\tlearn: 0.5235633\ttotal: 2.89s\tremaining: 343ms\n",
      "894:\tlearn: 0.5234802\ttotal: 2.9s\tremaining: 340ms\n",
      "895:\tlearn: 0.5234095\ttotal: 2.9s\tremaining: 337ms\n",
      "896:\tlearn: 0.5233791\ttotal: 2.9s\tremaining: 334ms\n",
      "897:\tlearn: 0.5233074\ttotal: 2.91s\tremaining: 330ms\n",
      "898:\tlearn: 0.5232605\ttotal: 2.92s\tremaining: 329ms\n",
      "899:\tlearn: 0.5231943\ttotal: 2.93s\tremaining: 325ms\n",
      "900:\tlearn: 0.5230823\ttotal: 2.93s\tremaining: 322ms\n",
      "901:\tlearn: 0.5229181\ttotal: 2.94s\tremaining: 319ms\n",
      "902:\tlearn: 0.5228337\ttotal: 2.94s\tremaining: 316ms\n",
      "903:\tlearn: 0.5227660\ttotal: 2.94s\tremaining: 313ms\n",
      "904:\tlearn: 0.5226533\ttotal: 2.95s\tremaining: 309ms\n",
      "905:\tlearn: 0.5225878\ttotal: 2.95s\tremaining: 306ms\n",
      "906:\tlearn: 0.5224523\ttotal: 2.95s\tremaining: 303ms\n",
      "907:\tlearn: 0.5223118\ttotal: 2.96s\tremaining: 300ms\n",
      "908:\tlearn: 0.5221753\ttotal: 2.96s\tremaining: 297ms\n",
      "909:\tlearn: 0.5220444\ttotal: 2.96s\tremaining: 293ms\n",
      "910:\tlearn: 0.5219645\ttotal: 2.97s\tremaining: 290ms\n",
      "911:\tlearn: 0.5218915\ttotal: 2.97s\tremaining: 287ms\n",
      "912:\tlearn: 0.5218123\ttotal: 2.98s\tremaining: 284ms\n",
      "913:\tlearn: 0.5217597\ttotal: 2.98s\tremaining: 280ms\n",
      "914:\tlearn: 0.5216678\ttotal: 2.98s\tremaining: 277ms\n",
      "915:\tlearn: 0.5215812\ttotal: 2.98s\tremaining: 274ms\n",
      "916:\tlearn: 0.5215320\ttotal: 2.99s\tremaining: 271ms\n",
      "917:\tlearn: 0.5214573\ttotal: 2.99s\tremaining: 267ms\n",
      "918:\tlearn: 0.5213129\ttotal: 3s\tremaining: 264ms\n",
      "919:\tlearn: 0.5212688\ttotal: 3s\tremaining: 261ms\n",
      "920:\tlearn: 0.5211631\ttotal: 3s\tremaining: 258ms\n",
      "921:\tlearn: 0.5210116\ttotal: 3s\tremaining: 254ms\n",
      "922:\tlearn: 0.5209238\ttotal: 3.01s\tremaining: 251ms\n",
      "923:\tlearn: 0.5208538\ttotal: 3.01s\tremaining: 248ms\n",
      "924:\tlearn: 0.5207863\ttotal: 3.02s\tremaining: 244ms\n",
      "925:\tlearn: 0.5207189\ttotal: 3.02s\tremaining: 241ms\n",
      "926:\tlearn: 0.5206010\ttotal: 3.02s\tremaining: 238ms\n",
      "927:\tlearn: 0.5205077\ttotal: 3.02s\tremaining: 235ms\n",
      "928:\tlearn: 0.5204316\ttotal: 3.03s\tremaining: 231ms\n",
      "929:\tlearn: 0.5203464\ttotal: 3.03s\tremaining: 228ms\n",
      "930:\tlearn: 0.5202359\ttotal: 3.03s\tremaining: 225ms\n",
      "931:\tlearn: 0.5202027\ttotal: 3.04s\tremaining: 222ms\n",
      "932:\tlearn: 0.5200899\ttotal: 3.04s\tremaining: 218ms\n",
      "933:\tlearn: 0.5199650\ttotal: 3.04s\tremaining: 215ms\n",
      "934:\tlearn: 0.5199095\ttotal: 3.05s\tremaining: 212ms\n",
      "935:\tlearn: 0.5198513\ttotal: 3.05s\tremaining: 209ms\n",
      "936:\tlearn: 0.5198024\ttotal: 3.05s\tremaining: 205ms\n",
      "937:\tlearn: 0.5197380\ttotal: 3.06s\tremaining: 202ms\n",
      "938:\tlearn: 0.5196352\ttotal: 3.06s\tremaining: 199ms\n",
      "939:\tlearn: 0.5195496\ttotal: 3.06s\tremaining: 196ms\n",
      "940:\tlearn: 0.5194824\ttotal: 3.07s\tremaining: 192ms\n",
      "941:\tlearn: 0.5194065\ttotal: 3.07s\tremaining: 189ms\n",
      "942:\tlearn: 0.5193411\ttotal: 3.07s\tremaining: 186ms\n",
      "943:\tlearn: 0.5192425\ttotal: 3.08s\tremaining: 183ms\n",
      "944:\tlearn: 0.5191558\ttotal: 3.08s\tremaining: 179ms\n",
      "945:\tlearn: 0.5190950\ttotal: 3.08s\tremaining: 176ms\n",
      "946:\tlearn: 0.5189861\ttotal: 3.08s\tremaining: 173ms\n",
      "947:\tlearn: 0.5189067\ttotal: 3.09s\tremaining: 169ms\n",
      "948:\tlearn: 0.5188353\ttotal: 3.09s\tremaining: 166ms\n",
      "949:\tlearn: 0.5187759\ttotal: 3.09s\tremaining: 163ms\n",
      "950:\tlearn: 0.5186576\ttotal: 3.1s\tremaining: 160ms\n",
      "951:\tlearn: 0.5185905\ttotal: 3.1s\tremaining: 156ms\n",
      "952:\tlearn: 0.5184496\ttotal: 3.1s\tremaining: 153ms\n",
      "953:\tlearn: 0.5183751\ttotal: 3.11s\tremaining: 150ms\n",
      "954:\tlearn: 0.5182069\ttotal: 3.11s\tremaining: 147ms\n",
      "955:\tlearn: 0.5181117\ttotal: 3.11s\tremaining: 143ms\n",
      "956:\tlearn: 0.5180339\ttotal: 3.12s\tremaining: 140ms\n",
      "957:\tlearn: 0.5179524\ttotal: 3.12s\tremaining: 137ms\n",
      "958:\tlearn: 0.5178827\ttotal: 3.12s\tremaining: 134ms\n",
      "959:\tlearn: 0.5178242\ttotal: 3.13s\tremaining: 130ms\n",
      "960:\tlearn: 0.5177719\ttotal: 3.13s\tremaining: 127ms\n",
      "961:\tlearn: 0.5176658\ttotal: 3.13s\tremaining: 124ms\n",
      "962:\tlearn: 0.5175295\ttotal: 3.13s\tremaining: 120ms\n",
      "963:\tlearn: 0.5174341\ttotal: 3.14s\tremaining: 117ms\n",
      "964:\tlearn: 0.5173268\ttotal: 3.14s\tremaining: 114ms\n",
      "965:\tlearn: 0.5172508\ttotal: 3.15s\tremaining: 111ms\n",
      "966:\tlearn: 0.5171859\ttotal: 3.15s\tremaining: 107ms\n",
      "967:\tlearn: 0.5170871\ttotal: 3.15s\tremaining: 104ms\n",
      "968:\tlearn: 0.5169835\ttotal: 3.15s\tremaining: 101ms\n",
      "969:\tlearn: 0.5168676\ttotal: 3.16s\tremaining: 97.7ms\n",
      "970:\tlearn: 0.5168170\ttotal: 3.16s\tremaining: 94.4ms\n",
      "971:\tlearn: 0.5167133\ttotal: 3.16s\tremaining: 91.1ms\n",
      "972:\tlearn: 0.5166417\ttotal: 3.17s\tremaining: 87.9ms\n",
      "973:\tlearn: 0.5165684\ttotal: 3.17s\tremaining: 84.6ms\n",
      "974:\tlearn: 0.5165130\ttotal: 3.17s\tremaining: 81.4ms\n",
      "975:\tlearn: 0.5163750\ttotal: 3.18s\tremaining: 78.1ms\n",
      "976:\tlearn: 0.5162960\ttotal: 3.18s\tremaining: 74.8ms\n",
      "977:\tlearn: 0.5161856\ttotal: 3.18s\tremaining: 71.6ms\n",
      "978:\tlearn: 0.5160323\ttotal: 3.19s\tremaining: 68.3ms\n",
      "979:\tlearn: 0.5159101\ttotal: 3.19s\tremaining: 65.1ms\n",
      "980:\tlearn: 0.5158136\ttotal: 3.19s\tremaining: 61.8ms\n",
      "981:\tlearn: 0.5157487\ttotal: 3.19s\tremaining: 58.6ms\n",
      "982:\tlearn: 0.5156058\ttotal: 3.2s\tremaining: 55.3ms\n",
      "983:\tlearn: 0.5154838\ttotal: 3.2s\tremaining: 52.1ms\n",
      "984:\tlearn: 0.5153971\ttotal: 3.2s\tremaining: 48.8ms\n",
      "985:\tlearn: 0.5153066\ttotal: 3.21s\tremaining: 45.5ms\n",
      "986:\tlearn: 0.5151427\ttotal: 3.21s\tremaining: 42.3ms\n",
      "987:\tlearn: 0.5150502\ttotal: 3.21s\tremaining: 39ms\n",
      "988:\tlearn: 0.5149906\ttotal: 3.22s\tremaining: 35.8ms\n",
      "989:\tlearn: 0.5148966\ttotal: 3.22s\tremaining: 32.5ms\n",
      "990:\tlearn: 0.5148221\ttotal: 3.22s\tremaining: 29.3ms\n",
      "991:\tlearn: 0.5146993\ttotal: 3.23s\tremaining: 26ms\n",
      "992:\tlearn: 0.5146170\ttotal: 3.23s\tremaining: 22.8ms\n",
      "993:\tlearn: 0.5145645\ttotal: 3.23s\tremaining: 19.5ms\n",
      "994:\tlearn: 0.5144803\ttotal: 3.23s\tremaining: 16.3ms\n",
      "995:\tlearn: 0.5144076\ttotal: 3.24s\tremaining: 13ms\n",
      "996:\tlearn: 0.5143203\ttotal: 3.24s\tremaining: 9.75ms\n",
      "997:\tlearn: 0.5142269\ttotal: 3.24s\tremaining: 6.5ms\n",
      "998:\tlearn: 0.5140926\ttotal: 3.25s\tremaining: 3.25ms\n",
      "999:\tlearn: 0.5140428\ttotal: 3.25s\tremaining: 0us\n",
      "Training MSE:  0.2642399871936693\n",
      "Training R2:  0.5305801902417346\n"
     ]
    }
   ],
   "source": [
    "# Create CatBoost Regressor model\n",
    "\n",
    "from catboost import CatBoostRegressor\n",
    "\n",
    "model = CatBoostRegressor(iterations=1000, learning_rate=0.01, depth=7, early_stopping_rounds=5)\n",
    "\n",
    "# Train the model\n",
    "model.fit(df_x_select, df_y)\n",
    "\n",
    "# Print the training MSE and R2 score\n",
    "print('Training MSE: ', mean_squared_error(df_y, model.predict(df_x_select)))\n",
    "print('Training R2: ', r2_score(df_y, model.predict(df_x_select)))\n",
    "\n",
    "# Save the model\n",
    "pickle.dump(model, open('models/CatBoost_model.pkl', 'wb'))"
   ]
  },
  {
   "cell_type": "code",
   "execution_count": 69,
   "metadata": {},
   "outputs": [
    {
     "name": "stdout",
     "output_type": "stream",
     "text": [
      "Training MSE:  0.37819074171093464\n",
      "Training R2:  0.32814776479622276\n"
     ]
    }
   ],
   "source": [
    "# Create AdaBoost Regressor model\n",
    "\n",
    "from sklearn.ensemble import AdaBoostRegressor\n",
    "\n",
    "model = AdaBoostRegressor(n_estimators=100, learning_rate=0.01)\n",
    "\n",
    "# Train the model\n",
    "model.fit(df_x_select, df_y)\n",
    "\n",
    "# Print the training MSE and R2 score\n",
    "print('Training MSE: ', mean_squared_error(df_y, model.predict(df_x_select)))\n",
    "print('Training R2: ', r2_score(df_y, model.predict(df_x_select)))\n",
    "\n",
    "# Save the model\n",
    "pickle.dump(model, open('models/AdaBoost_model.pkl', 'wb'))"
   ]
  },
  {
   "attachments": {},
   "cell_type": "markdown",
   "metadata": {},
   "source": [
    "## Done"
   ]
  }
 ],
 "metadata": {
  "kernelspec": {
   "display_name": "Python 3",
   "language": "python",
   "name": "python3"
  },
  "language_info": {
   "codemirror_mode": {
    "name": "ipython",
    "version": 3
   },
   "file_extension": ".py",
   "mimetype": "text/x-python",
   "name": "python",
   "nbconvert_exporter": "python",
   "pygments_lexer": "ipython3",
   "version": "3.10.9"
  }
 },
 "nbformat": 4,
 "nbformat_minor": 0
}
