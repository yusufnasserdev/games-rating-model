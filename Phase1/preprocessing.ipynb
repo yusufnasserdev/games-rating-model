{
 "cells": [
  {
   "cell_type": "markdown",
   "metadata": {
    "collapsed": false
   },
   "source": [
    "# Data Preprocessing"
   ]
  },
  {
   "attachments": {},
   "cell_type": "markdown",
   "metadata": {},
   "source": [
    "## Importing the libraries"
   ]
  },
  {
   "cell_type": "code",
   "execution_count": 46,
   "metadata": {
    "ExecuteTime": {
     "end_time": "2023-04-14T14:19:38.839351Z",
     "start_time": "2023-04-14T14:19:38.815268Z"
    },
    "collapsed": false
   },
   "outputs": [],
   "source": [
    "import pandas as pd\n",
    "import numpy as np\n",
    "import pickle\n",
    "\n",
    "from sklearn.feature_extraction.text import CountVectorizer\n",
    "from sklearn.preprocessing import MultiLabelBinarizer\n",
    "from sklearn.decomposition import PCA\n",
    "\n",
    "import warnings\n",
    "\n",
    "warnings.filterwarnings('ignore')"
   ]
  },
  {
   "cell_type": "markdown",
   "metadata": {
    "collapsed": false
   },
   "source": [
    "## Load the dataset"
   ]
  },
  {
   "cell_type": "code",
   "execution_count": 47,
   "metadata": {
    "ExecuteTime": {
     "end_time": "2023-04-14T10:33:46.390000Z",
     "start_time": "2023-04-14T10:33:46.279076Z"
    },
    "collapsed": false
   },
   "outputs": [],
   "source": [
    "from datetime import datetime\n",
    "dateparse = lambda x: datetime.strptime(x, '%d/%m/%Y')\n",
    "\n",
    "df_origin = pd.read_csv('games-regression-dataset.csv', parse_dates=['Original Release Date' , 'Current Version Release Date'], date_parser=dateparse)"
   ]
  },
  {
   "attachments": {},
   "cell_type": "markdown",
   "metadata": {
    "collapsed": false
   },
   "source": [
    "## Download the icons"
   ]
  },
  {
   "cell_type": "code",
   "execution_count": null,
   "metadata": {},
   "outputs": [],
   "source": [
    "# Convert to string\n",
    "df_origin['Icon URL'] = df_origin['Icon URL'].astype(str)\n",
    "\n",
    "import requests\n",
    "import os\n",
    "import shutil\n",
    "\n",
    "\n",
    "def download_image(url, filename):\n",
    "    r = requests.get(url, stream=True)\n",
    "    if r.status_code == 200:\n",
    "        with open(filename, 'wb') as f:\n",
    "            r.raw.decode_content = True\n",
    "            shutil.copyfileobj(r.raw, f)\n",
    "\n",
    "\n",
    "# Create a folder to store the images\n",
    "if not os.path.exists('icons'):\n",
    "    os.makedirs('icons')\n",
    "\n",
    "# Download the images\n",
    "for i, row in df_origin.iterrows():\n",
    "    download_image(row['Icon URL'], f'icons/{i}.png')"
   ]
  },
  {
   "cell_type": "code",
   "execution_count": 48,
   "metadata": {},
   "outputs": [],
   "source": [
    "# Replace the URL with the icon filename which is the index of the row\n",
    "df_origin['Icon URL'] = df_origin.apply(lambda row : f'icons/{row.name}.png', axis=1)"
   ]
  },
  {
   "cell_type": "code",
   "execution_count": 49,
   "metadata": {},
   "outputs": [
    {
     "data": {
      "text/plain": [
       "(2750, 19)"
      ]
     },
     "execution_count": 49,
     "metadata": {},
     "output_type": "execute_result"
    }
   ],
   "source": [
    "sentiment = pd.read_csv('average_reviews_compound.csv')\n",
    "## Merge The Sentiment with ba2i el table\n",
    "df_origin = df_origin.merge(sentiment, on='ID', how='left')\n",
    "## Drop nulls of sentiment\n",
    "df_origin = df_origin.dropna(subset=['Reviews'])\n",
    "df_origin.shape\n"
   ]
  },
  {
   "attachments": {},
   "cell_type": "markdown",
   "metadata": {},
   "source": [
    "## Data Splitting"
   ]
  },
  {
   "cell_type": "code",
   "execution_count": 50,
   "metadata": {},
   "outputs": [],
   "source": [
    "from sklearn.model_selection import train_test_split\n",
    "\n",
    "df, df_test = train_test_split(df_origin, test_size=0.2, random_state=42)\n",
    "df_test.to_csv('df_test.csv', index=False)"
   ]
  },
  {
   "cell_type": "code",
   "execution_count": 51,
   "metadata": {},
   "outputs": [
    {
     "data": {
      "text/plain": [
       "(2200, 19)"
      ]
     },
     "execution_count": 51,
     "metadata": {},
     "output_type": "execute_result"
    }
   ],
   "source": [
    "df.shape"
   ]
  },
  {
   "attachments": {},
   "cell_type": "markdown",
   "metadata": {
    "collapsed": false
   },
   "source": [
    "## Dropping unnecessary columns"
   ]
  },
  {
   "cell_type": "code",
   "execution_count": 52,
   "metadata": {
    "ExecuteTime": {
     "end_time": "2023-04-14T10:35:07.218975Z",
     "start_time": "2023-04-14T10:35:07.199405Z"
    },
    "collapsed": false
   },
   "outputs": [],
   "source": [
    "# drop Primary Genre\n",
    "df.drop(['Primary Genre','ID', 'URL'], axis=1, inplace=True)"
   ]
  },
  {
   "cell_type": "code",
   "execution_count": 57,
   "metadata": {},
   "outputs": [
    {
     "data": {
      "text/html": [
       "<div>\n",
       "<style scoped>\n",
       "    .dataframe tbody tr th:only-of-type {\n",
       "        vertical-align: middle;\n",
       "    }\n",
       "\n",
       "    .dataframe tbody tr th {\n",
       "        vertical-align: top;\n",
       "    }\n",
       "\n",
       "    .dataframe thead th {\n",
       "        text-align: right;\n",
       "    }\n",
       "</style>\n",
       "<table border=\"1\" class=\"dataframe\">\n",
       "  <thead>\n",
       "    <tr style=\"text-align: right;\">\n",
       "      <th></th>\n",
       "      <th>Name</th>\n",
       "      <th>Subtitle</th>\n",
       "      <th>Icon URL</th>\n",
       "      <th>User Rating Count</th>\n",
       "      <th>Price</th>\n",
       "      <th>In-app Purchases</th>\n",
       "      <th>Description</th>\n",
       "      <th>Developer</th>\n",
       "      <th>Age Rating</th>\n",
       "      <th>Languages</th>\n",
       "      <th>Size</th>\n",
       "      <th>Genres</th>\n",
       "      <th>Original Release Date</th>\n",
       "      <th>Current Version Release Date</th>\n",
       "      <th>Average User Rating</th>\n",
       "      <th>Reviews</th>\n",
       "    </tr>\n",
       "  </thead>\n",
       "  <tbody>\n",
       "    <tr>\n",
       "      <th>4427</th>\n",
       "      <td>Jump Numbers</td>\n",
       "      <td>Use math to save the Snortles!</td>\n",
       "      <td>icons/4427.png</td>\n",
       "      <td>204</td>\n",
       "      <td>2.99</td>\n",
       "      <td>NaN</td>\n",
       "      <td>\"Kids are so excited about saving the Snortles...</td>\n",
       "      <td>Artgig Studio</td>\n",
       "      <td>4+</td>\n",
       "      <td>EN</td>\n",
       "      <td>197940224</td>\n",
       "      <td>Education, Strategy, Games</td>\n",
       "      <td>2016-02-24</td>\n",
       "      <td>2018-01-08</td>\n",
       "      <td>4.5</td>\n",
       "      <td>0.674490</td>\n",
       "    </tr>\n",
       "    <tr>\n",
       "      <th>3621</th>\n",
       "      <td>For Freedom</td>\n",
       "      <td>NaN</td>\n",
       "      <td>icons/3621.png</td>\n",
       "      <td>25</td>\n",
       "      <td>0.00</td>\n",
       "      <td>0.99, 0.99, 9.99, 9.99, 4.99, 21.99, 19.99, 4....</td>\n",
       "      <td>For Freedom, a 2016 fantasy-themed strategy wa...</td>\n",
       "      <td>Dragonest</td>\n",
       "      <td>9+</td>\n",
       "      <td>EN, DE, JA, KO, PL, ZH, ES, ZH</td>\n",
       "      <td>139696128</td>\n",
       "      <td>Games, Role Playing, Strategy</td>\n",
       "      <td>2017-01-06</td>\n",
       "      <td>2017-04-27</td>\n",
       "      <td>2.0</td>\n",
       "      <td>0.239856</td>\n",
       "    </tr>\n",
       "    <tr>\n",
       "      <th>378</th>\n",
       "      <td>Command &amp; Colours: The Great War</td>\n",
       "      <td>NaN</td>\n",
       "      <td>icons/378.png</td>\n",
       "      <td>15</td>\n",
       "      <td>9.99</td>\n",
       "      <td>NaN</td>\n",
       "      <td>HexWar Games has partnered with Plastic Soldie...</td>\n",
       "      <td>HexWar Games Ltd</td>\n",
       "      <td>12+</td>\n",
       "      <td>EN</td>\n",
       "      <td>190210048</td>\n",
       "      <td>Games, Entertainment, Strategy, Board</td>\n",
       "      <td>2017-03-23</td>\n",
       "      <td>2017-08-24</td>\n",
       "      <td>3.0</td>\n",
       "      <td>0.553092</td>\n",
       "    </tr>\n",
       "    <tr>\n",
       "      <th>4696</th>\n",
       "      <td>Checkers \\u2023</td>\n",
       "      <td>The best Checkers around!</td>\n",
       "      <td>icons/4696.png</td>\n",
       "      <td>1542</td>\n",
       "      <td>0.00</td>\n",
       "      <td>6.99</td>\n",
       "      <td>Hands down the best Checkers for iOS!\\n\\nTired...</td>\n",
       "      <td>Banana &amp; Co.</td>\n",
       "      <td>4+</td>\n",
       "      <td>EN</td>\n",
       "      <td>53391360</td>\n",
       "      <td>Games, Strategy, Board</td>\n",
       "      <td>2016-02-08</td>\n",
       "      <td>2017-10-24</td>\n",
       "      <td>4.5</td>\n",
       "      <td>0.424040</td>\n",
       "    </tr>\n",
       "    <tr>\n",
       "      <th>4202</th>\n",
       "      <td>Just Solitaire: La Belle Lucie</td>\n",
       "      <td>NaN</td>\n",
       "      <td>icons/4202.png</td>\n",
       "      <td>84</td>\n",
       "      <td>0.00</td>\n",
       "      <td>NaN</td>\n",
       "      <td>\"Challenging enough to get you hooked and winn...</td>\n",
       "      <td>CleverMedia, Inc.</td>\n",
       "      <td>4+</td>\n",
       "      <td>EN</td>\n",
       "      <td>29378560</td>\n",
       "      <td>Games, Card, Entertainment, Strategy</td>\n",
       "      <td>2014-08-05</td>\n",
       "      <td>2017-11-20</td>\n",
       "      <td>4.5</td>\n",
       "      <td>0.596030</td>\n",
       "    </tr>\n",
       "    <tr>\n",
       "      <th>...</th>\n",
       "      <td>...</td>\n",
       "      <td>...</td>\n",
       "      <td>...</td>\n",
       "      <td>...</td>\n",
       "      <td>...</td>\n",
       "      <td>...</td>\n",
       "      <td>...</td>\n",
       "      <td>...</td>\n",
       "      <td>...</td>\n",
       "      <td>...</td>\n",
       "      <td>...</td>\n",
       "      <td>...</td>\n",
       "      <td>...</td>\n",
       "      <td>...</td>\n",
       "      <td>...</td>\n",
       "      <td>...</td>\n",
       "    </tr>\n",
       "    <tr>\n",
       "      <th>3068</th>\n",
       "      <td>Alien Dog Evolution - Wild Stray Mutant Simulator</td>\n",
       "      <td>NaN</td>\n",
       "      <td>icons/3068.png</td>\n",
       "      <td>1633</td>\n",
       "      <td>0.00</td>\n",
       "      <td>1.99, 1.99, 4.99, 5.99, 0.99, 9.99, 19.99, 1.9...</td>\n",
       "      <td>\"\\u2022\\u2022\\u2022\\u2022\\u2022\\u2022\\u2022\\u2...</td>\n",
       "      <td>HU YANRUI</td>\n",
       "      <td>9+</td>\n",
       "      <td>AR, CA, CS, DA, NL, EN, FI, FR, DE, EL, HE, HU...</td>\n",
       "      <td>75151360</td>\n",
       "      <td>Games, Family, Entertainment, Strategy</td>\n",
       "      <td>2016-03-16</td>\n",
       "      <td>2017-08-14</td>\n",
       "      <td>5.0</td>\n",
       "      <td>0.642520</td>\n",
       "    </tr>\n",
       "    <tr>\n",
       "      <th>2050</th>\n",
       "      <td>\"Eric's Spider Solitaire Lite\"</td>\n",
       "      <td>Challenging and fun!</td>\n",
       "      <td>icons/2050.png</td>\n",
       "      <td>6147</td>\n",
       "      <td>0.00</td>\n",
       "      <td>NaN</td>\n",
       "      <td>Eric\\'s Spider Solitaire Lite includes four Sp...</td>\n",
       "      <td>Eric Snider</td>\n",
       "      <td>4+</td>\n",
       "      <td>EN</td>\n",
       "      <td>54165504</td>\n",
       "      <td>Games, Entertainment, Card, Strategy</td>\n",
       "      <td>2010-05-31</td>\n",
       "      <td>2017-09-16</td>\n",
       "      <td>2.5</td>\n",
       "      <td>0.478583</td>\n",
       "    </tr>\n",
       "    <tr>\n",
       "      <th>2122</th>\n",
       "      <td>Catchup - Abstract Strategy</td>\n",
       "      <td>NaN</td>\n",
       "      <td>icons/2122.png</td>\n",
       "      <td>43</td>\n",
       "      <td>2.99</td>\n",
       "      <td>NaN</td>\n",
       "      <td>Catchup is a simple game of surprising turnaro...</td>\n",
       "      <td>Martin Grider</td>\n",
       "      <td>4+</td>\n",
       "      <td>NL, EN, FR, DE, RU, ZH, ES, ZH</td>\n",
       "      <td>5702656</td>\n",
       "      <td>Games, Strategy, Board</td>\n",
       "      <td>2014-08-07</td>\n",
       "      <td>2018-03-07</td>\n",
       "      <td>5.0</td>\n",
       "      <td>0.791260</td>\n",
       "    </tr>\n",
       "    <tr>\n",
       "      <th>2421</th>\n",
       "      <td>Super Gem Quest 2 Blast Mania</td>\n",
       "      <td>Jewel match 3 puzzle game.</td>\n",
       "      <td>icons/2421.png</td>\n",
       "      <td>379</td>\n",
       "      <td>0.00</td>\n",
       "      <td>5.99, 3.99, 0.99, 1.99, 17.99, 9.99, 7.99, 1.9...</td>\n",
       "      <td>Classic Jewels Quest (Jewel Quest) game return...</td>\n",
       "      <td>Miik Limited</td>\n",
       "      <td>4+</td>\n",
       "      <td>EN</td>\n",
       "      <td>86076416</td>\n",
       "      <td>Games, Strategy, Entertainment, Puzzle</td>\n",
       "      <td>2015-03-21</td>\n",
       "      <td>2018-03-29</td>\n",
       "      <td>5.0</td>\n",
       "      <td>0.802030</td>\n",
       "    </tr>\n",
       "    <tr>\n",
       "      <th>1614</th>\n",
       "      <td>Soccer Clicker</td>\n",
       "      <td>NaN</td>\n",
       "      <td>icons/1614.png</td>\n",
       "      <td>2632</td>\n",
       "      <td>0.00</td>\n",
       "      <td>1.99, 4.99, 19.99, 49.99, 99.99</td>\n",
       "      <td>Tap your way to glory! Collect cash, recruit p...</td>\n",
       "      <td>Naquatic</td>\n",
       "      <td>4+</td>\n",
       "      <td>EN</td>\n",
       "      <td>184579072</td>\n",
       "      <td>Games, Entertainment, Strategy, Sports</td>\n",
       "      <td>2016-04-06</td>\n",
       "      <td>2016-06-05</td>\n",
       "      <td>4.5</td>\n",
       "      <td>0.721870</td>\n",
       "    </tr>\n",
       "  </tbody>\n",
       "</table>\n",
       "<p>2200 rows × 16 columns</p>\n",
       "</div>"
      ],
      "text/plain": [
       "                                                   Name   \n",
       "4427                                       Jump Numbers  \\\n",
       "3621                                        For Freedom   \n",
       "378                    Command & Colours: The Great War   \n",
       "4696                                    Checkers \\u2023   \n",
       "4202                     Just Solitaire: La Belle Lucie   \n",
       "...                                                 ...   \n",
       "3068  Alien Dog Evolution - Wild Stray Mutant Simulator   \n",
       "2050                     \"Eric's Spider Solitaire Lite\"   \n",
       "2122                        Catchup - Abstract Strategy   \n",
       "2421                      Super Gem Quest 2 Blast Mania   \n",
       "1614                                     Soccer Clicker   \n",
       "\n",
       "                            Subtitle        Icon URL  User Rating Count   \n",
       "4427  Use math to save the Snortles!  icons/4427.png                204  \\\n",
       "3621                             NaN  icons/3621.png                 25   \n",
       "378                              NaN   icons/378.png                 15   \n",
       "4696       The best Checkers around!  icons/4696.png               1542   \n",
       "4202                             NaN  icons/4202.png                 84   \n",
       "...                              ...             ...                ...   \n",
       "3068                             NaN  icons/3068.png               1633   \n",
       "2050            Challenging and fun!  icons/2050.png               6147   \n",
       "2122                             NaN  icons/2122.png                 43   \n",
       "2421      Jewel match 3 puzzle game.  icons/2421.png                379   \n",
       "1614                             NaN  icons/1614.png               2632   \n",
       "\n",
       "      Price                                   In-app Purchases   \n",
       "4427   2.99                                                NaN  \\\n",
       "3621   0.00  0.99, 0.99, 9.99, 9.99, 4.99, 21.99, 19.99, 4....   \n",
       "378    9.99                                                NaN   \n",
       "4696   0.00                                               6.99   \n",
       "4202   0.00                                                NaN   \n",
       "...     ...                                                ...   \n",
       "3068   0.00  1.99, 1.99, 4.99, 5.99, 0.99, 9.99, 19.99, 1.9...   \n",
       "2050   0.00                                                NaN   \n",
       "2122   2.99                                                NaN   \n",
       "2421   0.00  5.99, 3.99, 0.99, 1.99, 17.99, 9.99, 7.99, 1.9...   \n",
       "1614   0.00                    1.99, 4.99, 19.99, 49.99, 99.99   \n",
       "\n",
       "                                            Description          Developer   \n",
       "4427  \"Kids are so excited about saving the Snortles...      Artgig Studio  \\\n",
       "3621  For Freedom, a 2016 fantasy-themed strategy wa...          Dragonest   \n",
       "378   HexWar Games has partnered with Plastic Soldie...   HexWar Games Ltd   \n",
       "4696  Hands down the best Checkers for iOS!\\n\\nTired...       Banana & Co.   \n",
       "4202  \"Challenging enough to get you hooked and winn...  CleverMedia, Inc.   \n",
       "...                                                 ...                ...   \n",
       "3068  \"\\u2022\\u2022\\u2022\\u2022\\u2022\\u2022\\u2022\\u2...          HU YANRUI   \n",
       "2050  Eric\\'s Spider Solitaire Lite includes four Sp...        Eric Snider   \n",
       "2122  Catchup is a simple game of surprising turnaro...      Martin Grider   \n",
       "2421  Classic Jewels Quest (Jewel Quest) game return...       Miik Limited   \n",
       "1614  Tap your way to glory! Collect cash, recruit p...           Naquatic   \n",
       "\n",
       "     Age Rating                                          Languages       Size   \n",
       "4427         4+                                                 EN  197940224  \\\n",
       "3621         9+                     EN, DE, JA, KO, PL, ZH, ES, ZH  139696128   \n",
       "378         12+                                                 EN  190210048   \n",
       "4696         4+                                                 EN   53391360   \n",
       "4202         4+                                                 EN   29378560   \n",
       "...         ...                                                ...        ...   \n",
       "3068         9+  AR, CA, CS, DA, NL, EN, FI, FR, DE, EL, HE, HU...   75151360   \n",
       "2050         4+                                                 EN   54165504   \n",
       "2122         4+                     NL, EN, FR, DE, RU, ZH, ES, ZH    5702656   \n",
       "2421         4+                                                 EN   86076416   \n",
       "1614         4+                                                 EN  184579072   \n",
       "\n",
       "                                      Genres Original Release Date   \n",
       "4427              Education, Strategy, Games            2016-02-24  \\\n",
       "3621           Games, Role Playing, Strategy            2017-01-06   \n",
       "378    Games, Entertainment, Strategy, Board            2017-03-23   \n",
       "4696                  Games, Strategy, Board            2016-02-08   \n",
       "4202    Games, Card, Entertainment, Strategy            2014-08-05   \n",
       "...                                      ...                   ...   \n",
       "3068  Games, Family, Entertainment, Strategy            2016-03-16   \n",
       "2050    Games, Entertainment, Card, Strategy            2010-05-31   \n",
       "2122                  Games, Strategy, Board            2014-08-07   \n",
       "2421  Games, Strategy, Entertainment, Puzzle            2015-03-21   \n",
       "1614  Games, Entertainment, Strategy, Sports            2016-04-06   \n",
       "\n",
       "     Current Version Release Date  Average User Rating   Reviews  \n",
       "4427                   2018-01-08                  4.5  0.674490  \n",
       "3621                   2017-04-27                  2.0  0.239856  \n",
       "378                    2017-08-24                  3.0  0.553092  \n",
       "4696                   2017-10-24                  4.5  0.424040  \n",
       "4202                   2017-11-20                  4.5  0.596030  \n",
       "...                           ...                  ...       ...  \n",
       "3068                   2017-08-14                  5.0  0.642520  \n",
       "2050                   2017-09-16                  2.5  0.478583  \n",
       "2122                   2018-03-07                  5.0  0.791260  \n",
       "2421                   2018-03-29                  5.0  0.802030  \n",
       "1614                   2016-06-05                  4.5  0.721870  \n",
       "\n",
       "[2200 rows x 16 columns]"
      ]
     },
     "execution_count": 57,
     "metadata": {},
     "output_type": "execute_result"
    }
   ],
   "source": [
    "df"
   ]
  },
  {
   "cell_type": "markdown",
   "metadata": {
    "collapsed": false
   },
   "source": [
    "## Dates preprocessing"
   ]
  },
  {
   "cell_type": "code",
   "execution_count": 53,
   "metadata": {
    "ExecuteTime": {
     "end_time": "2023-04-14T10:36:05.737187Z",
     "start_time": "2023-04-14T10:36:05.699973Z"
    },
    "collapsed": false
   },
   "outputs": [
    {
     "data": {
      "text/html": [
       "<div>\n",
       "<style scoped>\n",
       "    .dataframe tbody tr th:only-of-type {\n",
       "        vertical-align: middle;\n",
       "    }\n",
       "\n",
       "    .dataframe tbody tr th {\n",
       "        vertical-align: top;\n",
       "    }\n",
       "\n",
       "    .dataframe thead th {\n",
       "        text-align: right;\n",
       "    }\n",
       "</style>\n",
       "<table border=\"1\" class=\"dataframe\">\n",
       "  <thead>\n",
       "    <tr style=\"text-align: right;\">\n",
       "      <th></th>\n",
       "      <th>Original Release Date</th>\n",
       "      <th>Current Version Release Date</th>\n",
       "    </tr>\n",
       "  </thead>\n",
       "  <tbody>\n",
       "    <tr>\n",
       "      <th>4427</th>\n",
       "      <td>736018</td>\n",
       "      <td>736702</td>\n",
       "    </tr>\n",
       "    <tr>\n",
       "      <th>3621</th>\n",
       "      <td>736335</td>\n",
       "      <td>736446</td>\n",
       "    </tr>\n",
       "    <tr>\n",
       "      <th>378</th>\n",
       "      <td>736411</td>\n",
       "      <td>736565</td>\n",
       "    </tr>\n",
       "    <tr>\n",
       "      <th>4696</th>\n",
       "      <td>736002</td>\n",
       "      <td>736626</td>\n",
       "    </tr>\n",
       "    <tr>\n",
       "      <th>4202</th>\n",
       "      <td>735450</td>\n",
       "      <td>736653</td>\n",
       "    </tr>\n",
       "  </tbody>\n",
       "</table>\n",
       "</div>"
      ],
      "text/plain": [
       "      Original Release Date  Current Version Release Date\n",
       "4427                 736018                        736702\n",
       "3621                 736335                        736446\n",
       "378                  736411                        736565\n",
       "4696                 736002                        736626\n",
       "4202                 735450                        736653"
      ]
     },
     "execution_count": 53,
     "metadata": {},
     "output_type": "execute_result"
    }
   ],
   "source": [
    "# Convert the datetime to ordinal\n",
    "\n",
    "df['Original Release Date'] = df['Original Release Date'].apply(lambda x: x.toordinal())\n",
    "df['Current Version Release Date'] = df['Current Version Release Date'].apply(lambda x: x.toordinal())\n",
    "df[['Original Release Date', 'Current Version Release Date']].head()"
   ]
  },
  {
   "cell_type": "code",
   "execution_count": 54,
   "metadata": {},
   "outputs": [
    {
     "data": {
      "text/html": [
       "<div>\n",
       "<style scoped>\n",
       "    .dataframe tbody tr th:only-of-type {\n",
       "        vertical-align: middle;\n",
       "    }\n",
       "\n",
       "    .dataframe tbody tr th {\n",
       "        vertical-align: top;\n",
       "    }\n",
       "\n",
       "    .dataframe thead th {\n",
       "        text-align: right;\n",
       "    }\n",
       "</style>\n",
       "<table border=\"1\" class=\"dataframe\">\n",
       "  <thead>\n",
       "    <tr style=\"text-align: right;\">\n",
       "      <th></th>\n",
       "      <th>game_age</th>\n",
       "      <th>last_update</th>\n",
       "    </tr>\n",
       "  </thead>\n",
       "  <tbody>\n",
       "    <tr>\n",
       "      <th>4427</th>\n",
       "      <td>684</td>\n",
       "      <td>1928</td>\n",
       "    </tr>\n",
       "    <tr>\n",
       "      <th>3621</th>\n",
       "      <td>111</td>\n",
       "      <td>2184</td>\n",
       "    </tr>\n",
       "    <tr>\n",
       "      <th>378</th>\n",
       "      <td>154</td>\n",
       "      <td>2065</td>\n",
       "    </tr>\n",
       "    <tr>\n",
       "      <th>4696</th>\n",
       "      <td>624</td>\n",
       "      <td>2004</td>\n",
       "    </tr>\n",
       "    <tr>\n",
       "      <th>4202</th>\n",
       "      <td>1203</td>\n",
       "      <td>1977</td>\n",
       "    </tr>\n",
       "  </tbody>\n",
       "</table>\n",
       "</div>"
      ],
      "text/plain": [
       "      game_age  last_update\n",
       "4427       684         1928\n",
       "3621       111         2184\n",
       "378        154         2065\n",
       "4696       624         2004\n",
       "4202      1203         1977"
      ]
     },
     "execution_count": 54,
     "metadata": {},
     "output_type": "execute_result"
    }
   ],
   "source": [
    "# Create a new column with the age of the game\n",
    "df['game_age'] = df['Current Version Release Date'] - df['Original Release Date']\n",
    "\n",
    "# Create a new column with the time since the last update\n",
    "df['last_update'] = datetime.now().toordinal() - df['Current Version Release Date'] \n",
    "\n",
    "df[['game_age', 'last_update']].head()"
   ]
  },
  {
   "cell_type": "markdown",
   "metadata": {
    "collapsed": false
   },
   "source": [
    "## Data Exploration"
   ]
  },
  {
   "attachments": {},
   "cell_type": "markdown",
   "metadata": {},
   "source": [
    "### General information"
   ]
  },
  {
   "cell_type": "code",
   "execution_count": 24,
   "metadata": {
    "ExecuteTime": {
     "end_time": "2023-04-13T16:07:00.183708Z",
     "start_time": "2023-04-13T16:07:00.127616Z"
    },
    "collapsed": false
   },
   "outputs": [
    {
     "data": {
      "text/html": [
       "<div>\n",
       "<style scoped>\n",
       "    .dataframe tbody tr th:only-of-type {\n",
       "        vertical-align: middle;\n",
       "    }\n",
       "\n",
       "    .dataframe tbody tr th {\n",
       "        vertical-align: top;\n",
       "    }\n",
       "\n",
       "    .dataframe thead th {\n",
       "        text-align: right;\n",
       "    }\n",
       "</style>\n",
       "<table border=\"1\" class=\"dataframe\">\n",
       "  <thead>\n",
       "    <tr style=\"text-align: right;\">\n",
       "      <th></th>\n",
       "      <th>URL</th>\n",
       "      <th>ID</th>\n",
       "      <th>Name</th>\n",
       "      <th>Subtitle</th>\n",
       "      <th>Icon URL</th>\n",
       "      <th>User Rating Count</th>\n",
       "      <th>Price</th>\n",
       "      <th>In-app Purchases</th>\n",
       "      <th>Description</th>\n",
       "      <th>Developer</th>\n",
       "      <th>...</th>\n",
       "      <th>Languages</th>\n",
       "      <th>Size</th>\n",
       "      <th>Primary Genre</th>\n",
       "      <th>Genres</th>\n",
       "      <th>Original Release Date</th>\n",
       "      <th>Current Version Release Date</th>\n",
       "      <th>Average User Rating</th>\n",
       "      <th>game_age</th>\n",
       "      <th>last_update</th>\n",
       "      <th>Reviews</th>\n",
       "    </tr>\n",
       "  </thead>\n",
       "  <tbody>\n",
       "    <tr>\n",
       "      <th>0</th>\n",
       "      <td>https://apps.apple.com/us/app/digfender/id9572...</td>\n",
       "      <td>957253933</td>\n",
       "      <td>Digfender</td>\n",
       "      <td>NaN</td>\n",
       "      <td>https://is2-ssl.mzstatic.com/image/thumb/Purpl...</td>\n",
       "      <td>348</td>\n",
       "      <td>0.0</td>\n",
       "      <td>3.99, 1.99, 3.99, 7.99, 4.99, 1.99, 9.99, 5.99...</td>\n",
       "      <td>\"Digfender is easily one of the best tower def...</td>\n",
       "      <td>Mugshot Games Pty Ltd</td>\n",
       "      <td>...</td>\n",
       "      <td>[EN]</td>\n",
       "      <td>479550464</td>\n",
       "      <td>Games</td>\n",
       "      <td>[Games, Strategy, Puzzle]</td>\n",
       "      <td>735920</td>\n",
       "      <td>736359</td>\n",
       "      <td>5.0</td>\n",
       "      <td>439</td>\n",
       "      <td>2271</td>\n",
       "      <td>0.781220</td>\n",
       "    </tr>\n",
       "    <tr>\n",
       "      <th>1</th>\n",
       "      <td>https://apps.apple.com/us/app/towermadness-zer...</td>\n",
       "      <td>335249553</td>\n",
       "      <td>TowerMadness Zero</td>\n",
       "      <td>Classic Defense Strategy</td>\n",
       "      <td>https://is5-ssl.mzstatic.com/image/thumb/Purpl...</td>\n",
       "      <td>95466</td>\n",
       "      <td>0.0</td>\n",
       "      <td>1.99, 1.99, 1.99, 2.99, 1.99, 1.99, 1.99, 1.99...</td>\n",
       "      <td>\"Addictive, time-sucking fun. There are plenty...</td>\n",
       "      <td>Limbic Software</td>\n",
       "      <td>...</td>\n",
       "      <td>[EN, DE]</td>\n",
       "      <td>58547200</td>\n",
       "      <td>Games</td>\n",
       "      <td>[Games, Puzzle, Strategy]</td>\n",
       "      <td>733705</td>\n",
       "      <td>736758</td>\n",
       "      <td>4.0</td>\n",
       "      <td>3053</td>\n",
       "      <td>1872</td>\n",
       "      <td>0.633882</td>\n",
       "    </tr>\n",
       "    <tr>\n",
       "      <th>4</th>\n",
       "      <td>https://apps.apple.com/us/app/neo-scavenger/id...</td>\n",
       "      <td>1132258364</td>\n",
       "      <td>NEO Scavenger</td>\n",
       "      <td>Post-apocalyptic survival RPG</td>\n",
       "      <td>https://is3-ssl.mzstatic.com/image/thumb/Purpl...</td>\n",
       "      <td>147</td>\n",
       "      <td>0.0</td>\n",
       "      <td>9.99</td>\n",
       "      <td>Play the acclaimed PC survival RPG on your tab...</td>\n",
       "      <td>Blue Bottle Games, LLC</td>\n",
       "      <td>...</td>\n",
       "      <td>[EN]</td>\n",
       "      <td>117317632</td>\n",
       "      <td>Games</td>\n",
       "      <td>[Games, Entertainment, Role Playing, Strategy]</td>\n",
       "      <td>736536</td>\n",
       "      <td>736661</td>\n",
       "      <td>4.0</td>\n",
       "      <td>125</td>\n",
       "      <td>1969</td>\n",
       "      <td>0.427540</td>\n",
       "    </tr>\n",
       "    <tr>\n",
       "      <th>6</th>\n",
       "      <td>https://apps.apple.com/us/app/city-island-buil...</td>\n",
       "      <td>684194665</td>\n",
       "      <td>City Island - Building Tycoon - Citybuilding Sim</td>\n",
       "      <td>NaN</td>\n",
       "      <td>https://is4-ssl.mzstatic.com/image/thumb/Purpl...</td>\n",
       "      <td>1579</td>\n",
       "      <td>0.0</td>\n",
       "      <td>2.99, 2.99, 1.99, 2.99, 7.99, 2.99, 7.99, 2.99...</td>\n",
       "      <td>If you liked the early Sim City games, you wil...</td>\n",
       "      <td>Sparkling Society</td>\n",
       "      <td>...</td>\n",
       "      <td>[AR, DA, NL, EN, FR, DE, ID, IT, JA, KO, MS, N...</td>\n",
       "      <td>86935552</td>\n",
       "      <td>Games</td>\n",
       "      <td>[Games, Simulation, Entertainment, Strategy]</td>\n",
       "      <td>735129</td>\n",
       "      <td>736298</td>\n",
       "      <td>4.5</td>\n",
       "      <td>1169</td>\n",
       "      <td>2332</td>\n",
       "      <td>0.649970</td>\n",
       "    </tr>\n",
       "    <tr>\n",
       "      <th>8</th>\n",
       "      <td>https://apps.apple.com/us/app/underworld-empir...</td>\n",
       "      <td>555150599</td>\n",
       "      <td>Underworld Empire</td>\n",
       "      <td>The BEST crime syndicate game</td>\n",
       "      <td>https://is2-ssl.mzstatic.com/image/thumb/Purpl...</td>\n",
       "      <td>21896</td>\n",
       "      <td>0.0</td>\n",
       "      <td>19.99, 4.99, 9.99, 99.99, 49.99, 4.99</td>\n",
       "      <td>-==THE BEST ONLINE CRIME SYNDICATE GAME!==-\\n-...</td>\n",
       "      <td>Gaea Mobile Ltd</td>\n",
       "      <td>...</td>\n",
       "      <td>[EN, FR, DE, IT, JA, KO, PT, RU, ZH, ES, ZH, TR]</td>\n",
       "      <td>105290752</td>\n",
       "      <td>Games</td>\n",
       "      <td>[Games, Strategy, Entertainment, Role Playing]</td>\n",
       "      <td>734882</td>\n",
       "      <td>737269</td>\n",
       "      <td>4.5</td>\n",
       "      <td>2387</td>\n",
       "      <td>1361</td>\n",
       "      <td>0.367427</td>\n",
       "    </tr>\n",
       "  </tbody>\n",
       "</table>\n",
       "<p>5 rows × 21 columns</p>\n",
       "</div>"
      ],
      "text/plain": [
       "                                                 URL          ID   \n",
       "0  https://apps.apple.com/us/app/digfender/id9572...   957253933  \\\n",
       "1  https://apps.apple.com/us/app/towermadness-zer...   335249553   \n",
       "4  https://apps.apple.com/us/app/neo-scavenger/id...  1132258364   \n",
       "6  https://apps.apple.com/us/app/city-island-buil...   684194665   \n",
       "8  https://apps.apple.com/us/app/underworld-empir...   555150599   \n",
       "\n",
       "                                               Name   \n",
       "0                                         Digfender  \\\n",
       "1                                 TowerMadness Zero   \n",
       "4                                     NEO Scavenger   \n",
       "6  City Island - Building Tycoon - Citybuilding Sim   \n",
       "8                                 Underworld Empire   \n",
       "\n",
       "                        Subtitle   \n",
       "0                            NaN  \\\n",
       "1       Classic Defense Strategy   \n",
       "4  Post-apocalyptic survival RPG   \n",
       "6                            NaN   \n",
       "8  The BEST crime syndicate game   \n",
       "\n",
       "                                            Icon URL  User Rating Count   \n",
       "0  https://is2-ssl.mzstatic.com/image/thumb/Purpl...                348  \\\n",
       "1  https://is5-ssl.mzstatic.com/image/thumb/Purpl...              95466   \n",
       "4  https://is3-ssl.mzstatic.com/image/thumb/Purpl...                147   \n",
       "6  https://is4-ssl.mzstatic.com/image/thumb/Purpl...               1579   \n",
       "8  https://is2-ssl.mzstatic.com/image/thumb/Purpl...              21896   \n",
       "\n",
       "   Price                                   In-app Purchases   \n",
       "0    0.0  3.99, 1.99, 3.99, 7.99, 4.99, 1.99, 9.99, 5.99...  \\\n",
       "1    0.0  1.99, 1.99, 1.99, 2.99, 1.99, 1.99, 1.99, 1.99...   \n",
       "4    0.0                                               9.99   \n",
       "6    0.0  2.99, 2.99, 1.99, 2.99, 7.99, 2.99, 7.99, 2.99...   \n",
       "8    0.0              19.99, 4.99, 9.99, 99.99, 49.99, 4.99   \n",
       "\n",
       "                                         Description               Developer   \n",
       "0  \"Digfender is easily one of the best tower def...   Mugshot Games Pty Ltd  \\\n",
       "1  \"Addictive, time-sucking fun. There are plenty...         Limbic Software   \n",
       "4  Play the acclaimed PC survival RPG on your tab...  Blue Bottle Games, LLC   \n",
       "6  If you liked the early Sim City games, you wil...       Sparkling Society   \n",
       "8  -==THE BEST ONLINE CRIME SYNDICATE GAME!==-\\n-...         Gaea Mobile Ltd   \n",
       "\n",
       "   ...                                          Languages       Size   \n",
       "0  ...                                               [EN]  479550464  \\\n",
       "1  ...                                           [EN, DE]   58547200   \n",
       "4  ...                                               [EN]  117317632   \n",
       "6  ...  [AR, DA, NL, EN, FR, DE, ID, IT, JA, KO, MS, N...   86935552   \n",
       "8  ...   [EN, FR, DE, IT, JA, KO, PT, RU, ZH, ES, ZH, TR]  105290752   \n",
       "\n",
       "   Primary Genre                                          Genres   \n",
       "0          Games                       [Games, Strategy, Puzzle]  \\\n",
       "1          Games                       [Games, Puzzle, Strategy]   \n",
       "4          Games  [Games, Entertainment, Role Playing, Strategy]   \n",
       "6          Games    [Games, Simulation, Entertainment, Strategy]   \n",
       "8          Games  [Games, Strategy, Entertainment, Role Playing]   \n",
       "\n",
       "  Original Release Date  Current Version Release Date  Average User Rating   \n",
       "0                735920                        736359                  5.0  \\\n",
       "1                733705                        736758                  4.0   \n",
       "4                736536                        736661                  4.0   \n",
       "6                735129                        736298                  4.5   \n",
       "8                734882                        737269                  4.5   \n",
       "\n",
       "   game_age  last_update   Reviews  \n",
       "0       439         2271  0.781220  \n",
       "1      3053         1872  0.633882  \n",
       "4       125         1969  0.427540  \n",
       "6      1169         2332  0.649970  \n",
       "8      2387         1361  0.367427  \n",
       "\n",
       "[5 rows x 21 columns]"
      ]
     },
     "execution_count": 24,
     "metadata": {},
     "output_type": "execute_result"
    }
   ],
   "source": [
    "df.head()"
   ]
  },
  {
   "cell_type": "code",
   "execution_count": 25,
   "metadata": {
    "ExecuteTime": {
     "end_time": "2023-04-13T14:33:05.138536Z",
     "start_time": "2023-04-13T14:33:05.138536Z"
    },
    "collapsed": false
   },
   "outputs": [
    {
     "name": "stdout",
     "output_type": "stream",
     "text": [
      "<class 'pandas.core.frame.DataFrame'>\n",
      "Index: 2195 entries, 0 to 4168\n",
      "Data columns (total 21 columns):\n",
      " #   Column                        Non-Null Count  Dtype  \n",
      "---  ------                        --------------  -----  \n",
      " 0   URL                           2195 non-null   object \n",
      " 1   ID                            2195 non-null   int64  \n",
      " 2   Name                          2195 non-null   object \n",
      " 3   Subtitle                      834 non-null    object \n",
      " 4   Icon URL                      2195 non-null   object \n",
      " 5   User Rating Count             2195 non-null   int64  \n",
      " 6   Price                         2195 non-null   float64\n",
      " 7   In-app Purchases              1437 non-null   object \n",
      " 8   Description                   2195 non-null   object \n",
      " 9   Developer                     2195 non-null   object \n",
      " 10  Age Rating                    2195 non-null   object \n",
      " 11  Languages                     2195 non-null   object \n",
      " 12  Size                          2195 non-null   int64  \n",
      " 13  Primary Genre                 2195 non-null   object \n",
      " 14  Genres                        2195 non-null   object \n",
      " 15  Original Release Date         2195 non-null   int64  \n",
      " 16  Current Version Release Date  2195 non-null   int64  \n",
      " 17  Average User Rating           2195 non-null   float64\n",
      " 18  game_age                      2195 non-null   int64  \n",
      " 19  last_update                   2195 non-null   int64  \n",
      " 20  Reviews                       2195 non-null   float64\n",
      "dtypes: float64(3), int64(7), object(11)\n",
      "memory usage: 377.3+ KB\n"
     ]
    }
   ],
   "source": [
    "df.info()"
   ]
  },
  {
   "cell_type": "code",
   "execution_count": 60,
   "metadata": {
    "ExecuteTime": {
     "end_time": "2023-04-13T14:33:07.893814Z",
     "start_time": "2023-04-13T14:33:07.893814Z"
    },
    "collapsed": false
   },
   "outputs": [
    {
     "data": {
      "text/plain": [
       "Name                               0\n",
       "Subtitle                        1357\n",
       "Icon URL                           0\n",
       "User Rating Count                  0\n",
       "Price                              0\n",
       "In-app Purchases                 787\n",
       "Description                        0\n",
       "Developer                          0\n",
       "Age Rating                         0\n",
       "Languages                          1\n",
       "Size                               0\n",
       "Genres                             0\n",
       "Original Release Date              0\n",
       "Current Version Release Date       0\n",
       "Average User Rating                0\n",
       "Reviews                            0\n",
       "game_age                           0\n",
       "last_update                        0\n",
       "dtype: int64"
      ]
     },
     "execution_count": 60,
     "metadata": {},
     "output_type": "execute_result"
    }
   ],
   "source": [
    "df.isnull().sum()"
   ]
  },
  {
   "attachments": {},
   "cell_type": "markdown",
   "metadata": {},
   "source": [
    "### Genres"
   ]
  },
  {
   "cell_type": "code",
   "execution_count": 62,
   "metadata": {
    "ExecuteTime": {
     "end_time": "2023-04-13T14:33:21.139604Z",
     "start_time": "2023-04-13T14:33:21.139604Z"
    },
    "collapsed": false
   },
   "outputs": [
    {
     "data": {
      "text/plain": [
       "Genres\n",
       "Games                  2200\n",
       "Strategy               2200\n",
       "Entertainment          1160\n",
       "Simulation              396\n",
       "Puzzle                  347\n",
       "Action                  298\n",
       "Board                   292\n",
       "Role Playing            256\n",
       "Card                    123\n",
       "Casual                  109\n",
       "Education               104\n",
       "Adventure                99\n",
       "Sports                   91\n",
       "Family                   88\n",
       "Trivia                   22\n",
       "Utilities                22\n",
       "Social Networking        18\n",
       "Lifestyle                13\n",
       "Reference                12\n",
       "Word                     11\n",
       "Music                    11\n",
       "Casino                   11\n",
       "Food & Drink              9\n",
       "Health & Fitness          8\n",
       "Racing                    7\n",
       "News                      6\n",
       "Productivity              6\n",
       "Books                     6\n",
       "Finance                   5\n",
       "Travel                    5\n",
       "Business                  3\n",
       "Photo & Video             2\n",
       "Gaming                    1\n",
       "Emoji & Expressions       1\n",
       "Stickers                  1\n",
       "Medical                   1\n",
       "dtype: int64"
      ]
     },
     "execution_count": 62,
     "metadata": {},
     "output_type": "execute_result"
    }
   ],
   "source": [
    "df['Genres'] = df['Genres'].astype(str)\n",
    "df['Genres'] = df['Genres'].str.strip('[]').str.replace(\"'\", \"\").str.split(\", \")\n",
    "\n",
    "genre_counts = df.explode('Genres').groupby('Genres').size().sort_values(ascending=False)\n",
    "genre_counts\n"
   ]
  },
  {
   "attachments": {},
   "cell_type": "markdown",
   "metadata": {},
   "source": [
    "### Developer"
   ]
  },
  {
   "cell_type": "code",
   "execution_count": 63,
   "metadata": {
    "ExecuteTime": {
     "end_time": "2023-04-13T14:33:43.637371Z",
     "start_time": "2023-04-13T14:33:43.637371Z"
    },
    "collapsed": false
   },
   "outputs": [
    {
     "data": {
      "text/plain": [
       "Developer\n",
       "Tapps Tecnologia da Informa\\xe7\\xe3o Ltda.    68\n",
       "HexWar Games Ltd                              21\n",
       "EASY Inc.                                     15\n",
       "Kairosoft Co.,Ltd                             14\n",
       "HeroCraft Ltd.                                13\n",
       "                                              ..\n",
       "Jacques Deul                                   1\n",
       "Gideon Greenspan                               1\n",
       "Blue Wizard Digital LP                         1\n",
       "Jiri Bukovjan                                  1\n",
       "Martin Grider                                  1\n",
       "Name: count, Length: 1376, dtype: int64"
      ]
     },
     "execution_count": 63,
     "metadata": {},
     "output_type": "execute_result"
    }
   ],
   "source": [
    "df['Developer'].value_counts()"
   ]
  },
  {
   "cell_type": "code",
   "execution_count": 64,
   "metadata": {
    "ExecuteTime": {
     "end_time": "2023-04-13T14:33:47.598084Z",
     "start_time": "2023-04-13T14:33:47.598084Z"
    },
    "collapsed": false
   },
   "outputs": [
    {
     "data": {
      "text/plain": [
       "1376"
      ]
     },
     "execution_count": 64,
     "metadata": {},
     "output_type": "execute_result"
    }
   ],
   "source": [
    "df['Developer'].unique().size"
   ]
  },
  {
   "attachments": {},
   "cell_type": "markdown",
   "metadata": {},
   "source": [
    "### Languages"
   ]
  },
  {
   "cell_type": "code",
   "execution_count": 65,
   "metadata": {
    "ExecuteTime": {
     "end_time": "2023-04-13T14:33:49.943309Z",
     "start_time": "2023-04-13T14:33:49.943309Z"
    },
    "collapsed": false
   },
   "outputs": [
    {
     "name": "stdout",
     "output_type": "stream",
     "text": [
      "Languages\n",
      "ZH    969\n",
      "DE    587\n",
      "FR    565\n",
      "ES    541\n",
      "JA    527\n",
      "RU    493\n",
      "IT    455\n",
      "PT    432\n",
      "KO    424\n",
      "TR    264\n",
      "NL    238\n",
      "PL    231\n",
      "SV    186\n",
      "TH    153\n",
      "ID    145\n",
      "DA    145\n",
      "CS    135\n",
      "FI    126\n",
      "NB    125\n",
      "VI    121\n",
      "EL    115\n",
      "AR    112\n",
      "MS     98\n",
      "HE     86\n",
      "HU     82\n",
      "RO     80\n",
      "SK     78\n",
      "CA     66\n",
      "UK     66\n",
      "dtype: int64\n"
     ]
    }
   ],
   "source": [
    "df['Languages'] = df['Languages'].astype(str)\n",
    "\n",
    "df['Languages'] = df['Languages'].str.strip('[]').str.replace(\"'\", \"\").str.split(\", \")\n",
    "\n",
    "langs_counts = df.explode('Languages').groupby('Languages').size().sort_values(ascending=False)\n",
    "print(langs_counts[1:30])"
   ]
  },
  {
   "cell_type": "code",
   "execution_count": 30,
   "metadata": {},
   "outputs": [
    {
     "data": {
      "text/plain": [
       "array([[<Axes: title={'center': 'ID'}>,\n",
       "        <Axes: title={'center': 'User Rating Count'}>,\n",
       "        <Axes: title={'center': 'Price'}>],\n",
       "       [<Axes: title={'center': 'Size'}>,\n",
       "        <Axes: title={'center': 'Original Release Date'}>,\n",
       "        <Axes: title={'center': 'Current Version Release Date'}>],\n",
       "       [<Axes: title={'center': 'Average User Rating'}>,\n",
       "        <Axes: title={'center': 'game_age'}>,\n",
       "        <Axes: title={'center': 'last_update'}>],\n",
       "       [<Axes: title={'center': 'Reviews'}>, <Axes: >, <Axes: >]],\n",
       "      dtype=object)"
      ]
     },
     "execution_count": 30,
     "metadata": {},
     "output_type": "execute_result"
    },
    {
     "data": {
      "image/png": "[encoded data removed]",
      "text/plain": [
       "<Figure size 1500x1500 with 12 Axes>"
      ]
     },
     "metadata": {},
     "output_type": "display_data"
    }
   ],
   "source": [
    "df.hist(figsize=(15, 15))"
   ]
  },
  {
   "cell_type": "markdown",
   "metadata": {
    "collapsed": false
   },
   "source": [
    "## Developer preprocessing"
   ]
  },
  {
   "cell_type": "code",
   "execution_count": 55,
   "metadata": {
    "ExecuteTime": {
     "end_time": "2023-04-14T10:35:14.110217Z",
     "start_time": "2023-04-14T10:35:13.123201Z"
    },
    "collapsed": false
   },
   "outputs": [],
   "source": [
    "# Convert to string\n",
    "df['Developer'] = df['Developer'].astype(str)\n",
    "df['Developer'] = df['Developer'].str.replace(\"'\", \"\").str.strip('[]')\n",
    "\n",
    "# Replace the developer names with less than 3 games with 'Other'\n",
    "dev_counts = df['Developer'].value_counts()\n",
    "other = dev_counts[dev_counts < 3].index\n",
    "df['Developer'] = df['Developer'].replace(other, 'Other')\n",
    "\n",
    "dev_df = df[['Developer', 'Average User Rating']].groupby('Developer').mean()\n",
    "\n",
    "# Save dev_df to be used on the test set\n",
    "dev_df.to_csv('encoders/dev_df.csv')\n",
    "\n",
    "# Replace the developer names with the average user rating from dev_df\n",
    "df['Developer'] = df['Developer'].replace(dev_df.index, dev_df['Average User Rating'])"
   ]
  },
  {
   "cell_type": "markdown",
   "metadata": {
    "collapsed": false
   },
   "source": [
    "## Genres preprocessing"
   ]
  },
  {
   "attachments": {},
   "cell_type": "markdown",
   "metadata": {},
   "source": [
    "### 1. NLP approach"
   ]
  },
  {
   "cell_type": "code",
   "execution_count": 15,
   "metadata": {
    "ExecuteTime": {
     "end_time": "2023-04-14T10:35:21.245168Z",
     "start_time": "2023-04-14T10:35:20.885068Z"
    },
    "collapsed": false
   },
   "outputs": [],
   "source": [
    "# Convert the genres column to a list of strings\n",
    "df['Genres'] = df['Genres'].astype(str)\n",
    "df['Genres'] = df['Genres'].str.strip('[]').str.replace(\"'\", \"\").str.split(\", \")\n",
    "\n",
    "# drop Games, Strategy, Entertainment from the Genres column\n",
    "df['Genres'] = df['Genres'].apply(lambda x: [genre for genre in x if genre not in ['Games', 'Strategy', 'Entertainment']])\n",
    "\n",
    "# Join the list of genres into a single string\n",
    "genres = df['Genres'].apply(lambda x: ' '.join(x))\n",
    "\n",
    "# Create a count Vectorizer and fit it to the genres\n",
    "count_vec = CountVectorizer()\n",
    "bow_genres = count_vec.fit_transform(genres)\n",
    "\n",
    "# Apply principal component analysis to reduce the dimensionality\n",
    "pca = PCA(n_components=10)\n",
    "pca_genres = pca.fit_transform(bow_genres.toarray())\n",
    "\n",
    "# Add the PCA-transformed genres to the original dataframe\n",
    "for i in range(len(pca_genres[0])):\n",
    "    df[f'Genre_PCA_{i}'] = pca_genres[:, i]\n",
    "\n",
    "# Drop the original column\n",
    "df = df.drop(['Genres'], axis=1)"
   ]
  },
  {
   "attachments": {},
   "cell_type": "markdown",
   "metadata": {},
   "source": [
    "### 2. Dummy variables approach"
   ]
  },
  {
   "cell_type": "code",
   "execution_count": 56,
   "metadata": {},
   "outputs": [],
   "source": [
    "# Convert the genres column to a list of strings\n",
    "df['Genres'] = df['Genres'].astype(str)\n",
    "df['Genres'] = df['Genres'].str.strip('[]').str.replace(\"'\", \"\").str.split(\", \")\n",
    "\n",
    "# drop Games, Strategy, Entertainment from the Genres column\n",
    "df['Genres'] = df['Genres'].apply(lambda x: [genre for genre in x if genre not in ['Games', 'Strategy', 'Entertainment']])\n",
    "\n",
    "# Replace genres with counts less than 100 with 'infrequent' as it would represent a very small percentage of the data (less than 2%)\n",
    "other = df['Genres'].explode().value_counts()[df['Genres'].explode().value_counts() < 100].index\n",
    "df['Genres'] = df['Genres'].apply(lambda x: [genre if genre not in other else 'infrequent' for genre in x])\n",
    "\n",
    "# Get dummy variables for the genres\n",
    "genres = pd.get_dummies(df['Genres'].apply(pd.Series).stack(), prefix=\"genre\", dummy_na=False).sum(level=0)\n",
    "\n",
    "# Save the genres dummies to be used on the test set\n",
    "genres.to_csv('encoders/genres.csv', index=False)\n",
    "\n",
    "# Add the dummy variables to the original dataframe\n",
    "df = pd.concat([df, genres], axis=1)\n",
    "\n",
    "# Drop the original column\n",
    "df = df.drop(['Genres'], axis=1)\n",
    "\n",
    "# Fill NaN with 0\n",
    "genre_cols = [col for col in df.columns if col.startswith('genre')] # get all columns with prefix 'genre'\n",
    "df[genre_cols] = df[genre_cols].fillna(0) # fill NaN with 0 for selected columns"
   ]
  },
  {
   "attachments": {},
   "cell_type": "markdown",
   "metadata": {},
   "source": [
    "### 3. Multi-label binarizer"
   ]
  },
  {
   "cell_type": "code",
   "execution_count": null,
   "metadata": {},
   "outputs": [],
   "source": [
    "# Convert the genres column to a list of strings\n",
    "df['Genres'] = df['Genres'].astype(str)\n",
    "df['Genres'] = df['Genres'].str.strip('[]').str.replace(\"'\", \"\").str.split(\", \")\n",
    "\n",
    "# drop Games, Strategy, Entertainment from the Genres column\n",
    "df['Genres'] = df['Genres'].apply(lambda x: [genre for genre in x if genre not in ['Games', 'Strategy', 'Entertainment']])\n",
    "\n",
    "# Replace genres with counts less than 100 with 'infrequent' as it would represent a very small percentage of the data (less than 2%)\n",
    "other = df['Genres'].explode().value_counts()[df['Genres'].explode().value_counts() < 100].index\n",
    "df['Genres'] = df['Genres'].apply(lambda x: [genre if genre not in other else 'infrequent_genre' for genre in x])\n",
    "\n",
    "# Instantiate the MultiLabelBinarizer\n",
    "mlb = MultiLabelBinarizer()\n",
    "\n",
    "# Fit the MultiLabelBinarizer to the genres\n",
    "mlb.fit(df['Genres'])\n",
    "\n",
    "# Drop nan from the classes\n",
    "mlb.classes_ = np.delete(mlb.classes_, np.where(mlb.classes_ == 'nan'))\n",
    "\n",
    "# Save the mlb for later use with the test data\n",
    "pickle.dump(mlb, open('encoders/mlb_genres.pkl', 'wb'))\n",
    "\n",
    "# Transform the genres into a one-hot encoded array\n",
    "genres_mlb = mlb.transform(df['Genres'])\n",
    "\n",
    "# Create a dataframe from the one-hot encoded array\n",
    "genres_mlb_df = pd.DataFrame(genres_mlb, columns=mlb.classes_)\n",
    "\n",
    "# Add the one-hot encoded genres to the original dataframe\n",
    "df = pd.concat([df, genres_mlb_df], axis=1)\n",
    "\n",
    "# Drop the original column\n",
    "df = df.drop(['Genres'], axis=1)"
   ]
  },
  {
   "cell_type": "markdown",
   "metadata": {
    "collapsed": false
   },
   "source": [
    "## Languages preprocessing"
   ]
  },
  {
   "attachments": {},
   "cell_type": "markdown",
   "metadata": {},
   "source": [
    "### 1. NLP approach"
   ]
  },
  {
   "cell_type": "code",
   "execution_count": 16,
   "metadata": {
    "ExecuteTime": {
     "end_time": "2023-04-14T10:35:38.695352Z",
     "start_time": "2023-04-14T10:35:38.599717Z"
    },
    "collapsed": false
   },
   "outputs": [
    {
     "name": "stdout",
     "output_type": "stream",
     "text": [
      "(2195, 37)\n"
     ]
    },
    {
     "data": {
      "text/html": [
       "<div>\n",
       "<style scoped>\n",
       "    .dataframe tbody tr th:only-of-type {\n",
       "        vertical-align: middle;\n",
       "    }\n",
       "\n",
       "    .dataframe tbody tr th {\n",
       "        vertical-align: top;\n",
       "    }\n",
       "\n",
       "    .dataframe thead th {\n",
       "        text-align: right;\n",
       "    }\n",
       "</style>\n",
       "<table border=\"1\" class=\"dataframe\">\n",
       "  <thead>\n",
       "    <tr style=\"text-align: right;\">\n",
       "      <th></th>\n",
       "      <th>game_age</th>\n",
       "      <th>last_update</th>\n",
       "      <th>Genre_PCA_0</th>\n",
       "      <th>Genre_PCA_1</th>\n",
       "      <th>Genre_PCA_2</th>\n",
       "      <th>Genre_PCA_3</th>\n",
       "      <th>Genre_PCA_4</th>\n",
       "      <th>Genre_PCA_5</th>\n",
       "      <th>Genre_PCA_6</th>\n",
       "      <th>Genre_PCA_7</th>\n",
       "      <th>...</th>\n",
       "      <th>Languages_PCA_0</th>\n",
       "      <th>Languages_PCA_1</th>\n",
       "      <th>Languages_PCA_2</th>\n",
       "      <th>Languages_PCA_3</th>\n",
       "      <th>Languages_PCA_4</th>\n",
       "      <th>Languages_PCA_5</th>\n",
       "      <th>Languages_PCA_6</th>\n",
       "      <th>Languages_PCA_7</th>\n",
       "      <th>Languages_PCA_8</th>\n",
       "      <th>Languages_PCA_9</th>\n",
       "    </tr>\n",
       "  </thead>\n",
       "  <tbody>\n",
       "    <tr>\n",
       "      <th>0</th>\n",
       "      <td>439</td>\n",
       "      <td>2271</td>\n",
       "      <td>-0.191173</td>\n",
       "      <td>-0.153500</td>\n",
       "      <td>-0.607555</td>\n",
       "      <td>0.635837</td>\n",
       "      <td>-0.019810</td>\n",
       "      <td>-0.107295</td>\n",
       "      <td>-0.006804</td>\n",
       "      <td>-0.089787</td>\n",
       "      <td>...</td>\n",
       "      <td>-0.800362</td>\n",
       "      <td>0.010413</td>\n",
       "      <td>0.155700</td>\n",
       "      <td>-0.012345</td>\n",
       "      <td>-0.006046</td>\n",
       "      <td>0.029035</td>\n",
       "      <td>0.008605</td>\n",
       "      <td>0.003874</td>\n",
       "      <td>-0.004505</td>\n",
       "      <td>0.010810</td>\n",
       "    </tr>\n",
       "    <tr>\n",
       "      <th>1</th>\n",
       "      <td>3053</td>\n",
       "      <td>1872</td>\n",
       "      <td>-0.191173</td>\n",
       "      <td>-0.153500</td>\n",
       "      <td>-0.607555</td>\n",
       "      <td>0.635837</td>\n",
       "      <td>-0.019810</td>\n",
       "      <td>-0.107295</td>\n",
       "      <td>-0.006804</td>\n",
       "      <td>-0.089787</td>\n",
       "      <td>...</td>\n",
       "      <td>-0.534094</td>\n",
       "      <td>-0.278620</td>\n",
       "      <td>-0.044835</td>\n",
       "      <td>0.131544</td>\n",
       "      <td>0.057126</td>\n",
       "      <td>-0.195692</td>\n",
       "      <td>-0.239123</td>\n",
       "      <td>-0.051788</td>\n",
       "      <td>0.243395</td>\n",
       "      <td>-0.166205</td>\n",
       "    </tr>\n",
       "    <tr>\n",
       "      <th>4</th>\n",
       "      <td>125</td>\n",
       "      <td>1969</td>\n",
       "      <td>-0.377379</td>\n",
       "      <td>1.232448</td>\n",
       "      <td>0.252919</td>\n",
       "      <td>0.094709</td>\n",
       "      <td>0.009996</td>\n",
       "      <td>-0.058518</td>\n",
       "      <td>-0.006908</td>\n",
       "      <td>-0.000842</td>\n",
       "      <td>...</td>\n",
       "      <td>-0.800362</td>\n",
       "      <td>0.010413</td>\n",
       "      <td>0.155700</td>\n",
       "      <td>-0.012345</td>\n",
       "      <td>-0.006046</td>\n",
       "      <td>0.029035</td>\n",
       "      <td>0.008605</td>\n",
       "      <td>0.003874</td>\n",
       "      <td>-0.004505</td>\n",
       "      <td>0.010810</td>\n",
       "    </tr>\n",
       "    <tr>\n",
       "      <th>6</th>\n",
       "      <td>1169</td>\n",
       "      <td>2332</td>\n",
       "      <td>-0.301006</td>\n",
       "      <td>-0.442022</td>\n",
       "      <td>0.683519</td>\n",
       "      <td>0.152858</td>\n",
       "      <td>0.001978</td>\n",
       "      <td>-0.074679</td>\n",
       "      <td>-0.006694</td>\n",
       "      <td>-0.034967</td>\n",
       "      <td>...</td>\n",
       "      <td>3.585831</td>\n",
       "      <td>0.152812</td>\n",
       "      <td>0.525536</td>\n",
       "      <td>0.319862</td>\n",
       "      <td>-0.279349</td>\n",
       "      <td>1.215672</td>\n",
       "      <td>-0.525748</td>\n",
       "      <td>-0.099130</td>\n",
       "      <td>0.509222</td>\n",
       "      <td>0.299115</td>\n",
       "    </tr>\n",
       "    <tr>\n",
       "      <th>8</th>\n",
       "      <td>2387</td>\n",
       "      <td>1361</td>\n",
       "      <td>-0.377379</td>\n",
       "      <td>1.232448</td>\n",
       "      <td>0.252919</td>\n",
       "      <td>0.094709</td>\n",
       "      <td>0.009996</td>\n",
       "      <td>-0.058518</td>\n",
       "      <td>-0.006908</td>\n",
       "      <td>-0.000842</td>\n",
       "      <td>...</td>\n",
       "      <td>2.364661</td>\n",
       "      <td>0.147263</td>\n",
       "      <td>-1.355419</td>\n",
       "      <td>0.062542</td>\n",
       "      <td>-0.033378</td>\n",
       "      <td>0.189058</td>\n",
       "      <td>0.355586</td>\n",
       "      <td>0.145510</td>\n",
       "      <td>-0.289211</td>\n",
       "      <td>-0.324981</td>\n",
       "    </tr>\n",
       "  </tbody>\n",
       "</table>\n",
       "<p>5 rows × 22 columns</p>\n",
       "</div>"
      ],
      "text/plain": [
       "   game_age  last_update  Genre_PCA_0  Genre_PCA_1  Genre_PCA_2  Genre_PCA_3   \n",
       "0       439         2271    -0.191173    -0.153500    -0.607555     0.635837  \\\n",
       "1      3053         1872    -0.191173    -0.153500    -0.607555     0.635837   \n",
       "4       125         1969    -0.377379     1.232448     0.252919     0.094709   \n",
       "6      1169         2332    -0.301006    -0.442022     0.683519     0.152858   \n",
       "8      2387         1361    -0.377379     1.232448     0.252919     0.094709   \n",
       "\n",
       "   Genre_PCA_4  Genre_PCA_5  Genre_PCA_6  Genre_PCA_7  ...  Languages_PCA_0   \n",
       "0    -0.019810    -0.107295    -0.006804    -0.089787  ...        -0.800362  \\\n",
       "1    -0.019810    -0.107295    -0.006804    -0.089787  ...        -0.534094   \n",
       "4     0.009996    -0.058518    -0.006908    -0.000842  ...        -0.800362   \n",
       "6     0.001978    -0.074679    -0.006694    -0.034967  ...         3.585831   \n",
       "8     0.009996    -0.058518    -0.006908    -0.000842  ...         2.364661   \n",
       "\n",
       "   Languages_PCA_1  Languages_PCA_2  Languages_PCA_3  Languages_PCA_4   \n",
       "0         0.010413         0.155700        -0.012345        -0.006046  \\\n",
       "1        -0.278620        -0.044835         0.131544         0.057126   \n",
       "4         0.010413         0.155700        -0.012345        -0.006046   \n",
       "6         0.152812         0.525536         0.319862        -0.279349   \n",
       "8         0.147263        -1.355419         0.062542        -0.033378   \n",
       "\n",
       "   Languages_PCA_5  Languages_PCA_6  Languages_PCA_7  Languages_PCA_8   \n",
       "0         0.029035         0.008605         0.003874        -0.004505  \\\n",
       "1        -0.195692        -0.239123        -0.051788         0.243395   \n",
       "4         0.029035         0.008605         0.003874        -0.004505   \n",
       "6         1.215672        -0.525748        -0.099130         0.509222   \n",
       "8         0.189058         0.355586         0.145510        -0.289211   \n",
       "\n",
       "   Languages_PCA_9  \n",
       "0         0.010810  \n",
       "1        -0.166205  \n",
       "4         0.010810  \n",
       "6         0.299115  \n",
       "8        -0.324981  \n",
       "\n",
       "[5 rows x 22 columns]"
      ]
     },
     "execution_count": 16,
     "metadata": {},
     "output_type": "execute_result"
    }
   ],
   "source": [
    "# Convert the langs column to a list of strings\n",
    "df['Languages'] = df['Languages'].astype(str)\n",
    "df['Languages'] = df['Languages'].str.strip('[]').str.replace(\"'\", \"\").str.split(\", \")\n",
    "\n",
    "# Drop the English language from the Languages column\n",
    "df['Languages'] = df['Languages'].apply(lambda x: [lang for lang in x if lang not in ['EN']])\n",
    "\n",
    "# Join the list of langs into a single string\n",
    "languages = df['Languages'].apply(lambda x: ' '.join(x))\n",
    "\n",
    "# Create a count Vectorizer and fit it to the langs\n",
    "count_vec = CountVectorizer()\n",
    "bow_languages = count_vec.fit_transform(languages)\n",
    "\n",
    "# Apply principal component analysis to reduce the dimensionality\n",
    "pca = PCA(n_components=10)\n",
    "pca_languages = pca.fit_transform(bow_languages.toarray())\n",
    "\n",
    "# Add the PCA-transformed langs to the original dataframe\n",
    "for i in range(len(pca_languages[0])):\n",
    "    df[f'Languages_PCA_{i}'] = pca_languages[:, i]\n",
    "\n",
    "# Drop the original column\n",
    "df = df.drop(['Languages'], axis=1)\n",
    "\n",
    "print(df.shape)\n",
    "\n",
    "df.iloc[:, 15:].head()"
   ]
  },
  {
   "attachments": {},
   "cell_type": "markdown",
   "metadata": {},
   "source": [
    "### 2. Dummy variables approach"
   ]
  },
  {
   "cell_type": "code",
   "execution_count": 57,
   "metadata": {},
   "outputs": [],
   "source": [
    "# Convert the langs column to a list of strings\n",
    "df['Languages'] = df['Languages'].astype(str)\n",
    "df['Languages'] = df['Languages'].str.strip('[]').str.replace(\"'\", \"\").str.split(\", \")\n",
    "\n",
    "# Create a column with the number of languages supported\n",
    "df['langs_count'] = df['Languages'].apply(lambda x: len(x))\n",
    "\n",
    "# Drop the English language from the Languages column (it is the most common language and would dominate the model)\n",
    "df['Languages'] = df['Languages'].apply(lambda x: [lang for lang in x if lang not in ['EN']])\n",
    "\n",
    "# Replace langs with counts less than 500 with 'infrequent_langs' as it would represent a very small percentage of the data (less than 10%)\n",
    "other = df['Languages'].explode().value_counts()[df['Languages'].explode().value_counts() < 500].index\n",
    "df['Languages'] = df['Languages'].apply(lambda x: [lang if lang not in other else 'infrequent' for lang in x])\n",
    "\n",
    "# Get dummy variables for the langs\n",
    "langs = pd.get_dummies(df['Languages'].apply(pd.Series).stack(), prefix='lang', dummy_na=False).sum(level=0)\n",
    "\n",
    "langs.to_csv('encoders/langs.csv', index=False)\n",
    "\n",
    "# Add the dummy variables to the original dataframe\n",
    "df = pd.concat([df, langs], axis=1)\n",
    "\n",
    "# Drop the original column\n",
    "df = df.drop(['Languages'], axis=1)\n",
    "\n",
    "# Fill NaN with 0\n",
    "lang_cols = [col for col in df.columns if col.startswith('lang')] # get all columns with prefix 'lang'\n",
    "df[lang_cols] = df[lang_cols].fillna(0) # fill NaN with 0 for selected columns"
   ]
  },
  {
   "attachments": {},
   "cell_type": "markdown",
   "metadata": {},
   "source": [
    "### 3. Multi-label binarizer"
   ]
  },
  {
   "cell_type": "code",
   "execution_count": null,
   "metadata": {},
   "outputs": [],
   "source": [
    "from sklearn.preprocessing import MultiLabelBinarizer\n",
    "\n",
    "# Convert the langs column to a list of strings\n",
    "df['Languages'] = df['Languages'].astype(str)\n",
    "df['Languages'] = df['Languages'].str.strip('[]').str.replace(\"'\", \"\").str.split(\", \")\n",
    "\n",
    "# Create a column with the number of languages supported\n",
    "df['langs_count'] = df['Languages'].apply(lambda x: len(x))\n",
    "\n",
    "# Drop the English language from the Languages column (it is the most common language and would dominate the model)\n",
    "df['Languages'] = df['Languages'].apply(lambda x: [lang for lang in x if lang not in ['EN']])\n",
    "\n",
    "# Replace langs with counts less than 500 with 'infrequent_langs' as it would represent a very small percentage of the data (less than 10%)\n",
    "other = df['Languages'].explode().value_counts()[df['Languages'].explode().value_counts() < 400].index\n",
    "df['Languages'] = df['Languages'].apply(lambda x: [lang if lang not in other else 'infrequent_lang' for lang in x])\n",
    "\n",
    "# Instantiate the MultiLabelBinarizer\n",
    "mlb = MultiLabelBinarizer()\n",
    "\n",
    "# Fit the MultiLabelBinarizer to the langs\n",
    "mlb.fit(df['Languages'])\n",
    "\n",
    "# Drop nan from the classes\n",
    "mlb.classes_ = np.delete(mlb.classes_, np.where(mlb.classes_ == 'nan'))\n",
    "\n",
    "# Save the mlb for later use with the test data\n",
    "pickle.dump(mlb, open('encoders/mlb_langs.pkl', 'wb'))\n",
    "\n",
    "# Transform the langs into a one-hot encoded array\n",
    "langs_mlb = mlb.transform(df['Languages'])\n",
    "\n",
    "# Create a dataframe from the one-hot encoded array\n",
    "langs_mlb_df = pd.DataFrame(langs_mlb, columns=mlb.classes_)\n",
    "\n",
    "# Add the encoded langs to the original dataframe\n",
    "df = pd.concat([df, langs_mlb_df], axis=1)\n",
    "\n",
    "# Drop the original column\n",
    "df = df.drop(['Languages'], axis=1)"
   ]
  },
  {
   "cell_type": "code",
   "execution_count": 59,
   "metadata": {},
   "outputs": [
    {
     "data": {
      "text/html": [
       "<div>\n",
       "<style scoped>\n",
       "    .dataframe tbody tr th:only-of-type {\n",
       "        vertical-align: middle;\n",
       "    }\n",
       "\n",
       "    .dataframe tbody tr th {\n",
       "        vertical-align: top;\n",
       "    }\n",
       "\n",
       "    .dataframe thead th {\n",
       "        text-align: right;\n",
       "    }\n",
       "</style>\n",
       "<table border=\"1\" class=\"dataframe\">\n",
       "  <thead>\n",
       "    <tr style=\"text-align: right;\">\n",
       "      <th></th>\n",
       "      <th>Name</th>\n",
       "      <th>Subtitle</th>\n",
       "      <th>Icon URL</th>\n",
       "      <th>User Rating Count</th>\n",
       "      <th>Price</th>\n",
       "      <th>In-app Purchases</th>\n",
       "      <th>Description</th>\n",
       "      <th>Developer</th>\n",
       "      <th>Age Rating</th>\n",
       "      <th>Size</th>\n",
       "      <th>...</th>\n",
       "      <th>genre_Role Playing</th>\n",
       "      <th>genre_Simulation</th>\n",
       "      <th>genre_infrequent</th>\n",
       "      <th>langs_count</th>\n",
       "      <th>lang_DE</th>\n",
       "      <th>lang_ES</th>\n",
       "      <th>lang_FR</th>\n",
       "      <th>lang_JA</th>\n",
       "      <th>lang_ZH</th>\n",
       "      <th>lang_infrequent</th>\n",
       "    </tr>\n",
       "  </thead>\n",
       "  <tbody>\n",
       "    <tr>\n",
       "      <th>4427</th>\n",
       "      <td>Jump Numbers</td>\n",
       "      <td>Use math to save the Snortles!</td>\n",
       "      <td>icons/4427.png</td>\n",
       "      <td>204</td>\n",
       "      <td>2.99</td>\n",
       "      <td>NaN</td>\n",
       "      <td>\"Kids are so excited about saving the Snortles...</td>\n",
       "      <td>4.500000</td>\n",
       "      <td>4+</td>\n",
       "      <td>197940224</td>\n",
       "      <td>...</td>\n",
       "      <td>0.0</td>\n",
       "      <td>0.0</td>\n",
       "      <td>0.0</td>\n",
       "      <td>1</td>\n",
       "      <td>0.0</td>\n",
       "      <td>0.0</td>\n",
       "      <td>0.0</td>\n",
       "      <td>0.0</td>\n",
       "      <td>0.0</td>\n",
       "      <td>0.0</td>\n",
       "    </tr>\n",
       "    <tr>\n",
       "      <th>3621</th>\n",
       "      <td>For Freedom</td>\n",
       "      <td>NaN</td>\n",
       "      <td>icons/3621.png</td>\n",
       "      <td>25</td>\n",
       "      <td>0.00</td>\n",
       "      <td>0.99, 0.99, 9.99, 9.99, 4.99, 21.99, 19.99, 4....</td>\n",
       "      <td>For Freedom, a 2016 fantasy-themed strategy wa...</td>\n",
       "      <td>4.093882</td>\n",
       "      <td>9+</td>\n",
       "      <td>139696128</td>\n",
       "      <td>...</td>\n",
       "      <td>1.0</td>\n",
       "      <td>0.0</td>\n",
       "      <td>0.0</td>\n",
       "      <td>8</td>\n",
       "      <td>1.0</td>\n",
       "      <td>1.0</td>\n",
       "      <td>0.0</td>\n",
       "      <td>1.0</td>\n",
       "      <td>2.0</td>\n",
       "      <td>2.0</td>\n",
       "    </tr>\n",
       "    <tr>\n",
       "      <th>378</th>\n",
       "      <td>Command &amp; Colours: The Great War</td>\n",
       "      <td>NaN</td>\n",
       "      <td>icons/378.png</td>\n",
       "      <td>15</td>\n",
       "      <td>9.99</td>\n",
       "      <td>NaN</td>\n",
       "      <td>HexWar Games has partnered with Plastic Soldie...</td>\n",
       "      <td>3.523810</td>\n",
       "      <td>12+</td>\n",
       "      <td>190210048</td>\n",
       "      <td>...</td>\n",
       "      <td>0.0</td>\n",
       "      <td>0.0</td>\n",
       "      <td>0.0</td>\n",
       "      <td>1</td>\n",
       "      <td>0.0</td>\n",
       "      <td>0.0</td>\n",
       "      <td>0.0</td>\n",
       "      <td>0.0</td>\n",
       "      <td>0.0</td>\n",
       "      <td>0.0</td>\n",
       "    </tr>\n",
       "    <tr>\n",
       "      <th>4696</th>\n",
       "      <td>Checkers \\u2023</td>\n",
       "      <td>The best Checkers around!</td>\n",
       "      <td>icons/4696.png</td>\n",
       "      <td>1542</td>\n",
       "      <td>0.00</td>\n",
       "      <td>6.99</td>\n",
       "      <td>Hands down the best Checkers for iOS!\\n\\nTired...</td>\n",
       "      <td>4.093882</td>\n",
       "      <td>4+</td>\n",
       "      <td>53391360</td>\n",
       "      <td>...</td>\n",
       "      <td>0.0</td>\n",
       "      <td>0.0</td>\n",
       "      <td>0.0</td>\n",
       "      <td>1</td>\n",
       "      <td>0.0</td>\n",
       "      <td>0.0</td>\n",
       "      <td>0.0</td>\n",
       "      <td>0.0</td>\n",
       "      <td>0.0</td>\n",
       "      <td>0.0</td>\n",
       "    </tr>\n",
       "    <tr>\n",
       "      <th>4202</th>\n",
       "      <td>Just Solitaire: La Belle Lucie</td>\n",
       "      <td>NaN</td>\n",
       "      <td>icons/4202.png</td>\n",
       "      <td>84</td>\n",
       "      <td>0.00</td>\n",
       "      <td>NaN</td>\n",
       "      <td>\"Challenging enough to get you hooked and winn...</td>\n",
       "      <td>4.300000</td>\n",
       "      <td>4+</td>\n",
       "      <td>29378560</td>\n",
       "      <td>...</td>\n",
       "      <td>0.0</td>\n",
       "      <td>0.0</td>\n",
       "      <td>0.0</td>\n",
       "      <td>1</td>\n",
       "      <td>0.0</td>\n",
       "      <td>0.0</td>\n",
       "      <td>0.0</td>\n",
       "      <td>0.0</td>\n",
       "      <td>0.0</td>\n",
       "      <td>0.0</td>\n",
       "    </tr>\n",
       "  </tbody>\n",
       "</table>\n",
       "<p>5 rows × 32 columns</p>\n",
       "</div>"
      ],
      "text/plain": [
       "                                  Name                        Subtitle  \\\n",
       "4427                      Jump Numbers  Use math to save the Snortles!   \n",
       "3621                       For Freedom                             NaN   \n",
       "378   Command & Colours: The Great War                             NaN   \n",
       "4696                   Checkers \\u2023       The best Checkers around!   \n",
       "4202    Just Solitaire: La Belle Lucie                             NaN   \n",
       "\n",
       "            Icon URL  User Rating Count  Price  \\\n",
       "4427  icons/4427.png                204   2.99   \n",
       "3621  icons/3621.png                 25   0.00   \n",
       "378    icons/378.png                 15   9.99   \n",
       "4696  icons/4696.png               1542   0.00   \n",
       "4202  icons/4202.png                 84   0.00   \n",
       "\n",
       "                                       In-app Purchases  \\\n",
       "4427                                                NaN   \n",
       "3621  0.99, 0.99, 9.99, 9.99, 4.99, 21.99, 19.99, 4....   \n",
       "378                                                 NaN   \n",
       "4696                                               6.99   \n",
       "4202                                                NaN   \n",
       "\n",
       "                                            Description  Developer Age Rating  \\\n",
       "4427  \"Kids are so excited about saving the Snortles...   4.500000         4+   \n",
       "3621  For Freedom, a 2016 fantasy-themed strategy wa...   4.093882         9+   \n",
       "378   HexWar Games has partnered with Plastic Soldie...   3.523810        12+   \n",
       "4696  Hands down the best Checkers for iOS!\\n\\nTired...   4.093882         4+   \n",
       "4202  \"Challenging enough to get you hooked and winn...   4.300000         4+   \n",
       "\n",
       "           Size  ...  genre_Role Playing  genre_Simulation  genre_infrequent  \\\n",
       "4427  197940224  ...                 0.0               0.0               0.0   \n",
       "3621  139696128  ...                 1.0               0.0               0.0   \n",
       "378   190210048  ...                 0.0               0.0               0.0   \n",
       "4696   53391360  ...                 0.0               0.0               0.0   \n",
       "4202   29378560  ...                 0.0               0.0               0.0   \n",
       "\n",
       "      langs_count  lang_DE  lang_ES  lang_FR  lang_JA  lang_ZH  \\\n",
       "4427            1      0.0      0.0      0.0      0.0      0.0   \n",
       "3621            8      1.0      1.0      0.0      1.0      2.0   \n",
       "378             1      0.0      0.0      0.0      0.0      0.0   \n",
       "4696            1      0.0      0.0      0.0      0.0      0.0   \n",
       "4202            1      0.0      0.0      0.0      0.0      0.0   \n",
       "\n",
       "      lang_infrequent  \n",
       "4427              0.0  \n",
       "3621              2.0  \n",
       "378               0.0  \n",
       "4696              0.0  \n",
       "4202              0.0  \n",
       "\n",
       "[5 rows x 32 columns]"
      ]
     },
     "execution_count": 59,
     "metadata": {},
     "output_type": "execute_result"
    }
   ],
   "source": [
    "df.head()"
   ]
  },
  {
   "cell_type": "markdown",
   "metadata": {
    "collapsed": false
   },
   "source": [
    "## In-app Purchases preprocessing"
   ]
  },
  {
   "cell_type": "code",
   "execution_count": 60,
   "metadata": {
    "ExecuteTime": {
     "end_time": "2023-04-14T10:35:52.935497Z",
     "start_time": "2023-04-14T10:35:52.881403Z"
    },
    "collapsed": false
   },
   "outputs": [],
   "source": [
    "# Free apps might skew the in-app purchases column,\n",
    "# so we might split the dataset into free and paid apps\n",
    "\n",
    "df['In-app Purchases'] = df['In-app Purchases'].astype(str)\n",
    "df['In-app Purchases'] = df['In-app Purchases'].str.strip('[]').str.replace(\"'\", \"\").str.split(\", \")"
   ]
  },
  {
   "cell_type": "code",
   "execution_count": 61,
   "metadata": {
    "ExecuteTime": {
     "end_time": "2023-04-14T10:35:54.565885Z",
     "start_time": "2023-04-14T10:35:54.456681Z"
    },
    "collapsed": false
   },
   "outputs": [],
   "source": [
    "# Convert to float\n",
    "df['In-app Purchases'] = df['In-app Purchases'].apply(lambda x: [float(i) for i in x])\n",
    "\n",
    "# Get the number of in-app purchases\n",
    "df['purchases_count'] = df['In-app Purchases'].apply(lambda x: len(x))\n",
    "\n",
    "# Get the lowest, highest and average purchase\n",
    "df['lowest_purchase'] = df['In-app Purchases'].apply(lambda x: min(x) if len(x) > 0 else 0)\n",
    "df['highest_purchase'] = df['In-app Purchases'].apply(lambda x: max(x) if len(x) > 0 else 0)\n",
    "df['average_purchase'] = df['In-app Purchases'].apply(lambda x: np.mean(x) if len(x) > 0 else 0)\n"
   ]
  },
  {
   "cell_type": "code",
   "execution_count": 62,
   "metadata": {
    "ExecuteTime": {
     "end_time": "2023-04-14T10:36:00.624093Z",
     "start_time": "2023-04-14T10:36:00.576764Z"
    },
    "collapsed": false
   },
   "outputs": [],
   "source": [
    "# Drop the original column\n",
    "df = df.drop(['In-app Purchases'], axis=1)\n",
    "\n",
    "df['lowest_purchase'] = df['lowest_purchase'].fillna(0)\n",
    "df['highest_purchase'] = df['highest_purchase'].fillna(0)\n",
    "df['average_purchase'] = df['average_purchase'].fillna(0)"
   ]
  },
  {
   "cell_type": "markdown",
   "metadata": {
    "collapsed": false
   },
   "source": [
    "## Age Rating preprocessing"
   ]
  },
  {
   "cell_type": "code",
   "execution_count": 63,
   "metadata": {
    "ExecuteTime": {
     "end_time": "2023-04-14T10:36:03.614263Z",
     "start_time": "2023-04-14T10:36:03.579637Z"
    },
    "collapsed": false
   },
   "outputs": [],
   "source": [
    "# Convert to string\n",
    "df['Age Rating'] = df['Age Rating'].astype(str)\n",
    "\n",
    "# Remove the + sign\n",
    "df['Age Rating'] = df['Age Rating'].str.replace('+', '')\n",
    "\n",
    "# Convert to int\n",
    "df['Age Rating'] = df['Age Rating'].astype(float)"
   ]
  },
  {
   "cell_type": "markdown",
   "metadata": {
    "collapsed": false
   },
   "source": [
    "## NLP preprocessing"
   ]
  },
  {
   "cell_type": "code",
   "execution_count": 65,
   "metadata": {
    "ExecuteTime": {
     "end_time": "2023-04-14T10:43:13.386866Z",
     "start_time": "2023-04-14T10:43:13.386866Z"
    },
    "collapsed": false
   },
   "outputs": [
    {
     "name": "stderr",
     "output_type": "stream",
     "text": [
      "[nltk_data] Downloading package stopwords to\n",
      "[nltk_data]     C:\\Users\\Administrator\\AppData\\Roaming\\nltk_data...\n",
      "[nltk_data]   Package stopwords is already up-to-date!\n",
      "[nltk_data] Downloading package wordnet to\n",
      "[nltk_data]     C:\\Users\\Administrator\\AppData\\Roaming\\nltk_data...\n",
      "[nltk_data]   Package wordnet is already up-to-date!\n",
      "[nltk_data] Downloading package omw-1.4 to\n",
      "[nltk_data]     C:\\Users\\Administrator\\AppData\\Roaming\\nltk_data...\n",
      "[nltk_data]   Package omw-1.4 is already up-to-date!\n"
     ]
    }
   ],
   "source": [
    "import nltk\n",
    "nltk.download('stopwords')\n",
    "nltk.download('wordnet')\n",
    "nltk.download('omw-1.4')\n",
    "from nltk.corpus import stopwords\n",
    "from textblob import TextBlob\n",
    "import re\n",
    "\n",
    "def preprocess_nlp(col):\n",
    "    df[col] = df[col].astype(str)\n",
    "\n",
    "    # Remove URLs and email addresses\n",
    "    df[col] = df[col].apply(lambda x: re.sub(r'http\\S+|www.\\S+|\\S+@\\S+', '', x))\n",
    "\n",
    "    # Remove the punctuation, numbers, and convert to lowercase\n",
    "    df[col] = df[col].apply(lambda x: \" \".join(re.findall(r'\\w+', x.lower())))\n",
    "\n",
    "    # Remove the stopwords\n",
    "    stop = stopwords.words('english')\n",
    "    df[col] = df[col].apply(lambda x: \" \".join(x for x in x.split() if x not in stop))\n",
    "\n",
    "    # Stemming\n",
    "    st = nltk.PorterStemmer()\n",
    "    df[col] = df[col].apply(lambda x: \" \".join([st.stem(word) for word in x.split()]))\n",
    "\n",
    "    # Lemmatization\n",
    "    lem = nltk.WordNetLemmatizer()\n",
    "    df[col] = df[col].apply(lambda x: \" \".join([lem.lemmatize(word) for word in x.split()]))\n",
    "\n",
    "    # Remove the frequent and rare words\n",
    "    freq = pd.Series(' '.join(df[col]).split()).value_counts()\n",
    "    common_freq = list(freq[:10].index)\n",
    "    rare_freq = list(freq[-10:].index)\n",
    "    df[col] = df[col].apply(lambda x: \" \".join(x for x in x.split() if x not in common_freq+rare_freq))\n",
    "\n",
    "    # Remove the whitespaces\n",
    "    df[col] = df[col].apply(lambda x: \" \".join(x.strip() for x in x.split()))\n",
    "\n",
    "    # Replace NaN values with empty string\n",
    "    df[col] = df[col].fillna('')\n",
    "\n",
    "    # Convert text data to bag-of-words representation\n",
    "    vectorizer = CountVectorizer()\n",
    "    BoW = vectorizer.fit_transform(df[col])\n",
    "\n",
    "    # Apply principal component analysis to reduce the dimensionality\n",
    "    pca_ = PCA(n_components=2)\n",
    "    pca_col = pca_.fit_transform(BoW.toarray())\n",
    "    \n",
    "    # Save the vectorizer and pca for later use with the test data\n",
    "    pickle.dump(vectorizer, open(f'encoders/vectorizer_{col}.pkl', 'wb'))\n",
    "    pickle.dump(pca_, open(f'encoders/pca_{col}.pkl', 'wb'))\n",
    "\n",
    "    # Add the PCA-transformed col to the original dataframe\n",
    "    for feat in range(len(pca_col[0])):\n",
    "        df[f'{col}_PCA_{feat}'] = pca_col[:, feat]\n",
    "\n"
   ]
  },
  {
   "cell_type": "code",
   "execution_count": 66,
   "metadata": {
    "ExecuteTime": {
     "end_time": "2023-04-14T10:43:49.505557Z",
     "start_time": "2023-04-14T10:43:49.505557Z"
    },
    "collapsed": false
   },
   "outputs": [
    {
     "data": {
      "text/html": [
       "<div>\n",
       "<style scoped>\n",
       "    .dataframe tbody tr th:only-of-type {\n",
       "        vertical-align: middle;\n",
       "    }\n",
       "\n",
       "    .dataframe tbody tr th {\n",
       "        vertical-align: top;\n",
       "    }\n",
       "\n",
       "    .dataframe thead th {\n",
       "        text-align: right;\n",
       "    }\n",
       "</style>\n",
       "<table border=\"1\" class=\"dataframe\">\n",
       "  <thead>\n",
       "    <tr style=\"text-align: right;\">\n",
       "      <th></th>\n",
       "      <th>Icon URL</th>\n",
       "      <th>User Rating Count</th>\n",
       "      <th>Price</th>\n",
       "      <th>Developer</th>\n",
       "      <th>Age Rating</th>\n",
       "      <th>Size</th>\n",
       "      <th>Original Release Date</th>\n",
       "      <th>Current Version Release Date</th>\n",
       "      <th>Average User Rating</th>\n",
       "      <th>Reviews</th>\n",
       "      <th>...</th>\n",
       "      <th>purchases_count</th>\n",
       "      <th>lowest_purchase</th>\n",
       "      <th>highest_purchase</th>\n",
       "      <th>average_purchase</th>\n",
       "      <th>Description_PCA_0</th>\n",
       "      <th>Description_PCA_1</th>\n",
       "      <th>Subtitle_PCA_0</th>\n",
       "      <th>Subtitle_PCA_1</th>\n",
       "      <th>Name_PCA_0</th>\n",
       "      <th>Name_PCA_1</th>\n",
       "    </tr>\n",
       "  </thead>\n",
       "  <tbody>\n",
       "    <tr>\n",
       "      <th>4427</th>\n",
       "      <td>icons/4427.png</td>\n",
       "      <td>204</td>\n",
       "      <td>2.99</td>\n",
       "      <td>4.500000</td>\n",
       "      <td>4.0</td>\n",
       "      <td>197940224</td>\n",
       "      <td>736018</td>\n",
       "      <td>736702</td>\n",
       "      <td>4.5</td>\n",
       "      <td>0.674490</td>\n",
       "      <td>...</td>\n",
       "      <td>1</td>\n",
       "      <td>0.00</td>\n",
       "      <td>0.00</td>\n",
       "      <td>0.00</td>\n",
       "      <td>-0.033106</td>\n",
       "      <td>-0.232023</td>\n",
       "      <td>-0.019115</td>\n",
       "      <td>-0.033887</td>\n",
       "      <td>-0.017331</td>\n",
       "      <td>-0.033414</td>\n",
       "    </tr>\n",
       "    <tr>\n",
       "      <th>3621</th>\n",
       "      <td>icons/3621.png</td>\n",
       "      <td>25</td>\n",
       "      <td>0.00</td>\n",
       "      <td>4.093882</td>\n",
       "      <td>9.0</td>\n",
       "      <td>139696128</td>\n",
       "      <td>736335</td>\n",
       "      <td>736446</td>\n",
       "      <td>2.0</td>\n",
       "      <td>0.239856</td>\n",
       "      <td>...</td>\n",
       "      <td>10</td>\n",
       "      <td>0.99</td>\n",
       "      <td>21.99</td>\n",
       "      <td>8.49</td>\n",
       "      <td>-0.177898</td>\n",
       "      <td>-0.247181</td>\n",
       "      <td>-0.011635</td>\n",
       "      <td>-0.025236</td>\n",
       "      <td>-0.026041</td>\n",
       "      <td>-0.025511</td>\n",
       "    </tr>\n",
       "    <tr>\n",
       "      <th>378</th>\n",
       "      <td>icons/378.png</td>\n",
       "      <td>15</td>\n",
       "      <td>9.99</td>\n",
       "      <td>3.523810</td>\n",
       "      <td>12.0</td>\n",
       "      <td>190210048</td>\n",
       "      <td>736411</td>\n",
       "      <td>736565</td>\n",
       "      <td>3.0</td>\n",
       "      <td>0.553092</td>\n",
       "      <td>...</td>\n",
       "      <td>1</td>\n",
       "      <td>0.00</td>\n",
       "      <td>0.00</td>\n",
       "      <td>0.00</td>\n",
       "      <td>-0.250177</td>\n",
       "      <td>-0.196724</td>\n",
       "      <td>-0.011635</td>\n",
       "      <td>-0.025236</td>\n",
       "      <td>-0.027858</td>\n",
       "      <td>-0.036262</td>\n",
       "    </tr>\n",
       "    <tr>\n",
       "      <th>4696</th>\n",
       "      <td>icons/4696.png</td>\n",
       "      <td>1542</td>\n",
       "      <td>0.00</td>\n",
       "      <td>4.093882</td>\n",
       "      <td>4.0</td>\n",
       "      <td>53391360</td>\n",
       "      <td>736002</td>\n",
       "      <td>736626</td>\n",
       "      <td>4.5</td>\n",
       "      <td>0.424040</td>\n",
       "      <td>...</td>\n",
       "      <td>1</td>\n",
       "      <td>6.99</td>\n",
       "      <td>6.99</td>\n",
       "      <td>6.99</td>\n",
       "      <td>-0.211783</td>\n",
       "      <td>-0.160200</td>\n",
       "      <td>-0.054622</td>\n",
       "      <td>0.051989</td>\n",
       "      <td>-0.033766</td>\n",
       "      <td>-0.034888</td>\n",
       "    </tr>\n",
       "    <tr>\n",
       "      <th>4202</th>\n",
       "      <td>icons/4202.png</td>\n",
       "      <td>84</td>\n",
       "      <td>0.00</td>\n",
       "      <td>4.300000</td>\n",
       "      <td>4.0</td>\n",
       "      <td>29378560</td>\n",
       "      <td>735450</td>\n",
       "      <td>736653</td>\n",
       "      <td>4.5</td>\n",
       "      <td>0.596030</td>\n",
       "      <td>...</td>\n",
       "      <td>1</td>\n",
       "      <td>0.00</td>\n",
       "      <td>0.00</td>\n",
       "      <td>0.00</td>\n",
       "      <td>-0.204408</td>\n",
       "      <td>-0.169842</td>\n",
       "      <td>-0.011635</td>\n",
       "      <td>-0.025236</td>\n",
       "      <td>-0.062510</td>\n",
       "      <td>-0.100647</td>\n",
       "    </tr>\n",
       "  </tbody>\n",
       "</table>\n",
       "<p>5 rows × 38 columns</p>\n",
       "</div>"
      ],
      "text/plain": [
       "            Icon URL  User Rating Count  Price  Developer  Age Rating  \\\n",
       "4427  icons/4427.png                204   2.99   4.500000         4.0   \n",
       "3621  icons/3621.png                 25   0.00   4.093882         9.0   \n",
       "378    icons/378.png                 15   9.99   3.523810        12.0   \n",
       "4696  icons/4696.png               1542   0.00   4.093882         4.0   \n",
       "4202  icons/4202.png                 84   0.00   4.300000         4.0   \n",
       "\n",
       "           Size  Original Release Date  Current Version Release Date  \\\n",
       "4427  197940224                 736018                        736702   \n",
       "3621  139696128                 736335                        736446   \n",
       "378   190210048                 736411                        736565   \n",
       "4696   53391360                 736002                        736626   \n",
       "4202   29378560                 735450                        736653   \n",
       "\n",
       "      Average User Rating   Reviews  ...  purchases_count  lowest_purchase  \\\n",
       "4427                  4.5  0.674490  ...                1             0.00   \n",
       "3621                  2.0  0.239856  ...               10             0.99   \n",
       "378                   3.0  0.553092  ...                1             0.00   \n",
       "4696                  4.5  0.424040  ...                1             6.99   \n",
       "4202                  4.5  0.596030  ...                1             0.00   \n",
       "\n",
       "      highest_purchase  average_purchase  Description_PCA_0  \\\n",
       "4427              0.00              0.00          -0.033106   \n",
       "3621             21.99              8.49          -0.177898   \n",
       "378               0.00              0.00          -0.250177   \n",
       "4696              6.99              6.99          -0.211783   \n",
       "4202              0.00              0.00          -0.204408   \n",
       "\n",
       "      Description_PCA_1  Subtitle_PCA_0  Subtitle_PCA_1  Name_PCA_0  \\\n",
       "4427          -0.232023       -0.019115       -0.033887   -0.017331   \n",
       "3621          -0.247181       -0.011635       -0.025236   -0.026041   \n",
       "378           -0.196724       -0.011635       -0.025236   -0.027858   \n",
       "4696          -0.160200       -0.054622        0.051989   -0.033766   \n",
       "4202          -0.169842       -0.011635       -0.025236   -0.062510   \n",
       "\n",
       "      Name_PCA_1  \n",
       "4427   -0.033414  \n",
       "3621   -0.025511  \n",
       "378    -0.036262  \n",
       "4696   -0.034888  \n",
       "4202   -0.100647  \n",
       "\n",
       "[5 rows x 38 columns]"
      ]
     },
     "execution_count": 66,
     "metadata": {},
     "output_type": "execute_result"
    }
   ],
   "source": [
    "preprocess_nlp('Description')\n",
    "preprocess_nlp('Subtitle')\n",
    "preprocess_nlp('Name')\n",
    "\n",
    "df = df.drop(['Description', 'Subtitle', 'Name'], axis=1)\n",
    "\n",
    "df.head()"
   ]
  },
  {
   "attachments": {},
   "cell_type": "markdown",
   "metadata": {
    "collapsed": false
   },
   "source": [
    "## Icon preprocessing"
   ]
  },
  {
   "cell_type": "markdown",
   "metadata": {
    "collapsed": false
   },
   "source": [
    "### Extract features from the icons"
   ]
  },
  {
   "cell_type": "code",
   "execution_count": 67,
   "metadata": {
    "ExecuteTime": {
     "end_time": "2023-04-14T10:52:48.299695Z",
     "start_time": "2023-04-14T10:52:13.578629Z"
    },
    "collapsed": false
   },
   "outputs": [],
   "source": [
    "import cv2\n",
    "\n",
    "def preprocess_icon(img_path):\n",
    "    # Load the game icon image\n",
    "    img = cv2.imread(img_path)\n",
    "    img = cv2.resize(img, (100, 100))\n",
    "\n",
    "    # Extract color features using color histograms\n",
    "    colors = ('b', 'g', 'r')\n",
    "    color_features = []\n",
    "    for k, col in enumerate(colors):\n",
    "        hist = cv2.calcHist([img], [k], None, [256], [0, 256])\n",
    "        color_features.append(hist)\n",
    "\n",
    "    # Reshape the color features to have a single dimension\n",
    "    color_features = np.concatenate(color_features).ravel()\n",
    "\n",
    "    # Extract shape features using edge detection\n",
    "    gray = cv2.cvtColor(img, cv2.COLOR_BGR2GRAY)\n",
    "    edges = cv2.Canny(gray, 100, 200)\n",
    "    edge_features = np.array(edges).flatten()\n",
    "\n",
    "    # Combine the color and shape features into a single feature vector\n",
    "    feature_vector = np.concatenate((color_features, edge_features))\n",
    "\n",
    "    # Normalize the feature vector to have unit length\n",
    "    normalized_feature_vector = feature_vector / np.linalg.norm(feature_vector)\n",
    "    \n",
    "    return normalized_feature_vector\n"
   ]
  },
  {
   "cell_type": "code",
   "execution_count": 68,
   "metadata": {},
   "outputs": [
    {
     "name": "stderr",
     "output_type": "stream",
     "text": [
      "100%|██████████| 2200/2200 [00:07<00:00, 285.06it/s]\n"
     ]
    }
   ],
   "source": [
    "from tqdm import tqdm\n",
    "\n",
    "# Create a list to store the feature vectors\n",
    "icon_features = []\n",
    "\n",
    "df['Icon URL'] = df['Icon URL'].astype(str)\n",
    "\n",
    "# Iterate over the images and extract the features\n",
    "for i, row in tqdm(df.iterrows(), total=df.shape[0]):\n",
    "    feature_vec = preprocess_icon(row['Icon URL'])\n",
    "    icon_features.append((row['Icon URL'], feature_vec))\n",
    "    \n",
    "# Apply PCA to reduce the number of features\n",
    "pca = PCA(n_components=4)\n",
    "pca.fit([f[1] for f in icon_features])\n",
    "reduced_features = pca.transform([f[1] for f in icon_features])\n",
    "\n",
    "# Save the pca instance for later use\n",
    "pickle.dump(pca, open('encoders/icon_pca.pkl', 'wb'))\n",
    "\n",
    "# Convert the reduced features to a dataframe\n",
    "icon_features_df = pd.DataFrame({'Icon URL': [f[0] for f in icon_features],\n",
    "                                    'Icon1': reduced_features[:,0],\n",
    "                                    'Icon2': reduced_features[:,1],\n",
    "                                    'Icon3': reduced_features[:,2],\n",
    "                                    'Icon4': reduced_features[:,3]})"
   ]
  },
  {
   "cell_type": "markdown",
   "metadata": {
    "collapsed": false
   },
   "source": [
    "### Add the icon features to the dataset"
   ]
  },
  {
   "cell_type": "code",
   "execution_count": 69,
   "metadata": {
    "ExecuteTime": {
     "end_time": "2023-04-14T10:53:05.530442Z",
     "start_time": "2023-04-14T10:53:04.975260Z"
    },
    "collapsed": false
   },
   "outputs": [],
   "source": [
    "# Merge the icon features with the original dataframe on the icon URL\n",
    "df = df.merge(icon_features_df, on='Icon URL', how='left')\n",
    "\n",
    "# Drop the icon URL column\n",
    "df = df.drop(['Icon URL'], axis=1)"
   ]
  },
  {
   "cell_type": "code",
   "execution_count": 70,
   "metadata": {},
   "outputs": [],
   "source": [
    "# Save the preprocessed data\n",
    "df.to_csv('preprocessed_data.csv', index=False)"
   ]
  },
  {
   "attachments": {},
   "cell_type": "markdown",
   "metadata": {},
   "source": [
    "## Scaling and Model Training"
   ]
  },
  {
   "cell_type": "code",
   "execution_count": 71,
   "metadata": {},
   "outputs": [],
   "source": [
    "import pandas as pd\n",
    "df = pd.read_csv('preprocessed_data.csv')"
   ]
  },
  {
   "cell_type": "code",
   "execution_count": 72,
   "metadata": {},
   "outputs": [],
   "source": [
    "df_x = df.drop(['Average User Rating'], axis=1)\n",
    "df_y = df['Average User Rating']"
   ]
  },
  {
   "cell_type": "code",
   "execution_count": null,
   "metadata": {},
   "outputs": [],
   "source": [
    "df_x.shape"
   ]
  },
  {
   "attachments": {},
   "cell_type": "markdown",
   "metadata": {},
   "source": [
    "### Feature Scaling"
   ]
  },
  {
   "cell_type": "code",
   "execution_count": 73,
   "metadata": {},
   "outputs": [
    {
     "name": "stdout",
     "output_type": "stream",
     "text": [
      "Series([], dtype: int64)\n"
     ]
    }
   ],
   "source": [
    "# print only the columns with nan values and their count\n",
    "print(df_x.isnull().sum()[df_x.isnull().sum() > 0])"
   ]
  },
  {
   "cell_type": "code",
   "execution_count": 30,
   "metadata": {},
   "outputs": [],
   "source": [
    "# Scale the features\n",
    "from sklearn.preprocessing import StandardScaler\n",
    "\n",
    "cols = df_x.columns\n",
    "\n",
    "scaler = StandardScaler()\n",
    "df_x = scaler.fit_transform(df_x)\n",
    "\n",
    "df_x = pd.DataFrame(df_x, columns=cols)\n",
    "\n",
    "# Save the scaler\n",
    "pickle.dump(scaler, open('scalers/std_scaler.pkl', 'wb'))"
   ]
  },
  {
   "cell_type": "code",
   "execution_count": 74,
   "metadata": {},
   "outputs": [],
   "source": [
    "from sklearn.preprocessing import MinMaxScaler\n",
    "\n",
    "cols = df_x.columns\n",
    "\n",
    "scaler = MinMaxScaler()\n",
    "df_x = scaler.fit_transform(df_x)\n",
    "\n",
    "df_x = pd.DataFrame(df_x, columns=cols)\n",
    "\n",
    "# Save the scaler\n",
    "pickle.dump(scaler, open('scalers/min_max_scaler.pkl', 'wb'))"
   ]
  },
  {
   "cell_type": "code",
   "execution_count": 75,
   "metadata": {},
   "outputs": [
    {
     "data": {
      "image/png": "[encoded data removed]",
      "text/plain": [
       "<Figure size 1000x1000 with 1 Axes>"
      ]
     },
     "metadata": {},
     "output_type": "display_data"
    }
   ],
   "source": [
    "# plot correlation matrix between features and target\n",
    "import seaborn as sns\n",
    "import matplotlib.pyplot as plt\n",
    "\n",
    "corr = df_x.corrwith(df_y)\n",
    "corr = corr.sort_values(ascending=False)\n",
    "plt.figure(figsize=(10, 10))\n",
    "sns.barplot(x=corr.values, y=corr.index)\n",
    "plt.show()"
   ]
  },
  {
   "attachments": {},
   "cell_type": "markdown",
   "metadata": {},
   "source": [
    "### Feature Selection"
   ]
  },
  {
   "cell_type": "code",
   "execution_count": 76,
   "metadata": {},
   "outputs": [],
   "source": [
    "# Feature selection\n",
    "from sklearn.feature_selection import SelectKBest, f_regression\n",
    "selector = SelectKBest(f_regression, k=10)\n",
    "df_x_select =  selector.fit_transform(df_x, df_y)\n",
    "\n",
    "# Save the selector\n",
    "pickle.dump(selector, open('encoders/selector.pkl', 'wb'))"
   ]
  },
  {
   "cell_type": "code",
   "execution_count": 77,
   "metadata": {},
   "outputs": [
    {
     "name": "stdout",
     "output_type": "stream",
     "text": [
      "Developer\n",
      "Original Release Date\n",
      "Current Version Release Date\n",
      "Reviews\n",
      "last_update\n",
      "genre_Board\n",
      "purchases_count\n",
      "highest_purchase\n",
      "Name_PCA_1\n",
      "Icon2\n"
     ]
    }
   ],
   "source": [
    "# Print the selected features\n",
    "for i in range(len(selector.get_support())): \n",
    "    if selector.get_support()[i]:\n",
    "        print(df_x.columns[i])"
   ]
  },
  {
   "attachments": {},
   "cell_type": "markdown",
   "metadata": {},
   "source": [
    "### Linear Regression"
   ]
  },
  {
   "cell_type": "code",
   "execution_count": 78,
   "metadata": {},
   "outputs": [],
   "source": [
    "from sklearn.linear_model import LinearRegression, Ridge, Lasso, ElasticNet\n",
    "from sklearn.preprocessing import PolynomialFeatures\n"
   ]
  },
  {
   "cell_type": "code",
   "execution_count": 79,
   "metadata": {
    "ExecuteTime": {
     "end_time": "2023-04-14T14:40:09.683179Z",
     "start_time": "2023-04-14T14:40:09.629559Z"
    },
    "collapsed": false
   },
   "outputs": [],
   "source": [
    "# Create a linear regression model\n",
    "model = LinearRegression()\n",
    "\n",
    "# Train the model\n",
    "model.fit(df_x_select, df_y)\n",
    "\n",
    "# Save the model\n",
    "pickle.dump(model, open('models/LR_model.pkl', 'wb'))\n"
   ]
  },
  {
   "attachments": {},
   "cell_type": "markdown",
   "metadata": {},
   "source": [
    "### Ridge Regression"
   ]
  },
  {
   "cell_type": "code",
   "execution_count": 80,
   "metadata": {
    "ExecuteTime": {
     "end_time": "2023-04-14T11:00:32.712100Z",
     "start_time": "2023-04-14T11:00:32.642347Z"
    },
    "collapsed": false
   },
   "outputs": [],
   "source": [
    "# Create a ridge regression model\n",
    "model = Ridge(alpha=20)\n",
    "\n",
    "# Train the model\n",
    "model.fit(df_x_select, df_y)\n",
    "\n",
    "# Save the model\n",
    "pickle.dump(model, open('models/Ridge_model.pkl', 'wb'))\n"
   ]
  },
  {
   "attachments": {},
   "cell_type": "markdown",
   "metadata": {},
   "source": [
    "### Lasso Regression"
   ]
  },
  {
   "cell_type": "code",
   "execution_count": 81,
   "metadata": {
    "ExecuteTime": {
     "end_time": "2023-04-14T11:00:35.138470Z",
     "start_time": "2023-04-14T11:00:35.102309Z"
    },
    "collapsed": false
   },
   "outputs": [],
   "source": [
    "# Create a lasso regression model\n",
    "model = Lasso(alpha=0.001)\n",
    "\n",
    "# Train the model\n",
    "model.fit(df_x_select, df_y)\n",
    "\n",
    "# Save the model\n",
    "pickle.dump(model, open('models/Lasso_model.pkl', 'wb'))\n"
   ]
  },
  {
   "attachments": {},
   "cell_type": "markdown",
   "metadata": {},
   "source": [
    "### Elastic Net Regression"
   ]
  },
  {
   "cell_type": "code",
   "execution_count": 82,
   "metadata": {
    "ExecuteTime": {
     "end_time": "2023-04-14T11:00:37.282470Z",
     "start_time": "2023-04-14T11:00:37.226872Z"
    },
    "collapsed": false
   },
   "outputs": [],
   "source": [
    "# Create an elastic net regression model\n",
    "model = ElasticNet(alpha=0.001)\n",
    "\n",
    "# Train the model\n",
    "model.fit(df_x_select, df_y)\n",
    "\n",
    "# Save the model\n",
    "pickle.dump(model, open('models/ElasticNet_model.pkl', 'wb'))\n"
   ]
  },
  {
   "attachments": {},
   "cell_type": "markdown",
   "metadata": {},
   "source": [
    "### Polynomial Regression"
   ]
  },
  {
   "cell_type": "code",
   "execution_count": 83,
   "metadata": {
    "ExecuteTime": {
     "end_time": "2023-04-14T11:02:11.403793Z",
     "start_time": "2023-04-14T11:00:55.155863Z"
    },
    "collapsed": false
   },
   "outputs": [],
   "source": [
    "# Create a polynomial regression model\n",
    "poly = PolynomialFeatures(degree=2)\n",
    "X_train_poly = poly.fit_transform(df_x_select)\n",
    "\n",
    "# Save the polynomial features\n",
    "pickle.dump(poly, open('encoders/poly.pkl', 'wb'))\n",
    "\n",
    "# Train the model\n",
    "model = LinearRegression()\n",
    "model.fit(X_train_poly, df_y)\n",
    "\n",
    "# Save the model\n",
    "pickle.dump(model, open('models/Polynomial_model.pkl', 'wb'))\n"
   ]
  }
 ],
 "metadata": {
  "kernelspec": {
   "display_name": "base",
   "language": "python",
   "name": "python3"
  },
  "language_info": {
   "codemirror_mode": {
    "name": "ipython",
    "version": 3
   },
   "file_extension": ".py",
   "mimetype": "text/x-python",
   "name": "python",
   "nbconvert_exporter": "python",
   "pygments_lexer": "ipython3",
   "version": "3.9.13"
  },
  "vscode": {
   "interpreter": {
    "hash": "57bc2b6ce032b5f0e93daa91901b7ea38a856826ef43aa9e95b6d3999f5310df"
   }
  }
 },
 "nbformat": 4,
 "nbformat_minor": 0
}
