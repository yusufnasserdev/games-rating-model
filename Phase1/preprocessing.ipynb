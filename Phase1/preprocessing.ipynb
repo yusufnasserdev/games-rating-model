{
 "cells": [
  {
   "cell_type": "markdown",
   "source": [
    "# Data Preprocessing"
   ],
   "metadata": {
    "collapsed": false
   }
  },
  {
   "cell_type": "code",
   "execution_count": 1,
   "outputs": [],
   "source": [
    "# Importing the libraries\n",
    "\n",
    "import pandas as pd\n",
    "import numpy as np\n",
    "import matplotlib.pyplot as plt\n",
    "import seaborn as sns\n",
    "\n",
    "import warnings\n",
    "\n",
    "warnings.filterwarnings('ignore')"
   ],
   "metadata": {
    "collapsed": false,
    "ExecuteTime": {
     "start_time": "2023-04-13T16:06:47.423853Z",
     "end_time": "2023-04-13T16:06:47.442878Z"
    }
   }
  },
  {
   "cell_type": "markdown",
   "source": [
    "## Load the dataset"
   ],
   "metadata": {
    "collapsed": false
   }
  },
  {
   "cell_type": "code",
   "execution_count": 2,
   "outputs": [],
   "source": [
    "df = pd.read_csv('games-regression-dataset.csv')"
   ],
   "metadata": {
    "collapsed": false,
    "ExecuteTime": {
     "start_time": "2023-04-13T16:06:49.702036Z",
     "end_time": "2023-04-13T16:06:49.816750Z"
    }
   }
  },
  {
   "cell_type": "markdown",
   "source": [
    "## Setting data types"
   ],
   "metadata": {
    "collapsed": false
   }
  },
  {
   "cell_type": "code",
   "execution_count": 3,
   "outputs": [],
   "source": [
    "# drop Primary Genre\n",
    "# df.drop(['Primary Genre', 'ID'], axis=1, inplace=True)\n",
    "\n",
    "df['Original Release Date'] = pd.to_datetime(df['Original Release Date'], format='%d/%m/%Y')\n",
    "df['Current Version Release Date'] = pd.to_datetime(df['Current Version Release Date'], format='%d/%m/%Y')\n"
   ],
   "metadata": {
    "collapsed": false,
    "ExecuteTime": {
     "start_time": "2023-04-13T16:06:56.180771Z",
     "end_time": "2023-04-13T16:06:56.237116Z"
    }
   }
  },
  {
   "cell_type": "markdown",
   "source": [
    "## Data Exploration"
   ],
   "metadata": {
    "collapsed": false
   }
  },
  {
   "cell_type": "code",
   "execution_count": 4,
   "outputs": [
    {
     "data": {
      "text/plain": "                                                 URL          ID  \\\n0  https://apps.apple.com/us/app/heir-of-light/id...  1264483706   \n1  https://apps.apple.com/us/app/endgame-eurasia/...   607705356   \n2  https://apps.apple.com/us/app/free-solitaire/i...   627491527   \n3  https://apps.apple.com/us/app/draft-trainer/id...   430252596   \n4  https://apps.apple.com/us/app/rogue-knight-inf...  1115082819   \n\n                           Name                       Subtitle  \\\n0                 HEIR OF LIGHT               Dark Fantasy RPG   \n1               Endgame:Eurasia                            NaN   \n2               Free Solitaire+                            NaN   \n3                 Draft Trainer                            NaN   \n4  Rogue Knight: Infested Lands  Tactical roguelike w/ stealth   \n\n                                            Icon URL  User Rating Count  \\\n0  https://is3-ssl.mzstatic.com/image/thumb/Purpl...                982   \n1  https://is4-ssl.mzstatic.com/image/thumb/Purpl...                 19   \n2  https://is5-ssl.mzstatic.com/image/thumb/Purpl...                 14   \n3  https://is1-ssl.mzstatic.com/image/thumb/Purpl...                 88   \n4  https://is2-ssl.mzstatic.com/image/thumb/Purpl...                 13   \n\n   Price                                   In-app Purchases  \\\n0   0.00  29.99, 19.99, 9.99, 29.99, 29.99, 8.99, 4.99, ...   \n1   0.00                                                NaN   \n2   0.00                                                NaN   \n3   1.99                                                NaN   \n4   3.99                                                NaN   \n\n                                         Description           Developer  \\\n0  A Dark Fantasy, Collectible RPG\\n\\nDarkness ha...        GAMEVIL Inc.   \n1  \"This interactive experience is an exploration...  Auroch Digital Ltd   \n2  Same Solitaire game with classic Solitaire run...     Chen Zhong Yuan   \n3  ** Discounted for a limited time **\\n\\nEver wo...     GG Wizards, LLC   \n4  Fight or sneak your way through hordes of mons...       Luis Regueira   \n\n  Age Rating                               Languages       Size Primary Genre  \\\n0        12+  EN, FR, DE, JA, KO, ZH, ES, TH, ZH, VI  894489600         Games   \n1        12+                                      EN  116407296         Games   \n2         4+                                  EN, ZH   50647040         Games   \n3         9+                                      EN   28120064         Games   \n4        12+                                      EN   39915520         Games   \n\n                                 Genres Original Release Date  \\\n0         Games, Role Playing, Strategy            2018-03-06   \n1     Games, Simulation, Strategy, News            2013-03-21   \n2  Games, Strategy, Entertainment, Card            2013-04-04   \n3      Games, Utilities, Card, Strategy            2011-05-26   \n4         Games, Role Playing, Strategy            2017-05-19   \n\n  Current Version Release Date  Average User Rating  \n0                   2019-07-31                  4.0  \n1                   2017-06-28                  3.5  \n2                   2015-04-21                  4.5  \n3                   2019-07-23                  3.5  \n4                   2019-02-06                  4.5  ",
      "text/html": "<div>\n<style scoped>\n    .dataframe tbody tr th:only-of-type {\n        vertical-align: middle;\n    }\n\n    .dataframe tbody tr th {\n        vertical-align: top;\n    }\n\n    .dataframe thead th {\n        text-align: right;\n    }\n</style>\n<table border=\"1\" class=\"dataframe\">\n  <thead>\n    <tr style=\"text-align: right;\">\n      <th></th>\n      <th>URL</th>\n      <th>ID</th>\n      <th>Name</th>\n      <th>Subtitle</th>\n      <th>Icon URL</th>\n      <th>User Rating Count</th>\n      <th>Price</th>\n      <th>In-app Purchases</th>\n      <th>Description</th>\n      <th>Developer</th>\n      <th>Age Rating</th>\n      <th>Languages</th>\n      <th>Size</th>\n      <th>Primary Genre</th>\n      <th>Genres</th>\n      <th>Original Release Date</th>\n      <th>Current Version Release Date</th>\n      <th>Average User Rating</th>\n    </tr>\n  </thead>\n  <tbody>\n    <tr>\n      <th>0</th>\n      <td>https://apps.apple.com/us/app/heir-of-light/id...</td>\n      <td>1264483706</td>\n      <td>HEIR OF LIGHT</td>\n      <td>Dark Fantasy RPG</td>\n      <td>https://is3-ssl.mzstatic.com/image/thumb/Purpl...</td>\n      <td>982</td>\n      <td>0.00</td>\n      <td>29.99, 19.99, 9.99, 29.99, 29.99, 8.99, 4.99, ...</td>\n      <td>A Dark Fantasy, Collectible RPG\\n\\nDarkness ha...</td>\n      <td>GAMEVIL Inc.</td>\n      <td>12+</td>\n      <td>EN, FR, DE, JA, KO, ZH, ES, TH, ZH, VI</td>\n      <td>894489600</td>\n      <td>Games</td>\n      <td>Games, Role Playing, Strategy</td>\n      <td>2018-03-06</td>\n      <td>2019-07-31</td>\n      <td>4.0</td>\n    </tr>\n    <tr>\n      <th>1</th>\n      <td>https://apps.apple.com/us/app/endgame-eurasia/...</td>\n      <td>607705356</td>\n      <td>Endgame:Eurasia</td>\n      <td>NaN</td>\n      <td>https://is4-ssl.mzstatic.com/image/thumb/Purpl...</td>\n      <td>19</td>\n      <td>0.00</td>\n      <td>NaN</td>\n      <td>\"This interactive experience is an exploration...</td>\n      <td>Auroch Digital Ltd</td>\n      <td>12+</td>\n      <td>EN</td>\n      <td>116407296</td>\n      <td>Games</td>\n      <td>Games, Simulation, Strategy, News</td>\n      <td>2013-03-21</td>\n      <td>2017-06-28</td>\n      <td>3.5</td>\n    </tr>\n    <tr>\n      <th>2</th>\n      <td>https://apps.apple.com/us/app/free-solitaire/i...</td>\n      <td>627491527</td>\n      <td>Free Solitaire+</td>\n      <td>NaN</td>\n      <td>https://is5-ssl.mzstatic.com/image/thumb/Purpl...</td>\n      <td>14</td>\n      <td>0.00</td>\n      <td>NaN</td>\n      <td>Same Solitaire game with classic Solitaire run...</td>\n      <td>Chen Zhong Yuan</td>\n      <td>4+</td>\n      <td>EN, ZH</td>\n      <td>50647040</td>\n      <td>Games</td>\n      <td>Games, Strategy, Entertainment, Card</td>\n      <td>2013-04-04</td>\n      <td>2015-04-21</td>\n      <td>4.5</td>\n    </tr>\n    <tr>\n      <th>3</th>\n      <td>https://apps.apple.com/us/app/draft-trainer/id...</td>\n      <td>430252596</td>\n      <td>Draft Trainer</td>\n      <td>NaN</td>\n      <td>https://is1-ssl.mzstatic.com/image/thumb/Purpl...</td>\n      <td>88</td>\n      <td>1.99</td>\n      <td>NaN</td>\n      <td>** Discounted for a limited time **\\n\\nEver wo...</td>\n      <td>GG Wizards, LLC</td>\n      <td>9+</td>\n      <td>EN</td>\n      <td>28120064</td>\n      <td>Games</td>\n      <td>Games, Utilities, Card, Strategy</td>\n      <td>2011-05-26</td>\n      <td>2019-07-23</td>\n      <td>3.5</td>\n    </tr>\n    <tr>\n      <th>4</th>\n      <td>https://apps.apple.com/us/app/rogue-knight-inf...</td>\n      <td>1115082819</td>\n      <td>Rogue Knight: Infested Lands</td>\n      <td>Tactical roguelike w/ stealth</td>\n      <td>https://is2-ssl.mzstatic.com/image/thumb/Purpl...</td>\n      <td>13</td>\n      <td>3.99</td>\n      <td>NaN</td>\n      <td>Fight or sneak your way through hordes of mons...</td>\n      <td>Luis Regueira</td>\n      <td>12+</td>\n      <td>EN</td>\n      <td>39915520</td>\n      <td>Games</td>\n      <td>Games, Role Playing, Strategy</td>\n      <td>2017-05-19</td>\n      <td>2019-02-06</td>\n      <td>4.5</td>\n    </tr>\n  </tbody>\n</table>\n</div>"
     },
     "execution_count": 4,
     "metadata": {},
     "output_type": "execute_result"
    }
   ],
   "source": [
    "df.head()"
   ],
   "metadata": {
    "collapsed": false,
    "ExecuteTime": {
     "start_time": "2023-04-13T16:07:00.127616Z",
     "end_time": "2023-04-13T16:07:00.183708Z"
    }
   }
  },
  {
   "cell_type": "code",
   "execution_count": null,
   "outputs": [],
   "source": [
    "df.info()"
   ],
   "metadata": {
    "collapsed": false,
    "ExecuteTime": {
     "start_time": "2023-04-13T14:33:05.138536Z",
     "end_time": "2023-04-13T14:33:05.138536Z"
    }
   }
  },
  {
   "cell_type": "code",
   "execution_count": null,
   "outputs": [],
   "source": [
    "df.isnull().sum()"
   ],
   "metadata": {
    "collapsed": false,
    "ExecuteTime": {
     "start_time": "2023-04-13T14:33:07.893814Z",
     "end_time": "2023-04-13T14:33:07.893814Z"
    }
   }
  },
  {
   "cell_type": "code",
   "execution_count": null,
   "outputs": [],
   "source": [
    "df['Genres'] = df['Genres'].astype(str)\n",
    "df['Genres'] = df['Genres'].str.strip('[]').str.replace(\"'\", \"\").str.split(\", \")\n",
    "\n",
    "genre_counts = df.explode('Genres').groupby('Genres').size().sort_values(ascending=False)\n",
    "genre_counts\n"
   ],
   "metadata": {
    "collapsed": false,
    "ExecuteTime": {
     "start_time": "2023-04-13T14:33:21.139604Z",
     "end_time": "2023-04-13T14:33:21.139604Z"
    }
   }
  },
  {
   "cell_type": "code",
   "execution_count": null,
   "outputs": [],
   "source": [
    "df['Developer'].value_counts()"
   ],
   "metadata": {
    "collapsed": false,
    "ExecuteTime": {
     "start_time": "2023-04-13T14:33:43.637371Z",
     "end_time": "2023-04-13T14:33:43.637371Z"
    }
   }
  },
  {
   "cell_type": "code",
   "execution_count": null,
   "outputs": [],
   "source": [
    "df['Developer'].unique().size"
   ],
   "metadata": {
    "collapsed": false,
    "ExecuteTime": {
     "start_time": "2023-04-13T14:33:47.598084Z",
     "end_time": "2023-04-13T14:33:47.598084Z"
    }
   }
  },
  {
   "cell_type": "code",
   "execution_count": null,
   "outputs": [],
   "source": [
    "df['Languages'] = df['Languages'].astype(str)\n",
    "\n",
    "df['Languages'] = df['Languages'].str.strip('[]').str.replace(\"'\", \"\").str.split(\", \")\n",
    "\n",
    "langs_counts = df.explode('Languages').groupby('Languages').size().sort_values(ascending=False)\n",
    "langs_counts"
   ],
   "metadata": {
    "collapsed": false,
    "ExecuteTime": {
     "start_time": "2023-04-13T14:33:49.943309Z",
     "end_time": "2023-04-13T14:33:49.943309Z"
    }
   }
  },
  {
   "cell_type": "markdown",
   "source": [
    "## Developer preprocessing"
   ],
   "metadata": {
    "collapsed": false
   }
  },
  {
   "cell_type": "code",
   "execution_count": null,
   "outputs": [],
   "source": [
    "# Convert to string\n",
    "df['Developer'] = df['Developer'].astype(str)\n",
    "df['Developer'] = df['Developer'].str.replace(\"'\", \"\").str.strip('[]')\n",
    "\n",
    "dev_counts = df['Developer'].value_counts()\n",
    "other = dev_counts[dev_counts < 5].index\n",
    "df['Developer'] = df['Developer'].replace(other, 'Other')\n",
    "\n",
    "dev_df = df[['Developer', 'Average User Rating']].groupby('Developer').mean()\n",
    "dev_df['Count'] = df['Developer'].value_counts()\n",
    "\n",
    "dev_df = dev_df.sort_values(by='Count', ascending=False)\n",
    "dev_df"
   ],
   "metadata": {
    "collapsed": false,
    "ExecuteTime": {
     "start_time": "2023-04-13T14:35:42.965142Z",
     "end_time": "2023-04-13T14:35:42.966151Z"
    }
   }
  },
  {
   "cell_type": "code",
   "execution_count": null,
   "outputs": [],
   "source": [
    "# Replace the developer names with the average user rating from dev_df\n",
    "df['Developer'] = df['Developer'].replace(dev_df.index, dev_df['Average User Rating'])\n",
    "df.head()"
   ],
   "metadata": {
    "collapsed": false,
    "ExecuteTime": {
     "start_time": "2023-04-13T14:35:51.115123Z",
     "end_time": "2023-04-13T14:35:51.116129Z"
    }
   }
  },
  {
   "cell_type": "markdown",
   "source": [
    "## Genres preprocessing"
   ],
   "metadata": {
    "collapsed": false
   }
  },
  {
   "cell_type": "code",
   "execution_count": null,
   "outputs": [],
   "source": [
    "from sklearn.feature_extraction.text import CountVectorizer\n",
    "from sklearn.decomposition import PCA\n",
    "\n",
    "# Convert the genres column to a list of strings\n",
    "df['Genres'] = df['Genres'].astype(str)\n",
    "df['Genres'] = df['Genres'].str.strip('[]').str.replace(\"'\", \"\").str.split(\", \")\n",
    "\n",
    "# drop Games, Strategy, Entertainment from the Genres column\n",
    "df['Genres'] = df['Genres'].apply(lambda x: [i for i in x if i not in ['Games', 'Strategy', 'Entertainment']])\n",
    "\n",
    "# Join the list of genres into a single string\n",
    "genres = df['Genres'].apply(lambda x: ' '.join(x))\n",
    "\n",
    "# Create a count Vectorizer and fit it to the genres\n",
    "count_vec = CountVectorizer()\n",
    "bow_genres = count_vec.fit_transform(genres)\n",
    "\n",
    "# Apply principal component analysis to reduce the dimensionality\n",
    "pca = PCA(n_components=10)\n",
    "pca_genres = pca.fit_transform(bow_genres.toarray())\n",
    "\n",
    "# Add the PCA-transformed genres to the original dataframe\n",
    "for i in range(10):\n",
    "    df[f'Genre_PCA_{i}'] = pca_genres[:, i]"
   ],
   "metadata": {
    "collapsed": false,
    "ExecuteTime": {
     "start_time": "2023-04-13T14:38:00.006401Z",
     "end_time": "2023-04-13T14:38:00.006401Z"
    }
   }
  },
  {
   "cell_type": "markdown",
   "source": [
    "## Languages preprocessing"
   ],
   "metadata": {
    "collapsed": false
   }
  },
  {
   "cell_type": "code",
   "execution_count": null,
   "outputs": [],
   "source": [
    "# Convert the genres column to a list of strings\n",
    "df['Languages'] = df['Languages'].astype(str)\n",
    "df['Languages'] = df['Languages'].str.strip('[]').str.replace(\"'\", \"\").str.split(\", \")\n",
    "\n",
    "# drop Games, Strategy, Entertainment from the Genres column\n",
    "df['Languages'] = df['Languages'].apply(lambda x: [j for j in x if j not in ['En']])\n",
    "\n",
    "# Join the list of genres into a single string\n",
    "languages = df['Languages'].apply(lambda x: ' '.join(x))\n",
    "\n",
    "# Create a count Vectorizer and fit it to the genres\n",
    "count_vec = CountVectorizer()\n",
    "bow_languages = count_vec.fit_transform(languages)\n",
    "\n",
    "# Apply principal component analysis to reduce the dimensionality\n",
    "pca = PCA(n_components=10)\n",
    "pca_languages = pca.fit_transform(bow_languages.toarray())\n",
    "\n",
    "# Add the PCA-transformed genres to the original dataframe\n",
    "for i in range(10):\n",
    "    df[f'Languages_PCA_{i}'] = pca_languages[:, i]"
   ],
   "metadata": {
    "collapsed": false,
    "ExecuteTime": {
     "start_time": "2023-04-13T14:39:39.878777Z",
     "end_time": "2023-04-13T14:39:39.878777Z"
    }
   }
  },
  {
   "cell_type": "markdown",
   "source": [
    "## In-app Purchases preprocessing"
   ],
   "metadata": {
    "collapsed": false
   }
  },
  {
   "cell_type": "code",
   "execution_count": null,
   "outputs": [],
   "source": [
    "# Free apps might skew the in-app purchases column,\n",
    "# so we might split the dataset into free and paid apps\n",
    "\n",
    "df['In-app Purchases'] = df['In-app Purchases'].astype(str)\n",
    "df['In-app Purchases'] = df['In-app Purchases'].str.strip('[]').str.replace(\"'\", \"\").str.split(\", \")"
   ],
   "metadata": {
    "collapsed": false,
    "ExecuteTime": {
     "start_time": "2023-04-13T14:39:49.528551Z",
     "end_time": "2023-04-13T14:39:49.528551Z"
    }
   }
  },
  {
   "cell_type": "code",
   "execution_count": null,
   "outputs": [],
   "source": [
    "# Convert to float\n",
    "df['In-app Purchases'] = df['In-app Purchases'].apply(lambda x: [float(i) for i in x])\n",
    "\n",
    "# Get the lowest, highest and average purchase\n",
    "df['Lowest Purchase'] = df['In-app Purchases'].apply(lambda x: min(x) if len(x) > 0 else 0)\n",
    "df['Highest Purchase'] = df['In-app Purchases'].apply(lambda x: max(x) if len(x) > 0 else 0)\n",
    "df['Average Purchase'] = df['In-app Purchases'].apply(lambda x: np.mean(x) if len(x) > 0 else 0)\n"
   ],
   "metadata": {
    "collapsed": false,
    "ExecuteTime": {
     "start_time": "2023-04-13T14:39:52.688360Z",
     "end_time": "2023-04-13T14:39:52.688360Z"
    }
   }
  },
  {
   "cell_type": "code",
   "execution_count": null,
   "outputs": [],
   "source": [
    "# Drop the original column\n",
    "df = df.drop(['In-app Purchases'], axis=1)\n",
    "\n",
    "df['Lowest Purchase'] = df['Lowest Purchase'].fillna(0)\n",
    "df['Highest Purchase'] = df['Highest Purchase'].fillna(0)\n",
    "df['Average Purchase'] = df['Average Purchase'].fillna(0)\n",
    "df.head()"
   ],
   "metadata": {
    "collapsed": false,
    "ExecuteTime": {
     "start_time": "2023-04-13T14:39:53.670730Z",
     "end_time": "2023-04-13T14:39:53.671729Z"
    }
   }
  },
  {
   "cell_type": "markdown",
   "source": [
    "## Age Rating preprocessing"
   ],
   "metadata": {
    "collapsed": false
   }
  },
  {
   "cell_type": "code",
   "execution_count": null,
   "outputs": [],
   "source": [
    "# Convert to string\n",
    "df['Age Rating'] = df['Age Rating'].astype(str)\n",
    "\n",
    "# Remove the + sign\n",
    "df['Age Rating'] = df['Age Rating'].str.replace('+', '')\n",
    "\n",
    "# Convert to int\n",
    "df['Age Rating'] = df['Age Rating'].astype(int)"
   ],
   "metadata": {
    "collapsed": false,
    "ExecuteTime": {
     "start_time": "2023-04-13T14:41:02.119353Z",
     "end_time": "2023-04-13T14:41:02.119353Z"
    }
   }
  },
  {
   "cell_type": "markdown",
   "source": [
    "## Dates preprocessing"
   ],
   "metadata": {
    "collapsed": false
   }
  },
  {
   "cell_type": "code",
   "execution_count": 5,
   "outputs": [
    {
     "data": {
      "text/plain": "                                                 URL          ID  \\\n0  https://apps.apple.com/us/app/heir-of-light/id...  1264483706   \n1  https://apps.apple.com/us/app/endgame-eurasia/...   607705356   \n2  https://apps.apple.com/us/app/free-solitaire/i...   627491527   \n3  https://apps.apple.com/us/app/draft-trainer/id...   430252596   \n4  https://apps.apple.com/us/app/rogue-knight-inf...  1115082819   \n\n                           Name                       Subtitle  \\\n0                 HEIR OF LIGHT               Dark Fantasy RPG   \n1               Endgame:Eurasia                            NaN   \n2               Free Solitaire+                            NaN   \n3                 Draft Trainer                            NaN   \n4  Rogue Knight: Infested Lands  Tactical roguelike w/ stealth   \n\n                                            Icon URL  User Rating Count  \\\n0  https://is3-ssl.mzstatic.com/image/thumb/Purpl...                982   \n1  https://is4-ssl.mzstatic.com/image/thumb/Purpl...                 19   \n2  https://is5-ssl.mzstatic.com/image/thumb/Purpl...                 14   \n3  https://is1-ssl.mzstatic.com/image/thumb/Purpl...                 88   \n4  https://is2-ssl.mzstatic.com/image/thumb/Purpl...                 13   \n\n   Price                                   In-app Purchases  \\\n0   0.00  29.99, 19.99, 9.99, 29.99, 29.99, 8.99, 4.99, ...   \n1   0.00                                                NaN   \n2   0.00                                                NaN   \n3   1.99                                                NaN   \n4   3.99                                                NaN   \n\n                                         Description           Developer  \\\n0  A Dark Fantasy, Collectible RPG\\n\\nDarkness ha...        GAMEVIL Inc.   \n1  \"This interactive experience is an exploration...  Auroch Digital Ltd   \n2  Same Solitaire game with classic Solitaire run...     Chen Zhong Yuan   \n3  ** Discounted for a limited time **\\n\\nEver wo...     GG Wizards, LLC   \n4  Fight or sneak your way through hordes of mons...       Luis Regueira   \n\n  Age Rating                               Languages       Size Primary Genre  \\\n0        12+  EN, FR, DE, JA, KO, ZH, ES, TH, ZH, VI  894489600         Games   \n1        12+                                      EN  116407296         Games   \n2         4+                                  EN, ZH   50647040         Games   \n3         9+                                      EN   28120064         Games   \n4        12+                                      EN   39915520         Games   \n\n                                 Genres  Original Release Date  \\\n0         Games, Role Playing, Strategy                 736759   \n1     Games, Simulation, Strategy, News                 734948   \n2  Games, Strategy, Entertainment, Card                 734962   \n3      Games, Utilities, Card, Strategy                 734283   \n4         Games, Role Playing, Strategy                 736468   \n\n   Current Version Release Date  Average User Rating  \n0                        737271                  4.0  \n1                        736508                  3.5  \n2                        735709                  4.5  \n3                        737263                  3.5  \n4                        737096                  4.5  ",
      "text/html": "<div>\n<style scoped>\n    .dataframe tbody tr th:only-of-type {\n        vertical-align: middle;\n    }\n\n    .dataframe tbody tr th {\n        vertical-align: top;\n    }\n\n    .dataframe thead th {\n        text-align: right;\n    }\n</style>\n<table border=\"1\" class=\"dataframe\">\n  <thead>\n    <tr style=\"text-align: right;\">\n      <th></th>\n      <th>URL</th>\n      <th>ID</th>\n      <th>Name</th>\n      <th>Subtitle</th>\n      <th>Icon URL</th>\n      <th>User Rating Count</th>\n      <th>Price</th>\n      <th>In-app Purchases</th>\n      <th>Description</th>\n      <th>Developer</th>\n      <th>Age Rating</th>\n      <th>Languages</th>\n      <th>Size</th>\n      <th>Primary Genre</th>\n      <th>Genres</th>\n      <th>Original Release Date</th>\n      <th>Current Version Release Date</th>\n      <th>Average User Rating</th>\n    </tr>\n  </thead>\n  <tbody>\n    <tr>\n      <th>0</th>\n      <td>https://apps.apple.com/us/app/heir-of-light/id...</td>\n      <td>1264483706</td>\n      <td>HEIR OF LIGHT</td>\n      <td>Dark Fantasy RPG</td>\n      <td>https://is3-ssl.mzstatic.com/image/thumb/Purpl...</td>\n      <td>982</td>\n      <td>0.00</td>\n      <td>29.99, 19.99, 9.99, 29.99, 29.99, 8.99, 4.99, ...</td>\n      <td>A Dark Fantasy, Collectible RPG\\n\\nDarkness ha...</td>\n      <td>GAMEVIL Inc.</td>\n      <td>12+</td>\n      <td>EN, FR, DE, JA, KO, ZH, ES, TH, ZH, VI</td>\n      <td>894489600</td>\n      <td>Games</td>\n      <td>Games, Role Playing, Strategy</td>\n      <td>736759</td>\n      <td>737271</td>\n      <td>4.0</td>\n    </tr>\n    <tr>\n      <th>1</th>\n      <td>https://apps.apple.com/us/app/endgame-eurasia/...</td>\n      <td>607705356</td>\n      <td>Endgame:Eurasia</td>\n      <td>NaN</td>\n      <td>https://is4-ssl.mzstatic.com/image/thumb/Purpl...</td>\n      <td>19</td>\n      <td>0.00</td>\n      <td>NaN</td>\n      <td>\"This interactive experience is an exploration...</td>\n      <td>Auroch Digital Ltd</td>\n      <td>12+</td>\n      <td>EN</td>\n      <td>116407296</td>\n      <td>Games</td>\n      <td>Games, Simulation, Strategy, News</td>\n      <td>734948</td>\n      <td>736508</td>\n      <td>3.5</td>\n    </tr>\n    <tr>\n      <th>2</th>\n      <td>https://apps.apple.com/us/app/free-solitaire/i...</td>\n      <td>627491527</td>\n      <td>Free Solitaire+</td>\n      <td>NaN</td>\n      <td>https://is5-ssl.mzstatic.com/image/thumb/Purpl...</td>\n      <td>14</td>\n      <td>0.00</td>\n      <td>NaN</td>\n      <td>Same Solitaire game with classic Solitaire run...</td>\n      <td>Chen Zhong Yuan</td>\n      <td>4+</td>\n      <td>EN, ZH</td>\n      <td>50647040</td>\n      <td>Games</td>\n      <td>Games, Strategy, Entertainment, Card</td>\n      <td>734962</td>\n      <td>735709</td>\n      <td>4.5</td>\n    </tr>\n    <tr>\n      <th>3</th>\n      <td>https://apps.apple.com/us/app/draft-trainer/id...</td>\n      <td>430252596</td>\n      <td>Draft Trainer</td>\n      <td>NaN</td>\n      <td>https://is1-ssl.mzstatic.com/image/thumb/Purpl...</td>\n      <td>88</td>\n      <td>1.99</td>\n      <td>NaN</td>\n      <td>** Discounted for a limited time **\\n\\nEver wo...</td>\n      <td>GG Wizards, LLC</td>\n      <td>9+</td>\n      <td>EN</td>\n      <td>28120064</td>\n      <td>Games</td>\n      <td>Games, Utilities, Card, Strategy</td>\n      <td>734283</td>\n      <td>737263</td>\n      <td>3.5</td>\n    </tr>\n    <tr>\n      <th>4</th>\n      <td>https://apps.apple.com/us/app/rogue-knight-inf...</td>\n      <td>1115082819</td>\n      <td>Rogue Knight: Infested Lands</td>\n      <td>Tactical roguelike w/ stealth</td>\n      <td>https://is2-ssl.mzstatic.com/image/thumb/Purpl...</td>\n      <td>13</td>\n      <td>3.99</td>\n      <td>NaN</td>\n      <td>Fight or sneak your way through hordes of mons...</td>\n      <td>Luis Regueira</td>\n      <td>12+</td>\n      <td>EN</td>\n      <td>39915520</td>\n      <td>Games</td>\n      <td>Games, Role Playing, Strategy</td>\n      <td>736468</td>\n      <td>737096</td>\n      <td>4.5</td>\n    </tr>\n  </tbody>\n</table>\n</div>"
     },
     "execution_count": 5,
     "metadata": {},
     "output_type": "execute_result"
    }
   ],
   "source": [
    "# Convert the datetime to ordinal\n",
    "df['Original Release Date'] = df['Original Release Date'].apply(lambda x: x.toordinal())\n",
    "df['Current Version Release Date'] = df['Current Version Release Date'].apply(lambda x: x.toordinal())\n",
    "\n",
    "df.head()\n"
   ],
   "metadata": {
    "collapsed": false,
    "ExecuteTime": {
     "start_time": "2023-04-13T16:07:31.309039Z",
     "end_time": "2023-04-13T16:07:31.357124Z"
    }
   }
  },
  {
   "cell_type": "markdown",
   "source": [
    "## Description preprocessing"
   ],
   "metadata": {
    "collapsed": false
   }
  },
  {
   "cell_type": "code",
   "execution_count": null,
   "outputs": [],
   "source": [
    "# Convert to string\n",
    "df['Description'] = df['Description'].astype(str)"
   ],
   "metadata": {
    "collapsed": false
   }
  },
  {
   "cell_type": "markdown",
   "source": [
    "## Icon preprocessing"
   ],
   "metadata": {
    "collapsed": false
   }
  },
  {
   "cell_type": "markdown",
   "source": [
    "### Download the icons"
   ],
   "metadata": {
    "collapsed": false
   }
  },
  {
   "cell_type": "code",
   "execution_count": null,
   "outputs": [],
   "source": [
    "# Convert to string\n",
    "df['Icon URL'] = df['Icon URL'].astype(str)\n",
    "\n",
    "import requests\n",
    "import os\n",
    "import shutil\n",
    "\n",
    "\n",
    "def download_image(url, filename):\n",
    "    r = requests.get(url, stream=True)\n",
    "    if r.status_code == 200:\n",
    "        with open(filename, 'wb') as f:\n",
    "            r.raw.decode_content = True\n",
    "            shutil.copyfileobj(r.raw, f)\n",
    "\n",
    "\n",
    "# Create a folder to store the images\n",
    "if not os.path.exists('icons'):\n",
    "    os.makedirs('icons')\n",
    "\n",
    "# Download the images\n",
    "for i, row in df.iterrows():\n",
    "    download_image(row['Icon URL'], f'icons/{i}.png')\n",
    "\n"
   ],
   "metadata": {
    "collapsed": false,
    "ExecuteTime": {
     "start_time": "2023-04-13T15:23:14.247478Z",
     "end_time": "2023-04-13T15:23:14.248477Z"
    }
   }
  },
  {
   "cell_type": "code",
   "execution_count": null,
   "outputs": [],
   "source": [
    "import cv2\n",
    "\n",
    "\n",
    "def preprocess_icon(img_path):\n",
    "    # Load the game icon image\n",
    "    img = cv2.imread(img_path)\n",
    "\n",
    "    # Extract color features using color histograms\n",
    "    colors = ('b', 'g', 'r')\n",
    "    color_features = []\n",
    "    for k, col in enumerate(colors):\n",
    "        hist = cv2.calcHist([img], [k], None, [256], [0, 256])\n",
    "        color_features.extend(hist)\n",
    "\n",
    "    # Extract shape features using edge detection\n",
    "    gray = cv2.cvtColor(img, cv2.COLOR_BGR2GRAY)\n",
    "    edges = cv2.Canny(gray, 100, 200)\n",
    "    edge_features = np.array(edges).flatten()\n",
    "\n",
    "    # Combine the color and shape features into a single feature vector\n",
    "    feature_vector = np.concatenate((color_features, edge_features))\n",
    "\n",
    "    # Normalize the feature vector to have unit length\n",
    "    normalized_feature_vector = feature_vector / np.linalg.norm(feature_vector)\n",
    "\n",
    "    return normalized_feature_vector\n",
    "\n",
    "# Create a list to store the feature vectors\n",
    "icon_features = []\n",
    "\n",
    "# Iterate over the images and extract the features\n",
    "for i, row in df.iterrows():\n",
    "    icon_features.append(preprocess_icon(f'icons/{i}.png'))\n",
    "\n",
    "icon_features"
   ],
   "metadata": {
    "collapsed": false
   }
  },
  {
   "cell_type": "markdown",
   "source": [],
   "metadata": {
    "collapsed": false
   }
  },
  {
   "cell_type": "markdown",
   "source": [],
   "metadata": {
    "collapsed": false
   }
  }
 ],
 "metadata": {
  "kernelspec": {
   "display_name": "Python 3",
   "language": "python",
   "name": "python3"
  },
  "language_info": {
   "codemirror_mode": {
    "name": "ipython",
    "version": 2
   },
   "file_extension": ".py",
   "mimetype": "text/x-python",
   "name": "python",
   "nbconvert_exporter": "python",
   "pygments_lexer": "ipython2",
   "version": "2.7.6"
  }
 },
 "nbformat": 4,
 "nbformat_minor": 0
}
