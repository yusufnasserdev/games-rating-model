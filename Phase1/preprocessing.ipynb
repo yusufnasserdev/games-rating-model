{
 "cells": [
  {
   "cell_type": "markdown",
   "metadata": {
    "collapsed": false
   },
   "source": [
    "# Data Preprocessing"
   ]
  },
  {
   "attachments": {},
   "cell_type": "markdown",
   "metadata": {},
   "source": [
    "## Importing the libraries"
   ]
  },
  {
   "cell_type": "code",
   "execution_count": 1,
   "metadata": {
    "ExecuteTime": {
     "end_time": "2023-04-14T14:19:38.839351Z",
     "start_time": "2023-04-14T14:19:38.815268Z"
    },
    "collapsed": false
   },
   "outputs": [
    {
     "name": "stderr",
     "output_type": "stream",
     "text": [
      "[nltk_data] Downloading package stopwords to\n",
      "[nltk_data]     C:\\Users\\Administrator\\AppData\\Roaming\\nltk_data...\n",
      "[nltk_data]   Package stopwords is already up-to-date!\n",
      "[nltk_data] Downloading package wordnet to\n",
      "[nltk_data]     C:\\Users\\Administrator\\AppData\\Roaming\\nltk_data...\n",
      "[nltk_data]   Package wordnet is already up-to-date!\n",
      "[nltk_data] Downloading package omw-1.4 to\n",
      "[nltk_data]     C:\\Users\\Administrator\\AppData\\Roaming\\nltk_data...\n",
      "[nltk_data]   Package omw-1.4 is already up-to-date!\n"
     ]
    }
   ],
   "source": [
    "import pandas as pd\n",
    "import numpy as np\n",
    "import pickle\n",
    "\n",
    "import matplotlib.pyplot as plt\n",
    "import seaborn as sns\n",
    "import cv2\n",
    "\n",
    "from sklearn.feature_extraction.text import CountVectorizer\n",
    "from sklearn.preprocessing import MultiLabelBinarizer\n",
    "from sklearn.decomposition import PCA\n",
    "\n",
    "import nltk\n",
    "from nltk.sentiment import SentimentIntensityAnalyzer\n",
    "from nltk.corpus import stopwords\n",
    "from textblob import TextBlob\n",
    "import re\n",
    "\n",
    "nltk.download('stopwords')\n",
    "nltk.download('wordnet')\n",
    "nltk.download('omw-1.4')\n",
    "\n",
    "from datetime import datetime\n",
    "from tqdm import tqdm\n",
    "from scipy import stats\n",
    "\n",
    "import requests\n",
    "import os\n",
    "import shutil\n",
    "\n",
    "import warnings\n",
    "\n",
    "warnings.filterwarnings('ignore')"
   ]
  },
  {
   "cell_type": "markdown",
   "metadata": {
    "collapsed": false
   },
   "source": [
    "## Load the dataset"
   ]
  },
  {
   "cell_type": "code",
   "execution_count": 2,
   "metadata": {
    "ExecuteTime": {
     "end_time": "2023-04-14T10:33:46.390000Z",
     "start_time": "2023-04-14T10:33:46.279076Z"
    },
    "collapsed": false
   },
   "outputs": [],
   "source": [
    "dateparse = lambda x: datetime.strptime(x, '%d/%m/%Y')\n",
    "\n",
    "df_origin = pd.read_csv('games-regression-dataset.csv', \n",
    "                        parse_dates=['Original Release Date' , 'Current Version Release Date'], \n",
    "                        date_parser=dateparse)"
   ]
  },
  {
   "attachments": {},
   "cell_type": "markdown",
   "metadata": {
    "collapsed": false
   },
   "source": [
    "## Download the icons"
   ]
  },
  {
   "cell_type": "code",
   "execution_count": 3,
   "metadata": {},
   "outputs": [
    {
     "name": "stderr",
     "output_type": "stream",
     "text": [
      "100%|██████████| 5214/5214 [00:01<00:00, 4962.53it/s]\n"
     ]
    }
   ],
   "source": [
    "# Convert to string\n",
    "df_origin['Icon URL'] = df_origin['Icon URL'].astype(str)\n",
    "\n",
    "# Download the images\n",
    "def download_image(url, filename):\n",
    "    r = requests.get(url, stream=True)\n",
    "    if r.status_code == 200:\n",
    "        with open(filename, 'wb') as f:\n",
    "            r.raw.decode_content = True\n",
    "            shutil.copyfileobj(r.raw, f)\n",
    "\n",
    "\n",
    "# Create a folder to store the images\n",
    "if not os.path.exists('icons'):\n",
    "    os.makedirs('icons')\n",
    "\n",
    "# Download the images if they don't exist\n",
    "for i, row in tqdm(df_origin.iterrows(), total=df_origin.shape[0]):\n",
    "    if not os.path.exists('icons/' + str(i) + '.png'):\n",
    "        download_image(row['Icon URL'], 'icons/' + str(i) + '.png')\n",
    "        \n",
    "# Replace the URL with the icon filename which is the index of the row\n",
    "df_origin['Icon URL'] = df_origin.apply(lambda row : f'icons/{row.name}.png', axis=1)"
   ]
  },
  {
   "attachments": {},
   "cell_type": "markdown",
   "metadata": {},
   "source": [
    "## Sentiment Analysis for reviews"
   ]
  },
  {
   "attachments": {},
   "cell_type": "markdown",
   "metadata": {},
   "source": [
    "### web scraping on Reviews URLs"
   ]
  },
  {
   "cell_type": "code",
   "execution_count": 3,
   "metadata": {},
   "outputs": [],
   "source": [
    "def webScrapping(data):\n",
    "    data = pd.DataFrame(columns = [\"ID\",\"Reviews\"])\n",
    "    # Read CSV file\n",
    "    # with open('games-regression-dataset.csv', newline='') as csvfile:\n",
    "    with open('games-regression-dataset.csv', newline='') as csvfile:\n",
    "        reader = csv.reader(csvfile)\n",
    "        next(reader)  # Skip header row\n",
    "        for row in reader:\n",
    "            url = row[0]  # URL is in first column\n",
    "            filename = 'Reviews/'+os.path.basename(url)  # Extract filename from URL\n",
    "            url +=  \"?see-all=reviews\"\n",
    "            response = requests.get(url)\n",
    "            if response.status_code == 200:  # Check if request was successful\n",
    "                soup = BeautifulSoup(response.text, 'html.parser')\n",
    "                blocks = soup.findAll(\"blockquote\")\n",
    "                review_list = []\n",
    "                for blockquote in blocks:\n",
    "                    review = blockquote.find('p').text\n",
    "                    review_list.append(review)\n",
    "                if len(review_list)!=0:\n",
    "                    filename = re.sub(r'[^\\d]+', '', filename)\n",
    "                    new_row = {'ID': filename,\"Reviews\": review_list}\n",
    "                    data = data._append(new_row, ignore_index=True)\n",
    "    # data.to_csv('Reviews.csv', index=False)\n",
    "    return data\n"
   ]
  },
  {
   "cell_type": "code",
   "execution_count": 4,
   "metadata": {},
   "outputs": [
    {
     "name": "stderr",
     "output_type": "stream",
     "text": [
      "[nltk_data] Downloading package stopwords to\n",
      "[nltk_data]     C:\\Users\\Administrator\\AppData\\Roaming\\nltk_data...\n",
      "[nltk_data]   Package stopwords is already up-to-date!\n",
      "[nltk_data] Downloading package punkt to\n",
      "[nltk_data]     C:\\Users\\Administrator\\AppData\\Roaming\\nltk_data...\n",
      "[nltk_data]   Package punkt is already up-to-date!\n",
      "[nltk_data] Downloading package wordnet to\n",
      "[nltk_data]     C:\\Users\\Administrator\\AppData\\Roaming\\nltk_data...\n",
      "[nltk_data]   Package wordnet is already up-to-date!\n",
      "[nltk_data] Downloading package vader_lexicon to\n",
      "[nltk_data]     C:\\Users\\Administrator\\AppData\\Roaming\\nltk_data...\n",
      "[nltk_data]   Package vader_lexicon is already up-to-date!\n"
     ]
    }
   ],
   "source": [
    "nltk.download('stopwords')\n",
    "nltk.download('punkt')\n",
    "nltk.download('wordnet')\n",
    "nltk.download('vader_lexicon')\n",
    "stop_words = set(stopwords.words('english'))"
   ]
  },
  {
   "attachments": {},
   "cell_type": "markdown",
   "metadata": {},
   "source": [
    "### Splitting reviews"
   ]
  },
  {
   "attachments": {},
   "cell_type": "markdown",
   "metadata": {},
   "source": [
    "### Preprocessing reviews\n"
   ]
  },
  {
   "cell_type": "code",
   "execution_count": 5,
   "metadata": {},
   "outputs": [],
   "source": [
    "def preprocessing_reviews(data):\n",
    "  # Convert text to lowercase\n",
    "  data['Reviews'] = data['Reviews'].apply(lambda x: str(x).lower())\n",
    "\n",
    "  # Replace newline characters with an empty string\n",
    "  data['Reviews'] = data['Reviews'].apply(lambda x: re.sub(r'\\\\n', ' ', x))\n",
    "\n",
    "  # Remove black squares\n",
    "  data['Reviews'] = data['Reviews'].apply(lambda x: re.sub(r'\\\\u25a0', '', x))\n",
    "\n",
    "  # Remove special characters and punctuations\n",
    "  data['Reviews'] = data['Reviews'].apply(lambda x: re.sub(r'[^\\w\\s]+', '', x))\n",
    "\n",
    "  # Remove numbers\n",
    "  data['Reviews'] = data['Reviews'].apply(lambda x: \" \".join([word for word in x.split() if not any(char.isdigit() for char in word)]))\n",
    "\n",
    "  # Remove extra whitespaces\n",
    "  data['Reviews'] = data['Reviews'].apply(lambda x: re.sub(r'\\s+', ' ', x))\n",
    "\n",
    "  # Remove stop words\n",
    "  data['Reviews'] = data['Reviews'].apply(lambda x: \" \".join([word for word in x.lower().split() if word not in stop_words]))\n",
    "\n",
    "  # Remove empty strings\n",
    "  data = data[data['Reviews'].apply(lambda x: len(x)>0)]\n",
    "  return data"
   ]
  },
  {
   "attachments": {},
   "cell_type": "markdown",
   "metadata": {},
   "source": [
    "### Vader-model"
   ]
  },
  {
   "cell_type": "code",
   "execution_count": 6,
   "metadata": {},
   "outputs": [],
   "source": [
    "sia_reviews = SentimentIntensityAnalyzer()\n",
    "pickle.dump(sia_reviews, open('encoders/sia_reviews.pkl', 'wb'))\n",
    "def Sentiment_reviews(data):\n",
    "  data['Reviews'] = data['Reviews'].apply(lambda x: dict(sia_reviews.polarity_scores(x))['compound'])\n",
    "  return data\n"
   ]
  },
  {
   "attachments": {},
   "cell_type": "markdown",
   "metadata": {},
   "source": [
    "### Get compound average & Group by id\n"
   ]
  },
  {
   "cell_type": "code",
   "execution_count": null,
   "metadata": {},
   "outputs": [],
   "source": [
    "\n",
    "def reviews_preprocess(data):\n",
    "  \n",
    "  reviews =webScrapping(data)\n",
    "  reviews =preprocessing_reviews(reviews)\n",
    "  reviews = Sentiment_reviews(reviews)\n",
    "  \n",
    "\n",
    "  reviews = reviews.groupby('ID')['Reviews'].apply(list).reset_index()\n",
    "  # Get the lowest, highest and average Reviews\n",
    "  reviews['lowest_review'] = reviews['Reviews'].apply(lambda x: min(x) if len(x) > 0 else 0)\n",
    "  reviews['highest_review'] = reviews['Reviews'].apply(lambda x: max(x) if len(x) > 0 else 0)\n",
    "  reviews['average_review'] = reviews['Reviews'].apply(lambda x: np.mean(x) if len(x) > 0 else 0)\n",
    "  reviews = reviews.drop(['Reviews'],axis=1)\n",
    "  reviews.to_csv('reviews_results.csv', index=False)\n",
    "  ## Merge The Sentiment with ba2i el table\n",
    "  data = data.merge(reviews, on='ID', how='left')\n",
    "  ## Drop nulls of sentiment\n",
    "  data = data.dropna(subset=['lowest_review','highest_review','average_review'])\n",
    "  return data"
   ]
  },
  {
   "cell_type": "markdown",
   "metadata": {
    "collapsed": false
   },
   "source": [
    "## Data Exploration"
   ]
  },
  {
   "attachments": {},
   "cell_type": "markdown",
   "metadata": {},
   "source": [
    "### General information"
   ]
  },
  {
   "cell_type": "code",
   "execution_count": null,
   "metadata": {
    "ExecuteTime": {
     "end_time": "2023-04-13T16:07:00.183708Z",
     "start_time": "2023-04-13T16:07:00.127616Z"
    },
    "collapsed": false
   },
   "outputs": [],
   "source": [
    "df.head()"
   ]
  },
  {
   "cell_type": "code",
   "execution_count": null,
   "metadata": {
    "ExecuteTime": {
     "end_time": "2023-04-13T14:33:05.138536Z",
     "start_time": "2023-04-13T14:33:05.138536Z"
    },
    "collapsed": false
   },
   "outputs": [],
   "source": [
    "df.info()"
   ]
  },
  {
   "cell_type": "code",
   "execution_count": null,
   "metadata": {
    "ExecuteTime": {
     "end_time": "2023-04-13T14:33:07.893814Z",
     "start_time": "2023-04-13T14:33:07.893814Z"
    },
    "collapsed": false
   },
   "outputs": [],
   "source": [
    "df.isnull().sum()"
   ]
  },
  {
   "attachments": {},
   "cell_type": "markdown",
   "metadata": {},
   "source": [
    "### Genres"
   ]
  },
  {
   "cell_type": "code",
   "execution_count": null,
   "metadata": {
    "ExecuteTime": {
     "end_time": "2023-04-13T14:33:21.139604Z",
     "start_time": "2023-04-13T14:33:21.139604Z"
    },
    "collapsed": false
   },
   "outputs": [],
   "source": [
    "def genres_analysis(_df):\n",
    "    _df['Genres'] = _df['Genres'].astype(str)\n",
    "    _df['Genres'] = _df['Genres'].str.strip('[]').str.replace(\"'\", \"\").str.split(\", \")\n",
    "\n",
    "    genre_counts = _df.explode('Genres').groupby('Genres').size().sort_values(ascending=False)\n",
    "    print(genre_counts)\n"
   ]
  },
  {
   "attachments": {},
   "cell_type": "markdown",
   "metadata": {},
   "source": [
    "### Developer"
   ]
  },
  {
   "cell_type": "code",
   "execution_count": null,
   "metadata": {
    "ExecuteTime": {
     "end_time": "2023-04-13T14:33:43.637371Z",
     "start_time": "2023-04-13T14:33:43.637371Z"
    },
    "collapsed": false
   },
   "outputs": [],
   "source": [
    "def dev_analysis(_df):\n",
    "\n",
    "    print(_df['Developer'].value_counts())\n",
    "    \n",
    "    # print the number developers with more than 1 game\n",
    "    print(len(_df['Developer'].value_counts()[_df['Developer'].value_counts() > 1]))\n",
    "\n",
    "    print(_df['Developer'].unique().size)"
   ]
  },
  {
   "attachments": {},
   "cell_type": "markdown",
   "metadata": {},
   "source": [
    "### Dates"
   ]
  },
  {
   "cell_type": "code",
   "execution_count": null,
   "metadata": {},
   "outputs": [],
   "source": [
    "def date_analysis(_df):\n",
    "    # Plot the distribution of the date columns\n",
    "\n",
    "    fig, ax = plt.subplots(5, 2, figsize=(20, 20))\n",
    "\n",
    "    # df = date_preprocessing(df)\n",
    "\n",
    "    # game_age distribution\n",
    "    sns.histplot(_df['game_age'], ax=ax[0, 0])\n",
    "    sns.boxplot(_df['game_age'], ax=ax[0, 1], orient='h')\n",
    "\n",
    "    # last_update distribution\n",
    "    sns.histplot(_df['last_update'], ax=ax[1, 0])\n",
    "    sns.boxplot(_df['last_update'], ax=ax[1, 1], orient='h')\n",
    "\n",
    "    # Original Release Date distribution\n",
    "    sns.histplot(_df['Original Release Date'], ax=ax[2, 0])\n",
    "    sns.boxplot(_df['Original Release Date'], ax=ax[2, 1], orient='h')\n",
    "\n",
    "    # Current Version Release Date distribution\n",
    "    sns.histplot(_df['Current Version Release Date'], ax=ax[3, 0])\n",
    "    sns.boxplot(_df['Current Version Release Date'], ax=ax[3, 1], orient='h')\n",
    "\n",
    "    # maintaning_period distribution\n",
    "    sns.histplot(_df['maintaning_period'], ax=ax[4, 0])\n",
    "    sns.boxplot(_df['maintaning_period'], ax=ax[4, 1], orient='h')\n",
    "\n",
    "    plt.show()\n",
    "\n",
    "# Date outliers are legitimate data points that are worth keeping, they are not errors nor anomalies"
   ]
  },
  {
   "attachments": {},
   "cell_type": "markdown",
   "metadata": {},
   "source": [
    "### Languages"
   ]
  },
  {
   "cell_type": "code",
   "execution_count": null,
   "metadata": {
    "ExecuteTime": {
     "end_time": "2023-04-13T14:33:49.943309Z",
     "start_time": "2023-04-13T14:33:49.943309Z"
    },
    "collapsed": false
   },
   "outputs": [],
   "source": [
    "def lang_analysis(_df):\n",
    "    _df['Languages'] = _df['Languages'].astype(str)\n",
    "    _df['Languages'] = _df['Languages'].str.strip('[]').str.replace(\"'\", \"\").str.split(\", \")\n",
    "\n",
    "    langs_counts = _df.explode('Languages').groupby('Languages').size().sort_values(ascending=False)\n",
    "    print(langs_counts[1:30])\n"
   ]
  },
  {
   "cell_type": "code",
   "execution_count": null,
   "metadata": {},
   "outputs": [],
   "source": [
    "df.hist(figsize=(15, 15))"
   ]
  },
  {
   "cell_type": "markdown",
   "metadata": {
    "collapsed": false
   },
   "source": [
    "## Dates preprocessing"
   ]
  },
  {
   "cell_type": "code",
   "execution_count": 7,
   "metadata": {
    "ExecuteTime": {
     "end_time": "2023-04-14T10:36:05.737187Z",
     "start_time": "2023-04-14T10:36:05.699973Z"
    },
    "collapsed": false
   },
   "outputs": [],
   "source": [
    "def date_preprocess(_df):\n",
    "    # Convert the datetime to ordinal\n",
    "    _df['Original Release Date'] = _df['Original Release Date'].apply(lambda x: x.toordinal())\n",
    "    _df['Current Version Release Date'] = _df['Current Version Release Date'].apply(lambda x: x.toordinal())\n",
    "    \n",
    "    # Create a new column with the age of the game\n",
    "    _df['game_age'] = datetime.now().toordinal() - _df['Original Release Date']\n",
    "\n",
    "    # Create a new column with the time since the last update\n",
    "    _df['last_update'] = datetime.now().toordinal() - _df['Current Version Release Date']\n",
    "    \n",
    "    # Create a new column with the maintaning period\n",
    "    _df['maintaning_period'] = _df['last_update'] - _df['game_age']\n",
    "\n",
    "    return _df"
   ]
  },
  {
   "cell_type": "markdown",
   "metadata": {
    "collapsed": false
   },
   "source": [
    "## Developer preprocessing"
   ]
  },
  {
   "attachments": {},
   "cell_type": "markdown",
   "metadata": {},
   "source": [
    "### Target encoding approach"
   ]
  },
  {
   "cell_type": "code",
   "execution_count": 5,
   "metadata": {
    "ExecuteTime": {
     "end_time": "2023-04-14T10:35:14.110217Z",
     "start_time": "2023-04-14T10:35:13.123201Z"
    },
    "collapsed": false
   },
   "outputs": [],
   "source": [
    "def dev_preprocess_target_enc(_df):\n",
    "    # Convert to string\n",
    "    _df['Developer'] = _df['Developer'].astype(str)\n",
    "    _df['Developer'] = _df['Developer'].str.replace(\"'\", \"\").str.strip('[]')\n",
    "\n",
    "    # Replace the developer names with less than 2 games with 'Other'\n",
    "    dev_counts = _df['Developer'].value_counts()\n",
    "    other = dev_counts[dev_counts < 2].index\n",
    "    \n",
    "    # Drop rows with developers in other\n",
    "    # _df = _df[~_df['Developer'].isin(other)]\n",
    "    \n",
    "    _df['Developer'] = _df['Developer'].replace(other, 'Other')\n",
    "\n",
    "    # Get the average user rating for all the developers that have more than 1 game\n",
    "    mean = _df.groupby('Developer').filter(lambda x: len(x) > 1)['Average User Rating'].mean()\n",
    "    \n",
    "    dev_df = _df[['Developer', 'Average User Rating']].groupby('Developer').mean()\n",
    "    \n",
    "    # Replace the value of 'Other' with the mean\n",
    "    dev_df.loc['Other'] = mean\n",
    "\n",
    "    # Save dev_df to be used on the test set\n",
    "    dev_df.to_csv('encoders/dev_avg.csv')\n",
    "\n",
    "    # Replace the developer names with the average user rating from dev_df\n",
    "    _df['dev_avg'] = _df['Developer'].replace(dev_df.index, dev_df['Average User Rating'])\n",
    "    \n",
    "    return _df"
   ]
  },
  {
   "attachments": {},
   "cell_type": "markdown",
   "metadata": {},
   "source": [
    "### Frequency encoding approach"
   ]
  },
  {
   "cell_type": "code",
   "execution_count": 6,
   "metadata": {},
   "outputs": [],
   "source": [
    "# Frequency encoding\n",
    "\n",
    "def dev_preprocess_freq_enc(_df):\n",
    "    # Convert to string\n",
    "    _df['Developer'] = _df['Developer'].astype(str)\n",
    "    _df['Developer'] = _df['Developer'].str.replace(\"'\", \"\").str.strip('[]')\n",
    "    \n",
    "    # Get the frequency of each developer\n",
    "    dev_freqs = pd.value_counts(_df['Developer']).reset_index()\n",
    "    dev_freqs.columns = ['Developer', 'Frequency']\n",
    "    \n",
    "    # Save dev_freqs to be used on the test set\n",
    "    dev_freqs.to_csv('encoders/dev_freq.csv', index=False)\n",
    "    \n",
    "    # Create a dictionary mapping developers to frequencies\n",
    "    dev_freq_dict = dict(zip(dev_freqs['Developer'], dev_freqs['Frequency']))\n",
    "\n",
    "    # Create a new column with the frequency of each developer\n",
    "    _df['dev_freq'] = _df['Developer'].map(dev_freq_dict)\n",
    "        \n",
    "    return _df\n"
   ]
  },
  {
   "cell_type": "markdown",
   "metadata": {
    "collapsed": false
   },
   "source": [
    "## Genres preprocessing"
   ]
  },
  {
   "attachments": {},
   "cell_type": "markdown",
   "metadata": {},
   "source": [
    "### 1. NLP approach (Bag of Words)"
   ]
  },
  {
   "cell_type": "code",
   "execution_count": 7,
   "metadata": {
    "ExecuteTime": {
     "end_time": "2023-04-14T10:35:21.245168Z",
     "start_time": "2023-04-14T10:35:20.885068Z"
    },
    "collapsed": false
   },
   "outputs": [],
   "source": [
    "def genres_preprocess_bow(_df):\n",
    "    # Convert the genres column to a list of strings\n",
    "    _df['Genres'] = _df['Genres'].astype(str)\n",
    "    _df['Genres'] = _df['Genres'].str.strip('[]').str.replace(\"'\", \"\").str.split(\", \")\n",
    "\n",
    "    # drop Games, Strategy, Entertainment from the Genres column\n",
    "    _df['Genres'] = _df['Genres'].apply(lambda x: [genre for genre in x if genre not in ['Games', 'Strategy', 'Entertainment']])\n",
    "\n",
    "    # Join the list of genres into a single string\n",
    "    genres = _df['Genres'].apply(lambda x: ' '.join(x))\n",
    "\n",
    "    # Create a count Vectorizer and fit it to the genres\n",
    "    count_vec = CountVectorizer()\n",
    "    bow_genres = count_vec.fit_transform(genres)\n",
    "    \n",
    "    # Save the count vectorizer to be used on the test set\n",
    "    pickle.dump(count_vec, open('encoders/count_vec.pkl', 'wb'))\n",
    "\n",
    "    # Apply principal component analysis to reduce the dimensionality\n",
    "    pca = PCA(n_components=10)\n",
    "    pca_genres = pca.fit_transform(bow_genres.toarray())\n",
    "\n",
    "    # Add the PCA-transformed genres to the original dataframe\n",
    "    for i in range(10):\n",
    "        _df[f'genreN_{i}'] = pca_genres[:, i]\n",
    "\n",
    "    return _df"
   ]
  },
  {
   "attachments": {},
   "cell_type": "markdown",
   "metadata": {},
   "source": [
    "### 2. Dummy variables approach"
   ]
  },
  {
   "cell_type": "code",
   "execution_count": 8,
   "metadata": {},
   "outputs": [],
   "source": [
    "def genres_preprocess_dummies(_df):\n",
    "    # Convert the genres column to a list of strings\n",
    "    _df['Genres'] = _df['Genres'].astype(str)\n",
    "    _df['Genres'] = _df['Genres'].str.strip('[]').str.replace(\"'\", \"\").str.split(\", \")\n",
    "    \n",
    "    # drop Games, Strategy, Entertainment from the Genres column\n",
    "    _df['Genres'] = _df['Genres'].apply(lambda x: [genre for genre in x if genre not in ['Games', 'Strategy', 'Entertainment']])\n",
    "    \n",
    "    # Replace genres with counts less than 100 with 'infrequent' as it would represent a very small percentage of the data (less than 2%)\n",
    "    threshold = _df.shape[0] * 0.02\n",
    "    \n",
    "    other = _df['Genres'].explode().value_counts()[_df['Genres'].explode().value_counts() < threshold].index\n",
    "    _df['Genres'] = _df['Genres'].apply(lambda x: [genre if genre not in other else 'infrequent' for genre in x])\n",
    "    \n",
    "    # Get dummy variables for the genres\n",
    "    genres = pd.get_dummies(_df['Genres'].apply(pd.Series).stack(), prefix=\"genre\", dummy_na=False).sum(level=0)\n",
    "    \n",
    "    # Save the genres dummies to be used on the test set\n",
    "    genres.to_csv('encoders/genres.csv', index=False)\n",
    "    \n",
    "    # Add the dummy variables to the original dataframe\n",
    "    _df = pd.concat([_df, genres], axis=1)\n",
    "    \n",
    "    # Fill the NaN values with 0\n",
    "    genre_cols = [col for col in _df.columns if col.startswith('genre')] # get all columns with prefix 'genre'\n",
    "    _df[genre_cols] = _df[genre_cols].fillna(0) # fill the NaN values with 0\n",
    "    \n",
    "    return _df"
   ]
  },
  {
   "attachments": {},
   "cell_type": "markdown",
   "metadata": {},
   "source": [
    "### 3. Multi-label binarizer"
   ]
  },
  {
   "cell_type": "code",
   "execution_count": 9,
   "metadata": {},
   "outputs": [],
   "source": [
    "def genres_preprocessing_mlb(_df):\n",
    "    # Convert the genres column to a list of strings\n",
    "    _df['Genres'] = _df['Genres'].astype(str)\n",
    "    _df['Genres'] = _df['Genres'].str.strip('[]').str.replace(\"'\", \"\").str.split(\", \")\n",
    "\n",
    "    # drop Games, Strategy, Entertainment from the Genres column\n",
    "    _df['Genres'] = _df['Genres'].apply(lambda x: [genre for genre in x if genre not in ['Games', 'Strategy', 'Entertainment']])\n",
    "\n",
    "    # Replace genres with counts less than 100 with 'infrequent' as it would represent a very small percentage of the data (less than 2%)\n",
    "    threshold = _df.shape[0] * 0.02\n",
    "\n",
    "    other = _df['Genres'].explode().value_counts()[_df['Genres'].explode().value_counts() < threshold].index\n",
    "    _df['Genres'] = _df['Genres'].apply(lambda x: [genre if genre not in other else 'infrequent_genre' for genre in x])\n",
    "\n",
    "    # Instantiate the MultiLabelBinarizer\n",
    "    mlb = MultiLabelBinarizer()\n",
    "\n",
    "    # Fit the MultiLabelBinarizer to the genres\n",
    "    mlb.fit(_df['Genres'])\n",
    "\n",
    "    # Drop nan from the classes\n",
    "    mlb.classes_ = np.delete(mlb.classes_, np.where(mlb.classes_ == 'nan'))\n",
    "\n",
    "    # Save the mlb for later use with the test data\n",
    "    pickle.dump(mlb, open('encoders/mlb_genres.pkl', 'wb'))\n",
    "\n",
    "    # Transform the genres into a one-hot encoded array\n",
    "    genres_mlb = mlb.transform(_df['Genres'])\n",
    "\n",
    "    # Create a dataframe from the one-hot encoded array\n",
    "    genres_mlb_df = pd.DataFrame(genres_mlb, columns=mlb.classes_)\n",
    "\n",
    "    # Add the one-hot encoded genres to the original dataframe\n",
    "    _df = pd.concat([_df, genres_mlb_df], axis=1)\n",
    "    \n",
    "    return _df"
   ]
  },
  {
   "cell_type": "markdown",
   "metadata": {
    "collapsed": false
   },
   "source": [
    "## Languages preprocessing"
   ]
  },
  {
   "attachments": {},
   "cell_type": "markdown",
   "metadata": {},
   "source": [
    "### 1. NLP approach"
   ]
  },
  {
   "cell_type": "code",
   "execution_count": 10,
   "metadata": {
    "ExecuteTime": {
     "end_time": "2023-04-14T10:35:38.695352Z",
     "start_time": "2023-04-14T10:35:38.599717Z"
    },
    "collapsed": false
   },
   "outputs": [],
   "source": [
    "def lang_preprocessing_bow(_df):\n",
    "    # Convert the langs column to a list of strings\n",
    "    _df['Languages'] = _df['Languages'].astype(str)\n",
    "    _df['Languages'] = _df['Languages'].str.strip('[]').str.replace(\"'\", \"\").str.split(\", \")\n",
    "    \n",
    "    # drop English from the Languages column\n",
    "    _df['Languages'] = _df['Languages'].apply(lambda x: [lang for lang in x if lang not in ['EN']])\n",
    "    \n",
    "    # Join the list of langs into a single string\n",
    "    languages = _df['Languages'].apply(lambda x: ' '.join(x))\n",
    "    \n",
    "    # Create a count Vectorizer and fit it to the langs\n",
    "    count_vec = CountVectorizer()\n",
    "    bow_languages = count_vec.fit_transform(languages)\n",
    "    \n",
    "    # Save the count vectorizer to be used on the test set\n",
    "    pickle.dump(count_vec, open('encoders/count_vec_lang.pkl', 'wb'))\n",
    "    \n",
    "    # Apply principal component analysis to reduce the dimensionality\n",
    "    pca = PCA(n_components=10)\n",
    "    pca_languages = pca.fit_transform(bow_languages.toarray())\n",
    "    \n",
    "    # Save the pca to be used on the test set\n",
    "    pickle.dump(pca, open('encoders/pca_lang.pkl', 'wb'))\n",
    "    \n",
    "    # Add the PCA-transformed langs to the original dataframe\n",
    "    for i in range(len(pca_languages[0])):\n",
    "        _df[f'lang_{i}'] = pca_languages[:, i]\n",
    "        \n",
    "    return _df\n"
   ]
  },
  {
   "attachments": {},
   "cell_type": "markdown",
   "metadata": {},
   "source": [
    "### 2. Dummy variables approach"
   ]
  },
  {
   "cell_type": "code",
   "execution_count": 11,
   "metadata": {},
   "outputs": [],
   "source": [
    "def langs_preprocess_dummies(_df):\n",
    "    # Convert the langs column to a list of strings\n",
    "    _df['Languages'] = _df['Languages'].astype(str)\n",
    "    _df['Languages'] = _df['Languages'].str.strip('[]').str.replace(\"'\", \"\").str.split(\", \")\n",
    "    \n",
    "    # Create a column with the number of languages supported\n",
    "    _df['langs_count'] = _df['Languages'].apply(lambda x: len(x)) \n",
    "    \n",
    "    # drop English from the Languages column\n",
    "    _df['Languages'] = _df['Languages'].apply(lambda x: [lang for lang in x if lang not in ['EN']])\n",
    "    \n",
    "    # Replace languages with counts less than 100 with 'infrequent' as it would represent a very small percentage of the data (less than 10%)\n",
    "    threshold = _df.shape[0] * 0.1\n",
    "    \n",
    "    # Replace langs with counts less than 500 with 'infrequent_langs' as it would represent a very small percentage of the data (less than 10%)\n",
    "    other = _df['Languages'].explode().value_counts()[_df['Languages'].explode().value_counts() < threshold].index\n",
    "    _df['Languages'] = _df['Languages'].apply(lambda x: [lang if lang not in other else 'infrequent' for lang in x])\n",
    "\n",
    "    # Get dummy variables for the langs\n",
    "    langs = pd.get_dummies(_df['Languages'].apply(pd.Series).stack(), prefix='lang', dummy_na=False).sum(level=0)\n",
    "\n",
    "    langs.to_csv('encoders/langs.csv', index=False)\n",
    "\n",
    "    # Add the dummy variables to the original dataframe\n",
    "    _df = pd.concat([_df, langs], axis=1)\n",
    "\n",
    "    # Fill NaN with 0\n",
    "    lang_cols = [col for col in _df.columns if col.startswith('lang')] # get all columns with prefix 'lang'\n",
    "    _df[lang_cols] = _df[lang_cols].fillna(0) # fill NaN with 0 for selected columns\n",
    "    \n",
    "    return _df\n",
    "    \n",
    "    "
   ]
  },
  {
   "attachments": {},
   "cell_type": "markdown",
   "metadata": {},
   "source": [
    "### 3. Multi-label binarizer"
   ]
  },
  {
   "cell_type": "code",
   "execution_count": 12,
   "metadata": {},
   "outputs": [],
   "source": [
    "def lang_preprocess_mlb(_df):\n",
    "    # Convert the langs column to a list of strings\n",
    "    _df['Languages'] = _df['Languages'].astype(str)\n",
    "    _df['Languages'] = _df['Languages'].str.strip('[]').str.replace(\"'\", \"\").str.split(\", \")\n",
    "\n",
    "    # Create a column with the number of languages supported\n",
    "    _df['langs_count'] = _df['Languages'].apply(lambda x: len(x))\n",
    "\n",
    "    # Drop the English language from the Languages column (it is the most common language and would dominate the model)\n",
    "    _df['Languages'] = _df['Languages'].apply(lambda x: [lang for lang in x if lang not in ['EN']])\n",
    "\n",
    "    # Replace langs with counts less than 500 with 'infrequent_langs' as it would represent a very small percentage of the data (less than 10%)\n",
    "    other = _df['Languages'].explode().value_counts()[df['Languages'].explode().value_counts() < 400].index\n",
    "    _df['Languages'] = _df['Languages'].apply(lambda x: [lang if lang not in other else 'infrequent_lang' for lang in x])\n",
    "\n",
    "    # Instantiate the MultiLabelBinarizer\n",
    "    mlb = MultiLabelBinarizer()\n",
    "\n",
    "    # Fit the MultiLabelBinarizer to the langs\n",
    "    mlb.fit(_df['Languages'])\n",
    "\n",
    "    # Drop nan from the classes\n",
    "    mlb.classes_ = np.delete(mlb.classes_, np.where(mlb.classes_ == 'nan'))\n",
    "\n",
    "    # Save the mlb for later use with the test data\n",
    "    pickle.dump(mlb, open('encoders/mlb_langs.pkl', 'wb'))\n",
    "\n",
    "    # Transform the langs into a one-hot encoded array\n",
    "    langs_mlb = mlb.transform(_df['Languages'])\n",
    "\n",
    "    # Create a dataframe from the one-hot encoded array\n",
    "    langs_mlb_df = pd.DataFrame(langs_mlb, columns=mlb.classes_)\n",
    "\n",
    "    # Add the encoded langs to the original dataframe\n",
    "    _df = pd.concat([_df, langs_mlb_df], axis=1)\n",
    "    \n",
    "    return _df"
   ]
  },
  {
   "cell_type": "markdown",
   "metadata": {
    "collapsed": false
   },
   "source": [
    "## In-app Purchases preprocessing"
   ]
  },
  {
   "cell_type": "code",
   "execution_count": 13,
   "metadata": {
    "ExecuteTime": {
     "end_time": "2023-04-14T10:35:52.935497Z",
     "start_time": "2023-04-14T10:35:52.881403Z"
    },
    "collapsed": false
   },
   "outputs": [],
   "source": [
    "# Free apps might skew the in-app purchases column,\n",
    "# so we might split the dataset into free and paid apps\n",
    "\n",
    "def purchases_preprocess(_df):\n",
    "    # Convert the In-app Purchases column to a list of floats\n",
    "    _df['In-app Purchases'] = _df['In-app Purchases'].astype(str)\n",
    "    _df['In-app Purchases'] = _df['In-app Purchases'].str.strip('[]').str.replace(\"'\", \"\").str.split(\", \")\n",
    "\n",
    "    # Convert to float\n",
    "    _df['In-app Purchases'] = _df['In-app Purchases'].apply(lambda x: [float(i) for i in x])\n",
    "\n",
    "    # Get the number of in-app purchases\n",
    "    _df['purchases_count'] = _df['In-app Purchases'].apply(lambda x: len(x))\n",
    "\n",
    "    # Get the lowest, highest and average purchase\n",
    "    _df['lowest_purchase'] = _df['In-app Purchases'].apply(lambda x: min(x) if len(x) > 0 else 0)\n",
    "    _df['highest_purchase'] = _df['In-app Purchases'].apply(lambda x: max(x) if len(x) > 0 else 0)\n",
    "    _df['average_purchase'] = _df['In-app Purchases'].apply(lambda x: np.mean(x) if len(x) > 0 else 0)\n",
    "\n",
    "    _df['lowest_purchase'] = _df['lowest_purchase'].fillna(0)\n",
    "    _df['highest_purchase'] = _df['highest_purchase'].fillna(0)\n",
    "    _df['average_purchase'] = _df['average_purchase'].fillna(0)\n",
    "    \n",
    "    return _df"
   ]
  },
  {
   "cell_type": "markdown",
   "metadata": {
    "collapsed": false
   },
   "source": [
    "## Age Rating preprocessing"
   ]
  },
  {
   "cell_type": "code",
   "execution_count": 14,
   "metadata": {
    "ExecuteTime": {
     "end_time": "2023-04-14T10:36:03.614263Z",
     "start_time": "2023-04-14T10:36:03.579637Z"
    },
    "collapsed": false
   },
   "outputs": [],
   "source": [
    "def age_preprocess(_df):\n",
    "    # Convert to string\n",
    "    _df['Age Rating'] = _df['Age Rating'].astype(str)\n",
    "\n",
    "    # Remove the + sign\n",
    "    _df['Age Rating'] = _df['Age Rating'].str.replace('+', '')\n",
    "\n",
    "    # Convert to int\n",
    "    _df['Age Rating'] = _df['Age Rating'].astype(float)\n",
    "    \n",
    "    return _df"
   ]
  },
  {
   "cell_type": "markdown",
   "metadata": {
    "collapsed": false
   },
   "source": [
    "## NLP preprocessing"
   ]
  },
  {
   "cell_type": "code",
   "execution_count": 15,
   "metadata": {
    "ExecuteTime": {
     "end_time": "2023-04-14T10:43:13.386866Z",
     "start_time": "2023-04-14T10:43:13.386866Z"
    },
    "collapsed": false
   },
   "outputs": [],
   "source": [
    "def preprocess_nlp(_df, col):\n",
    "    # Convert to string\n",
    "    _df[col] = _df[col].astype(str)\n",
    "\n",
    "    # Remove URLs and email addresses\n",
    "    _df[col] = _df[col].apply(lambda x: re.sub(r'http\\S+|www.\\S+|\\S+@\\S+', '', x))\n",
    "\n",
    "    # Remove the punctuation, numbers, and convert to lowercase\n",
    "    _df[col] = _df[col].apply(lambda x: \" \".join(re.findall(r'\\w+', x.lower())))\n",
    "\n",
    "    # Remove the stopwords\n",
    "    stop = stopwords.words('english')\n",
    "    _df[col] = _df[col].apply(lambda x: \" \".join(x for x in x.split() if x not in stop))\n",
    "\n",
    "    # Stemming\n",
    "    st = nltk.PorterStemmer()\n",
    "    _df[col] = _df[col].apply(lambda x: \" \".join([st.stem(word) for word in x.split()]))\n",
    "\n",
    "    # Lemmatization\n",
    "    lem = nltk.WordNetLemmatizer()\n",
    "    _df[col] = _df[col].apply(lambda x: \" \".join([lem.lemmatize(word) for word in x.split()]))\n",
    "\n",
    "    # Remove the frequent and rare words\n",
    "    freq = pd.Series(' '.join(_df[col]).split()).value_counts()\n",
    "    common_freq = list(freq[:10].index)\n",
    "    rare_freq = list(freq[-10:].index)\n",
    "    _df[col] = _df[col].apply(lambda x: \" \".join(x for x in x.split() if x not in common_freq+rare_freq))\n",
    "\n",
    "    # Remove the whitespaces\n",
    "    _df[col] = _df[col].apply(lambda x: \" \".join(x.strip() for x in x.split()))\n",
    "\n",
    "    # Replace NaN values with empty string\n",
    "    _df[col] = _df[col].fillna('')\n",
    "\n",
    "    # Convert text data to bag-of-words representation\n",
    "    vectorizer = CountVectorizer()\n",
    "    BoW = vectorizer.fit_transform(_df[col])\n",
    "\n",
    "    # Apply principal component analysis to reduce the dimensionality\n",
    "    pca_ = PCA(n_components=2)\n",
    "    pca_col = pca_.fit_transform(BoW.toarray())\n",
    "    \n",
    "    # Save the vectorizer and pca for later use with the test data\n",
    "    pickle.dump(vectorizer, open(f'encoders/vectorizer_{col}.pkl', 'wb'))\n",
    "    pickle.dump(pca_, open(f'encoders/pca_{col}.pkl', 'wb'))\n",
    "\n",
    "    # Add the PCA-transformed col to the original dataframe\n",
    "    for feat in range(len(pca_col[0])):\n",
    "        _df[f'{col}_PCA_{feat}'] = pca_col[:, feat]\n",
    "        \n",
    "    return _df\n",
    "\n"
   ]
  },
  {
   "cell_type": "code",
   "execution_count": 16,
   "metadata": {},
   "outputs": [],
   "source": [
    "sia_name = SentimentIntensityAnalyzer()\n",
    "pickle.dump(sia_name, open('encoders/sia_name.pkl', 'wb'))\n",
    "\n",
    "sia_sub = SentimentIntensityAnalyzer()\n",
    "pickle.dump(sia_sub, open('encoders/sia_sub.pkl', 'wb'))\n",
    "\n",
    "# load the Sentiment Intensity Analyzer model from NLTK\n",
    "sia_desc = SentimentIntensityAnalyzer()\n",
    "pickle.dump(sia_desc, open('encoders/sia_desc.pkl', 'wb'))\n",
    "\n",
    "tokenizer = nltk.word_tokenize\n",
    "pickle.dump(nltk.word_tokenize, open('encoders/nltk_word_tokenize.pkl', 'wb'))"
   ]
  },
  {
   "attachments": {},
   "cell_type": "markdown",
   "metadata": {},
   "source": [
    "## Description preprocessing"
   ]
  },
  {
   "cell_type": "code",
   "execution_count": 17,
   "metadata": {},
   "outputs": [],
   "source": [
    "\n",
    "def compute_excitement_score(text, _sia):\n",
    "    \n",
    "    # compute the polarity scores for the given text\n",
    "    scores = _sia.polarity_scores(text)\n",
    "    \n",
    "    # compute the excitement score as the sum of the positive and negative polarity scores\n",
    "    excitement_score = scores['pos'] + abs(scores['neg'])\n",
    "    \n",
    "    return excitement_score\n",
    "\n",
    "# define a function to compute an attractive score from a given text\n",
    "def compute_attractive_score(text):\n",
    "    # define a list of keywords that might make a game attractive to users\n",
    "    attractive_keywords = ['graphics', 'gameplay', 'storyline', 'characters']\n",
    "    \n",
    "    # tokenize the text into words and count how many attractive keywords appear\n",
    "    words = tokenizer(text.lower())\n",
    "    \n",
    "    num_attractive_keywords = len([word for word in words if word in attractive_keywords])\n",
    "    \n",
    "    # compute the attractive score as the ratio of attractive keywords to total words\n",
    "    attractive_score = num_attractive_keywords / len(words) if len(words) > 0 else 0\n",
    "    \n",
    "    return attractive_score\n",
    "\n",
    "def desc_preprocess(_df):\n",
    "    _df['Description'] = _df['Description'].astype(str)\n",
    "    \n",
    "    _df['excitement_score'] = _df['Description'].apply(lambda x : compute_excitement_score(x, sia_desc))\n",
    "    _df['attractive_score'] = _df['Description'].apply(compute_attractive_score)\n",
    "    \n",
    "    return _df\n",
    "\n",
    "def name_preprocess(_df):\n",
    "    _df['Name'] = _df['Name'].astype(str)\n",
    "    _df['name_sia'] = _df['Name'].apply(lambda x : compute_excitement_score(x, sia_name))\n",
    "    \n",
    "    return _df\n",
    "\n",
    "def sub_preprocess(_df):\n",
    "    _df['Subtitle'] = _df['Subtitle'].astype(str)\n",
    "    _df['sub_sia'] = _df['Subtitle'].apply(lambda x : compute_excitement_score(x, sia_sub))\n",
    "    \n",
    "    return _df"
   ]
  },
  {
   "attachments": {},
   "cell_type": "markdown",
   "metadata": {
    "collapsed": false
   },
   "source": [
    "## Icon preprocessing"
   ]
  },
  {
   "cell_type": "code",
   "execution_count": 18,
   "metadata": {
    "ExecuteTime": {
     "end_time": "2023-04-14T10:52:48.299695Z",
     "start_time": "2023-04-14T10:52:13.578629Z"
    },
    "collapsed": false
   },
   "outputs": [],
   "source": [
    "def preprocess_icon(img_path):\n",
    "    # Load the game icon image\n",
    "    img = cv2.imread(img_path)\n",
    "    img = cv2.resize(img, (100, 100))\n",
    "\n",
    "    # Extract color features using color histograms\n",
    "    colors = ('b', 'g', 'r')\n",
    "    color_features = []\n",
    "    for k, col in enumerate(colors):\n",
    "        hist = cv2.calcHist([img], [k], None, [256], [0, 256])\n",
    "        color_features.append(hist)\n",
    "\n",
    "    # Reshape the color features to have a single dimension\n",
    "    color_features = np.concatenate(color_features).ravel()\n",
    "\n",
    "    # Extract shape features using edge detection\n",
    "    gray = cv2.cvtColor(img, cv2.COLOR_BGR2GRAY)\n",
    "    edges = cv2.Canny(gray, 100, 200)\n",
    "    edge_features = np.array(edges).flatten()\n",
    "\n",
    "    # Combine the color and shape features into a single feature vector\n",
    "    feature_vector = np.concatenate((color_features, edge_features))\n",
    "\n",
    "    # Normalize the feature vector to have unit length\n",
    "    normalized_feature_vector = feature_vector / np.linalg.norm(feature_vector)\n",
    "    \n",
    "    return normalized_feature_vector\n"
   ]
  },
  {
   "cell_type": "code",
   "execution_count": 19,
   "metadata": {},
   "outputs": [],
   "source": [
    "def icons_preprocess(_df):\n",
    "\n",
    "    # Create a list to store the feature vectors\n",
    "    icon_features = []\n",
    "\n",
    "    _df['Icon URL'] = _df['Icon URL'].astype(str)\n",
    "\n",
    "    # Iterate over the images and extract the features\n",
    "    for i, row in tqdm(_df.iterrows(), total=_df.shape[0]):\n",
    "        feature_vec = preprocess_icon(row['Icon URL'])\n",
    "        icon_features.append((row['Icon URL'], feature_vec))\n",
    "        \n",
    "    # Apply PCA to reduce the number of features\n",
    "    pca = PCA(n_components=4)\n",
    "    pca.fit([f[1] for f in icon_features])\n",
    "    reduced_features = pca.transform([f[1] for f in icon_features])\n",
    "\n",
    "    # Save the pca instance for later use\n",
    "    pickle.dump(pca, open('encoders/icon_pca.pkl', 'wb'))\n",
    "\n",
    "    # Convert the reduced features to a dataframe\n",
    "    icon_features_df = pd.DataFrame({'Icon URL': [f[0] for f in icon_features],\n",
    "                                        'Icon1': reduced_features[:,0],\n",
    "                                        'Icon2': reduced_features[:,1],\n",
    "                                        'Icon3': reduced_features[:,2],\n",
    "                                        'Icon4': reduced_features[:,3]})\n",
    "    \n",
    "    # Merge the icon features with the original dataframe on the icon URL\n",
    "    _df = _df.merge(icon_features_df, on='Icon URL', how='left')\n",
    "    \n",
    "    return _df"
   ]
  },
  {
   "attachments": {},
   "cell_type": "markdown",
   "metadata": {},
   "source": [
    "## Pipeline"
   ]
  },
  {
   "cell_type": "code",
   "execution_count": 20,
   "metadata": {},
   "outputs": [
    {
     "name": "stderr",
     "output_type": "stream",
     "text": [
      "100%|██████████| 4171/4171 [00:57<00:00, 72.14it/s]\n"
     ]
    }
   ],
   "source": [
    "from sklearn.model_selection import train_test_split\n",
    "\n",
    "df, df_test = train_test_split(df_origin, test_size=0.2, random_state=42)\n",
    "df_test.to_csv('df_test.csv', index=False)\n",
    "\n",
    "# drop Primary Genre\n",
    "df.drop(['Primary Genre', 'ID', 'URL'], axis=1, inplace=True)\n",
    "\n",
    "## Justifications\n",
    "\n",
    "### Primary Genre: it is mostly 'Game' (around 98% of the data has 'Game' as the primary genre). It is not useful for the model.\n",
    "### ID: it is just an ID for the apple store database, not useful for the model.\n",
    "### URL: it is the URL of the app in the apple store, not useful for the model.\n",
    "\n",
    "df = date_preprocess(df)\n",
    "\n",
    "df = dev_preprocess_freq_enc(df)\n",
    "\n",
    "df = dev_preprocess_target_enc(df)\n",
    "\n",
    "df = genres_preprocess_dummies(df)\n",
    "\n",
    "df = langs_preprocess_dummies(df)\n",
    "\n",
    "df = purchases_preprocess(df)\n",
    "\n",
    "df = age_preprocess(df)\n",
    "\n",
    "df = preprocess_nlp(df, 'Description')\n",
    "df = preprocess_nlp(df, 'Subtitle')\n",
    "df = preprocess_nlp(df, 'Name')\n",
    "df = icons_preprocess(df)\n",
    "\n",
    "df = desc_preprocess(df)\n",
    "df = name_preprocess(df)\n",
    "df = sub_preprocess(df)\n",
    "\n",
    "df = df.drop(['Developer',\n",
    "              'Original Release Date',\n",
    "              'Current Version Release Date',\n",
    "              'Genres',\n",
    "              'Languages' ,\n",
    "              'In-app Purchases',\n",
    "              'Description',\n",
    "              'Subtitle',\n",
    "              'Name', \n",
    "              'Icon URL'], axis=1)\n",
    "\n",
    "# Save the preprocessed data\n",
    "df.to_csv('preprocessed_data.csv', index=False)"
   ]
  },
  {
   "cell_type": "code",
   "execution_count": 21,
   "metadata": {},
   "outputs": [
    {
     "name": "stdout",
     "output_type": "stream",
     "text": [
      "showing info https://raw.githubusercontent.com/nltk/nltk_data/gh-pages/index.xml\n"
     ]
    },
    {
     "data": {
      "text/plain": [
       "True"
      ]
     },
     "execution_count": 21,
     "metadata": {},
     "output_type": "execute_result"
    }
   ],
   "source": [
    "nltk.download()"
   ]
  },
  {
   "attachments": {},
   "cell_type": "markdown",
   "metadata": {},
   "source": [
    "## Scaling and Model Training"
   ]
  },
  {
   "cell_type": "code",
   "execution_count": 29,
   "metadata": {},
   "outputs": [],
   "source": [
    "df = pd.read_csv('preprocessed_data.csv')"
   ]
  },
  {
   "cell_type": "code",
   "execution_count": null,
   "metadata": {},
   "outputs": [],
   "source": [
    "def eliminate_outliers(_df):\n",
    "\n",
    "    # Calculate Z-scores for each data point\n",
    "    z_scores = np.abs(stats.zscore(_df))\n",
    "\n",
    "    # Define a threshold to identify an outlier\n",
    "    threshold = 3\n",
    "\n",
    "    # Get a list of row numbers which are outliers\n",
    "    outlier_rows = np.where(z_scores > threshold)[0]\n",
    "\n",
    "    print(f'Number of outliers: {len(outlier_rows)}')\n",
    "\n",
    "    # Replace the outliers with the mean\n",
    "    mean_values = np.mean(_df[~((z_scores > threshold).any(axis=1))], axis=0)\n",
    "    _df[~((z_scores > threshold).any(axis=1))] = _df[~((z_scores > threshold).any(axis=1))].fillna(mean_values)\n",
    "    \n",
    "    return _df"
   ]
  },
  {
   "cell_type": "code",
   "execution_count": 38,
   "metadata": {},
   "outputs": [],
   "source": [
    "df_x = df.drop(['Average User Rating'], axis=1)\n",
    "df_y = df['Average User Rating']"
   ]
  },
  {
   "attachments": {},
   "cell_type": "markdown",
   "metadata": {},
   "source": [
    "### Feature Scaling"
   ]
  },
  {
   "cell_type": "code",
   "execution_count": 22,
   "metadata": {},
   "outputs": [],
   "source": [
    "# Scale the features\n",
    "from sklearn.preprocessing import StandardScaler, MinMaxScaler\n",
    "\n",
    "def scale_data_std(_df):\n",
    "    cols = _df.columns\n",
    "    scaler = StandardScaler()\n",
    "    _df = scaler.fit_transform(_df)\n",
    "    \n",
    "    # Save the scaler\n",
    "    pickle.dump(scaler, open('scalers/std_scaler.pkl', 'wb'))\n",
    "    \n",
    "    _df = pd.DataFrame(_df, columns=cols)\n",
    "    return _df\n",
    "\n",
    "def scale_data_minmax(_df):\n",
    "    cols = _df.columns\n",
    "    scaler = MinMaxScaler()\n",
    "    _df = scaler.fit_transform(_df)\n",
    "    \n",
    "    # Save the scaler\n",
    "    pickle.dump(scaler, open('scalers/minmax_scaler.pkl', 'wb'))\n",
    "    \n",
    "    _df = pd.DataFrame(_df, columns=cols)\n",
    "    return _df\n"
   ]
  },
  {
   "cell_type": "code",
   "execution_count": null,
   "metadata": {},
   "outputs": [],
   "source": [
    "# sns.heatmap(df_x.corr(), annot=True, fmt='.2f', cmap='coolwarm')"
   ]
  },
  {
   "cell_type": "code",
   "execution_count": 23,
   "metadata": {},
   "outputs": [
    {
     "data": {
      "text/plain": [
       "<AxesSubplot: >"
      ]
     },
     "execution_count": 23,
     "metadata": {},
     "output_type": "execute_result"
    },
    {
     "data": {
      "image/png": "[encoded data removed]",
      "text/plain": [
       "<Figure size 1000x1000 with 1 Axes>"
      ]
     },
     "metadata": {},
     "output_type": "display_data"
    }
   ],
   "source": [
    "# plot correlation matrix between features and target\n",
    "import seaborn as sns\n",
    "import matplotlib.pyplot as plt\n",
    "\n",
    "corr = df_x.corrwith(df_y)\n",
    "corr = corr.sort_values(ascending=False)\n",
    "\n",
    "plt.figure(figsize=(10, 10))\n",
    "sns.barplot(x=corr.values, y=corr.index)\n",
    "# plt.show()"
   ]
  },
  {
   "attachments": {},
   "cell_type": "markdown",
   "metadata": {},
   "source": [
    "### Feature Selection"
   ]
  },
  {
   "cell_type": "code",
   "execution_count": 39,
   "metadata": {},
   "outputs": [],
   "source": [
    "df_x = scale_data_std(df_x)\n",
    "\n",
    "# Feature selection\n",
    "from sklearn.feature_selection import SelectKBest, f_regression\n",
    "selector = SelectKBest(f_regression, k=20)\n",
    "df_x_select =  selector.fit_transform(df_x, df_y)\n",
    "\n",
    "# Save the selector\n",
    "pickle.dump(selector, open('encoders/selector.pkl', 'wb'))"
   ]
  },
  {
   "cell_type": "code",
   "execution_count": 40,
   "metadata": {},
   "outputs": [
    {
     "name": "stdout",
     "output_type": "stream",
     "text": [
      "User Rating Count\n",
      "Size\n",
      "game_age\n",
      "last_update\n",
      "dev_freq\n",
      "dev_avg\n",
      "genre_Board\n",
      "genre_Puzzle\n",
      "genre_Simulation\n",
      "lang_JA\n",
      "purchases_count\n",
      "highest_purchase\n",
      "average_purchase\n",
      "Subtitle_PCA_0\n",
      "Subtitle_PCA_1\n",
      "Name_PCA_0\n",
      "Name_PCA_1\n",
      "Icon2\n",
      "Icon3\n",
      "sub_sia\n"
     ]
    }
   ],
   "source": [
    "# Print the selected features\n",
    "for i in range(len(selector.get_support())): \n",
    "    if selector.get_support()[i]:\n",
    "        print(df_x.columns[i])"
   ]
  },
  {
   "attachments": {},
   "cell_type": "markdown",
   "metadata": {},
   "source": [
    "### Linear Regression"
   ]
  },
  {
   "cell_type": "code",
   "execution_count": 41,
   "metadata": {},
   "outputs": [],
   "source": [
    "from sklearn.linear_model import LinearRegression, Ridge, Lasso, ElasticNet\n",
    "from sklearn.preprocessing import PolynomialFeatures\n",
    "from sklearn.metrics import mean_squared_error, r2_score\n"
   ]
  },
  {
   "cell_type": "code",
   "execution_count": 42,
   "metadata": {
    "ExecuteTime": {
     "end_time": "2023-04-14T14:40:09.683179Z",
     "start_time": "2023-04-14T14:40:09.629559Z"
    },
    "collapsed": false
   },
   "outputs": [
    {
     "name": "stdout",
     "output_type": "stream",
     "text": [
      "Training MSE:  0.3742051898830494\n",
      "Training R2:  0.33522805949611745\n"
     ]
    }
   ],
   "source": [
    "# Create a linear regression model\n",
    "model = LinearRegression()\n",
    "\n",
    "# Train the model\n",
    "model.fit(df_x_select, df_y)\n",
    "\n",
    "# Print the training MSE and R2 score\n",
    "print('Training MSE: ', mean_squared_error(df_y, model.predict(df_x_select)))\n",
    "print('Training R2: ', r2_score(df_y, model.predict(df_x_select)))\n",
    "\n",
    "# Save the model\n",
    "pickle.dump(model, open('models/LR_model.pkl', 'wb'))\n",
    "\n"
   ]
  },
  {
   "attachments": {},
   "cell_type": "markdown",
   "metadata": {},
   "source": [
    "### Ridge Regression"
   ]
  },
  {
   "cell_type": "code",
   "execution_count": 43,
   "metadata": {
    "ExecuteTime": {
     "end_time": "2023-04-14T11:00:32.712100Z",
     "start_time": "2023-04-14T11:00:32.642347Z"
    },
    "collapsed": false
   },
   "outputs": [
    {
     "name": "stdout",
     "output_type": "stream",
     "text": [
      "Training MSE:  0.37421034145580917\n",
      "Training R2:  0.3352189077763853\n"
     ]
    }
   ],
   "source": [
    "# Create a ridge regression model\n",
    "model = Ridge(alpha=20)\n",
    "\n",
    "# Train the model\n",
    "model.fit(df_x_select, df_y)\n",
    "\n",
    "# Print the training MSE and R2 score\n",
    "print('Training MSE: ', mean_squared_error(df_y, model.predict(df_x_select)))\n",
    "print('Training R2: ', r2_score(df_y, model.predict(df_x_select)))\n",
    "\n",
    "# Save the model\n",
    "pickle.dump(model, open('models/Ridge_model.pkl', 'wb'))\n"
   ]
  },
  {
   "attachments": {},
   "cell_type": "markdown",
   "metadata": {},
   "source": [
    "### Lasso Regression"
   ]
  },
  {
   "cell_type": "code",
   "execution_count": 44,
   "metadata": {
    "ExecuteTime": {
     "end_time": "2023-04-14T11:00:35.138470Z",
     "start_time": "2023-04-14T11:00:35.102309Z"
    },
    "collapsed": false
   },
   "outputs": [
    {
     "name": "stdout",
     "output_type": "stream",
     "text": [
      "Training MSE:  0.37425973084115527\n",
      "Training R2:  0.33513116800573406\n"
     ]
    }
   ],
   "source": [
    "# Create a lasso regression model\n",
    "model = Lasso(alpha=0.001)\n",
    "\n",
    "# Train the model\n",
    "model.fit(df_x_select, df_y)\n",
    "\n",
    "print('Training MSE: ', mean_squared_error(df_y, model.predict(df_x_select)))\n",
    "print('Training R2: ', r2_score(df_y, model.predict(df_x_select)))\n",
    "\n",
    "# Save the model\n",
    "pickle.dump(model, open('models/Lasso_model.pkl', 'wb'))\n"
   ]
  },
  {
   "attachments": {},
   "cell_type": "markdown",
   "metadata": {},
   "source": [
    "### Elastic Net Regression"
   ]
  },
  {
   "cell_type": "code",
   "execution_count": 45,
   "metadata": {
    "ExecuteTime": {
     "end_time": "2023-04-14T11:00:37.282470Z",
     "start_time": "2023-04-14T11:00:37.226872Z"
    },
    "collapsed": false
   },
   "outputs": [
    {
     "name": "stdout",
     "output_type": "stream",
     "text": [
      "Training MSE:  0.37421993355623895\n",
      "Training R2:  0.33520186750172154\n"
     ]
    }
   ],
   "source": [
    "# Create an elastic net regression model\n",
    "model = ElasticNet(alpha=0.001)\n",
    "\n",
    "# Train the model\n",
    "model.fit(df_x_select, df_y)\n",
    "\n",
    "print('Training MSE: ', mean_squared_error(df_y, model.predict(df_x_select)))\n",
    "print('Training R2: ', r2_score(df_y, model.predict(df_x_select)))\n",
    "\n",
    "# Save the model\n",
    "pickle.dump(model, open('models/ElasticNet_model.pkl', 'wb'))\n"
   ]
  },
  {
   "attachments": {},
   "cell_type": "markdown",
   "metadata": {},
   "source": [
    "### Polynomial Regression"
   ]
  },
  {
   "cell_type": "code",
   "execution_count": 46,
   "metadata": {
    "ExecuteTime": {
     "end_time": "2023-04-14T11:02:11.403793Z",
     "start_time": "2023-04-14T11:00:55.155863Z"
    },
    "collapsed": false
   },
   "outputs": [
    {
     "name": "stdout",
     "output_type": "stream",
     "text": [
      "Training MSE:  0.3480479362254433\n",
      "Training R2:  0.38169617042117865\n"
     ]
    }
   ],
   "source": [
    "# Create a polynomial regression model\n",
    "poly = PolynomialFeatures(degree=2)\n",
    "X_train_poly = poly.fit_transform(df_x_select)\n",
    "\n",
    "# Save the polynomial features\n",
    "pickle.dump(poly, open('encoders/poly.pkl', 'wb'))\n",
    "\n",
    "# Train the model\n",
    "model = LinearRegression()\n",
    "model.fit(X_train_poly, df_y)\n",
    "\n",
    "print('Training MSE: ', mean_squared_error(df_y, model.predict(X_train_poly)))\n",
    "print('Training R2: ', r2_score(df_y, model.predict(X_train_poly)))\n",
    "\n",
    "# Save the model\n",
    "pickle.dump(model, open('models/Polynomial_model.pkl', 'wb'))\n"
   ]
  },
  {
   "attachments": {},
   "cell_type": "markdown",
   "metadata": {},
   "source": [
    "### XGBoost"
   ]
  },
  {
   "cell_type": "code",
   "execution_count": 47,
   "metadata": {},
   "outputs": [
    {
     "name": "stdout",
     "output_type": "stream",
     "text": [
      "Training MSE:  0.29910032560402283\n",
      "Training R2:  0.468651132499603\n"
     ]
    }
   ],
   "source": [
    "# Create an XGBoost model\n",
    "\n",
    "import xgboost as xgb\n",
    "\n",
    "model = xgb.XGBRegressor(n_estimators=100, learning_rate=0.1, max_depth=3)\n",
    "model.fit(df_x_select, df_y)\n",
    "\n",
    "print('Training MSE: ', mean_squared_error(df_y, model.predict(df_x_select)))\n",
    "print('Training R2: ', r2_score(df_y, model.predict(df_x_select)))\n",
    "\n",
    "# Save the model\n",
    "pickle.dump(model, open('models/XGBoost_model.pkl', 'wb'))"
   ]
  },
  {
   "attachments": {},
   "cell_type": "markdown",
   "metadata": {},
   "source": [
    "### Gradient Boosting"
   ]
  },
  {
   "cell_type": "code",
   "execution_count": 48,
   "metadata": {},
   "outputs": [
    {
     "name": "stdout",
     "output_type": "stream",
     "text": [
      "Training MSE:  0.2941628347520678\n",
      "Training R2:  0.47742253777033195\n"
     ]
    }
   ],
   "source": [
    "# Create a Gradient Boosting model\n",
    "\n",
    "from sklearn.ensemble import GradientBoostingRegressor\n",
    "\n",
    "model = GradientBoostingRegressor(learning_rate=0.1)\n",
    "\n",
    "# Train the model\n",
    "model.fit(df_x_select, df_y)\n",
    "\n",
    "# Print the training MSE and R2 score\n",
    "print('Training MSE: ', mean_squared_error(df_y, model.predict(df_x_select)))\n",
    "print('Training R2: ', r2_score(df_y, model.predict(df_x_select)))\n",
    "\n",
    "# Save the model\n",
    "pickle.dump(model, open('models/GradientBoosting_model.pkl', 'wb'))"
   ]
  },
  {
   "attachments": {},
   "cell_type": "markdown",
   "metadata": {},
   "source": [
    "### Random Forest Regression"
   ]
  },
  {
   "cell_type": "code",
   "execution_count": 49,
   "metadata": {},
   "outputs": [
    {
     "name": "stdout",
     "output_type": "stream",
     "text": [
      "Training MSE:  0.33405311500026713\n",
      "Training R2:  0.4065578364653425\n"
     ]
    }
   ],
   "source": [
    "# Create a Random Forest Regressor model\n",
    "\n",
    "from sklearn.ensemble import RandomForestRegressor\n",
    "\n",
    "model = RandomForestRegressor(max_depth=5)\n",
    "\n",
    "# Train the model\n",
    "model.fit(df_x_select, df_y)\n",
    "\n",
    "# Print the training MSE and R2 score\n",
    "print('Training MSE: ', mean_squared_error(df_y, model.predict(df_x_select)))\n",
    "print('Training R2: ', r2_score(df_y, model.predict(df_x_select)))\n",
    "\n",
    "# Save the model\n",
    "pickle.dump(model, open('models/RandomForest_model.pkl', 'wb'))"
   ]
  },
  {
   "cell_type": "code",
   "execution_count": 52,
   "metadata": {},
   "outputs": [
    {
     "name": "stdout",
     "output_type": "stream",
     "text": [
      "0:\tlearn: 0.7479708\ttotal: 13.1ms\tremaining: 13s\n",
      "1:\tlearn: 0.7459726\ttotal: 23.4ms\tremaining: 11.7s\n",
      "2:\tlearn: 0.7440267\ttotal: 33.9ms\tremaining: 11.3s\n",
      "3:\tlearn: 0.7420540\ttotal: 45.3ms\tremaining: 11.3s\n",
      "4:\tlearn: 0.7400474\ttotal: 55.4ms\tremaining: 11s\n",
      "5:\tlearn: 0.7381430\ttotal: 67.5ms\tremaining: 11.2s\n",
      "6:\tlearn: 0.7361551\ttotal: 78.6ms\tremaining: 11.2s\n",
      "7:\tlearn: 0.7341765\ttotal: 88.1ms\tremaining: 10.9s\n",
      "8:\tlearn: 0.7322155\ttotal: 99.2ms\tremaining: 10.9s\n",
      "9:\tlearn: 0.7302450\ttotal: 109ms\tremaining: 10.8s\n",
      "10:\tlearn: 0.7283985\ttotal: 120ms\tremaining: 10.8s\n",
      "11:\tlearn: 0.7265597\ttotal: 131ms\tremaining: 10.8s\n",
      "12:\tlearn: 0.7246632\ttotal: 143ms\tremaining: 10.8s\n",
      "13:\tlearn: 0.7227637\ttotal: 154ms\tremaining: 10.9s\n",
      "14:\tlearn: 0.7210488\ttotal: 165ms\tremaining: 10.8s\n",
      "15:\tlearn: 0.7193993\ttotal: 176ms\tremaining: 10.8s\n",
      "16:\tlearn: 0.7176692\ttotal: 187ms\tremaining: 10.8s\n",
      "17:\tlearn: 0.7159266\ttotal: 197ms\tremaining: 10.8s\n",
      "18:\tlearn: 0.7142518\ttotal: 209ms\tremaining: 10.8s\n",
      "19:\tlearn: 0.7124558\ttotal: 220ms\tremaining: 10.8s\n",
      "20:\tlearn: 0.7107989\ttotal: 232ms\tremaining: 10.8s\n",
      "21:\tlearn: 0.7092568\ttotal: 244ms\tremaining: 10.8s\n",
      "22:\tlearn: 0.7076519\ttotal: 256ms\tremaining: 10.9s\n",
      "23:\tlearn: 0.7060507\ttotal: 268ms\tremaining: 10.9s\n",
      "24:\tlearn: 0.7044547\ttotal: 280ms\tremaining: 10.9s\n",
      "25:\tlearn: 0.7029485\ttotal: 291ms\tremaining: 10.9s\n",
      "26:\tlearn: 0.7014422\ttotal: 302ms\tremaining: 10.9s\n",
      "27:\tlearn: 0.6998818\ttotal: 314ms\tremaining: 10.9s\n",
      "28:\tlearn: 0.6982373\ttotal: 325ms\tremaining: 10.9s\n",
      "29:\tlearn: 0.6967507\ttotal: 336ms\tremaining: 10.9s\n",
      "30:\tlearn: 0.6951782\ttotal: 347ms\tremaining: 10.8s\n",
      "31:\tlearn: 0.6936696\ttotal: 358ms\tremaining: 10.8s\n",
      "32:\tlearn: 0.6923325\ttotal: 368ms\tremaining: 10.8s\n",
      "33:\tlearn: 0.6909891\ttotal: 378ms\tremaining: 10.7s\n",
      "34:\tlearn: 0.6895977\ttotal: 389ms\tremaining: 10.7s\n",
      "35:\tlearn: 0.6881490\ttotal: 400ms\tremaining: 10.7s\n",
      "36:\tlearn: 0.6867329\ttotal: 411ms\tremaining: 10.7s\n",
      "37:\tlearn: 0.6854958\ttotal: 422ms\tremaining: 10.7s\n",
      "38:\tlearn: 0.6841000\ttotal: 432ms\tremaining: 10.6s\n",
      "39:\tlearn: 0.6827717\ttotal: 444ms\tremaining: 10.7s\n",
      "40:\tlearn: 0.6814848\ttotal: 455ms\tremaining: 10.6s\n",
      "41:\tlearn: 0.6801505\ttotal: 467ms\tremaining: 10.6s\n",
      "42:\tlearn: 0.6789155\ttotal: 479ms\tremaining: 10.6s\n",
      "43:\tlearn: 0.6776740\ttotal: 490ms\tremaining: 10.7s\n",
      "44:\tlearn: 0.6765392\ttotal: 501ms\tremaining: 10.6s\n",
      "45:\tlearn: 0.6752807\ttotal: 512ms\tremaining: 10.6s\n",
      "46:\tlearn: 0.6739539\ttotal: 523ms\tremaining: 10.6s\n",
      "47:\tlearn: 0.6727562\ttotal: 534ms\tremaining: 10.6s\n",
      "48:\tlearn: 0.6715441\ttotal: 545ms\tremaining: 10.6s\n",
      "49:\tlearn: 0.6703886\ttotal: 556ms\tremaining: 10.6s\n",
      "50:\tlearn: 0.6691805\ttotal: 566ms\tremaining: 10.5s\n",
      "51:\tlearn: 0.6679498\ttotal: 577ms\tremaining: 10.5s\n",
      "52:\tlearn: 0.6668197\ttotal: 588ms\tremaining: 10.5s\n",
      "53:\tlearn: 0.6656209\ttotal: 598ms\tremaining: 10.5s\n",
      "54:\tlearn: 0.6645658\ttotal: 610ms\tremaining: 10.5s\n",
      "55:\tlearn: 0.6634477\ttotal: 622ms\tremaining: 10.5s\n",
      "56:\tlearn: 0.6624966\ttotal: 633ms\tremaining: 10.5s\n",
      "57:\tlearn: 0.6614482\ttotal: 644ms\tremaining: 10.5s\n",
      "58:\tlearn: 0.6604153\ttotal: 656ms\tremaining: 10.5s\n",
      "59:\tlearn: 0.6593622\ttotal: 669ms\tremaining: 10.5s\n",
      "60:\tlearn: 0.6582955\ttotal: 680ms\tremaining: 10.5s\n",
      "61:\tlearn: 0.6572707\ttotal: 691ms\tremaining: 10.5s\n",
      "62:\tlearn: 0.6563247\ttotal: 702ms\tremaining: 10.4s\n",
      "63:\tlearn: 0.6553241\ttotal: 713ms\tremaining: 10.4s\n",
      "64:\tlearn: 0.6543179\ttotal: 724ms\tremaining: 10.4s\n",
      "65:\tlearn: 0.6532810\ttotal: 736ms\tremaining: 10.4s\n",
      "66:\tlearn: 0.6523553\ttotal: 747ms\tremaining: 10.4s\n",
      "67:\tlearn: 0.6514756\ttotal: 759ms\tremaining: 10.4s\n",
      "68:\tlearn: 0.6504540\ttotal: 770ms\tremaining: 10.4s\n",
      "69:\tlearn: 0.6496224\ttotal: 781ms\tremaining: 10.4s\n",
      "70:\tlearn: 0.6485866\ttotal: 793ms\tremaining: 10.4s\n",
      "71:\tlearn: 0.6476859\ttotal: 804ms\tremaining: 10.4s\n",
      "72:\tlearn: 0.6467322\ttotal: 816ms\tremaining: 10.4s\n",
      "73:\tlearn: 0.6458462\ttotal: 827ms\tremaining: 10.3s\n",
      "74:\tlearn: 0.6449940\ttotal: 838ms\tremaining: 10.3s\n",
      "75:\tlearn: 0.6440903\ttotal: 850ms\tremaining: 10.3s\n",
      "76:\tlearn: 0.6431989\ttotal: 860ms\tremaining: 10.3s\n",
      "77:\tlearn: 0.6424417\ttotal: 871ms\tremaining: 10.3s\n",
      "78:\tlearn: 0.6415580\ttotal: 883ms\tremaining: 10.3s\n",
      "79:\tlearn: 0.6407770\ttotal: 894ms\tremaining: 10.3s\n",
      "80:\tlearn: 0.6399472\ttotal: 905ms\tremaining: 10.3s\n",
      "81:\tlearn: 0.6392126\ttotal: 917ms\tremaining: 10.3s\n",
      "82:\tlearn: 0.6384769\ttotal: 928ms\tremaining: 10.2s\n",
      "83:\tlearn: 0.6377133\ttotal: 939ms\tremaining: 10.2s\n",
      "84:\tlearn: 0.6368408\ttotal: 951ms\tremaining: 10.2s\n",
      "85:\tlearn: 0.6360138\ttotal: 963ms\tremaining: 10.2s\n",
      "86:\tlearn: 0.6352631\ttotal: 973ms\tremaining: 10.2s\n",
      "87:\tlearn: 0.6344594\ttotal: 985ms\tremaining: 10.2s\n",
      "88:\tlearn: 0.6338852\ttotal: 988ms\tremaining: 10.1s\n",
      "89:\tlearn: 0.6331036\ttotal: 998ms\tremaining: 10.1s\n",
      "90:\tlearn: 0.6323659\ttotal: 1.01s\tremaining: 10.1s\n",
      "91:\tlearn: 0.6316257\ttotal: 1.02s\tremaining: 10s\n",
      "92:\tlearn: 0.6309542\ttotal: 1.03s\tremaining: 10s\n",
      "93:\tlearn: 0.6302798\ttotal: 1.04s\tremaining: 10s\n",
      "94:\tlearn: 0.6294983\ttotal: 1.05s\tremaining: 10s\n",
      "95:\tlearn: 0.6288328\ttotal: 1.06s\tremaining: 10s\n",
      "96:\tlearn: 0.6281711\ttotal: 1.07s\tremaining: 9.98s\n",
      "97:\tlearn: 0.6276007\ttotal: 1.08s\tremaining: 9.97s\n",
      "98:\tlearn: 0.6269479\ttotal: 1.09s\tremaining: 9.96s\n",
      "99:\tlearn: 0.6261495\ttotal: 1.1s\tremaining: 9.95s\n",
      "100:\tlearn: 0.6254848\ttotal: 1.12s\tremaining: 9.94s\n",
      "101:\tlearn: 0.6248820\ttotal: 1.13s\tremaining: 9.94s\n",
      "102:\tlearn: 0.6242576\ttotal: 1.14s\tremaining: 9.93s\n",
      "103:\tlearn: 0.6235878\ttotal: 1.15s\tremaining: 9.92s\n",
      "104:\tlearn: 0.6229937\ttotal: 1.16s\tremaining: 9.92s\n",
      "105:\tlearn: 0.6223089\ttotal: 1.19s\tremaining: 10s\n",
      "106:\tlearn: 0.6216711\ttotal: 1.21s\tremaining: 10.1s\n",
      "107:\tlearn: 0.6210950\ttotal: 1.22s\tremaining: 10.1s\n",
      "108:\tlearn: 0.6204899\ttotal: 1.24s\tremaining: 10.1s\n",
      "109:\tlearn: 0.6198636\ttotal: 1.25s\tremaining: 10.1s\n",
      "110:\tlearn: 0.6192902\ttotal: 1.26s\tremaining: 10.1s\n",
      "111:\tlearn: 0.6187390\ttotal: 1.28s\tremaining: 10.1s\n",
      "112:\tlearn: 0.6182115\ttotal: 1.29s\tremaining: 10.1s\n",
      "113:\tlearn: 0.6175868\ttotal: 1.3s\tremaining: 10.1s\n",
      "114:\tlearn: 0.6171039\ttotal: 1.31s\tremaining: 10.1s\n",
      "115:\tlearn: 0.6165097\ttotal: 1.32s\tremaining: 10.1s\n",
      "116:\tlearn: 0.6160314\ttotal: 1.33s\tremaining: 10.1s\n",
      "117:\tlearn: 0.6154895\ttotal: 1.34s\tremaining: 10s\n",
      "118:\tlearn: 0.6150439\ttotal: 1.35s\tremaining: 10s\n",
      "119:\tlearn: 0.6144211\ttotal: 1.36s\tremaining: 10s\n",
      "120:\tlearn: 0.6139384\ttotal: 1.38s\tremaining: 10s\n",
      "121:\tlearn: 0.6133515\ttotal: 1.39s\tremaining: 9.99s\n",
      "122:\tlearn: 0.6127858\ttotal: 1.4s\tremaining: 9.98s\n",
      "123:\tlearn: 0.6122302\ttotal: 1.41s\tremaining: 9.97s\n",
      "124:\tlearn: 0.6116400\ttotal: 1.42s\tremaining: 9.95s\n",
      "125:\tlearn: 0.6110909\ttotal: 1.43s\tremaining: 9.94s\n",
      "126:\tlearn: 0.6105551\ttotal: 1.44s\tremaining: 9.93s\n",
      "127:\tlearn: 0.6099787\ttotal: 1.46s\tremaining: 9.92s\n",
      "128:\tlearn: 0.6094274\ttotal: 1.47s\tremaining: 9.9s\n",
      "129:\tlearn: 0.6088924\ttotal: 1.48s\tremaining: 9.89s\n",
      "130:\tlearn: 0.6083573\ttotal: 1.49s\tremaining: 9.88s\n",
      "131:\tlearn: 0.6079175\ttotal: 1.5s\tremaining: 9.87s\n",
      "132:\tlearn: 0.6075582\ttotal: 1.5s\tremaining: 9.81s\n",
      "133:\tlearn: 0.6070722\ttotal: 1.52s\tremaining: 9.8s\n",
      "134:\tlearn: 0.6066608\ttotal: 1.53s\tremaining: 9.8s\n",
      "135:\tlearn: 0.6062604\ttotal: 1.54s\tremaining: 9.79s\n",
      "136:\tlearn: 0.6057105\ttotal: 1.55s\tremaining: 9.78s\n",
      "137:\tlearn: 0.6052477\ttotal: 1.56s\tremaining: 9.76s\n",
      "138:\tlearn: 0.6049070\ttotal: 1.57s\tremaining: 9.75s\n",
      "139:\tlearn: 0.6045101\ttotal: 1.58s\tremaining: 9.73s\n",
      "140:\tlearn: 0.6040747\ttotal: 1.59s\tremaining: 9.72s\n",
      "141:\tlearn: 0.6035950\ttotal: 1.61s\tremaining: 9.71s\n",
      "142:\tlearn: 0.6031847\ttotal: 1.62s\tremaining: 9.69s\n",
      "143:\tlearn: 0.6027595\ttotal: 1.63s\tremaining: 9.67s\n",
      "144:\tlearn: 0.6022983\ttotal: 1.64s\tremaining: 9.66s\n",
      "145:\tlearn: 0.6018824\ttotal: 1.65s\tremaining: 9.65s\n",
      "146:\tlearn: 0.6015161\ttotal: 1.66s\tremaining: 9.63s\n",
      "147:\tlearn: 0.6010819\ttotal: 1.67s\tremaining: 9.62s\n",
      "148:\tlearn: 0.6005576\ttotal: 1.68s\tremaining: 9.6s\n",
      "149:\tlearn: 0.6001852\ttotal: 1.69s\tremaining: 9.58s\n",
      "150:\tlearn: 0.5998207\ttotal: 1.7s\tremaining: 9.57s\n",
      "151:\tlearn: 0.5993781\ttotal: 1.71s\tremaining: 9.56s\n",
      "152:\tlearn: 0.5989183\ttotal: 1.72s\tremaining: 9.55s\n",
      "153:\tlearn: 0.5985475\ttotal: 1.73s\tremaining: 9.53s\n",
      "154:\tlearn: 0.5981120\ttotal: 1.75s\tremaining: 9.52s\n",
      "155:\tlearn: 0.5977069\ttotal: 1.76s\tremaining: 9.51s\n",
      "156:\tlearn: 0.5972745\ttotal: 1.77s\tremaining: 9.49s\n",
      "157:\tlearn: 0.5968909\ttotal: 1.78s\tremaining: 9.48s\n",
      "158:\tlearn: 0.5964406\ttotal: 1.79s\tremaining: 9.47s\n",
      "159:\tlearn: 0.5960606\ttotal: 1.8s\tremaining: 9.46s\n",
      "160:\tlearn: 0.5956500\ttotal: 1.81s\tremaining: 9.44s\n",
      "161:\tlearn: 0.5952687\ttotal: 1.82s\tremaining: 9.42s\n",
      "162:\tlearn: 0.5948702\ttotal: 1.83s\tremaining: 9.41s\n",
      "163:\tlearn: 0.5944928\ttotal: 1.84s\tremaining: 9.39s\n",
      "164:\tlearn: 0.5940312\ttotal: 1.85s\tremaining: 9.38s\n",
      "165:\tlearn: 0.5935524\ttotal: 1.86s\tremaining: 9.37s\n",
      "166:\tlearn: 0.5932219\ttotal: 1.88s\tremaining: 9.36s\n",
      "167:\tlearn: 0.5928938\ttotal: 1.89s\tremaining: 9.36s\n",
      "168:\tlearn: 0.5924757\ttotal: 1.9s\tremaining: 9.35s\n",
      "169:\tlearn: 0.5920135\ttotal: 1.91s\tremaining: 9.34s\n",
      "170:\tlearn: 0.5917167\ttotal: 1.92s\tremaining: 9.33s\n",
      "171:\tlearn: 0.5914230\ttotal: 1.94s\tremaining: 9.31s\n",
      "172:\tlearn: 0.5910975\ttotal: 1.95s\tremaining: 9.3s\n",
      "173:\tlearn: 0.5907201\ttotal: 1.96s\tremaining: 9.29s\n",
      "174:\tlearn: 0.5904001\ttotal: 1.97s\tremaining: 9.28s\n",
      "175:\tlearn: 0.5899672\ttotal: 1.98s\tremaining: 9.27s\n",
      "176:\tlearn: 0.5895785\ttotal: 1.99s\tremaining: 9.25s\n",
      "177:\tlearn: 0.5891217\ttotal: 2s\tremaining: 9.24s\n",
      "178:\tlearn: 0.5888901\ttotal: 2.01s\tremaining: 9.22s\n",
      "179:\tlearn: 0.5885556\ttotal: 2.02s\tremaining: 9.21s\n",
      "180:\tlearn: 0.5882695\ttotal: 2.03s\tremaining: 9.2s\n",
      "181:\tlearn: 0.5878503\ttotal: 2.04s\tremaining: 9.18s\n",
      "182:\tlearn: 0.5875686\ttotal: 2.05s\tremaining: 9.16s\n",
      "183:\tlearn: 0.5872559\ttotal: 2.06s\tremaining: 9.15s\n",
      "184:\tlearn: 0.5870243\ttotal: 2.07s\tremaining: 9.14s\n",
      "185:\tlearn: 0.5868102\ttotal: 2.08s\tremaining: 9.13s\n",
      "186:\tlearn: 0.5864167\ttotal: 2.1s\tremaining: 9.12s\n",
      "187:\tlearn: 0.5861751\ttotal: 2.11s\tremaining: 9.11s\n",
      "188:\tlearn: 0.5858365\ttotal: 2.12s\tremaining: 9.09s\n",
      "189:\tlearn: 0.5854627\ttotal: 2.13s\tremaining: 9.08s\n",
      "190:\tlearn: 0.5851597\ttotal: 2.14s\tremaining: 9.07s\n",
      "191:\tlearn: 0.5849346\ttotal: 2.15s\tremaining: 9.05s\n",
      "192:\tlearn: 0.5846769\ttotal: 2.16s\tremaining: 9.04s\n",
      "193:\tlearn: 0.5844237\ttotal: 2.17s\tremaining: 9.02s\n",
      "194:\tlearn: 0.5840749\ttotal: 2.18s\tremaining: 9.01s\n",
      "195:\tlearn: 0.5837684\ttotal: 2.19s\tremaining: 9s\n",
      "196:\tlearn: 0.5834381\ttotal: 2.2s\tremaining: 8.98s\n",
      "197:\tlearn: 0.5831864\ttotal: 2.21s\tremaining: 8.97s\n",
      "198:\tlearn: 0.5829564\ttotal: 2.23s\tremaining: 8.96s\n",
      "199:\tlearn: 0.5827077\ttotal: 2.24s\tremaining: 8.95s\n",
      "200:\tlearn: 0.5824080\ttotal: 2.25s\tremaining: 8.94s\n",
      "201:\tlearn: 0.5821224\ttotal: 2.26s\tremaining: 8.93s\n",
      "202:\tlearn: 0.5817689\ttotal: 2.27s\tremaining: 8.92s\n",
      "203:\tlearn: 0.5814959\ttotal: 2.28s\tremaining: 8.9s\n",
      "204:\tlearn: 0.5812153\ttotal: 2.29s\tremaining: 8.89s\n",
      "205:\tlearn: 0.5808909\ttotal: 2.3s\tremaining: 8.88s\n",
      "206:\tlearn: 0.5806858\ttotal: 2.31s\tremaining: 8.87s\n",
      "207:\tlearn: 0.5803961\ttotal: 2.33s\tremaining: 8.86s\n",
      "208:\tlearn: 0.5801031\ttotal: 2.34s\tremaining: 8.85s\n",
      "209:\tlearn: 0.5798052\ttotal: 2.35s\tremaining: 8.84s\n",
      "210:\tlearn: 0.5795269\ttotal: 2.36s\tremaining: 8.82s\n",
      "211:\tlearn: 0.5791686\ttotal: 2.37s\tremaining: 8.82s\n",
      "212:\tlearn: 0.5788708\ttotal: 2.38s\tremaining: 8.81s\n",
      "213:\tlearn: 0.5786000\ttotal: 2.4s\tremaining: 8.8s\n",
      "214:\tlearn: 0.5782921\ttotal: 2.41s\tremaining: 8.79s\n",
      "215:\tlearn: 0.5780669\ttotal: 2.42s\tremaining: 8.77s\n",
      "216:\tlearn: 0.5778838\ttotal: 2.43s\tremaining: 8.76s\n",
      "217:\tlearn: 0.5774443\ttotal: 2.44s\tremaining: 8.75s\n",
      "218:\tlearn: 0.5772291\ttotal: 2.45s\tremaining: 8.74s\n",
      "219:\tlearn: 0.5769588\ttotal: 2.46s\tremaining: 8.73s\n",
      "220:\tlearn: 0.5766909\ttotal: 2.47s\tremaining: 8.72s\n",
      "221:\tlearn: 0.5764865\ttotal: 2.48s\tremaining: 8.71s\n",
      "222:\tlearn: 0.5761553\ttotal: 2.5s\tremaining: 8.7s\n",
      "223:\tlearn: 0.5759565\ttotal: 2.51s\tremaining: 8.69s\n",
      "224:\tlearn: 0.5756539\ttotal: 2.52s\tremaining: 8.68s\n",
      "225:\tlearn: 0.5753757\ttotal: 2.53s\tremaining: 8.67s\n",
      "226:\tlearn: 0.5751651\ttotal: 2.54s\tremaining: 8.66s\n",
      "227:\tlearn: 0.5747491\ttotal: 2.55s\tremaining: 8.65s\n",
      "228:\tlearn: 0.5743965\ttotal: 2.56s\tremaining: 8.64s\n",
      "229:\tlearn: 0.5740633\ttotal: 2.58s\tremaining: 8.63s\n",
      "230:\tlearn: 0.5739061\ttotal: 2.59s\tremaining: 8.62s\n",
      "231:\tlearn: 0.5736053\ttotal: 2.6s\tremaining: 8.61s\n",
      "232:\tlearn: 0.5733810\ttotal: 2.61s\tremaining: 8.59s\n",
      "233:\tlearn: 0.5731499\ttotal: 2.62s\tremaining: 8.59s\n",
      "234:\tlearn: 0.5729631\ttotal: 2.63s\tremaining: 8.57s\n",
      "235:\tlearn: 0.5727249\ttotal: 2.64s\tremaining: 8.56s\n",
      "236:\tlearn: 0.5725317\ttotal: 2.65s\tremaining: 8.55s\n",
      "237:\tlearn: 0.5723136\ttotal: 2.66s\tremaining: 8.53s\n",
      "238:\tlearn: 0.5720775\ttotal: 2.68s\tremaining: 8.52s\n",
      "239:\tlearn: 0.5718667\ttotal: 2.69s\tremaining: 8.51s\n",
      "240:\tlearn: 0.5716278\ttotal: 2.7s\tremaining: 8.49s\n",
      "241:\tlearn: 0.5713467\ttotal: 2.71s\tremaining: 8.48s\n",
      "242:\tlearn: 0.5711780\ttotal: 2.72s\tremaining: 8.47s\n",
      "243:\tlearn: 0.5710063\ttotal: 2.73s\tremaining: 8.46s\n",
      "244:\tlearn: 0.5707936\ttotal: 2.74s\tremaining: 8.45s\n",
      "245:\tlearn: 0.5705990\ttotal: 2.75s\tremaining: 8.44s\n",
      "246:\tlearn: 0.5701734\ttotal: 2.76s\tremaining: 8.43s\n",
      "247:\tlearn: 0.5699119\ttotal: 2.77s\tremaining: 8.42s\n",
      "248:\tlearn: 0.5697473\ttotal: 2.79s\tremaining: 8.41s\n",
      "249:\tlearn: 0.5695306\ttotal: 2.8s\tremaining: 8.4s\n",
      "250:\tlearn: 0.5693181\ttotal: 2.81s\tremaining: 8.38s\n",
      "251:\tlearn: 0.5690740\ttotal: 2.82s\tremaining: 8.37s\n",
      "252:\tlearn: 0.5687761\ttotal: 2.83s\tremaining: 8.36s\n",
      "253:\tlearn: 0.5686019\ttotal: 2.84s\tremaining: 8.35s\n",
      "254:\tlearn: 0.5682830\ttotal: 2.85s\tremaining: 8.34s\n",
      "255:\tlearn: 0.5678633\ttotal: 2.86s\tremaining: 8.32s\n",
      "256:\tlearn: 0.5676600\ttotal: 2.88s\tremaining: 8.31s\n",
      "257:\tlearn: 0.5675058\ttotal: 2.88s\tremaining: 8.3s\n",
      "258:\tlearn: 0.5673124\ttotal: 2.9s\tremaining: 8.28s\n",
      "259:\tlearn: 0.5670776\ttotal: 2.9s\tremaining: 8.27s\n",
      "260:\tlearn: 0.5669115\ttotal: 2.92s\tremaining: 8.26s\n",
      "261:\tlearn: 0.5666549\ttotal: 2.93s\tremaining: 8.24s\n",
      "262:\tlearn: 0.5665301\ttotal: 2.94s\tremaining: 8.23s\n",
      "263:\tlearn: 0.5661509\ttotal: 2.95s\tremaining: 8.22s\n",
      "264:\tlearn: 0.5658654\ttotal: 2.96s\tremaining: 8.2s\n",
      "265:\tlearn: 0.5656995\ttotal: 2.97s\tremaining: 8.19s\n",
      "266:\tlearn: 0.5655264\ttotal: 2.98s\tremaining: 8.18s\n",
      "267:\tlearn: 0.5653628\ttotal: 2.99s\tremaining: 8.17s\n",
      "268:\tlearn: 0.5650407\ttotal: 3s\tremaining: 8.16s\n",
      "269:\tlearn: 0.5648562\ttotal: 3.01s\tremaining: 8.14s\n",
      "270:\tlearn: 0.5646287\ttotal: 3.02s\tremaining: 8.13s\n",
      "271:\tlearn: 0.5645099\ttotal: 3.03s\tremaining: 8.12s\n",
      "272:\tlearn: 0.5643061\ttotal: 3.04s\tremaining: 8.1s\n",
      "273:\tlearn: 0.5641063\ttotal: 3.05s\tremaining: 8.09s\n",
      "274:\tlearn: 0.5639427\ttotal: 3.06s\tremaining: 8.08s\n",
      "275:\tlearn: 0.5637573\ttotal: 3.07s\tremaining: 8.06s\n",
      "276:\tlearn: 0.5635226\ttotal: 3.08s\tremaining: 8.05s\n",
      "277:\tlearn: 0.5633537\ttotal: 3.1s\tremaining: 8.04s\n",
      "278:\tlearn: 0.5631851\ttotal: 3.11s\tremaining: 8.03s\n",
      "279:\tlearn: 0.5630123\ttotal: 3.12s\tremaining: 8.02s\n",
      "280:\tlearn: 0.5628704\ttotal: 3.13s\tremaining: 8s\n",
      "281:\tlearn: 0.5625690\ttotal: 3.14s\tremaining: 7.99s\n",
      "282:\tlearn: 0.5623782\ttotal: 3.15s\tremaining: 7.98s\n",
      "283:\tlearn: 0.5622144\ttotal: 3.16s\tremaining: 7.96s\n",
      "284:\tlearn: 0.5620557\ttotal: 3.17s\tremaining: 7.95s\n",
      "285:\tlearn: 0.5618675\ttotal: 3.18s\tremaining: 7.94s\n",
      "286:\tlearn: 0.5616915\ttotal: 3.19s\tremaining: 7.93s\n",
      "287:\tlearn: 0.5614692\ttotal: 3.2s\tremaining: 7.92s\n",
      "288:\tlearn: 0.5613160\ttotal: 3.21s\tremaining: 7.91s\n",
      "289:\tlearn: 0.5611144\ttotal: 3.23s\tremaining: 7.9s\n",
      "290:\tlearn: 0.5609133\ttotal: 3.24s\tremaining: 7.88s\n",
      "291:\tlearn: 0.5606913\ttotal: 3.25s\tremaining: 7.87s\n",
      "292:\tlearn: 0.5604821\ttotal: 3.26s\tremaining: 7.86s\n",
      "293:\tlearn: 0.5603366\ttotal: 3.27s\tremaining: 7.85s\n",
      "294:\tlearn: 0.5601432\ttotal: 3.28s\tremaining: 7.84s\n",
      "295:\tlearn: 0.5599583\ttotal: 3.29s\tremaining: 7.82s\n",
      "296:\tlearn: 0.5595867\ttotal: 3.3s\tremaining: 7.81s\n",
      "297:\tlearn: 0.5593092\ttotal: 3.31s\tremaining: 7.8s\n",
      "298:\tlearn: 0.5590613\ttotal: 3.32s\tremaining: 7.79s\n",
      "299:\tlearn: 0.5589024\ttotal: 3.33s\tremaining: 7.77s\n",
      "300:\tlearn: 0.5586437\ttotal: 3.34s\tremaining: 7.76s\n",
      "301:\tlearn: 0.5584927\ttotal: 3.35s\tremaining: 7.75s\n",
      "302:\tlearn: 0.5582880\ttotal: 3.36s\tremaining: 7.74s\n",
      "303:\tlearn: 0.5580709\ttotal: 3.37s\tremaining: 7.73s\n",
      "304:\tlearn: 0.5578158\ttotal: 3.38s\tremaining: 7.71s\n",
      "305:\tlearn: 0.5575783\ttotal: 3.4s\tremaining: 7.7s\n",
      "306:\tlearn: 0.5573823\ttotal: 3.41s\tremaining: 7.69s\n",
      "307:\tlearn: 0.5572247\ttotal: 3.42s\tremaining: 7.68s\n",
      "308:\tlearn: 0.5570056\ttotal: 3.43s\tremaining: 7.67s\n",
      "309:\tlearn: 0.5568677\ttotal: 3.44s\tremaining: 7.65s\n",
      "310:\tlearn: 0.5567140\ttotal: 3.45s\tremaining: 7.64s\n",
      "311:\tlearn: 0.5564856\ttotal: 3.46s\tremaining: 7.63s\n",
      "312:\tlearn: 0.5563339\ttotal: 3.47s\tremaining: 7.61s\n",
      "313:\tlearn: 0.5561027\ttotal: 3.48s\tremaining: 7.6s\n",
      "314:\tlearn: 0.5558635\ttotal: 3.49s\tremaining: 7.59s\n",
      "315:\tlearn: 0.5557004\ttotal: 3.5s\tremaining: 7.58s\n",
      "316:\tlearn: 0.5554961\ttotal: 3.51s\tremaining: 7.56s\n",
      "317:\tlearn: 0.5552857\ttotal: 3.52s\tremaining: 7.55s\n",
      "318:\tlearn: 0.5550674\ttotal: 3.53s\tremaining: 7.54s\n",
      "319:\tlearn: 0.5548670\ttotal: 3.54s\tremaining: 7.53s\n",
      "320:\tlearn: 0.5546534\ttotal: 3.55s\tremaining: 7.52s\n",
      "321:\tlearn: 0.5545290\ttotal: 3.57s\tremaining: 7.51s\n",
      "322:\tlearn: 0.5542502\ttotal: 3.58s\tremaining: 7.5s\n",
      "323:\tlearn: 0.5541072\ttotal: 3.59s\tremaining: 7.49s\n",
      "324:\tlearn: 0.5539382\ttotal: 3.6s\tremaining: 7.47s\n",
      "325:\tlearn: 0.5537660\ttotal: 3.61s\tremaining: 7.46s\n",
      "326:\tlearn: 0.5535342\ttotal: 3.62s\tremaining: 7.45s\n",
      "327:\tlearn: 0.5533289\ttotal: 3.63s\tremaining: 7.44s\n",
      "328:\tlearn: 0.5531276\ttotal: 3.64s\tremaining: 7.43s\n",
      "329:\tlearn: 0.5529953\ttotal: 3.65s\tremaining: 7.42s\n",
      "330:\tlearn: 0.5528895\ttotal: 3.66s\tremaining: 7.4s\n",
      "331:\tlearn: 0.5527666\ttotal: 3.67s\tremaining: 7.39s\n",
      "332:\tlearn: 0.5526049\ttotal: 3.68s\tremaining: 7.38s\n",
      "333:\tlearn: 0.5524212\ttotal: 3.69s\tremaining: 7.36s\n",
      "334:\tlearn: 0.5521861\ttotal: 3.7s\tremaining: 7.35s\n",
      "335:\tlearn: 0.5520412\ttotal: 3.71s\tremaining: 7.34s\n",
      "336:\tlearn: 0.5517615\ttotal: 3.72s\tremaining: 7.33s\n",
      "337:\tlearn: 0.5516250\ttotal: 3.73s\tremaining: 7.31s\n",
      "338:\tlearn: 0.5513684\ttotal: 3.74s\tremaining: 7.3s\n",
      "339:\tlearn: 0.5511980\ttotal: 3.75s\tremaining: 7.29s\n",
      "340:\tlearn: 0.5510422\ttotal: 3.76s\tremaining: 7.27s\n",
      "341:\tlearn: 0.5508662\ttotal: 3.77s\tremaining: 7.26s\n",
      "342:\tlearn: 0.5507527\ttotal: 3.78s\tremaining: 7.24s\n",
      "343:\tlearn: 0.5506455\ttotal: 3.79s\tremaining: 7.23s\n",
      "344:\tlearn: 0.5503543\ttotal: 3.8s\tremaining: 7.22s\n",
      "345:\tlearn: 0.5501094\ttotal: 3.81s\tremaining: 7.21s\n",
      "346:\tlearn: 0.5497846\ttotal: 3.82s\tremaining: 7.2s\n",
      "347:\tlearn: 0.5496482\ttotal: 3.83s\tremaining: 7.18s\n",
      "348:\tlearn: 0.5493736\ttotal: 3.84s\tremaining: 7.17s\n",
      "349:\tlearn: 0.5491883\ttotal: 3.85s\tremaining: 7.16s\n",
      "350:\tlearn: 0.5490352\ttotal: 3.86s\tremaining: 7.14s\n",
      "351:\tlearn: 0.5487086\ttotal: 3.87s\tremaining: 7.13s\n",
      "352:\tlearn: 0.5485486\ttotal: 3.88s\tremaining: 7.12s\n",
      "353:\tlearn: 0.5484046\ttotal: 3.89s\tremaining: 7.1s\n",
      "354:\tlearn: 0.5482816\ttotal: 3.9s\tremaining: 7.09s\n",
      "355:\tlearn: 0.5481977\ttotal: 3.91s\tremaining: 7.08s\n",
      "356:\tlearn: 0.5479767\ttotal: 3.92s\tremaining: 7.07s\n",
      "357:\tlearn: 0.5477922\ttotal: 3.93s\tremaining: 7.05s\n",
      "358:\tlearn: 0.5475372\ttotal: 3.94s\tremaining: 7.04s\n",
      "359:\tlearn: 0.5472955\ttotal: 3.95s\tremaining: 7.03s\n",
      "360:\tlearn: 0.5471762\ttotal: 3.96s\tremaining: 7.01s\n",
      "361:\tlearn: 0.5470097\ttotal: 3.97s\tremaining: 7s\n",
      "362:\tlearn: 0.5467725\ttotal: 3.98s\tremaining: 6.99s\n",
      "363:\tlearn: 0.5464833\ttotal: 3.99s\tremaining: 6.98s\n",
      "364:\tlearn: 0.5463408\ttotal: 4s\tremaining: 6.96s\n",
      "365:\tlearn: 0.5462337\ttotal: 4.01s\tremaining: 6.95s\n",
      "366:\tlearn: 0.5459455\ttotal: 4.02s\tremaining: 6.94s\n",
      "367:\tlearn: 0.5457380\ttotal: 4.04s\tremaining: 6.93s\n",
      "368:\tlearn: 0.5456521\ttotal: 4.04s\tremaining: 6.92s\n",
      "369:\tlearn: 0.5455503\ttotal: 4.05s\tremaining: 6.91s\n",
      "370:\tlearn: 0.5453234\ttotal: 4.07s\tremaining: 6.89s\n",
      "371:\tlearn: 0.5450668\ttotal: 4.08s\tremaining: 6.88s\n",
      "372:\tlearn: 0.5449356\ttotal: 4.09s\tremaining: 6.87s\n",
      "373:\tlearn: 0.5446915\ttotal: 4.1s\tremaining: 6.86s\n",
      "374:\tlearn: 0.5444896\ttotal: 4.11s\tremaining: 6.85s\n",
      "375:\tlearn: 0.5443779\ttotal: 4.12s\tremaining: 6.83s\n",
      "376:\tlearn: 0.5442284\ttotal: 4.13s\tremaining: 6.82s\n",
      "377:\tlearn: 0.5441220\ttotal: 4.14s\tremaining: 6.81s\n",
      "378:\tlearn: 0.5439189\ttotal: 4.15s\tremaining: 6.8s\n",
      "379:\tlearn: 0.5438259\ttotal: 4.16s\tremaining: 6.78s\n",
      "380:\tlearn: 0.5437096\ttotal: 4.17s\tremaining: 6.77s\n",
      "381:\tlearn: 0.5436185\ttotal: 4.18s\tremaining: 6.76s\n",
      "382:\tlearn: 0.5434399\ttotal: 4.19s\tremaining: 6.74s\n",
      "383:\tlearn: 0.5433274\ttotal: 4.2s\tremaining: 6.73s\n",
      "384:\tlearn: 0.5431033\ttotal: 4.21s\tremaining: 6.72s\n",
      "385:\tlearn: 0.5429194\ttotal: 4.22s\tremaining: 6.71s\n",
      "386:\tlearn: 0.5427319\ttotal: 4.22s\tremaining: 6.69s\n",
      "387:\tlearn: 0.5425571\ttotal: 4.24s\tremaining: 6.68s\n",
      "388:\tlearn: 0.5424421\ttotal: 4.25s\tremaining: 6.67s\n",
      "389:\tlearn: 0.5423588\ttotal: 4.26s\tremaining: 6.66s\n",
      "390:\tlearn: 0.5421736\ttotal: 4.27s\tremaining: 6.65s\n",
      "391:\tlearn: 0.5420166\ttotal: 4.28s\tremaining: 6.63s\n",
      "392:\tlearn: 0.5418543\ttotal: 4.29s\tremaining: 6.62s\n",
      "393:\tlearn: 0.5417531\ttotal: 4.3s\tremaining: 6.61s\n",
      "394:\tlearn: 0.5416038\ttotal: 4.31s\tremaining: 6.59s\n",
      "395:\tlearn: 0.5413769\ttotal: 4.32s\tremaining: 6.58s\n",
      "396:\tlearn: 0.5411498\ttotal: 4.33s\tremaining: 6.57s\n",
      "397:\tlearn: 0.5409979\ttotal: 4.34s\tremaining: 6.56s\n",
      "398:\tlearn: 0.5407922\ttotal: 4.35s\tremaining: 6.55s\n",
      "399:\tlearn: 0.5407174\ttotal: 4.36s\tremaining: 6.54s\n",
      "400:\tlearn: 0.5406181\ttotal: 4.37s\tremaining: 6.52s\n",
      "401:\tlearn: 0.5404872\ttotal: 4.38s\tremaining: 6.51s\n",
      "402:\tlearn: 0.5403832\ttotal: 4.39s\tremaining: 6.5s\n",
      "403:\tlearn: 0.5401909\ttotal: 4.4s\tremaining: 6.49s\n",
      "404:\tlearn: 0.5398825\ttotal: 4.41s\tremaining: 6.47s\n",
      "405:\tlearn: 0.5397016\ttotal: 4.41s\tremaining: 6.46s\n",
      "406:\tlearn: 0.5395645\ttotal: 4.43s\tremaining: 6.45s\n",
      "407:\tlearn: 0.5393368\ttotal: 4.44s\tremaining: 6.44s\n",
      "408:\tlearn: 0.5392043\ttotal: 4.45s\tremaining: 6.43s\n",
      "409:\tlearn: 0.5390029\ttotal: 4.46s\tremaining: 6.42s\n",
      "410:\tlearn: 0.5388882\ttotal: 4.47s\tremaining: 6.4s\n",
      "411:\tlearn: 0.5387498\ttotal: 4.48s\tremaining: 6.39s\n",
      "412:\tlearn: 0.5385843\ttotal: 4.49s\tremaining: 6.38s\n",
      "413:\tlearn: 0.5384565\ttotal: 4.5s\tremaining: 6.37s\n",
      "414:\tlearn: 0.5384136\ttotal: 4.51s\tremaining: 6.35s\n",
      "415:\tlearn: 0.5383090\ttotal: 4.52s\tremaining: 6.34s\n",
      "416:\tlearn: 0.5381192\ttotal: 4.53s\tremaining: 6.33s\n",
      "417:\tlearn: 0.5380043\ttotal: 4.54s\tremaining: 6.32s\n",
      "418:\tlearn: 0.5378152\ttotal: 4.55s\tremaining: 6.31s\n",
      "419:\tlearn: 0.5376944\ttotal: 4.56s\tremaining: 6.29s\n",
      "420:\tlearn: 0.5376023\ttotal: 4.57s\tremaining: 6.28s\n",
      "421:\tlearn: 0.5375426\ttotal: 4.58s\tremaining: 6.27s\n",
      "422:\tlearn: 0.5373283\ttotal: 4.59s\tremaining: 6.26s\n",
      "423:\tlearn: 0.5372528\ttotal: 4.59s\tremaining: 6.24s\n",
      "424:\tlearn: 0.5371349\ttotal: 4.61s\tremaining: 6.23s\n",
      "425:\tlearn: 0.5370214\ttotal: 4.61s\tremaining: 6.22s\n",
      "426:\tlearn: 0.5368285\ttotal: 4.62s\tremaining: 6.21s\n",
      "427:\tlearn: 0.5366801\ttotal: 4.63s\tremaining: 6.19s\n",
      "428:\tlearn: 0.5364749\ttotal: 4.64s\tremaining: 6.18s\n",
      "429:\tlearn: 0.5363762\ttotal: 4.66s\tremaining: 6.17s\n",
      "430:\tlearn: 0.5362280\ttotal: 4.67s\tremaining: 6.16s\n",
      "431:\tlearn: 0.5360384\ttotal: 4.68s\tremaining: 6.15s\n",
      "432:\tlearn: 0.5359235\ttotal: 4.69s\tremaining: 6.14s\n",
      "433:\tlearn: 0.5358015\ttotal: 4.7s\tremaining: 6.13s\n",
      "434:\tlearn: 0.5355686\ttotal: 4.71s\tremaining: 6.12s\n",
      "435:\tlearn: 0.5354462\ttotal: 4.72s\tremaining: 6.1s\n",
      "436:\tlearn: 0.5352971\ttotal: 4.73s\tremaining: 6.09s\n",
      "437:\tlearn: 0.5351362\ttotal: 4.74s\tremaining: 6.08s\n",
      "438:\tlearn: 0.5350249\ttotal: 4.75s\tremaining: 6.07s\n",
      "439:\tlearn: 0.5348651\ttotal: 4.76s\tremaining: 6.06s\n",
      "440:\tlearn: 0.5347166\ttotal: 4.77s\tremaining: 6.04s\n",
      "441:\tlearn: 0.5346318\ttotal: 4.78s\tremaining: 6.03s\n",
      "442:\tlearn: 0.5345664\ttotal: 4.79s\tremaining: 6.02s\n",
      "443:\tlearn: 0.5342857\ttotal: 4.8s\tremaining: 6.01s\n",
      "444:\tlearn: 0.5341988\ttotal: 4.81s\tremaining: 6s\n",
      "445:\tlearn: 0.5341140\ttotal: 4.82s\tremaining: 5.98s\n",
      "446:\tlearn: 0.5339779\ttotal: 4.83s\tremaining: 5.97s\n",
      "447:\tlearn: 0.5337513\ttotal: 4.84s\tremaining: 5.96s\n",
      "448:\tlearn: 0.5336656\ttotal: 4.85s\tremaining: 5.95s\n",
      "449:\tlearn: 0.5334995\ttotal: 4.86s\tremaining: 5.94s\n",
      "450:\tlearn: 0.5334042\ttotal: 4.87s\tremaining: 5.93s\n",
      "451:\tlearn: 0.5331947\ttotal: 4.88s\tremaining: 5.91s\n",
      "452:\tlearn: 0.5330980\ttotal: 4.89s\tremaining: 5.9s\n",
      "453:\tlearn: 0.5329325\ttotal: 4.9s\tremaining: 5.89s\n",
      "454:\tlearn: 0.5328321\ttotal: 4.91s\tremaining: 5.88s\n",
      "455:\tlearn: 0.5327021\ttotal: 4.92s\tremaining: 5.87s\n",
      "456:\tlearn: 0.5325701\ttotal: 4.93s\tremaining: 5.86s\n",
      "457:\tlearn: 0.5323778\ttotal: 4.94s\tremaining: 5.84s\n",
      "458:\tlearn: 0.5322560\ttotal: 4.95s\tremaining: 5.83s\n",
      "459:\tlearn: 0.5321172\ttotal: 4.96s\tremaining: 5.82s\n",
      "460:\tlearn: 0.5319865\ttotal: 4.97s\tremaining: 5.81s\n",
      "461:\tlearn: 0.5318435\ttotal: 4.98s\tremaining: 5.79s\n",
      "462:\tlearn: 0.5317443\ttotal: 4.99s\tremaining: 5.78s\n",
      "463:\tlearn: 0.5315367\ttotal: 5s\tremaining: 5.77s\n",
      "464:\tlearn: 0.5314092\ttotal: 5s\tremaining: 5.76s\n",
      "465:\tlearn: 0.5312333\ttotal: 5.01s\tremaining: 5.75s\n",
      "466:\tlearn: 0.5310594\ttotal: 5.03s\tremaining: 5.74s\n",
      "467:\tlearn: 0.5306956\ttotal: 5.04s\tremaining: 5.72s\n",
      "468:\tlearn: 0.5305137\ttotal: 5.04s\tremaining: 5.71s\n",
      "469:\tlearn: 0.5303583\ttotal: 5.05s\tremaining: 5.7s\n",
      "470:\tlearn: 0.5301458\ttotal: 5.07s\tremaining: 5.69s\n",
      "471:\tlearn: 0.5299628\ttotal: 5.08s\tremaining: 5.68s\n",
      "472:\tlearn: 0.5297992\ttotal: 5.09s\tremaining: 5.67s\n",
      "473:\tlearn: 0.5297321\ttotal: 5.1s\tremaining: 5.66s\n",
      "474:\tlearn: 0.5296036\ttotal: 5.11s\tremaining: 5.64s\n",
      "475:\tlearn: 0.5294623\ttotal: 5.12s\tremaining: 5.63s\n",
      "476:\tlearn: 0.5293254\ttotal: 5.13s\tremaining: 5.62s\n",
      "477:\tlearn: 0.5291815\ttotal: 5.14s\tremaining: 5.61s\n",
      "478:\tlearn: 0.5290917\ttotal: 5.15s\tremaining: 5.6s\n",
      "479:\tlearn: 0.5289087\ttotal: 5.16s\tremaining: 5.59s\n",
      "480:\tlearn: 0.5286670\ttotal: 5.17s\tremaining: 5.58s\n",
      "481:\tlearn: 0.5286424\ttotal: 5.17s\tremaining: 5.56s\n",
      "482:\tlearn: 0.5284834\ttotal: 5.18s\tremaining: 5.55s\n",
      "483:\tlearn: 0.5282675\ttotal: 5.19s\tremaining: 5.54s\n",
      "484:\tlearn: 0.5280582\ttotal: 5.2s\tremaining: 5.53s\n",
      "485:\tlearn: 0.5279088\ttotal: 5.21s\tremaining: 5.51s\n",
      "486:\tlearn: 0.5278049\ttotal: 5.22s\tremaining: 5.5s\n",
      "487:\tlearn: 0.5277054\ttotal: 5.24s\tremaining: 5.49s\n",
      "488:\tlearn: 0.5275416\ttotal: 5.25s\tremaining: 5.48s\n",
      "489:\tlearn: 0.5274794\ttotal: 5.26s\tremaining: 5.47s\n",
      "490:\tlearn: 0.5273844\ttotal: 5.27s\tremaining: 5.46s\n",
      "491:\tlearn: 0.5272905\ttotal: 5.28s\tremaining: 5.45s\n",
      "492:\tlearn: 0.5272185\ttotal: 5.29s\tremaining: 5.44s\n",
      "493:\tlearn: 0.5270999\ttotal: 5.3s\tremaining: 5.43s\n",
      "494:\tlearn: 0.5269647\ttotal: 5.31s\tremaining: 5.42s\n",
      "495:\tlearn: 0.5269045\ttotal: 5.32s\tremaining: 5.41s\n",
      "496:\tlearn: 0.5266951\ttotal: 5.33s\tremaining: 5.39s\n",
      "497:\tlearn: 0.5266113\ttotal: 5.34s\tremaining: 5.38s\n",
      "498:\tlearn: 0.5265397\ttotal: 5.35s\tremaining: 5.37s\n",
      "499:\tlearn: 0.5263840\ttotal: 5.36s\tremaining: 5.36s\n",
      "500:\tlearn: 0.5262802\ttotal: 5.37s\tremaining: 5.35s\n",
      "501:\tlearn: 0.5262061\ttotal: 5.38s\tremaining: 5.33s\n",
      "502:\tlearn: 0.5260376\ttotal: 5.39s\tremaining: 5.32s\n",
      "503:\tlearn: 0.5258331\ttotal: 5.4s\tremaining: 5.31s\n",
      "504:\tlearn: 0.5256995\ttotal: 5.41s\tremaining: 5.3s\n",
      "505:\tlearn: 0.5256156\ttotal: 5.42s\tremaining: 5.29s\n",
      "506:\tlearn: 0.5254219\ttotal: 5.43s\tremaining: 5.28s\n",
      "507:\tlearn: 0.5251486\ttotal: 5.44s\tremaining: 5.26s\n",
      "508:\tlearn: 0.5250845\ttotal: 5.45s\tremaining: 5.25s\n",
      "509:\tlearn: 0.5249878\ttotal: 5.46s\tremaining: 5.24s\n",
      "510:\tlearn: 0.5248606\ttotal: 5.47s\tremaining: 5.23s\n",
      "511:\tlearn: 0.5246787\ttotal: 5.48s\tremaining: 5.22s\n",
      "512:\tlearn: 0.5245506\ttotal: 5.49s\tremaining: 5.21s\n",
      "513:\tlearn: 0.5244019\ttotal: 5.5s\tremaining: 5.2s\n",
      "514:\tlearn: 0.5243112\ttotal: 5.51s\tremaining: 5.19s\n",
      "515:\tlearn: 0.5241823\ttotal: 5.52s\tremaining: 5.18s\n",
      "516:\tlearn: 0.5240999\ttotal: 5.53s\tremaining: 5.17s\n",
      "517:\tlearn: 0.5239025\ttotal: 5.54s\tremaining: 5.16s\n",
      "518:\tlearn: 0.5237520\ttotal: 5.55s\tremaining: 5.14s\n",
      "519:\tlearn: 0.5236999\ttotal: 5.56s\tremaining: 5.13s\n",
      "520:\tlearn: 0.5235441\ttotal: 5.57s\tremaining: 5.12s\n",
      "521:\tlearn: 0.5234588\ttotal: 5.58s\tremaining: 5.11s\n",
      "522:\tlearn: 0.5233458\ttotal: 5.59s\tremaining: 5.1s\n",
      "523:\tlearn: 0.5232453\ttotal: 5.6s\tremaining: 5.09s\n",
      "524:\tlearn: 0.5230905\ttotal: 5.61s\tremaining: 5.08s\n",
      "525:\tlearn: 0.5230235\ttotal: 5.62s\tremaining: 5.06s\n",
      "526:\tlearn: 0.5229424\ttotal: 5.63s\tremaining: 5.05s\n",
      "527:\tlearn: 0.5228218\ttotal: 5.64s\tremaining: 5.04s\n",
      "528:\tlearn: 0.5227353\ttotal: 5.65s\tremaining: 5.03s\n",
      "529:\tlearn: 0.5226453\ttotal: 5.66s\tremaining: 5.02s\n",
      "530:\tlearn: 0.5225521\ttotal: 5.67s\tremaining: 5.01s\n",
      "531:\tlearn: 0.5223544\ttotal: 5.68s\tremaining: 5s\n",
      "532:\tlearn: 0.5221669\ttotal: 5.69s\tremaining: 4.98s\n",
      "533:\tlearn: 0.5220217\ttotal: 5.7s\tremaining: 4.97s\n",
      "534:\tlearn: 0.5219443\ttotal: 5.71s\tremaining: 4.96s\n",
      "535:\tlearn: 0.5217059\ttotal: 5.72s\tremaining: 4.95s\n",
      "536:\tlearn: 0.5215988\ttotal: 5.73s\tremaining: 4.94s\n",
      "537:\tlearn: 0.5214662\ttotal: 5.74s\tremaining: 4.93s\n",
      "538:\tlearn: 0.5213041\ttotal: 5.75s\tremaining: 4.92s\n",
      "539:\tlearn: 0.5211907\ttotal: 5.76s\tremaining: 4.91s\n",
      "540:\tlearn: 0.5209940\ttotal: 5.77s\tremaining: 4.9s\n",
      "541:\tlearn: 0.5208648\ttotal: 5.78s\tremaining: 4.88s\n",
      "542:\tlearn: 0.5205942\ttotal: 5.79s\tremaining: 4.87s\n",
      "543:\tlearn: 0.5204623\ttotal: 5.8s\tremaining: 4.86s\n",
      "544:\tlearn: 0.5203125\ttotal: 5.81s\tremaining: 4.85s\n",
      "545:\tlearn: 0.5202402\ttotal: 5.82s\tremaining: 4.84s\n",
      "546:\tlearn: 0.5200924\ttotal: 5.83s\tremaining: 4.83s\n",
      "547:\tlearn: 0.5199695\ttotal: 5.84s\tremaining: 4.82s\n",
      "548:\tlearn: 0.5197681\ttotal: 5.85s\tremaining: 4.8s\n",
      "549:\tlearn: 0.5196256\ttotal: 5.86s\tremaining: 4.79s\n",
      "550:\tlearn: 0.5195469\ttotal: 5.87s\tremaining: 4.78s\n",
      "551:\tlearn: 0.5193757\ttotal: 5.88s\tremaining: 4.77s\n",
      "552:\tlearn: 0.5192439\ttotal: 5.89s\tremaining: 4.76s\n",
      "553:\tlearn: 0.5191290\ttotal: 5.9s\tremaining: 4.75s\n",
      "554:\tlearn: 0.5189118\ttotal: 5.91s\tremaining: 4.74s\n",
      "555:\tlearn: 0.5187775\ttotal: 5.92s\tremaining: 4.73s\n",
      "556:\tlearn: 0.5186116\ttotal: 5.93s\tremaining: 4.72s\n",
      "557:\tlearn: 0.5185219\ttotal: 5.94s\tremaining: 4.71s\n",
      "558:\tlearn: 0.5183439\ttotal: 5.95s\tremaining: 4.69s\n",
      "559:\tlearn: 0.5182134\ttotal: 5.96s\tremaining: 4.68s\n",
      "560:\tlearn: 0.5180021\ttotal: 5.97s\tremaining: 4.67s\n",
      "561:\tlearn: 0.5178628\ttotal: 5.98s\tremaining: 4.66s\n",
      "562:\tlearn: 0.5177658\ttotal: 5.99s\tremaining: 4.65s\n",
      "563:\tlearn: 0.5176622\ttotal: 6s\tremaining: 4.64s\n",
      "564:\tlearn: 0.5175004\ttotal: 6.01s\tremaining: 4.63s\n",
      "565:\tlearn: 0.5174156\ttotal: 6.02s\tremaining: 4.61s\n",
      "566:\tlearn: 0.5173423\ttotal: 6.03s\tremaining: 4.6s\n",
      "567:\tlearn: 0.5172365\ttotal: 6.04s\tremaining: 4.59s\n",
      "568:\tlearn: 0.5171377\ttotal: 6.04s\tremaining: 4.58s\n",
      "569:\tlearn: 0.5170498\ttotal: 6.05s\tremaining: 4.57s\n",
      "570:\tlearn: 0.5169294\ttotal: 6.07s\tremaining: 4.56s\n",
      "571:\tlearn: 0.5168077\ttotal: 6.08s\tremaining: 4.54s\n",
      "572:\tlearn: 0.5166885\ttotal: 6.08s\tremaining: 4.53s\n",
      "573:\tlearn: 0.5165362\ttotal: 6.09s\tremaining: 4.52s\n",
      "574:\tlearn: 0.5164012\ttotal: 6.1s\tremaining: 4.51s\n",
      "575:\tlearn: 0.5163380\ttotal: 6.11s\tremaining: 4.5s\n",
      "576:\tlearn: 0.5162205\ttotal: 6.12s\tremaining: 4.49s\n",
      "577:\tlearn: 0.5161288\ttotal: 6.13s\tremaining: 4.48s\n",
      "578:\tlearn: 0.5160681\ttotal: 6.14s\tremaining: 4.47s\n",
      "579:\tlearn: 0.5159081\ttotal: 6.16s\tremaining: 4.46s\n",
      "580:\tlearn: 0.5158362\ttotal: 6.17s\tremaining: 4.45s\n",
      "581:\tlearn: 0.5157078\ttotal: 6.17s\tremaining: 4.43s\n",
      "582:\tlearn: 0.5155871\ttotal: 6.18s\tremaining: 4.42s\n",
      "583:\tlearn: 0.5154417\ttotal: 6.2s\tremaining: 4.41s\n",
      "584:\tlearn: 0.5152614\ttotal: 6.2s\tremaining: 4.4s\n",
      "585:\tlearn: 0.5151110\ttotal: 6.21s\tremaining: 4.39s\n",
      "586:\tlearn: 0.5148957\ttotal: 6.22s\tremaining: 4.38s\n",
      "587:\tlearn: 0.5147914\ttotal: 6.23s\tremaining: 4.37s\n",
      "588:\tlearn: 0.5146503\ttotal: 6.24s\tremaining: 4.36s\n",
      "589:\tlearn: 0.5144917\ttotal: 6.25s\tremaining: 4.34s\n",
      "590:\tlearn: 0.5143033\ttotal: 6.26s\tremaining: 4.33s\n",
      "591:\tlearn: 0.5142219\ttotal: 6.27s\tremaining: 4.32s\n",
      "592:\tlearn: 0.5140339\ttotal: 6.28s\tremaining: 4.31s\n",
      "593:\tlearn: 0.5138610\ttotal: 6.29s\tremaining: 4.3s\n",
      "594:\tlearn: 0.5136848\ttotal: 6.3s\tremaining: 4.29s\n",
      "595:\tlearn: 0.5135244\ttotal: 6.31s\tremaining: 4.28s\n",
      "596:\tlearn: 0.5134591\ttotal: 6.32s\tremaining: 4.27s\n",
      "597:\tlearn: 0.5133387\ttotal: 6.34s\tremaining: 4.26s\n",
      "598:\tlearn: 0.5131487\ttotal: 6.35s\tremaining: 4.25s\n",
      "599:\tlearn: 0.5130576\ttotal: 6.36s\tremaining: 4.24s\n",
      "600:\tlearn: 0.5129289\ttotal: 6.37s\tremaining: 4.23s\n",
      "601:\tlearn: 0.5128197\ttotal: 6.38s\tremaining: 4.22s\n",
      "602:\tlearn: 0.5127482\ttotal: 6.39s\tremaining: 4.21s\n",
      "603:\tlearn: 0.5126725\ttotal: 6.4s\tremaining: 4.2s\n",
      "604:\tlearn: 0.5124885\ttotal: 6.41s\tremaining: 4.18s\n",
      "605:\tlearn: 0.5123808\ttotal: 6.42s\tremaining: 4.17s\n",
      "606:\tlearn: 0.5122113\ttotal: 6.43s\tremaining: 4.16s\n",
      "607:\tlearn: 0.5120666\ttotal: 6.44s\tremaining: 4.15s\n",
      "608:\tlearn: 0.5119145\ttotal: 6.45s\tremaining: 4.14s\n",
      "609:\tlearn: 0.5118691\ttotal: 6.46s\tremaining: 4.13s\n",
      "610:\tlearn: 0.5117401\ttotal: 6.47s\tremaining: 4.12s\n",
      "611:\tlearn: 0.5115939\ttotal: 6.48s\tremaining: 4.11s\n",
      "612:\tlearn: 0.5113943\ttotal: 6.49s\tremaining: 4.1s\n",
      "613:\tlearn: 0.5112728\ttotal: 6.5s\tremaining: 4.08s\n",
      "614:\tlearn: 0.5111099\ttotal: 6.51s\tremaining: 4.07s\n",
      "615:\tlearn: 0.5110563\ttotal: 6.52s\tremaining: 4.06s\n",
      "616:\tlearn: 0.5110215\ttotal: 6.53s\tremaining: 4.05s\n",
      "617:\tlearn: 0.5109211\ttotal: 6.54s\tremaining: 4.04s\n",
      "618:\tlearn: 0.5108222\ttotal: 6.55s\tremaining: 4.03s\n",
      "619:\tlearn: 0.5107415\ttotal: 6.56s\tremaining: 4.02s\n",
      "620:\tlearn: 0.5106057\ttotal: 6.57s\tremaining: 4.01s\n",
      "621:\tlearn: 0.5104005\ttotal: 6.58s\tremaining: 4s\n",
      "622:\tlearn: 0.5102469\ttotal: 6.59s\tremaining: 3.99s\n",
      "623:\tlearn: 0.5101050\ttotal: 6.6s\tremaining: 3.98s\n",
      "624:\tlearn: 0.5100550\ttotal: 6.61s\tremaining: 3.97s\n",
      "625:\tlearn: 0.5099122\ttotal: 6.62s\tremaining: 3.96s\n",
      "626:\tlearn: 0.5097919\ttotal: 6.63s\tremaining: 3.94s\n",
      "627:\tlearn: 0.5096292\ttotal: 6.64s\tremaining: 3.94s\n",
      "628:\tlearn: 0.5093896\ttotal: 6.65s\tremaining: 3.92s\n",
      "629:\tlearn: 0.5092294\ttotal: 6.66s\tremaining: 3.91s\n",
      "630:\tlearn: 0.5091497\ttotal: 6.67s\tremaining: 3.9s\n",
      "631:\tlearn: 0.5089503\ttotal: 6.68s\tremaining: 3.89s\n",
      "632:\tlearn: 0.5088481\ttotal: 6.69s\tremaining: 3.88s\n",
      "633:\tlearn: 0.5087562\ttotal: 6.7s\tremaining: 3.87s\n",
      "634:\tlearn: 0.5086048\ttotal: 6.71s\tremaining: 3.86s\n",
      "635:\tlearn: 0.5085003\ttotal: 6.72s\tremaining: 3.85s\n",
      "636:\tlearn: 0.5083865\ttotal: 6.74s\tremaining: 3.84s\n",
      "637:\tlearn: 0.5081584\ttotal: 6.75s\tremaining: 3.83s\n",
      "638:\tlearn: 0.5080912\ttotal: 6.76s\tremaining: 3.82s\n",
      "639:\tlearn: 0.5078702\ttotal: 6.77s\tremaining: 3.81s\n",
      "640:\tlearn: 0.5077136\ttotal: 6.78s\tremaining: 3.79s\n",
      "641:\tlearn: 0.5076319\ttotal: 6.79s\tremaining: 3.78s\n",
      "642:\tlearn: 0.5075367\ttotal: 6.8s\tremaining: 3.77s\n",
      "643:\tlearn: 0.5074248\ttotal: 6.81s\tremaining: 3.76s\n",
      "644:\tlearn: 0.5073380\ttotal: 6.82s\tremaining: 3.75s\n",
      "645:\tlearn: 0.5071480\ttotal: 6.83s\tremaining: 3.74s\n",
      "646:\tlearn: 0.5070249\ttotal: 6.84s\tremaining: 3.73s\n",
      "647:\tlearn: 0.5068475\ttotal: 6.85s\tremaining: 3.72s\n",
      "648:\tlearn: 0.5067308\ttotal: 6.86s\tremaining: 3.71s\n",
      "649:\tlearn: 0.5066273\ttotal: 6.87s\tremaining: 3.7s\n",
      "650:\tlearn: 0.5065583\ttotal: 6.88s\tremaining: 3.69s\n",
      "651:\tlearn: 0.5064463\ttotal: 6.89s\tremaining: 3.68s\n",
      "652:\tlearn: 0.5063537\ttotal: 6.9s\tremaining: 3.67s\n",
      "653:\tlearn: 0.5063007\ttotal: 6.91s\tremaining: 3.65s\n",
      "654:\tlearn: 0.5061419\ttotal: 6.92s\tremaining: 3.64s\n",
      "655:\tlearn: 0.5060074\ttotal: 6.93s\tremaining: 3.63s\n",
      "656:\tlearn: 0.5058787\ttotal: 6.94s\tremaining: 3.62s\n",
      "657:\tlearn: 0.5057672\ttotal: 6.95s\tremaining: 3.61s\n",
      "658:\tlearn: 0.5055623\ttotal: 6.96s\tremaining: 3.6s\n",
      "659:\tlearn: 0.5054834\ttotal: 6.97s\tremaining: 3.59s\n",
      "660:\tlearn: 0.5053728\ttotal: 6.98s\tremaining: 3.58s\n",
      "661:\tlearn: 0.5052863\ttotal: 6.99s\tremaining: 3.57s\n",
      "662:\tlearn: 0.5050928\ttotal: 7s\tremaining: 3.56s\n",
      "663:\tlearn: 0.5049460\ttotal: 7.01s\tremaining: 3.55s\n",
      "664:\tlearn: 0.5048400\ttotal: 7.02s\tremaining: 3.54s\n",
      "665:\tlearn: 0.5046474\ttotal: 7.03s\tremaining: 3.53s\n",
      "666:\tlearn: 0.5044762\ttotal: 7.04s\tremaining: 3.52s\n",
      "667:\tlearn: 0.5042697\ttotal: 7.05s\tremaining: 3.5s\n",
      "668:\tlearn: 0.5040171\ttotal: 7.06s\tremaining: 3.5s\n",
      "669:\tlearn: 0.5038984\ttotal: 7.07s\tremaining: 3.48s\n",
      "670:\tlearn: 0.5037010\ttotal: 7.08s\tremaining: 3.47s\n",
      "671:\tlearn: 0.5035480\ttotal: 7.09s\tremaining: 3.46s\n",
      "672:\tlearn: 0.5032641\ttotal: 7.1s\tremaining: 3.45s\n",
      "673:\tlearn: 0.5030470\ttotal: 7.11s\tremaining: 3.44s\n",
      "674:\tlearn: 0.5029330\ttotal: 7.12s\tremaining: 3.43s\n",
      "675:\tlearn: 0.5028614\ttotal: 7.13s\tremaining: 3.42s\n",
      "676:\tlearn: 0.5027888\ttotal: 7.14s\tremaining: 3.41s\n",
      "677:\tlearn: 0.5026637\ttotal: 7.15s\tremaining: 3.4s\n",
      "678:\tlearn: 0.5025253\ttotal: 7.16s\tremaining: 3.39s\n",
      "679:\tlearn: 0.5024539\ttotal: 7.17s\tremaining: 3.38s\n",
      "680:\tlearn: 0.5023652\ttotal: 7.18s\tremaining: 3.37s\n",
      "681:\tlearn: 0.5022730\ttotal: 7.2s\tremaining: 3.35s\n",
      "682:\tlearn: 0.5021697\ttotal: 7.21s\tremaining: 3.34s\n",
      "683:\tlearn: 0.5019978\ttotal: 7.22s\tremaining: 3.33s\n",
      "684:\tlearn: 0.5017972\ttotal: 7.23s\tremaining: 3.32s\n",
      "685:\tlearn: 0.5017120\ttotal: 7.24s\tremaining: 3.31s\n",
      "686:\tlearn: 0.5016143\ttotal: 7.25s\tremaining: 3.3s\n",
      "687:\tlearn: 0.5014945\ttotal: 7.26s\tremaining: 3.29s\n",
      "688:\tlearn: 0.5012823\ttotal: 7.26s\tremaining: 3.28s\n",
      "689:\tlearn: 0.5011584\ttotal: 7.28s\tremaining: 3.27s\n",
      "690:\tlearn: 0.5009464\ttotal: 7.29s\tremaining: 3.26s\n",
      "691:\tlearn: 0.5008187\ttotal: 7.29s\tremaining: 3.25s\n",
      "692:\tlearn: 0.5006582\ttotal: 7.3s\tremaining: 3.24s\n",
      "693:\tlearn: 0.5005381\ttotal: 7.32s\tremaining: 3.23s\n",
      "694:\tlearn: 0.5003317\ttotal: 7.33s\tremaining: 3.21s\n",
      "695:\tlearn: 0.5002377\ttotal: 7.34s\tremaining: 3.2s\n",
      "696:\tlearn: 0.5001024\ttotal: 7.35s\tremaining: 3.19s\n",
      "697:\tlearn: 0.4999006\ttotal: 7.36s\tremaining: 3.18s\n",
      "698:\tlearn: 0.4997699\ttotal: 7.37s\tremaining: 3.17s\n",
      "699:\tlearn: 0.4995586\ttotal: 7.38s\tremaining: 3.16s\n",
      "700:\tlearn: 0.4994826\ttotal: 7.39s\tremaining: 3.15s\n",
      "701:\tlearn: 0.4993716\ttotal: 7.4s\tremaining: 3.14s\n",
      "702:\tlearn: 0.4992027\ttotal: 7.41s\tremaining: 3.13s\n",
      "703:\tlearn: 0.4990768\ttotal: 7.42s\tremaining: 3.12s\n",
      "704:\tlearn: 0.4988108\ttotal: 7.43s\tremaining: 3.11s\n",
      "705:\tlearn: 0.4985827\ttotal: 7.44s\tremaining: 3.1s\n",
      "706:\tlearn: 0.4985292\ttotal: 7.45s\tremaining: 3.09s\n",
      "707:\tlearn: 0.4984190\ttotal: 7.46s\tremaining: 3.08s\n",
      "708:\tlearn: 0.4982956\ttotal: 7.47s\tremaining: 3.07s\n",
      "709:\tlearn: 0.4981194\ttotal: 7.48s\tremaining: 3.06s\n",
      "710:\tlearn: 0.4980590\ttotal: 7.49s\tremaining: 3.04s\n",
      "711:\tlearn: 0.4978456\ttotal: 7.5s\tremaining: 3.03s\n",
      "712:\tlearn: 0.4977173\ttotal: 7.51s\tremaining: 3.02s\n",
      "713:\tlearn: 0.4976615\ttotal: 7.52s\tremaining: 3.01s\n",
      "714:\tlearn: 0.4975862\ttotal: 7.53s\tremaining: 3s\n",
      "715:\tlearn: 0.4975015\ttotal: 7.54s\tremaining: 2.99s\n",
      "716:\tlearn: 0.4973517\ttotal: 7.55s\tremaining: 2.98s\n",
      "717:\tlearn: 0.4972917\ttotal: 7.56s\tremaining: 2.97s\n",
      "718:\tlearn: 0.4971871\ttotal: 7.57s\tremaining: 2.96s\n",
      "719:\tlearn: 0.4970082\ttotal: 7.58s\tremaining: 2.95s\n",
      "720:\tlearn: 0.4968244\ttotal: 7.59s\tremaining: 2.94s\n",
      "721:\tlearn: 0.4967162\ttotal: 7.6s\tremaining: 2.93s\n",
      "722:\tlearn: 0.4965617\ttotal: 7.61s\tremaining: 2.92s\n",
      "723:\tlearn: 0.4964741\ttotal: 7.62s\tremaining: 2.91s\n",
      "724:\tlearn: 0.4962996\ttotal: 7.63s\tremaining: 2.9s\n",
      "725:\tlearn: 0.4962421\ttotal: 7.64s\tremaining: 2.88s\n",
      "726:\tlearn: 0.4961772\ttotal: 7.65s\tremaining: 2.87s\n",
      "727:\tlearn: 0.4961096\ttotal: 7.66s\tremaining: 2.86s\n",
      "728:\tlearn: 0.4960368\ttotal: 7.67s\tremaining: 2.85s\n",
      "729:\tlearn: 0.4959524\ttotal: 7.68s\tremaining: 2.84s\n",
      "730:\tlearn: 0.4957358\ttotal: 7.69s\tremaining: 2.83s\n",
      "731:\tlearn: 0.4955680\ttotal: 7.71s\tremaining: 2.82s\n",
      "732:\tlearn: 0.4953495\ttotal: 7.71s\tremaining: 2.81s\n",
      "733:\tlearn: 0.4952975\ttotal: 7.72s\tremaining: 2.8s\n",
      "734:\tlearn: 0.4951181\ttotal: 7.74s\tremaining: 2.79s\n",
      "735:\tlearn: 0.4949682\ttotal: 7.75s\tremaining: 2.78s\n",
      "736:\tlearn: 0.4948994\ttotal: 7.75s\tremaining: 2.77s\n",
      "737:\tlearn: 0.4947467\ttotal: 7.76s\tremaining: 2.76s\n",
      "738:\tlearn: 0.4945193\ttotal: 7.78s\tremaining: 2.75s\n",
      "739:\tlearn: 0.4943641\ttotal: 7.79s\tremaining: 2.73s\n",
      "740:\tlearn: 0.4942940\ttotal: 7.8s\tremaining: 2.73s\n",
      "741:\tlearn: 0.4942444\ttotal: 7.81s\tremaining: 2.71s\n",
      "742:\tlearn: 0.4940146\ttotal: 7.82s\tremaining: 2.7s\n",
      "743:\tlearn: 0.4938158\ttotal: 7.83s\tremaining: 2.69s\n",
      "744:\tlearn: 0.4937049\ttotal: 7.84s\tremaining: 2.68s\n",
      "745:\tlearn: 0.4935341\ttotal: 7.85s\tremaining: 2.67s\n",
      "746:\tlearn: 0.4934101\ttotal: 7.86s\tremaining: 2.66s\n",
      "747:\tlearn: 0.4932072\ttotal: 7.87s\tremaining: 2.65s\n",
      "748:\tlearn: 0.4930569\ttotal: 7.88s\tremaining: 2.64s\n",
      "749:\tlearn: 0.4929319\ttotal: 7.89s\tremaining: 2.63s\n",
      "750:\tlearn: 0.4927864\ttotal: 7.9s\tremaining: 2.62s\n",
      "751:\tlearn: 0.4926343\ttotal: 7.91s\tremaining: 2.61s\n",
      "752:\tlearn: 0.4924324\ttotal: 7.92s\tremaining: 2.6s\n",
      "753:\tlearn: 0.4923112\ttotal: 7.93s\tremaining: 2.59s\n",
      "754:\tlearn: 0.4921944\ttotal: 7.94s\tremaining: 2.58s\n",
      "755:\tlearn: 0.4920537\ttotal: 7.96s\tremaining: 2.57s\n",
      "756:\tlearn: 0.4918832\ttotal: 7.96s\tremaining: 2.56s\n",
      "757:\tlearn: 0.4917554\ttotal: 7.97s\tremaining: 2.55s\n",
      "758:\tlearn: 0.4916821\ttotal: 7.99s\tremaining: 2.54s\n",
      "759:\tlearn: 0.4916107\ttotal: 8s\tremaining: 2.52s\n",
      "760:\tlearn: 0.4914350\ttotal: 8.01s\tremaining: 2.51s\n",
      "761:\tlearn: 0.4912317\ttotal: 8.02s\tremaining: 2.5s\n",
      "762:\tlearn: 0.4910457\ttotal: 8.03s\tremaining: 2.49s\n",
      "763:\tlearn: 0.4908448\ttotal: 8.04s\tremaining: 2.48s\n",
      "764:\tlearn: 0.4907294\ttotal: 8.05s\tremaining: 2.47s\n",
      "765:\tlearn: 0.4906272\ttotal: 8.06s\tremaining: 2.46s\n",
      "766:\tlearn: 0.4903619\ttotal: 8.07s\tremaining: 2.45s\n",
      "767:\tlearn: 0.4902047\ttotal: 8.08s\tremaining: 2.44s\n",
      "768:\tlearn: 0.4901268\ttotal: 8.1s\tremaining: 2.43s\n",
      "769:\tlearn: 0.4899853\ttotal: 8.13s\tremaining: 2.43s\n",
      "770:\tlearn: 0.4898953\ttotal: 8.14s\tremaining: 2.42s\n",
      "771:\tlearn: 0.4896601\ttotal: 8.17s\tremaining: 2.41s\n",
      "772:\tlearn: 0.4895464\ttotal: 8.18s\tremaining: 2.4s\n",
      "773:\tlearn: 0.4893904\ttotal: 8.19s\tremaining: 2.39s\n",
      "774:\tlearn: 0.4892157\ttotal: 8.2s\tremaining: 2.38s\n",
      "775:\tlearn: 0.4890934\ttotal: 8.21s\tremaining: 2.37s\n",
      "776:\tlearn: 0.4889219\ttotal: 8.22s\tremaining: 2.36s\n",
      "777:\tlearn: 0.4888079\ttotal: 8.23s\tremaining: 2.35s\n",
      "778:\tlearn: 0.4886990\ttotal: 8.25s\tremaining: 2.34s\n",
      "779:\tlearn: 0.4885786\ttotal: 8.26s\tremaining: 2.33s\n",
      "780:\tlearn: 0.4884669\ttotal: 8.27s\tremaining: 2.32s\n",
      "781:\tlearn: 0.4884029\ttotal: 8.28s\tremaining: 2.31s\n",
      "782:\tlearn: 0.4883126\ttotal: 8.29s\tremaining: 2.3s\n",
      "783:\tlearn: 0.4881851\ttotal: 8.3s\tremaining: 2.29s\n",
      "784:\tlearn: 0.4880845\ttotal: 8.31s\tremaining: 2.28s\n",
      "785:\tlearn: 0.4878695\ttotal: 8.32s\tremaining: 2.27s\n",
      "786:\tlearn: 0.4876916\ttotal: 8.33s\tremaining: 2.25s\n",
      "787:\tlearn: 0.4876061\ttotal: 8.34s\tremaining: 2.24s\n",
      "788:\tlearn: 0.4875121\ttotal: 8.35s\tremaining: 2.23s\n",
      "789:\tlearn: 0.4873652\ttotal: 8.36s\tremaining: 2.22s\n",
      "790:\tlearn: 0.4872308\ttotal: 8.37s\tremaining: 2.21s\n",
      "791:\tlearn: 0.4870805\ttotal: 8.38s\tremaining: 2.2s\n",
      "792:\tlearn: 0.4869564\ttotal: 8.4s\tremaining: 2.19s\n",
      "793:\tlearn: 0.4868232\ttotal: 8.41s\tremaining: 2.18s\n",
      "794:\tlearn: 0.4867666\ttotal: 8.42s\tremaining: 2.17s\n",
      "795:\tlearn: 0.4866965\ttotal: 8.43s\tremaining: 2.16s\n",
      "796:\tlearn: 0.4866200\ttotal: 8.44s\tremaining: 2.15s\n",
      "797:\tlearn: 0.4865106\ttotal: 8.46s\tremaining: 2.14s\n",
      "798:\tlearn: 0.4863811\ttotal: 8.47s\tremaining: 2.13s\n",
      "799:\tlearn: 0.4862842\ttotal: 8.48s\tremaining: 2.12s\n",
      "800:\tlearn: 0.4861443\ttotal: 8.49s\tremaining: 2.11s\n",
      "801:\tlearn: 0.4858933\ttotal: 8.5s\tremaining: 2.1s\n",
      "802:\tlearn: 0.4858366\ttotal: 8.51s\tremaining: 2.09s\n",
      "803:\tlearn: 0.4857621\ttotal: 8.52s\tremaining: 2.08s\n",
      "804:\tlearn: 0.4854932\ttotal: 8.53s\tremaining: 2.07s\n",
      "805:\tlearn: 0.4852371\ttotal: 8.54s\tremaining: 2.06s\n",
      "806:\tlearn: 0.4850617\ttotal: 8.55s\tremaining: 2.04s\n",
      "807:\tlearn: 0.4848265\ttotal: 8.56s\tremaining: 2.03s\n",
      "808:\tlearn: 0.4846944\ttotal: 8.57s\tremaining: 2.02s\n",
      "809:\tlearn: 0.4845663\ttotal: 8.59s\tremaining: 2.01s\n",
      "810:\tlearn: 0.4845258\ttotal: 8.6s\tremaining: 2s\n",
      "811:\tlearn: 0.4844568\ttotal: 8.61s\tremaining: 1.99s\n",
      "812:\tlearn: 0.4843164\ttotal: 8.62s\tremaining: 1.98s\n",
      "813:\tlearn: 0.4841824\ttotal: 8.63s\tremaining: 1.97s\n",
      "814:\tlearn: 0.4840859\ttotal: 8.64s\tremaining: 1.96s\n",
      "815:\tlearn: 0.4839067\ttotal: 8.65s\tremaining: 1.95s\n",
      "816:\tlearn: 0.4837199\ttotal: 8.66s\tremaining: 1.94s\n",
      "817:\tlearn: 0.4836264\ttotal: 8.67s\tremaining: 1.93s\n",
      "818:\tlearn: 0.4834811\ttotal: 8.68s\tremaining: 1.92s\n",
      "819:\tlearn: 0.4833612\ttotal: 8.7s\tremaining: 1.91s\n",
      "820:\tlearn: 0.4831890\ttotal: 8.71s\tremaining: 1.9s\n",
      "821:\tlearn: 0.4830986\ttotal: 8.71s\tremaining: 1.89s\n",
      "822:\tlearn: 0.4830048\ttotal: 8.73s\tremaining: 1.88s\n",
      "823:\tlearn: 0.4829368\ttotal: 8.73s\tremaining: 1.86s\n",
      "824:\tlearn: 0.4827966\ttotal: 8.74s\tremaining: 1.85s\n",
      "825:\tlearn: 0.4826522\ttotal: 8.76s\tremaining: 1.84s\n",
      "826:\tlearn: 0.4825342\ttotal: 8.76s\tremaining: 1.83s\n",
      "827:\tlearn: 0.4823209\ttotal: 8.77s\tremaining: 1.82s\n",
      "828:\tlearn: 0.4822723\ttotal: 8.78s\tremaining: 1.81s\n",
      "829:\tlearn: 0.4821935\ttotal: 8.79s\tremaining: 1.8s\n",
      "830:\tlearn: 0.4820723\ttotal: 8.8s\tremaining: 1.79s\n",
      "831:\tlearn: 0.4819484\ttotal: 8.81s\tremaining: 1.78s\n",
      "832:\tlearn: 0.4817884\ttotal: 8.82s\tremaining: 1.77s\n",
      "833:\tlearn: 0.4816604\ttotal: 8.83s\tremaining: 1.76s\n",
      "834:\tlearn: 0.4815237\ttotal: 8.84s\tremaining: 1.75s\n",
      "835:\tlearn: 0.4813498\ttotal: 8.85s\tremaining: 1.74s\n",
      "836:\tlearn: 0.4811890\ttotal: 8.86s\tremaining: 1.73s\n",
      "837:\tlearn: 0.4811196\ttotal: 8.87s\tremaining: 1.72s\n",
      "838:\tlearn: 0.4809818\ttotal: 8.89s\tremaining: 1.71s\n",
      "839:\tlearn: 0.4808802\ttotal: 8.91s\tremaining: 1.7s\n",
      "840:\tlearn: 0.4808016\ttotal: 8.93s\tremaining: 1.69s\n",
      "841:\tlearn: 0.4806453\ttotal: 8.94s\tremaining: 1.68s\n",
      "842:\tlearn: 0.4804510\ttotal: 8.96s\tremaining: 1.67s\n",
      "843:\tlearn: 0.4802840\ttotal: 8.97s\tremaining: 1.66s\n",
      "844:\tlearn: 0.4800571\ttotal: 8.98s\tremaining: 1.65s\n",
      "845:\tlearn: 0.4799635\ttotal: 8.99s\tremaining: 1.64s\n",
      "846:\tlearn: 0.4798744\ttotal: 9s\tremaining: 1.63s\n",
      "847:\tlearn: 0.4797680\ttotal: 9.01s\tremaining: 1.61s\n",
      "848:\tlearn: 0.4796645\ttotal: 9.02s\tremaining: 1.6s\n",
      "849:\tlearn: 0.4795257\ttotal: 9.03s\tremaining: 1.59s\n",
      "850:\tlearn: 0.4794212\ttotal: 9.04s\tremaining: 1.58s\n",
      "851:\tlearn: 0.4793616\ttotal: 9.05s\tremaining: 1.57s\n",
      "852:\tlearn: 0.4792805\ttotal: 9.06s\tremaining: 1.56s\n",
      "853:\tlearn: 0.4791567\ttotal: 9.07s\tremaining: 1.55s\n",
      "854:\tlearn: 0.4790213\ttotal: 9.08s\tremaining: 1.54s\n",
      "855:\tlearn: 0.4788804\ttotal: 9.09s\tremaining: 1.53s\n",
      "856:\tlearn: 0.4787422\ttotal: 9.1s\tremaining: 1.52s\n",
      "857:\tlearn: 0.4786766\ttotal: 9.11s\tremaining: 1.51s\n",
      "858:\tlearn: 0.4784629\ttotal: 9.12s\tremaining: 1.5s\n",
      "859:\tlearn: 0.4783308\ttotal: 9.13s\tremaining: 1.49s\n",
      "860:\tlearn: 0.4781413\ttotal: 9.14s\tremaining: 1.48s\n",
      "861:\tlearn: 0.4780260\ttotal: 9.15s\tremaining: 1.47s\n",
      "862:\tlearn: 0.4778994\ttotal: 9.16s\tremaining: 1.45s\n",
      "863:\tlearn: 0.4777971\ttotal: 9.17s\tremaining: 1.44s\n",
      "864:\tlearn: 0.4777112\ttotal: 9.18s\tremaining: 1.43s\n",
      "865:\tlearn: 0.4775774\ttotal: 9.19s\tremaining: 1.42s\n",
      "866:\tlearn: 0.4774969\ttotal: 9.2s\tremaining: 1.41s\n",
      "867:\tlearn: 0.4773172\ttotal: 9.21s\tremaining: 1.4s\n",
      "868:\tlearn: 0.4772303\ttotal: 9.22s\tremaining: 1.39s\n",
      "869:\tlearn: 0.4771030\ttotal: 9.23s\tremaining: 1.38s\n",
      "870:\tlearn: 0.4770684\ttotal: 9.24s\tremaining: 1.37s\n",
      "871:\tlearn: 0.4768649\ttotal: 9.25s\tremaining: 1.36s\n",
      "872:\tlearn: 0.4767382\ttotal: 9.27s\tremaining: 1.35s\n",
      "873:\tlearn: 0.4766661\ttotal: 9.27s\tremaining: 1.34s\n",
      "874:\tlearn: 0.4765677\ttotal: 9.29s\tremaining: 1.33s\n",
      "875:\tlearn: 0.4764625\ttotal: 9.3s\tremaining: 1.32s\n",
      "876:\tlearn: 0.4762808\ttotal: 9.31s\tremaining: 1.3s\n",
      "877:\tlearn: 0.4761823\ttotal: 9.32s\tremaining: 1.29s\n",
      "878:\tlearn: 0.4760708\ttotal: 9.33s\tremaining: 1.28s\n",
      "879:\tlearn: 0.4759326\ttotal: 9.34s\tremaining: 1.27s\n",
      "880:\tlearn: 0.4757524\ttotal: 9.35s\tremaining: 1.26s\n",
      "881:\tlearn: 0.4755904\ttotal: 9.36s\tremaining: 1.25s\n",
      "882:\tlearn: 0.4753863\ttotal: 9.37s\tremaining: 1.24s\n",
      "883:\tlearn: 0.4752519\ttotal: 9.38s\tremaining: 1.23s\n",
      "884:\tlearn: 0.4751754\ttotal: 9.39s\tremaining: 1.22s\n",
      "885:\tlearn: 0.4750101\ttotal: 9.4s\tremaining: 1.21s\n",
      "886:\tlearn: 0.4749136\ttotal: 9.41s\tremaining: 1.2s\n",
      "887:\tlearn: 0.4747525\ttotal: 9.42s\tremaining: 1.19s\n",
      "888:\tlearn: 0.4747098\ttotal: 9.43s\tremaining: 1.18s\n",
      "889:\tlearn: 0.4745639\ttotal: 9.44s\tremaining: 1.17s\n",
      "890:\tlearn: 0.4744319\ttotal: 9.45s\tremaining: 1.16s\n",
      "891:\tlearn: 0.4742615\ttotal: 9.46s\tremaining: 1.15s\n",
      "892:\tlearn: 0.4742011\ttotal: 9.47s\tremaining: 1.13s\n",
      "893:\tlearn: 0.4740426\ttotal: 9.48s\tremaining: 1.12s\n",
      "894:\tlearn: 0.4739138\ttotal: 9.49s\tremaining: 1.11s\n",
      "895:\tlearn: 0.4737656\ttotal: 9.51s\tremaining: 1.1s\n",
      "896:\tlearn: 0.4736708\ttotal: 9.52s\tremaining: 1.09s\n",
      "897:\tlearn: 0.4735216\ttotal: 9.53s\tremaining: 1.08s\n",
      "898:\tlearn: 0.4733894\ttotal: 9.54s\tremaining: 1.07s\n",
      "899:\tlearn: 0.4732584\ttotal: 9.55s\tremaining: 1.06s\n",
      "900:\tlearn: 0.4731592\ttotal: 9.56s\tremaining: 1.05s\n",
      "901:\tlearn: 0.4730934\ttotal: 9.57s\tremaining: 1.04s\n",
      "902:\tlearn: 0.4729752\ttotal: 9.58s\tremaining: 1.03s\n",
      "903:\tlearn: 0.4727437\ttotal: 9.59s\tremaining: 1.02s\n",
      "904:\tlearn: 0.4725999\ttotal: 9.6s\tremaining: 1.01s\n",
      "905:\tlearn: 0.4724823\ttotal: 9.61s\tremaining: 997ms\n",
      "906:\tlearn: 0.4723688\ttotal: 9.62s\tremaining: 987ms\n",
      "907:\tlearn: 0.4722456\ttotal: 9.63s\tremaining: 976ms\n",
      "908:\tlearn: 0.4721486\ttotal: 9.64s\tremaining: 966ms\n",
      "909:\tlearn: 0.4720903\ttotal: 9.65s\tremaining: 955ms\n",
      "910:\tlearn: 0.4718353\ttotal: 9.66s\tremaining: 944ms\n",
      "911:\tlearn: 0.4717829\ttotal: 9.68s\tremaining: 934ms\n",
      "912:\tlearn: 0.4716679\ttotal: 9.69s\tremaining: 923ms\n",
      "913:\tlearn: 0.4715451\ttotal: 9.7s\tremaining: 912ms\n",
      "914:\tlearn: 0.4714612\ttotal: 9.71s\tremaining: 902ms\n",
      "915:\tlearn: 0.4712928\ttotal: 9.72s\tremaining: 891ms\n",
      "916:\tlearn: 0.4711546\ttotal: 9.73s\tremaining: 881ms\n",
      "917:\tlearn: 0.4710428\ttotal: 9.74s\tremaining: 870ms\n",
      "918:\tlearn: 0.4709309\ttotal: 9.75s\tremaining: 859ms\n",
      "919:\tlearn: 0.4707845\ttotal: 9.76s\tremaining: 849ms\n",
      "920:\tlearn: 0.4707034\ttotal: 9.77s\tremaining: 838ms\n",
      "921:\tlearn: 0.4706577\ttotal: 9.78s\tremaining: 827ms\n",
      "922:\tlearn: 0.4706052\ttotal: 9.79s\tremaining: 817ms\n",
      "923:\tlearn: 0.4704909\ttotal: 9.8s\tremaining: 806ms\n",
      "924:\tlearn: 0.4703852\ttotal: 9.81s\tremaining: 795ms\n",
      "925:\tlearn: 0.4702581\ttotal: 9.82s\tremaining: 785ms\n",
      "926:\tlearn: 0.4700881\ttotal: 9.83s\tremaining: 774ms\n",
      "927:\tlearn: 0.4698894\ttotal: 9.84s\tremaining: 763ms\n",
      "928:\tlearn: 0.4697650\ttotal: 9.85s\tremaining: 753ms\n",
      "929:\tlearn: 0.4696219\ttotal: 9.86s\tremaining: 742ms\n",
      "930:\tlearn: 0.4695608\ttotal: 9.87s\tremaining: 732ms\n",
      "931:\tlearn: 0.4693707\ttotal: 9.88s\tremaining: 721ms\n",
      "932:\tlearn: 0.4691791\ttotal: 9.89s\tremaining: 710ms\n",
      "933:\tlearn: 0.4690474\ttotal: 9.9s\tremaining: 700ms\n",
      "934:\tlearn: 0.4688600\ttotal: 9.92s\tremaining: 689ms\n",
      "935:\tlearn: 0.4687472\ttotal: 9.93s\tremaining: 679ms\n",
      "936:\tlearn: 0.4686835\ttotal: 9.94s\tremaining: 668ms\n",
      "937:\tlearn: 0.4685886\ttotal: 9.95s\tremaining: 658ms\n",
      "938:\tlearn: 0.4684620\ttotal: 9.96s\tremaining: 647ms\n",
      "939:\tlearn: 0.4683239\ttotal: 9.97s\tremaining: 636ms\n",
      "940:\tlearn: 0.4680576\ttotal: 9.98s\tremaining: 626ms\n",
      "941:\tlearn: 0.4678940\ttotal: 9.99s\tremaining: 615ms\n",
      "942:\tlearn: 0.4677282\ttotal: 10s\tremaining: 605ms\n",
      "943:\tlearn: 0.4676897\ttotal: 10s\tremaining: 594ms\n",
      "944:\tlearn: 0.4676584\ttotal: 10s\tremaining: 584ms\n",
      "945:\tlearn: 0.4675746\ttotal: 10s\tremaining: 573ms\n",
      "946:\tlearn: 0.4674538\ttotal: 10s\tremaining: 562ms\n",
      "947:\tlearn: 0.4673784\ttotal: 10.1s\tremaining: 552ms\n",
      "948:\tlearn: 0.4672939\ttotal: 10.1s\tremaining: 541ms\n",
      "949:\tlearn: 0.4672373\ttotal: 10.1s\tremaining: 530ms\n",
      "950:\tlearn: 0.4670378\ttotal: 10.1s\tremaining: 520ms\n",
      "951:\tlearn: 0.4668654\ttotal: 10.1s\tremaining: 509ms\n",
      "952:\tlearn: 0.4667312\ttotal: 10.1s\tremaining: 499ms\n",
      "953:\tlearn: 0.4666464\ttotal: 10.1s\tremaining: 488ms\n",
      "954:\tlearn: 0.4664699\ttotal: 10.1s\tremaining: 478ms\n",
      "955:\tlearn: 0.4662854\ttotal: 10.2s\tremaining: 467ms\n",
      "956:\tlearn: 0.4661842\ttotal: 10.2s\tremaining: 457ms\n",
      "957:\tlearn: 0.4661125\ttotal: 10.2s\tremaining: 446ms\n",
      "958:\tlearn: 0.4659944\ttotal: 10.2s\tremaining: 435ms\n",
      "959:\tlearn: 0.4658635\ttotal: 10.2s\tremaining: 425ms\n",
      "960:\tlearn: 0.4655921\ttotal: 10.2s\tremaining: 414ms\n",
      "961:\tlearn: 0.4653975\ttotal: 10.2s\tremaining: 404ms\n",
      "962:\tlearn: 0.4652478\ttotal: 10.2s\tremaining: 393ms\n",
      "963:\tlearn: 0.4652227\ttotal: 10.2s\tremaining: 382ms\n",
      "964:\tlearn: 0.4651014\ttotal: 10.2s\tremaining: 372ms\n",
      "965:\tlearn: 0.4648736\ttotal: 10.3s\tremaining: 361ms\n",
      "966:\tlearn: 0.4646798\ttotal: 10.3s\tremaining: 350ms\n",
      "967:\tlearn: 0.4645769\ttotal: 10.3s\tremaining: 340ms\n",
      "968:\tlearn: 0.4644769\ttotal: 10.3s\tremaining: 329ms\n",
      "969:\tlearn: 0.4643527\ttotal: 10.3s\tremaining: 319ms\n",
      "970:\tlearn: 0.4642186\ttotal: 10.3s\tremaining: 308ms\n",
      "971:\tlearn: 0.4641547\ttotal: 10.3s\tremaining: 297ms\n",
      "972:\tlearn: 0.4639843\ttotal: 10.3s\tremaining: 287ms\n",
      "973:\tlearn: 0.4639521\ttotal: 10.3s\tremaining: 276ms\n",
      "974:\tlearn: 0.4638297\ttotal: 10.4s\tremaining: 266ms\n",
      "975:\tlearn: 0.4637533\ttotal: 10.4s\tremaining: 255ms\n",
      "976:\tlearn: 0.4636466\ttotal: 10.4s\tremaining: 244ms\n",
      "977:\tlearn: 0.4635648\ttotal: 10.4s\tremaining: 234ms\n",
      "978:\tlearn: 0.4634836\ttotal: 10.4s\tremaining: 223ms\n",
      "979:\tlearn: 0.4632873\ttotal: 10.4s\tremaining: 212ms\n",
      "980:\tlearn: 0.4631972\ttotal: 10.4s\tremaining: 202ms\n",
      "981:\tlearn: 0.4630080\ttotal: 10.4s\tremaining: 191ms\n",
      "982:\tlearn: 0.4628405\ttotal: 10.4s\tremaining: 181ms\n",
      "983:\tlearn: 0.4627648\ttotal: 10.5s\tremaining: 170ms\n",
      "984:\tlearn: 0.4626484\ttotal: 10.5s\tremaining: 159ms\n",
      "985:\tlearn: 0.4625151\ttotal: 10.5s\tremaining: 149ms\n",
      "986:\tlearn: 0.4623431\ttotal: 10.5s\tremaining: 138ms\n",
      "987:\tlearn: 0.4623001\ttotal: 10.5s\tremaining: 127ms\n",
      "988:\tlearn: 0.4621395\ttotal: 10.5s\tremaining: 117ms\n",
      "989:\tlearn: 0.4620230\ttotal: 10.5s\tremaining: 106ms\n",
      "990:\tlearn: 0.4618517\ttotal: 10.5s\tremaining: 95.6ms\n",
      "991:\tlearn: 0.4617033\ttotal: 10.5s\tremaining: 85ms\n",
      "992:\tlearn: 0.4615471\ttotal: 10.5s\tremaining: 74.3ms\n",
      "993:\tlearn: 0.4614660\ttotal: 10.6s\tremaining: 63.7ms\n",
      "994:\tlearn: 0.4612900\ttotal: 10.6s\tremaining: 53.1ms\n",
      "995:\tlearn: 0.4612216\ttotal: 10.6s\tremaining: 42.5ms\n",
      "996:\tlearn: 0.4611372\ttotal: 10.6s\tremaining: 31.9ms\n",
      "997:\tlearn: 0.4609727\ttotal: 10.6s\tremaining: 21.2ms\n",
      "998:\tlearn: 0.4609215\ttotal: 10.6s\tremaining: 10.6ms\n",
      "999:\tlearn: 0.4608112\ttotal: 10.6s\tremaining: 0us\n",
      "Training MSE:  0.21234691641929634\n",
      "Training R2:  0.6227677341081536\n"
     ]
    }
   ],
   "source": [
    "# Create CatBoost Regressor model\n",
    "\n",
    "from catboost import CatBoostRegressor\n",
    "\n",
    "model = CatBoostRegressor(iterations=1000, learning_rate=0.01, depth=9, early_stopping_rounds=5)\n",
    "\n",
    "# Train the model\n",
    "model.fit(df_x_select, df_y)\n",
    "\n",
    "# Print the training MSE and R2 score\n",
    "print('Training MSE: ', mean_squared_error(df_y, model.predict(df_x_select)))\n",
    "print('Training R2: ', r2_score(df_y, model.predict(df_x_select)))\n",
    "\n",
    "# Save the model\n",
    "pickle.dump(model, open('models/CatBoost_model.pkl', 'wb'))"
   ]
  },
  {
   "cell_type": "code",
   "execution_count": 53,
   "metadata": {},
   "outputs": [
    {
     "name": "stdout",
     "output_type": "stream",
     "text": [
      "   Feature Id  Importances\n",
      "0           5    21.894952\n",
      "1           2    12.524649\n",
      "2           0    12.162969\n",
      "3          16     8.465390\n",
      "4          18     6.273567\n",
      "5           1     5.475982\n",
      "6          17     4.766961\n",
      "7           3     4.489023\n",
      "8          15     4.072326\n",
      "9           4     3.709562\n",
      "10         12     3.091370\n",
      "11         10     3.000073\n",
      "12          7     2.520871\n",
      "13         11     2.184049\n",
      "14          8     1.397741\n",
      "15         13     1.167854\n",
      "16         14     0.915120\n",
      "17          9     0.780057\n",
      "18          6     0.693151\n",
      "19         19     0.414334\n"
     ]
    }
   ],
   "source": [
    "# print catboost weights with the feature names and biases\n",
    "print(model.get_feature_importance(prettified=True)) "
   ]
  },
  {
   "cell_type": "code",
   "execution_count": 51,
   "metadata": {},
   "outputs": [
    {
     "name": "stdout",
     "output_type": "stream",
     "text": [
      "Training MSE:  0.37699880168346217\n",
      "Training R2:  0.33026523485395975\n"
     ]
    }
   ],
   "source": [
    "# Create AdaBoost Regressor model\n",
    "\n",
    "from sklearn.ensemble import AdaBoostRegressor\n",
    "\n",
    "model = AdaBoostRegressor(n_estimators=100, learning_rate=0.01)\n",
    "\n",
    "# Train the model\n",
    "model.fit(df_x_select, df_y)\n",
    "\n",
    "# Print the training MSE and R2 score\n",
    "print('Training MSE: ', mean_squared_error(df_y, model.predict(df_x_select)))\n",
    "print('Training R2: ', r2_score(df_y, model.predict(df_x_select)))\n",
    "\n",
    "# Save the model\n",
    "pickle.dump(model, open('models/AdaBoost_model.pkl', 'wb'))"
   ]
  },
  {
   "attachments": {},
   "cell_type": "markdown",
   "metadata": {},
   "source": [
    "## Done"
   ]
  }
 ],
 "metadata": {
  "kernelspec": {
   "display_name": "base",
   "language": "python",
   "name": "python3"
  },
  "language_info": {
   "codemirror_mode": {
    "name": "ipython",
    "version": 3
   },
   "file_extension": ".py",
   "mimetype": "text/x-python",
   "name": "python",
   "nbconvert_exporter": "python",
   "pygments_lexer": "ipython3",
   "version": "3.9.13"
  },
  "vscode": {
   "interpreter": {
    "hash": "57bc2b6ce032b5f0e93daa91901b7ea38a856826ef43aa9e95b6d3999f5310df"
   }
  }
 },
 "nbformat": 4,
 "nbformat_minor": 0
}
